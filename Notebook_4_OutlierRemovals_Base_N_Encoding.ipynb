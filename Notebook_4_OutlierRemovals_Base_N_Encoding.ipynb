{
  "nbformat": 4,
  "nbformat_minor": 0,
  "metadata": {
    "colab": {
      "name": "Notebook_4_OutlierRemovals_Base N Encoding.ipynb",
      "provenance": [],
      "include_colab_link": true
    },
    "kernelspec": {
      "name": "python3",
      "display_name": "Python 3"
    },
    "language_info": {
      "name": "python"
    }
  },
  "cells": [
    {
      "cell_type": "markdown",
      "metadata": {
        "id": "view-in-github",
        "colab_type": "text"
      },
      "source": [
        "<a href=\"https://colab.research.google.com/github/sainiankur63/Master_Modular_project/blob/main/Notebook_4_OutlierRemovals_Base_N_Encoding.ipynb\" target=\"_parent\"><img src=\"https://colab.research.google.com/assets/colab-badge.svg\" alt=\"Open In Colab\"/></a>"
      ]
    },
    {
      "cell_type": "code",
      "execution_count": 1,
      "metadata": {
        "id": "iI2rr89FzFTZ"
      },
      "outputs": [],
      "source": [
        "!pip install pandas numpy pandas matplotlib seaborn opendatasets --quiet"
      ]
    },
    {
      "cell_type": "code",
      "source": [
        "!pip install imbalanced-learn"
      ],
      "metadata": {
        "colab": {
          "base_uri": "https://localhost:8080/"
        },
        "id": "ry150PZVmhRK",
        "outputId": "d34c5500-938c-4f92-d781-85fca8cc58ce"
      },
      "execution_count": 2,
      "outputs": [
        {
          "output_type": "stream",
          "name": "stdout",
          "text": [
            "Requirement already satisfied: imbalanced-learn in /usr/local/lib/python3.7/dist-packages (0.8.1)\n",
            "Requirement already satisfied: scipy>=0.19.1 in /usr/local/lib/python3.7/dist-packages (from imbalanced-learn) (1.4.1)\n",
            "Requirement already satisfied: scikit-learn>=0.24 in /usr/local/lib/python3.7/dist-packages (from imbalanced-learn) (1.0.2)\n",
            "Requirement already satisfied: joblib>=0.11 in /usr/local/lib/python3.7/dist-packages (from imbalanced-learn) (1.1.0)\n",
            "Requirement already satisfied: numpy>=1.13.3 in /usr/local/lib/python3.7/dist-packages (from imbalanced-learn) (1.21.5)\n",
            "Requirement already satisfied: threadpoolctl>=2.0.0 in /usr/local/lib/python3.7/dist-packages (from scikit-learn>=0.24->imbalanced-learn) (3.1.0)\n"
          ]
        }
      ]
    },
    {
      "cell_type": "code",
      "source": [
        "# To show all columns' names on a large pandas dataframe\n",
        "import pandas as pd\n",
        "pd.set_option('display.max_columns', None)"
      ],
      "metadata": {
        "id": "uM4nK_f1n9zA"
      },
      "execution_count": 3,
      "outputs": []
    },
    {
      "cell_type": "code",
      "source": [
        "import pandas as pd\n",
        "import matplotlib\n",
        "from matplotlib import pyplot as plt\n",
        "%matplotlib inline\n",
        "matplotlib.rcParams['figure.figsize'] = (8,4)"
      ],
      "metadata": {
        "id": "jC_GjB6VzPHO"
      },
      "execution_count": 4,
      "outputs": []
    },
    {
      "cell_type": "code",
      "source": [
        "import opendatasets as od\n",
        "dataset_url = 'https://www.kaggle.com/austinreese/craigslist-carstrucks-data'\n",
        "\n",
        "\n",
        "od.download(dataset_url)\n",
        "\n",
        "data_dir = './craigslist-carstrucks-data'"
      ],
      "metadata": {
        "colab": {
          "base_uri": "https://localhost:8080/"
        },
        "id": "TMhPoH4QzRW1",
        "outputId": "b2223567-90e4-4edb-f3b8-07bf0bc5ae46"
      },
      "execution_count": 5,
      "outputs": [
        {
          "output_type": "stream",
          "name": "stdout",
          "text": [
            "Downloading craigslist-carstrucks-data.zip to ./craigslist-carstrucks-data\n"
          ]
        },
        {
          "output_type": "stream",
          "name": "stderr",
          "text": [
            "100%|██████████| 262M/262M [00:01<00:00, 178MB/s]\n"
          ]
        },
        {
          "output_type": "stream",
          "name": "stdout",
          "text": [
            "\n"
          ]
        }
      ]
    },
    {
      "cell_type": "code",
      "source": [
        ""
      ],
      "metadata": {
        "id": "Y5K4iBiSK4Jk"
      },
      "execution_count": 5,
      "outputs": []
    },
    {
      "cell_type": "code",
      "source": [
        "df = pd.read_csv(data_dir+\"/vehicles.csv\")"
      ],
      "metadata": {
        "id": "l7KZIphhzZeN"
      },
      "execution_count": 6,
      "outputs": []
    },
    {
      "cell_type": "markdown",
      "source": [
        "### **Checking outliers for each labels Outlier Detection**"
      ],
      "metadata": {
        "id": "fQmf_HGoz1x1"
      }
    },
    {
      "cell_type": "code",
      "source": [
        "df.info()"
      ],
      "metadata": {
        "colab": {
          "base_uri": "https://localhost:8080/"
        },
        "id": "myMEV4SBQQoj",
        "outputId": "680ef64c-654a-4664-b0dc-d25a2ca9af37"
      },
      "execution_count": 7,
      "outputs": [
        {
          "output_type": "stream",
          "name": "stdout",
          "text": [
            "<class 'pandas.core.frame.DataFrame'>\n",
            "RangeIndex: 426880 entries, 0 to 426879\n",
            "Data columns (total 26 columns):\n",
            " #   Column        Non-Null Count   Dtype  \n",
            "---  ------        --------------   -----  \n",
            " 0   id            426880 non-null  int64  \n",
            " 1   url           426880 non-null  object \n",
            " 2   region        426880 non-null  object \n",
            " 3   region_url    426880 non-null  object \n",
            " 4   price         426880 non-null  int64  \n",
            " 5   year          425675 non-null  float64\n",
            " 6   manufacturer  409234 non-null  object \n",
            " 7   model         421603 non-null  object \n",
            " 8   condition     252776 non-null  object \n",
            " 9   cylinders     249202 non-null  object \n",
            " 10  fuel          423867 non-null  object \n",
            " 11  odometer      422480 non-null  float64\n",
            " 12  title_status  418638 non-null  object \n",
            " 13  transmission  424324 non-null  object \n",
            " 14  VIN           265838 non-null  object \n",
            " 15  drive         296313 non-null  object \n",
            " 16  size          120519 non-null  object \n",
            " 17  type          334022 non-null  object \n",
            " 18  paint_color   296677 non-null  object \n",
            " 19  image_url     426812 non-null  object \n",
            " 20  description   426810 non-null  object \n",
            " 21  county        0 non-null       float64\n",
            " 22  state         426880 non-null  object \n",
            " 23  lat           420331 non-null  float64\n",
            " 24  long          420331 non-null  float64\n",
            " 25  posting_date  426812 non-null  object \n",
            "dtypes: float64(5), int64(2), object(19)\n",
            "memory usage: 84.7+ MB\n"
          ]
        }
      ]
    },
    {
      "cell_type": "markdown",
      "source": [
        "### **First Checking Outliers for Numeric data columns** <br>\n",
        "Numeric columns : [ price ,year , odometer , lat , long ] <br>\n",
        "\n",
        "Outlier removal in year column\n"
      ],
      "metadata": {
        "id": "f5dW1yuyOCym"
      }
    },
    {
      "cell_type": "code",
      "source": [
        "df['year'].isnull().sum()"
      ],
      "metadata": {
        "colab": {
          "base_uri": "https://localhost:8080/"
        },
        "id": "S9x0paSDzvx1",
        "outputId": "fe54eb5a-6b4b-4230-8230-8f3d1ac00e37"
      },
      "execution_count": 8,
      "outputs": [
        {
          "output_type": "execute_result",
          "data": {
            "text/plain": [
              "1205"
            ]
          },
          "metadata": {},
          "execution_count": 8
        }
      ]
    },
    {
      "cell_type": "code",
      "source": [
        "# checking the distribution of year column\n",
        "import seaborn as sns\n",
        "\n",
        "sns.distplot(df['year'].dropna())"
      ],
      "metadata": {
        "colab": {
          "base_uri": "https://localhost:8080/",
          "height": 351
        },
        "id": "PLthtpAYz_vF",
        "outputId": "e76ff1b2-96f7-414c-caf4-48fb2b7188ed"
      },
      "execution_count": 9,
      "outputs": [
        {
          "output_type": "stream",
          "name": "stderr",
          "text": [
            "/usr/local/lib/python3.7/dist-packages/seaborn/distributions.py:2619: FutureWarning: `distplot` is a deprecated function and will be removed in a future version. Please adapt your code to use either `displot` (a figure-level function with similar flexibility) or `histplot` (an axes-level function for histograms).\n",
            "  warnings.warn(msg, FutureWarning)\n"
          ]
        },
        {
          "output_type": "execute_result",
          "data": {
            "text/plain": [
              "<matplotlib.axes._subplots.AxesSubplot at 0x7f5a963c8ad0>"
            ]
          },
          "metadata": {},
          "execution_count": 9
        },
        {
          "output_type": "display_data",
          "data": {
            "text/plain": [
              "<Figure size 576x288 with 1 Axes>"
            ],
            "image/png": "[encoded data removed]"
          },
          "metadata": {
            "needs_background": "light"
          }
        }
      ]
    },
    {
      "cell_type": "markdown",
      "source": [
        "**Observation:**\n",
        "1. Data is left Skewed"
      ],
      "metadata": {
        "id": "eLq4Fc8ZS7pn"
      }
    },
    {
      "cell_type": "code",
      "source": [
        "#import seaborn as sns\n",
        "#sns.boxplot(df['year'])"
      ],
      "metadata": {
        "id": "cLbYr0237sGr"
      },
      "execution_count": 10,
      "outputs": []
    },
    {
      "cell_type": "code",
      "source": [
        "import seaborn as sns\n",
        "figure=df.boxplot(column=\"year\")"
      ],
      "metadata": {
        "colab": {
          "base_uri": "https://localhost:8080/",
          "height": 265
        },
        "id": "E9EouBLsPUQI",
        "outputId": "a03f4f84-7cef-4be8-c93f-c337a86789f8"
      },
      "execution_count": 11,
      "outputs": [
        {
          "output_type": "display_data",
          "data": {
            "text/plain": [
              "<Figure size 576x288 with 1 Axes>"
            ],
            "image/png": "[encoded data removed]"
          },
          "metadata": {
            "needs_background": "light"
          }
        }
      ]
    },
    {
      "cell_type": "code",
      "source": [
        "# Histogram for year column\n",
        "\n",
        "plt.hist(df.year, bins=20, rwidth=0.8)\n",
        "plt.xlabel('year')\n",
        "plt.ylabel('Count')\n",
        "plt.show()"
      ],
      "metadata": {
        "colab": {
          "base_uri": "https://localhost:8080/",
          "height": 283
        },
        "id": "ts7Wnuhc0JVN",
        "outputId": "02811dee-6be4-416f-f22c-b301201a88e1"
      },
      "execution_count": 12,
      "outputs": [
        {
          "output_type": "display_data",
          "data": {
            "text/plain": [
              "<Figure size 576x288 with 1 Axes>"
            ],
            "image/png": "[encoded data removed]"
          },
          "metadata": {
            "needs_background": "light"
          }
        }
      ]
    },
    {
      "cell_type": "code",
      "source": [
        "df['year'].describe()"
      ],
      "metadata": {
        "colab": {
          "base_uri": "https://localhost:8080/"
        },
        "id": "YL9mBJuMR6Cf",
        "outputId": "f65f5dbb-8468-41de-a609-c5bd6d4e3490"
      },
      "execution_count": 13,
      "outputs": [
        {
          "output_type": "execute_result",
          "data": {
            "text/plain": [
              "count    425675.000000\n",
              "mean       2011.235191\n",
              "std           9.452120\n",
              "min        1900.000000\n",
              "25%        2008.000000\n",
              "50%        2013.000000\n",
              "75%        2017.000000\n",
              "max        2022.000000\n",
              "Name: year, dtype: float64"
            ]
          },
          "metadata": {},
          "execution_count": 13
        }
      ]
    },
    {
      "cell_type": "markdown",
      "source": [
        "As per the above graphs it is clearly shows that data of year is left skewed. \n",
        "For skewed Data , IQR techniqie is implement to remove outliers"
      ],
      "metadata": {
        "id": "R1Ccuiph03F_"
      }
    },
    {
      "cell_type": "code",
      "source": [
        "#### Lets compute the Interquantile range to calculate the boundaries\n",
        "IQR=df.year.quantile(0.75)-df.year.quantile(0.25)"
      ],
      "metadata": {
        "id": "bMlmvUHRVIsV"
      },
      "execution_count": 14,
      "outputs": []
    },
    {
      "cell_type": "code",
      "source": [
        "lower_lim_year = df['year'].quantile(0.25)-(IQR*1.5)\n",
        "upper_lim_year = df['year'].quantile(0.75)+(IQR*1.5)\n",
        "print(lower_lim_year), print(upper_lim_year)"
      ],
      "metadata": {
        "colab": {
          "base_uri": "https://localhost:8080/"
        },
        "id": "REg-qnGEVJ-n",
        "outputId": "26259b01-c4d6-4eb7-cf9a-3b156072779c"
      },
      "execution_count": 15,
      "outputs": [
        {
          "output_type": "stream",
          "name": "stdout",
          "text": [
            "1994.5\n",
            "2030.5\n"
          ]
        },
        {
          "output_type": "execute_result",
          "data": {
            "text/plain": [
              "(None, None)"
            ]
          },
          "metadata": {},
          "execution_count": 15
        }
      ]
    },
    {
      "cell_type": "code",
      "source": [
        "#### Extreme outliers\n",
        "#lower_bridge=df['year'].quantile(0.25)-(IQR*3)\n",
        "#upper_bridge=df['year'].quantile(0.75)+(IQR*3)\n",
        "#print(lower_bridge), print(upper_bridge)\n",
        "\n",
        "df.describe().applymap(lambda x: f\"{x:0.3f}\")"
      ],
      "metadata": {
        "colab": {
          "base_uri": "https://localhost:8080/",
          "height": 300
        },
        "id": "Swuo0clTV6F3",
        "outputId": "4146a037-98f8-462e-f8ce-736ced3cf596"
      },
      "execution_count": 16,
      "outputs": [
        {
          "output_type": "execute_result",
          "data": {
            "text/plain": [
              "                   id           price        year      odometer county  \\\n",
              "count      426880.000      426880.000  425675.000    422480.000  0.000   \n",
              "mean   7311486634.224       75199.033    2011.235     98043.331    nan   \n",
              "std       4473170.413    12182282.174       9.452    213881.501    nan   \n",
              "min    7207408119.000           0.000    1900.000         0.000    nan   \n",
              "25%    7308143339.250        5900.000    2008.000     37704.000    nan   \n",
              "50%    7312620821.000       13950.000    2013.000     85548.000    nan   \n",
              "75%    7315253543.500       26485.750    2017.000    133542.500    nan   \n",
              "max    7317101084.000  3736928711.000    2022.000  10000000.000    nan   \n",
              "\n",
              "              lat        long  \n",
              "count  420331.000  420331.000  \n",
              "mean       38.494     -94.749  \n",
              "std         5.842      18.365  \n",
              "min       -84.122    -159.828  \n",
              "25%        34.602    -111.940  \n",
              "50%        39.150     -88.433  \n",
              "75%        42.399     -80.832  \n",
              "max        82.391     173.886  "
            ],
            "text/html": [
              "\n",
              "  <div id=\"df-1579b7f6-b455-4634-8c22-e5f9abb1305b\">\n",
              "    <div class=\"colab-df-container\">\n",
              "      <div>\n",
              "<style scoped>\n",
              "    .dataframe tbody tr th:only-of-type {\n",
              "        vertical-align: middle;\n",
              "    }\n",
              "\n",
              "    .dataframe tbody tr th {\n",
              "        vertical-align: top;\n",
              "    }\n",
              "\n",
              "    .dataframe thead th {\n",
              "        text-align: right;\n",
              "    }\n",
              "</style>\n",
              "<table border=\"1\" class=\"dataframe\">\n",
              "  <thead>\n",
              "    <tr style=\"text-align: right;\">\n",
              "      <th></th>\n",
              "      <th>id</th>\n",
              "      <th>price</th>\n",
              "      <th>year</th>\n",
              "      <th>odometer</th>\n",
              "      <th>county</th>\n",
              "      <th>lat</th>\n",
              "      <th>long</th>\n",
              "    </tr>\n",
              "  </thead>\n",
              "  <tbody>\n",
              "    <tr>\n",
              "      <th>count</th>\n",
              "      <td>426880.000</td>\n",
              "      <td>426880.000</td>\n",
              "      <td>425675.000</td>\n",
              "      <td>422480.000</td>\n",
              "      <td>0.000</td>\n",
              "      <td>420331.000</td>\n",
              "      <td>420331.000</td>\n",
              "    </tr>\n",
              "    <tr>\n",
              "      <th>mean</th>\n",
              "      <td>7311486634.224</td>\n",
              "      <td>75199.033</td>\n",
              "      <td>2011.235</td>\n",
              "      <td>98043.331</td>\n",
              "      <td>nan</td>\n",
              "      <td>38.494</td>\n",
              "      <td>-94.749</td>\n",
              "    </tr>\n",
              "    <tr>\n",
              "      <th>std</th>\n",
              "      <td>4473170.413</td>\n",
              "      <td>12182282.174</td>\n",
              "      <td>9.452</td>\n",
              "      <td>213881.501</td>\n",
              "      <td>nan</td>\n",
              "      <td>5.842</td>\n",
              "      <td>18.365</td>\n",
              "    </tr>\n",
              "    <tr>\n",
              "      <th>min</th>\n",
              "      <td>7207408119.000</td>\n",
              "      <td>0.000</td>\n",
              "      <td>1900.000</td>\n",
              "      <td>0.000</td>\n",
              "      <td>nan</td>\n",
              "      <td>-84.122</td>\n",
              "      <td>-159.828</td>\n",
              "    </tr>\n",
              "    <tr>\n",
              "      <th>25%</th>\n",
              "      <td>7308143339.250</td>\n",
              "      <td>5900.000</td>\n",
              "      <td>2008.000</td>\n",
              "      <td>37704.000</td>\n",
              "      <td>nan</td>\n",
              "      <td>34.602</td>\n",
              "      <td>-111.940</td>\n",
              "    </tr>\n",
              "    <tr>\n",
              "      <th>50%</th>\n",
              "      <td>7312620821.000</td>\n",
              "      <td>13950.000</td>\n",
              "      <td>2013.000</td>\n",
              "      <td>85548.000</td>\n",
              "      <td>nan</td>\n",
              "      <td>39.150</td>\n",
              "      <td>-88.433</td>\n",
              "    </tr>\n",
              "    <tr>\n",
              "      <th>75%</th>\n",
              "      <td>7315253543.500</td>\n",
              "      <td>26485.750</td>\n",
              "      <td>2017.000</td>\n",
              "      <td>133542.500</td>\n",
              "      <td>nan</td>\n",
              "      <td>42.399</td>\n",
              "      <td>-80.832</td>\n",
              "    </tr>\n",
              "    <tr>\n",
              "      <th>max</th>\n",
              "      <td>7317101084.000</td>\n",
              "      <td>3736928711.000</td>\n",
              "      <td>2022.000</td>\n",
              "      <td>10000000.000</td>\n",
              "      <td>nan</td>\n",
              "      <td>82.391</td>\n",
              "      <td>173.886</td>\n",
              "    </tr>\n",
              "  </tbody>\n",
              "</table>\n",
              "</div>\n",
              "      <button class=\"colab-df-convert\" onclick=\"convertToInteractive('df-1579b7f6-b455-4634-8c22-e5f9abb1305b')\"\n",
              "              title=\"Convert this dataframe to an interactive table.\"\n",
              "              style=\"display:none;\">\n",
              "        \n",
              "  <svg xmlns=\"http://www.w3.org/2000/svg\" height=\"24px\"viewBox=\"0 0 24 24\"\n",
              "       width=\"24px\">\n",
              "    <path d=\"M0 0h24v24H0V0z\" fill=\"none\"/>\n",
              "    <path d=\"M18.56 5.44l.94 2.06.94-2.06 2.06-.94-2.06-.94-.94-2.06-.94 2.06-2.06.94zm-11 1L8.5 8.5l.94-2.06 2.06-.94-2.06-.94L8.5 2.5l-.94 2.06-2.06.94zm10 10l.94 2.06.94-2.06 2.06-.94-2.06-.94-.94-2.06-.94 2.06-2.06.94z\"/><path d=\"M17.41 7.96l-1.37-1.37c-.4-.4-.92-.59-1.43-.59-.52 0-1.04.2-1.43.59L10.3 9.45l-7.72 7.72c-.78.78-.78 2.05 0 2.83L4 21.41c.39.39.9.59 1.41.59.51 0 1.02-.2 1.41-.59l7.78-7.78 2.81-2.81c.8-.78.8-2.07 0-2.86zM5.41 20L4 18.59l7.72-7.72 1.47 1.35L5.41 20z\"/>\n",
              "  </svg>\n",
              "      </button>\n",
              "      \n",
              "  <style>\n",
              "    .colab-df-container {\n",
              "      display:flex;\n",
              "      flex-wrap:wrap;\n",
              "      gap: 12px;\n",
              "    }\n",
              "\n",
              "    .colab-df-convert {\n",
              "      background-color: #E8F0FE;\n",
              "      border: none;\n",
              "      border-radius: 50%;\n",
              "      cursor: pointer;\n",
              "      display: none;\n",
              "      fill: #1967D2;\n",
              "      height: 32px;\n",
              "      padding: 0 0 0 0;\n",
              "      width: 32px;\n",
              "    }\n",
              "\n",
              "    .colab-df-convert:hover {\n",
              "      background-color: #E2EBFA;\n",
              "      box-shadow: 0px 1px 2px rgba(60, 64, 67, 0.3), 0px 1px 3px 1px rgba(60, 64, 67, 0.15);\n",
              "      fill: #174EA6;\n",
              "    }\n",
              "\n",
              "    [theme=dark] .colab-df-convert {\n",
              "      background-color: #3B4455;\n",
              "      fill: #D2E3FC;\n",
              "    }\n",
              "\n",
              "    [theme=dark] .colab-df-convert:hover {\n",
              "      background-color: #434B5C;\n",
              "      box-shadow: 0px 1px 3px 1px rgba(0, 0, 0, 0.15);\n",
              "      filter: drop-shadow(0px 1px 2px rgba(0, 0, 0, 0.3));\n",
              "      fill: #FFFFFF;\n",
              "    }\n",
              "  </style>\n",
              "\n",
              "      <script>\n",
              "        const buttonEl =\n",
              "          document.querySelector('#df-1579b7f6-b455-4634-8c22-e5f9abb1305b button.colab-df-convert');\n",
              "        buttonEl.style.display =\n",
              "          google.colab.kernel.accessAllowed ? 'block' : 'none';\n",
              "\n",
              "        async function convertToInteractive(key) {\n",
              "          const element = document.querySelector('#df-1579b7f6-b455-4634-8c22-e5f9abb1305b');\n",
              "          const dataTable =\n",
              "            await google.colab.kernel.invokeFunction('convertToInteractive',\n",
              "                                                     [key], {});\n",
              "          if (!dataTable) return;\n",
              "\n",
              "          const docLinkHtml = 'Like what you see? Visit the ' +\n",
              "            '<a target=\"_blank\" href=https://colab.research.google.com/notebooks/data_table.ipynb>data table notebook</a>'\n",
              "            + ' to learn more about interactive tables.';\n",
              "          element.innerHTML = '';\n",
              "          dataTable['output_type'] = 'display_data';\n",
              "          await google.colab.output.renderOutput(dataTable, element);\n",
              "          const docLink = document.createElement('div');\n",
              "          docLink.innerHTML = docLinkHtml;\n",
              "          element.appendChild(docLink);\n",
              "        }\n",
              "      </script>\n",
              "    </div>\n",
              "  </div>\n",
              "  "
            ]
          },
          "metadata": {},
          "execution_count": 16
        }
      ]
    },
    {
      "cell_type": "code",
      "source": [
        "#Q1 = df.year.quantile(0.25)\n",
        "#Q3 = df.year.quantile(0.75)\n",
        "#Q1, Q3"
      ],
      "metadata": {
        "id": "CAloWRq10QVd"
      },
      "execution_count": 17,
      "outputs": []
    },
    {
      "cell_type": "code",
      "source": [
        "#IQR = Q3 - Q1\n",
        "#IQR"
      ],
      "metadata": {
        "id": "aLuw3V-_05eP"
      },
      "execution_count": 18,
      "outputs": []
    },
    {
      "cell_type": "code",
      "source": [
        "#lower_limit = Q1 - 1.5*IQR\n",
        "#upper_limit = Q3 + 1.5*IQR\n",
        "#lower_limit, upper_limit"
      ],
      "metadata": {
        "id": "Hio3EYxI1Jt6"
      },
      "execution_count": 19,
      "outputs": []
    },
    {
      "cell_type": "code",
      "source": [
        "df.shape"
      ],
      "metadata": {
        "colab": {
          "base_uri": "https://localhost:8080/"
        },
        "id": "SYVOAjaCUBcK",
        "outputId": "1ef905d8-1d81-4abc-8aa4-2fa842a8396d"
      },
      "execution_count": 20,
      "outputs": [
        {
          "output_type": "execute_result",
          "data": {
            "text/plain": [
              "(426880, 26)"
            ]
          },
          "metadata": {},
          "execution_count": 20
        }
      ]
    },
    {
      "cell_type": "code",
      "source": [
        "# Removing Outliers in year c\n",
        "\n",
        "df = df[(df['year'] >= lower_lim_year) & (df['year'] <= upper_lim_year)]"
      ],
      "metadata": {
        "id": "yky5TGvw1SoB"
      },
      "execution_count": 21,
      "outputs": []
    },
    {
      "cell_type": "code",
      "source": [
        "print(\"Shape of dataset after Outliers removal in YEAR column : \",len(df))"
      ],
      "metadata": {
        "id": "BM4RdVav1aGZ",
        "colab": {
          "base_uri": "https://localhost:8080/"
        },
        "outputId": "5e1369f8-871f-4789-a48b-8e020c1a9907"
      },
      "execution_count": 22,
      "outputs": [
        {
          "output_type": "stream",
          "name": "stdout",
          "text": [
            "Shape of dataset after Outliers removal in YEAR column :  409779\n"
          ]
        }
      ]
    },
    {
      "cell_type": "code",
      "source": [
        "print(\"Total no of data points dropped : \",426880 - 409779)\n"
      ],
      "metadata": {
        "colab": {
          "base_uri": "https://localhost:8080/"
        },
        "id": "xgt1C2jSXTAd",
        "outputId": "adf6034f-d731-4eaa-bd79-c9b98068dee4"
      },
      "execution_count": 23,
      "outputs": [
        {
          "output_type": "stream",
          "name": "stdout",
          "text": [
            "Total no of data points dropped :  17101\n"
          ]
        }
      ]
    },
    {
      "cell_type": "markdown",
      "source": [
        "**Outlier removal for odometer column**"
      ],
      "metadata": {
        "id": "n7Xj1Hb6X3zc"
      }
    },
    {
      "cell_type": "code",
      "source": [
        "# checking the distribution of odometer column\n",
        "\n",
        "import seaborn as sns\n",
        "\n",
        "sns.distplot(df['odometer'].dropna())"
      ],
      "metadata": {
        "colab": {
          "base_uri": "https://localhost:8080/",
          "height": 362
        },
        "id": "5QVpaaOf8Rzx",
        "outputId": "ccb59975-9eb4-4d9d-f32c-c8d9b20320a1"
      },
      "execution_count": 24,
      "outputs": [
        {
          "output_type": "stream",
          "name": "stderr",
          "text": [
            "/usr/local/lib/python3.7/dist-packages/seaborn/distributions.py:2619: FutureWarning: `distplot` is a deprecated function and will be removed in a future version. Please adapt your code to use either `displot` (a figure-level function with similar flexibility) or `histplot` (an axes-level function for histograms).\n",
            "  warnings.warn(msg, FutureWarning)\n"
          ]
        },
        {
          "output_type": "execute_result",
          "data": {
            "text/plain": [
              "<matplotlib.axes._subplots.AxesSubplot at 0x7f5aaf09f4d0>"
            ]
          },
          "metadata": {},
          "execution_count": 24
        },
        {
          "output_type": "display_data",
          "data": {
            "text/plain": [
              "<Figure size 576x288 with 1 Axes>"
            ],
            "image/png": "[encoded data removed]"
          },
          "metadata": {
            "needs_background": "light"
          }
        }
      ]
    },
    {
      "cell_type": "code",
      "source": [
        "# creating boxplot for odometer column\n",
        "\n",
        "plt.hist(df.odometer, bins=20, rwidth=0.8)      \n",
        "plt.xlabel('odometer')\n",
        "plt.ylabel('Count')\n",
        "plt.show()"
      ],
      "metadata": {
        "colab": {
          "base_uri": "https://localhost:8080/",
          "height": 279
        },
        "id": "k_IGMFk98cfX",
        "outputId": "41c1badd-84c9-4ae4-c7eb-85d6a50d693c"
      },
      "execution_count": 25,
      "outputs": [
        {
          "output_type": "display_data",
          "data": {
            "text/plain": [
              "<Figure size 576x288 with 1 Axes>"
            ],
            "image/png": "[encoded data removed]"
          },
          "metadata": {
            "needs_background": "light"
          }
        }
      ]
    },
    {
      "cell_type": "code",
      "source": [
        "df.describe().applymap(lambda x: f\"{x:0.3f}\")"
      ],
      "metadata": {
        "colab": {
          "base_uri": "https://localhost:8080/",
          "height": 300
        },
        "id": "KpnEro87EBWV",
        "outputId": "6a202f63-5fd8-4265-f249-94192358a343"
      },
      "execution_count": 26,
      "outputs": [
        {
          "output_type": "execute_result",
          "data": {
            "text/plain": [
              "                   id           price        year      odometer county  \\\n",
              "count      409779.000      409779.000  409779.000    405487.000  0.000   \n",
              "mean   7311476996.593       68467.508    2012.636     95939.186    nan   \n",
              "std       4382678.369    12037220.314       5.465    160097.929    nan   \n",
              "min    7301583321.000           0.000    1995.000         0.000    nan   \n",
              "25%    7308093514.000        5975.000    2009.000     38123.000    nan   \n",
              "50%    7312571619.000       13995.000    2014.000     86190.000    nan   \n",
              "75%    7315242212.500       26590.000    2017.000    134000.000    nan   \n",
              "max    7317101084.000  3736928711.000    2022.000  10000000.000    nan   \n",
              "\n",
              "              lat        long  \n",
              "count  403335.000  403335.000  \n",
              "mean       38.499     -94.661  \n",
              "std         5.846      18.368  \n",
              "min       -84.122    -159.828  \n",
              "25%        34.620    -111.939  \n",
              "50%        39.160     -88.241  \n",
              "75%        42.426     -80.830  \n",
              "max        82.253     173.886  "
            ],
            "text/html": [
              "\n",
              "  <div id=\"df-d7cb56dc-06cc-4f69-9596-d25ca1f59d4e\">\n",
              "    <div class=\"colab-df-container\">\n",
              "      <div>\n",
              "<style scoped>\n",
              "    .dataframe tbody tr th:only-of-type {\n",
              "        vertical-align: middle;\n",
              "    }\n",
              "\n",
              "    .dataframe tbody tr th {\n",
              "        vertical-align: top;\n",
              "    }\n",
              "\n",
              "    .dataframe thead th {\n",
              "        text-align: right;\n",
              "    }\n",
              "</style>\n",
              "<table border=\"1\" class=\"dataframe\">\n",
              "  <thead>\n",
              "    <tr style=\"text-align: right;\">\n",
              "      <th></th>\n",
              "      <th>id</th>\n",
              "      <th>price</th>\n",
              "      <th>year</th>\n",
              "      <th>odometer</th>\n",
              "      <th>county</th>\n",
              "      <th>lat</th>\n",
              "      <th>long</th>\n",
              "    </tr>\n",
              "  </thead>\n",
              "  <tbody>\n",
              "    <tr>\n",
              "      <th>count</th>\n",
              "      <td>409779.000</td>\n",
              "      <td>409779.000</td>\n",
              "      <td>409779.000</td>\n",
              "      <td>405487.000</td>\n",
              "      <td>0.000</td>\n",
              "      <td>403335.000</td>\n",
              "      <td>403335.000</td>\n",
              "    </tr>\n",
              "    <tr>\n",
              "      <th>mean</th>\n",
              "      <td>7311476996.593</td>\n",
              "      <td>68467.508</td>\n",
              "      <td>2012.636</td>\n",
              "      <td>95939.186</td>\n",
              "      <td>nan</td>\n",
              "      <td>38.499</td>\n",
              "      <td>-94.661</td>\n",
              "    </tr>\n",
              "    <tr>\n",
              "      <th>std</th>\n",
              "      <td>4382678.369</td>\n",
              "      <td>12037220.314</td>\n",
              "      <td>5.465</td>\n",
              "      <td>160097.929</td>\n",
              "      <td>nan</td>\n",
              "      <td>5.846</td>\n",
              "      <td>18.368</td>\n",
              "    </tr>\n",
              "    <tr>\n",
              "      <th>min</th>\n",
              "      <td>7301583321.000</td>\n",
              "      <td>0.000</td>\n",
              "      <td>1995.000</td>\n",
              "      <td>0.000</td>\n",
              "      <td>nan</td>\n",
              "      <td>-84.122</td>\n",
              "      <td>-159.828</td>\n",
              "    </tr>\n",
              "    <tr>\n",
              "      <th>25%</th>\n",
              "      <td>7308093514.000</td>\n",
              "      <td>5975.000</td>\n",
              "      <td>2009.000</td>\n",
              "      <td>38123.000</td>\n",
              "      <td>nan</td>\n",
              "      <td>34.620</td>\n",
              "      <td>-111.939</td>\n",
              "    </tr>\n",
              "    <tr>\n",
              "      <th>50%</th>\n",
              "      <td>7312571619.000</td>\n",
              "      <td>13995.000</td>\n",
              "      <td>2014.000</td>\n",
              "      <td>86190.000</td>\n",
              "      <td>nan</td>\n",
              "      <td>39.160</td>\n",
              "      <td>-88.241</td>\n",
              "    </tr>\n",
              "    <tr>\n",
              "      <th>75%</th>\n",
              "      <td>7315242212.500</td>\n",
              "      <td>26590.000</td>\n",
              "      <td>2017.000</td>\n",
              "      <td>134000.000</td>\n",
              "      <td>nan</td>\n",
              "      <td>42.426</td>\n",
              "      <td>-80.830</td>\n",
              "    </tr>\n",
              "    <tr>\n",
              "      <th>max</th>\n",
              "      <td>7317101084.000</td>\n",
              "      <td>3736928711.000</td>\n",
              "      <td>2022.000</td>\n",
              "      <td>10000000.000</td>\n",
              "      <td>nan</td>\n",
              "      <td>82.253</td>\n",
              "      <td>173.886</td>\n",
              "    </tr>\n",
              "  </tbody>\n",
              "</table>\n",
              "</div>\n",
              "      <button class=\"colab-df-convert\" onclick=\"convertToInteractive('df-d7cb56dc-06cc-4f69-9596-d25ca1f59d4e')\"\n",
              "              title=\"Convert this dataframe to an interactive table.\"\n",
              "              style=\"display:none;\">\n",
              "        \n",
              "  <svg xmlns=\"http://www.w3.org/2000/svg\" height=\"24px\"viewBox=\"0 0 24 24\"\n",
              "       width=\"24px\">\n",
              "    <path d=\"M0 0h24v24H0V0z\" fill=\"none\"/>\n",
              "    <path d=\"M18.56 5.44l.94 2.06.94-2.06 2.06-.94-2.06-.94-.94-2.06-.94 2.06-2.06.94zm-11 1L8.5 8.5l.94-2.06 2.06-.94-2.06-.94L8.5 2.5l-.94 2.06-2.06.94zm10 10l.94 2.06.94-2.06 2.06-.94-2.06-.94-.94-2.06-.94 2.06-2.06.94z\"/><path d=\"M17.41 7.96l-1.37-1.37c-.4-.4-.92-.59-1.43-.59-.52 0-1.04.2-1.43.59L10.3 9.45l-7.72 7.72c-.78.78-.78 2.05 0 2.83L4 21.41c.39.39.9.59 1.41.59.51 0 1.02-.2 1.41-.59l7.78-7.78 2.81-2.81c.8-.78.8-2.07 0-2.86zM5.41 20L4 18.59l7.72-7.72 1.47 1.35L5.41 20z\"/>\n",
              "  </svg>\n",
              "      </button>\n",
              "      \n",
              "  <style>\n",
              "    .colab-df-container {\n",
              "      display:flex;\n",
              "      flex-wrap:wrap;\n",
              "      gap: 12px;\n",
              "    }\n",
              "\n",
              "    .colab-df-convert {\n",
              "      background-color: #E8F0FE;\n",
              "      border: none;\n",
              "      border-radius: 50%;\n",
              "      cursor: pointer;\n",
              "      display: none;\n",
              "      fill: #1967D2;\n",
              "      height: 32px;\n",
              "      padding: 0 0 0 0;\n",
              "      width: 32px;\n",
              "    }\n",
              "\n",
              "    .colab-df-convert:hover {\n",
              "      background-color: #E2EBFA;\n",
              "      box-shadow: 0px 1px 2px rgba(60, 64, 67, 0.3), 0px 1px 3px 1px rgba(60, 64, 67, 0.15);\n",
              "      fill: #174EA6;\n",
              "    }\n",
              "\n",
              "    [theme=dark] .colab-df-convert {\n",
              "      background-color: #3B4455;\n",
              "      fill: #D2E3FC;\n",
              "    }\n",
              "\n",
              "    [theme=dark] .colab-df-convert:hover {\n",
              "      background-color: #434B5C;\n",
              "      box-shadow: 0px 1px 3px 1px rgba(0, 0, 0, 0.15);\n",
              "      filter: drop-shadow(0px 1px 2px rgba(0, 0, 0, 0.3));\n",
              "      fill: #FFFFFF;\n",
              "    }\n",
              "  </style>\n",
              "\n",
              "      <script>\n",
              "        const buttonEl =\n",
              "          document.querySelector('#df-d7cb56dc-06cc-4f69-9596-d25ca1f59d4e button.colab-df-convert');\n",
              "        buttonEl.style.display =\n",
              "          google.colab.kernel.accessAllowed ? 'block' : 'none';\n",
              "\n",
              "        async function convertToInteractive(key) {\n",
              "          const element = document.querySelector('#df-d7cb56dc-06cc-4f69-9596-d25ca1f59d4e');\n",
              "          const dataTable =\n",
              "            await google.colab.kernel.invokeFunction('convertToInteractive',\n",
              "                                                     [key], {});\n",
              "          if (!dataTable) return;\n",
              "\n",
              "          const docLinkHtml = 'Like what you see? Visit the ' +\n",
              "            '<a target=\"_blank\" href=https://colab.research.google.com/notebooks/data_table.ipynb>data table notebook</a>'\n",
              "            + ' to learn more about interactive tables.';\n",
              "          element.innerHTML = '';\n",
              "          dataTable['output_type'] = 'display_data';\n",
              "          await google.colab.output.renderOutput(dataTable, element);\n",
              "          const docLink = document.createElement('div');\n",
              "          docLink.innerHTML = docLinkHtml;\n",
              "          element.appendChild(docLink);\n",
              "        }\n",
              "      </script>\n",
              "    </div>\n",
              "  </div>\n",
              "  "
            ]
          },
          "metadata": {},
          "execution_count": 26
        }
      ]
    },
    {
      "cell_type": "code",
      "source": [
        "figure=df.boxplot(column=\"odometer\")"
      ],
      "metadata": {
        "colab": {
          "base_uri": "https://localhost:8080/",
          "height": 276
        },
        "id": "-8EpjGuGX9op",
        "outputId": "a1baa760-13e2-4bf9-a387-48af30a0b87a"
      },
      "execution_count": 27,
      "outputs": [
        {
          "output_type": "display_data",
          "data": {
            "text/plain": [
              "<Figure size 576x288 with 1 Axes>"
            ],
            "image/png": "[encoded data removed]"
          },
          "metadata": {
            "needs_background": "light"
          }
        }
      ]
    },
    {
      "cell_type": "code",
      "source": [
        "sns.boxplot(df['odometer'])"
      ],
      "metadata": {
        "colab": {
          "base_uri": "https://localhost:8080/",
          "height": 351
        },
        "id": "vNgsP-eoYRWi",
        "outputId": "c376d4d9-aee6-49cc-ad50-2c40ed525699"
      },
      "execution_count": 28,
      "outputs": [
        {
          "output_type": "stream",
          "name": "stderr",
          "text": [
            "/usr/local/lib/python3.7/dist-packages/seaborn/_decorators.py:43: FutureWarning: Pass the following variable as a keyword arg: x. From version 0.12, the only valid positional argument will be `data`, and passing other arguments without an explicit keyword will result in an error or misinterpretation.\n",
            "  FutureWarning\n"
          ]
        },
        {
          "output_type": "execute_result",
          "data": {
            "text/plain": [
              "<matplotlib.axes._subplots.AxesSubplot at 0x7f5aaa39a910>"
            ]
          },
          "metadata": {},
          "execution_count": 28
        },
        {
          "output_type": "display_data",
          "data": {
            "text/plain": [
              "<Figure size 576x288 with 1 Axes>"
            ],
            "image/png": "[encoded data removed]"
          },
          "metadata": {
            "needs_background": "light"
          }
        }
      ]
    },
    {
      "cell_type": "markdown",
      "source": [
        "Odometer data is right skewed as per the above graphs. To tackle this data , IQR techinique is implemented"
      ],
      "metadata": {
        "id": "qm7e6hlWY4fC"
      }
    },
    {
      "cell_type": "code",
      "source": [
        "lower_lim_odometer = df['odometer'].quantile(0.25)-(IQR*1.5)\n",
        "upper_lim_odometer = df['odometer'].quantile(0.75)+(IQR*1.5)\n",
        "print(lower_lim_odometer), print(upper_lim_odometer)"
      ],
      "metadata": {
        "id": "ZaMtsSkzYYDp",
        "colab": {
          "base_uri": "https://localhost:8080/"
        },
        "outputId": "1a3d9bc5-c635-416a-d7da-a023a6325de3"
      },
      "execution_count": 29,
      "outputs": [
        {
          "output_type": "stream",
          "name": "stdout",
          "text": [
            "38109.5\n",
            "134013.5\n"
          ]
        },
        {
          "output_type": "execute_result",
          "data": {
            "text/plain": [
              "(None, None)"
            ]
          },
          "metadata": {},
          "execution_count": 29
        }
      ]
    },
    {
      "cell_type": "code",
      "source": [
        "df.shape"
      ],
      "metadata": {
        "colab": {
          "base_uri": "https://localhost:8080/"
        },
        "id": "d0mVmpjgZWlB",
        "outputId": "d6e9a3d6-b2bb-4b59-a281-6e739ebffa28"
      },
      "execution_count": 30,
      "outputs": [
        {
          "output_type": "execute_result",
          "data": {
            "text/plain": [
              "(409779, 26)"
            ]
          },
          "metadata": {},
          "execution_count": 30
        }
      ]
    },
    {
      "cell_type": "code",
      "source": [
        "# Removing Outliers in year c\n",
        "\n",
        "df = df[(df['odometer'] >= lower_lim_odometer) & (df['odometer'] <= upper_lim_odometer)]"
      ],
      "metadata": {
        "id": "Si6kwb2dZaqn"
      },
      "execution_count": 31,
      "outputs": []
    },
    {
      "cell_type": "code",
      "source": [
        "df.odometer.max()"
      ],
      "metadata": {
        "colab": {
          "base_uri": "https://localhost:8080/"
        },
        "id": "RIu2Pty6baQQ",
        "outputId": "1451dd41-ba1c-4e63-dbff-f20a9b38432d"
      },
      "execution_count": 32,
      "outputs": [
        {
          "output_type": "execute_result",
          "data": {
            "text/plain": [
              "134012.0"
            ]
          },
          "metadata": {},
          "execution_count": 32
        }
      ]
    },
    {
      "cell_type": "code",
      "source": [
        "print(\"Shape of dataset after Outliers removal in odometer column : \",len(df))"
      ],
      "metadata": {
        "colab": {
          "base_uri": "https://localhost:8080/"
        },
        "id": "LtHXDgnVZhtd",
        "outputId": "39dfde53-749a-4ef2-ec74-0d295f8eb461"
      },
      "execution_count": 33,
      "outputs": [
        {
          "output_type": "stream",
          "name": "stdout",
          "text": [
            "Shape of dataset after Outliers removal in odometer column :  202814\n"
          ]
        }
      ]
    },
    {
      "cell_type": "code",
      "source": [
        "print(\"Total no of data points dropped : \",421344 - 210705)"
      ],
      "metadata": {
        "colab": {
          "base_uri": "https://localhost:8080/"
        },
        "id": "I6HgKAstZnV_",
        "outputId": "b99942c6-1452-46c5-8cd8-b99937d64a02"
      },
      "execution_count": 34,
      "outputs": [
        {
          "output_type": "stream",
          "name": "stdout",
          "text": [
            "Total no of data points dropped :  210639\n"
          ]
        }
      ]
    },
    {
      "cell_type": "code",
      "source": [
        "df.describe().applymap(lambda x: f\"{x:0.3f}\")"
      ],
      "metadata": {
        "colab": {
          "base_uri": "https://localhost:8080/",
          "height": 300
        },
        "id": "L_LSSz9UZvHB",
        "outputId": "7d1c63c7-1f3d-48ae-fd0d-b56b2b091c93"
      },
      "execution_count": 35,
      "outputs": [
        {
          "output_type": "execute_result",
          "data": {
            "text/plain": [
              "                   id           price        year    odometer county  \\\n",
              "count      202814.000      202814.000  202814.000  202814.000  0.000   \n",
              "mean   7311514728.489       48482.856    2012.789   85623.300    nan   \n",
              "std       4342947.182     9511909.922       4.440   27451.815    nan   \n",
              "min    7301583321.000           0.000    1995.000   38110.000    nan   \n",
              "25%    7308204162.250        6999.000    2011.000   62269.000    nan   \n",
              "50%    7312626407.500       13967.000    2014.000   86200.000    nan   \n",
              "75%    7315202621.000       23500.000    2016.000  108539.000    nan   \n",
              "max    7317098055.000  3024942282.000    2022.000  134012.000    nan   \n",
              "\n",
              "              lat        long  \n",
              "count  198683.000  198683.000  \n",
              "mean       38.580     -94.997  \n",
              "std         5.867      18.747  \n",
              "min       -81.838    -159.828  \n",
              "25%        34.829    -114.465  \n",
              "50%        39.315     -89.230  \n",
              "75%        42.483     -80.392  \n",
              "max        77.861     167.630  "
            ],
            "text/html": [
              "\n",
              "  <div id=\"df-d3b6363a-2765-4a24-a2db-efdd7a683897\">\n",
              "    <div class=\"colab-df-container\">\n",
              "      <div>\n",
              "<style scoped>\n",
              "    .dataframe tbody tr th:only-of-type {\n",
              "        vertical-align: middle;\n",
              "    }\n",
              "\n",
              "    .dataframe tbody tr th {\n",
              "        vertical-align: top;\n",
              "    }\n",
              "\n",
              "    .dataframe thead th {\n",
              "        text-align: right;\n",
              "    }\n",
              "</style>\n",
              "<table border=\"1\" class=\"dataframe\">\n",
              "  <thead>\n",
              "    <tr style=\"text-align: right;\">\n",
              "      <th></th>\n",
              "      <th>id</th>\n",
              "      <th>price</th>\n",
              "      <th>year</th>\n",
              "      <th>odometer</th>\n",
              "      <th>county</th>\n",
              "      <th>lat</th>\n",
              "      <th>long</th>\n",
              "    </tr>\n",
              "  </thead>\n",
              "  <tbody>\n",
              "    <tr>\n",
              "      <th>count</th>\n",
              "      <td>202814.000</td>\n",
              "      <td>202814.000</td>\n",
              "      <td>202814.000</td>\n",
              "      <td>202814.000</td>\n",
              "      <td>0.000</td>\n",
              "      <td>198683.000</td>\n",
              "      <td>198683.000</td>\n",
              "    </tr>\n",
              "    <tr>\n",
              "      <th>mean</th>\n",
              "      <td>7311514728.489</td>\n",
              "      <td>48482.856</td>\n",
              "      <td>2012.789</td>\n",
              "      <td>85623.300</td>\n",
              "      <td>nan</td>\n",
              "      <td>38.580</td>\n",
              "      <td>-94.997</td>\n",
              "    </tr>\n",
              "    <tr>\n",
              "      <th>std</th>\n",
              "      <td>4342947.182</td>\n",
              "      <td>9511909.922</td>\n",
              "      <td>4.440</td>\n",
              "      <td>27451.815</td>\n",
              "      <td>nan</td>\n",
              "      <td>5.867</td>\n",
              "      <td>18.747</td>\n",
              "    </tr>\n",
              "    <tr>\n",
              "      <th>min</th>\n",
              "      <td>7301583321.000</td>\n",
              "      <td>0.000</td>\n",
              "      <td>1995.000</td>\n",
              "      <td>38110.000</td>\n",
              "      <td>nan</td>\n",
              "      <td>-81.838</td>\n",
              "      <td>-159.828</td>\n",
              "    </tr>\n",
              "    <tr>\n",
              "      <th>25%</th>\n",
              "      <td>7308204162.250</td>\n",
              "      <td>6999.000</td>\n",
              "      <td>2011.000</td>\n",
              "      <td>62269.000</td>\n",
              "      <td>nan</td>\n",
              "      <td>34.829</td>\n",
              "      <td>-114.465</td>\n",
              "    </tr>\n",
              "    <tr>\n",
              "      <th>50%</th>\n",
              "      <td>7312626407.500</td>\n",
              "      <td>13967.000</td>\n",
              "      <td>2014.000</td>\n",
              "      <td>86200.000</td>\n",
              "      <td>nan</td>\n",
              "      <td>39.315</td>\n",
              "      <td>-89.230</td>\n",
              "    </tr>\n",
              "    <tr>\n",
              "      <th>75%</th>\n",
              "      <td>7315202621.000</td>\n",
              "      <td>23500.000</td>\n",
              "      <td>2016.000</td>\n",
              "      <td>108539.000</td>\n",
              "      <td>nan</td>\n",
              "      <td>42.483</td>\n",
              "      <td>-80.392</td>\n",
              "    </tr>\n",
              "    <tr>\n",
              "      <th>max</th>\n",
              "      <td>7317098055.000</td>\n",
              "      <td>3024942282.000</td>\n",
              "      <td>2022.000</td>\n",
              "      <td>134012.000</td>\n",
              "      <td>nan</td>\n",
              "      <td>77.861</td>\n",
              "      <td>167.630</td>\n",
              "    </tr>\n",
              "  </tbody>\n",
              "</table>\n",
              "</div>\n",
              "      <button class=\"colab-df-convert\" onclick=\"convertToInteractive('df-d3b6363a-2765-4a24-a2db-efdd7a683897')\"\n",
              "              title=\"Convert this dataframe to an interactive table.\"\n",
              "              style=\"display:none;\">\n",
              "        \n",
              "  <svg xmlns=\"http://www.w3.org/2000/svg\" height=\"24px\"viewBox=\"0 0 24 24\"\n",
              "       width=\"24px\">\n",
              "    <path d=\"M0 0h24v24H0V0z\" fill=\"none\"/>\n",
              "    <path d=\"M18.56 5.44l.94 2.06.94-2.06 2.06-.94-2.06-.94-.94-2.06-.94 2.06-2.06.94zm-11 1L8.5 8.5l.94-2.06 2.06-.94-2.06-.94L8.5 2.5l-.94 2.06-2.06.94zm10 10l.94 2.06.94-2.06 2.06-.94-2.06-.94-.94-2.06-.94 2.06-2.06.94z\"/><path d=\"M17.41 7.96l-1.37-1.37c-.4-.4-.92-.59-1.43-.59-.52 0-1.04.2-1.43.59L10.3 9.45l-7.72 7.72c-.78.78-.78 2.05 0 2.83L4 21.41c.39.39.9.59 1.41.59.51 0 1.02-.2 1.41-.59l7.78-7.78 2.81-2.81c.8-.78.8-2.07 0-2.86zM5.41 20L4 18.59l7.72-7.72 1.47 1.35L5.41 20z\"/>\n",
              "  </svg>\n",
              "      </button>\n",
              "      \n",
              "  <style>\n",
              "    .colab-df-container {\n",
              "      display:flex;\n",
              "      flex-wrap:wrap;\n",
              "      gap: 12px;\n",
              "    }\n",
              "\n",
              "    .colab-df-convert {\n",
              "      background-color: #E8F0FE;\n",
              "      border: none;\n",
              "      border-radius: 50%;\n",
              "      cursor: pointer;\n",
              "      display: none;\n",
              "      fill: #1967D2;\n",
              "      height: 32px;\n",
              "      padding: 0 0 0 0;\n",
              "      width: 32px;\n",
              "    }\n",
              "\n",
              "    .colab-df-convert:hover {\n",
              "      background-color: #E2EBFA;\n",
              "      box-shadow: 0px 1px 2px rgba(60, 64, 67, 0.3), 0px 1px 3px 1px rgba(60, 64, 67, 0.15);\n",
              "      fill: #174EA6;\n",
              "    }\n",
              "\n",
              "    [theme=dark] .colab-df-convert {\n",
              "      background-color: #3B4455;\n",
              "      fill: #D2E3FC;\n",
              "    }\n",
              "\n",
              "    [theme=dark] .colab-df-convert:hover {\n",
              "      background-color: #434B5C;\n",
              "      box-shadow: 0px 1px 3px 1px rgba(0, 0, 0, 0.15);\n",
              "      filter: drop-shadow(0px 1px 2px rgba(0, 0, 0, 0.3));\n",
              "      fill: #FFFFFF;\n",
              "    }\n",
              "  </style>\n",
              "\n",
              "      <script>\n",
              "        const buttonEl =\n",
              "          document.querySelector('#df-d3b6363a-2765-4a24-a2db-efdd7a683897 button.colab-df-convert');\n",
              "        buttonEl.style.display =\n",
              "          google.colab.kernel.accessAllowed ? 'block' : 'none';\n",
              "\n",
              "        async function convertToInteractive(key) {\n",
              "          const element = document.querySelector('#df-d3b6363a-2765-4a24-a2db-efdd7a683897');\n",
              "          const dataTable =\n",
              "            await google.colab.kernel.invokeFunction('convertToInteractive',\n",
              "                                                     [key], {});\n",
              "          if (!dataTable) return;\n",
              "\n",
              "          const docLinkHtml = 'Like what you see? Visit the ' +\n",
              "            '<a target=\"_blank\" href=https://colab.research.google.com/notebooks/data_table.ipynb>data table notebook</a>'\n",
              "            + ' to learn more about interactive tables.';\n",
              "          element.innerHTML = '';\n",
              "          dataTable['output_type'] = 'display_data';\n",
              "          await google.colab.output.renderOutput(dataTable, element);\n",
              "          const docLink = document.createElement('div');\n",
              "          docLink.innerHTML = docLinkHtml;\n",
              "          element.appendChild(docLink);\n",
              "        }\n",
              "      </script>\n",
              "    </div>\n",
              "  </div>\n",
              "  "
            ]
          },
          "metadata": {},
          "execution_count": 35
        }
      ]
    },
    {
      "cell_type": "code",
      "source": [
        "df.info()"
      ],
      "metadata": {
        "colab": {
          "base_uri": "https://localhost:8080/"
        },
        "id": "bZNaXRwVZxbm",
        "outputId": "757ca933-1569-4853-ab9f-4e7e9ba12c27"
      },
      "execution_count": 36,
      "outputs": [
        {
          "output_type": "stream",
          "name": "stdout",
          "text": [
            "<class 'pandas.core.frame.DataFrame'>\n",
            "Int64Index: 202814 entries, 27 to 426869\n",
            "Data columns (total 26 columns):\n",
            " #   Column        Non-Null Count   Dtype  \n",
            "---  ------        --------------   -----  \n",
            " 0   id            202814 non-null  int64  \n",
            " 1   url           202814 non-null  object \n",
            " 2   region        202814 non-null  object \n",
            " 3   region_url    202814 non-null  object \n",
            " 4   price         202814 non-null  int64  \n",
            " 5   year          202814 non-null  float64\n",
            " 6   manufacturer  196985 non-null  object \n",
            " 7   model         201298 non-null  object \n",
            " 8   condition     111951 non-null  object \n",
            " 9   cylinders     122066 non-null  object \n",
            " 10  fuel          201660 non-null  object \n",
            " 11  odometer      202814 non-null  float64\n",
            " 12  title_status  198602 non-null  object \n",
            " 13  transmission  201922 non-null  object \n",
            " 14  VIN           132751 non-null  object \n",
            " 15  drive         144612 non-null  object \n",
            " 16  size          60311 non-null   object \n",
            " 17  type          161638 non-null  object \n",
            " 18  paint_color   142818 non-null  object \n",
            " 19  image_url     202814 non-null  object \n",
            " 20  description   202814 non-null  object \n",
            " 21  county        0 non-null       float64\n",
            " 22  state         202814 non-null  object \n",
            " 23  lat           198683 non-null  float64\n",
            " 24  long          198683 non-null  float64\n",
            " 25  posting_date  202814 non-null  object \n",
            "dtypes: float64(5), int64(2), object(19)\n",
            "memory usage: 41.8+ MB\n"
          ]
        }
      ]
    },
    {
      "cell_type": "code",
      "source": [
        "# df.to_csv('Vehicles_WithoutOulier.csv')"
      ],
      "metadata": {
        "id": "kRSu_BxjZ9KS"
      },
      "execution_count": 37,
      "outputs": []
    },
    {
      "cell_type": "markdown",
      "source": [
        "**Exploratory Data Analysis (EDA)**\n",
        "\n",
        "In Data Analysis What All Things We Do\n",
        "1. Missing Values\n",
        "2. Explore About the Numerical Variables\n",
        "3. Explore About categorical Variables\n",
        "4. Finding Relationship between features"
      ],
      "metadata": {
        "id": "fKSHyX9mjKlL"
      }
    },
    {
      "cell_type": "code",
      "source": [
        "df.shape"
      ],
      "metadata": {
        "colab": {
          "base_uri": "https://localhost:8080/"
        },
        "id": "Bt3R_N45aIXo",
        "outputId": "82fe3099-3761-41b0-b57e-fc8fe6765eba"
      },
      "execution_count": 38,
      "outputs": [
        {
          "output_type": "execute_result",
          "data": {
            "text/plain": [
              "(202814, 26)"
            ]
          },
          "metadata": {},
          "execution_count": 38
        }
      ]
    },
    {
      "cell_type": "code",
      "source": [
        "# features with null values\n",
        "\n",
        "[features for features in df.columns if df[features].isnull().sum()>0]"
      ],
      "metadata": {
        "colab": {
          "base_uri": "https://localhost:8080/"
        },
        "id": "92rv_tZ3jbVF",
        "outputId": "86e45763-65ca-481e-bf00-9b6bfd7548bb"
      },
      "execution_count": 39,
      "outputs": [
        {
          "output_type": "execute_result",
          "data": {
            "text/plain": [
              "['manufacturer',\n",
              " 'model',\n",
              " 'condition',\n",
              " 'cylinders',\n",
              " 'fuel',\n",
              " 'title_status',\n",
              " 'transmission',\n",
              " 'VIN',\n",
              " 'drive',\n",
              " 'size',\n",
              " 'type',\n",
              " 'paint_color',\n",
              " 'county',\n",
              " 'lat',\n",
              " 'long']"
            ]
          },
          "metadata": {},
          "execution_count": 39
        }
      ]
    },
    {
      "cell_type": "code",
      "source": [
        "# creating a graph to check null values\n",
        "\n",
        "plt.figure(figsize=(12,8))\n",
        "sns.heatmap(df.isnull(),yticklabels=False,cbar=False,cmap='viridis')"
      ],
      "metadata": {
        "colab": {
          "base_uri": "https://localhost:8080/",
          "height": 558
        },
        "id": "B5E_B8CPjd5A",
        "outputId": "ac0e8a06-873e-4ae7-f2fb-f1a824f4ad61"
      },
      "execution_count": 40,
      "outputs": [
        {
          "output_type": "execute_result",
          "data": {
            "text/plain": [
              "<matplotlib.axes._subplots.AxesSubplot at 0x7f5a9627b150>"
            ]
          },
          "metadata": {},
          "execution_count": 40
        },
        {
          "output_type": "display_data",
          "data": {
            "text/plain": [
              "<Figure size 864x576 with 1 Axes>"
            ],
            "image/png": "[encoded data removed]"
          },
          "metadata": {
            "needs_background": "light"
          }
        }
      ]
    },
    {
      "cell_type": "markdown",
      "source": [
        "Country column contains all null values , Drop the column\n",
        "\n"
      ],
      "metadata": {
        "id": "5NqrbBWJkTKM"
      }
    },
    {
      "cell_type": "code",
      "source": [
        "df['county'].isnull().sum()"
      ],
      "metadata": {
        "colab": {
          "base_uri": "https://localhost:8080/"
        },
        "id": "_52qVflxj1k6",
        "outputId": "b93c4c91-bde5-4167-ee15-3ed4e7b292f9"
      },
      "execution_count": 41,
      "outputs": [
        {
          "output_type": "execute_result",
          "data": {
            "text/plain": [
              "202814"
            ]
          },
          "metadata": {},
          "execution_count": 41
        }
      ]
    },
    {
      "cell_type": "code",
      "source": [
        "df.drop('county',axis =1 , inplace = True)"
      ],
      "metadata": {
        "id": "KTJVwz9rkas_"
      },
      "execution_count": 42,
      "outputs": []
    },
    {
      "cell_type": "code",
      "source": [
        "# Removing the missing percentages greater than zero.\n",
        "missing_percentages =df.isna().sum().sort_values(ascending=False)/len(df) \n",
        "missing_percentages[missing_percentages!=0]"
      ],
      "metadata": {
        "colab": {
          "base_uri": "https://localhost:8080/"
        },
        "id": "6IWkJRdxmkVz",
        "outputId": "460715e8-0c1a-4ffc-925f-2d550c99a7fe"
      },
      "execution_count": 43,
      "outputs": [
        {
          "output_type": "execute_result",
          "data": {
            "text/plain": [
              "size            0.702629\n",
              "condition       0.448011\n",
              "cylinders       0.398138\n",
              "VIN             0.345454\n",
              "paint_color     0.295818\n",
              "drive           0.286972\n",
              "type            0.203023\n",
              "manufacturer    0.028741\n",
              "title_status    0.020768\n",
              "long            0.020368\n",
              "lat             0.020368\n",
              "model           0.007475\n",
              "fuel            0.005690\n",
              "transmission    0.004398\n",
              "dtype: float64"
            ]
          },
          "metadata": {},
          "execution_count": 43
        }
      ]
    },
    {
      "cell_type": "code",
      "source": [
        "# Plot a graph to check missing percentages \n",
        "plt.figure(figsize=(10,6))\n",
        "missing_percentages[missing_percentages!=0].plot(kind='barh')\n",
        "plt.title(\"Graph for NULL data in percentage \")\n",
        "plt.xlabel(\"% of missing values\")\n",
        "plt.ylabel(\"Features\")"
      ],
      "metadata": {
        "colab": {
          "base_uri": "https://localhost:8080/",
          "height": 422
        },
        "id": "hXFVAgMmm3vD",
        "outputId": "66eede1f-66b5-407b-b547-04a723bdb22e"
      },
      "execution_count": 44,
      "outputs": [
        {
          "output_type": "execute_result",
          "data": {
            "text/plain": [
              "Text(0, 0.5, 'Features')"
            ]
          },
          "metadata": {},
          "execution_count": 44
        },
        {
          "output_type": "display_data",
          "data": {
            "text/plain": [
              "<Figure size 720x432 with 1 Axes>"
            ],
            "image/png": "[encoded data removed]"
          },
          "metadata": {
            "needs_background": "light"
          }
        }
      ]
    },
    {
      "cell_type": "markdown",
      "source": [
        "**TRANSMISSION**"
      ],
      "metadata": {
        "id": "hMtASvqs9cxx"
      }
    },
    {
      "cell_type": "code",
      "source": [
        "# transmission column\n",
        "\n",
        "df['transmission'].isnull().sum()"
      ],
      "metadata": {
        "colab": {
          "base_uri": "https://localhost:8080/"
        },
        "id": "mpqeqd6lm4Vd",
        "outputId": "22bb0a87-b2aa-4607-eb25-c51e73279ba1"
      },
      "execution_count": 45,
      "outputs": [
        {
          "output_type": "execute_result",
          "data": {
            "text/plain": [
              "892"
            ]
          },
          "metadata": {},
          "execution_count": 45
        }
      ]
    },
    {
      "cell_type": "code",
      "source": [
        "df['transmission'].value_counts()"
      ],
      "metadata": {
        "colab": {
          "base_uri": "https://localhost:8080/"
        },
        "id": "wODKQzmInHmM",
        "outputId": "aa23c940-f1dc-4d4c-8846-aee8805b5a07"
      },
      "execution_count": 46,
      "outputs": [
        {
          "output_type": "execute_result",
          "data": {
            "text/plain": [
              "automatic    173871\n",
              "other         18604\n",
              "manual         9447\n",
              "Name: transmission, dtype: int64"
            ]
          },
          "metadata": {},
          "execution_count": 46
        }
      ]
    },
    {
      "cell_type": "code",
      "source": [
        "# Replacing null values in transmission column\n",
        "\n",
        "df['transmission'] = df['transmission'].fillna(df.transmission.mode()[0])"
      ],
      "metadata": {
        "id": "emudYvKdnNqT"
      },
      "execution_count": 47,
      "outputs": []
    },
    {
      "cell_type": "code",
      "source": [
        "print(\"Number of null values :\" ,df.transmission.isnull().sum())\n",
        "print(df.transmission.value_counts())"
      ],
      "metadata": {
        "colab": {
          "base_uri": "https://localhost:8080/"
        },
        "id": "ZUKUvJc1n02r",
        "outputId": "580b2d96-de63-400a-c37e-66dd17b3214d"
      },
      "execution_count": 48,
      "outputs": [
        {
          "output_type": "stream",
          "name": "stdout",
          "text": [
            "Number of null values : 0\n",
            "automatic    174763\n",
            "other         18604\n",
            "manual         9447\n",
            "Name: transmission, dtype: int64\n"
          ]
        }
      ]
    },
    {
      "cell_type": "code",
      "source": [
        "## Pie Chart for transmission column\n",
        "\n",
        "plt.figure(figsize=(10,6))\n",
        "plt.pie(df.transmission.value_counts().values,labels=df.transmission.value_counts().index,autopct='%1.2f%%')\n",
        "plt.show()"
      ],
      "metadata": {
        "colab": {
          "base_uri": "https://localhost:8080/",
          "height": 357
        },
        "id": "v9GB3rcHDPLt",
        "outputId": "c3fc3d79-b86d-4b30-a696-87e387143ebb"
      },
      "execution_count": 49,
      "outputs": [
        {
          "output_type": "display_data",
          "data": {
            "text/plain": [
              "<Figure size 720x432 with 1 Axes>"
            ],
            "image/png": "[encoded data removed]"
          },
          "metadata": {}
        }
      ]
    },
    {
      "cell_type": "code",
      "source": [
        "# Transmission looks like an Ordinal data . Here will use Label Encoding\n",
        "\n",
        "from sklearn import preprocessing\n",
        "\n",
        "LabelEncoding = preprocessing.LabelEncoder()\n",
        "\n",
        "df['transmission'] = LabelEncoding.fit_transform(df['transmission'])"
      ],
      "metadata": {
        "id": "uY4bzkBo1qsT"
      },
      "execution_count": 50,
      "outputs": []
    },
    {
      "cell_type": "code",
      "source": [
        "df['transmission'].value_counts()"
      ],
      "metadata": {
        "colab": {
          "base_uri": "https://localhost:8080/"
        },
        "id": "T5DYjYDI58Tl",
        "outputId": "8e8b68e8-1ea9-494b-a3d2-5a78a3af2d44"
      },
      "execution_count": 51,
      "outputs": [
        {
          "output_type": "execute_result",
          "data": {
            "text/plain": [
              "0    174763\n",
              "2     18604\n",
              "1      9447\n",
              "Name: transmission, dtype: int64"
            ]
          },
          "metadata": {},
          "execution_count": 51
        }
      ]
    },
    {
      "cell_type": "code",
      "source": [
        "# Removing the missing percentages greater than zero.\n",
        "missing_percentages =df.isna().sum().sort_values(ascending=False)/len(df) \n",
        "missing_percentages[missing_percentages!=0]\n",
        "\n",
        "# Plot a graph to check missing percentages \n",
        "plt.figure(figsize=(10,6))\n",
        "missing_percentages[missing_percentages!=0].plot(kind='barh')\n",
        "plt.title(\"Graph for NULL data in percentage \")\n",
        "plt.xlabel(\"% of missing values\")\n",
        "plt.ylabel(\"Features\")"
      ],
      "metadata": {
        "colab": {
          "base_uri": "https://localhost:8080/",
          "height": 422
        },
        "id": "cvUms7_n6viI",
        "outputId": "e12240f9-f9f1-441f-a1a9-5fd45ac22961"
      },
      "execution_count": 52,
      "outputs": [
        {
          "output_type": "execute_result",
          "data": {
            "text/plain": [
              "Text(0, 0.5, 'Features')"
            ]
          },
          "metadata": {},
          "execution_count": 52
        },
        {
          "output_type": "display_data",
          "data": {
            "text/plain": [
              "<Figure size 720x432 with 1 Axes>"
            ],
            "image/png": "[encoded data removed]"
          },
          "metadata": {
            "needs_background": "light"
          }
        }
      ]
    },
    {
      "cell_type": "markdown",
      "source": [
        "**FUEL**"
      ],
      "metadata": {
        "id": "UfCa7q5Y9g_t"
      }
    },
    {
      "cell_type": "code",
      "source": [
        "df['fuel'].isnull().sum()"
      ],
      "metadata": {
        "colab": {
          "base_uri": "https://localhost:8080/"
        },
        "id": "dWgDd7iT6y_W",
        "outputId": "cb16c8a0-18db-4922-cf37-2f1ff34e3746"
      },
      "execution_count": 53,
      "outputs": [
        {
          "output_type": "execute_result",
          "data": {
            "text/plain": [
              "1154"
            ]
          },
          "metadata": {},
          "execution_count": 53
        }
      ]
    },
    {
      "cell_type": "code",
      "source": [
        "df['fuel'].value_counts()"
      ],
      "metadata": {
        "colab": {
          "base_uri": "https://localhost:8080/"
        },
        "id": "IzDfNH8a9lUZ",
        "outputId": "896f32b9-31b4-47ad-8914-29cc9157f59d"
      },
      "execution_count": 54,
      "outputs": [
        {
          "output_type": "execute_result",
          "data": {
            "text/plain": [
              "gas         173474\n",
              "diesel       12733\n",
              "other        12234\n",
              "hybrid        2570\n",
              "electric       649\n",
              "Name: fuel, dtype: int64"
            ]
          },
          "metadata": {},
          "execution_count": 54
        }
      ]
    },
    {
      "cell_type": "code",
      "source": [
        "len (df[~ ((df['fuel'] == 'other') | (df['fuel'] == 'gas') | (df['fuel'] == 'diesel') | (df['fuel'] == 'hybrid') | (df['fuel'] == 'electric')) ])"
      ],
      "metadata": {
        "colab": {
          "base_uri": "https://localhost:8080/"
        },
        "id": "Uld8TezW_y5c",
        "outputId": "d2aa325b-ef9a-4a89-9594-462ed568f74b"
      },
      "execution_count": 55,
      "outputs": [
        {
          "output_type": "execute_result",
          "data": {
            "text/plain": [
              "1154"
            ]
          },
          "metadata": {},
          "execution_count": 55
        }
      ]
    },
    {
      "cell_type": "code",
      "source": [
        "df.transmission.mode()"
      ],
      "metadata": {
        "colab": {
          "base_uri": "https://localhost:8080/"
        },
        "id": "_G7lGd4X_y8s",
        "outputId": "6249a9fd-a8f6-4a0e-9951-4a2504c45931"
      },
      "execution_count": 56,
      "outputs": [
        {
          "output_type": "execute_result",
          "data": {
            "text/plain": [
              "0    0\n",
              "dtype: int64"
            ]
          },
          "metadata": {},
          "execution_count": 56
        }
      ]
    },
    {
      "cell_type": "code",
      "source": [
        "# Replacing null values in fuel column\n",
        "\n",
        "df['fuel'] = df['fuel'].fillna('gas')"
      ],
      "metadata": {
        "id": "FLkM1Hrz9saX"
      },
      "execution_count": 57,
      "outputs": []
    },
    {
      "cell_type": "code",
      "source": [
        "len (df[~ ((df['fuel'] == 'other') | (df['fuel'] == 'gas') | (df['fuel'] == 'diesel') | (df['fuel'] == 'hybrid') | (df['fuel'] == 'electric')) ])"
      ],
      "metadata": {
        "colab": {
          "base_uri": "https://localhost:8080/"
        },
        "id": "JBA2Ji7DBaIh",
        "outputId": "b42f7377-4d55-4fbf-af28-89464fd26975"
      },
      "execution_count": 58,
      "outputs": [
        {
          "output_type": "execute_result",
          "data": {
            "text/plain": [
              "0"
            ]
          },
          "metadata": {},
          "execution_count": 58
        }
      ]
    },
    {
      "cell_type": "code",
      "source": [
        "print(\"Number of null values :\" ,df.fuel.isnull().sum())\n",
        "print(df.fuel.value_counts())"
      ],
      "metadata": {
        "colab": {
          "base_uri": "https://localhost:8080/"
        },
        "id": "0kmJmxGE9-xt",
        "outputId": "4038e3b6-43fb-4e39-fed2-3bf65febcae6"
      },
      "execution_count": 59,
      "outputs": [
        {
          "output_type": "stream",
          "name": "stdout",
          "text": [
            "Number of null values : 0\n",
            "gas         174628\n",
            "diesel       12733\n",
            "other        12234\n",
            "hybrid        2570\n",
            "electric       649\n",
            "Name: fuel, dtype: int64\n"
          ]
        }
      ]
    },
    {
      "cell_type": "code",
      "source": [
        "## Pie Chart for fuel column\n",
        "\n",
        "plt.figure(figsize=(10,6))\n",
        "plt.pie(df.fuel.value_counts().values,labels=df.fuel.value_counts().index,autopct='%1.2f%%')\n",
        "plt.show()"
      ],
      "metadata": {
        "colab": {
          "base_uri": "https://localhost:8080/",
          "height": 357
        },
        "id": "T0wXWZU0D_kF",
        "outputId": "44be5f3b-8c33-47fb-a070-81be13c7b901"
      },
      "execution_count": 60,
      "outputs": [
        {
          "output_type": "display_data",
          "data": {
            "text/plain": [
              "<Figure size 720x432 with 1 Axes>"
            ],
            "image/png": "[encoded data removed]"
          },
          "metadata": {}
        }
      ]
    },
    {
      "cell_type": "code",
      "source": [
        "# fuel looks like an Ordinal data . Here will use Label Encoding\n",
        "\n",
        "from sklearn import preprocessing\n",
        "\n",
        "LabelEncoding = preprocessing.LabelEncoder()\n",
        "\n",
        "df['fuel'] = LabelEncoding.fit_transform(df['fuel'])"
      ],
      "metadata": {
        "id": "ihunPup8-BF1"
      },
      "execution_count": 61,
      "outputs": []
    },
    {
      "cell_type": "code",
      "source": [
        "df['fuel'].value_counts()"
      ],
      "metadata": {
        "colab": {
          "base_uri": "https://localhost:8080/"
        },
        "id": "3nhmEGCY-KmG",
        "outputId": "5311b059-3d15-4ea7-d157-4d34b2657cd1"
      },
      "execution_count": 62,
      "outputs": [
        {
          "output_type": "execute_result",
          "data": {
            "text/plain": [
              "2    174628\n",
              "0     12733\n",
              "4     12234\n",
              "3      2570\n",
              "1       649\n",
              "Name: fuel, dtype: int64"
            ]
          },
          "metadata": {},
          "execution_count": 62
        }
      ]
    },
    {
      "cell_type": "code",
      "source": [
        "# Removing the missing percentages greater than zero.\n",
        "missing_percentages =df.isna().sum().sort_values(ascending=False)/len(df) \n",
        "\n",
        "\n",
        "# Plot a graph to check missing percentages \n",
        "plt.figure(figsize=(10,6))\n",
        "missing_percentages[missing_percentages!=0].plot(kind='barh')\n",
        "plt.title(\"Graph for NULL data in percentage \")\n",
        "plt.xlabel(\"% of missing values\")\n",
        "plt.ylabel(\"Features\")"
      ],
      "metadata": {
        "colab": {
          "base_uri": "https://localhost:8080/",
          "height": 422
        },
        "id": "ATQXnpvR_V0G",
        "outputId": "414d5988-8afd-4032-a91a-154dd2eb41fd"
      },
      "execution_count": 63,
      "outputs": [
        {
          "output_type": "execute_result",
          "data": {
            "text/plain": [
              "Text(0, 0.5, 'Features')"
            ]
          },
          "metadata": {},
          "execution_count": 63
        },
        {
          "output_type": "display_data",
          "data": {
            "text/plain": [
              "<Figure size 720x432 with 1 Axes>"
            ],
            "image/png": "[encoded data removed]"
          },
          "metadata": {
            "needs_background": "light"
          }
        }
      ]
    },
    {
      "cell_type": "markdown",
      "source": [
        "MODEL"
      ],
      "metadata": {
        "id": "wvK1gtubB4Gp"
      }
    },
    {
      "cell_type": "code",
      "source": [
        "df['model'].isnull().sum()"
      ],
      "metadata": {
        "colab": {
          "base_uri": "https://localhost:8080/"
        },
        "id": "3MVyi9kHBvFX",
        "outputId": "c9d2b605-5d4d-4e93-ab51-c4dd746db788"
      },
      "execution_count": 64,
      "outputs": [
        {
          "output_type": "execute_result",
          "data": {
            "text/plain": [
              "1516"
            ]
          },
          "metadata": {},
          "execution_count": 64
        }
      ]
    },
    {
      "cell_type": "code",
      "source": [
        "len(df['model'].unique())"
      ],
      "metadata": {
        "colab": {
          "base_uri": "https://localhost:8080/"
        },
        "id": "_Rqe20n0B85C",
        "outputId": "74ff361f-45eb-4fd7-8106-c8205c6cf571"
      },
      "execution_count": 65,
      "outputs": [
        {
          "output_type": "execute_result",
          "data": {
            "text/plain": [
              "15663"
            ]
          },
          "metadata": {},
          "execution_count": 65
        }
      ]
    },
    {
      "cell_type": "markdown",
      "source": [
        "Model column contains 15663 unique values , will drop this column for now"
      ],
      "metadata": {
        "id": "snb4sRhHCaXe"
      }
    },
    {
      "cell_type": "code",
      "source": [
        "df.drop('model', axis=1 , inplace=True)"
      ],
      "metadata": {
        "id": "_FfhFmCbCL4Z"
      },
      "execution_count": 66,
      "outputs": []
    },
    {
      "cell_type": "code",
      "source": [
        "# Removing the missing percentages greater than zero.\n",
        "missing_percentages =df.isna().sum().sort_values(ascending=False)/len(df) \n",
        "\n",
        "\n",
        "# Plot a graph to check missing percentages \n",
        "plt.figure(figsize=(10,6))\n",
        "missing_percentages[missing_percentages!=0].plot(kind='barh')\n",
        "plt.title(\"Graph for NULL data in percentage \")\n",
        "plt.xlabel(\"% of missing values\")\n",
        "plt.ylabel(\"Features\")"
      ],
      "metadata": {
        "colab": {
          "base_uri": "https://localhost:8080/",
          "height": 422
        },
        "id": "UHnfn7-WCnSW",
        "outputId": "ea6c1cd7-4153-4b9c-958d-f31df06d1780"
      },
      "execution_count": 67,
      "outputs": [
        {
          "output_type": "execute_result",
          "data": {
            "text/plain": [
              "Text(0, 0.5, 'Features')"
            ]
          },
          "metadata": {},
          "execution_count": 67
        },
        {
          "output_type": "display_data",
          "data": {
            "text/plain": [
              "<Figure size 720x432 with 1 Axes>"
            ],
            "image/png": "[encoded data removed]"
          },
          "metadata": {
            "needs_background": "light"
          }
        }
      ]
    },
    {
      "cell_type": "markdown",
      "source": [
        "**Drop Unnecessary columns for now**\n",
        "1. id\n",
        "2. url\n",
        "3. region\n",
        "4. region_url\n",
        "5. VIN\n",
        "6. image_url\n",
        "7. description\n",
        "8. state\n",
        "9. lat\n",
        "10. long\n",
        "11. posting_date\n"
      ],
      "metadata": {
        "id": "9f7u8u6cEtTT"
      }
    },
    {
      "cell_type": "code",
      "source": [
        "df.drop(['id','url','region','region_url','VIN','image_url','description','state','lat','long','posting_date'], axis =1 , inplace = True)"
      ],
      "metadata": {
        "id": "buS6dibACpZu"
      },
      "execution_count": 68,
      "outputs": []
    },
    {
      "cell_type": "code",
      "source": [
        "df.info()"
      ],
      "metadata": {
        "colab": {
          "base_uri": "https://localhost:8080/"
        },
        "id": "AtwUEh9EE2c9",
        "outputId": "fb92ed1d-5e0a-43e0-a22e-c33e5f70680f"
      },
      "execution_count": 69,
      "outputs": [
        {
          "output_type": "stream",
          "name": "stdout",
          "text": [
            "<class 'pandas.core.frame.DataFrame'>\n",
            "Int64Index: 202814 entries, 27 to 426869\n",
            "Data columns (total 13 columns):\n",
            " #   Column        Non-Null Count   Dtype  \n",
            "---  ------        --------------   -----  \n",
            " 0   price         202814 non-null  int64  \n",
            " 1   year          202814 non-null  float64\n",
            " 2   manufacturer  196985 non-null  object \n",
            " 3   condition     111951 non-null  object \n",
            " 4   cylinders     122066 non-null  object \n",
            " 5   fuel          202814 non-null  int64  \n",
            " 6   odometer      202814 non-null  float64\n",
            " 7   title_status  198602 non-null  object \n",
            " 8   transmission  202814 non-null  int64  \n",
            " 9   drive         144612 non-null  object \n",
            " 10  size          60311 non-null   object \n",
            " 11  type          161638 non-null  object \n",
            " 12  paint_color   142818 non-null  object \n",
            "dtypes: float64(2), int64(3), object(8)\n",
            "memory usage: 21.7+ MB\n"
          ]
        }
      ]
    },
    {
      "cell_type": "code",
      "source": [
        "# Removing the missing percentages greater than zero.\n",
        "missing_percentages =df.isna().sum().sort_values(ascending=False)/len(df) \n",
        "\n",
        "\n",
        "# Plot a graph to check missing percentages \n",
        "plt.figure(figsize=(10,6))\n",
        "missing_percentages[missing_percentages!=0].plot(kind='barh')\n",
        "plt.title(\"Graph for NULL data in percentage \")\n",
        "plt.xlabel(\"% of missing values\")\n",
        "plt.ylabel(\"Features\")"
      ],
      "metadata": {
        "colab": {
          "base_uri": "https://localhost:8080/",
          "height": 422
        },
        "id": "3TYuPUUaFDaq",
        "outputId": "7ce1a3f8-24dd-4394-be1b-36a015a8c10e"
      },
      "execution_count": 70,
      "outputs": [
        {
          "output_type": "execute_result",
          "data": {
            "text/plain": [
              "Text(0, 0.5, 'Features')"
            ]
          },
          "metadata": {},
          "execution_count": 70
        },
        {
          "output_type": "display_data",
          "data": {
            "text/plain": [
              "<Figure size 720x432 with 1 Axes>"
            ],
            "image/png": "[encoded data removed]"
          },
          "metadata": {
            "needs_background": "light"
          }
        }
      ]
    },
    {
      "cell_type": "markdown",
      "source": [
        "**title_status**"
      ],
      "metadata": {
        "id": "DbuHtseUHXSp"
      }
    },
    {
      "cell_type": "code",
      "source": [
        "df['title_status'].isnull().sum()"
      ],
      "metadata": {
        "colab": {
          "base_uri": "https://localhost:8080/"
        },
        "id": "60DGqlIKFh--",
        "outputId": "1d91aa04-a56a-4cfa-e540-73d49ecbfdca"
      },
      "execution_count": 71,
      "outputs": [
        {
          "output_type": "execute_result",
          "data": {
            "text/plain": [
              "4212"
            ]
          },
          "metadata": {},
          "execution_count": 71
        }
      ]
    },
    {
      "cell_type": "code",
      "source": [
        "df['title_status'].value_counts()"
      ],
      "metadata": {
        "colab": {
          "base_uri": "https://localhost:8080/"
        },
        "id": "unPo2e0ZHGpb",
        "outputId": "753be925-0e3b-4c8a-8597-0710430dbb58"
      },
      "execution_count": 72,
      "outputs": [
        {
          "output_type": "execute_result",
          "data": {
            "text/plain": [
              "clean         191357\n",
              "rebuilt         4367\n",
              "salvage         1971\n",
              "lien             770\n",
              "missing           95\n",
              "parts only        42\n",
              "Name: title_status, dtype: int64"
            ]
          },
          "metadata": {},
          "execution_count": 72
        }
      ]
    },
    {
      "cell_type": "code",
      "source": [
        "df['title_status'] = df['title_status'].fillna(df['title_status'].mode()[0])"
      ],
      "metadata": {
        "id": "-Ff8SnFTHKvW"
      },
      "execution_count": 73,
      "outputs": []
    },
    {
      "cell_type": "code",
      "source": [
        "## Pie Chart for title_status column\n",
        "\n",
        "plt.figure(figsize=(10,6))\n",
        "plt.pie(df.title_status.value_counts().values,labels=df.title_status.value_counts().index,autopct='%1.2f%%')\n",
        "plt.show()"
      ],
      "metadata": {
        "colab": {
          "base_uri": "https://localhost:8080/",
          "height": 357
        },
        "id": "Ly5vYnqkHSdH",
        "outputId": "bf808c86-1909-43c9-98f4-dffc14944dd2"
      },
      "execution_count": 74,
      "outputs": [
        {
          "output_type": "display_data",
          "data": {
            "text/plain": [
              "<Figure size 720x432 with 1 Axes>"
            ],
            "image/png": "[encoded data removed]"
          },
          "metadata": {}
        }
      ]
    },
    {
      "cell_type": "code",
      "source": [
        "# title_status looks like an Ordinal data . Here will use Label Encoding\n",
        "\n",
        "from sklearn import preprocessing\n",
        "\n",
        "LabelEncoding = preprocessing.LabelEncoder()\n",
        "\n",
        "df['title_status'] = LabelEncoding.fit_transform(df['title_status'])"
      ],
      "metadata": {
        "id": "UBjVgratHg3C"
      },
      "execution_count": 75,
      "outputs": []
    },
    {
      "cell_type": "code",
      "source": [
        "df['title_status'].value_counts()"
      ],
      "metadata": {
        "colab": {
          "base_uri": "https://localhost:8080/"
        },
        "id": "nRmGnAOOIB6k",
        "outputId": "a7724a12-4af5-452d-acba-87469a4d7bc9"
      },
      "execution_count": 76,
      "outputs": [
        {
          "output_type": "execute_result",
          "data": {
            "text/plain": [
              "0    195569\n",
              "4      4367\n",
              "5      1971\n",
              "1       770\n",
              "2        95\n",
              "3        42\n",
              "Name: title_status, dtype: int64"
            ]
          },
          "metadata": {},
          "execution_count": 76
        }
      ]
    },
    {
      "cell_type": "code",
      "source": [
        "# Removing the missing percentages greater than zero.\n",
        "missing_percentages =df.isna().sum().sort_values(ascending=False)/len(df) \n",
        "\n",
        "\n",
        "# Plot a graph to check missing percentages \n",
        "plt.figure(figsize=(10,6))\n",
        "missing_percentages[missing_percentages!=0].plot(kind='barh')\n",
        "plt.title(\"Graph for NULL data in percentage \")\n",
        "plt.xlabel(\"% of missing values\")\n",
        "plt.ylabel(\"Features\")"
      ],
      "metadata": {
        "colab": {
          "base_uri": "https://localhost:8080/",
          "height": 422
        },
        "id": "KuJ-ZReWIEnS",
        "outputId": "dcd72cfc-3bae-4580-b272-d6e1e45429e5"
      },
      "execution_count": 77,
      "outputs": [
        {
          "output_type": "execute_result",
          "data": {
            "text/plain": [
              "Text(0, 0.5, 'Features')"
            ]
          },
          "metadata": {},
          "execution_count": 77
        },
        {
          "output_type": "display_data",
          "data": {
            "text/plain": [
              "<Figure size 720x432 with 1 Axes>"
            ],
            "image/png": "[encoded data removed]"
          },
          "metadata": {
            "needs_background": "light"
          }
        }
      ]
    },
    {
      "cell_type": "markdown",
      "source": [
        "**manufacturer**"
      ],
      "metadata": {
        "id": "LpyjA5LrILCA"
      }
    },
    {
      "cell_type": "code",
      "source": [
        "df['manufacturer'].isnull().sum()"
      ],
      "metadata": {
        "colab": {
          "base_uri": "https://localhost:8080/"
        },
        "id": "9rdyF3j3IHv1",
        "outputId": "9c19abfe-1ef2-457e-8f92-23b7ad22c23e"
      },
      "execution_count": 78,
      "outputs": [
        {
          "output_type": "execute_result",
          "data": {
            "text/plain": [
              "5829"
            ]
          },
          "metadata": {},
          "execution_count": 78
        }
      ]
    },
    {
      "cell_type": "code",
      "source": [
        "df['manufacturer'].value_counts()"
      ],
      "metadata": {
        "colab": {
          "base_uri": "https://localhost:8080/"
        },
        "id": "RxHAXDRtLHyb",
        "outputId": "37000a3c-3e51-4c89-dfcf-1767cb6ccf8d"
      },
      "execution_count": 79,
      "outputs": [
        {
          "output_type": "execute_result",
          "data": {
            "text/plain": [
              "ford               33478\n",
              "chevrolet          24368\n",
              "toyota             14723\n",
              "nissan             10356\n",
              "jeep                9517\n",
              "bmw                 9493\n",
              "honda               9400\n",
              "ram                 8457\n",
              "mercedes-benz       7228\n",
              "gmc                 7218\n",
              "dodge               6683\n",
              "hyundai             5995\n",
              "volkswagen          4878\n",
              "kia                 4797\n",
              "subaru              4626\n",
              "lexus               4121\n",
              "audi                4092\n",
              "chrysler            3547\n",
              "cadillac            3345\n",
              "mazda               2460\n",
              "buick               2386\n",
              "acura               2330\n",
              "infiniti            2233\n",
              "lincoln             1746\n",
              "volvo               1424\n",
              "mini                1362\n",
              "mitsubishi          1278\n",
              "rover               1216\n",
              "porsche              902\n",
              "pontiac              775\n",
              "jaguar               653\n",
              "saturn               518\n",
              "mercury              475\n",
              "fiat                 439\n",
              "tesla                316\n",
              "alfa-romeo           110\n",
              "harley-davidson       27\n",
              "ferrari                7\n",
              "land rover             4\n",
              "aston-martin           2\n",
              "Name: manufacturer, dtype: int64"
            ]
          },
          "metadata": {},
          "execution_count": 79
        }
      ]
    },
    {
      "cell_type": "code",
      "source": [
        "df['manufacturer'] = df['manufacturer'].fillna(df['manufacturer'].mode()[0])"
      ],
      "metadata": {
        "id": "g0IDrcbSLH3u"
      },
      "execution_count": 80,
      "outputs": []
    },
    {
      "cell_type": "code",
      "source": [
        "df['manufacturer'].unique()"
      ],
      "metadata": {
        "colab": {
          "base_uri": "https://localhost:8080/"
        },
        "id": "H3NY0mOBMUAi",
        "outputId": "4f839125-0da3-43ce-8126-072a632f2d76"
      },
      "execution_count": 81,
      "outputs": [
        {
          "output_type": "execute_result",
          "data": {
            "text/plain": [
              "array(['gmc', 'chevrolet', 'toyota', 'ford', 'jeep', 'ram', 'honda',\n",
              "       'dodge', 'lexus', 'volvo', 'infiniti', 'subaru', 'acura',\n",
              "       'lincoln', 'mercedes-benz', 'bmw', 'chrysler', 'nissan', 'mazda',\n",
              "       'porsche', 'buick', 'kia', 'volkswagen', 'cadillac', 'hyundai',\n",
              "       'mini', 'audi', 'mitsubishi', 'pontiac', 'jaguar', 'fiat', 'rover',\n",
              "       'tesla', 'saturn', 'alfa-romeo', 'mercury', 'harley-davidson',\n",
              "       'ferrari', 'land rover', 'aston-martin'], dtype=object)"
            ]
          },
          "metadata": {},
          "execution_count": 81
        }
      ]
    },
    {
      "cell_type": "code",
      "source": [
        "## Pie Chart for TOP 10 manufacturer column\n",
        "\n",
        "plt.figure(figsize=(10,6))\n",
        "plt.pie(df.manufacturer.value_counts()[:10].values,labels=df.manufacturer.value_counts()[:10].index,autopct='%1.2f%%')\n",
        "plt.show()"
      ],
      "metadata": {
        "colab": {
          "base_uri": "https://localhost:8080/",
          "height": 357
        },
        "id": "oJq3E9jvLQye",
        "outputId": "f0f98ac7-4c05-461c-c56d-651e8416f646"
      },
      "execution_count": 82,
      "outputs": [
        {
          "output_type": "display_data",
          "data": {
            "text/plain": [
              "<Figure size 720x432 with 1 Axes>"
            ],
            "image/png": "[encoded data removed]"
          },
          "metadata": {}
        }
      ]
    },
    {
      "cell_type": "markdown",
      "source": [
        "### \" **manufacturer** \" is a **Nominal data**, 3 techniques to solve this:\n",
        "1. ONE HOT ENCODING\n",
        "2. ONE HOT ENCODING WITH MULTIPLE CATEGORIES\n",
        "3. MEAN ENCODING"
      ],
      "metadata": {
        "id": "if994e3UI0J6"
      }
    },
    {
      "cell_type": "code",
      "source": [
        "# We are using one hot encoding\n",
        "\n",
        "from sklearn.preprocessing import OneHotEncoder\n",
        "\n",
        "#creating instance of one-hot-encoder\n",
        "# --- encoder = OneHotEncoder(handle_unknown='ignore')\n",
        "\n",
        "#perform one-hot encoding on 'team' column \n",
        "# ---- encoder_df = pd.DataFrame(encoder.fit_transform(df[['manufacturer']]).toarray())\n",
        "\n"
      ],
      "metadata": {
        "id": "Cj4e703TIc2d"
      },
      "execution_count": 83,
      "outputs": []
    },
    {
      "cell_type": "code",
      "source": [
        "!pip install category_encoders --quiet"
      ],
      "metadata": {
        "colab": {
          "base_uri": "https://localhost:8080/"
        },
        "id": "z9Kerg5VGbuK",
        "outputId": "6ac9e463-56b1-403c-f2d0-6620f8b8dbab"
      },
      "execution_count": 84,
      "outputs": [
        {
          "output_type": "stream",
          "name": "stdout",
          "text": [
            "\u001b[?25l\r\u001b[K     |███▉                            | 10 kB 17.7 MB/s eta 0:00:01\r\u001b[K     |███████▋                        | 20 kB 20.0 MB/s eta 0:00:01\r\u001b[K     |███████████▍                    | 30 kB 11.1 MB/s eta 0:00:01\r\u001b[K     |███████████████▏                | 40 kB 9.2 MB/s eta 0:00:01\r\u001b[K     |███████████████████             | 51 kB 4.0 MB/s eta 0:00:01\r\u001b[K     |██████████████████████▊         | 61 kB 4.7 MB/s eta 0:00:01\r\u001b[K     |██████████████████████████▌     | 71 kB 5.3 MB/s eta 0:00:01\r\u001b[K     |██████████████████████████████▎ | 81 kB 5.9 MB/s eta 0:00:01\r\u001b[K     |████████████████████████████████| 86 kB 2.2 MB/s \n",
            "\u001b[?25h"
          ]
        }
      ]
    },
    {
      "cell_type": "code",
      "source": [
        "import category_encoders as ce\n",
        "import pandas as pd\n",
        "\n",
        "\n",
        "#Create an object for Base N Encoding\n",
        "encoder= ce.BaseNEncoder(cols=['manufacturer'],return_df=True,base=5)\n"
      ],
      "metadata": {
        "colab": {
          "base_uri": "https://localhost:8080/"
        },
        "id": "5bE_7Cs-GV6t",
        "outputId": "05449256-3ea6-4cdd-a0dc-06b20832c9e0"
      },
      "execution_count": 85,
      "outputs": [
        {
          "output_type": "stream",
          "name": "stderr",
          "text": [
            "/usr/local/lib/python3.7/dist-packages/statsmodels/tools/_testing.py:19: FutureWarning: pandas.util.testing is deprecated. Use the functions in the public API at pandas.testing instead.\n",
            "  import pandas.util.testing as tm\n"
          ]
        },
        {
          "output_type": "execute_result",
          "data": {
            "text/plain": [
              "BaseNEncoder(base=5, cols=['manufacturer'])"
            ]
          },
          "metadata": {},
          "execution_count": 85
        }
      ]
    },
    {
      "cell_type": "code",
      "source": [
        "df=encoder.fit_transform(df)\n",
        "df"
      ],
      "metadata": {
        "colab": {
          "base_uri": "https://localhost:8080/",
          "height": 423
        },
        "id": "wFJOTzYdOBWM",
        "outputId": "f22d17b1-a89c-4660-f746-16ab9754d9cc"
      },
      "execution_count": 89,
      "outputs": [
        {
          "output_type": "execute_result",
          "data": {
            "text/plain": [
              "        price    year  manufacturer_0  manufacturer_1  manufacturer_2  \\\n",
              "27      33590  2014.0               0               0               1   \n",
              "28      22590  2010.0               0               0               2   \n",
              "30      30990  2017.0               0               0               3   \n",
              "31      15000  2013.0               0               0               4   \n",
              "32      27990  2012.0               0               0               1   \n",
              "...       ...     ...             ...             ...             ...   \n",
              "426855   7477  2012.0               1               1               1   \n",
              "426860  39990  2017.0               0               2               1   \n",
              "426864  29590  2016.0               0               0               3   \n",
              "426866  32990  2016.0               0               2               1   \n",
              "426869  13990  2016.0               0               0               4   \n",
              "\n",
              "        condition    cylinders  fuel  odometer  title_status  transmission  \\\n",
              "27           good  8 cylinders     2   57923.0             0             2   \n",
              "28           good  8 cylinders     2   71229.0             0             2   \n",
              "30           good  8 cylinders     2   41124.0             0             2   \n",
              "31      excellent  6 cylinders     2  128000.0             0             0   \n",
              "32           good  8 cylinders     2   68696.0             0             2   \n",
              "...           ...          ...   ...       ...           ...           ...   \n",
              "426855        NaN          NaN     2   64267.0             0             1   \n",
              "426860       good  8 cylinders     2   41664.0             0             0   \n",
              "426864       good  6 cylinders     2   53475.0             0             0   \n",
              "426866       good  8 cylinders     2   55612.0             0             0   \n",
              "426869       good          NaN     4   75626.0             0             2   \n",
              "\n",
              "       drive       size       type paint_color  \n",
              "27       NaN        NaN     pickup       white  \n",
              "28       NaN        NaN     pickup        blue  \n",
              "30       NaN        NaN     pickup         red  \n",
              "31       rwd  full-size      truck       black  \n",
              "32       4wd        NaN     pickup       black  \n",
              "...      ...        ...        ...         ...  \n",
              "426855   NaN        NaN  hatchback         NaN  \n",
              "426860   4wd        NaN      other       black  \n",
              "426864   NaN        NaN        SUV       black  \n",
              "426866   rwd        NaN      other       black  \n",
              "426869   fwd        NaN  hatchback       white  \n",
              "\n",
              "[202814 rows x 15 columns]"
            ],
            "text/html": [
              "\n",
              "  <div id=\"df-d3a887ae-a473-4ed0-b544-8d8a59da9f23\">\n",
              "    <div class=\"colab-df-container\">\n",
              "      <div>\n",
              "<style scoped>\n",
              "    .dataframe tbody tr th:only-of-type {\n",
              "        vertical-align: middle;\n",
              "    }\n",
              "\n",
              "    .dataframe tbody tr th {\n",
              "        vertical-align: top;\n",
              "    }\n",
              "\n",
              "    .dataframe thead th {\n",
              "        text-align: right;\n",
              "    }\n",
              "</style>\n",
              "<table border=\"1\" class=\"dataframe\">\n",
              "  <thead>\n",
              "    <tr style=\"text-align: right;\">\n",
              "      <th></th>\n",
              "      <th>price</th>\n",
              "      <th>year</th>\n",
              "      <th>manufacturer_0</th>\n",
              "      <th>manufacturer_1</th>\n",
              "      <th>manufacturer_2</th>\n",
              "      <th>condition</th>\n",
              "      <th>cylinders</th>\n",
              "      <th>fuel</th>\n",
              "      <th>odometer</th>\n",
              "      <th>title_status</th>\n",
              "      <th>transmission</th>\n",
              "      <th>drive</th>\n",
              "      <th>size</th>\n",
              "      <th>type</th>\n",
              "      <th>paint_color</th>\n",
              "    </tr>\n",
              "  </thead>\n",
              "  <tbody>\n",
              "    <tr>\n",
              "      <th>27</th>\n",
              "      <td>33590</td>\n",
              "      <td>2014.0</td>\n",
              "      <td>0</td>\n",
              "      <td>0</td>\n",
              "      <td>1</td>\n",
              "      <td>good</td>\n",
              "      <td>8 cylinders</td>\n",
              "      <td>2</td>\n",
              "      <td>57923.0</td>\n",
              "      <td>0</td>\n",
              "      <td>2</td>\n",
              "      <td>NaN</td>\n",
              "      <td>NaN</td>\n",
              "      <td>pickup</td>\n",
              "      <td>white</td>\n",
              "    </tr>\n",
              "    <tr>\n",
              "      <th>28</th>\n",
              "      <td>22590</td>\n",
              "      <td>2010.0</td>\n",
              "      <td>0</td>\n",
              "      <td>0</td>\n",
              "      <td>2</td>\n",
              "      <td>good</td>\n",
              "      <td>8 cylinders</td>\n",
              "      <td>2</td>\n",
              "      <td>71229.0</td>\n",
              "      <td>0</td>\n",
              "      <td>2</td>\n",
              "      <td>NaN</td>\n",
              "      <td>NaN</td>\n",
              "      <td>pickup</td>\n",
              "      <td>blue</td>\n",
              "    </tr>\n",
              "    <tr>\n",
              "      <th>30</th>\n",
              "      <td>30990</td>\n",
              "      <td>2017.0</td>\n",
              "      <td>0</td>\n",
              "      <td>0</td>\n",
              "      <td>3</td>\n",
              "      <td>good</td>\n",
              "      <td>8 cylinders</td>\n",
              "      <td>2</td>\n",
              "      <td>41124.0</td>\n",
              "      <td>0</td>\n",
              "      <td>2</td>\n",
              "      <td>NaN</td>\n",
              "      <td>NaN</td>\n",
              "      <td>pickup</td>\n",
              "      <td>red</td>\n",
              "    </tr>\n",
              "    <tr>\n",
              "      <th>31</th>\n",
              "      <td>15000</td>\n",
              "      <td>2013.0</td>\n",
              "      <td>0</td>\n",
              "      <td>0</td>\n",
              "      <td>4</td>\n",
              "      <td>excellent</td>\n",
              "      <td>6 cylinders</td>\n",
              "      <td>2</td>\n",
              "      <td>128000.0</td>\n",
              "      <td>0</td>\n",
              "      <td>0</td>\n",
              "      <td>rwd</td>\n",
              "      <td>full-size</td>\n",
              "      <td>truck</td>\n",
              "      <td>black</td>\n",
              "    </tr>\n",
              "    <tr>\n",
              "      <th>32</th>\n",
              "      <td>27990</td>\n",
              "      <td>2012.0</td>\n",
              "      <td>0</td>\n",
              "      <td>0</td>\n",
              "      <td>1</td>\n",
              "      <td>good</td>\n",
              "      <td>8 cylinders</td>\n",
              "      <td>2</td>\n",
              "      <td>68696.0</td>\n",
              "      <td>0</td>\n",
              "      <td>2</td>\n",
              "      <td>4wd</td>\n",
              "      <td>NaN</td>\n",
              "      <td>pickup</td>\n",
              "      <td>black</td>\n",
              "    </tr>\n",
              "    <tr>\n",
              "      <th>...</th>\n",
              "      <td>...</td>\n",
              "      <td>...</td>\n",
              "      <td>...</td>\n",
              "      <td>...</td>\n",
              "      <td>...</td>\n",
              "      <td>...</td>\n",
              "      <td>...</td>\n",
              "      <td>...</td>\n",
              "      <td>...</td>\n",
              "      <td>...</td>\n",
              "      <td>...</td>\n",
              "      <td>...</td>\n",
              "      <td>...</td>\n",
              "      <td>...</td>\n",
              "      <td>...</td>\n",
              "    </tr>\n",
              "    <tr>\n",
              "      <th>426855</th>\n",
              "      <td>7477</td>\n",
              "      <td>2012.0</td>\n",
              "      <td>1</td>\n",
              "      <td>1</td>\n",
              "      <td>1</td>\n",
              "      <td>NaN</td>\n",
              "      <td>NaN</td>\n",
              "      <td>2</td>\n",
              "      <td>64267.0</td>\n",
              "      <td>0</td>\n",
              "      <td>1</td>\n",
              "      <td>NaN</td>\n",
              "      <td>NaN</td>\n",
              "      <td>hatchback</td>\n",
              "      <td>NaN</td>\n",
              "    </tr>\n",
              "    <tr>\n",
              "      <th>426860</th>\n",
              "      <td>39990</td>\n",
              "      <td>2017.0</td>\n",
              "      <td>0</td>\n",
              "      <td>2</td>\n",
              "      <td>1</td>\n",
              "      <td>good</td>\n",
              "      <td>8 cylinders</td>\n",
              "      <td>2</td>\n",
              "      <td>41664.0</td>\n",
              "      <td>0</td>\n",
              "      <td>0</td>\n",
              "      <td>4wd</td>\n",
              "      <td>NaN</td>\n",
              "      <td>other</td>\n",
              "      <td>black</td>\n",
              "    </tr>\n",
              "    <tr>\n",
              "      <th>426864</th>\n",
              "      <td>29590</td>\n",
              "      <td>2016.0</td>\n",
              "      <td>0</td>\n",
              "      <td>0</td>\n",
              "      <td>3</td>\n",
              "      <td>good</td>\n",
              "      <td>6 cylinders</td>\n",
              "      <td>2</td>\n",
              "      <td>53475.0</td>\n",
              "      <td>0</td>\n",
              "      <td>0</td>\n",
              "      <td>NaN</td>\n",
              "      <td>NaN</td>\n",
              "      <td>SUV</td>\n",
              "      <td>black</td>\n",
              "    </tr>\n",
              "    <tr>\n",
              "      <th>426866</th>\n",
              "      <td>32990</td>\n",
              "      <td>2016.0</td>\n",
              "      <td>0</td>\n",
              "      <td>2</td>\n",
              "      <td>1</td>\n",
              "      <td>good</td>\n",
              "      <td>8 cylinders</td>\n",
              "      <td>2</td>\n",
              "      <td>55612.0</td>\n",
              "      <td>0</td>\n",
              "      <td>0</td>\n",
              "      <td>rwd</td>\n",
              "      <td>NaN</td>\n",
              "      <td>other</td>\n",
              "      <td>black</td>\n",
              "    </tr>\n",
              "    <tr>\n",
              "      <th>426869</th>\n",
              "      <td>13990</td>\n",
              "      <td>2016.0</td>\n",
              "      <td>0</td>\n",
              "      <td>0</td>\n",
              "      <td>4</td>\n",
              "      <td>good</td>\n",
              "      <td>NaN</td>\n",
              "      <td>4</td>\n",
              "      <td>75626.0</td>\n",
              "      <td>0</td>\n",
              "      <td>2</td>\n",
              "      <td>fwd</td>\n",
              "      <td>NaN</td>\n",
              "      <td>hatchback</td>\n",
              "      <td>white</td>\n",
              "    </tr>\n",
              "  </tbody>\n",
              "</table>\n",
              "<p>202814 rows × 15 columns</p>\n",
              "</div>\n",
              "      <button class=\"colab-df-convert\" onclick=\"convertToInteractive('df-d3a887ae-a473-4ed0-b544-8d8a59da9f23')\"\n",
              "              title=\"Convert this dataframe to an interactive table.\"\n",
              "              style=\"display:none;\">\n",
              "        \n",
              "  <svg xmlns=\"http://www.w3.org/2000/svg\" height=\"24px\"viewBox=\"0 0 24 24\"\n",
              "       width=\"24px\">\n",
              "    <path d=\"M0 0h24v24H0V0z\" fill=\"none\"/>\n",
              "    <path d=\"M18.56 5.44l.94 2.06.94-2.06 2.06-.94-2.06-.94-.94-2.06-.94 2.06-2.06.94zm-11 1L8.5 8.5l.94-2.06 2.06-.94-2.06-.94L8.5 2.5l-.94 2.06-2.06.94zm10 10l.94 2.06.94-2.06 2.06-.94-2.06-.94-.94-2.06-.94 2.06-2.06.94z\"/><path d=\"M17.41 7.96l-1.37-1.37c-.4-.4-.92-.59-1.43-.59-.52 0-1.04.2-1.43.59L10.3 9.45l-7.72 7.72c-.78.78-.78 2.05 0 2.83L4 21.41c.39.39.9.59 1.41.59.51 0 1.02-.2 1.41-.59l7.78-7.78 2.81-2.81c.8-.78.8-2.07 0-2.86zM5.41 20L4 18.59l7.72-7.72 1.47 1.35L5.41 20z\"/>\n",
              "  </svg>\n",
              "      </button>\n",
              "      \n",
              "  <style>\n",
              "    .colab-df-container {\n",
              "      display:flex;\n",
              "      flex-wrap:wrap;\n",
              "      gap: 12px;\n",
              "    }\n",
              "\n",
              "    .colab-df-convert {\n",
              "      background-color: #E8F0FE;\n",
              "      border: none;\n",
              "      border-radius: 50%;\n",
              "      cursor: pointer;\n",
              "      display: none;\n",
              "      fill: #1967D2;\n",
              "      height: 32px;\n",
              "      padding: 0 0 0 0;\n",
              "      width: 32px;\n",
              "    }\n",
              "\n",
              "    .colab-df-convert:hover {\n",
              "      background-color: #E2EBFA;\n",
              "      box-shadow: 0px 1px 2px rgba(60, 64, 67, 0.3), 0px 1px 3px 1px rgba(60, 64, 67, 0.15);\n",
              "      fill: #174EA6;\n",
              "    }\n",
              "\n",
              "    [theme=dark] .colab-df-convert {\n",
              "      background-color: #3B4455;\n",
              "      fill: #D2E3FC;\n",
              "    }\n",
              "\n",
              "    [theme=dark] .colab-df-convert:hover {\n",
              "      background-color: #434B5C;\n",
              "      box-shadow: 0px 1px 3px 1px rgba(0, 0, 0, 0.15);\n",
              "      filter: drop-shadow(0px 1px 2px rgba(0, 0, 0, 0.3));\n",
              "      fill: #FFFFFF;\n",
              "    }\n",
              "  </style>\n",
              "\n",
              "      <script>\n",
              "        const buttonEl =\n",
              "          document.querySelector('#df-d3a887ae-a473-4ed0-b544-8d8a59da9f23 button.colab-df-convert');\n",
              "        buttonEl.style.display =\n",
              "          google.colab.kernel.accessAllowed ? 'block' : 'none';\n",
              "\n",
              "        async function convertToInteractive(key) {\n",
              "          const element = document.querySelector('#df-d3a887ae-a473-4ed0-b544-8d8a59da9f23');\n",
              "          const dataTable =\n",
              "            await google.colab.kernel.invokeFunction('convertToInteractive',\n",
              "                                                     [key], {});\n",
              "          if (!dataTable) return;\n",
              "\n",
              "          const docLinkHtml = 'Like what you see? Visit the ' +\n",
              "            '<a target=\"_blank\" href=https://colab.research.google.com/notebooks/data_table.ipynb>data table notebook</a>'\n",
              "            + ' to learn more about interactive tables.';\n",
              "          element.innerHTML = '';\n",
              "          dataTable['output_type'] = 'display_data';\n",
              "          await google.colab.output.renderOutput(dataTable, element);\n",
              "          const docLink = document.createElement('div');\n",
              "          docLink.innerHTML = docLinkHtml;\n",
              "          element.appendChild(docLink);\n",
              "        }\n",
              "      </script>\n",
              "    </div>\n",
              "  </div>\n",
              "  "
            ]
          },
          "metadata": {},
          "execution_count": 89
        }
      ]
    },
    {
      "cell_type": "code",
      "source": [
        "df.columns"
      ],
      "metadata": {
        "colab": {
          "base_uri": "https://localhost:8080/"
        },
        "id": "mhRvi3evHBim",
        "outputId": "073b9424-01c4-4bfd-bfcd-f215651ea580"
      },
      "execution_count": 90,
      "outputs": [
        {
          "output_type": "execute_result",
          "data": {
            "text/plain": [
              "Index(['price', 'year', 'manufacturer_0', 'manufacturer_1', 'manufacturer_2',\n",
              "       'condition', 'cylinders', 'fuel', 'odometer', 'title_status',\n",
              "       'transmission', 'drive', 'size', 'type', 'paint_color'],\n",
              "      dtype='object')"
            ]
          },
          "metadata": {},
          "execution_count": 90
        }
      ]
    },
    {
      "cell_type": "code",
      "source": [
        "# Reset Index\n",
        "\n",
        "df.reset_index(inplace = True)\n",
        "df.drop('index',axis =1, inplace= True)"
      ],
      "metadata": {
        "id": "qdmn6JD0PaY8"
      },
      "execution_count": 91,
      "outputs": []
    },
    {
      "cell_type": "code",
      "source": [
        "df"
      ],
      "metadata": {
        "colab": {
          "base_uri": "https://localhost:8080/",
          "height": 423
        },
        "id": "vmvRGlbaTx1s",
        "outputId": "435e08f3-bc00-4c8b-c9d6-a6ffc85ae183"
      },
      "execution_count": 92,
      "outputs": [
        {
          "output_type": "execute_result",
          "data": {
            "text/plain": [
              "        price    year  manufacturer_0  manufacturer_1  manufacturer_2  \\\n",
              "0       33590  2014.0               0               0               1   \n",
              "1       22590  2010.0               0               0               2   \n",
              "2       30990  2017.0               0               0               3   \n",
              "3       15000  2013.0               0               0               4   \n",
              "4       27990  2012.0               0               0               1   \n",
              "...       ...     ...             ...             ...             ...   \n",
              "202809   7477  2012.0               1               1               1   \n",
              "202810  39990  2017.0               0               2               1   \n",
              "202811  29590  2016.0               0               0               3   \n",
              "202812  32990  2016.0               0               2               1   \n",
              "202813  13990  2016.0               0               0               4   \n",
              "\n",
              "        condition    cylinders  fuel  odometer  title_status  transmission  \\\n",
              "0            good  8 cylinders     2   57923.0             0             2   \n",
              "1            good  8 cylinders     2   71229.0             0             2   \n",
              "2            good  8 cylinders     2   41124.0             0             2   \n",
              "3       excellent  6 cylinders     2  128000.0             0             0   \n",
              "4            good  8 cylinders     2   68696.0             0             2   \n",
              "...           ...          ...   ...       ...           ...           ...   \n",
              "202809        NaN          NaN     2   64267.0             0             1   \n",
              "202810       good  8 cylinders     2   41664.0             0             0   \n",
              "202811       good  6 cylinders     2   53475.0             0             0   \n",
              "202812       good  8 cylinders     2   55612.0             0             0   \n",
              "202813       good          NaN     4   75626.0             0             2   \n",
              "\n",
              "       drive       size       type paint_color  \n",
              "0        NaN        NaN     pickup       white  \n",
              "1        NaN        NaN     pickup        blue  \n",
              "2        NaN        NaN     pickup         red  \n",
              "3        rwd  full-size      truck       black  \n",
              "4        4wd        NaN     pickup       black  \n",
              "...      ...        ...        ...         ...  \n",
              "202809   NaN        NaN  hatchback         NaN  \n",
              "202810   4wd        NaN      other       black  \n",
              "202811   NaN        NaN        SUV       black  \n",
              "202812   rwd        NaN      other       black  \n",
              "202813   fwd        NaN  hatchback       white  \n",
              "\n",
              "[202814 rows x 15 columns]"
            ],
            "text/html": [
              "\n",
              "  <div id=\"df-1bb5bf19-4953-4685-b170-87adc928b332\">\n",
              "    <div class=\"colab-df-container\">\n",
              "      <div>\n",
              "<style scoped>\n",
              "    .dataframe tbody tr th:only-of-type {\n",
              "        vertical-align: middle;\n",
              "    }\n",
              "\n",
              "    .dataframe tbody tr th {\n",
              "        vertical-align: top;\n",
              "    }\n",
              "\n",
              "    .dataframe thead th {\n",
              "        text-align: right;\n",
              "    }\n",
              "</style>\n",
              "<table border=\"1\" class=\"dataframe\">\n",
              "  <thead>\n",
              "    <tr style=\"text-align: right;\">\n",
              "      <th></th>\n",
              "      <th>price</th>\n",
              "      <th>year</th>\n",
              "      <th>manufacturer_0</th>\n",
              "      <th>manufacturer_1</th>\n",
              "      <th>manufacturer_2</th>\n",
              "      <th>condition</th>\n",
              "      <th>cylinders</th>\n",
              "      <th>fuel</th>\n",
              "      <th>odometer</th>\n",
              "      <th>title_status</th>\n",
              "      <th>transmission</th>\n",
              "      <th>drive</th>\n",
              "      <th>size</th>\n",
              "      <th>type</th>\n",
              "      <th>paint_color</th>\n",
              "    </tr>\n",
              "  </thead>\n",
              "  <tbody>\n",
              "    <tr>\n",
              "      <th>0</th>\n",
              "      <td>33590</td>\n",
              "      <td>2014.0</td>\n",
              "      <td>0</td>\n",
              "      <td>0</td>\n",
              "      <td>1</td>\n",
              "      <td>good</td>\n",
              "      <td>8 cylinders</td>\n",
              "      <td>2</td>\n",
              "      <td>57923.0</td>\n",
              "      <td>0</td>\n",
              "      <td>2</td>\n",
              "      <td>NaN</td>\n",
              "      <td>NaN</td>\n",
              "      <td>pickup</td>\n",
              "      <td>white</td>\n",
              "    </tr>\n",
              "    <tr>\n",
              "      <th>1</th>\n",
              "      <td>22590</td>\n",
              "      <td>2010.0</td>\n",
              "      <td>0</td>\n",
              "      <td>0</td>\n",
              "      <td>2</td>\n",
              "      <td>good</td>\n",
              "      <td>8 cylinders</td>\n",
              "      <td>2</td>\n",
              "      <td>71229.0</td>\n",
              "      <td>0</td>\n",
              "      <td>2</td>\n",
              "      <td>NaN</td>\n",
              "      <td>NaN</td>\n",
              "      <td>pickup</td>\n",
              "      <td>blue</td>\n",
              "    </tr>\n",
              "    <tr>\n",
              "      <th>2</th>\n",
              "      <td>30990</td>\n",
              "      <td>2017.0</td>\n",
              "      <td>0</td>\n",
              "      <td>0</td>\n",
              "      <td>3</td>\n",
              "      <td>good</td>\n",
              "      <td>8 cylinders</td>\n",
              "      <td>2</td>\n",
              "      <td>41124.0</td>\n",
              "      <td>0</td>\n",
              "      <td>2</td>\n",
              "      <td>NaN</td>\n",
              "      <td>NaN</td>\n",
              "      <td>pickup</td>\n",
              "      <td>red</td>\n",
              "    </tr>\n",
              "    <tr>\n",
              "      <th>3</th>\n",
              "      <td>15000</td>\n",
              "      <td>2013.0</td>\n",
              "      <td>0</td>\n",
              "      <td>0</td>\n",
              "      <td>4</td>\n",
              "      <td>excellent</td>\n",
              "      <td>6 cylinders</td>\n",
              "      <td>2</td>\n",
              "      <td>128000.0</td>\n",
              "      <td>0</td>\n",
              "      <td>0</td>\n",
              "      <td>rwd</td>\n",
              "      <td>full-size</td>\n",
              "      <td>truck</td>\n",
              "      <td>black</td>\n",
              "    </tr>\n",
              "    <tr>\n",
              "      <th>4</th>\n",
              "      <td>27990</td>\n",
              "      <td>2012.0</td>\n",
              "      <td>0</td>\n",
              "      <td>0</td>\n",
              "      <td>1</td>\n",
              "      <td>good</td>\n",
              "      <td>8 cylinders</td>\n",
              "      <td>2</td>\n",
              "      <td>68696.0</td>\n",
              "      <td>0</td>\n",
              "      <td>2</td>\n",
              "      <td>4wd</td>\n",
              "      <td>NaN</td>\n",
              "      <td>pickup</td>\n",
              "      <td>black</td>\n",
              "    </tr>\n",
              "    <tr>\n",
              "      <th>...</th>\n",
              "      <td>...</td>\n",
              "      <td>...</td>\n",
              "      <td>...</td>\n",
              "      <td>...</td>\n",
              "      <td>...</td>\n",
              "      <td>...</td>\n",
              "      <td>...</td>\n",
              "      <td>...</td>\n",
              "      <td>...</td>\n",
              "      <td>...</td>\n",
              "      <td>...</td>\n",
              "      <td>...</td>\n",
              "      <td>...</td>\n",
              "      <td>...</td>\n",
              "      <td>...</td>\n",
              "    </tr>\n",
              "    <tr>\n",
              "      <th>202809</th>\n",
              "      <td>7477</td>\n",
              "      <td>2012.0</td>\n",
              "      <td>1</td>\n",
              "      <td>1</td>\n",
              "      <td>1</td>\n",
              "      <td>NaN</td>\n",
              "      <td>NaN</td>\n",
              "      <td>2</td>\n",
              "      <td>64267.0</td>\n",
              "      <td>0</td>\n",
              "      <td>1</td>\n",
              "      <td>NaN</td>\n",
              "      <td>NaN</td>\n",
              "      <td>hatchback</td>\n",
              "      <td>NaN</td>\n",
              "    </tr>\n",
              "    <tr>\n",
              "      <th>202810</th>\n",
              "      <td>39990</td>\n",
              "      <td>2017.0</td>\n",
              "      <td>0</td>\n",
              "      <td>2</td>\n",
              "      <td>1</td>\n",
              "      <td>good</td>\n",
              "      <td>8 cylinders</td>\n",
              "      <td>2</td>\n",
              "      <td>41664.0</td>\n",
              "      <td>0</td>\n",
              "      <td>0</td>\n",
              "      <td>4wd</td>\n",
              "      <td>NaN</td>\n",
              "      <td>other</td>\n",
              "      <td>black</td>\n",
              "    </tr>\n",
              "    <tr>\n",
              "      <th>202811</th>\n",
              "      <td>29590</td>\n",
              "      <td>2016.0</td>\n",
              "      <td>0</td>\n",
              "      <td>0</td>\n",
              "      <td>3</td>\n",
              "      <td>good</td>\n",
              "      <td>6 cylinders</td>\n",
              "      <td>2</td>\n",
              "      <td>53475.0</td>\n",
              "      <td>0</td>\n",
              "      <td>0</td>\n",
              "      <td>NaN</td>\n",
              "      <td>NaN</td>\n",
              "      <td>SUV</td>\n",
              "      <td>black</td>\n",
              "    </tr>\n",
              "    <tr>\n",
              "      <th>202812</th>\n",
              "      <td>32990</td>\n",
              "      <td>2016.0</td>\n",
              "      <td>0</td>\n",
              "      <td>2</td>\n",
              "      <td>1</td>\n",
              "      <td>good</td>\n",
              "      <td>8 cylinders</td>\n",
              "      <td>2</td>\n",
              "      <td>55612.0</td>\n",
              "      <td>0</td>\n",
              "      <td>0</td>\n",
              "      <td>rwd</td>\n",
              "      <td>NaN</td>\n",
              "      <td>other</td>\n",
              "      <td>black</td>\n",
              "    </tr>\n",
              "    <tr>\n",
              "      <th>202813</th>\n",
              "      <td>13990</td>\n",
              "      <td>2016.0</td>\n",
              "      <td>0</td>\n",
              "      <td>0</td>\n",
              "      <td>4</td>\n",
              "      <td>good</td>\n",
              "      <td>NaN</td>\n",
              "      <td>4</td>\n",
              "      <td>75626.0</td>\n",
              "      <td>0</td>\n",
              "      <td>2</td>\n",
              "      <td>fwd</td>\n",
              "      <td>NaN</td>\n",
              "      <td>hatchback</td>\n",
              "      <td>white</td>\n",
              "    </tr>\n",
              "  </tbody>\n",
              "</table>\n",
              "<p>202814 rows × 15 columns</p>\n",
              "</div>\n",
              "      <button class=\"colab-df-convert\" onclick=\"convertToInteractive('df-1bb5bf19-4953-4685-b170-87adc928b332')\"\n",
              "              title=\"Convert this dataframe to an interactive table.\"\n",
              "              style=\"display:none;\">\n",
              "        \n",
              "  <svg xmlns=\"http://www.w3.org/2000/svg\" height=\"24px\"viewBox=\"0 0 24 24\"\n",
              "       width=\"24px\">\n",
              "    <path d=\"M0 0h24v24H0V0z\" fill=\"none\"/>\n",
              "    <path d=\"M18.56 5.44l.94 2.06.94-2.06 2.06-.94-2.06-.94-.94-2.06-.94 2.06-2.06.94zm-11 1L8.5 8.5l.94-2.06 2.06-.94-2.06-.94L8.5 2.5l-.94 2.06-2.06.94zm10 10l.94 2.06.94-2.06 2.06-.94-2.06-.94-.94-2.06-.94 2.06-2.06.94z\"/><path d=\"M17.41 7.96l-1.37-1.37c-.4-.4-.92-.59-1.43-.59-.52 0-1.04.2-1.43.59L10.3 9.45l-7.72 7.72c-.78.78-.78 2.05 0 2.83L4 21.41c.39.39.9.59 1.41.59.51 0 1.02-.2 1.41-.59l7.78-7.78 2.81-2.81c.8-.78.8-2.07 0-2.86zM5.41 20L4 18.59l7.72-7.72 1.47 1.35L5.41 20z\"/>\n",
              "  </svg>\n",
              "      </button>\n",
              "      \n",
              "  <style>\n",
              "    .colab-df-container {\n",
              "      display:flex;\n",
              "      flex-wrap:wrap;\n",
              "      gap: 12px;\n",
              "    }\n",
              "\n",
              "    .colab-df-convert {\n",
              "      background-color: #E8F0FE;\n",
              "      border: none;\n",
              "      border-radius: 50%;\n",
              "      cursor: pointer;\n",
              "      display: none;\n",
              "      fill: #1967D2;\n",
              "      height: 32px;\n",
              "      padding: 0 0 0 0;\n",
              "      width: 32px;\n",
              "    }\n",
              "\n",
              "    .colab-df-convert:hover {\n",
              "      background-color: #E2EBFA;\n",
              "      box-shadow: 0px 1px 2px rgba(60, 64, 67, 0.3), 0px 1px 3px 1px rgba(60, 64, 67, 0.15);\n",
              "      fill: #174EA6;\n",
              "    }\n",
              "\n",
              "    [theme=dark] .colab-df-convert {\n",
              "      background-color: #3B4455;\n",
              "      fill: #D2E3FC;\n",
              "    }\n",
              "\n",
              "    [theme=dark] .colab-df-convert:hover {\n",
              "      background-color: #434B5C;\n",
              "      box-shadow: 0px 1px 3px 1px rgba(0, 0, 0, 0.15);\n",
              "      filter: drop-shadow(0px 1px 2px rgba(0, 0, 0, 0.3));\n",
              "      fill: #FFFFFF;\n",
              "    }\n",
              "  </style>\n",
              "\n",
              "      <script>\n",
              "        const buttonEl =\n",
              "          document.querySelector('#df-1bb5bf19-4953-4685-b170-87adc928b332 button.colab-df-convert');\n",
              "        buttonEl.style.display =\n",
              "          google.colab.kernel.accessAllowed ? 'block' : 'none';\n",
              "\n",
              "        async function convertToInteractive(key) {\n",
              "          const element = document.querySelector('#df-1bb5bf19-4953-4685-b170-87adc928b332');\n",
              "          const dataTable =\n",
              "            await google.colab.kernel.invokeFunction('convertToInteractive',\n",
              "                                                     [key], {});\n",
              "          if (!dataTable) return;\n",
              "\n",
              "          const docLinkHtml = 'Like what you see? Visit the ' +\n",
              "            '<a target=\"_blank\" href=https://colab.research.google.com/notebooks/data_table.ipynb>data table notebook</a>'\n",
              "            + ' to learn more about interactive tables.';\n",
              "          element.innerHTML = '';\n",
              "          dataTable['output_type'] = 'display_data';\n",
              "          await google.colab.output.renderOutput(dataTable, element);\n",
              "          const docLink = document.createElement('div');\n",
              "          docLink.innerHTML = docLinkHtml;\n",
              "          element.appendChild(docLink);\n",
              "        }\n",
              "      </script>\n",
              "    </div>\n",
              "  </div>\n",
              "  "
            ]
          },
          "metadata": {},
          "execution_count": 92
        }
      ]
    },
    {
      "cell_type": "markdown",
      "source": [
        "**condition**\n",
        "\n"
      ],
      "metadata": {
        "id": "tVwmV1pbVxB5"
      }
    },
    {
      "cell_type": "code",
      "source": [
        "df['condition'].isnull().sum()"
      ],
      "metadata": {
        "colab": {
          "base_uri": "https://localhost:8080/"
        },
        "id": "luxnet1jU48C",
        "outputId": "caaf56b1-6baa-4ec8-ff89-b7d793fccbf0"
      },
      "execution_count": 93,
      "outputs": [
        {
          "output_type": "execute_result",
          "data": {
            "text/plain": [
              "90863"
            ]
          },
          "metadata": {},
          "execution_count": 93
        }
      ]
    },
    {
      "cell_type": "code",
      "source": [
        "df['condition'].value_counts()"
      ],
      "metadata": {
        "colab": {
          "base_uri": "https://localhost:8080/"
        },
        "id": "c7-alPG7WCyN",
        "outputId": "77751b1d-bb5b-46f7-9281-b72b6416c334"
      },
      "execution_count": 94,
      "outputs": [
        {
          "output_type": "execute_result",
          "data": {
            "text/plain": [
              "excellent    56612\n",
              "good         42779\n",
              "like new     11054\n",
              "fair          1034\n",
              "new            290\n",
              "salvage        182\n",
              "Name: condition, dtype: int64"
            ]
          },
          "metadata": {},
          "execution_count": 94
        }
      ]
    },
    {
      "cell_type": "code",
      "source": [
        "df['condition'] = df['condition'].fillna(df['condition'].mode()[0])"
      ],
      "metadata": {
        "id": "AeqnUgluWHaB"
      },
      "execution_count": 95,
      "outputs": []
    },
    {
      "cell_type": "code",
      "source": [
        "## Pie Chart for condition column\n",
        "\n",
        "plt.figure(figsize=(10,6))\n",
        "plt.pie(df.condition.value_counts().values,labels=df.condition.value_counts().index,autopct='%1.2f%%')\n",
        "plt.show()"
      ],
      "metadata": {
        "colab": {
          "base_uri": "https://localhost:8080/",
          "height": 357
        },
        "id": "eJ7uryB0WNqQ",
        "outputId": "3eb0367d-103e-446b-df84-d64a3f21e178"
      },
      "execution_count": 96,
      "outputs": [
        {
          "output_type": "display_data",
          "data": {
            "text/plain": [
              "<Figure size 720x432 with 1 Axes>"
            ],
            "image/png": "[encoded data removed]"
          },
          "metadata": {}
        }
      ]
    },
    {
      "cell_type": "code",
      "source": [
        "# title_status looks like an Ordinal data . Here will use Label Encoding\n",
        "\n",
        "from sklearn import preprocessing\n",
        "\n",
        "LabelEncoding = preprocessing.LabelEncoder()\n",
        "\n",
        "df['condition'] = LabelEncoding.fit_transform(df['condition'])"
      ],
      "metadata": {
        "id": "h68mcAP_WPD1"
      },
      "execution_count": 97,
      "outputs": []
    },
    {
      "cell_type": "markdown",
      "source": [
        "**cylinder**"
      ],
      "metadata": {
        "id": "uHpv2YZQWxKy"
      }
    },
    {
      "cell_type": "code",
      "source": [
        "df['cylinders'].isnull().sum()"
      ],
      "metadata": {
        "colab": {
          "base_uri": "https://localhost:8080/"
        },
        "id": "Nn8oVFS8Wvr-",
        "outputId": "477786df-ab0d-411f-ade9-be8c37f01125"
      },
      "execution_count": 98,
      "outputs": [
        {
          "output_type": "execute_result",
          "data": {
            "text/plain": [
              "80748"
            ]
          },
          "metadata": {},
          "execution_count": 98
        }
      ]
    },
    {
      "cell_type": "code",
      "source": [
        "df['cylinders'].value_counts()"
      ],
      "metadata": {
        "colab": {
          "base_uri": "https://localhost:8080/"
        },
        "id": "C_s6jw9HWivM",
        "outputId": "be3b8053-2f7e-4fb0-e63b-ee1a6302a345"
      },
      "execution_count": 99,
      "outputs": [
        {
          "output_type": "execute_result",
          "data": {
            "text/plain": [
              "6 cylinders     45354\n",
              "4 cylinders     43794\n",
              "8 cylinders     30445\n",
              "5 cylinders       905\n",
              "10 cylinders      780\n",
              "other             490\n",
              "3 cylinders       219\n",
              "12 cylinders       79\n",
              "Name: cylinders, dtype: int64"
            ]
          },
          "metadata": {},
          "execution_count": 99
        }
      ]
    },
    {
      "cell_type": "code",
      "source": [
        "# splitting the cylinder column\n",
        "\n",
        "df['cylinders'] = df['cylinders'].str.split(' ').str[0]"
      ],
      "metadata": {
        "id": "k9frvUdJWkcg"
      },
      "execution_count": 100,
      "outputs": []
    },
    {
      "cell_type": "code",
      "source": [
        "# filling null values\n",
        "\n",
        "df['cylinders'] = df['cylinders'].fillna(df['cylinders'].mode()[0])"
      ],
      "metadata": {
        "id": "LN43pceVXUTr"
      },
      "execution_count": 101,
      "outputs": []
    },
    {
      "cell_type": "code",
      "source": [
        "# replacing others value in cylinder column with 0\n",
        "df['cylinders'] = df['cylinders'].replace(['other'],'0')\n"
      ],
      "metadata": {
        "id": "K72V8_LLXbgZ"
      },
      "execution_count": 102,
      "outputs": []
    },
    {
      "cell_type": "code",
      "source": [
        "# changing into integer column\n",
        "\n",
        "df['cylinders'] = df['cylinders'].astype('int')"
      ],
      "metadata": {
        "id": "pB7T3g3IXx-c"
      },
      "execution_count": 103,
      "outputs": []
    },
    {
      "cell_type": "code",
      "source": [
        "# creating a graph to check null values\n",
        "\n",
        "plt.figure(figsize=(12,8))\n",
        "sns.heatmap(df.isnull(),yticklabels=False,cbar=False,cmap='viridis')"
      ],
      "metadata": {
        "colab": {
          "base_uri": "https://localhost:8080/",
          "height": 569
        },
        "id": "BX-9bRCTY0H2",
        "outputId": "faec91c7-8461-43b4-e289-74e67c8a2876"
      },
      "execution_count": 104,
      "outputs": [
        {
          "output_type": "execute_result",
          "data": {
            "text/plain": [
              "<matplotlib.axes._subplots.AxesSubplot at 0x7f5aa9238c90>"
            ]
          },
          "metadata": {},
          "execution_count": 104
        },
        {
          "output_type": "display_data",
          "data": {
            "text/plain": [
              "<Figure size 864x576 with 1 Axes>"
            ],
            "image/png": "[encoded data removed]"
          },
          "metadata": {
            "needs_background": "light"
          }
        }
      ]
    },
    {
      "cell_type": "code",
      "source": [
        "# Removing the missing percentages greater than zero.\n",
        "missing_percentages =df.isna().sum().sort_values(ascending=False)/len(df) \n",
        "\n",
        "# Plot a graph to check missing percentages \n",
        "plt.figure(figsize=(10,6))\n",
        "missing_percentages[missing_percentages!=0].plot(kind='barh')\n",
        "plt.title(\"Graph for NULL data in percentage \")\n",
        "plt.xlabel(\"% of missing values\")\n",
        "plt.ylabel(\"Features\")"
      ],
      "metadata": {
        "colab": {
          "base_uri": "https://localhost:8080/",
          "height": 422
        },
        "id": "vh3chrqFZRLa",
        "outputId": "3c44d5f1-2614-4dc1-c5e9-65db318b2242"
      },
      "execution_count": 105,
      "outputs": [
        {
          "output_type": "execute_result",
          "data": {
            "text/plain": [
              "Text(0, 0.5, 'Features')"
            ]
          },
          "metadata": {},
          "execution_count": 105
        },
        {
          "output_type": "display_data",
          "data": {
            "text/plain": [
              "<Figure size 720x432 with 1 Axes>"
            ],
            "image/png": "[encoded data removed]"
          },
          "metadata": {
            "needs_background": "light"
          }
        }
      ]
    },
    {
      "cell_type": "markdown",
      "source": [
        "**drive** "
      ],
      "metadata": {
        "id": "huE1rAs9YyCR"
      }
    },
    {
      "cell_type": "code",
      "source": [
        "df['drive'].isnull().sum()"
      ],
      "metadata": {
        "colab": {
          "base_uri": "https://localhost:8080/"
        },
        "id": "DvItNoJeYt70",
        "outputId": "dfc8949b-b5da-4e77-b61c-e38201667f1b"
      },
      "execution_count": 106,
      "outputs": [
        {
          "output_type": "execute_result",
          "data": {
            "text/plain": [
              "58202"
            ]
          },
          "metadata": {},
          "execution_count": 106
        }
      ]
    },
    {
      "cell_type": "code",
      "source": [
        "df['drive'].value_counts()"
      ],
      "metadata": {
        "colab": {
          "base_uri": "https://localhost:8080/"
        },
        "id": "GfU2pNmMYvGj",
        "outputId": "057838d0-d3c0-43e1-f98f-92fcb3beb068"
      },
      "execution_count": 107,
      "outputs": [
        {
          "output_type": "execute_result",
          "data": {
            "text/plain": [
              "4wd    64941\n",
              "fwd    55202\n",
              "rwd    24469\n",
              "Name: drive, dtype: int64"
            ]
          },
          "metadata": {},
          "execution_count": 107
        }
      ]
    },
    {
      "cell_type": "code",
      "source": [
        "df['drive'] = df['drive'].fillna(df['drive'].mode()[0])"
      ],
      "metadata": {
        "id": "z2GtVxmDZLqR"
      },
      "execution_count": 108,
      "outputs": []
    },
    {
      "cell_type": "code",
      "source": [
        "## Pie Chart for drive column\n",
        "\n",
        "plt.figure(figsize=(10,6))\n",
        "plt.pie(df.drive.value_counts().values,labels=df.drive.value_counts().index,autopct='%1.2f%%')\n",
        "plt.show()"
      ],
      "metadata": {
        "colab": {
          "base_uri": "https://localhost:8080/",
          "height": 357
        },
        "id": "yilHCJhVZxjP",
        "outputId": "73d65f8b-af32-426b-a6d3-c909417a350f"
      },
      "execution_count": 109,
      "outputs": [
        {
          "output_type": "display_data",
          "data": {
            "text/plain": [
              "<Figure size 720x432 with 1 Axes>"
            ],
            "image/png": "[encoded data removed]"
          },
          "metadata": {}
        }
      ]
    },
    {
      "cell_type": "code",
      "source": [
        "# title_status looks like an Ordinal data . Here will use Label Encoding\n",
        "\n",
        "from sklearn import preprocessing\n",
        "\n",
        "LabelEncoding = preprocessing.LabelEncoder()\n",
        "\n",
        "df['drive'] = LabelEncoding.fit_transform(df['drive'])"
      ],
      "metadata": {
        "id": "4CQTzs3bZ0x4"
      },
      "execution_count": 110,
      "outputs": []
    },
    {
      "cell_type": "markdown",
      "source": [
        "**type**"
      ],
      "metadata": {
        "id": "ZRjjyTATaI4M"
      }
    },
    {
      "cell_type": "code",
      "source": [
        "df['type'].isnull().sum()"
      ],
      "metadata": {
        "colab": {
          "base_uri": "https://localhost:8080/"
        },
        "id": "eZt7-PGlZ9BO",
        "outputId": "b5407473-9d69-483b-b364-cb0c2e421147"
      },
      "execution_count": 111,
      "outputs": [
        {
          "output_type": "execute_result",
          "data": {
            "text/plain": [
              "41176"
            ]
          },
          "metadata": {},
          "execution_count": 111
        }
      ]
    },
    {
      "cell_type": "code",
      "source": [
        "df['type'].value_counts()"
      ],
      "metadata": {
        "colab": {
          "base_uri": "https://localhost:8080/"
        },
        "id": "vplYJkdRZ-IR",
        "outputId": "9f9c1610-4d6d-4dcd-d77b-f4fdeb4e44b3"
      },
      "execution_count": 112,
      "outputs": [
        {
          "output_type": "execute_result",
          "data": {
            "text/plain": [
              "sedan          47277\n",
              "SUV            39237\n",
              "pickup         17642\n",
              "truck          16887\n",
              "other           8589\n",
              "coupe           8060\n",
              "hatchback       7890\n",
              "wagon           5703\n",
              "van             3970\n",
              "convertible     3738\n",
              "mini-van        2240\n",
              "offroad          214\n",
              "bus              191\n",
              "Name: type, dtype: int64"
            ]
          },
          "metadata": {},
          "execution_count": 112
        }
      ]
    },
    {
      "cell_type": "code",
      "source": [
        "df['type'] = df['type'].fillna(df['type'].mode()[0])"
      ],
      "metadata": {
        "id": "CY1ru2nJaSrt"
      },
      "execution_count": 113,
      "outputs": []
    },
    {
      "cell_type": "code",
      "source": [
        "## Pie Chart for top 6 type column\n",
        "\n",
        "plt.figure(figsize=(10,6))\n",
        "plt.pie(df['type'].value_counts().values[:6],labels=df['type'].value_counts().index[:6],autopct='%1.2f%%')\n",
        "plt.show()"
      ],
      "metadata": {
        "colab": {
          "base_uri": "https://localhost:8080/",
          "height": 357
        },
        "id": "G09ux-gpbHEv",
        "outputId": "4dbe11f9-8dc5-421a-874f-e1086fe9b647"
      },
      "execution_count": 114,
      "outputs": [
        {
          "output_type": "display_data",
          "data": {
            "text/plain": [
              "<Figure size 720x432 with 1 Axes>"
            ],
            "image/png": "[encoded data removed]"
          },
          "metadata": {}
        }
      ]
    },
    {
      "cell_type": "code",
      "source": [
        "# We are using one hot encoding\n",
        "\n",
        "from sklearn.preprocessing import OneHotEncoder\n",
        "\n",
        "#creating instance of one-hot-encoder\n",
        "#encoder = OneHotEncoder(handle_unknown='ignore')\n",
        "\n",
        "#perform one-hot encoding on 'team' column \n",
        "#encoder_df_2 = pd.DataFrame(encoder.fit_transform(df[['type']]).toarray())\n"
      ],
      "metadata": {
        "id": "m2iTxdSc12W0"
      },
      "execution_count": 115,
      "outputs": []
    },
    {
      "cell_type": "code",
      "source": [
        "#Create an object for Base N Encoding\n",
        "encoder_type= ce.BaseNEncoder(cols=['type'],return_df=True,base=5)"
      ],
      "metadata": {
        "id": "NdZZsKFp3C9S"
      },
      "execution_count": 118,
      "outputs": []
    },
    {
      "cell_type": "code",
      "source": [
        "df=encoder_type.fit_transform(df)\n",
        "df"
      ],
      "metadata": {
        "id": "im7v93Xr3FYU",
        "colab": {
          "base_uri": "https://localhost:8080/",
          "height": 423
        },
        "outputId": "32fc0f5d-d2bb-4a01-b9f5-6e8dc0a5c74a"
      },
      "execution_count": 119,
      "outputs": [
        {
          "output_type": "execute_result",
          "data": {
            "text/plain": [
              "        price    year  manufacturer_0  manufacturer_1  manufacturer_2  \\\n",
              "0       33590  2014.0               0               0               1   \n",
              "1       22590  2010.0               0               0               2   \n",
              "2       30990  2017.0               0               0               3   \n",
              "3       15000  2013.0               0               0               4   \n",
              "4       27990  2012.0               0               0               1   \n",
              "...       ...     ...             ...             ...             ...   \n",
              "202809   7477  2012.0               1               1               1   \n",
              "202810  39990  2017.0               0               2               1   \n",
              "202811  29590  2016.0               0               0               3   \n",
              "202812  32990  2016.0               0               2               1   \n",
              "202813  13990  2016.0               0               0               4   \n",
              "\n",
              "        condition  cylinders  fuel  odometer  title_status  transmission  \\\n",
              "0               2          8     2   57923.0             0             2   \n",
              "1               2          8     2   71229.0             0             2   \n",
              "2               2          8     2   41124.0             0             2   \n",
              "3               0          6     2  128000.0             0             0   \n",
              "4               2          8     2   68696.0             0             2   \n",
              "...           ...        ...   ...       ...           ...           ...   \n",
              "202809          0          6     2   64267.0             0             1   \n",
              "202810          2          8     2   41664.0             0             0   \n",
              "202811          2          6     2   53475.0             0             0   \n",
              "202812          2          8     2   55612.0             0             0   \n",
              "202813          2          6     4   75626.0             0             2   \n",
              "\n",
              "        drive       size  type_0  type_1 paint_color  \n",
              "0           0        NaN       0       1       white  \n",
              "1           0        NaN       0       1        blue  \n",
              "2           0        NaN       0       1         red  \n",
              "3           2  full-size       0       2       black  \n",
              "4           0        NaN       0       1       black  \n",
              "...       ...        ...     ...     ...         ...  \n",
              "202809      0        NaN       1       1         NaN  \n",
              "202810      0        NaN       1       2       black  \n",
              "202811      0        NaN       0       3       black  \n",
              "202812      2        NaN       1       2       black  \n",
              "202813      1        NaN       1       1       white  \n",
              "\n",
              "[202814 rows x 16 columns]"
            ],
            "text/html": [
              "\n",
              "  <div id=\"df-16f647c0-8fb3-4bd8-9f1d-9b785f3315ec\">\n",
              "    <div class=\"colab-df-container\">\n",
              "      <div>\n",
              "<style scoped>\n",
              "    .dataframe tbody tr th:only-of-type {\n",
              "        vertical-align: middle;\n",
              "    }\n",
              "\n",
              "    .dataframe tbody tr th {\n",
              "        vertical-align: top;\n",
              "    }\n",
              "\n",
              "    .dataframe thead th {\n",
              "        text-align: right;\n",
              "    }\n",
              "</style>\n",
              "<table border=\"1\" class=\"dataframe\">\n",
              "  <thead>\n",
              "    <tr style=\"text-align: right;\">\n",
              "      <th></th>\n",
              "      <th>price</th>\n",
              "      <th>year</th>\n",
              "      <th>manufacturer_0</th>\n",
              "      <th>manufacturer_1</th>\n",
              "      <th>manufacturer_2</th>\n",
              "      <th>condition</th>\n",
              "      <th>cylinders</th>\n",
              "      <th>fuel</th>\n",
              "      <th>odometer</th>\n",
              "      <th>title_status</th>\n",
              "      <th>transmission</th>\n",
              "      <th>drive</th>\n",
              "      <th>size</th>\n",
              "      <th>type_0</th>\n",
              "      <th>type_1</th>\n",
              "      <th>paint_color</th>\n",
              "    </tr>\n",
              "  </thead>\n",
              "  <tbody>\n",
              "    <tr>\n",
              "      <th>0</th>\n",
              "      <td>33590</td>\n",
              "      <td>2014.0</td>\n",
              "      <td>0</td>\n",
              "      <td>0</td>\n",
              "      <td>1</td>\n",
              "      <td>2</td>\n",
              "      <td>8</td>\n",
              "      <td>2</td>\n",
              "      <td>57923.0</td>\n",
              "      <td>0</td>\n",
              "      <td>2</td>\n",
              "      <td>0</td>\n",
              "      <td>NaN</td>\n",
              "      <td>0</td>\n",
              "      <td>1</td>\n",
              "      <td>white</td>\n",
              "    </tr>\n",
              "    <tr>\n",
              "      <th>1</th>\n",
              "      <td>22590</td>\n",
              "      <td>2010.0</td>\n",
              "      <td>0</td>\n",
              "      <td>0</td>\n",
              "      <td>2</td>\n",
              "      <td>2</td>\n",
              "      <td>8</td>\n",
              "      <td>2</td>\n",
              "      <td>71229.0</td>\n",
              "      <td>0</td>\n",
              "      <td>2</td>\n",
              "      <td>0</td>\n",
              "      <td>NaN</td>\n",
              "      <td>0</td>\n",
              "      <td>1</td>\n",
              "      <td>blue</td>\n",
              "    </tr>\n",
              "    <tr>\n",
              "      <th>2</th>\n",
              "      <td>30990</td>\n",
              "      <td>2017.0</td>\n",
              "      <td>0</td>\n",
              "      <td>0</td>\n",
              "      <td>3</td>\n",
              "      <td>2</td>\n",
              "      <td>8</td>\n",
              "      <td>2</td>\n",
              "      <td>41124.0</td>\n",
              "      <td>0</td>\n",
              "      <td>2</td>\n",
              "      <td>0</td>\n",
              "      <td>NaN</td>\n",
              "      <td>0</td>\n",
              "      <td>1</td>\n",
              "      <td>red</td>\n",
              "    </tr>\n",
              "    <tr>\n",
              "      <th>3</th>\n",
              "      <td>15000</td>\n",
              "      <td>2013.0</td>\n",
              "      <td>0</td>\n",
              "      <td>0</td>\n",
              "      <td>4</td>\n",
              "      <td>0</td>\n",
              "      <td>6</td>\n",
              "      <td>2</td>\n",
              "      <td>128000.0</td>\n",
              "      <td>0</td>\n",
              "      <td>0</td>\n",
              "      <td>2</td>\n",
              "      <td>full-size</td>\n",
              "      <td>0</td>\n",
              "      <td>2</td>\n",
              "      <td>black</td>\n",
              "    </tr>\n",
              "    <tr>\n",
              "      <th>4</th>\n",
              "      <td>27990</td>\n",
              "      <td>2012.0</td>\n",
              "      <td>0</td>\n",
              "      <td>0</td>\n",
              "      <td>1</td>\n",
              "      <td>2</td>\n",
              "      <td>8</td>\n",
              "      <td>2</td>\n",
              "      <td>68696.0</td>\n",
              "      <td>0</td>\n",
              "      <td>2</td>\n",
              "      <td>0</td>\n",
              "      <td>NaN</td>\n",
              "      <td>0</td>\n",
              "      <td>1</td>\n",
              "      <td>black</td>\n",
              "    </tr>\n",
              "    <tr>\n",
              "      <th>...</th>\n",
              "      <td>...</td>\n",
              "      <td>...</td>\n",
              "      <td>...</td>\n",
              "      <td>...</td>\n",
              "      <td>...</td>\n",
              "      <td>...</td>\n",
              "      <td>...</td>\n",
              "      <td>...</td>\n",
              "      <td>...</td>\n",
              "      <td>...</td>\n",
              "      <td>...</td>\n",
              "      <td>...</td>\n",
              "      <td>...</td>\n",
              "      <td>...</td>\n",
              "      <td>...</td>\n",
              "      <td>...</td>\n",
              "    </tr>\n",
              "    <tr>\n",
              "      <th>202809</th>\n",
              "      <td>7477</td>\n",
              "      <td>2012.0</td>\n",
              "      <td>1</td>\n",
              "      <td>1</td>\n",
              "      <td>1</td>\n",
              "      <td>0</td>\n",
              "      <td>6</td>\n",
              "      <td>2</td>\n",
              "      <td>64267.0</td>\n",
              "      <td>0</td>\n",
              "      <td>1</td>\n",
              "      <td>0</td>\n",
              "      <td>NaN</td>\n",
              "      <td>1</td>\n",
              "      <td>1</td>\n",
              "      <td>NaN</td>\n",
              "    </tr>\n",
              "    <tr>\n",
              "      <th>202810</th>\n",
              "      <td>39990</td>\n",
              "      <td>2017.0</td>\n",
              "      <td>0</td>\n",
              "      <td>2</td>\n",
              "      <td>1</td>\n",
              "      <td>2</td>\n",
              "      <td>8</td>\n",
              "      <td>2</td>\n",
              "      <td>41664.0</td>\n",
              "      <td>0</td>\n",
              "      <td>0</td>\n",
              "      <td>0</td>\n",
              "      <td>NaN</td>\n",
              "      <td>1</td>\n",
              "      <td>2</td>\n",
              "      <td>black</td>\n",
              "    </tr>\n",
              "    <tr>\n",
              "      <th>202811</th>\n",
              "      <td>29590</td>\n",
              "      <td>2016.0</td>\n",
              "      <td>0</td>\n",
              "      <td>0</td>\n",
              "      <td>3</td>\n",
              "      <td>2</td>\n",
              "      <td>6</td>\n",
              "      <td>2</td>\n",
              "      <td>53475.0</td>\n",
              "      <td>0</td>\n",
              "      <td>0</td>\n",
              "      <td>0</td>\n",
              "      <td>NaN</td>\n",
              "      <td>0</td>\n",
              "      <td>3</td>\n",
              "      <td>black</td>\n",
              "    </tr>\n",
              "    <tr>\n",
              "      <th>202812</th>\n",
              "      <td>32990</td>\n",
              "      <td>2016.0</td>\n",
              "      <td>0</td>\n",
              "      <td>2</td>\n",
              "      <td>1</td>\n",
              "      <td>2</td>\n",
              "      <td>8</td>\n",
              "      <td>2</td>\n",
              "      <td>55612.0</td>\n",
              "      <td>0</td>\n",
              "      <td>0</td>\n",
              "      <td>2</td>\n",
              "      <td>NaN</td>\n",
              "      <td>1</td>\n",
              "      <td>2</td>\n",
              "      <td>black</td>\n",
              "    </tr>\n",
              "    <tr>\n",
              "      <th>202813</th>\n",
              "      <td>13990</td>\n",
              "      <td>2016.0</td>\n",
              "      <td>0</td>\n",
              "      <td>0</td>\n",
              "      <td>4</td>\n",
              "      <td>2</td>\n",
              "      <td>6</td>\n",
              "      <td>4</td>\n",
              "      <td>75626.0</td>\n",
              "      <td>0</td>\n",
              "      <td>2</td>\n",
              "      <td>1</td>\n",
              "      <td>NaN</td>\n",
              "      <td>1</td>\n",
              "      <td>1</td>\n",
              "      <td>white</td>\n",
              "    </tr>\n",
              "  </tbody>\n",
              "</table>\n",
              "<p>202814 rows × 16 columns</p>\n",
              "</div>\n",
              "      <button class=\"colab-df-convert\" onclick=\"convertToInteractive('df-16f647c0-8fb3-4bd8-9f1d-9b785f3315ec')\"\n",
              "              title=\"Convert this dataframe to an interactive table.\"\n",
              "              style=\"display:none;\">\n",
              "        \n",
              "  <svg xmlns=\"http://www.w3.org/2000/svg\" height=\"24px\"viewBox=\"0 0 24 24\"\n",
              "       width=\"24px\">\n",
              "    <path d=\"M0 0h24v24H0V0z\" fill=\"none\"/>\n",
              "    <path d=\"M18.56 5.44l.94 2.06.94-2.06 2.06-.94-2.06-.94-.94-2.06-.94 2.06-2.06.94zm-11 1L8.5 8.5l.94-2.06 2.06-.94-2.06-.94L8.5 2.5l-.94 2.06-2.06.94zm10 10l.94 2.06.94-2.06 2.06-.94-2.06-.94-.94-2.06-.94 2.06-2.06.94z\"/><path d=\"M17.41 7.96l-1.37-1.37c-.4-.4-.92-.59-1.43-.59-.52 0-1.04.2-1.43.59L10.3 9.45l-7.72 7.72c-.78.78-.78 2.05 0 2.83L4 21.41c.39.39.9.59 1.41.59.51 0 1.02-.2 1.41-.59l7.78-7.78 2.81-2.81c.8-.78.8-2.07 0-2.86zM5.41 20L4 18.59l7.72-7.72 1.47 1.35L5.41 20z\"/>\n",
              "  </svg>\n",
              "      </button>\n",
              "      \n",
              "  <style>\n",
              "    .colab-df-container {\n",
              "      display:flex;\n",
              "      flex-wrap:wrap;\n",
              "      gap: 12px;\n",
              "    }\n",
              "\n",
              "    .colab-df-convert {\n",
              "      background-color: #E8F0FE;\n",
              "      border: none;\n",
              "      border-radius: 50%;\n",
              "      cursor: pointer;\n",
              "      display: none;\n",
              "      fill: #1967D2;\n",
              "      height: 32px;\n",
              "      padding: 0 0 0 0;\n",
              "      width: 32px;\n",
              "    }\n",
              "\n",
              "    .colab-df-convert:hover {\n",
              "      background-color: #E2EBFA;\n",
              "      box-shadow: 0px 1px 2px rgba(60, 64, 67, 0.3), 0px 1px 3px 1px rgba(60, 64, 67, 0.15);\n",
              "      fill: #174EA6;\n",
              "    }\n",
              "\n",
              "    [theme=dark] .colab-df-convert {\n",
              "      background-color: #3B4455;\n",
              "      fill: #D2E3FC;\n",
              "    }\n",
              "\n",
              "    [theme=dark] .colab-df-convert:hover {\n",
              "      background-color: #434B5C;\n",
              "      box-shadow: 0px 1px 3px 1px rgba(0, 0, 0, 0.15);\n",
              "      filter: drop-shadow(0px 1px 2px rgba(0, 0, 0, 0.3));\n",
              "      fill: #FFFFFF;\n",
              "    }\n",
              "  </style>\n",
              "\n",
              "      <script>\n",
              "        const buttonEl =\n",
              "          document.querySelector('#df-16f647c0-8fb3-4bd8-9f1d-9b785f3315ec button.colab-df-convert');\n",
              "        buttonEl.style.display =\n",
              "          google.colab.kernel.accessAllowed ? 'block' : 'none';\n",
              "\n",
              "        async function convertToInteractive(key) {\n",
              "          const element = document.querySelector('#df-16f647c0-8fb3-4bd8-9f1d-9b785f3315ec');\n",
              "          const dataTable =\n",
              "            await google.colab.kernel.invokeFunction('convertToInteractive',\n",
              "                                                     [key], {});\n",
              "          if (!dataTable) return;\n",
              "\n",
              "          const docLinkHtml = 'Like what you see? Visit the ' +\n",
              "            '<a target=\"_blank\" href=https://colab.research.google.com/notebooks/data_table.ipynb>data table notebook</a>'\n",
              "            + ' to learn more about interactive tables.';\n",
              "          element.innerHTML = '';\n",
              "          dataTable['output_type'] = 'display_data';\n",
              "          await google.colab.output.renderOutput(dataTable, element);\n",
              "          const docLink = document.createElement('div');\n",
              "          docLink.innerHTML = docLinkHtml;\n",
              "          element.appendChild(docLink);\n",
              "        }\n",
              "      </script>\n",
              "    </div>\n",
              "  </div>\n",
              "  "
            ]
          },
          "metadata": {},
          "execution_count": 119
        }
      ]
    },
    {
      "cell_type": "code",
      "source": [
        "# Removing the missing percentages greater than zero.\n",
        "missing_percentages =df.isna().sum().sort_values(ascending=False)/len(df) \n",
        "\n",
        "# Plot a graph to check missing percentages \n",
        "plt.figure(figsize=(10,6))\n",
        "missing_percentages[missing_percentages!=0].plot(kind='barh')\n",
        "plt.title(\"Graph for NULL data in percentage \")\n",
        "plt.xlabel(\"% of missing values\")\n",
        "plt.ylabel(\"Features\")"
      ],
      "metadata": {
        "colab": {
          "base_uri": "https://localhost:8080/",
          "height": 422
        },
        "id": "WKp8CYap3stL",
        "outputId": "6334e75b-c00b-4e06-d552-d278fe36047d"
      },
      "execution_count": 120,
      "outputs": [
        {
          "output_type": "execute_result",
          "data": {
            "text/plain": [
              "Text(0, 0.5, 'Features')"
            ]
          },
          "metadata": {},
          "execution_count": 120
        },
        {
          "output_type": "display_data",
          "data": {
            "text/plain": [
              "<Figure size 720x432 with 1 Axes>"
            ],
            "image/png": "[encoded data removed]"
          },
          "metadata": {
            "needs_background": "light"
          }
        }
      ]
    },
    {
      "cell_type": "markdown",
      "source": [
        "Size column contains about 70 percent of the Null values, dropping this column for now"
      ],
      "metadata": {
        "id": "hqeERHxB35sH"
      }
    },
    {
      "cell_type": "code",
      "source": [
        "# size column drop\n",
        "\n",
        "df.drop('size' , axis =1 , inplace = True)"
      ],
      "metadata": {
        "id": "xHubRc-f35Oi"
      },
      "execution_count": 121,
      "outputs": []
    },
    {
      "cell_type": "markdown",
      "source": [
        "**paint_color**         "
      ],
      "metadata": {
        "id": "s3sAkSmH4v1A"
      }
    },
    {
      "cell_type": "code",
      "source": [
        "df['paint_color'].isnull().sum()"
      ],
      "metadata": {
        "colab": {
          "base_uri": "https://localhost:8080/"
        },
        "id": "he5vcn3L3tha",
        "outputId": "029bb88d-cdfd-48a9-dd92-4a6c24d113d5"
      },
      "execution_count": 122,
      "outputs": [
        {
          "output_type": "execute_result",
          "data": {
            "text/plain": [
              "59996"
            ]
          },
          "metadata": {},
          "execution_count": 122
        }
      ]
    },
    {
      "cell_type": "code",
      "source": [
        "df['paint_color'].value_counts()"
      ],
      "metadata": {
        "colab": {
          "base_uri": "https://localhost:8080/"
        },
        "id": "AMVNI7Ma4Poe",
        "outputId": "46e38583-b771-4665-f56e-213ff01911d0"
      },
      "execution_count": 123,
      "outputs": [
        {
          "output_type": "execute_result",
          "data": {
            "text/plain": [
              "white     37225\n",
              "black     31770\n",
              "silver    21748\n",
              "blue      14183\n",
              "red       13592\n",
              "grey      13417\n",
              "custom     3368\n",
              "brown      3020\n",
              "green      2679\n",
              "orange      797\n",
              "yellow      760\n",
              "purple      259\n",
              "Name: paint_color, dtype: int64"
            ]
          },
          "metadata": {},
          "execution_count": 123
        }
      ]
    },
    {
      "cell_type": "code",
      "source": [
        "df['paint_color'] = df['paint_color'].fillna(df['paint_color'].mode()[0])"
      ],
      "metadata": {
        "id": "5iqN-KL44_zx"
      },
      "execution_count": 124,
      "outputs": []
    },
    {
      "cell_type": "code",
      "source": [
        "## Pie Chart for top 6 paint_color column\n",
        "\n",
        "plt.figure(figsize=(10,6))\n",
        "plt.pie(df['paint_color'].value_counts().values[:6],labels=df['paint_color'].value_counts().index[:6],autopct='%1.2f%%')\n",
        "plt.show()"
      ],
      "metadata": {
        "colab": {
          "base_uri": "https://localhost:8080/",
          "height": 357
        },
        "id": "aYMIJg615Mxu",
        "outputId": "ee5b5ecb-46ec-46e2-bebd-83d140a66f7a"
      },
      "execution_count": 125,
      "outputs": [
        {
          "output_type": "display_data",
          "data": {
            "text/plain": [
              "<Figure size 720x432 with 1 Axes>"
            ],
            "image/png": "[encoded data removed]"
          },
          "metadata": {}
        }
      ]
    },
    {
      "cell_type": "code",
      "source": [
        "# We are using one hot encoding\n",
        "from sklearn.preprocessing import OneHotEncoder\n",
        "\n",
        "#creating instance of one-hot-encoder\n",
        "#encoder = OneHotEncoder(handle_unknown='ignore')\n",
        "\n",
        "#perform one-hot encoding on 'team' column \n",
        "#encoder_df_3 = pd.DataFrame(encoder.fit_transform(df[['paint_color']]).toarray())"
      ],
      "metadata": {
        "id": "JIuhgcaa5i48"
      },
      "execution_count": 126,
      "outputs": []
    },
    {
      "cell_type": "code",
      "source": [
        "encoder_paint = ce.BaseNEncoder(cols=['paint_color'],return_df=True,base=5)\n",
        "df = encoder_paint.fit_transform(df)\n",
        "df\n"
      ],
      "metadata": {
        "colab": {
          "base_uri": "https://localhost:8080/",
          "height": 467
        },
        "id": "_KuneA6I5qH8",
        "outputId": "dc54487b-d3c0-4953-a2de-ffc89177aece"
      },
      "execution_count": 127,
      "outputs": [
        {
          "output_type": "execute_result",
          "data": {
            "text/plain": [
              "        price    year  manufacturer_0  manufacturer_1  manufacturer_2  \\\n",
              "0       33590  2014.0               0               0               1   \n",
              "1       22590  2010.0               0               0               2   \n",
              "2       30990  2017.0               0               0               3   \n",
              "3       15000  2013.0               0               0               4   \n",
              "4       27990  2012.0               0               0               1   \n",
              "...       ...     ...             ...             ...             ...   \n",
              "202809   7477  2012.0               1               1               1   \n",
              "202810  39990  2017.0               0               2               1   \n",
              "202811  29590  2016.0               0               0               3   \n",
              "202812  32990  2016.0               0               2               1   \n",
              "202813  13990  2016.0               0               0               4   \n",
              "\n",
              "        condition  cylinders  fuel  odometer  title_status  transmission  \\\n",
              "0               2          8     2   57923.0             0             2   \n",
              "1               2          8     2   71229.0             0             2   \n",
              "2               2          8     2   41124.0             0             2   \n",
              "3               0          6     2  128000.0             0             0   \n",
              "4               2          8     2   68696.0             0             2   \n",
              "...           ...        ...   ...       ...           ...           ...   \n",
              "202809          0          6     2   64267.0             0             1   \n",
              "202810          2          8     2   41664.0             0             0   \n",
              "202811          2          6     2   53475.0             0             0   \n",
              "202812          2          8     2   55612.0             0             0   \n",
              "202813          2          6     4   75626.0             0             2   \n",
              "\n",
              "        drive  type_0  type_1  paint_color_0  paint_color_1  \n",
              "0           0       0       1              0              1  \n",
              "1           0       0       1              0              2  \n",
              "2           0       0       1              0              3  \n",
              "3           2       0       2              0              4  \n",
              "4           0       0       1              0              4  \n",
              "...       ...     ...     ...            ...            ...  \n",
              "202809      0       1       1              0              1  \n",
              "202810      0       1       2              0              4  \n",
              "202811      0       0       3              0              4  \n",
              "202812      2       1       2              0              4  \n",
              "202813      1       1       1              0              1  \n",
              "\n",
              "[202814 rows x 16 columns]"
            ],
            "text/html": [
              "\n",
              "  <div id=\"df-d8564de7-8faf-4fbf-978d-27bf1fc6d94b\">\n",
              "    <div class=\"colab-df-container\">\n",
              "      <div>\n",
              "<style scoped>\n",
              "    .dataframe tbody tr th:only-of-type {\n",
              "        vertical-align: middle;\n",
              "    }\n",
              "\n",
              "    .dataframe tbody tr th {\n",
              "        vertical-align: top;\n",
              "    }\n",
              "\n",
              "    .dataframe thead th {\n",
              "        text-align: right;\n",
              "    }\n",
              "</style>\n",
              "<table border=\"1\" class=\"dataframe\">\n",
              "  <thead>\n",
              "    <tr style=\"text-align: right;\">\n",
              "      <th></th>\n",
              "      <th>price</th>\n",
              "      <th>year</th>\n",
              "      <th>manufacturer_0</th>\n",
              "      <th>manufacturer_1</th>\n",
              "      <th>manufacturer_2</th>\n",
              "      <th>condition</th>\n",
              "      <th>cylinders</th>\n",
              "      <th>fuel</th>\n",
              "      <th>odometer</th>\n",
              "      <th>title_status</th>\n",
              "      <th>transmission</th>\n",
              "      <th>drive</th>\n",
              "      <th>type_0</th>\n",
              "      <th>type_1</th>\n",
              "      <th>paint_color_0</th>\n",
              "      <th>paint_color_1</th>\n",
              "    </tr>\n",
              "  </thead>\n",
              "  <tbody>\n",
              "    <tr>\n",
              "      <th>0</th>\n",
              "      <td>33590</td>\n",
              "      <td>2014.0</td>\n",
              "      <td>0</td>\n",
              "      <td>0</td>\n",
              "      <td>1</td>\n",
              "      <td>2</td>\n",
              "      <td>8</td>\n",
              "      <td>2</td>\n",
              "      <td>57923.0</td>\n",
              "      <td>0</td>\n",
              "      <td>2</td>\n",
              "      <td>0</td>\n",
              "      <td>0</td>\n",
              "      <td>1</td>\n",
              "      <td>0</td>\n",
              "      <td>1</td>\n",
              "    </tr>\n",
              "    <tr>\n",
              "      <th>1</th>\n",
              "      <td>22590</td>\n",
              "      <td>2010.0</td>\n",
              "      <td>0</td>\n",
              "      <td>0</td>\n",
              "      <td>2</td>\n",
              "      <td>2</td>\n",
              "      <td>8</td>\n",
              "      <td>2</td>\n",
              "      <td>71229.0</td>\n",
              "      <td>0</td>\n",
              "      <td>2</td>\n",
              "      <td>0</td>\n",
              "      <td>0</td>\n",
              "      <td>1</td>\n",
              "      <td>0</td>\n",
              "      <td>2</td>\n",
              "    </tr>\n",
              "    <tr>\n",
              "      <th>2</th>\n",
              "      <td>30990</td>\n",
              "      <td>2017.0</td>\n",
              "      <td>0</td>\n",
              "      <td>0</td>\n",
              "      <td>3</td>\n",
              "      <td>2</td>\n",
              "      <td>8</td>\n",
              "      <td>2</td>\n",
              "      <td>41124.0</td>\n",
              "      <td>0</td>\n",
              "      <td>2</td>\n",
              "      <td>0</td>\n",
              "      <td>0</td>\n",
              "      <td>1</td>\n",
              "      <td>0</td>\n",
              "      <td>3</td>\n",
              "    </tr>\n",
              "    <tr>\n",
              "      <th>3</th>\n",
              "      <td>15000</td>\n",
              "      <td>2013.0</td>\n",
              "      <td>0</td>\n",
              "      <td>0</td>\n",
              "      <td>4</td>\n",
              "      <td>0</td>\n",
              "      <td>6</td>\n",
              "      <td>2</td>\n",
              "      <td>128000.0</td>\n",
              "      <td>0</td>\n",
              "      <td>0</td>\n",
              "      <td>2</td>\n",
              "      <td>0</td>\n",
              "      <td>2</td>\n",
              "      <td>0</td>\n",
              "      <td>4</td>\n",
              "    </tr>\n",
              "    <tr>\n",
              "      <th>4</th>\n",
              "      <td>27990</td>\n",
              "      <td>2012.0</td>\n",
              "      <td>0</td>\n",
              "      <td>0</td>\n",
              "      <td>1</td>\n",
              "      <td>2</td>\n",
              "      <td>8</td>\n",
              "      <td>2</td>\n",
              "      <td>68696.0</td>\n",
              "      <td>0</td>\n",
              "      <td>2</td>\n",
              "      <td>0</td>\n",
              "      <td>0</td>\n",
              "      <td>1</td>\n",
              "      <td>0</td>\n",
              "      <td>4</td>\n",
              "    </tr>\n",
              "    <tr>\n",
              "      <th>...</th>\n",
              "      <td>...</td>\n",
              "      <td>...</td>\n",
              "      <td>...</td>\n",
              "      <td>...</td>\n",
              "      <td>...</td>\n",
              "      <td>...</td>\n",
              "      <td>...</td>\n",
              "      <td>...</td>\n",
              "      <td>...</td>\n",
              "      <td>...</td>\n",
              "      <td>...</td>\n",
              "      <td>...</td>\n",
              "      <td>...</td>\n",
              "      <td>...</td>\n",
              "      <td>...</td>\n",
              "      <td>...</td>\n",
              "    </tr>\n",
              "    <tr>\n",
              "      <th>202809</th>\n",
              "      <td>7477</td>\n",
              "      <td>2012.0</td>\n",
              "      <td>1</td>\n",
              "      <td>1</td>\n",
              "      <td>1</td>\n",
              "      <td>0</td>\n",
              "      <td>6</td>\n",
              "      <td>2</td>\n",
              "      <td>64267.0</td>\n",
              "      <td>0</td>\n",
              "      <td>1</td>\n",
              "      <td>0</td>\n",
              "      <td>1</td>\n",
              "      <td>1</td>\n",
              "      <td>0</td>\n",
              "      <td>1</td>\n",
              "    </tr>\n",
              "    <tr>\n",
              "      <th>202810</th>\n",
              "      <td>39990</td>\n",
              "      <td>2017.0</td>\n",
              "      <td>0</td>\n",
              "      <td>2</td>\n",
              "      <td>1</td>\n",
              "      <td>2</td>\n",
              "      <td>8</td>\n",
              "      <td>2</td>\n",
              "      <td>41664.0</td>\n",
              "      <td>0</td>\n",
              "      <td>0</td>\n",
              "      <td>0</td>\n",
              "      <td>1</td>\n",
              "      <td>2</td>\n",
              "      <td>0</td>\n",
              "      <td>4</td>\n",
              "    </tr>\n",
              "    <tr>\n",
              "      <th>202811</th>\n",
              "      <td>29590</td>\n",
              "      <td>2016.0</td>\n",
              "      <td>0</td>\n",
              "      <td>0</td>\n",
              "      <td>3</td>\n",
              "      <td>2</td>\n",
              "      <td>6</td>\n",
              "      <td>2</td>\n",
              "      <td>53475.0</td>\n",
              "      <td>0</td>\n",
              "      <td>0</td>\n",
              "      <td>0</td>\n",
              "      <td>0</td>\n",
              "      <td>3</td>\n",
              "      <td>0</td>\n",
              "      <td>4</td>\n",
              "    </tr>\n",
              "    <tr>\n",
              "      <th>202812</th>\n",
              "      <td>32990</td>\n",
              "      <td>2016.0</td>\n",
              "      <td>0</td>\n",
              "      <td>2</td>\n",
              "      <td>1</td>\n",
              "      <td>2</td>\n",
              "      <td>8</td>\n",
              "      <td>2</td>\n",
              "      <td>55612.0</td>\n",
              "      <td>0</td>\n",
              "      <td>0</td>\n",
              "      <td>2</td>\n",
              "      <td>1</td>\n",
              "      <td>2</td>\n",
              "      <td>0</td>\n",
              "      <td>4</td>\n",
              "    </tr>\n",
              "    <tr>\n",
              "      <th>202813</th>\n",
              "      <td>13990</td>\n",
              "      <td>2016.0</td>\n",
              "      <td>0</td>\n",
              "      <td>0</td>\n",
              "      <td>4</td>\n",
              "      <td>2</td>\n",
              "      <td>6</td>\n",
              "      <td>4</td>\n",
              "      <td>75626.0</td>\n",
              "      <td>0</td>\n",
              "      <td>2</td>\n",
              "      <td>1</td>\n",
              "      <td>1</td>\n",
              "      <td>1</td>\n",
              "      <td>0</td>\n",
              "      <td>1</td>\n",
              "    </tr>\n",
              "  </tbody>\n",
              "</table>\n",
              "<p>202814 rows × 16 columns</p>\n",
              "</div>\n",
              "      <button class=\"colab-df-convert\" onclick=\"convertToInteractive('df-d8564de7-8faf-4fbf-978d-27bf1fc6d94b')\"\n",
              "              title=\"Convert this dataframe to an interactive table.\"\n",
              "              style=\"display:none;\">\n",
              "        \n",
              "  <svg xmlns=\"http://www.w3.org/2000/svg\" height=\"24px\"viewBox=\"0 0 24 24\"\n",
              "       width=\"24px\">\n",
              "    <path d=\"M0 0h24v24H0V0z\" fill=\"none\"/>\n",
              "    <path d=\"M18.56 5.44l.94 2.06.94-2.06 2.06-.94-2.06-.94-.94-2.06-.94 2.06-2.06.94zm-11 1L8.5 8.5l.94-2.06 2.06-.94-2.06-.94L8.5 2.5l-.94 2.06-2.06.94zm10 10l.94 2.06.94-2.06 2.06-.94-2.06-.94-.94-2.06-.94 2.06-2.06.94z\"/><path d=\"M17.41 7.96l-1.37-1.37c-.4-.4-.92-.59-1.43-.59-.52 0-1.04.2-1.43.59L10.3 9.45l-7.72 7.72c-.78.78-.78 2.05 0 2.83L4 21.41c.39.39.9.59 1.41.59.51 0 1.02-.2 1.41-.59l7.78-7.78 2.81-2.81c.8-.78.8-2.07 0-2.86zM5.41 20L4 18.59l7.72-7.72 1.47 1.35L5.41 20z\"/>\n",
              "  </svg>\n",
              "      </button>\n",
              "      \n",
              "  <style>\n",
              "    .colab-df-container {\n",
              "      display:flex;\n",
              "      flex-wrap:wrap;\n",
              "      gap: 12px;\n",
              "    }\n",
              "\n",
              "    .colab-df-convert {\n",
              "      background-color: #E8F0FE;\n",
              "      border: none;\n",
              "      border-radius: 50%;\n",
              "      cursor: pointer;\n",
              "      display: none;\n",
              "      fill: #1967D2;\n",
              "      height: 32px;\n",
              "      padding: 0 0 0 0;\n",
              "      width: 32px;\n",
              "    }\n",
              "\n",
              "    .colab-df-convert:hover {\n",
              "      background-color: #E2EBFA;\n",
              "      box-shadow: 0px 1px 2px rgba(60, 64, 67, 0.3), 0px 1px 3px 1px rgba(60, 64, 67, 0.15);\n",
              "      fill: #174EA6;\n",
              "    }\n",
              "\n",
              "    [theme=dark] .colab-df-convert {\n",
              "      background-color: #3B4455;\n",
              "      fill: #D2E3FC;\n",
              "    }\n",
              "\n",
              "    [theme=dark] .colab-df-convert:hover {\n",
              "      background-color: #434B5C;\n",
              "      box-shadow: 0px 1px 3px 1px rgba(0, 0, 0, 0.15);\n",
              "      filter: drop-shadow(0px 1px 2px rgba(0, 0, 0, 0.3));\n",
              "      fill: #FFFFFF;\n",
              "    }\n",
              "  </style>\n",
              "\n",
              "      <script>\n",
              "        const buttonEl =\n",
              "          document.querySelector('#df-d8564de7-8faf-4fbf-978d-27bf1fc6d94b button.colab-df-convert');\n",
              "        buttonEl.style.display =\n",
              "          google.colab.kernel.accessAllowed ? 'block' : 'none';\n",
              "\n",
              "        async function convertToInteractive(key) {\n",
              "          const element = document.querySelector('#df-d8564de7-8faf-4fbf-978d-27bf1fc6d94b');\n",
              "          const dataTable =\n",
              "            await google.colab.kernel.invokeFunction('convertToInteractive',\n",
              "                                                     [key], {});\n",
              "          if (!dataTable) return;\n",
              "\n",
              "          const docLinkHtml = 'Like what you see? Visit the ' +\n",
              "            '<a target=\"_blank\" href=https://colab.research.google.com/notebooks/data_table.ipynb>data table notebook</a>'\n",
              "            + ' to learn more about interactive tables.';\n",
              "          element.innerHTML = '';\n",
              "          dataTable['output_type'] = 'display_data';\n",
              "          await google.colab.output.renderOutput(dataTable, element);\n",
              "          const docLink = document.createElement('div');\n",
              "          docLink.innerHTML = docLinkHtml;\n",
              "          element.appendChild(docLink);\n",
              "        }\n",
              "      </script>\n",
              "    </div>\n",
              "  </div>\n",
              "  "
            ]
          },
          "metadata": {},
          "execution_count": 127
        }
      ]
    },
    {
      "cell_type": "code",
      "source": [
        "# Removing the missing percentages greater than zero.\n",
        "missing_percentages =df.isna().sum().sort_values(ascending=False)/len(df)\n",
        "missing_percentages"
      ],
      "metadata": {
        "colab": {
          "base_uri": "https://localhost:8080/"
        },
        "id": "DBw8pJFl6Deh",
        "outputId": "492ebc96-3509-4783-8b6a-ac02b99427b3"
      },
      "execution_count": 128,
      "outputs": [
        {
          "output_type": "execute_result",
          "data": {
            "text/plain": [
              "price             0.0\n",
              "year              0.0\n",
              "manufacturer_0    0.0\n",
              "manufacturer_1    0.0\n",
              "manufacturer_2    0.0\n",
              "condition         0.0\n",
              "cylinders         0.0\n",
              "fuel              0.0\n",
              "odometer          0.0\n",
              "title_status      0.0\n",
              "transmission      0.0\n",
              "drive             0.0\n",
              "type_0            0.0\n",
              "type_1            0.0\n",
              "paint_color_0     0.0\n",
              "paint_color_1     0.0\n",
              "dtype: float64"
            ]
          },
          "metadata": {},
          "execution_count": 128
        }
      ]
    },
    {
      "cell_type": "code",
      "source": [
        "X_data = df.drop('price',axis =1 )\n",
        "y_data = df['price']"
      ],
      "metadata": {
        "id": "fECdnOpg8LcU"
      },
      "execution_count": 129,
      "outputs": []
    },
    {
      "cell_type": "code",
      "source": [
        "from sklearn.model_selection import train_test_split\n",
        "\n",
        "X_train, X_test, y_train, y_test = train_test_split(X_data, y_data, test_size=0.2, random_state=42)"
      ],
      "metadata": {
        "id": "d6JSFab36URU"
      },
      "execution_count": 130,
      "outputs": []
    },
    {
      "cell_type": "code",
      "source": [
        "print (X_train.shape, y_train.shape)\n",
        "print (X_test.shape, y_test.shape)"
      ],
      "metadata": {
        "colab": {
          "base_uri": "https://localhost:8080/"
        },
        "id": "dhUxZ9Ru7LmF",
        "outputId": "39cf28d5-98a2-4f44-e99b-47a359b0b42c"
      },
      "execution_count": 131,
      "outputs": [
        {
          "output_type": "stream",
          "name": "stdout",
          "text": [
            "(162251, 15) (162251,)\n",
            "(40563, 15) (40563,)\n"
          ]
        }
      ]
    },
    {
      "cell_type": "code",
      "source": [
        "# Feature Scaling\n",
        "from sklearn.preprocessing import StandardScaler\n",
        "\n",
        "sc = StandardScaler()\n",
        "X_train= sc.fit_transform(X_train)\n",
        "X_test= sc.transform(X_test)"
      ],
      "metadata": {
        "id": "km1f6mOB88sx"
      },
      "execution_count": 133,
      "outputs": []
    },
    {
      "cell_type": "code",
      "source": [
        "# Random Forest\n",
        "\n",
        "from sklearn.ensemble import RandomForestRegressor\n",
        "from sklearn import metrics\n",
        "from sklearn.metrics import mean_squared_error as MSE\n",
        "import numpy as np\n",
        "\n",
        "n_est = [10,20,30,40,50,60,70,80,90,100]\n",
        "for i in n_est:\n",
        "  regressor = RandomForestRegressor(n_estimators=i, random_state=42)\n",
        "  regressor.fit(X_train, y_train)\n",
        "  y_pred = regressor.predict(X_test)\n",
        "  print('n_estimators:',i)\n",
        "  print('Mean Absolute Error:', round(metrics.mean_absolute_error(y_test, y_pred),2))\n",
        "  print('Mean Squared Error:', round(metrics.mean_squared_error(y_test, y_pred),2))\n",
        "  print('Root Mean Squared Error:' , round(np.sqrt(metrics.mean_squared_error(y_test, y_pred)),2))"
      ],
      "metadata": {
        "id": "_mE40lgC9ASC",
        "colab": {
          "base_uri": "https://localhost:8080/"
        },
        "outputId": "0f7991be-4b55-4688-934a-5d2de229bc4c"
      },
      "execution_count": 135,
      "outputs": [
        {
          "output_type": "stream",
          "name": "stdout",
          "text": [
            "n_estimators: 10\n",
            "Mean Absolute Error: 9616.59\n",
            "Mean Squared Error: 554398069222.14\n",
            "Root Mean Squared Error: 744579.12\n",
            "n_estimators: 20\n",
            "Mean Absolute Error: 9047.37\n",
            "Mean Squared Error: 520899192516.67\n",
            "Root Mean Squared Error: 721733.46\n",
            "n_estimators: 30\n",
            "Mean Absolute Error: 9185.27\n",
            "Mean Squared Error: 580733272208.75\n",
            "Root Mean Squared Error: 762058.58\n",
            "n_estimators: 40\n",
            "Mean Absolute Error: 13767.33\n",
            "Mean Squared Error: 791417461205.25\n",
            "Root Mean Squared Error: 889616.47\n",
            "n_estimators: 50\n",
            "Mean Absolute Error: 12494.16\n",
            "Mean Squared Error: 669717393905.41\n",
            "Root Mean Squared Error: 818362.63\n",
            "n_estimators: 60\n",
            "Mean Absolute Error: 11944.62\n",
            "Mean Squared Error: 641916366421.86\n",
            "Root Mean Squared Error: 801196.83\n",
            "n_estimators: 70\n",
            "Mean Absolute Error: 13634.98\n",
            "Mean Squared Error: 698865440631.23\n",
            "Root Mean Squared Error: 835981.72\n",
            "n_estimators: 80\n",
            "Mean Absolute Error: 13529.98\n",
            "Mean Squared Error: 704566199771.42\n",
            "Root Mean Squared Error: 839384.42\n",
            "n_estimators: 90\n",
            "Mean Absolute Error: 12927.21\n",
            "Mean Squared Error: 657204708873.69\n",
            "Root Mean Squared Error: 810681.63\n",
            "n_estimators: 100\n",
            "Mean Absolute Error: 14875.33\n",
            "Mean Squared Error: 807652507843.77\n",
            "Root Mean Squared Error: 898694.89\n"
          ]
        }
      ]
    },
    {
      "cell_type": "code",
      "source": [
        "regressor.score(X_test,y_test)"
      ],
      "metadata": {
        "colab": {
          "base_uri": "https://localhost:8080/"
        },
        "id": "fZ7eg_hZ_PJX",
        "outputId": "95f44e82-a0ad-4444-8344-a8053ad3c856"
      },
      "execution_count": null,
      "outputs": [
        {
          "output_type": "execute_result",
          "data": {
            "text/plain": [
              "-18.957532998834328"
            ]
          },
          "metadata": {},
          "execution_count": 134
        }
      ]
    },
    {
      "cell_type": "code",
      "source": [
        "from sklearn.metrics import accuracy_score\n",
        "#accuracy_score(X_test,y_pred)"
      ],
      "metadata": {
        "id": "9D6hf_k1-Hf5"
      },
      "execution_count": null,
      "outputs": []
    },
    {
      "cell_type": "code",
      "source": [
        "from sklearn import metrics\n",
        "from sklearn.metrics import mean_squared_error as MSE\n",
        "import numpy as np"
      ],
      "metadata": {
        "id": "PQmOhhti9FLn"
      },
      "execution_count": null,
      "outputs": []
    },
    {
      "cell_type": "code",
      "source": [
        "print('Mean Absolute Error:', round(metrics.mean_absolute_error(y_test, y_pred),2))\n",
        "print('Mean Squared Error:', round(metrics.mean_squared_error(y_test, y_pred),2))\n",
        "print('Root Mean Squared Error:', round(np.sqrt(metrics.mean_squared_error(y_test, y_pred)),2))"
      ],
      "metadata": {
        "colab": {
          "base_uri": "https://localhost:8080/"
        },
        "id": "9uD1Cqlx9KIy",
        "outputId": "3bb383be-a2b0-4056-8260-7a4f14e7dbd9"
      },
      "execution_count": null,
      "outputs": [
        {
          "output_type": "stream",
          "name": "stdout",
          "text": [
            "Mean Absolute Error: 27687.16\n",
            "Mean Squared Error: 7576319531828.65\n",
            "Root Mean Squared Error: 2752511.5\n"
          ]
        }
      ]
    },
    {
      "cell_type": "code",
      "source": [
        "# Multiple Linear Regression\n",
        "\n",
        "from sklearn.linear_model import LinearRegression\n",
        "\n",
        "Multi_Linear_model = LinearRegression()\n",
        "Multi_Linear_model.fit(X_train, y_train)\n",
        "y_pred = Multi_Linear_model.predict(X_test)\n"
      ],
      "metadata": {
        "id": "mHk1bPrV9NQI"
      },
      "execution_count": null,
      "outputs": []
    },
    {
      "cell_type": "code",
      "source": [
        "from sklearn.metrics import accuracy_score\n",
        "#accuracy_score(y_test,y_pred)\n",
        "Multi_Linear_model.score(X_test,y_test)"
      ],
      "metadata": {
        "colab": {
          "base_uri": "https://localhost:8080/"
        },
        "id": "0A09z3hs-INt",
        "outputId": "d19a1388-bb17-40f7-8542-dbce27cfc477"
      },
      "execution_count": null,
      "outputs": [
        {
          "output_type": "execute_result",
          "data": {
            "text/plain": [
              "-0.14549929290711416"
            ]
          },
          "metadata": {},
          "execution_count": 139
        }
      ]
    },
    {
      "cell_type": "code",
      "source": [
        "print('Mean Absolute Error:', round(metrics.mean_absolute_error(y_test, y_pred),2))\n",
        "print('Mean Squared Error:', round(metrics.mean_squared_error(y_test, y_pred),2))\n",
        "print('Root Mean Squared Error:', round(np.sqrt(metrics.mean_squared_error(y_test, y_pred)),2))"
      ],
      "metadata": {
        "colab": {
          "base_uri": "https://localhost:8080/"
        },
        "id": "4KiM3YMU9uB1",
        "outputId": "1cb752af-9a9f-4c6c-833a-a91ad8dc1056"
      },
      "execution_count": null,
      "outputs": [
        {
          "output_type": "stream",
          "name": "stdout",
          "text": [
            "Mean Absolute Error: 138916.31\n",
            "Mean Squared Error: 434856786510.39\n",
            "Root Mean Squared Error: 659436.72\n"
          ]
        }
      ]
    },
    {
      "cell_type": "code",
      "source": [
        "df"
      ],
      "metadata": {
        "colab": {
          "base_uri": "https://localhost:8080/",
          "height": 505
        },
        "id": "T41ecRQ49xFW",
        "outputId": "82dc5938-3b4c-4650-9299-252ad6439150"
      },
      "execution_count": null,
      "outputs": [
        {
          "output_type": "execute_result",
          "data": {
            "text/plain": [
              "        price    year  condition  cylinders  fuel  odometer  title_status  \\\n",
              "0       33590  2014.0          2          8     2   57923.0             0   \n",
              "1       22590  2010.0          2          8     2   71229.0             0   \n",
              "2       30990  2017.0          2          8     2   41124.0             0   \n",
              "3       15000  2013.0          0          6     2  128000.0             0   \n",
              "4       27990  2012.0          2          8     2   68696.0             0   \n",
              "...       ...     ...        ...        ...   ...       ...           ...   \n",
              "202809   7477  2012.0          0          6     2   64267.0             0   \n",
              "202810  39990  2017.0          2          8     2   41664.0             0   \n",
              "202811  29590  2016.0          2          6     2   53475.0             0   \n",
              "202812  32990  2016.0          2          8     2   55612.0             0   \n",
              "202813  13990  2016.0          2          6     4   75626.0             0   \n",
              "\n",
              "        transmission  drive  comp_ford  comp_chevrolet  comp_toyota  \\\n",
              "0                  2      0        0.0             0.0          0.0   \n",
              "1                  2      0        0.0             0.0          0.0   \n",
              "2                  2      0        0.0             0.0          0.0   \n",
              "3                  0      2        0.0             0.0          0.0   \n",
              "4                  2      0        0.0             0.0          0.0   \n",
              "...              ...    ...        ...             ...          ...   \n",
              "202809             1      0        0.0             0.0          0.0   \n",
              "202810             0      0        0.0             0.0          0.0   \n",
              "202811             0      0        0.0             0.0          0.0   \n",
              "202812             0      2        0.0             0.0          0.0   \n",
              "202813             2      1        0.0             0.0          0.0   \n",
              "\n",
              "        comp_nissan  comp_jeep  comp_bmw  comp_honda  comp_ram  \\\n",
              "0               0.0        0.0       0.0         0.0       0.0   \n",
              "1               0.0        0.0       0.0         0.0       1.0   \n",
              "2               0.0        0.0       0.0         0.0       0.0   \n",
              "3               0.0        0.0       0.0         0.0       0.0   \n",
              "4               0.0        0.0       0.0         0.0       0.0   \n",
              "...             ...        ...       ...         ...       ...   \n",
              "202809          0.0        0.0       0.0         0.0       0.0   \n",
              "202810          0.0        0.0       0.0         0.0       0.0   \n",
              "202811          0.0        0.0       0.0         0.0       0.0   \n",
              "202812          0.0        0.0       0.0         0.0       0.0   \n",
              "202813          0.0        0.0       0.0         0.0       0.0   \n",
              "\n",
              "        comp_mercedes-benz  comp_gmc  comp_dodge  comp_hyundai  \\\n",
              "0                      0.0       0.0         0.0           0.0   \n",
              "1                      0.0       0.0         0.0           0.0   \n",
              "2                      0.0       0.0         0.0           0.0   \n",
              "3                      0.0       0.0         0.0           0.0   \n",
              "4                      0.0       0.0         0.0           0.0   \n",
              "...                    ...       ...         ...           ...   \n",
              "202809                 0.0       0.0         0.0           1.0   \n",
              "202810                 0.0       0.0         0.0           0.0   \n",
              "202811                 0.0       0.0         0.0           0.0   \n",
              "202812                 0.0       0.0         0.0           0.0   \n",
              "202813                 0.0       0.0         0.0           0.0   \n",
              "\n",
              "        comp_volkswagen  comp_kia  comp_subaru  comp_lexus  comp_audi  \\\n",
              "0                   0.0       1.0          0.0         0.0        0.0   \n",
              "1                   0.0       0.0          0.0         0.0        0.0   \n",
              "2                   0.0       0.0          0.0         0.0        0.0   \n",
              "3                   1.0       0.0          0.0         0.0        0.0   \n",
              "4                   0.0       1.0          0.0         0.0        0.0   \n",
              "...                 ...       ...          ...         ...        ...   \n",
              "202809              0.0       0.0          0.0         0.0        0.0   \n",
              "202810              0.0       0.0          0.0         0.0        0.0   \n",
              "202811              0.0       0.0          0.0         0.0        0.0   \n",
              "202812              0.0       0.0          0.0         0.0        0.0   \n",
              "202813              1.0       0.0          0.0         0.0        0.0   \n",
              "\n",
              "        comp_chrysler  comp_cadillac  comp_mazda  comp_buick  comp_acura  \\\n",
              "0                 0.0            0.0         0.0         0.0         0.0   \n",
              "1                 0.0            0.0         0.0         0.0         0.0   \n",
              "2                 0.0            0.0         0.0         0.0         0.0   \n",
              "3                 0.0            0.0         0.0         0.0         0.0   \n",
              "4                 0.0            0.0         0.0         0.0         0.0   \n",
              "...               ...            ...         ...         ...         ...   \n",
              "202809            0.0            0.0         0.0         0.0         0.0   \n",
              "202810            1.0            0.0         0.0         0.0         0.0   \n",
              "202811            0.0            0.0         0.0         0.0         0.0   \n",
              "202812            1.0            0.0         0.0         0.0         0.0   \n",
              "202813            0.0            0.0         0.0         0.0         0.0   \n",
              "\n",
              "        comp_infiniti  comp_lincoln  comp_volvo  comp_mini  comp_mitsubishi  \\\n",
              "0                 0.0           0.0         0.0        0.0              0.0   \n",
              "1                 0.0           0.0         0.0        0.0              0.0   \n",
              "2                 0.0           0.0         0.0        0.0              0.0   \n",
              "3                 0.0           0.0         0.0        0.0              0.0   \n",
              "4                 0.0           0.0         0.0        0.0              0.0   \n",
              "...               ...           ...         ...        ...              ...   \n",
              "202809            0.0           0.0         0.0        0.0              0.0   \n",
              "202810            0.0           0.0         0.0        0.0              0.0   \n",
              "202811            0.0           0.0         0.0        0.0              0.0   \n",
              "202812            0.0           0.0         0.0        0.0              0.0   \n",
              "202813            0.0           0.0         0.0        0.0              0.0   \n",
              "\n",
              "        comp_rover  comp_porsche  comp_pontiac  comp_jaguar  comp_saturn  \\\n",
              "0              0.0           0.0           0.0          0.0          0.0   \n",
              "1              0.0           0.0           0.0          0.0          0.0   \n",
              "2              0.0           0.0           0.0          0.0          0.0   \n",
              "3              0.0           0.0           0.0          0.0          0.0   \n",
              "4              0.0           0.0           0.0          0.0          0.0   \n",
              "...            ...           ...           ...          ...          ...   \n",
              "202809         0.0           0.0           0.0          0.0          0.0   \n",
              "202810         0.0           0.0           0.0          0.0          0.0   \n",
              "202811         0.0           0.0           0.0          0.0          0.0   \n",
              "202812         0.0           0.0           0.0          0.0          0.0   \n",
              "202813         0.0           0.0           0.0          0.0          0.0   \n",
              "\n",
              "        comp_mercury  comp_fiat  comp_tesla  comp_alfa-romeo  \\\n",
              "0                0.0        0.0         0.0              0.0   \n",
              "1                0.0        0.0         0.0              0.0   \n",
              "2                0.0        0.0         0.0              0.0   \n",
              "3                0.0        0.0         0.0              0.0   \n",
              "4                0.0        0.0         0.0              0.0   \n",
              "...              ...        ...         ...              ...   \n",
              "202809           0.0        0.0         0.0              0.0   \n",
              "202810           0.0        0.0         0.0              0.0   \n",
              "202811           0.0        0.0         0.0              0.0   \n",
              "202812           0.0        0.0         0.0              0.0   \n",
              "202813           0.0        0.0         0.0              0.0   \n",
              "\n",
              "        comp_harley-davidson  comp_ferrari  comp_land rover  \\\n",
              "0                        0.0           0.0              0.0   \n",
              "1                        0.0           0.0              0.0   \n",
              "2                        0.0           1.0              0.0   \n",
              "3                        0.0           0.0              0.0   \n",
              "4                        0.0           0.0              0.0   \n",
              "...                      ...           ...              ...   \n",
              "202809                   0.0           0.0              0.0   \n",
              "202810                   0.0           0.0              0.0   \n",
              "202811                   0.0           1.0              0.0   \n",
              "202812                   0.0           0.0              0.0   \n",
              "202813                   0.0           0.0              0.0   \n",
              "\n",
              "        comp_aston-martin  type_sedan  type_SUV  type_pickup  type_truck  \\\n",
              "0                     0.0         0.0       0.0          0.0         0.0   \n",
              "1                     0.0         0.0       0.0          0.0         0.0   \n",
              "2                     0.0         0.0       0.0          0.0         0.0   \n",
              "3                     0.0         0.0       0.0          0.0         0.0   \n",
              "4                     0.0         0.0       0.0          0.0         0.0   \n",
              "...                   ...         ...       ...          ...         ...   \n",
              "202809                0.0         0.0       0.0          0.0         0.0   \n",
              "202810                0.0         0.0       0.0          0.0         0.0   \n",
              "202811                0.0         1.0       0.0          0.0         0.0   \n",
              "202812                0.0         0.0       0.0          0.0         0.0   \n",
              "202813                0.0         0.0       0.0          0.0         0.0   \n",
              "\n",
              "        type_other  type_coupe  type_hatchback  type_wagon  type_van  \\\n",
              "0              0.0         0.0             0.0         0.0       1.0   \n",
              "1              0.0         0.0             0.0         0.0       1.0   \n",
              "2              0.0         0.0             0.0         0.0       1.0   \n",
              "3              0.0         0.0             0.0         0.0       0.0   \n",
              "4              0.0         0.0             0.0         0.0       1.0   \n",
              "...            ...         ...             ...         ...       ...   \n",
              "202809         1.0         0.0             0.0         0.0       0.0   \n",
              "202810         0.0         0.0             0.0         1.0       0.0   \n",
              "202811         0.0         0.0             0.0         0.0       0.0   \n",
              "202812         0.0         0.0             0.0         1.0       0.0   \n",
              "202813         1.0         0.0             0.0         0.0       0.0   \n",
              "\n",
              "        type_convertible  type_mini-van  type_offroad  type_bus  \\\n",
              "0                    0.0            0.0           0.0       0.0   \n",
              "1                    0.0            0.0           0.0       0.0   \n",
              "2                    0.0            0.0           0.0       0.0   \n",
              "3                    0.0            1.0           0.0       0.0   \n",
              "4                    0.0            0.0           0.0       0.0   \n",
              "...                  ...            ...           ...       ...   \n",
              "202809               0.0            0.0           0.0       0.0   \n",
              "202810               0.0            0.0           0.0       0.0   \n",
              "202811               0.0            0.0           0.0       0.0   \n",
              "202812               0.0            0.0           0.0       0.0   \n",
              "202813               0.0            0.0           0.0       0.0   \n",
              "\n",
              "        paint_color_white  paint_color_black  paint_color_silver  \\\n",
              "0                     0.0                0.0                 0.0   \n",
              "1                     0.0                1.0                 0.0   \n",
              "2                     0.0                0.0                 0.0   \n",
              "3                     1.0                0.0                 0.0   \n",
              "4                     1.0                0.0                 0.0   \n",
              "...                   ...                ...                 ...   \n",
              "202809                0.0                0.0                 0.0   \n",
              "202810                1.0                0.0                 0.0   \n",
              "202811                1.0                0.0                 0.0   \n",
              "202812                1.0                0.0                 0.0   \n",
              "202813                0.0                0.0                 0.0   \n",
              "\n",
              "        paint_color_blue  paint_color_red  paint_color_grey  \\\n",
              "0                    0.0              0.0               0.0   \n",
              "1                    0.0              0.0               0.0   \n",
              "2                    0.0              0.0               0.0   \n",
              "3                    0.0              0.0               0.0   \n",
              "4                    0.0              0.0               0.0   \n",
              "...                  ...              ...               ...   \n",
              "202809               0.0              0.0               0.0   \n",
              "202810               0.0              0.0               0.0   \n",
              "202811               0.0              0.0               0.0   \n",
              "202812               0.0              0.0               0.0   \n",
              "202813               0.0              0.0               0.0   \n",
              "\n",
              "        paint_color_custom  paint_color_brown  paint_color_green  \\\n",
              "0                      0.0                0.0                0.0   \n",
              "1                      0.0                0.0                0.0   \n",
              "2                      0.0                0.0                1.0   \n",
              "3                      0.0                0.0                0.0   \n",
              "4                      0.0                0.0                0.0   \n",
              "...                    ...                ...                ...   \n",
              "202809                 0.0                0.0                0.0   \n",
              "202810                 0.0                0.0                0.0   \n",
              "202811                 0.0                0.0                0.0   \n",
              "202812                 0.0                0.0                0.0   \n",
              "202813                 0.0                0.0                0.0   \n",
              "\n",
              "        paint_color_orange  paint_color_yellow  paint_color_purple  \n",
              "0                      0.0                 1.0                 0.0  \n",
              "1                      0.0                 0.0                 0.0  \n",
              "2                      0.0                 0.0                 0.0  \n",
              "3                      0.0                 0.0                 0.0  \n",
              "4                      0.0                 0.0                 0.0  \n",
              "...                    ...                 ...                 ...  \n",
              "202809                 0.0                 1.0                 0.0  \n",
              "202810                 0.0                 0.0                 0.0  \n",
              "202811                 0.0                 0.0                 0.0  \n",
              "202812                 0.0                 0.0                 0.0  \n",
              "202813                 0.0                 1.0                 0.0  \n",
              "\n",
              "[202814 rows x 74 columns]"
            ],
            "text/html": [
              "\n",
              "  <div id=\"df-e89423df-3c18-4356-be6f-a10df012dcf2\">\n",
              "    <div class=\"colab-df-container\">\n",
              "      <div>\n",
              "<style scoped>\n",
              "    .dataframe tbody tr th:only-of-type {\n",
              "        vertical-align: middle;\n",
              "    }\n",
              "\n",
              "    .dataframe tbody tr th {\n",
              "        vertical-align: top;\n",
              "    }\n",
              "\n",
              "    .dataframe thead th {\n",
              "        text-align: right;\n",
              "    }\n",
              "</style>\n",
              "<table border=\"1\" class=\"dataframe\">\n",
              "  <thead>\n",
              "    <tr style=\"text-align: right;\">\n",
              "      <th></th>\n",
              "      <th>price</th>\n",
              "      <th>year</th>\n",
              "      <th>condition</th>\n",
              "      <th>cylinders</th>\n",
              "      <th>fuel</th>\n",
              "      <th>odometer</th>\n",
              "      <th>title_status</th>\n",
              "      <th>transmission</th>\n",
              "      <th>drive</th>\n",
              "      <th>comp_ford</th>\n",
              "      <th>comp_chevrolet</th>\n",
              "      <th>comp_toyota</th>\n",
              "      <th>comp_nissan</th>\n",
              "      <th>comp_jeep</th>\n",
              "      <th>comp_bmw</th>\n",
              "      <th>comp_honda</th>\n",
              "      <th>comp_ram</th>\n",
              "      <th>comp_mercedes-benz</th>\n",
              "      <th>comp_gmc</th>\n",
              "      <th>comp_dodge</th>\n",
              "      <th>comp_hyundai</th>\n",
              "      <th>comp_volkswagen</th>\n",
              "      <th>comp_kia</th>\n",
              "      <th>comp_subaru</th>\n",
              "      <th>comp_lexus</th>\n",
              "      <th>comp_audi</th>\n",
              "      <th>comp_chrysler</th>\n",
              "      <th>comp_cadillac</th>\n",
              "      <th>comp_mazda</th>\n",
              "      <th>comp_buick</th>\n",
              "      <th>comp_acura</th>\n",
              "      <th>comp_infiniti</th>\n",
              "      <th>comp_lincoln</th>\n",
              "      <th>comp_volvo</th>\n",
              "      <th>comp_mini</th>\n",
              "      <th>comp_mitsubishi</th>\n",
              "      <th>comp_rover</th>\n",
              "      <th>comp_porsche</th>\n",
              "      <th>comp_pontiac</th>\n",
              "      <th>comp_jaguar</th>\n",
              "      <th>comp_saturn</th>\n",
              "      <th>comp_mercury</th>\n",
              "      <th>comp_fiat</th>\n",
              "      <th>comp_tesla</th>\n",
              "      <th>comp_alfa-romeo</th>\n",
              "      <th>comp_harley-davidson</th>\n",
              "      <th>comp_ferrari</th>\n",
              "      <th>comp_land rover</th>\n",
              "      <th>comp_aston-martin</th>\n",
              "      <th>type_sedan</th>\n",
              "      <th>type_SUV</th>\n",
              "      <th>type_pickup</th>\n",
              "      <th>type_truck</th>\n",
              "      <th>type_other</th>\n",
              "      <th>type_coupe</th>\n",
              "      <th>type_hatchback</th>\n",
              "      <th>type_wagon</th>\n",
              "      <th>type_van</th>\n",
              "      <th>type_convertible</th>\n",
              "      <th>type_mini-van</th>\n",
              "      <th>type_offroad</th>\n",
              "      <th>type_bus</th>\n",
              "      <th>paint_color_white</th>\n",
              "      <th>paint_color_black</th>\n",
              "      <th>paint_color_silver</th>\n",
              "      <th>paint_color_blue</th>\n",
              "      <th>paint_color_red</th>\n",
              "      <th>paint_color_grey</th>\n",
              "      <th>paint_color_custom</th>\n",
              "      <th>paint_color_brown</th>\n",
              "      <th>paint_color_green</th>\n",
              "      <th>paint_color_orange</th>\n",
              "      <th>paint_color_yellow</th>\n",
              "      <th>paint_color_purple</th>\n",
              "    </tr>\n",
              "  </thead>\n",
              "  <tbody>\n",
              "    <tr>\n",
              "      <th>0</th>\n",
              "      <td>33590</td>\n",
              "      <td>2014.0</td>\n",
              "      <td>2</td>\n",
              "      <td>8</td>\n",
              "      <td>2</td>\n",
              "      <td>57923.0</td>\n",
              "      <td>0</td>\n",
              "      <td>2</td>\n",
              "      <td>0</td>\n",
              "      <td>0.0</td>\n",
              "      <td>0.0</td>\n",
              "      <td>0.0</td>\n",
              "      <td>0.0</td>\n",
              "      <td>0.0</td>\n",
              "      <td>0.0</td>\n",
              "      <td>0.0</td>\n",
              "      <td>0.0</td>\n",
              "      <td>0.0</td>\n",
              "      <td>0.0</td>\n",
              "      <td>0.0</td>\n",
              "      <td>0.0</td>\n",
              "      <td>0.0</td>\n",
              "      <td>1.0</td>\n",
              "      <td>0.0</td>\n",
              "      <td>0.0</td>\n",
              "      <td>0.0</td>\n",
              "      <td>0.0</td>\n",
              "      <td>0.0</td>\n",
              "      <td>0.0</td>\n",
              "      <td>0.0</td>\n",
              "      <td>0.0</td>\n",
              "      <td>0.0</td>\n",
              "      <td>0.0</td>\n",
              "      <td>0.0</td>\n",
              "      <td>0.0</td>\n",
              "      <td>0.0</td>\n",
              "      <td>0.0</td>\n",
              "      <td>0.0</td>\n",
              "      <td>0.0</td>\n",
              "      <td>0.0</td>\n",
              "      <td>0.0</td>\n",
              "      <td>0.0</td>\n",
              "      <td>0.0</td>\n",
              "      <td>0.0</td>\n",
              "      <td>0.0</td>\n",
              "      <td>0.0</td>\n",
              "      <td>0.0</td>\n",
              "      <td>0.0</td>\n",
              "      <td>0.0</td>\n",
              "      <td>0.0</td>\n",
              "      <td>0.0</td>\n",
              "      <td>0.0</td>\n",
              "      <td>0.0</td>\n",
              "      <td>0.0</td>\n",
              "      <td>0.0</td>\n",
              "      <td>0.0</td>\n",
              "      <td>0.0</td>\n",
              "      <td>1.0</td>\n",
              "      <td>0.0</td>\n",
              "      <td>0.0</td>\n",
              "      <td>0.0</td>\n",
              "      <td>0.0</td>\n",
              "      <td>0.0</td>\n",
              "      <td>0.0</td>\n",
              "      <td>0.0</td>\n",
              "      <td>0.0</td>\n",
              "      <td>0.0</td>\n",
              "      <td>0.0</td>\n",
              "      <td>0.0</td>\n",
              "      <td>0.0</td>\n",
              "      <td>0.0</td>\n",
              "      <td>0.0</td>\n",
              "      <td>1.0</td>\n",
              "      <td>0.0</td>\n",
              "    </tr>\n",
              "    <tr>\n",
              "      <th>1</th>\n",
              "      <td>22590</td>\n",
              "      <td>2010.0</td>\n",
              "      <td>2</td>\n",
              "      <td>8</td>\n",
              "      <td>2</td>\n",
              "      <td>71229.0</td>\n",
              "      <td>0</td>\n",
              "      <td>2</td>\n",
              "      <td>0</td>\n",
              "      <td>0.0</td>\n",
              "      <td>0.0</td>\n",
              "      <td>0.0</td>\n",
              "      <td>0.0</td>\n",
              "      <td>0.0</td>\n",
              "      <td>0.0</td>\n",
              "      <td>0.0</td>\n",
              "      <td>1.0</td>\n",
              "      <td>0.0</td>\n",
              "      <td>0.0</td>\n",
              "      <td>0.0</td>\n",
              "      <td>0.0</td>\n",
              "      <td>0.0</td>\n",
              "      <td>0.0</td>\n",
              "      <td>0.0</td>\n",
              "      <td>0.0</td>\n",
              "      <td>0.0</td>\n",
              "      <td>0.0</td>\n",
              "      <td>0.0</td>\n",
              "      <td>0.0</td>\n",
              "      <td>0.0</td>\n",
              "      <td>0.0</td>\n",
              "      <td>0.0</td>\n",
              "      <td>0.0</td>\n",
              "      <td>0.0</td>\n",
              "      <td>0.0</td>\n",
              "      <td>0.0</td>\n",
              "      <td>0.0</td>\n",
              "      <td>0.0</td>\n",
              "      <td>0.0</td>\n",
              "      <td>0.0</td>\n",
              "      <td>0.0</td>\n",
              "      <td>0.0</td>\n",
              "      <td>0.0</td>\n",
              "      <td>0.0</td>\n",
              "      <td>0.0</td>\n",
              "      <td>0.0</td>\n",
              "      <td>0.0</td>\n",
              "      <td>0.0</td>\n",
              "      <td>0.0</td>\n",
              "      <td>0.0</td>\n",
              "      <td>0.0</td>\n",
              "      <td>0.0</td>\n",
              "      <td>0.0</td>\n",
              "      <td>0.0</td>\n",
              "      <td>0.0</td>\n",
              "      <td>0.0</td>\n",
              "      <td>0.0</td>\n",
              "      <td>1.0</td>\n",
              "      <td>0.0</td>\n",
              "      <td>0.0</td>\n",
              "      <td>0.0</td>\n",
              "      <td>0.0</td>\n",
              "      <td>0.0</td>\n",
              "      <td>1.0</td>\n",
              "      <td>0.0</td>\n",
              "      <td>0.0</td>\n",
              "      <td>0.0</td>\n",
              "      <td>0.0</td>\n",
              "      <td>0.0</td>\n",
              "      <td>0.0</td>\n",
              "      <td>0.0</td>\n",
              "      <td>0.0</td>\n",
              "      <td>0.0</td>\n",
              "      <td>0.0</td>\n",
              "    </tr>\n",
              "    <tr>\n",
              "      <th>2</th>\n",
              "      <td>30990</td>\n",
              "      <td>2017.0</td>\n",
              "      <td>2</td>\n",
              "      <td>8</td>\n",
              "      <td>2</td>\n",
              "      <td>41124.0</td>\n",
              "      <td>0</td>\n",
              "      <td>2</td>\n",
              "      <td>0</td>\n",
              "      <td>0.0</td>\n",
              "      <td>0.0</td>\n",
              "      <td>0.0</td>\n",
              "      <td>0.0</td>\n",
              "      <td>0.0</td>\n",
              "      <td>0.0</td>\n",
              "      <td>0.0</td>\n",
              "      <td>0.0</td>\n",
              "      <td>0.0</td>\n",
              "      <td>0.0</td>\n",
              "      <td>0.0</td>\n",
              "      <td>0.0</td>\n",
              "      <td>0.0</td>\n",
              "      <td>0.0</td>\n",
              "      <td>0.0</td>\n",
              "      <td>0.0</td>\n",
              "      <td>0.0</td>\n",
              "      <td>0.0</td>\n",
              "      <td>0.0</td>\n",
              "      <td>0.0</td>\n",
              "      <td>0.0</td>\n",
              "      <td>0.0</td>\n",
              "      <td>0.0</td>\n",
              "      <td>0.0</td>\n",
              "      <td>0.0</td>\n",
              "      <td>0.0</td>\n",
              "      <td>0.0</td>\n",
              "      <td>0.0</td>\n",
              "      <td>0.0</td>\n",
              "      <td>0.0</td>\n",
              "      <td>0.0</td>\n",
              "      <td>0.0</td>\n",
              "      <td>0.0</td>\n",
              "      <td>0.0</td>\n",
              "      <td>0.0</td>\n",
              "      <td>0.0</td>\n",
              "      <td>0.0</td>\n",
              "      <td>1.0</td>\n",
              "      <td>0.0</td>\n",
              "      <td>0.0</td>\n",
              "      <td>0.0</td>\n",
              "      <td>0.0</td>\n",
              "      <td>0.0</td>\n",
              "      <td>0.0</td>\n",
              "      <td>0.0</td>\n",
              "      <td>0.0</td>\n",
              "      <td>0.0</td>\n",
              "      <td>0.0</td>\n",
              "      <td>1.0</td>\n",
              "      <td>0.0</td>\n",
              "      <td>0.0</td>\n",
              "      <td>0.0</td>\n",
              "      <td>0.0</td>\n",
              "      <td>0.0</td>\n",
              "      <td>0.0</td>\n",
              "      <td>0.0</td>\n",
              "      <td>0.0</td>\n",
              "      <td>0.0</td>\n",
              "      <td>0.0</td>\n",
              "      <td>0.0</td>\n",
              "      <td>0.0</td>\n",
              "      <td>1.0</td>\n",
              "      <td>0.0</td>\n",
              "      <td>0.0</td>\n",
              "      <td>0.0</td>\n",
              "    </tr>\n",
              "    <tr>\n",
              "      <th>3</th>\n",
              "      <td>15000</td>\n",
              "      <td>2013.0</td>\n",
              "      <td>0</td>\n",
              "      <td>6</td>\n",
              "      <td>2</td>\n",
              "      <td>128000.0</td>\n",
              "      <td>0</td>\n",
              "      <td>0</td>\n",
              "      <td>2</td>\n",
              "      <td>0.0</td>\n",
              "      <td>0.0</td>\n",
              "      <td>0.0</td>\n",
              "      <td>0.0</td>\n",
              "      <td>0.0</td>\n",
              "      <td>0.0</td>\n",
              "      <td>0.0</td>\n",
              "      <td>0.0</td>\n",
              "      <td>0.0</td>\n",
              "      <td>0.0</td>\n",
              "      <td>0.0</td>\n",
              "      <td>0.0</td>\n",
              "      <td>1.0</td>\n",
              "      <td>0.0</td>\n",
              "      <td>0.0</td>\n",
              "      <td>0.0</td>\n",
              "      <td>0.0</td>\n",
              "      <td>0.0</td>\n",
              "      <td>0.0</td>\n",
              "      <td>0.0</td>\n",
              "      <td>0.0</td>\n",
              "      <td>0.0</td>\n",
              "      <td>0.0</td>\n",
              "      <td>0.0</td>\n",
              "      <td>0.0</td>\n",
              "      <td>0.0</td>\n",
              "      <td>0.0</td>\n",
              "      <td>0.0</td>\n",
              "      <td>0.0</td>\n",
              "      <td>0.0</td>\n",
              "      <td>0.0</td>\n",
              "      <td>0.0</td>\n",
              "      <td>0.0</td>\n",
              "      <td>0.0</td>\n",
              "      <td>0.0</td>\n",
              "      <td>0.0</td>\n",
              "      <td>0.0</td>\n",
              "      <td>0.0</td>\n",
              "      <td>0.0</td>\n",
              "      <td>0.0</td>\n",
              "      <td>0.0</td>\n",
              "      <td>0.0</td>\n",
              "      <td>0.0</td>\n",
              "      <td>0.0</td>\n",
              "      <td>0.0</td>\n",
              "      <td>0.0</td>\n",
              "      <td>0.0</td>\n",
              "      <td>0.0</td>\n",
              "      <td>0.0</td>\n",
              "      <td>0.0</td>\n",
              "      <td>1.0</td>\n",
              "      <td>0.0</td>\n",
              "      <td>0.0</td>\n",
              "      <td>1.0</td>\n",
              "      <td>0.0</td>\n",
              "      <td>0.0</td>\n",
              "      <td>0.0</td>\n",
              "      <td>0.0</td>\n",
              "      <td>0.0</td>\n",
              "      <td>0.0</td>\n",
              "      <td>0.0</td>\n",
              "      <td>0.0</td>\n",
              "      <td>0.0</td>\n",
              "      <td>0.0</td>\n",
              "      <td>0.0</td>\n",
              "    </tr>\n",
              "    <tr>\n",
              "      <th>4</th>\n",
              "      <td>27990</td>\n",
              "      <td>2012.0</td>\n",
              "      <td>2</td>\n",
              "      <td>8</td>\n",
              "      <td>2</td>\n",
              "      <td>68696.0</td>\n",
              "      <td>0</td>\n",
              "      <td>2</td>\n",
              "      <td>0</td>\n",
              "      <td>0.0</td>\n",
              "      <td>0.0</td>\n",
              "      <td>0.0</td>\n",
              "      <td>0.0</td>\n",
              "      <td>0.0</td>\n",
              "      <td>0.0</td>\n",
              "      <td>0.0</td>\n",
              "      <td>0.0</td>\n",
              "      <td>0.0</td>\n",
              "      <td>0.0</td>\n",
              "      <td>0.0</td>\n",
              "      <td>0.0</td>\n",
              "      <td>0.0</td>\n",
              "      <td>1.0</td>\n",
              "      <td>0.0</td>\n",
              "      <td>0.0</td>\n",
              "      <td>0.0</td>\n",
              "      <td>0.0</td>\n",
              "      <td>0.0</td>\n",
              "      <td>0.0</td>\n",
              "      <td>0.0</td>\n",
              "      <td>0.0</td>\n",
              "      <td>0.0</td>\n",
              "      <td>0.0</td>\n",
              "      <td>0.0</td>\n",
              "      <td>0.0</td>\n",
              "      <td>0.0</td>\n",
              "      <td>0.0</td>\n",
              "      <td>0.0</td>\n",
              "      <td>0.0</td>\n",
              "      <td>0.0</td>\n",
              "      <td>0.0</td>\n",
              "      <td>0.0</td>\n",
              "      <td>0.0</td>\n",
              "      <td>0.0</td>\n",
              "      <td>0.0</td>\n",
              "      <td>0.0</td>\n",
              "      <td>0.0</td>\n",
              "      <td>0.0</td>\n",
              "      <td>0.0</td>\n",
              "      <td>0.0</td>\n",
              "      <td>0.0</td>\n",
              "      <td>0.0</td>\n",
              "      <td>0.0</td>\n",
              "      <td>0.0</td>\n",
              "      <td>0.0</td>\n",
              "      <td>0.0</td>\n",
              "      <td>0.0</td>\n",
              "      <td>1.0</td>\n",
              "      <td>0.0</td>\n",
              "      <td>0.0</td>\n",
              "      <td>0.0</td>\n",
              "      <td>0.0</td>\n",
              "      <td>1.0</td>\n",
              "      <td>0.0</td>\n",
              "      <td>0.0</td>\n",
              "      <td>0.0</td>\n",
              "      <td>0.0</td>\n",
              "      <td>0.0</td>\n",
              "      <td>0.0</td>\n",
              "      <td>0.0</td>\n",
              "      <td>0.0</td>\n",
              "      <td>0.0</td>\n",
              "      <td>0.0</td>\n",
              "      <td>0.0</td>\n",
              "    </tr>\n",
              "    <tr>\n",
              "      <th>...</th>\n",
              "      <td>...</td>\n",
              "      <td>...</td>\n",
              "      <td>...</td>\n",
              "      <td>...</td>\n",
              "      <td>...</td>\n",
              "      <td>...</td>\n",
              "      <td>...</td>\n",
              "      <td>...</td>\n",
              "      <td>...</td>\n",
              "      <td>...</td>\n",
              "      <td>...</td>\n",
              "      <td>...</td>\n",
              "      <td>...</td>\n",
              "      <td>...</td>\n",
              "      <td>...</td>\n",
              "      <td>...</td>\n",
              "      <td>...</td>\n",
              "      <td>...</td>\n",
              "      <td>...</td>\n",
              "      <td>...</td>\n",
              "      <td>...</td>\n",
              "      <td>...</td>\n",
              "      <td>...</td>\n",
              "      <td>...</td>\n",
              "      <td>...</td>\n",
              "      <td>...</td>\n",
              "      <td>...</td>\n",
              "      <td>...</td>\n",
              "      <td>...</td>\n",
              "      <td>...</td>\n",
              "      <td>...</td>\n",
              "      <td>...</td>\n",
              "      <td>...</td>\n",
              "      <td>...</td>\n",
              "      <td>...</td>\n",
              "      <td>...</td>\n",
              "      <td>...</td>\n",
              "      <td>...</td>\n",
              "      <td>...</td>\n",
              "      <td>...</td>\n",
              "      <td>...</td>\n",
              "      <td>...</td>\n",
              "      <td>...</td>\n",
              "      <td>...</td>\n",
              "      <td>...</td>\n",
              "      <td>...</td>\n",
              "      <td>...</td>\n",
              "      <td>...</td>\n",
              "      <td>...</td>\n",
              "      <td>...</td>\n",
              "      <td>...</td>\n",
              "      <td>...</td>\n",
              "      <td>...</td>\n",
              "      <td>...</td>\n",
              "      <td>...</td>\n",
              "      <td>...</td>\n",
              "      <td>...</td>\n",
              "      <td>...</td>\n",
              "      <td>...</td>\n",
              "      <td>...</td>\n",
              "      <td>...</td>\n",
              "      <td>...</td>\n",
              "      <td>...</td>\n",
              "      <td>...</td>\n",
              "      <td>...</td>\n",
              "      <td>...</td>\n",
              "      <td>...</td>\n",
              "      <td>...</td>\n",
              "      <td>...</td>\n",
              "      <td>...</td>\n",
              "      <td>...</td>\n",
              "      <td>...</td>\n",
              "      <td>...</td>\n",
              "      <td>...</td>\n",
              "    </tr>\n",
              "    <tr>\n",
              "      <th>202809</th>\n",
              "      <td>7477</td>\n",
              "      <td>2012.0</td>\n",
              "      <td>0</td>\n",
              "      <td>6</td>\n",
              "      <td>2</td>\n",
              "      <td>64267.0</td>\n",
              "      <td>0</td>\n",
              "      <td>1</td>\n",
              "      <td>0</td>\n",
              "      <td>0.0</td>\n",
              "      <td>0.0</td>\n",
              "      <td>0.0</td>\n",
              "      <td>0.0</td>\n",
              "      <td>0.0</td>\n",
              "      <td>0.0</td>\n",
              "      <td>0.0</td>\n",
              "      <td>0.0</td>\n",
              "      <td>0.0</td>\n",
              "      <td>0.0</td>\n",
              "      <td>0.0</td>\n",
              "      <td>1.0</td>\n",
              "      <td>0.0</td>\n",
              "      <td>0.0</td>\n",
              "      <td>0.0</td>\n",
              "      <td>0.0</td>\n",
              "      <td>0.0</td>\n",
              "      <td>0.0</td>\n",
              "      <td>0.0</td>\n",
              "      <td>0.0</td>\n",
              "      <td>0.0</td>\n",
              "      <td>0.0</td>\n",
              "      <td>0.0</td>\n",
              "      <td>0.0</td>\n",
              "      <td>0.0</td>\n",
              "      <td>0.0</td>\n",
              "      <td>0.0</td>\n",
              "      <td>0.0</td>\n",
              "      <td>0.0</td>\n",
              "      <td>0.0</td>\n",
              "      <td>0.0</td>\n",
              "      <td>0.0</td>\n",
              "      <td>0.0</td>\n",
              "      <td>0.0</td>\n",
              "      <td>0.0</td>\n",
              "      <td>0.0</td>\n",
              "      <td>0.0</td>\n",
              "      <td>0.0</td>\n",
              "      <td>0.0</td>\n",
              "      <td>0.0</td>\n",
              "      <td>0.0</td>\n",
              "      <td>0.0</td>\n",
              "      <td>0.0</td>\n",
              "      <td>0.0</td>\n",
              "      <td>1.0</td>\n",
              "      <td>0.0</td>\n",
              "      <td>0.0</td>\n",
              "      <td>0.0</td>\n",
              "      <td>0.0</td>\n",
              "      <td>0.0</td>\n",
              "      <td>0.0</td>\n",
              "      <td>0.0</td>\n",
              "      <td>0.0</td>\n",
              "      <td>0.0</td>\n",
              "      <td>0.0</td>\n",
              "      <td>0.0</td>\n",
              "      <td>0.0</td>\n",
              "      <td>0.0</td>\n",
              "      <td>0.0</td>\n",
              "      <td>0.0</td>\n",
              "      <td>0.0</td>\n",
              "      <td>0.0</td>\n",
              "      <td>0.0</td>\n",
              "      <td>1.0</td>\n",
              "      <td>0.0</td>\n",
              "    </tr>\n",
              "    <tr>\n",
              "      <th>202810</th>\n",
              "      <td>39990</td>\n",
              "      <td>2017.0</td>\n",
              "      <td>2</td>\n",
              "      <td>8</td>\n",
              "      <td>2</td>\n",
              "      <td>41664.0</td>\n",
              "      <td>0</td>\n",
              "      <td>0</td>\n",
              "      <td>0</td>\n",
              "      <td>0.0</td>\n",
              "      <td>0.0</td>\n",
              "      <td>0.0</td>\n",
              "      <td>0.0</td>\n",
              "      <td>0.0</td>\n",
              "      <td>0.0</td>\n",
              "      <td>0.0</td>\n",
              "      <td>0.0</td>\n",
              "      <td>0.0</td>\n",
              "      <td>0.0</td>\n",
              "      <td>0.0</td>\n",
              "      <td>0.0</td>\n",
              "      <td>0.0</td>\n",
              "      <td>0.0</td>\n",
              "      <td>0.0</td>\n",
              "      <td>0.0</td>\n",
              "      <td>0.0</td>\n",
              "      <td>1.0</td>\n",
              "      <td>0.0</td>\n",
              "      <td>0.0</td>\n",
              "      <td>0.0</td>\n",
              "      <td>0.0</td>\n",
              "      <td>0.0</td>\n",
              "      <td>0.0</td>\n",
              "      <td>0.0</td>\n",
              "      <td>0.0</td>\n",
              "      <td>0.0</td>\n",
              "      <td>0.0</td>\n",
              "      <td>0.0</td>\n",
              "      <td>0.0</td>\n",
              "      <td>0.0</td>\n",
              "      <td>0.0</td>\n",
              "      <td>0.0</td>\n",
              "      <td>0.0</td>\n",
              "      <td>0.0</td>\n",
              "      <td>0.0</td>\n",
              "      <td>0.0</td>\n",
              "      <td>0.0</td>\n",
              "      <td>0.0</td>\n",
              "      <td>0.0</td>\n",
              "      <td>0.0</td>\n",
              "      <td>0.0</td>\n",
              "      <td>0.0</td>\n",
              "      <td>0.0</td>\n",
              "      <td>0.0</td>\n",
              "      <td>0.0</td>\n",
              "      <td>0.0</td>\n",
              "      <td>1.0</td>\n",
              "      <td>0.0</td>\n",
              "      <td>0.0</td>\n",
              "      <td>0.0</td>\n",
              "      <td>0.0</td>\n",
              "      <td>0.0</td>\n",
              "      <td>1.0</td>\n",
              "      <td>0.0</td>\n",
              "      <td>0.0</td>\n",
              "      <td>0.0</td>\n",
              "      <td>0.0</td>\n",
              "      <td>0.0</td>\n",
              "      <td>0.0</td>\n",
              "      <td>0.0</td>\n",
              "      <td>0.0</td>\n",
              "      <td>0.0</td>\n",
              "      <td>0.0</td>\n",
              "      <td>0.0</td>\n",
              "    </tr>\n",
              "    <tr>\n",
              "      <th>202811</th>\n",
              "      <td>29590</td>\n",
              "      <td>2016.0</td>\n",
              "      <td>2</td>\n",
              "      <td>6</td>\n",
              "      <td>2</td>\n",
              "      <td>53475.0</td>\n",
              "      <td>0</td>\n",
              "      <td>0</td>\n",
              "      <td>0</td>\n",
              "      <td>0.0</td>\n",
              "      <td>0.0</td>\n",
              "      <td>0.0</td>\n",
              "      <td>0.0</td>\n",
              "      <td>0.0</td>\n",
              "      <td>0.0</td>\n",
              "      <td>0.0</td>\n",
              "      <td>0.0</td>\n",
              "      <td>0.0</td>\n",
              "      <td>0.0</td>\n",
              "      <td>0.0</td>\n",
              "      <td>0.0</td>\n",
              "      <td>0.0</td>\n",
              "      <td>0.0</td>\n",
              "      <td>0.0</td>\n",
              "      <td>0.0</td>\n",
              "      <td>0.0</td>\n",
              "      <td>0.0</td>\n",
              "      <td>0.0</td>\n",
              "      <td>0.0</td>\n",
              "      <td>0.0</td>\n",
              "      <td>0.0</td>\n",
              "      <td>0.0</td>\n",
              "      <td>0.0</td>\n",
              "      <td>0.0</td>\n",
              "      <td>0.0</td>\n",
              "      <td>0.0</td>\n",
              "      <td>0.0</td>\n",
              "      <td>0.0</td>\n",
              "      <td>0.0</td>\n",
              "      <td>0.0</td>\n",
              "      <td>0.0</td>\n",
              "      <td>0.0</td>\n",
              "      <td>0.0</td>\n",
              "      <td>0.0</td>\n",
              "      <td>0.0</td>\n",
              "      <td>0.0</td>\n",
              "      <td>1.0</td>\n",
              "      <td>0.0</td>\n",
              "      <td>0.0</td>\n",
              "      <td>1.0</td>\n",
              "      <td>0.0</td>\n",
              "      <td>0.0</td>\n",
              "      <td>0.0</td>\n",
              "      <td>0.0</td>\n",
              "      <td>0.0</td>\n",
              "      <td>0.0</td>\n",
              "      <td>0.0</td>\n",
              "      <td>0.0</td>\n",
              "      <td>0.0</td>\n",
              "      <td>0.0</td>\n",
              "      <td>0.0</td>\n",
              "      <td>0.0</td>\n",
              "      <td>1.0</td>\n",
              "      <td>0.0</td>\n",
              "      <td>0.0</td>\n",
              "      <td>0.0</td>\n",
              "      <td>0.0</td>\n",
              "      <td>0.0</td>\n",
              "      <td>0.0</td>\n",
              "      <td>0.0</td>\n",
              "      <td>0.0</td>\n",
              "      <td>0.0</td>\n",
              "      <td>0.0</td>\n",
              "      <td>0.0</td>\n",
              "    </tr>\n",
              "    <tr>\n",
              "      <th>202812</th>\n",
              "      <td>32990</td>\n",
              "      <td>2016.0</td>\n",
              "      <td>2</td>\n",
              "      <td>8</td>\n",
              "      <td>2</td>\n",
              "      <td>55612.0</td>\n",
              "      <td>0</td>\n",
              "      <td>0</td>\n",
              "      <td>2</td>\n",
              "      <td>0.0</td>\n",
              "      <td>0.0</td>\n",
              "      <td>0.0</td>\n",
              "      <td>0.0</td>\n",
              "      <td>0.0</td>\n",
              "      <td>0.0</td>\n",
              "      <td>0.0</td>\n",
              "      <td>0.0</td>\n",
              "      <td>0.0</td>\n",
              "      <td>0.0</td>\n",
              "      <td>0.0</td>\n",
              "      <td>0.0</td>\n",
              "      <td>0.0</td>\n",
              "      <td>0.0</td>\n",
              "      <td>0.0</td>\n",
              "      <td>0.0</td>\n",
              "      <td>0.0</td>\n",
              "      <td>1.0</td>\n",
              "      <td>0.0</td>\n",
              "      <td>0.0</td>\n",
              "      <td>0.0</td>\n",
              "      <td>0.0</td>\n",
              "      <td>0.0</td>\n",
              "      <td>0.0</td>\n",
              "      <td>0.0</td>\n",
              "      <td>0.0</td>\n",
              "      <td>0.0</td>\n",
              "      <td>0.0</td>\n",
              "      <td>0.0</td>\n",
              "      <td>0.0</td>\n",
              "      <td>0.0</td>\n",
              "      <td>0.0</td>\n",
              "      <td>0.0</td>\n",
              "      <td>0.0</td>\n",
              "      <td>0.0</td>\n",
              "      <td>0.0</td>\n",
              "      <td>0.0</td>\n",
              "      <td>0.0</td>\n",
              "      <td>0.0</td>\n",
              "      <td>0.0</td>\n",
              "      <td>0.0</td>\n",
              "      <td>0.0</td>\n",
              "      <td>0.0</td>\n",
              "      <td>0.0</td>\n",
              "      <td>0.0</td>\n",
              "      <td>0.0</td>\n",
              "      <td>0.0</td>\n",
              "      <td>1.0</td>\n",
              "      <td>0.0</td>\n",
              "      <td>0.0</td>\n",
              "      <td>0.0</td>\n",
              "      <td>0.0</td>\n",
              "      <td>0.0</td>\n",
              "      <td>1.0</td>\n",
              "      <td>0.0</td>\n",
              "      <td>0.0</td>\n",
              "      <td>0.0</td>\n",
              "      <td>0.0</td>\n",
              "      <td>0.0</td>\n",
              "      <td>0.0</td>\n",
              "      <td>0.0</td>\n",
              "      <td>0.0</td>\n",
              "      <td>0.0</td>\n",
              "      <td>0.0</td>\n",
              "      <td>0.0</td>\n",
              "    </tr>\n",
              "    <tr>\n",
              "      <th>202813</th>\n",
              "      <td>13990</td>\n",
              "      <td>2016.0</td>\n",
              "      <td>2</td>\n",
              "      <td>6</td>\n",
              "      <td>4</td>\n",
              "      <td>75626.0</td>\n",
              "      <td>0</td>\n",
              "      <td>2</td>\n",
              "      <td>1</td>\n",
              "      <td>0.0</td>\n",
              "      <td>0.0</td>\n",
              "      <td>0.0</td>\n",
              "      <td>0.0</td>\n",
              "      <td>0.0</td>\n",
              "      <td>0.0</td>\n",
              "      <td>0.0</td>\n",
              "      <td>0.0</td>\n",
              "      <td>0.0</td>\n",
              "      <td>0.0</td>\n",
              "      <td>0.0</td>\n",
              "      <td>0.0</td>\n",
              "      <td>1.0</td>\n",
              "      <td>0.0</td>\n",
              "      <td>0.0</td>\n",
              "      <td>0.0</td>\n",
              "      <td>0.0</td>\n",
              "      <td>0.0</td>\n",
              "      <td>0.0</td>\n",
              "      <td>0.0</td>\n",
              "      <td>0.0</td>\n",
              "      <td>0.0</td>\n",
              "      <td>0.0</td>\n",
              "      <td>0.0</td>\n",
              "      <td>0.0</td>\n",
              "      <td>0.0</td>\n",
              "      <td>0.0</td>\n",
              "      <td>0.0</td>\n",
              "      <td>0.0</td>\n",
              "      <td>0.0</td>\n",
              "      <td>0.0</td>\n",
              "      <td>0.0</td>\n",
              "      <td>0.0</td>\n",
              "      <td>0.0</td>\n",
              "      <td>0.0</td>\n",
              "      <td>0.0</td>\n",
              "      <td>0.0</td>\n",
              "      <td>0.0</td>\n",
              "      <td>0.0</td>\n",
              "      <td>0.0</td>\n",
              "      <td>0.0</td>\n",
              "      <td>0.0</td>\n",
              "      <td>0.0</td>\n",
              "      <td>0.0</td>\n",
              "      <td>1.0</td>\n",
              "      <td>0.0</td>\n",
              "      <td>0.0</td>\n",
              "      <td>0.0</td>\n",
              "      <td>0.0</td>\n",
              "      <td>0.0</td>\n",
              "      <td>0.0</td>\n",
              "      <td>0.0</td>\n",
              "      <td>0.0</td>\n",
              "      <td>0.0</td>\n",
              "      <td>0.0</td>\n",
              "      <td>0.0</td>\n",
              "      <td>0.0</td>\n",
              "      <td>0.0</td>\n",
              "      <td>0.0</td>\n",
              "      <td>0.0</td>\n",
              "      <td>0.0</td>\n",
              "      <td>0.0</td>\n",
              "      <td>0.0</td>\n",
              "      <td>1.0</td>\n",
              "      <td>0.0</td>\n",
              "    </tr>\n",
              "  </tbody>\n",
              "</table>\n",
              "<p>202814 rows × 74 columns</p>\n",
              "</div>\n",
              "      <button class=\"colab-df-convert\" onclick=\"convertToInteractive('df-e89423df-3c18-4356-be6f-a10df012dcf2')\"\n",
              "              title=\"Convert this dataframe to an interactive table.\"\n",
              "              style=\"display:none;\">\n",
              "        \n",
              "  <svg xmlns=\"http://www.w3.org/2000/svg\" height=\"24px\"viewBox=\"0 0 24 24\"\n",
              "       width=\"24px\">\n",
              "    <path d=\"M0 0h24v24H0V0z\" fill=\"none\"/>\n",
              "    <path d=\"M18.56 5.44l.94 2.06.94-2.06 2.06-.94-2.06-.94-.94-2.06-.94 2.06-2.06.94zm-11 1L8.5 8.5l.94-2.06 2.06-.94-2.06-.94L8.5 2.5l-.94 2.06-2.06.94zm10 10l.94 2.06.94-2.06 2.06-.94-2.06-.94-.94-2.06-.94 2.06-2.06.94z\"/><path d=\"M17.41 7.96l-1.37-1.37c-.4-.4-.92-.59-1.43-.59-.52 0-1.04.2-1.43.59L10.3 9.45l-7.72 7.72c-.78.78-.78 2.05 0 2.83L4 21.41c.39.39.9.59 1.41.59.51 0 1.02-.2 1.41-.59l7.78-7.78 2.81-2.81c.8-.78.8-2.07 0-2.86zM5.41 20L4 18.59l7.72-7.72 1.47 1.35L5.41 20z\"/>\n",
              "  </svg>\n",
              "      </button>\n",
              "      \n",
              "  <style>\n",
              "    .colab-df-container {\n",
              "      display:flex;\n",
              "      flex-wrap:wrap;\n",
              "      gap: 12px;\n",
              "    }\n",
              "\n",
              "    .colab-df-convert {\n",
              "      background-color: #E8F0FE;\n",
              "      border: none;\n",
              "      border-radius: 50%;\n",
              "      cursor: pointer;\n",
              "      display: none;\n",
              "      fill: #1967D2;\n",
              "      height: 32px;\n",
              "      padding: 0 0 0 0;\n",
              "      width: 32px;\n",
              "    }\n",
              "\n",
              "    .colab-df-convert:hover {\n",
              "      background-color: #E2EBFA;\n",
              "      box-shadow: 0px 1px 2px rgba(60, 64, 67, 0.3), 0px 1px 3px 1px rgba(60, 64, 67, 0.15);\n",
              "      fill: #174EA6;\n",
              "    }\n",
              "\n",
              "    [theme=dark] .colab-df-convert {\n",
              "      background-color: #3B4455;\n",
              "      fill: #D2E3FC;\n",
              "    }\n",
              "\n",
              "    [theme=dark] .colab-df-convert:hover {\n",
              "      background-color: #434B5C;\n",
              "      box-shadow: 0px 1px 3px 1px rgba(0, 0, 0, 0.15);\n",
              "      filter: drop-shadow(0px 1px 2px rgba(0, 0, 0, 0.3));\n",
              "      fill: #FFFFFF;\n",
              "    }\n",
              "  </style>\n",
              "\n",
              "      <script>\n",
              "        const buttonEl =\n",
              "          document.querySelector('#df-e89423df-3c18-4356-be6f-a10df012dcf2 button.colab-df-convert');\n",
              "        buttonEl.style.display =\n",
              "          google.colab.kernel.accessAllowed ? 'block' : 'none';\n",
              "\n",
              "        async function convertToInteractive(key) {\n",
              "          const element = document.querySelector('#df-e89423df-3c18-4356-be6f-a10df012dcf2');\n",
              "          const dataTable =\n",
              "            await google.colab.kernel.invokeFunction('convertToInteractive',\n",
              "                                                     [key], {});\n",
              "          if (!dataTable) return;\n",
              "\n",
              "          const docLinkHtml = 'Like what you see? Visit the ' +\n",
              "            '<a target=\"_blank\" href=https://colab.research.google.com/notebooks/data_table.ipynb>data table notebook</a>'\n",
              "            + ' to learn more about interactive tables.';\n",
              "          element.innerHTML = '';\n",
              "          dataTable['output_type'] = 'display_data';\n",
              "          await google.colab.output.renderOutput(dataTable, element);\n",
              "          const docLink = document.createElement('div');\n",
              "          docLink.innerHTML = docLinkHtml;\n",
              "          element.appendChild(docLink);\n",
              "        }\n",
              "      </script>\n",
              "    </div>\n",
              "  </div>\n",
              "  "
            ]
          },
          "metadata": {},
          "execution_count": 141
        }
      ]
    },
    {
      "cell_type": "code",
      "source": [
        "df.year.describe()"
      ],
      "metadata": {
        "colab": {
          "base_uri": "https://localhost:8080/"
        },
        "id": "v8J0Eb5nPyUe",
        "outputId": "d3dfd019-92b2-4ff2-b221-417f19a363c2"
      },
      "execution_count": null,
      "outputs": [
        {
          "output_type": "execute_result",
          "data": {
            "text/plain": [
              "count    202814.000000\n",
              "mean       2012.789181\n",
              "std           4.439894\n",
              "min        1995.000000\n",
              "25%        2011.000000\n",
              "50%        2014.000000\n",
              "75%        2016.000000\n",
              "max        2022.000000\n",
              "Name: year, dtype: float64"
            ]
          },
          "metadata": {},
          "execution_count": 142
        }
      ]
    },
    {
      "cell_type": "code",
      "source": [
        "plt.scatter(df.odometer,df.price)"
      ],
      "metadata": {
        "colab": {
          "base_uri": "https://localhost:8080/",
          "height": 293
        },
        "id": "VZFxykKoP155",
        "outputId": "207b00eb-f096-4728-f0e2-b4a11dd2e650"
      },
      "execution_count": null,
      "outputs": [
        {
          "output_type": "execute_result",
          "data": {
            "text/plain": [
              "<matplotlib.collections.PathCollection at 0x7f2d480d4750>"
            ]
          },
          "metadata": {},
          "execution_count": 143
        },
        {
          "output_type": "display_data",
          "data": {
            "text/plain": [
              "<Figure size 576x288 with 1 Axes>"
            ],
            "image/png": "[encoded data removed]"
          },
          "metadata": {
            "needs_background": "light"
          }
        }
      ]
    }
  ]
}