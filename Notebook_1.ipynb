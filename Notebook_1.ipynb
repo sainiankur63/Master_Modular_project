{
  "cells": [
    {
      "cell_type": "markdown",
      "metadata": {
        "id": "view-in-github",
        "colab_type": "text"
      },
      "source": [
        "<a href=\"https://colab.research.google.com/github/sainiankur63/Master_Modular_project/blob/main/Notebook_1.ipynb\" target=\"_parent\"><img src=\"https://colab.research.google.com/assets/colab-badge.svg\" alt=\"Open In Colab\"/></a>"
      ]
    },
    {
      "cell_type": "markdown",
      "metadata": {
        "id": "xnZQyI6sxBqC"
      },
      "source": [
        "**Installing required Libraries** "
      ]
    },
    {
      "cell_type": "code",
      "execution_count": 1,
      "metadata": {
        "id": "eJZf0l69xL2w"
      },
      "outputs": [],
      "source": [
        "!pip install pandas numpy pandas matplotlib seaborn opendatasets --quiet"
      ]
    },
    {
      "cell_type": "markdown",
      "metadata": {
        "id": "dqVvQOeLtJkL"
      },
      "source": [
        "**Importing Libraries**"
      ]
    },
    {
      "cell_type": "code",
      "execution_count": 2,
      "metadata": {
        "id": "HbV0bnT1tO-T"
      },
      "outputs": [],
      "source": [
        "import pandas as pd\n",
        "import numpy as np\n",
        "import matplotlib.pyplot as plt\n",
        "import seaborn as sns"
      ]
    },
    {
      "cell_type": "markdown",
      "metadata": {
        "id": "cTvsPfeRuFZ3"
      },
      "source": [
        "**Download the Dataset**"
      ]
    },
    {
      "cell_type": "code",
      "execution_count": 3,
      "metadata": {
        "id": "67dendfvvR15"
      },
      "outputs": [],
      "source": [
        "import opendatasets as od\n",
        "dataset_url = 'https://www.kaggle.com/austinreese/craigslist-carstrucks-data'"
      ]
    },
    {
      "cell_type": "code",
      "execution_count": 4,
      "metadata": {
        "colab": {
          "base_uri": "https://localhost:8080/"
        },
        "id": "DBSJ7DS6vqpf",
        "outputId": "b6643847-1b7a-4156-b251-41e2f54858df"
      },
      "outputs": [
        {
          "output_type": "stream",
          "name": "stdout",
          "text": [
            "Downloading craigslist-carstrucks-data.zip to ./craigslist-carstrucks-data\n"
          ]
        },
        {
          "output_type": "stream",
          "name": "stderr",
          "text": [
            "100%|██████████| 262M/262M [00:01<00:00, 177MB/s]\n"
          ]
        },
        {
          "output_type": "stream",
          "name": "stdout",
          "text": [
            "\n",
            "CPU times: user 11.1 s, sys: 3.12 s, total: 14.2 s\n",
            "Wall time: 20.1 s\n"
          ]
        }
      ],
      "source": [
        "%%time\n",
        "od.download(dataset_url)"
      ]
    },
    {
      "cell_type": "code",
      "execution_count": 5,
      "metadata": {
        "id": "arbw2MM_wJ_B"
      },
      "outputs": [],
      "source": [
        "data_dir = './craigslist-carstrucks-data'"
      ]
    },
    {
      "cell_type": "markdown",
      "metadata": {
        "id": "vPvEYh6Ww4dH"
      },
      "source": [
        "**View Dataset Files**"
      ]
    },
    {
      "cell_type": "code",
      "execution_count": 6,
      "metadata": {
        "id": "ZzZnj8PAwkD3",
        "colab": {
          "base_uri": "https://localhost:8080/"
        },
        "outputId": "473d0e05-04ab-4535-9492-ded2f16c7ed3"
      },
      "outputs": [
        {
          "output_type": "stream",
          "name": "stdout",
          "text": [
            "total 1.4G\n",
            "-rw-r--r-- 1 root root 1.4G Mar 29 12:24 vehicles.csv\n"
          ]
        }
      ],
      "source": [
        "# List of files with size\n",
        "!ls -lh {data_dir}"
      ]
    },
    {
      "cell_type": "code",
      "execution_count": 7,
      "metadata": {
        "id": "ik11IBqpx6sl",
        "colab": {
          "base_uri": "https://localhost:8080/"
        },
        "outputId": "93e88c5f-86e6-4a4b-fe5b-aaec49c12235"
      },
      "outputs": [
        {
          "output_type": "stream",
          "name": "stdout",
          "text": [
            "id,url,region,region_url,price,year,manufacturer,model,condition,cylinders,fuel,odometer,title_status,transmission,VIN,drive,size,type,paint_color,image_url,description,county,state,lat,long,posting_date\r\n",
            "7222695916,https://prescott.craigslist.org/cto/d/prescott-2010-ford-ranger/7222695916.html,prescott,https://prescott.craigslist.org,6000,,,,,,,,,,,,,,,,,,az,,,\r\n",
            "7218891961,https://fayar.craigslist.org/ctd/d/bentonville-2017-hyundai-elantra-se/7218891961.html,fayetteville,https://fayar.craigslist.org,11900,,,,,,,,,,,,,,,,,,ar,,,\r\n",
            "7221797935,https://keys.craigslist.org/cto/d/summerland-key-2005-excursion/7221797935.html,florida keys,https://keys.craigslist.org,21000,,,,,,,,,,,,,,,,,,fl,,,\r\n",
            "7222270760,https://worcester.craigslist.org/cto/d/west-brookfield-2002-honda-odyssey-ex/7222270760.html,worcester / central MA,https://worcester.craigslist.org,1500,,,,,,,,,,,,,,,,,,ma,,,\r\n",
            "7210384030,https://greensboro.craigslist.org/cto/d/trinity-1965-chevrolet-truck/7210384030.html,greensboro,https://greensboro.craigslist.org,4900,,,,,,,,,,,,,,,,,,nc,,,\r\n",
            "7222379453,https://hudsonvalley.craigslist.org/cto/d/westtown-2007-ford-150/7222379453.html,hudson valley,https://hudsonvalley.craigslist.org,1600,,,,,,,,,,,,,,,,,,ny,,,\r\n",
            "7221952215,https://hudsonvalley.craigslist.org/cto/d/westtown-silverado-2000/7221952215.html,hudson valley,https://hudsonvalley.craigslist.org,1000,,,,,,,,,,,,,,,,,,ny,,,\r\n",
            "7220195662,https://hudsonvalley.craigslist.org/cto/d/poughquag-2015-acura-rdx-warranty/7220195662.html,hudson valley,https://hudsonvalley.craigslist.org,15995,,,,,,,,,,,,,,,,,,ny,,,\r\n",
            "7209064557,https://medford.craigslist.org/cto/d/grants-pass-two-2002-bmw-tii/7209064557.html,medford-ashland,https://medford.craigslist.org,5000,,,,,,,,,,,,,,,,,,or,,,\r\n"
          ]
        }
      ],
      "source": [
        "# view dataset\n",
        "!head {data_dir}/vehicles.csv"
      ]
    },
    {
      "cell_type": "code",
      "execution_count": 8,
      "metadata": {
        "id": "1f6VOXpEyUoe",
        "colab": {
          "base_uri": "https://localhost:8080/"
        },
        "outputId": "d4724840-21f9-418e-ffb0-724d363cfea9"
      },
      "outputs": [
        {
          "output_type": "stream",
          "name": "stdout",
          "text": [
            "426881 ./craigslist-carstrucks-data/vehicles.csv\n"
          ]
        }
      ],
      "source": [
        "# checking No. of lines in dataset\n",
        "!wc -l {data_dir}/vehicles.csv"
      ]
    },
    {
      "cell_type": "code",
      "execution_count": 9,
      "metadata": {
        "id": "-_Jj27duzSNM",
        "colab": {
          "base_uri": "https://localhost:8080/"
        },
        "outputId": "7eee57bb-f7b4-434a-ddfd-48aaa507d208"
      },
      "outputs": [
        {
          "output_type": "stream",
          "name": "stdout",
          "text": [
            "id,url,region,region_url,price,year,manufacturer,model,condition,cylinders,fuel,odometer,title_status,transmission,VIN,drive,size,type,paint_color,image_url,description,county,state,lat,long,posting_date\r\n"
          ]
        }
      ],
      "source": [
        "# checking No. of labels  in the dataset\n",
        "!head -n 1 {data_dir}/vehicles.csv"
      ]
    },
    {
      "cell_type": "markdown",
      "metadata": {
        "id": "tAyyCNfhyjmG"
      },
      "source": [
        "Observations:\n",
        "\n",
        "- This is a supervised learning regression problem\n",
        "- Dataset is 1.4 GB in size\n",
        "- Dataset contains 426881 rows and \n",
        "- The dataset has 26 columns:\n",
        "  - 'id'\n",
        "  - 'url'\n",
        "  - 'region'\n",
        "  - 'region_url'\n",
        "  - 'price'\n",
        "  - 'year'\n",
        "  - 'manufacturer'\n",
        "  - 'model'\n",
        "  - 'condition'\n",
        "  - 'cylinders'\n",
        "  - 'fuel'\n",
        "  - 'odometer'\n",
        "  - 'title_status'\n",
        "  - 'transmission'\n",
        "  - 'VIN'\n",
        "  - 'drive'\n",
        "  - 'size'\n",
        "  - 'type'\n",
        "  - 'paint_color'\n",
        "  - 'image_url'\n",
        "  - 'description'\n",
        "  - 'county'\n",
        "  - 'state'\n",
        "  - 'lat'\n",
        "  - 'long' \n",
        "  - 'posting_date'\n",
        "\n",
        "\n"
      ]
    },
    {
      "cell_type": "markdown",
      "metadata": {
        "id": "d4ZT3SFZETgy"
      },
      "source": [
        "### Loading Dataset for Analysis\n",
        "\n",
        "Loading the entire dataset into Pandas is going to be slow, so we can use the following optimizations:\n",
        "\n",
        "- Work with a 10% sample of the data (~42\n",
        "k rows)\n"
      ]
    },
    {
      "cell_type": "code",
      "execution_count": 10,
      "metadata": {
        "id": "OLcW2VndGBRN"
      },
      "outputs": [],
      "source": [
        "import random"
      ]
    },
    {
      "cell_type": "code",
      "execution_count": 11,
      "metadata": {
        "id": "o3GRg5lDyaQ_"
      },
      "outputs": [],
      "source": [
        "# Taking 10 percent fraction of the dataset\n",
        "sample_frac = 0.3"
      ]
    },
    {
      "cell_type": "code",
      "execution_count": 12,
      "metadata": {
        "colab": {
          "base_uri": "https://localhost:8080/"
        },
        "id": "EBPMHdS9Fm-X",
        "outputId": "2ea8cc41-66a6-4a7b-c638-221d0862596a"
      },
      "outputs": [
        {
          "output_type": "stream",
          "name": "stdout",
          "text": [
            "CPU times: user 17.4 s, sys: 2.1 s, total: 19.5 s\n",
            "Wall time: 23.2 s\n"
          ]
        }
      ],
      "source": [
        "%%time\n",
        "\n",
        "def skip_row(row_idx):\n",
        "    if row_idx == 0:\n",
        "        return False\n",
        "    return random.random() > sample_frac\n",
        "\n",
        "random.seed(42)\n",
        "df = pd.read_csv(data_dir+\"/vehicles.csv\", \n",
        "                 skiprows=skip_row)"
      ]
    },
    {
      "cell_type": "code",
      "execution_count": 13,
      "metadata": {
        "colab": {
          "base_uri": "https://localhost:8080/"
        },
        "id": "VwDcXQVIHCEE",
        "outputId": "4686543f-2977-4e23-ea3e-627cee2b88c4"
      },
      "outputs": [
        {
          "output_type": "execute_result",
          "data": {
            "text/plain": [
              "(128009, 26)"
            ]
          },
          "metadata": {},
          "execution_count": 13
        }
      ],
      "source": [
        "# Shape of the dataset\n",
        "df.shape"
      ]
    },
    {
      "cell_type": "code",
      "execution_count": 14,
      "metadata": {
        "colab": {
          "base_uri": "https://localhost:8080/"
        },
        "id": "zutHojRhHfeZ",
        "outputId": "cb1b5d52-b3fa-4377-babe-b26a50570d3e"
      },
      "outputs": [
        {
          "output_type": "stream",
          "name": "stdout",
          "text": [
            "<class 'pandas.core.frame.DataFrame'>\n",
            "RangeIndex: 128009 entries, 0 to 128008\n",
            "Data columns (total 26 columns):\n",
            " #   Column        Non-Null Count   Dtype  \n",
            "---  ------        --------------   -----  \n",
            " 0   id            128009 non-null  int64  \n",
            " 1   url           128009 non-null  object \n",
            " 2   region        128009 non-null  object \n",
            " 3   region_url    128009 non-null  object \n",
            " 4   price         128009 non-null  int64  \n",
            " 5   year          127635 non-null  float64\n",
            " 6   manufacturer  122720 non-null  object \n",
            " 7   model         126444 non-null  object \n",
            " 8   condition     75937 non-null   object \n",
            " 9   cylinders     74745 non-null   object \n",
            " 10  fuel          127127 non-null  object \n",
            " 11  odometer      126702 non-null  float64\n",
            " 12  title_status  125510 non-null  object \n",
            " 13  transmission  127208 non-null  object \n",
            " 14  VIN           79618 non-null   object \n",
            " 15  drive         88775 non-null   object \n",
            " 16  size          36177 non-null   object \n",
            " 17  type          100057 non-null  object \n",
            " 18  paint_color   88978 non-null   object \n",
            " 19  image_url     127983 non-null  object \n",
            " 20  description   127983 non-null  object \n",
            " 21  county        0 non-null       float64\n",
            " 22  state         128009 non-null  object \n",
            " 23  lat           126023 non-null  float64\n",
            " 24  long          126023 non-null  float64\n",
            " 25  posting_date  127983 non-null  object \n",
            "dtypes: float64(5), int64(2), object(19)\n",
            "memory usage: 25.4+ MB\n"
          ]
        }
      ],
      "source": [
        "# checking the number of null values and the datatypes of columns\n",
        "df.info()"
      ]
    },
    {
      "cell_type": "code",
      "execution_count": 15,
      "metadata": {
        "id": "_rCFecw4ITQo"
      },
      "outputs": [],
      "source": [
        "# county column has all null values,so dropping this column\n",
        "df = df.drop('county',axis =1)"
      ]
    },
    {
      "cell_type": "code",
      "execution_count": 16,
      "metadata": {
        "id": "hjxJG_sOovA9"
      },
      "outputs": [],
      "source": [
        "# To show all columns' names on a large pandas dataframe\n",
        "\n",
        "pd.set_option('display.max_columns', None)"
      ]
    },
    {
      "cell_type": "code",
      "execution_count": 17,
      "metadata": {
        "colab": {
          "base_uri": "https://localhost:8080/",
          "height": 496
        },
        "id": "YxCP-iP8Ia1X",
        "outputId": "0e8b8e0b-951d-463a-c132-4e28663a18bb"
      },
      "outputs": [
        {
          "output_type": "execute_result",
          "data": {
            "text/plain": [
              "           id                                                url  \\\n",
              "0  7218891961  https://fayar.craigslist.org/ctd/d/bentonville...   \n",
              "1  7221797935  https://keys.craigslist.org/cto/d/summerland-k...   \n",
              "2  7222270760  https://worcester.craigslist.org/cto/d/west-br...   \n",
              "3  7220195662  https://hudsonvalley.craigslist.org/cto/d/poug...   \n",
              "4  7219485069  https://erie.craigslist.org/cto/d/erie-2012-su...   \n",
              "5  7218893038  https://elpaso.craigslist.org/ctd/d/el-paso-20...   \n",
              "6  7217788283  https://elpaso.craigslist.org/ctd/d/el-paso-20...   \n",
              "7  7217147606  https://elpaso.craigslist.org/ctd/d/el-paso-20...   \n",
              "8  7222753076  https://bellingham.craigslist.org/ctd/d/bellin...   \n",
              "9  7218423006  https://bellingham.craigslist.org/ctd/d/bellin...   \n",
              "\n",
              "                   region                           region_url  price  year  \\\n",
              "0            fayetteville         https://fayar.craigslist.org  11900   NaN   \n",
              "1            florida keys          https://keys.craigslist.org  21000   NaN   \n",
              "2  worcester / central MA     https://worcester.craigslist.org   1500   NaN   \n",
              "3           hudson valley  https://hudsonvalley.craigslist.org  15995   NaN   \n",
              "4                    erie          https://erie.craigslist.org   3000   NaN   \n",
              "5                 el paso        https://elpaso.craigslist.org      0   NaN   \n",
              "6                 el paso        https://elpaso.craigslist.org      0   NaN   \n",
              "7                 el paso        https://elpaso.craigslist.org      0   NaN   \n",
              "8              bellingham    https://bellingham.craigslist.org  24999   NaN   \n",
              "9              bellingham    https://bellingham.craigslist.org  11999   NaN   \n",
              "\n",
              "  manufacturer model condition cylinders fuel  odometer title_status  \\\n",
              "0          NaN   NaN       NaN       NaN  NaN       NaN          NaN   \n",
              "1          NaN   NaN       NaN       NaN  NaN       NaN          NaN   \n",
              "2          NaN   NaN       NaN       NaN  NaN       NaN          NaN   \n",
              "3          NaN   NaN       NaN       NaN  NaN       NaN          NaN   \n",
              "4          NaN   NaN       NaN       NaN  NaN       NaN          NaN   \n",
              "5          NaN   NaN       NaN       NaN  NaN       NaN          NaN   \n",
              "6          NaN   NaN       NaN       NaN  NaN       NaN          NaN   \n",
              "7          NaN   NaN       NaN       NaN  NaN       NaN          NaN   \n",
              "8          NaN   NaN       NaN       NaN  NaN       NaN          NaN   \n",
              "9          NaN   NaN       NaN       NaN  NaN       NaN          NaN   \n",
              "\n",
              "  transmission  VIN drive size type paint_color image_url description state  \\\n",
              "0          NaN  NaN   NaN  NaN  NaN         NaN       NaN         NaN    ar   \n",
              "1          NaN  NaN   NaN  NaN  NaN         NaN       NaN         NaN    fl   \n",
              "2          NaN  NaN   NaN  NaN  NaN         NaN       NaN         NaN    ma   \n",
              "3          NaN  NaN   NaN  NaN  NaN         NaN       NaN         NaN    ny   \n",
              "4          NaN  NaN   NaN  NaN  NaN         NaN       NaN         NaN    pa   \n",
              "5          NaN  NaN   NaN  NaN  NaN         NaN       NaN         NaN    tx   \n",
              "6          NaN  NaN   NaN  NaN  NaN         NaN       NaN         NaN    tx   \n",
              "7          NaN  NaN   NaN  NaN  NaN         NaN       NaN         NaN    tx   \n",
              "8          NaN  NaN   NaN  NaN  NaN         NaN       NaN         NaN    wa   \n",
              "9          NaN  NaN   NaN  NaN  NaN         NaN       NaN         NaN    wa   \n",
              "\n",
              "   lat  long posting_date  \n",
              "0  NaN   NaN          NaN  \n",
              "1  NaN   NaN          NaN  \n",
              "2  NaN   NaN          NaN  \n",
              "3  NaN   NaN          NaN  \n",
              "4  NaN   NaN          NaN  \n",
              "5  NaN   NaN          NaN  \n",
              "6  NaN   NaN          NaN  \n",
              "7  NaN   NaN          NaN  \n",
              "8  NaN   NaN          NaN  \n",
              "9  NaN   NaN          NaN  "
            ],
            "text/html": [
              "\n",
              "  <div id=\"df-fe1d6457-253d-47de-98cd-2ea109654df1\">\n",
              "    <div class=\"colab-df-container\">\n",
              "      <div>\n",
              "<style scoped>\n",
              "    .dataframe tbody tr th:only-of-type {\n",
              "        vertical-align: middle;\n",
              "    }\n",
              "\n",
              "    .dataframe tbody tr th {\n",
              "        vertical-align: top;\n",
              "    }\n",
              "\n",
              "    .dataframe thead th {\n",
              "        text-align: right;\n",
              "    }\n",
              "</style>\n",
              "<table border=\"1\" class=\"dataframe\">\n",
              "  <thead>\n",
              "    <tr style=\"text-align: right;\">\n",
              "      <th></th>\n",
              "      <th>id</th>\n",
              "      <th>url</th>\n",
              "      <th>region</th>\n",
              "      <th>region_url</th>\n",
              "      <th>price</th>\n",
              "      <th>year</th>\n",
              "      <th>manufacturer</th>\n",
              "      <th>model</th>\n",
              "      <th>condition</th>\n",
              "      <th>cylinders</th>\n",
              "      <th>fuel</th>\n",
              "      <th>odometer</th>\n",
              "      <th>title_status</th>\n",
              "      <th>transmission</th>\n",
              "      <th>VIN</th>\n",
              "      <th>drive</th>\n",
              "      <th>size</th>\n",
              "      <th>type</th>\n",
              "      <th>paint_color</th>\n",
              "      <th>image_url</th>\n",
              "      <th>description</th>\n",
              "      <th>state</th>\n",
              "      <th>lat</th>\n",
              "      <th>long</th>\n",
              "      <th>posting_date</th>\n",
              "    </tr>\n",
              "  </thead>\n",
              "  <tbody>\n",
              "    <tr>\n",
              "      <th>0</th>\n",
              "      <td>7218891961</td>\n",
              "      <td>https://fayar.craigslist.org/ctd/d/bentonville...</td>\n",
              "      <td>fayetteville</td>\n",
              "      <td>https://fayar.craigslist.org</td>\n",
              "      <td>11900</td>\n",
              "      <td>NaN</td>\n",
              "      <td>NaN</td>\n",
              "      <td>NaN</td>\n",
              "      <td>NaN</td>\n",
              "      <td>NaN</td>\n",
              "      <td>NaN</td>\n",
              "      <td>NaN</td>\n",
              "      <td>NaN</td>\n",
              "      <td>NaN</td>\n",
              "      <td>NaN</td>\n",
              "      <td>NaN</td>\n",
              "      <td>NaN</td>\n",
              "      <td>NaN</td>\n",
              "      <td>NaN</td>\n",
              "      <td>NaN</td>\n",
              "      <td>NaN</td>\n",
              "      <td>ar</td>\n",
              "      <td>NaN</td>\n",
              "      <td>NaN</td>\n",
              "      <td>NaN</td>\n",
              "    </tr>\n",
              "    <tr>\n",
              "      <th>1</th>\n",
              "      <td>7221797935</td>\n",
              "      <td>https://keys.craigslist.org/cto/d/summerland-k...</td>\n",
              "      <td>florida keys</td>\n",
              "      <td>https://keys.craigslist.org</td>\n",
              "      <td>21000</td>\n",
              "      <td>NaN</td>\n",
              "      <td>NaN</td>\n",
              "      <td>NaN</td>\n",
              "      <td>NaN</td>\n",
              "      <td>NaN</td>\n",
              "      <td>NaN</td>\n",
              "      <td>NaN</td>\n",
              "      <td>NaN</td>\n",
              "      <td>NaN</td>\n",
              "      <td>NaN</td>\n",
              "      <td>NaN</td>\n",
              "      <td>NaN</td>\n",
              "      <td>NaN</td>\n",
              "      <td>NaN</td>\n",
              "      <td>NaN</td>\n",
              "      <td>NaN</td>\n",
              "      <td>fl</td>\n",
              "      <td>NaN</td>\n",
              "      <td>NaN</td>\n",
              "      <td>NaN</td>\n",
              "    </tr>\n",
              "    <tr>\n",
              "      <th>2</th>\n",
              "      <td>7222270760</td>\n",
              "      <td>https://worcester.craigslist.org/cto/d/west-br...</td>\n",
              "      <td>worcester / central MA</td>\n",
              "      <td>https://worcester.craigslist.org</td>\n",
              "      <td>1500</td>\n",
              "      <td>NaN</td>\n",
              "      <td>NaN</td>\n",
              "      <td>NaN</td>\n",
              "      <td>NaN</td>\n",
              "      <td>NaN</td>\n",
              "      <td>NaN</td>\n",
              "      <td>NaN</td>\n",
              "      <td>NaN</td>\n",
              "      <td>NaN</td>\n",
              "      <td>NaN</td>\n",
              "      <td>NaN</td>\n",
              "      <td>NaN</td>\n",
              "      <td>NaN</td>\n",
              "      <td>NaN</td>\n",
              "      <td>NaN</td>\n",
              "      <td>NaN</td>\n",
              "      <td>ma</td>\n",
              "      <td>NaN</td>\n",
              "      <td>NaN</td>\n",
              "      <td>NaN</td>\n",
              "    </tr>\n",
              "    <tr>\n",
              "      <th>3</th>\n",
              "      <td>7220195662</td>\n",
              "      <td>https://hudsonvalley.craigslist.org/cto/d/poug...</td>\n",
              "      <td>hudson valley</td>\n",
              "      <td>https://hudsonvalley.craigslist.org</td>\n",
              "      <td>15995</td>\n",
              "      <td>NaN</td>\n",
              "      <td>NaN</td>\n",
              "      <td>NaN</td>\n",
              "      <td>NaN</td>\n",
              "      <td>NaN</td>\n",
              "      <td>NaN</td>\n",
              "      <td>NaN</td>\n",
              "      <td>NaN</td>\n",
              "      <td>NaN</td>\n",
              "      <td>NaN</td>\n",
              "      <td>NaN</td>\n",
              "      <td>NaN</td>\n",
              "      <td>NaN</td>\n",
              "      <td>NaN</td>\n",
              "      <td>NaN</td>\n",
              "      <td>NaN</td>\n",
              "      <td>ny</td>\n",
              "      <td>NaN</td>\n",
              "      <td>NaN</td>\n",
              "      <td>NaN</td>\n",
              "    </tr>\n",
              "    <tr>\n",
              "      <th>4</th>\n",
              "      <td>7219485069</td>\n",
              "      <td>https://erie.craigslist.org/cto/d/erie-2012-su...</td>\n",
              "      <td>erie</td>\n",
              "      <td>https://erie.craigslist.org</td>\n",
              "      <td>3000</td>\n",
              "      <td>NaN</td>\n",
              "      <td>NaN</td>\n",
              "      <td>NaN</td>\n",
              "      <td>NaN</td>\n",
              "      <td>NaN</td>\n",
              "      <td>NaN</td>\n",
              "      <td>NaN</td>\n",
              "      <td>NaN</td>\n",
              "      <td>NaN</td>\n",
              "      <td>NaN</td>\n",
              "      <td>NaN</td>\n",
              "      <td>NaN</td>\n",
              "      <td>NaN</td>\n",
              "      <td>NaN</td>\n",
              "      <td>NaN</td>\n",
              "      <td>NaN</td>\n",
              "      <td>pa</td>\n",
              "      <td>NaN</td>\n",
              "      <td>NaN</td>\n",
              "      <td>NaN</td>\n",
              "    </tr>\n",
              "    <tr>\n",
              "      <th>5</th>\n",
              "      <td>7218893038</td>\n",
              "      <td>https://elpaso.craigslist.org/ctd/d/el-paso-20...</td>\n",
              "      <td>el paso</td>\n",
              "      <td>https://elpaso.craigslist.org</td>\n",
              "      <td>0</td>\n",
              "      <td>NaN</td>\n",
              "      <td>NaN</td>\n",
              "      <td>NaN</td>\n",
              "      <td>NaN</td>\n",
              "      <td>NaN</td>\n",
              "      <td>NaN</td>\n",
              "      <td>NaN</td>\n",
              "      <td>NaN</td>\n",
              "      <td>NaN</td>\n",
              "      <td>NaN</td>\n",
              "      <td>NaN</td>\n",
              "      <td>NaN</td>\n",
              "      <td>NaN</td>\n",
              "      <td>NaN</td>\n",
              "      <td>NaN</td>\n",
              "      <td>NaN</td>\n",
              "      <td>tx</td>\n",
              "      <td>NaN</td>\n",
              "      <td>NaN</td>\n",
              "      <td>NaN</td>\n",
              "    </tr>\n",
              "    <tr>\n",
              "      <th>6</th>\n",
              "      <td>7217788283</td>\n",
              "      <td>https://elpaso.craigslist.org/ctd/d/el-paso-20...</td>\n",
              "      <td>el paso</td>\n",
              "      <td>https://elpaso.craigslist.org</td>\n",
              "      <td>0</td>\n",
              "      <td>NaN</td>\n",
              "      <td>NaN</td>\n",
              "      <td>NaN</td>\n",
              "      <td>NaN</td>\n",
              "      <td>NaN</td>\n",
              "      <td>NaN</td>\n",
              "      <td>NaN</td>\n",
              "      <td>NaN</td>\n",
              "      <td>NaN</td>\n",
              "      <td>NaN</td>\n",
              "      <td>NaN</td>\n",
              "      <td>NaN</td>\n",
              "      <td>NaN</td>\n",
              "      <td>NaN</td>\n",
              "      <td>NaN</td>\n",
              "      <td>NaN</td>\n",
              "      <td>tx</td>\n",
              "      <td>NaN</td>\n",
              "      <td>NaN</td>\n",
              "      <td>NaN</td>\n",
              "    </tr>\n",
              "    <tr>\n",
              "      <th>7</th>\n",
              "      <td>7217147606</td>\n",
              "      <td>https://elpaso.craigslist.org/ctd/d/el-paso-20...</td>\n",
              "      <td>el paso</td>\n",
              "      <td>https://elpaso.craigslist.org</td>\n",
              "      <td>0</td>\n",
              "      <td>NaN</td>\n",
              "      <td>NaN</td>\n",
              "      <td>NaN</td>\n",
              "      <td>NaN</td>\n",
              "      <td>NaN</td>\n",
              "      <td>NaN</td>\n",
              "      <td>NaN</td>\n",
              "      <td>NaN</td>\n",
              "      <td>NaN</td>\n",
              "      <td>NaN</td>\n",
              "      <td>NaN</td>\n",
              "      <td>NaN</td>\n",
              "      <td>NaN</td>\n",
              "      <td>NaN</td>\n",
              "      <td>NaN</td>\n",
              "      <td>NaN</td>\n",
              "      <td>tx</td>\n",
              "      <td>NaN</td>\n",
              "      <td>NaN</td>\n",
              "      <td>NaN</td>\n",
              "    </tr>\n",
              "    <tr>\n",
              "      <th>8</th>\n",
              "      <td>7222753076</td>\n",
              "      <td>https://bellingham.craigslist.org/ctd/d/bellin...</td>\n",
              "      <td>bellingham</td>\n",
              "      <td>https://bellingham.craigslist.org</td>\n",
              "      <td>24999</td>\n",
              "      <td>NaN</td>\n",
              "      <td>NaN</td>\n",
              "      <td>NaN</td>\n",
              "      <td>NaN</td>\n",
              "      <td>NaN</td>\n",
              "      <td>NaN</td>\n",
              "      <td>NaN</td>\n",
              "      <td>NaN</td>\n",
              "      <td>NaN</td>\n",
              "      <td>NaN</td>\n",
              "      <td>NaN</td>\n",
              "      <td>NaN</td>\n",
              "      <td>NaN</td>\n",
              "      <td>NaN</td>\n",
              "      <td>NaN</td>\n",
              "      <td>NaN</td>\n",
              "      <td>wa</td>\n",
              "      <td>NaN</td>\n",
              "      <td>NaN</td>\n",
              "      <td>NaN</td>\n",
              "    </tr>\n",
              "    <tr>\n",
              "      <th>9</th>\n",
              "      <td>7218423006</td>\n",
              "      <td>https://bellingham.craigslist.org/ctd/d/bellin...</td>\n",
              "      <td>bellingham</td>\n",
              "      <td>https://bellingham.craigslist.org</td>\n",
              "      <td>11999</td>\n",
              "      <td>NaN</td>\n",
              "      <td>NaN</td>\n",
              "      <td>NaN</td>\n",
              "      <td>NaN</td>\n",
              "      <td>NaN</td>\n",
              "      <td>NaN</td>\n",
              "      <td>NaN</td>\n",
              "      <td>NaN</td>\n",
              "      <td>NaN</td>\n",
              "      <td>NaN</td>\n",
              "      <td>NaN</td>\n",
              "      <td>NaN</td>\n",
              "      <td>NaN</td>\n",
              "      <td>NaN</td>\n",
              "      <td>NaN</td>\n",
              "      <td>NaN</td>\n",
              "      <td>wa</td>\n",
              "      <td>NaN</td>\n",
              "      <td>NaN</td>\n",
              "      <td>NaN</td>\n",
              "    </tr>\n",
              "  </tbody>\n",
              "</table>\n",
              "</div>\n",
              "      <button class=\"colab-df-convert\" onclick=\"convertToInteractive('df-fe1d6457-253d-47de-98cd-2ea109654df1')\"\n",
              "              title=\"Convert this dataframe to an interactive table.\"\n",
              "              style=\"display:none;\">\n",
              "        \n",
              "  <svg xmlns=\"http://www.w3.org/2000/svg\" height=\"24px\"viewBox=\"0 0 24 24\"\n",
              "       width=\"24px\">\n",
              "    <path d=\"M0 0h24v24H0V0z\" fill=\"none\"/>\n",
              "    <path d=\"M18.56 5.44l.94 2.06.94-2.06 2.06-.94-2.06-.94-.94-2.06-.94 2.06-2.06.94zm-11 1L8.5 8.5l.94-2.06 2.06-.94-2.06-.94L8.5 2.5l-.94 2.06-2.06.94zm10 10l.94 2.06.94-2.06 2.06-.94-2.06-.94-.94-2.06-.94 2.06-2.06.94z\"/><path d=\"M17.41 7.96l-1.37-1.37c-.4-.4-.92-.59-1.43-.59-.52 0-1.04.2-1.43.59L10.3 9.45l-7.72 7.72c-.78.78-.78 2.05 0 2.83L4 21.41c.39.39.9.59 1.41.59.51 0 1.02-.2 1.41-.59l7.78-7.78 2.81-2.81c.8-.78.8-2.07 0-2.86zM5.41 20L4 18.59l7.72-7.72 1.47 1.35L5.41 20z\"/>\n",
              "  </svg>\n",
              "      </button>\n",
              "      \n",
              "  <style>\n",
              "    .colab-df-container {\n",
              "      display:flex;\n",
              "      flex-wrap:wrap;\n",
              "      gap: 12px;\n",
              "    }\n",
              "\n",
              "    .colab-df-convert {\n",
              "      background-color: #E8F0FE;\n",
              "      border: none;\n",
              "      border-radius: 50%;\n",
              "      cursor: pointer;\n",
              "      display: none;\n",
              "      fill: #1967D2;\n",
              "      height: 32px;\n",
              "      padding: 0 0 0 0;\n",
              "      width: 32px;\n",
              "    }\n",
              "\n",
              "    .colab-df-convert:hover {\n",
              "      background-color: #E2EBFA;\n",
              "      box-shadow: 0px 1px 2px rgba(60, 64, 67, 0.3), 0px 1px 3px 1px rgba(60, 64, 67, 0.15);\n",
              "      fill: #174EA6;\n",
              "    }\n",
              "\n",
              "    [theme=dark] .colab-df-convert {\n",
              "      background-color: #3B4455;\n",
              "      fill: #D2E3FC;\n",
              "    }\n",
              "\n",
              "    [theme=dark] .colab-df-convert:hover {\n",
              "      background-color: #434B5C;\n",
              "      box-shadow: 0px 1px 3px 1px rgba(0, 0, 0, 0.15);\n",
              "      filter: drop-shadow(0px 1px 2px rgba(0, 0, 0, 0.3));\n",
              "      fill: #FFFFFF;\n",
              "    }\n",
              "  </style>\n",
              "\n",
              "      <script>\n",
              "        const buttonEl =\n",
              "          document.querySelector('#df-fe1d6457-253d-47de-98cd-2ea109654df1 button.colab-df-convert');\n",
              "        buttonEl.style.display =\n",
              "          google.colab.kernel.accessAllowed ? 'block' : 'none';\n",
              "\n",
              "        async function convertToInteractive(key) {\n",
              "          const element = document.querySelector('#df-fe1d6457-253d-47de-98cd-2ea109654df1');\n",
              "          const dataTable =\n",
              "            await google.colab.kernel.invokeFunction('convertToInteractive',\n",
              "                                                     [key], {});\n",
              "          if (!dataTable) return;\n",
              "\n",
              "          const docLinkHtml = 'Like what you see? Visit the ' +\n",
              "            '<a target=\"_blank\" href=https://colab.research.google.com/notebooks/data_table.ipynb>data table notebook</a>'\n",
              "            + ' to learn more about interactive tables.';\n",
              "          element.innerHTML = '';\n",
              "          dataTable['output_type'] = 'display_data';\n",
              "          await google.colab.output.renderOutput(dataTable, element);\n",
              "          const docLink = document.createElement('div');\n",
              "          docLink.innerHTML = docLinkHtml;\n",
              "          element.appendChild(docLink);\n",
              "        }\n",
              "      </script>\n",
              "    </div>\n",
              "  </div>\n",
              "  "
            ]
          },
          "metadata": {},
          "execution_count": 17
        }
      ],
      "source": [
        "df.head(10)"
      ]
    },
    {
      "cell_type": "code",
      "execution_count": 18,
      "metadata": {
        "colab": {
          "base_uri": "https://localhost:8080/"
        },
        "id": "90j26hOfJgtp",
        "outputId": "950884a9-b6c9-44cc-dbe9-989531dcbd83"
      },
      "outputs": [
        {
          "output_type": "execute_result",
          "data": {
            "text/plain": [
              "['year',\n",
              " 'manufacturer',\n",
              " 'model',\n",
              " 'condition',\n",
              " 'cylinders',\n",
              " 'fuel',\n",
              " 'odometer',\n",
              " 'title_status',\n",
              " 'transmission',\n",
              " 'VIN',\n",
              " 'drive',\n",
              " 'size',\n",
              " 'type',\n",
              " 'paint_color',\n",
              " 'image_url',\n",
              " 'description',\n",
              " 'lat',\n",
              " 'long',\n",
              " 'posting_date']"
            ]
          },
          "metadata": {},
          "execution_count": 18
        }
      ],
      "source": [
        "[ features for features in df.columns if df[features].isnull().sum() > 0 ]"
      ]
    },
    {
      "cell_type": "code",
      "execution_count": 19,
      "metadata": {
        "colab": {
          "base_uri": "https://localhost:8080/"
        },
        "id": "x6x-NRpRJOwF",
        "outputId": "6bc13d9f-a904-4ccd-e3e1-499a6b62edd1"
      },
      "outputs": [
        {
          "output_type": "stream",
          "name": "stdout",
          "text": [
            "<class 'pandas.core.frame.DataFrame'>\n",
            "RangeIndex: 128009 entries, 0 to 128008\n",
            "Data columns (total 25 columns):\n",
            " #   Column        Non-Null Count   Dtype  \n",
            "---  ------        --------------   -----  \n",
            " 0   id            128009 non-null  int64  \n",
            " 1   url           128009 non-null  object \n",
            " 2   region        128009 non-null  object \n",
            " 3   region_url    128009 non-null  object \n",
            " 4   price         128009 non-null  int64  \n",
            " 5   year          127635 non-null  float64\n",
            " 6   manufacturer  122720 non-null  object \n",
            " 7   model         126444 non-null  object \n",
            " 8   condition     75937 non-null   object \n",
            " 9   cylinders     74745 non-null   object \n",
            " 10  fuel          127127 non-null  object \n",
            " 11  odometer      126702 non-null  float64\n",
            " 12  title_status  125510 non-null  object \n",
            " 13  transmission  127208 non-null  object \n",
            " 14  VIN           79618 non-null   object \n",
            " 15  drive         88775 non-null   object \n",
            " 16  size          36177 non-null   object \n",
            " 17  type          100057 non-null  object \n",
            " 18  paint_color   88978 non-null   object \n",
            " 19  image_url     127983 non-null  object \n",
            " 20  description   127983 non-null  object \n",
            " 21  state         128009 non-null  object \n",
            " 22  lat           126023 non-null  float64\n",
            " 23  long          126023 non-null  float64\n",
            " 24  posting_date  127983 non-null  object \n",
            "dtypes: float64(4), int64(2), object(19)\n",
            "memory usage: 24.4+ MB\n"
          ]
        }
      ],
      "source": [
        "# Dropping  colums which contains null value together\n",
        "df.info()"
      ]
    },
    {
      "cell_type": "code",
      "execution_count": 20,
      "metadata": {
        "id": "tYXtImJCLiob"
      },
      "outputs": [],
      "source": [
        "# Missing & df['size'].isnull()\n",
        "Missing_rows = df.loc[df.year.isnull() & df.manufacturer.isnull() & df.model.isnull() & df.condition.isnull() & df.cylinders.isnull() & df.fuel.isnull() \n",
        "               & df.odometer.isnull() & df.title_status.isnull() & df.transmission.isnull() & df.VIN.isnull() & df.drive.isnull() \n",
        "               & df.type.isnull() & df.paint_color.isnull() & df.image_url.isnull() & df.description.isnull() & df.posting_date.isnull() & df.lat.isnull()\n",
        "               & df.long.isnull() & df.posting_date.isnull()]"
      ]
    },
    {
      "cell_type": "code",
      "execution_count": 21,
      "metadata": {
        "colab": {
          "base_uri": "https://localhost:8080/"
        },
        "id": "GdhjIx45sXJt",
        "outputId": "70de7868-e9a4-4071-e414-084e689a3bc8"
      },
      "outputs": [
        {
          "output_type": "execute_result",
          "data": {
            "text/plain": [
              "26"
            ]
          },
          "metadata": {},
          "execution_count": 21
        }
      ],
      "source": [
        "len(Missing_rows)"
      ]
    },
    {
      "cell_type": "code",
      "execution_count": 22,
      "metadata": {
        "id": "oLcHfCS2oK_P"
      },
      "outputs": [],
      "source": [
        "# 12 such rows where null values are present. Dropping these rows\n",
        "\n",
        "for i in Missing_rows['id']:\n",
        "  df.drop(df[df['id'] == i ].index, inplace=True)"
      ]
    },
    {
      "cell_type": "code",
      "execution_count": 23,
      "metadata": {
        "colab": {
          "base_uri": "https://localhost:8080/"
        },
        "id": "LUdIwRgcoOxJ",
        "outputId": "0f9b03f3-2eef-4ffe-c1b3-45e9751ec363"
      },
      "outputs": [
        {
          "output_type": "execute_result",
          "data": {
            "text/plain": [
              "(127983, 25)"
            ]
          },
          "metadata": {},
          "execution_count": 23
        }
      ],
      "source": [
        "df.shape"
      ]
    },
    {
      "cell_type": "code",
      "execution_count": 24,
      "metadata": {
        "colab": {
          "base_uri": "https://localhost:8080/"
        },
        "id": "k04mCo6_qBQV",
        "outputId": "bbdbda65-42ef-40bc-e91a-e0a373828123"
      },
      "outputs": [
        {
          "output_type": "stream",
          "name": "stdout",
          "text": [
            "<class 'pandas.core.frame.DataFrame'>\n",
            "Int64Index: 127983 entries, 12 to 128008\n",
            "Data columns (total 25 columns):\n",
            " #   Column        Non-Null Count   Dtype  \n",
            "---  ------        --------------   -----  \n",
            " 0   id            127983 non-null  int64  \n",
            " 1   url           127983 non-null  object \n",
            " 2   region        127983 non-null  object \n",
            " 3   region_url    127983 non-null  object \n",
            " 4   price         127983 non-null  int64  \n",
            " 5   year          127635 non-null  float64\n",
            " 6   manufacturer  122720 non-null  object \n",
            " 7   model         126444 non-null  object \n",
            " 8   condition     75937 non-null   object \n",
            " 9   cylinders     74745 non-null   object \n",
            " 10  fuel          127127 non-null  object \n",
            " 11  odometer      126702 non-null  float64\n",
            " 12  title_status  125510 non-null  object \n",
            " 13  transmission  127208 non-null  object \n",
            " 14  VIN           79618 non-null   object \n",
            " 15  drive         88775 non-null   object \n",
            " 16  size          36177 non-null   object \n",
            " 17  type          100057 non-null  object \n",
            " 18  paint_color   88978 non-null   object \n",
            " 19  image_url     127983 non-null  object \n",
            " 20  description   127983 non-null  object \n",
            " 21  state         127983 non-null  object \n",
            " 22  lat           126023 non-null  float64\n",
            " 23  long          126023 non-null  float64\n",
            " 24  posting_date  127983 non-null  object \n",
            "dtypes: float64(4), int64(2), object(19)\n",
            "memory usage: 25.4+ MB\n"
          ]
        }
      ],
      "source": [
        "df.info()"
      ]
    },
    {
      "cell_type": "code",
      "execution_count": 25,
      "metadata": {
        "colab": {
          "base_uri": "https://localhost:8080/",
          "height": 447
        },
        "id": "aw41q_qlqDls",
        "outputId": "2cd228f3-929a-414a-b4a8-79f9c02c7568"
      },
      "outputs": [
        {
          "output_type": "execute_result",
          "data": {
            "text/plain": [
              "            id                                                url  region  \\\n",
              "12  7316814884  https://auburn.craigslist.org/ctd/d/auburn-uni...  auburn   \n",
              "13  7315715960  https://auburn.craigslist.org/ctd/d/auburn-uni...  auburn   \n",
              "14  7315379459  https://auburn.craigslist.org/ctd/d/auburn-uni...  auburn   \n",
              "15  7315275975  https://auburn.craigslist.org/ctd/d/auburn-uni...  auburn   \n",
              "\n",
              "                       region_url  price    year manufacturer  \\\n",
              "12  https://auburn.craigslist.org  33590  2014.0          gmc   \n",
              "13  https://auburn.craigslist.org  27990  2014.0       toyota   \n",
              "14  https://auburn.craigslist.org  37990  2016.0    chevrolet   \n",
              "15  https://auburn.craigslist.org  33590  2014.0       toyota   \n",
              "\n",
              "                        model condition    cylinders   fuel  odometer  \\\n",
              "12   sierra 1500 crew cab slt      good  8 cylinders    gas   57923.0   \n",
              "13   tacoma access cab pickup      good          NaN  other   17805.0   \n",
              "14         camaro ss coupe 2d      good  8 cylinders    gas    9704.0   \n",
              "15  tundra crewmax sr5 pickup      good          NaN  other   55251.0   \n",
              "\n",
              "   title_status transmission                VIN drive size    type  \\\n",
              "12        clean        other  3GTP1VEC4EG551563   NaN  NaN  pickup   \n",
              "13        clean        other  5TFTX4CN3EX042751   NaN  NaN  pickup   \n",
              "14        clean        other  1G1FF1R79G0140582   rwd  NaN   coupe   \n",
              "15        clean        other  5TFEY5F15EX169621   NaN  NaN  pickup   \n",
              "\n",
              "   paint_color                                          image_url  \\\n",
              "12       white  https://images.craigslist.org/00R0R_lwWjXSEWNa...   \n",
              "13         red  https://images.craigslist.org/00X0X_1cMDo5xqSu...   \n",
              "14         red  https://images.craigslist.org/00i0i_5fpVmidrep...   \n",
              "15         red  https://images.craigslist.org/00Q0Q_lVfMOkbtUO...   \n",
              "\n",
              "                                          description state    lat   long  \\\n",
              "12  Carvana is the safer way to buy a car During t...    al  32.59 -85.48   \n",
              "13  Carvana is the safer way to buy a car During t...    al  32.59 -85.48   \n",
              "14  Carvana is the safer way to buy a car During t...    al  32.59 -85.48   \n",
              "15  Carvana is the safer way to buy a car During t...    al  32.59 -85.48   \n",
              "\n",
              "                posting_date  \n",
              "12  2021-05-04T12:31:18-0500  \n",
              "13  2021-05-02T08:44:35-0500  \n",
              "14  2021-05-01T12:21:51-0500  \n",
              "15  2021-05-01T09:21:37-0500  "
            ],
            "text/html": [
              "\n",
              "  <div id=\"df-e7762c0f-f7ae-4afd-a2a1-18a02abdd33b\">\n",
              "    <div class=\"colab-df-container\">\n",
              "      <div>\n",
              "<style scoped>\n",
              "    .dataframe tbody tr th:only-of-type {\n",
              "        vertical-align: middle;\n",
              "    }\n",
              "\n",
              "    .dataframe tbody tr th {\n",
              "        vertical-align: top;\n",
              "    }\n",
              "\n",
              "    .dataframe thead th {\n",
              "        text-align: right;\n",
              "    }\n",
              "</style>\n",
              "<table border=\"1\" class=\"dataframe\">\n",
              "  <thead>\n",
              "    <tr style=\"text-align: right;\">\n",
              "      <th></th>\n",
              "      <th>id</th>\n",
              "      <th>url</th>\n",
              "      <th>region</th>\n",
              "      <th>region_url</th>\n",
              "      <th>price</th>\n",
              "      <th>year</th>\n",
              "      <th>manufacturer</th>\n",
              "      <th>model</th>\n",
              "      <th>condition</th>\n",
              "      <th>cylinders</th>\n",
              "      <th>fuel</th>\n",
              "      <th>odometer</th>\n",
              "      <th>title_status</th>\n",
              "      <th>transmission</th>\n",
              "      <th>VIN</th>\n",
              "      <th>drive</th>\n",
              "      <th>size</th>\n",
              "      <th>type</th>\n",
              "      <th>paint_color</th>\n",
              "      <th>image_url</th>\n",
              "      <th>description</th>\n",
              "      <th>state</th>\n",
              "      <th>lat</th>\n",
              "      <th>long</th>\n",
              "      <th>posting_date</th>\n",
              "    </tr>\n",
              "  </thead>\n",
              "  <tbody>\n",
              "    <tr>\n",
              "      <th>12</th>\n",
              "      <td>7316814884</td>\n",
              "      <td>https://auburn.craigslist.org/ctd/d/auburn-uni...</td>\n",
              "      <td>auburn</td>\n",
              "      <td>https://auburn.craigslist.org</td>\n",
              "      <td>33590</td>\n",
              "      <td>2014.0</td>\n",
              "      <td>gmc</td>\n",
              "      <td>sierra 1500 crew cab slt</td>\n",
              "      <td>good</td>\n",
              "      <td>8 cylinders</td>\n",
              "      <td>gas</td>\n",
              "      <td>57923.0</td>\n",
              "      <td>clean</td>\n",
              "      <td>other</td>\n",
              "      <td>3GTP1VEC4EG551563</td>\n",
              "      <td>NaN</td>\n",
              "      <td>NaN</td>\n",
              "      <td>pickup</td>\n",
              "      <td>white</td>\n",
              "      <td>https://images.craigslist.org/00R0R_lwWjXSEWNa...</td>\n",
              "      <td>Carvana is the safer way to buy a car During t...</td>\n",
              "      <td>al</td>\n",
              "      <td>32.59</td>\n",
              "      <td>-85.48</td>\n",
              "      <td>2021-05-04T12:31:18-0500</td>\n",
              "    </tr>\n",
              "    <tr>\n",
              "      <th>13</th>\n",
              "      <td>7315715960</td>\n",
              "      <td>https://auburn.craigslist.org/ctd/d/auburn-uni...</td>\n",
              "      <td>auburn</td>\n",
              "      <td>https://auburn.craigslist.org</td>\n",
              "      <td>27990</td>\n",
              "      <td>2014.0</td>\n",
              "      <td>toyota</td>\n",
              "      <td>tacoma access cab pickup</td>\n",
              "      <td>good</td>\n",
              "      <td>NaN</td>\n",
              "      <td>other</td>\n",
              "      <td>17805.0</td>\n",
              "      <td>clean</td>\n",
              "      <td>other</td>\n",
              "      <td>5TFTX4CN3EX042751</td>\n",
              "      <td>NaN</td>\n",
              "      <td>NaN</td>\n",
              "      <td>pickup</td>\n",
              "      <td>red</td>\n",
              "      <td>https://images.craigslist.org/00X0X_1cMDo5xqSu...</td>\n",
              "      <td>Carvana is the safer way to buy a car During t...</td>\n",
              "      <td>al</td>\n",
              "      <td>32.59</td>\n",
              "      <td>-85.48</td>\n",
              "      <td>2021-05-02T08:44:35-0500</td>\n",
              "    </tr>\n",
              "    <tr>\n",
              "      <th>14</th>\n",
              "      <td>7315379459</td>\n",
              "      <td>https://auburn.craigslist.org/ctd/d/auburn-uni...</td>\n",
              "      <td>auburn</td>\n",
              "      <td>https://auburn.craigslist.org</td>\n",
              "      <td>37990</td>\n",
              "      <td>2016.0</td>\n",
              "      <td>chevrolet</td>\n",
              "      <td>camaro ss coupe 2d</td>\n",
              "      <td>good</td>\n",
              "      <td>8 cylinders</td>\n",
              "      <td>gas</td>\n",
              "      <td>9704.0</td>\n",
              "      <td>clean</td>\n",
              "      <td>other</td>\n",
              "      <td>1G1FF1R79G0140582</td>\n",
              "      <td>rwd</td>\n",
              "      <td>NaN</td>\n",
              "      <td>coupe</td>\n",
              "      <td>red</td>\n",
              "      <td>https://images.craigslist.org/00i0i_5fpVmidrep...</td>\n",
              "      <td>Carvana is the safer way to buy a car During t...</td>\n",
              "      <td>al</td>\n",
              "      <td>32.59</td>\n",
              "      <td>-85.48</td>\n",
              "      <td>2021-05-01T12:21:51-0500</td>\n",
              "    </tr>\n",
              "    <tr>\n",
              "      <th>15</th>\n",
              "      <td>7315275975</td>\n",
              "      <td>https://auburn.craigslist.org/ctd/d/auburn-uni...</td>\n",
              "      <td>auburn</td>\n",
              "      <td>https://auburn.craigslist.org</td>\n",
              "      <td>33590</td>\n",
              "      <td>2014.0</td>\n",
              "      <td>toyota</td>\n",
              "      <td>tundra crewmax sr5 pickup</td>\n",
              "      <td>good</td>\n",
              "      <td>NaN</td>\n",
              "      <td>other</td>\n",
              "      <td>55251.0</td>\n",
              "      <td>clean</td>\n",
              "      <td>other</td>\n",
              "      <td>5TFEY5F15EX169621</td>\n",
              "      <td>NaN</td>\n",
              "      <td>NaN</td>\n",
              "      <td>pickup</td>\n",
              "      <td>red</td>\n",
              "      <td>https://images.craigslist.org/00Q0Q_lVfMOkbtUO...</td>\n",
              "      <td>Carvana is the safer way to buy a car During t...</td>\n",
              "      <td>al</td>\n",
              "      <td>32.59</td>\n",
              "      <td>-85.48</td>\n",
              "      <td>2021-05-01T09:21:37-0500</td>\n",
              "    </tr>\n",
              "  </tbody>\n",
              "</table>\n",
              "</div>\n",
              "      <button class=\"colab-df-convert\" onclick=\"convertToInteractive('df-e7762c0f-f7ae-4afd-a2a1-18a02abdd33b')\"\n",
              "              title=\"Convert this dataframe to an interactive table.\"\n",
              "              style=\"display:none;\">\n",
              "        \n",
              "  <svg xmlns=\"http://www.w3.org/2000/svg\" height=\"24px\"viewBox=\"0 0 24 24\"\n",
              "       width=\"24px\">\n",
              "    <path d=\"M0 0h24v24H0V0z\" fill=\"none\"/>\n",
              "    <path d=\"M18.56 5.44l.94 2.06.94-2.06 2.06-.94-2.06-.94-.94-2.06-.94 2.06-2.06.94zm-11 1L8.5 8.5l.94-2.06 2.06-.94-2.06-.94L8.5 2.5l-.94 2.06-2.06.94zm10 10l.94 2.06.94-2.06 2.06-.94-2.06-.94-.94-2.06-.94 2.06-2.06.94z\"/><path d=\"M17.41 7.96l-1.37-1.37c-.4-.4-.92-.59-1.43-.59-.52 0-1.04.2-1.43.59L10.3 9.45l-7.72 7.72c-.78.78-.78 2.05 0 2.83L4 21.41c.39.39.9.59 1.41.59.51 0 1.02-.2 1.41-.59l7.78-7.78 2.81-2.81c.8-.78.8-2.07 0-2.86zM5.41 20L4 18.59l7.72-7.72 1.47 1.35L5.41 20z\"/>\n",
              "  </svg>\n",
              "      </button>\n",
              "      \n",
              "  <style>\n",
              "    .colab-df-container {\n",
              "      display:flex;\n",
              "      flex-wrap:wrap;\n",
              "      gap: 12px;\n",
              "    }\n",
              "\n",
              "    .colab-df-convert {\n",
              "      background-color: #E8F0FE;\n",
              "      border: none;\n",
              "      border-radius: 50%;\n",
              "      cursor: pointer;\n",
              "      display: none;\n",
              "      fill: #1967D2;\n",
              "      height: 32px;\n",
              "      padding: 0 0 0 0;\n",
              "      width: 32px;\n",
              "    }\n",
              "\n",
              "    .colab-df-convert:hover {\n",
              "      background-color: #E2EBFA;\n",
              "      box-shadow: 0px 1px 2px rgba(60, 64, 67, 0.3), 0px 1px 3px 1px rgba(60, 64, 67, 0.15);\n",
              "      fill: #174EA6;\n",
              "    }\n",
              "\n",
              "    [theme=dark] .colab-df-convert {\n",
              "      background-color: #3B4455;\n",
              "      fill: #D2E3FC;\n",
              "    }\n",
              "\n",
              "    [theme=dark] .colab-df-convert:hover {\n",
              "      background-color: #434B5C;\n",
              "      box-shadow: 0px 1px 3px 1px rgba(0, 0, 0, 0.15);\n",
              "      filter: drop-shadow(0px 1px 2px rgba(0, 0, 0, 0.3));\n",
              "      fill: #FFFFFF;\n",
              "    }\n",
              "  </style>\n",
              "\n",
              "      <script>\n",
              "        const buttonEl =\n",
              "          document.querySelector('#df-e7762c0f-f7ae-4afd-a2a1-18a02abdd33b button.colab-df-convert');\n",
              "        buttonEl.style.display =\n",
              "          google.colab.kernel.accessAllowed ? 'block' : 'none';\n",
              "\n",
              "        async function convertToInteractive(key) {\n",
              "          const element = document.querySelector('#df-e7762c0f-f7ae-4afd-a2a1-18a02abdd33b');\n",
              "          const dataTable =\n",
              "            await google.colab.kernel.invokeFunction('convertToInteractive',\n",
              "                                                     [key], {});\n",
              "          if (!dataTable) return;\n",
              "\n",
              "          const docLinkHtml = 'Like what you see? Visit the ' +\n",
              "            '<a target=\"_blank\" href=https://colab.research.google.com/notebooks/data_table.ipynb>data table notebook</a>'\n",
              "            + ' to learn more about interactive tables.';\n",
              "          element.innerHTML = '';\n",
              "          dataTable['output_type'] = 'display_data';\n",
              "          await google.colab.output.renderOutput(dataTable, element);\n",
              "          const docLink = document.createElement('div');\n",
              "          docLink.innerHTML = docLinkHtml;\n",
              "          element.appendChild(docLink);\n",
              "        }\n",
              "      </script>\n",
              "    </div>\n",
              "  </div>\n",
              "  "
            ]
          },
          "metadata": {},
          "execution_count": 25
        }
      ],
      "source": [
        "df.head(4)"
      ]
    },
    {
      "cell_type": "markdown",
      "metadata": {
        "id": "ObCcIhvXIQfc"
      },
      "source": [
        "## 2. Explore the Dataset\n",
        "    - Numeric columns : [id , price ,year , odometer , lat , long ]\n",
        "    - Char columns : [url, region, region_url, manufacturer, model,condition, cylinders, fuel, title_status, transmission,VIN, drive, size,\n",
        "                      type, paint_color, image_url,description, state, posting_date ]"
      ]
    },
    {
      "cell_type": "code",
      "execution_count": 26,
      "metadata": {
        "colab": {
          "base_uri": "https://localhost:8080/",
          "height": 300
        },
        "id": "jnmsp876IP14",
        "outputId": "31ef8f68-bde6-408e-b8f6-df8d19bd106d"
      },
      "outputs": [
        {
          "output_type": "execute_result",
          "data": {
            "text/plain": [
              "                 id         price           year      odometer            lat  \\\n",
              "count  1.279830e+05  1.279830e+05  127635.000000  1.267020e+05  126023.000000   \n",
              "mean   7.311491e+09  7.428014e+04    2011.251514  9.752461e+04      38.484848   \n",
              "std    4.380653e+06  1.345474e+07       9.403292  1.983542e+05       5.836677   \n",
              "min    7.301584e+09  0.000000e+00    1900.000000  0.000000e+00     -74.176076   \n",
              "25%    7.308142e+09  5.900000e+03    2008.000000  3.744200e+04      34.617950   \n",
              "50%    7.312599e+09  1.395000e+04    2013.000000  8.531000e+04      39.155200   \n",
              "75%    7.315252e+09  2.600000e+04    2017.000000  1.336945e+05      42.389900   \n",
              "max    7.317098e+09  3.736929e+09    2022.000000  1.000000e+07      64.993698   \n",
              "\n",
              "                long  \n",
              "count  126023.000000  \n",
              "mean      -94.700116  \n",
              "std        18.337693  \n",
              "min      -159.590001  \n",
              "25%      -111.939783  \n",
              "50%       -88.360000  \n",
              "75%       -80.830000  \n",
              "max       173.885502  "
            ],
            "text/html": [
              "\n",
              "  <div id=\"df-04941462-67fc-404d-be1c-edc949753084\">\n",
              "    <div class=\"colab-df-container\">\n",
              "      <div>\n",
              "<style scoped>\n",
              "    .dataframe tbody tr th:only-of-type {\n",
              "        vertical-align: middle;\n",
              "    }\n",
              "\n",
              "    .dataframe tbody tr th {\n",
              "        vertical-align: top;\n",
              "    }\n",
              "\n",
              "    .dataframe thead th {\n",
              "        text-align: right;\n",
              "    }\n",
              "</style>\n",
              "<table border=\"1\" class=\"dataframe\">\n",
              "  <thead>\n",
              "    <tr style=\"text-align: right;\">\n",
              "      <th></th>\n",
              "      <th>id</th>\n",
              "      <th>price</th>\n",
              "      <th>year</th>\n",
              "      <th>odometer</th>\n",
              "      <th>lat</th>\n",
              "      <th>long</th>\n",
              "    </tr>\n",
              "  </thead>\n",
              "  <tbody>\n",
              "    <tr>\n",
              "      <th>count</th>\n",
              "      <td>1.279830e+05</td>\n",
              "      <td>1.279830e+05</td>\n",
              "      <td>127635.000000</td>\n",
              "      <td>1.267020e+05</td>\n",
              "      <td>126023.000000</td>\n",
              "      <td>126023.000000</td>\n",
              "    </tr>\n",
              "    <tr>\n",
              "      <th>mean</th>\n",
              "      <td>7.311491e+09</td>\n",
              "      <td>7.428014e+04</td>\n",
              "      <td>2011.251514</td>\n",
              "      <td>9.752461e+04</td>\n",
              "      <td>38.484848</td>\n",
              "      <td>-94.700116</td>\n",
              "    </tr>\n",
              "    <tr>\n",
              "      <th>std</th>\n",
              "      <td>4.380653e+06</td>\n",
              "      <td>1.345474e+07</td>\n",
              "      <td>9.403292</td>\n",
              "      <td>1.983542e+05</td>\n",
              "      <td>5.836677</td>\n",
              "      <td>18.337693</td>\n",
              "    </tr>\n",
              "    <tr>\n",
              "      <th>min</th>\n",
              "      <td>7.301584e+09</td>\n",
              "      <td>0.000000e+00</td>\n",
              "      <td>1900.000000</td>\n",
              "      <td>0.000000e+00</td>\n",
              "      <td>-74.176076</td>\n",
              "      <td>-159.590001</td>\n",
              "    </tr>\n",
              "    <tr>\n",
              "      <th>25%</th>\n",
              "      <td>7.308142e+09</td>\n",
              "      <td>5.900000e+03</td>\n",
              "      <td>2008.000000</td>\n",
              "      <td>3.744200e+04</td>\n",
              "      <td>34.617950</td>\n",
              "      <td>-111.939783</td>\n",
              "    </tr>\n",
              "    <tr>\n",
              "      <th>50%</th>\n",
              "      <td>7.312599e+09</td>\n",
              "      <td>1.395000e+04</td>\n",
              "      <td>2013.000000</td>\n",
              "      <td>8.531000e+04</td>\n",
              "      <td>39.155200</td>\n",
              "      <td>-88.360000</td>\n",
              "    </tr>\n",
              "    <tr>\n",
              "      <th>75%</th>\n",
              "      <td>7.315252e+09</td>\n",
              "      <td>2.600000e+04</td>\n",
              "      <td>2017.000000</td>\n",
              "      <td>1.336945e+05</td>\n",
              "      <td>42.389900</td>\n",
              "      <td>-80.830000</td>\n",
              "    </tr>\n",
              "    <tr>\n",
              "      <th>max</th>\n",
              "      <td>7.317098e+09</td>\n",
              "      <td>3.736929e+09</td>\n",
              "      <td>2022.000000</td>\n",
              "      <td>1.000000e+07</td>\n",
              "      <td>64.993698</td>\n",
              "      <td>173.885502</td>\n",
              "    </tr>\n",
              "  </tbody>\n",
              "</table>\n",
              "</div>\n",
              "      <button class=\"colab-df-convert\" onclick=\"convertToInteractive('df-04941462-67fc-404d-be1c-edc949753084')\"\n",
              "              title=\"Convert this dataframe to an interactive table.\"\n",
              "              style=\"display:none;\">\n",
              "        \n",
              "  <svg xmlns=\"http://www.w3.org/2000/svg\" height=\"24px\"viewBox=\"0 0 24 24\"\n",
              "       width=\"24px\">\n",
              "    <path d=\"M0 0h24v24H0V0z\" fill=\"none\"/>\n",
              "    <path d=\"M18.56 5.44l.94 2.06.94-2.06 2.06-.94-2.06-.94-.94-2.06-.94 2.06-2.06.94zm-11 1L8.5 8.5l.94-2.06 2.06-.94-2.06-.94L8.5 2.5l-.94 2.06-2.06.94zm10 10l.94 2.06.94-2.06 2.06-.94-2.06-.94-.94-2.06-.94 2.06-2.06.94z\"/><path d=\"M17.41 7.96l-1.37-1.37c-.4-.4-.92-.59-1.43-.59-.52 0-1.04.2-1.43.59L10.3 9.45l-7.72 7.72c-.78.78-.78 2.05 0 2.83L4 21.41c.39.39.9.59 1.41.59.51 0 1.02-.2 1.41-.59l7.78-7.78 2.81-2.81c.8-.78.8-2.07 0-2.86zM5.41 20L4 18.59l7.72-7.72 1.47 1.35L5.41 20z\"/>\n",
              "  </svg>\n",
              "      </button>\n",
              "      \n",
              "  <style>\n",
              "    .colab-df-container {\n",
              "      display:flex;\n",
              "      flex-wrap:wrap;\n",
              "      gap: 12px;\n",
              "    }\n",
              "\n",
              "    .colab-df-convert {\n",
              "      background-color: #E8F0FE;\n",
              "      border: none;\n",
              "      border-radius: 50%;\n",
              "      cursor: pointer;\n",
              "      display: none;\n",
              "      fill: #1967D2;\n",
              "      height: 32px;\n",
              "      padding: 0 0 0 0;\n",
              "      width: 32px;\n",
              "    }\n",
              "\n",
              "    .colab-df-convert:hover {\n",
              "      background-color: #E2EBFA;\n",
              "      box-shadow: 0px 1px 2px rgba(60, 64, 67, 0.3), 0px 1px 3px 1px rgba(60, 64, 67, 0.15);\n",
              "      fill: #174EA6;\n",
              "    }\n",
              "\n",
              "    [theme=dark] .colab-df-convert {\n",
              "      background-color: #3B4455;\n",
              "      fill: #D2E3FC;\n",
              "    }\n",
              "\n",
              "    [theme=dark] .colab-df-convert:hover {\n",
              "      background-color: #434B5C;\n",
              "      box-shadow: 0px 1px 3px 1px rgba(0, 0, 0, 0.15);\n",
              "      filter: drop-shadow(0px 1px 2px rgba(0, 0, 0, 0.3));\n",
              "      fill: #FFFFFF;\n",
              "    }\n",
              "  </style>\n",
              "\n",
              "      <script>\n",
              "        const buttonEl =\n",
              "          document.querySelector('#df-04941462-67fc-404d-be1c-edc949753084 button.colab-df-convert');\n",
              "        buttonEl.style.display =\n",
              "          google.colab.kernel.accessAllowed ? 'block' : 'none';\n",
              "\n",
              "        async function convertToInteractive(key) {\n",
              "          const element = document.querySelector('#df-04941462-67fc-404d-be1c-edc949753084');\n",
              "          const dataTable =\n",
              "            await google.colab.kernel.invokeFunction('convertToInteractive',\n",
              "                                                     [key], {});\n",
              "          if (!dataTable) return;\n",
              "\n",
              "          const docLinkHtml = 'Like what you see? Visit the ' +\n",
              "            '<a target=\"_blank\" href=https://colab.research.google.com/notebooks/data_table.ipynb>data table notebook</a>'\n",
              "            + ' to learn more about interactive tables.';\n",
              "          element.innerHTML = '';\n",
              "          dataTable['output_type'] = 'display_data';\n",
              "          await google.colab.output.renderOutput(dataTable, element);\n",
              "          const docLink = document.createElement('div');\n",
              "          docLink.innerHTML = docLinkHtml;\n",
              "          element.appendChild(docLink);\n",
              "        }\n",
              "      </script>\n",
              "    </div>\n",
              "  </div>\n",
              "  "
            ]
          },
          "metadata": {},
          "execution_count": 26
        }
      ],
      "source": [
        "df.describe()"
      ]
    },
    {
      "cell_type": "markdown",
      "metadata": {
        "id": "VqS-wpesKaTf"
      },
      "source": [
        "**Observations:**\n",
        "   - Year  : The lowest model of car 1900 and highest 2022\n",
        "   - odometer : min 0 , avg 98043 and max 10000000\n",
        "   - price : min 0 and max 3736928711\n"
      ]
    },
    {
      "cell_type": "code",
      "execution_count": 27,
      "metadata": {
        "colab": {
          "base_uri": "https://localhost:8080/"
        },
        "id": "qdZv07B-IW4R",
        "outputId": "63476ce5-c261-470a-f253-d44f5761f62c"
      },
      "outputs": [
        {
          "output_type": "execute_result",
          "data": {
            "text/plain": [
              "Index(['id', 'url', 'region', 'region_url', 'price', 'year', 'manufacturer',\n",
              "       'model', 'condition', 'cylinders', 'fuel', 'odometer', 'title_status',\n",
              "       'transmission', 'VIN', 'drive', 'size', 'type', 'paint_color',\n",
              "       'image_url', 'description', 'state', 'lat', 'long', 'posting_date'],\n",
              "      dtype='object')"
            ]
          },
          "metadata": {},
          "execution_count": 27
        }
      ],
      "source": [
        "df.columns"
      ]
    },
    {
      "cell_type": "code",
      "execution_count": 28,
      "metadata": {
        "colab": {
          "base_uri": "https://localhost:8080/",
          "height": 280
        },
        "id": "66goc6MHJbHd",
        "outputId": "e17df8da-9d7c-48bc-e70c-dba99e54e09b"
      },
      "outputs": [
        {
          "output_type": "execute_result",
          "data": {
            "text/plain": [
              "            id                                                url  region  \\\n",
              "12  7316814884  https://auburn.craigslist.org/ctd/d/auburn-uni...  auburn   \n",
              "13  7315715960  https://auburn.craigslist.org/ctd/d/auburn-uni...  auburn   \n",
              "\n",
              "                       region_url  price    year manufacturer  \\\n",
              "12  https://auburn.craigslist.org  33590  2014.0          gmc   \n",
              "13  https://auburn.craigslist.org  27990  2014.0       toyota   \n",
              "\n",
              "                       model condition    cylinders   fuel  odometer  \\\n",
              "12  sierra 1500 crew cab slt      good  8 cylinders    gas   57923.0   \n",
              "13  tacoma access cab pickup      good          NaN  other   17805.0   \n",
              "\n",
              "   title_status transmission                VIN drive size    type  \\\n",
              "12        clean        other  3GTP1VEC4EG551563   NaN  NaN  pickup   \n",
              "13        clean        other  5TFTX4CN3EX042751   NaN  NaN  pickup   \n",
              "\n",
              "   paint_color                                          image_url  \\\n",
              "12       white  https://images.craigslist.org/00R0R_lwWjXSEWNa...   \n",
              "13         red  https://images.craigslist.org/00X0X_1cMDo5xqSu...   \n",
              "\n",
              "                                          description state    lat   long  \\\n",
              "12  Carvana is the safer way to buy a car During t...    al  32.59 -85.48   \n",
              "13  Carvana is the safer way to buy a car During t...    al  32.59 -85.48   \n",
              "\n",
              "                posting_date  \n",
              "12  2021-05-04T12:31:18-0500  \n",
              "13  2021-05-02T08:44:35-0500  "
            ],
            "text/html": [
              "\n",
              "  <div id=\"df-110adc39-a43b-4780-9b8b-b5989592f30c\">\n",
              "    <div class=\"colab-df-container\">\n",
              "      <div>\n",
              "<style scoped>\n",
              "    .dataframe tbody tr th:only-of-type {\n",
              "        vertical-align: middle;\n",
              "    }\n",
              "\n",
              "    .dataframe tbody tr th {\n",
              "        vertical-align: top;\n",
              "    }\n",
              "\n",
              "    .dataframe thead th {\n",
              "        text-align: right;\n",
              "    }\n",
              "</style>\n",
              "<table border=\"1\" class=\"dataframe\">\n",
              "  <thead>\n",
              "    <tr style=\"text-align: right;\">\n",
              "      <th></th>\n",
              "      <th>id</th>\n",
              "      <th>url</th>\n",
              "      <th>region</th>\n",
              "      <th>region_url</th>\n",
              "      <th>price</th>\n",
              "      <th>year</th>\n",
              "      <th>manufacturer</th>\n",
              "      <th>model</th>\n",
              "      <th>condition</th>\n",
              "      <th>cylinders</th>\n",
              "      <th>fuel</th>\n",
              "      <th>odometer</th>\n",
              "      <th>title_status</th>\n",
              "      <th>transmission</th>\n",
              "      <th>VIN</th>\n",
              "      <th>drive</th>\n",
              "      <th>size</th>\n",
              "      <th>type</th>\n",
              "      <th>paint_color</th>\n",
              "      <th>image_url</th>\n",
              "      <th>description</th>\n",
              "      <th>state</th>\n",
              "      <th>lat</th>\n",
              "      <th>long</th>\n",
              "      <th>posting_date</th>\n",
              "    </tr>\n",
              "  </thead>\n",
              "  <tbody>\n",
              "    <tr>\n",
              "      <th>12</th>\n",
              "      <td>7316814884</td>\n",
              "      <td>https://auburn.craigslist.org/ctd/d/auburn-uni...</td>\n",
              "      <td>auburn</td>\n",
              "      <td>https://auburn.craigslist.org</td>\n",
              "      <td>33590</td>\n",
              "      <td>2014.0</td>\n",
              "      <td>gmc</td>\n",
              "      <td>sierra 1500 crew cab slt</td>\n",
              "      <td>good</td>\n",
              "      <td>8 cylinders</td>\n",
              "      <td>gas</td>\n",
              "      <td>57923.0</td>\n",
              "      <td>clean</td>\n",
              "      <td>other</td>\n",
              "      <td>3GTP1VEC4EG551563</td>\n",
              "      <td>NaN</td>\n",
              "      <td>NaN</td>\n",
              "      <td>pickup</td>\n",
              "      <td>white</td>\n",
              "      <td>https://images.craigslist.org/00R0R_lwWjXSEWNa...</td>\n",
              "      <td>Carvana is the safer way to buy a car During t...</td>\n",
              "      <td>al</td>\n",
              "      <td>32.59</td>\n",
              "      <td>-85.48</td>\n",
              "      <td>2021-05-04T12:31:18-0500</td>\n",
              "    </tr>\n",
              "    <tr>\n",
              "      <th>13</th>\n",
              "      <td>7315715960</td>\n",
              "      <td>https://auburn.craigslist.org/ctd/d/auburn-uni...</td>\n",
              "      <td>auburn</td>\n",
              "      <td>https://auburn.craigslist.org</td>\n",
              "      <td>27990</td>\n",
              "      <td>2014.0</td>\n",
              "      <td>toyota</td>\n",
              "      <td>tacoma access cab pickup</td>\n",
              "      <td>good</td>\n",
              "      <td>NaN</td>\n",
              "      <td>other</td>\n",
              "      <td>17805.0</td>\n",
              "      <td>clean</td>\n",
              "      <td>other</td>\n",
              "      <td>5TFTX4CN3EX042751</td>\n",
              "      <td>NaN</td>\n",
              "      <td>NaN</td>\n",
              "      <td>pickup</td>\n",
              "      <td>red</td>\n",
              "      <td>https://images.craigslist.org/00X0X_1cMDo5xqSu...</td>\n",
              "      <td>Carvana is the safer way to buy a car During t...</td>\n",
              "      <td>al</td>\n",
              "      <td>32.59</td>\n",
              "      <td>-85.48</td>\n",
              "      <td>2021-05-02T08:44:35-0500</td>\n",
              "    </tr>\n",
              "  </tbody>\n",
              "</table>\n",
              "</div>\n",
              "      <button class=\"colab-df-convert\" onclick=\"convertToInteractive('df-110adc39-a43b-4780-9b8b-b5989592f30c')\"\n",
              "              title=\"Convert this dataframe to an interactive table.\"\n",
              "              style=\"display:none;\">\n",
              "        \n",
              "  <svg xmlns=\"http://www.w3.org/2000/svg\" height=\"24px\"viewBox=\"0 0 24 24\"\n",
              "       width=\"24px\">\n",
              "    <path d=\"M0 0h24v24H0V0z\" fill=\"none\"/>\n",
              "    <path d=\"M18.56 5.44l.94 2.06.94-2.06 2.06-.94-2.06-.94-.94-2.06-.94 2.06-2.06.94zm-11 1L8.5 8.5l.94-2.06 2.06-.94-2.06-.94L8.5 2.5l-.94 2.06-2.06.94zm10 10l.94 2.06.94-2.06 2.06-.94-2.06-.94-.94-2.06-.94 2.06-2.06.94z\"/><path d=\"M17.41 7.96l-1.37-1.37c-.4-.4-.92-.59-1.43-.59-.52 0-1.04.2-1.43.59L10.3 9.45l-7.72 7.72c-.78.78-.78 2.05 0 2.83L4 21.41c.39.39.9.59 1.41.59.51 0 1.02-.2 1.41-.59l7.78-7.78 2.81-2.81c.8-.78.8-2.07 0-2.86zM5.41 20L4 18.59l7.72-7.72 1.47 1.35L5.41 20z\"/>\n",
              "  </svg>\n",
              "      </button>\n",
              "      \n",
              "  <style>\n",
              "    .colab-df-container {\n",
              "      display:flex;\n",
              "      flex-wrap:wrap;\n",
              "      gap: 12px;\n",
              "    }\n",
              "\n",
              "    .colab-df-convert {\n",
              "      background-color: #E8F0FE;\n",
              "      border: none;\n",
              "      border-radius: 50%;\n",
              "      cursor: pointer;\n",
              "      display: none;\n",
              "      fill: #1967D2;\n",
              "      height: 32px;\n",
              "      padding: 0 0 0 0;\n",
              "      width: 32px;\n",
              "    }\n",
              "\n",
              "    .colab-df-convert:hover {\n",
              "      background-color: #E2EBFA;\n",
              "      box-shadow: 0px 1px 2px rgba(60, 64, 67, 0.3), 0px 1px 3px 1px rgba(60, 64, 67, 0.15);\n",
              "      fill: #174EA6;\n",
              "    }\n",
              "\n",
              "    [theme=dark] .colab-df-convert {\n",
              "      background-color: #3B4455;\n",
              "      fill: #D2E3FC;\n",
              "    }\n",
              "\n",
              "    [theme=dark] .colab-df-convert:hover {\n",
              "      background-color: #434B5C;\n",
              "      box-shadow: 0px 1px 3px 1px rgba(0, 0, 0, 0.15);\n",
              "      filter: drop-shadow(0px 1px 2px rgba(0, 0, 0, 0.3));\n",
              "      fill: #FFFFFF;\n",
              "    }\n",
              "  </style>\n",
              "\n",
              "      <script>\n",
              "        const buttonEl =\n",
              "          document.querySelector('#df-110adc39-a43b-4780-9b8b-b5989592f30c button.colab-df-convert');\n",
              "        buttonEl.style.display =\n",
              "          google.colab.kernel.accessAllowed ? 'block' : 'none';\n",
              "\n",
              "        async function convertToInteractive(key) {\n",
              "          const element = document.querySelector('#df-110adc39-a43b-4780-9b8b-b5989592f30c');\n",
              "          const dataTable =\n",
              "            await google.colab.kernel.invokeFunction('convertToInteractive',\n",
              "                                                     [key], {});\n",
              "          if (!dataTable) return;\n",
              "\n",
              "          const docLinkHtml = 'Like what you see? Visit the ' +\n",
              "            '<a target=\"_blank\" href=https://colab.research.google.com/notebooks/data_table.ipynb>data table notebook</a>'\n",
              "            + ' to learn more about interactive tables.';\n",
              "          element.innerHTML = '';\n",
              "          dataTable['output_type'] = 'display_data';\n",
              "          await google.colab.output.renderOutput(dataTable, element);\n",
              "          const docLink = document.createElement('div');\n",
              "          docLink.innerHTML = docLinkHtml;\n",
              "          element.appendChild(docLink);\n",
              "        }\n",
              "      </script>\n",
              "    </div>\n",
              "  </div>\n",
              "  "
            ]
          },
          "metadata": {},
          "execution_count": 28
        }
      ],
      "source": [
        "df.head(2)"
      ]
    },
    {
      "cell_type": "code",
      "execution_count": 29,
      "metadata": {
        "colab": {
          "base_uri": "https://localhost:8080/",
          "height": 378
        },
        "id": "qKbZNp_gJ7DE",
        "outputId": "110efc5b-aaee-4f4a-b0d2-469a192c6b60"
      },
      "outputs": [
        {
          "output_type": "display_data",
          "data": {
            "text/plain": [
              "<Figure size 864x432 with 2 Axes>"
            ],
            "image/png": "[encoded data removed]"
          },
          "metadata": {
            "needs_background": "light"
          }
        }
      ],
      "source": [
        "# correlation\n",
        "corrMatrix = df.corr()\n",
        "\n",
        "plt.figure(figsize=(12,6))\n",
        "sns.heatmap(corrMatrix, annot=True)\n",
        "plt.show()"
      ]
    },
    {
      "cell_type": "code",
      "execution_count": 30,
      "metadata": {
        "colab": {
          "base_uri": "https://localhost:8080/"
        },
        "id": "AeNMafj6MJZk",
        "outputId": "3c2b70b2-9353-43ff-c54b-1e1938344260"
      },
      "outputs": [
        {
          "output_type": "execute_result",
          "data": {
            "text/plain": [
              "(127983, 25)"
            ]
          },
          "metadata": {},
          "execution_count": 30
        }
      ],
      "source": [
        "# dropping the duplicate data\n",
        "df.drop_duplicates(inplace = True)\n",
        "df.shape"
      ]
    },
    {
      "cell_type": "code",
      "execution_count": 31,
      "metadata": {
        "colab": {
          "base_uri": "https://localhost:8080/"
        },
        "id": "UaZ1NCNGmsdr",
        "outputId": "78e5dced-4f99-4447-9af0-49749c128ffa"
      },
      "outputs": [
        {
          "output_type": "stream",
          "name": "stdout",
          "text": [
            "<class 'pandas.core.frame.DataFrame'>\n",
            "Int64Index: 127983 entries, 12 to 128008\n",
            "Data columns (total 25 columns):\n",
            " #   Column        Non-Null Count   Dtype  \n",
            "---  ------        --------------   -----  \n",
            " 0   id            127983 non-null  int64  \n",
            " 1   url           127983 non-null  object \n",
            " 2   region        127983 non-null  object \n",
            " 3   region_url    127983 non-null  object \n",
            " 4   price         127983 non-null  int64  \n",
            " 5   year          127635 non-null  float64\n",
            " 6   manufacturer  122720 non-null  object \n",
            " 7   model         126444 non-null  object \n",
            " 8   condition     75937 non-null   object \n",
            " 9   cylinders     74745 non-null   object \n",
            " 10  fuel          127127 non-null  object \n",
            " 11  odometer      126702 non-null  float64\n",
            " 12  title_status  125510 non-null  object \n",
            " 13  transmission  127208 non-null  object \n",
            " 14  VIN           79618 non-null   object \n",
            " 15  drive         88775 non-null   object \n",
            " 16  size          36177 non-null   object \n",
            " 17  type          100057 non-null  object \n",
            " 18  paint_color   88978 non-null   object \n",
            " 19  image_url     127983 non-null  object \n",
            " 20  description   127983 non-null  object \n",
            " 21  state         127983 non-null  object \n",
            " 22  lat           126023 non-null  float64\n",
            " 23  long          126023 non-null  float64\n",
            " 24  posting_date  127983 non-null  object \n",
            "dtypes: float64(4), int64(2), object(19)\n",
            "memory usage: 25.4+ MB\n"
          ]
        }
      ],
      "source": [
        "df.info()"
      ]
    },
    {
      "cell_type": "code",
      "execution_count": 32,
      "metadata": {
        "id": "wCOxhBn-mtne"
      },
      "outputs": [],
      "source": [
        " # Data cleaning: First step for data cleaning was to remove unnecessary features.\n",
        " df = df.drop(['id','region','url','region_url','region_url','VIN','image_url','description','state', 'lat', 'long','posting_date'],axis=1)"
      ]
    },
    {
      "cell_type": "code",
      "execution_count": 33,
      "metadata": {
        "colab": {
          "base_uri": "https://localhost:8080/",
          "height": 206
        },
        "id": "k7Dm-o1ioNjU",
        "outputId": "59f1e203-882c-478a-bb55-f31e3e14ef00"
      },
      "outputs": [
        {
          "output_type": "execute_result",
          "data": {
            "text/plain": [
              "    price    year manufacturer                       model condition  \\\n",
              "12  33590  2014.0          gmc    sierra 1500 crew cab slt      good   \n",
              "13  27990  2014.0       toyota    tacoma access cab pickup      good   \n",
              "14  37990  2016.0    chevrolet          camaro ss coupe 2d      good   \n",
              "15  33590  2014.0       toyota   tundra crewmax sr5 pickup      good   \n",
              "16  30990  2019.0         ford  ranger supercrew xl pickup      good   \n",
              "\n",
              "      cylinders   fuel  odometer title_status transmission drive size    type  \\\n",
              "12  8 cylinders    gas   57923.0        clean        other   NaN  NaN  pickup   \n",
              "13          NaN  other   17805.0        clean        other   NaN  NaN  pickup   \n",
              "14  8 cylinders    gas    9704.0        clean        other   rwd  NaN   coupe   \n",
              "15          NaN  other   55251.0        clean        other   NaN  NaN  pickup   \n",
              "16          NaN  other    1834.0        clean        other   NaN  NaN  pickup   \n",
              "\n",
              "   paint_color  \n",
              "12       white  \n",
              "13         red  \n",
              "14         red  \n",
              "15         red  \n",
              "16       black  "
            ],
            "text/html": [
              "\n",
              "  <div id=\"df-dfdb8b20-ddf0-4fe8-8d08-6aee94a7b334\">\n",
              "    <div class=\"colab-df-container\">\n",
              "      <div>\n",
              "<style scoped>\n",
              "    .dataframe tbody tr th:only-of-type {\n",
              "        vertical-align: middle;\n",
              "    }\n",
              "\n",
              "    .dataframe tbody tr th {\n",
              "        vertical-align: top;\n",
              "    }\n",
              "\n",
              "    .dataframe thead th {\n",
              "        text-align: right;\n",
              "    }\n",
              "</style>\n",
              "<table border=\"1\" class=\"dataframe\">\n",
              "  <thead>\n",
              "    <tr style=\"text-align: right;\">\n",
              "      <th></th>\n",
              "      <th>price</th>\n",
              "      <th>year</th>\n",
              "      <th>manufacturer</th>\n",
              "      <th>model</th>\n",
              "      <th>condition</th>\n",
              "      <th>cylinders</th>\n",
              "      <th>fuel</th>\n",
              "      <th>odometer</th>\n",
              "      <th>title_status</th>\n",
              "      <th>transmission</th>\n",
              "      <th>drive</th>\n",
              "      <th>size</th>\n",
              "      <th>type</th>\n",
              "      <th>paint_color</th>\n",
              "    </tr>\n",
              "  </thead>\n",
              "  <tbody>\n",
              "    <tr>\n",
              "      <th>12</th>\n",
              "      <td>33590</td>\n",
              "      <td>2014.0</td>\n",
              "      <td>gmc</td>\n",
              "      <td>sierra 1500 crew cab slt</td>\n",
              "      <td>good</td>\n",
              "      <td>8 cylinders</td>\n",
              "      <td>gas</td>\n",
              "      <td>57923.0</td>\n",
              "      <td>clean</td>\n",
              "      <td>other</td>\n",
              "      <td>NaN</td>\n",
              "      <td>NaN</td>\n",
              "      <td>pickup</td>\n",
              "      <td>white</td>\n",
              "    </tr>\n",
              "    <tr>\n",
              "      <th>13</th>\n",
              "      <td>27990</td>\n",
              "      <td>2014.0</td>\n",
              "      <td>toyota</td>\n",
              "      <td>tacoma access cab pickup</td>\n",
              "      <td>good</td>\n",
              "      <td>NaN</td>\n",
              "      <td>other</td>\n",
              "      <td>17805.0</td>\n",
              "      <td>clean</td>\n",
              "      <td>other</td>\n",
              "      <td>NaN</td>\n",
              "      <td>NaN</td>\n",
              "      <td>pickup</td>\n",
              "      <td>red</td>\n",
              "    </tr>\n",
              "    <tr>\n",
              "      <th>14</th>\n",
              "      <td>37990</td>\n",
              "      <td>2016.0</td>\n",
              "      <td>chevrolet</td>\n",
              "      <td>camaro ss coupe 2d</td>\n",
              "      <td>good</td>\n",
              "      <td>8 cylinders</td>\n",
              "      <td>gas</td>\n",
              "      <td>9704.0</td>\n",
              "      <td>clean</td>\n",
              "      <td>other</td>\n",
              "      <td>rwd</td>\n",
              "      <td>NaN</td>\n",
              "      <td>coupe</td>\n",
              "      <td>red</td>\n",
              "    </tr>\n",
              "    <tr>\n",
              "      <th>15</th>\n",
              "      <td>33590</td>\n",
              "      <td>2014.0</td>\n",
              "      <td>toyota</td>\n",
              "      <td>tundra crewmax sr5 pickup</td>\n",
              "      <td>good</td>\n",
              "      <td>NaN</td>\n",
              "      <td>other</td>\n",
              "      <td>55251.0</td>\n",
              "      <td>clean</td>\n",
              "      <td>other</td>\n",
              "      <td>NaN</td>\n",
              "      <td>NaN</td>\n",
              "      <td>pickup</td>\n",
              "      <td>red</td>\n",
              "    </tr>\n",
              "    <tr>\n",
              "      <th>16</th>\n",
              "      <td>30990</td>\n",
              "      <td>2019.0</td>\n",
              "      <td>ford</td>\n",
              "      <td>ranger supercrew xl pickup</td>\n",
              "      <td>good</td>\n",
              "      <td>NaN</td>\n",
              "      <td>other</td>\n",
              "      <td>1834.0</td>\n",
              "      <td>clean</td>\n",
              "      <td>other</td>\n",
              "      <td>NaN</td>\n",
              "      <td>NaN</td>\n",
              "      <td>pickup</td>\n",
              "      <td>black</td>\n",
              "    </tr>\n",
              "  </tbody>\n",
              "</table>\n",
              "</div>\n",
              "      <button class=\"colab-df-convert\" onclick=\"convertToInteractive('df-dfdb8b20-ddf0-4fe8-8d08-6aee94a7b334')\"\n",
              "              title=\"Convert this dataframe to an interactive table.\"\n",
              "              style=\"display:none;\">\n",
              "        \n",
              "  <svg xmlns=\"http://www.w3.org/2000/svg\" height=\"24px\"viewBox=\"0 0 24 24\"\n",
              "       width=\"24px\">\n",
              "    <path d=\"M0 0h24v24H0V0z\" fill=\"none\"/>\n",
              "    <path d=\"M18.56 5.44l.94 2.06.94-2.06 2.06-.94-2.06-.94-.94-2.06-.94 2.06-2.06.94zm-11 1L8.5 8.5l.94-2.06 2.06-.94-2.06-.94L8.5 2.5l-.94 2.06-2.06.94zm10 10l.94 2.06.94-2.06 2.06-.94-2.06-.94-.94-2.06-.94 2.06-2.06.94z\"/><path d=\"M17.41 7.96l-1.37-1.37c-.4-.4-.92-.59-1.43-.59-.52 0-1.04.2-1.43.59L10.3 9.45l-7.72 7.72c-.78.78-.78 2.05 0 2.83L4 21.41c.39.39.9.59 1.41.59.51 0 1.02-.2 1.41-.59l7.78-7.78 2.81-2.81c.8-.78.8-2.07 0-2.86zM5.41 20L4 18.59l7.72-7.72 1.47 1.35L5.41 20z\"/>\n",
              "  </svg>\n",
              "      </button>\n",
              "      \n",
              "  <style>\n",
              "    .colab-df-container {\n",
              "      display:flex;\n",
              "      flex-wrap:wrap;\n",
              "      gap: 12px;\n",
              "    }\n",
              "\n",
              "    .colab-df-convert {\n",
              "      background-color: #E8F0FE;\n",
              "      border: none;\n",
              "      border-radius: 50%;\n",
              "      cursor: pointer;\n",
              "      display: none;\n",
              "      fill: #1967D2;\n",
              "      height: 32px;\n",
              "      padding: 0 0 0 0;\n",
              "      width: 32px;\n",
              "    }\n",
              "\n",
              "    .colab-df-convert:hover {\n",
              "      background-color: #E2EBFA;\n",
              "      box-shadow: 0px 1px 2px rgba(60, 64, 67, 0.3), 0px 1px 3px 1px rgba(60, 64, 67, 0.15);\n",
              "      fill: #174EA6;\n",
              "    }\n",
              "\n",
              "    [theme=dark] .colab-df-convert {\n",
              "      background-color: #3B4455;\n",
              "      fill: #D2E3FC;\n",
              "    }\n",
              "\n",
              "    [theme=dark] .colab-df-convert:hover {\n",
              "      background-color: #434B5C;\n",
              "      box-shadow: 0px 1px 3px 1px rgba(0, 0, 0, 0.15);\n",
              "      filter: drop-shadow(0px 1px 2px rgba(0, 0, 0, 0.3));\n",
              "      fill: #FFFFFF;\n",
              "    }\n",
              "  </style>\n",
              "\n",
              "      <script>\n",
              "        const buttonEl =\n",
              "          document.querySelector('#df-dfdb8b20-ddf0-4fe8-8d08-6aee94a7b334 button.colab-df-convert');\n",
              "        buttonEl.style.display =\n",
              "          google.colab.kernel.accessAllowed ? 'block' : 'none';\n",
              "\n",
              "        async function convertToInteractive(key) {\n",
              "          const element = document.querySelector('#df-dfdb8b20-ddf0-4fe8-8d08-6aee94a7b334');\n",
              "          const dataTable =\n",
              "            await google.colab.kernel.invokeFunction('convertToInteractive',\n",
              "                                                     [key], {});\n",
              "          if (!dataTable) return;\n",
              "\n",
              "          const docLinkHtml = 'Like what you see? Visit the ' +\n",
              "            '<a target=\"_blank\" href=https://colab.research.google.com/notebooks/data_table.ipynb>data table notebook</a>'\n",
              "            + ' to learn more about interactive tables.';\n",
              "          element.innerHTML = '';\n",
              "          dataTable['output_type'] = 'display_data';\n",
              "          await google.colab.output.renderOutput(dataTable, element);\n",
              "          const docLink = document.createElement('div');\n",
              "          docLink.innerHTML = docLinkHtml;\n",
              "          element.appendChild(docLink);\n",
              "        }\n",
              "      </script>\n",
              "    </div>\n",
              "  </div>\n",
              "  "
            ]
          },
          "metadata": {},
          "execution_count": 33
        }
      ],
      "source": [
        "df.head()"
      ]
    },
    {
      "cell_type": "code",
      "execution_count": 34,
      "metadata": {
        "colab": {
          "base_uri": "https://localhost:8080/"
        },
        "id": "rFGCFBIRpMTX",
        "outputId": "ec1f4633-344f-4fef-c152-56dd8fc8fe95"
      },
      "outputs": [
        {
          "output_type": "stream",
          "name": "stdout",
          "text": [
            "<class 'pandas.core.frame.DataFrame'>\n",
            "Int64Index: 127983 entries, 12 to 128008\n",
            "Data columns (total 14 columns):\n",
            " #   Column        Non-Null Count   Dtype  \n",
            "---  ------        --------------   -----  \n",
            " 0   price         127983 non-null  int64  \n",
            " 1   year          127635 non-null  float64\n",
            " 2   manufacturer  122720 non-null  object \n",
            " 3   model         126444 non-null  object \n",
            " 4   condition     75937 non-null   object \n",
            " 5   cylinders     74745 non-null   object \n",
            " 6   fuel          127127 non-null  object \n",
            " 7   odometer      126702 non-null  float64\n",
            " 8   title_status  125510 non-null  object \n",
            " 9   transmission  127208 non-null  object \n",
            " 10  drive         88775 non-null   object \n",
            " 11  size          36177 non-null   object \n",
            " 12  type          100057 non-null  object \n",
            " 13  paint_color   88978 non-null   object \n",
            "dtypes: float64(2), int64(1), object(11)\n",
            "memory usage: 14.6+ MB\n"
          ]
        }
      ],
      "source": [
        "df.info()"
      ]
    },
    {
      "cell_type": "code",
      "execution_count": 35,
      "metadata": {
        "colab": {
          "base_uri": "https://localhost:8080/"
        },
        "id": "htmlsTSTpQaA",
        "outputId": "625cf286-aa9d-4569-96c9-433289131afd"
      },
      "outputs": [
        {
          "output_type": "stream",
          "name": "stdout",
          "text": [
            "105\n",
            "2017.0    10927\n",
            "2018.0    10906\n",
            "2015.0     9550\n",
            "2013.0     9276\n",
            "2014.0     9036\n",
            "          ...  \n",
            "1920.0        1\n",
            "1944.0        1\n",
            "1910.0        1\n",
            "1916.0        1\n",
            "1925.0        1\n",
            "Name: year, Length: 104, dtype: int64\n"
          ]
        },
        {
          "output_type": "execute_result",
          "data": {
            "text/plain": [
              "348"
            ]
          },
          "metadata": {},
          "execution_count": 35
        }
      ],
      "source": [
        "print(len(df.year.unique()))\n",
        "print(df.year.value_counts())\n",
        "df.year.isnull().sum()"
      ]
    },
    {
      "cell_type": "code",
      "execution_count": 36,
      "metadata": {
        "colab": {
          "base_uri": "https://localhost:8080/"
        },
        "id": "VNaBV1Xwp6sE",
        "outputId": "21437fd6-b9b8-4ed3-8538-5b48d1326117"
      },
      "outputs": [
        {
          "output_type": "stream",
          "name": "stdout",
          "text": [
            "['gmc' 'toyota' 'chevrolet' 'ford' 'nissan' 'jeep' 'ram' 'mazda' 'lexus'\n",
            " 'volvo' 'alfa-romeo' 'hyundai' 'lincoln' 'audi' 'acura' 'chrysler' nan\n",
            " 'jaguar' 'subaru' 'kia' 'buick' 'mercedes-benz' 'bmw' 'honda'\n",
            " 'volkswagen' 'porsche' 'cadillac' 'dodge' 'mini' 'pontiac' 'infiniti'\n",
            " 'rover' 'mercury' 'mitsubishi' 'tesla' 'saturn' 'fiat' 'harley-davidson'\n",
            " 'ferrari' 'datsun' 'aston-martin' 'land rover' 'morgan']\n",
            "43\n"
          ]
        },
        {
          "output_type": "execute_result",
          "data": {
            "text/plain": [
              "5263"
            ]
          },
          "metadata": {},
          "execution_count": 36
        }
      ],
      "source": [
        "print(df.manufacturer.unique())\n",
        "print(len(df.manufacturer.unique()))\n",
        "df.manufacturer.isnull().sum()"
      ]
    },
    {
      "cell_type": "code",
      "execution_count": 37,
      "metadata": {
        "colab": {
          "base_uri": "https://localhost:8080/"
        },
        "id": "jLjXmdgcqVcO",
        "outputId": "a1a372ba-506f-4d41-f5ec-87110e000e60"
      },
      "outputs": [
        {
          "output_type": "stream",
          "name": "stdout",
          "text": [
            "['sierra 1500 crew cab slt' 'tacoma access cab pickup'\n",
            " 'camaro ss coupe 2d' ... 'cj 3a willys' 'rx& gls sport' 'gand wagoneer']\n",
            "15823\n"
          ]
        },
        {
          "output_type": "execute_result",
          "data": {
            "text/plain": [
              "1539"
            ]
          },
          "metadata": {},
          "execution_count": 37
        }
      ],
      "source": [
        "print(df.model.unique())\n",
        "print(len(df.model.unique()))\n",
        "df.model.isnull().sum()"
      ]
    },
    {
      "cell_type": "code",
      "execution_count": 38,
      "metadata": {
        "colab": {
          "base_uri": "https://localhost:8080/"
        },
        "id": "VgC2iNcOqqQx",
        "outputId": "b5081ba4-8dd9-4316-fadd-1ddc4164b7de"
      },
      "outputs": [
        {
          "output_type": "stream",
          "name": "stdout",
          "text": [
            "['good' 'excellent' 'like new' nan 'fair' 'salvage' 'new']\n",
            "7\n"
          ]
        },
        {
          "output_type": "execute_result",
          "data": {
            "text/plain": [
              "52046"
            ]
          },
          "metadata": {},
          "execution_count": 38
        }
      ],
      "source": [
        "print(df.condition.unique())\n",
        "print(len(df.condition.unique()))\n",
        "df.condition.isnull().sum()"
      ]
    },
    {
      "cell_type": "code",
      "execution_count": 39,
      "metadata": {
        "colab": {
          "base_uri": "https://localhost:8080/"
        },
        "id": "vUslTYCDsNs2",
        "outputId": "4085fccc-66f9-4df6-c428-c3b9bcdc4d6c"
      },
      "outputs": [
        {
          "output_type": "stream",
          "name": "stdout",
          "text": [
            "['8 cylinders' nan '6 cylinders' '4 cylinders' '5 cylinders' 'other'\n",
            " '10 cylinders' '3 cylinders' '12 cylinders']\n",
            "9\n"
          ]
        },
        {
          "output_type": "execute_result",
          "data": {
            "text/plain": [
              "53238"
            ]
          },
          "metadata": {},
          "execution_count": 39
        }
      ],
      "source": [
        "print(df.cylinders.unique())\n",
        "print(len(df.cylinders.unique()))\n",
        "df.cylinders.isnull().sum()"
      ]
    },
    {
      "cell_type": "code",
      "execution_count": 40,
      "metadata": {
        "colab": {
          "base_uri": "https://localhost:8080/"
        },
        "id": "G3YbRkh1sXhp",
        "outputId": "c054319e-ac14-46d7-dc31-3104620eb077"
      },
      "outputs": [
        {
          "output_type": "stream",
          "name": "stdout",
          "text": [
            "['gas' 'other' 'diesel' nan 'hybrid' 'electric']\n",
            "6\n"
          ]
        },
        {
          "output_type": "execute_result",
          "data": {
            "text/plain": [
              "856"
            ]
          },
          "metadata": {},
          "execution_count": 40
        }
      ],
      "source": [
        "print(df.fuel.unique())\n",
        "print(len(df.fuel.unique()))\n",
        "df.fuel.isnull().sum()"
      ]
    },
    {
      "cell_type": "code",
      "execution_count": 41,
      "metadata": {
        "colab": {
          "base_uri": "https://localhost:8080/"
        },
        "id": "mIDMZxtrsgB6",
        "outputId": "c82f8858-93ea-435f-e77c-78e6878ba977"
      },
      "outputs": [
        {
          "output_type": "stream",
          "name": "stdout",
          "text": [
            "[ 57923.  17805.   9704. ... 199090. 114400.  34239.]\n",
            "53199\n"
          ]
        },
        {
          "output_type": "execute_result",
          "data": {
            "text/plain": [
              "1281"
            ]
          },
          "metadata": {},
          "execution_count": 41
        }
      ],
      "source": [
        "print(df.odometer.unique())\n",
        "print(len(df.odometer.unique()))\n",
        "df.odometer.isnull().sum()"
      ]
    },
    {
      "cell_type": "code",
      "execution_count": 42,
      "metadata": {
        "colab": {
          "base_uri": "https://localhost:8080/"
        },
        "id": "fskkyVvosoGd",
        "outputId": "80ea62e7-6e7b-428e-9d68-cbbbfe7afff9"
      },
      "outputs": [
        {
          "output_type": "stream",
          "name": "stdout",
          "text": [
            "['clean' 'lien' 'rebuilt' nan 'salvage' 'missing' 'parts only']\n",
            "7\n"
          ]
        },
        {
          "output_type": "execute_result",
          "data": {
            "text/plain": [
              "2473"
            ]
          },
          "metadata": {},
          "execution_count": 42
        }
      ],
      "source": [
        "print(df.title_status.unique())\n",
        "print(len(df.title_status.unique()))\n",
        "df.title_status.isnull().sum()"
      ]
    },
    {
      "cell_type": "code",
      "execution_count": 43,
      "metadata": {
        "colab": {
          "base_uri": "https://localhost:8080/"
        },
        "id": "T_4-wcXmszrg",
        "outputId": "df0f66df-8093-4f28-a6cc-54c87b5c390b"
      },
      "outputs": [
        {
          "output_type": "stream",
          "name": "stdout",
          "text": [
            "['other' 'automatic' 'manual' nan]\n",
            "4\n"
          ]
        },
        {
          "output_type": "execute_result",
          "data": {
            "text/plain": [
              "775"
            ]
          },
          "metadata": {},
          "execution_count": 43
        }
      ],
      "source": [
        "print(df.transmission.unique())\n",
        "print(len(df.transmission.unique()))\n",
        "df.transmission.isnull().sum()"
      ]
    },
    {
      "cell_type": "code",
      "execution_count": 44,
      "metadata": {
        "colab": {
          "base_uri": "https://localhost:8080/"
        },
        "id": "WqzOyHKds-ga",
        "outputId": "e9276baf-2fd7-4d02-f0a2-7c41e5ff57ca"
      },
      "outputs": [
        {
          "output_type": "stream",
          "name": "stdout",
          "text": [
            "[nan 'rwd' '4wd' 'fwd']\n",
            "4\n"
          ]
        },
        {
          "output_type": "execute_result",
          "data": {
            "text/plain": [
              "39208"
            ]
          },
          "metadata": {},
          "execution_count": 44
        }
      ],
      "source": [
        "print(df.drive.unique())\n",
        "print(len(df.drive.unique()))\n",
        "df.drive.isnull().sum()"
      ]
    },
    {
      "cell_type": "code",
      "execution_count": 45,
      "metadata": {
        "colab": {
          "base_uri": "https://localhost:8080/"
        },
        "id": "CLZZMMB1tF-9",
        "outputId": "d5e3dd6d-3647-43f3-9a23-5e2107d7764a"
      },
      "outputs": [
        {
          "output_type": "stream",
          "name": "stdout",
          "text": [
            "[nan 'full-size' 'compact' 'mid-size' 'sub-compact']\n",
            "5\n"
          ]
        },
        {
          "output_type": "execute_result",
          "data": {
            "text/plain": [
              "91806"
            ]
          },
          "metadata": {},
          "execution_count": 45
        }
      ],
      "source": [
        "print(df['size'].unique())\n",
        "print(len(df['size'].unique()))\n",
        "df['size'].isnull().sum()"
      ]
    },
    {
      "cell_type": "code",
      "execution_count": 46,
      "metadata": {
        "colab": {
          "base_uri": "https://localhost:8080/"
        },
        "id": "CwytsbLPtMUQ",
        "outputId": "da303f34-90f6-4b20-a7cb-123301ea888c"
      },
      "outputs": [
        {
          "output_type": "stream",
          "name": "stdout",
          "text": [
            "['pickup' 'coupe' 'SUV' 'other' 'hatchback' 'sedan' 'offroad' 'van'\n",
            " 'truck' nan 'wagon' 'bus' 'convertible' 'mini-van']\n",
            "14\n"
          ]
        },
        {
          "output_type": "execute_result",
          "data": {
            "text/plain": [
              "27926"
            ]
          },
          "metadata": {},
          "execution_count": 46
        }
      ],
      "source": [
        "print(df['type'].unique())\n",
        "print(len(df['type'].unique()))\n",
        "df['type'].isnull().sum()"
      ]
    },
    {
      "cell_type": "code",
      "execution_count": 47,
      "metadata": {
        "colab": {
          "base_uri": "https://localhost:8080/"
        },
        "id": "FZc0sFNxtQdF",
        "outputId": "ad797ce4-c17b-4d19-fd4b-b86b167c563d"
      },
      "outputs": [
        {
          "output_type": "stream",
          "name": "stdout",
          "text": [
            "['white' 'red' 'black' 'silver' nan 'yellow' 'blue' 'grey' 'green' 'brown'\n",
            " 'orange' 'custom' 'purple']\n",
            "13\n"
          ]
        },
        {
          "output_type": "execute_result",
          "data": {
            "text/plain": [
              "39005"
            ]
          },
          "metadata": {},
          "execution_count": 47
        }
      ],
      "source": [
        "print(df['paint_color'].unique())\n",
        "print(len(df['paint_color'].unique()))\n",
        "df['paint_color'].isnull().sum()"
      ]
    },
    {
      "cell_type": "code",
      "execution_count": 48,
      "metadata": {
        "colab": {
          "base_uri": "https://localhost:8080/"
        },
        "id": "wk_JEUxHvxaT",
        "outputId": "27e52f14-8563-4e43-95a7-37fe14611028"
      },
      "outputs": [
        {
          "output_type": "stream",
          "name": "stdout",
          "text": [
            "<class 'pandas.core.frame.DataFrame'>\n",
            "Int64Index: 127983 entries, 12 to 128008\n",
            "Data columns (total 14 columns):\n",
            " #   Column        Non-Null Count   Dtype  \n",
            "---  ------        --------------   -----  \n",
            " 0   price         127983 non-null  int64  \n",
            " 1   year          127635 non-null  float64\n",
            " 2   manufacturer  122720 non-null  object \n",
            " 3   model         126444 non-null  object \n",
            " 4   condition     75937 non-null   object \n",
            " 5   cylinders     74745 non-null   object \n",
            " 6   fuel          127127 non-null  object \n",
            " 7   odometer      126702 non-null  float64\n",
            " 8   title_status  125510 non-null  object \n",
            " 9   transmission  127208 non-null  object \n",
            " 10  drive         88775 non-null   object \n",
            " 11  size          36177 non-null   object \n",
            " 12  type          100057 non-null  object \n",
            " 13  paint_color   88978 non-null   object \n",
            "dtypes: float64(2), int64(1), object(11)\n",
            "memory usage: 14.6+ MB\n"
          ]
        }
      ],
      "source": [
        "df.info()"
      ]
    },
    {
      "cell_type": "markdown",
      "metadata": {
        "id": "I05XPbN5wYN7"
      },
      "source": [
        "![image.png](data:image/png;base64,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)\n"
      ]
    },
    {
      "cell_type": "code",
      "execution_count": 49,
      "metadata": {
        "colab": {
          "base_uri": "https://localhost:8080/"
        },
        "id": "N4TnMH7Wz7gi",
        "outputId": "17bc2252-ddb3-4138-b389-09df3fb0be46"
      },
      "outputs": [
        {
          "output_type": "execute_result",
          "data": {
            "text/plain": [
              "size            0.717330\n",
              "cylinders       0.415977\n",
              "condition       0.406663\n",
              "drive           0.306353\n",
              "paint_color     0.304767\n",
              "type            0.218201\n",
              "manufacturer    0.041123\n",
              "title_status    0.019323\n",
              "model           0.012025\n",
              "odometer        0.010009\n",
              "fuel            0.006688\n",
              "transmission    0.006055\n",
              "year            0.002719\n",
              "price           0.000000\n",
              "dtype: float64"
            ]
          },
          "metadata": {},
          "execution_count": 49
        }
      ],
      "source": [
        "# Calculate the missing percentage of Null values in data\n",
        "df.isna().sum().sort_values(ascending=False)/len(df)"
      ]
    },
    {
      "cell_type": "code",
      "execution_count": 50,
      "metadata": {
        "colab": {
          "base_uri": "https://localhost:8080/"
        },
        "id": "aVXyUzu10IbS",
        "outputId": "406fc128-5b8a-42cb-89ff-b84ecd0f739d"
      },
      "outputs": [
        {
          "output_type": "execute_result",
          "data": {
            "text/plain": [
              "size            0.717330\n",
              "cylinders       0.415977\n",
              "condition       0.406663\n",
              "drive           0.306353\n",
              "paint_color     0.304767\n",
              "type            0.218201\n",
              "manufacturer    0.041123\n",
              "title_status    0.019323\n",
              "model           0.012025\n",
              "odometer        0.010009\n",
              "fuel            0.006688\n",
              "transmission    0.006055\n",
              "year            0.002719\n",
              "dtype: float64"
            ]
          },
          "metadata": {},
          "execution_count": 50
        }
      ],
      "source": [
        "# Removing the missing percentages greater than zero.\n",
        "missing_percentages =df.isna().sum().sort_values(ascending=False)/len(df) \n",
        "missing_percentages[missing_percentages!=0]"
      ]
    },
    {
      "cell_type": "code",
      "execution_count": 51,
      "metadata": {
        "colab": {
          "base_uri": "https://localhost:8080/",
          "height": 422
        },
        "id": "xat56pNb0ZfE",
        "outputId": "716d0f14-0dd4-46a8-ed9d-b634f8815c1b"
      },
      "outputs": [
        {
          "output_type": "execute_result",
          "data": {
            "text/plain": [
              "Text(0, 0.5, 'Features')"
            ]
          },
          "metadata": {},
          "execution_count": 51
        },
        {
          "output_type": "display_data",
          "data": {
            "text/plain": [
              "<Figure size 720x432 with 1 Axes>"
            ],
            "image/png": "[encoded data removed]"
          },
          "metadata": {
            "needs_background": "light"
          }
        }
      ],
      "source": [
        "# Plot a graph to check missing percentages \n",
        "plt.figure(figsize=(10,6))\n",
        "missing_percentages[missing_percentages!=0].plot(kind='barh')\n",
        "plt.title(\"Graph for NULL data in percentage \")\n",
        "plt.xlabel(\"% of missing values\")\n",
        "plt.ylabel(\"Features\")"
      ]
    },
    {
      "cell_type": "markdown",
      "metadata": {
        "id": "jYkmsgWX1UTn"
      },
      "source": [
        "Findings from the above data\n",
        "\n",
        "*   It is clearly seen that size column contains approx 71% of null values which\n",
        "needs to be remove.\n",
        "*   For now, dropping columns which contains more than 25 percent null values.\n",
        "\n",
        "Dropping columns such as size,cylinder,condition,paint_color and drive \n",
        "\n",
        "\n"
      ]
    },
    {
      "cell_type": "code",
      "execution_count": 52,
      "metadata": {
        "colab": {
          "base_uri": "https://localhost:8080/",
          "height": 206
        },
        "id": "vBcmk0062mMM",
        "outputId": "1540c0a6-ccc5-4bae-99a8-f88db353d068"
      },
      "outputs": [
        {
          "output_type": "execute_result",
          "data": {
            "text/plain": [
              "    price    year manufacturer                       model   fuel  odometer  \\\n",
              "12  33590  2014.0          gmc    sierra 1500 crew cab slt    gas   57923.0   \n",
              "13  27990  2014.0       toyota    tacoma access cab pickup  other   17805.0   \n",
              "14  37990  2016.0    chevrolet          camaro ss coupe 2d    gas    9704.0   \n",
              "15  33590  2014.0       toyota   tundra crewmax sr5 pickup  other   55251.0   \n",
              "16  30990  2019.0         ford  ranger supercrew xl pickup  other    1834.0   \n",
              "\n",
              "   title_status transmission    type  \n",
              "12        clean        other  pickup  \n",
              "13        clean        other  pickup  \n",
              "14        clean        other   coupe  \n",
              "15        clean        other  pickup  \n",
              "16        clean        other  pickup  "
            ],
            "text/html": [
              "\n",
              "  <div id=\"df-871a9483-8838-43bd-bec7-c674bc5da037\">\n",
              "    <div class=\"colab-df-container\">\n",
              "      <div>\n",
              "<style scoped>\n",
              "    .dataframe tbody tr th:only-of-type {\n",
              "        vertical-align: middle;\n",
              "    }\n",
              "\n",
              "    .dataframe tbody tr th {\n",
              "        vertical-align: top;\n",
              "    }\n",
              "\n",
              "    .dataframe thead th {\n",
              "        text-align: right;\n",
              "    }\n",
              "</style>\n",
              "<table border=\"1\" class=\"dataframe\">\n",
              "  <thead>\n",
              "    <tr style=\"text-align: right;\">\n",
              "      <th></th>\n",
              "      <th>price</th>\n",
              "      <th>year</th>\n",
              "      <th>manufacturer</th>\n",
              "      <th>model</th>\n",
              "      <th>fuel</th>\n",
              "      <th>odometer</th>\n",
              "      <th>title_status</th>\n",
              "      <th>transmission</th>\n",
              "      <th>type</th>\n",
              "    </tr>\n",
              "  </thead>\n",
              "  <tbody>\n",
              "    <tr>\n",
              "      <th>12</th>\n",
              "      <td>33590</td>\n",
              "      <td>2014.0</td>\n",
              "      <td>gmc</td>\n",
              "      <td>sierra 1500 crew cab slt</td>\n",
              "      <td>gas</td>\n",
              "      <td>57923.0</td>\n",
              "      <td>clean</td>\n",
              "      <td>other</td>\n",
              "      <td>pickup</td>\n",
              "    </tr>\n",
              "    <tr>\n",
              "      <th>13</th>\n",
              "      <td>27990</td>\n",
              "      <td>2014.0</td>\n",
              "      <td>toyota</td>\n",
              "      <td>tacoma access cab pickup</td>\n",
              "      <td>other</td>\n",
              "      <td>17805.0</td>\n",
              "      <td>clean</td>\n",
              "      <td>other</td>\n",
              "      <td>pickup</td>\n",
              "    </tr>\n",
              "    <tr>\n",
              "      <th>14</th>\n",
              "      <td>37990</td>\n",
              "      <td>2016.0</td>\n",
              "      <td>chevrolet</td>\n",
              "      <td>camaro ss coupe 2d</td>\n",
              "      <td>gas</td>\n",
              "      <td>9704.0</td>\n",
              "      <td>clean</td>\n",
              "      <td>other</td>\n",
              "      <td>coupe</td>\n",
              "    </tr>\n",
              "    <tr>\n",
              "      <th>15</th>\n",
              "      <td>33590</td>\n",
              "      <td>2014.0</td>\n",
              "      <td>toyota</td>\n",
              "      <td>tundra crewmax sr5 pickup</td>\n",
              "      <td>other</td>\n",
              "      <td>55251.0</td>\n",
              "      <td>clean</td>\n",
              "      <td>other</td>\n",
              "      <td>pickup</td>\n",
              "    </tr>\n",
              "    <tr>\n",
              "      <th>16</th>\n",
              "      <td>30990</td>\n",
              "      <td>2019.0</td>\n",
              "      <td>ford</td>\n",
              "      <td>ranger supercrew xl pickup</td>\n",
              "      <td>other</td>\n",
              "      <td>1834.0</td>\n",
              "      <td>clean</td>\n",
              "      <td>other</td>\n",
              "      <td>pickup</td>\n",
              "    </tr>\n",
              "  </tbody>\n",
              "</table>\n",
              "</div>\n",
              "      <button class=\"colab-df-convert\" onclick=\"convertToInteractive('df-871a9483-8838-43bd-bec7-c674bc5da037')\"\n",
              "              title=\"Convert this dataframe to an interactive table.\"\n",
              "              style=\"display:none;\">\n",
              "        \n",
              "  <svg xmlns=\"http://www.w3.org/2000/svg\" height=\"24px\"viewBox=\"0 0 24 24\"\n",
              "       width=\"24px\">\n",
              "    <path d=\"M0 0h24v24H0V0z\" fill=\"none\"/>\n",
              "    <path d=\"M18.56 5.44l.94 2.06.94-2.06 2.06-.94-2.06-.94-.94-2.06-.94 2.06-2.06.94zm-11 1L8.5 8.5l.94-2.06 2.06-.94-2.06-.94L8.5 2.5l-.94 2.06-2.06.94zm10 10l.94 2.06.94-2.06 2.06-.94-2.06-.94-.94-2.06-.94 2.06-2.06.94z\"/><path d=\"M17.41 7.96l-1.37-1.37c-.4-.4-.92-.59-1.43-.59-.52 0-1.04.2-1.43.59L10.3 9.45l-7.72 7.72c-.78.78-.78 2.05 0 2.83L4 21.41c.39.39.9.59 1.41.59.51 0 1.02-.2 1.41-.59l7.78-7.78 2.81-2.81c.8-.78.8-2.07 0-2.86zM5.41 20L4 18.59l7.72-7.72 1.47 1.35L5.41 20z\"/>\n",
              "  </svg>\n",
              "      </button>\n",
              "      \n",
              "  <style>\n",
              "    .colab-df-container {\n",
              "      display:flex;\n",
              "      flex-wrap:wrap;\n",
              "      gap: 12px;\n",
              "    }\n",
              "\n",
              "    .colab-df-convert {\n",
              "      background-color: #E8F0FE;\n",
              "      border: none;\n",
              "      border-radius: 50%;\n",
              "      cursor: pointer;\n",
              "      display: none;\n",
              "      fill: #1967D2;\n",
              "      height: 32px;\n",
              "      padding: 0 0 0 0;\n",
              "      width: 32px;\n",
              "    }\n",
              "\n",
              "    .colab-df-convert:hover {\n",
              "      background-color: #E2EBFA;\n",
              "      box-shadow: 0px 1px 2px rgba(60, 64, 67, 0.3), 0px 1px 3px 1px rgba(60, 64, 67, 0.15);\n",
              "      fill: #174EA6;\n",
              "    }\n",
              "\n",
              "    [theme=dark] .colab-df-convert {\n",
              "      background-color: #3B4455;\n",
              "      fill: #D2E3FC;\n",
              "    }\n",
              "\n",
              "    [theme=dark] .colab-df-convert:hover {\n",
              "      background-color: #434B5C;\n",
              "      box-shadow: 0px 1px 3px 1px rgba(0, 0, 0, 0.15);\n",
              "      filter: drop-shadow(0px 1px 2px rgba(0, 0, 0, 0.3));\n",
              "      fill: #FFFFFF;\n",
              "    }\n",
              "  </style>\n",
              "\n",
              "      <script>\n",
              "        const buttonEl =\n",
              "          document.querySelector('#df-871a9483-8838-43bd-bec7-c674bc5da037 button.colab-df-convert');\n",
              "        buttonEl.style.display =\n",
              "          google.colab.kernel.accessAllowed ? 'block' : 'none';\n",
              "\n",
              "        async function convertToInteractive(key) {\n",
              "          const element = document.querySelector('#df-871a9483-8838-43bd-bec7-c674bc5da037');\n",
              "          const dataTable =\n",
              "            await google.colab.kernel.invokeFunction('convertToInteractive',\n",
              "                                                     [key], {});\n",
              "          if (!dataTable) return;\n",
              "\n",
              "          const docLinkHtml = 'Like what you see? Visit the ' +\n",
              "            '<a target=\"_blank\" href=https://colab.research.google.com/notebooks/data_table.ipynb>data table notebook</a>'\n",
              "            + ' to learn more about interactive tables.';\n",
              "          element.innerHTML = '';\n",
              "          dataTable['output_type'] = 'display_data';\n",
              "          await google.colab.output.renderOutput(dataTable, element);\n",
              "          const docLink = document.createElement('div');\n",
              "          docLink.innerHTML = docLinkHtml;\n",
              "          element.appendChild(docLink);\n",
              "        }\n",
              "      </script>\n",
              "    </div>\n",
              "  </div>\n",
              "  "
            ]
          },
          "metadata": {},
          "execution_count": 52
        }
      ],
      "source": [
        "df = df.drop(['size','cylinders','condition','paint_color','drive'],axis =1)\n",
        "df.head()"
      ]
    },
    {
      "cell_type": "code",
      "execution_count": 53,
      "metadata": {
        "id": "HLCGF8qAv1u1"
      },
      "outputs": [],
      "source": [
        "# Cleaning the year columns\n",
        "# In the year column it is clearly seen that it contains float value. such as (2017.0), The first step is to make year as integer column.\n",
        "\n",
        "# Fill missing values in year column\n",
        "df['year'] =df['year'].fillna(df['year'].mean())"
      ]
    },
    {
      "cell_type": "code",
      "execution_count": 54,
      "metadata": {
        "colab": {
          "base_uri": "https://localhost:8080/"
        },
        "id": "geKn57pb3mgN",
        "outputId": "6dc07c5a-465c-4168-f93a-66a377a8abb3"
      },
      "outputs": [
        {
          "output_type": "execute_result",
          "data": {
            "text/plain": [
              "0"
            ]
          },
          "metadata": {},
          "execution_count": 54
        }
      ],
      "source": [
        "df['year'].isnull().sum()"
      ]
    },
    {
      "cell_type": "code",
      "execution_count": 55,
      "metadata": {
        "id": "Ovn-Mo0rw35C"
      },
      "outputs": [],
      "source": [
        "# Type casting float to integer\n",
        "df['year'] = df['year'].astype(int)"
      ]
    },
    {
      "cell_type": "code",
      "execution_count": 55,
      "metadata": {
        "id": "n3Nfbbjn8gsn"
      },
      "outputs": [],
      "source": [
        ""
      ]
    },
    {
      "cell_type": "markdown",
      "metadata": {
        "id": "H2u5e0sT8f0M"
      },
      "source": [
        "Cleaning manufacturer column.\n",
        "manufacturer column contains lots of unique value.Making a cluster of others those labels contains les than 1000 count"
      ]
    },
    {
      "cell_type": "code",
      "execution_count": 56,
      "metadata": {
        "colab": {
          "base_uri": "https://localhost:8080/"
        },
        "id": "rlYULeRj30Hn",
        "outputId": "996f0469-5577-42ca-fb45-a669e0f8f386"
      },
      "outputs": [
        {
          "output_type": "execute_result",
          "data": {
            "text/plain": [
              "42"
            ]
          },
          "metadata": {},
          "execution_count": 56
        }
      ],
      "source": [
        "len(df.manufacturer.value_counts())"
      ]
    },
    {
      "cell_type": "code",
      "execution_count": 57,
      "metadata": {
        "colab": {
          "base_uri": "https://localhost:8080/"
        },
        "id": "Ss3QJ9933-n7",
        "outputId": "b56ddc93-9a62-435f-8419-050bb777d218"
      },
      "outputs": [
        {
          "output_type": "execute_result",
          "data": {
            "text/plain": [
              "ford               21130\n",
              "chevrolet          16483\n",
              "toyota             10395\n",
              "honda               6372\n",
              "jeep                5774\n",
              "nissan              5760\n",
              "ram                 5534\n",
              "gmc                 4975\n",
              "bmw                 4331\n",
              "dodge               4091\n",
              "mercedes-benz       3513\n",
              "hyundai             3106\n",
              "volkswagen          2868\n",
              "subaru              2849\n",
              "kia                 2537\n",
              "lexus               2448\n",
              "audi                2303\n",
              "cadillac            2011\n",
              "chrysler            1813\n",
              "acura               1765\n",
              "buick               1650\n",
              "mazda               1647\n",
              "infiniti            1458\n",
              "lincoln             1258\n",
              "volvo               1037\n",
              "mitsubishi           958\n",
              "mini                 752\n",
              "pontiac              693\n",
              "rover                652\n",
              "jaguar               568\n",
              "porsche              403\n",
              "mercury              370\n",
              "saturn               329\n",
              "alfa-romeo           280\n",
              "tesla                269\n",
              "fiat                 238\n",
              "harley-davidson       41\n",
              "ferrari               27\n",
              "datsun                17\n",
              "aston-martin           8\n",
              "land rover             6\n",
              "morgan                 1\n",
              "Name: manufacturer, dtype: int64"
            ]
          },
          "metadata": {},
          "execution_count": 57
        }
      ],
      "source": [
        "manufacturer = df['manufacturer'].value_counts(ascending  = False)\n",
        "manufacturer"
      ]
    },
    {
      "cell_type": "code",
      "execution_count": 58,
      "metadata": {
        "colab": {
          "base_uri": "https://localhost:8080/"
        },
        "id": "ONESxCbY8AGU",
        "outputId": "1dc96426-672d-43de-bbb5-d24031691f74"
      },
      "outputs": [
        {
          "output_type": "execute_result",
          "data": {
            "text/plain": [
              "17"
            ]
          },
          "metadata": {},
          "execution_count": 58
        }
      ],
      "source": [
        "manufacturer_lessthan1000 = manufacturer[manufacturer<1000]\n",
        "len(manufacturer_lessthan1000)"
      ]
    },
    {
      "cell_type": "code",
      "execution_count": 59,
      "metadata": {
        "colab": {
          "base_uri": "https://localhost:8080/"
        },
        "id": "26sZoux48Mgm",
        "outputId": "462b9c9f-775a-484c-c705-6d426f3ce9f7"
      },
      "outputs": [
        {
          "output_type": "execute_result",
          "data": {
            "text/plain": [
              "ford             21130\n",
              "chevrolet        16483\n",
              "toyota           10395\n",
              "honda             6372\n",
              "jeep              5774\n",
              "nissan            5760\n",
              "others            5612\n",
              "ram               5534\n",
              "gmc               4975\n",
              "bmw               4331\n",
              "dodge             4091\n",
              "mercedes-benz     3513\n",
              "hyundai           3106\n",
              "volkswagen        2868\n",
              "subaru            2849\n",
              "kia               2537\n",
              "lexus             2448\n",
              "audi              2303\n",
              "cadillac          2011\n",
              "chrysler          1813\n",
              "acura             1765\n",
              "buick             1650\n",
              "mazda             1647\n",
              "infiniti          1458\n",
              "lincoln           1258\n",
              "volvo             1037\n",
              "Name: manufacturer, dtype: int64"
            ]
          },
          "metadata": {},
          "execution_count": 59
        }
      ],
      "source": [
        "def handle_rest_type(value):\n",
        "    if(value in manufacturer_lessthan1000):\n",
        "        return 'others'\n",
        "    else:\n",
        "        return value\n",
        "        \n",
        "df['manufacturer'] = df['manufacturer'].apply(handle_rest_type)\n",
        "df['manufacturer'].value_counts()"
      ]
    },
    {
      "cell_type": "code",
      "execution_count": 60,
      "metadata": {
        "colab": {
          "base_uri": "https://localhost:8080/"
        },
        "id": "8dq5ahTo8b27",
        "outputId": "b1fc881d-0153-4c59-a851-440935b068e0"
      },
      "outputs": [
        {
          "output_type": "execute_result",
          "data": {
            "text/plain": [
              "0"
            ]
          },
          "metadata": {},
          "execution_count": 60
        }
      ],
      "source": [
        "# Fill missing values in manufacturer column\n",
        "df['manufacturer'] = df['manufacturer'].fillna(df['manufacturer'].mode()[0])\n",
        "df['manufacturer'].isnull().sum()"
      ]
    },
    {
      "cell_type": "code",
      "execution_count": 61,
      "metadata": {
        "colab": {
          "base_uri": "https://localhost:8080/"
        },
        "id": "WWvBoUhf-HqV",
        "outputId": "47c9b1eb-8497-4296-8a40-310f28125695"
      },
      "outputs": [
        {
          "output_type": "execute_result",
          "data": {
            "text/plain": [
              "0"
            ]
          },
          "metadata": {},
          "execution_count": 61
        }
      ],
      "source": [
        "# Fill missing values in fuel column\n",
        "df['fuel'] = df['fuel'].fillna(df['fuel'].mode()[0])\n",
        "df['fuel'].isnull().sum()"
      ]
    },
    {
      "cell_type": "code",
      "execution_count": 62,
      "metadata": {
        "colab": {
          "base_uri": "https://localhost:8080/"
        },
        "id": "DKVfg-d8-OQ1",
        "outputId": "e438a71a-6fa7-4ed4-cd64-2fb8be2ae6ca"
      },
      "outputs": [
        {
          "output_type": "execute_result",
          "data": {
            "text/plain": [
              "0"
            ]
          },
          "metadata": {},
          "execution_count": 62
        }
      ],
      "source": [
        "# Fill missing values in model column\n",
        "df['model'] = df['model'].fillna(df['model'].mode()[0])\n",
        "df['model'].isnull().sum()"
      ]
    },
    {
      "cell_type": "code",
      "execution_count": 63,
      "metadata": {
        "colab": {
          "base_uri": "https://localhost:8080/"
        },
        "id": "mlypE2qE_VP6",
        "outputId": "65971cad-8ec4-40be-b9ad-4640378a2220"
      },
      "outputs": [
        {
          "output_type": "execute_result",
          "data": {
            "text/plain": [
              "0"
            ]
          },
          "metadata": {},
          "execution_count": 63
        }
      ],
      "source": [
        "# Fill missing values in odometer column\n",
        "df['odometer'] = df['odometer'].fillna(df['odometer'].mean())\n",
        "df['odometer'].isnull().sum()"
      ]
    },
    {
      "cell_type": "code",
      "execution_count": 64,
      "metadata": {
        "id": "66s9iLH1_ev5"
      },
      "outputs": [],
      "source": [
        "# odometer is in float , typecast to int\n",
        "df['odometer'] = df['odometer'].astype(int)"
      ]
    },
    {
      "cell_type": "code",
      "execution_count": 65,
      "metadata": {
        "colab": {
          "base_uri": "https://localhost:8080/"
        },
        "id": "OyzoUM5O_3s-",
        "outputId": "2c4ed512-28fa-429c-d035-b135794b6db4"
      },
      "outputs": [
        {
          "output_type": "execute_result",
          "data": {
            "text/plain": [
              "0"
            ]
          },
          "metadata": {},
          "execution_count": 65
        }
      ],
      "source": [
        "# Fill missing values in title_status column\n",
        "df['title_status'] = df['title_status'].fillna(df['title_status'].mode()[0])\n",
        "df['title_status'].isnull().sum()"
      ]
    },
    {
      "cell_type": "code",
      "execution_count": 66,
      "metadata": {
        "colab": {
          "base_uri": "https://localhost:8080/"
        },
        "id": "bJbP1RAdAQAP",
        "outputId": "0dece1a1-e15a-42ea-ff00-8980c4898cde"
      },
      "outputs": [
        {
          "output_type": "execute_result",
          "data": {
            "text/plain": [
              "0"
            ]
          },
          "metadata": {},
          "execution_count": 66
        }
      ],
      "source": [
        "# Fill missing values in transmission column\n",
        "df['transmission'] = df['transmission'].fillna(df['transmission'].mode()[0])\n",
        "df['transmission'].isnull().sum()"
      ]
    },
    {
      "cell_type": "code",
      "execution_count": 67,
      "metadata": {
        "colab": {
          "base_uri": "https://localhost:8080/"
        },
        "id": "Fj4o5-k5AokP",
        "outputId": "79b7374a-7fe4-4a01-c61d-33c9c3a62b5f"
      },
      "outputs": [
        {
          "output_type": "execute_result",
          "data": {
            "text/plain": [
              "0"
            ]
          },
          "metadata": {},
          "execution_count": 67
        }
      ],
      "source": [
        "# Fill missing values in type column\n",
        "df['type'] = df['type'].fillna(df['type'].mode()[0])\n",
        "df['type'].isnull().sum()"
      ]
    },
    {
      "cell_type": "code",
      "execution_count": 68,
      "metadata": {
        "colab": {
          "base_uri": "https://localhost:8080/"
        },
        "id": "LXj5EanEA7BQ",
        "outputId": "49897266-1ef9-4b8b-cce2-07f1bdbbce07"
      },
      "outputs": [
        {
          "output_type": "stream",
          "name": "stdout",
          "text": [
            "<class 'pandas.core.frame.DataFrame'>\n",
            "Int64Index: 127983 entries, 12 to 128008\n",
            "Data columns (total 9 columns):\n",
            " #   Column        Non-Null Count   Dtype \n",
            "---  ------        --------------   ----- \n",
            " 0   price         127983 non-null  int64 \n",
            " 1   year          127983 non-null  int64 \n",
            " 2   manufacturer  127983 non-null  object\n",
            " 3   model         127983 non-null  object\n",
            " 4   fuel          127983 non-null  object\n",
            " 5   odometer      127983 non-null  int64 \n",
            " 6   title_status  127983 non-null  object\n",
            " 7   transmission  127983 non-null  object\n",
            " 8   type          127983 non-null  object\n",
            "dtypes: int64(3), object(6)\n",
            "memory usage: 9.8+ MB\n"
          ]
        }
      ],
      "source": [
        "df.info()"
      ]
    },
    {
      "cell_type": "markdown",
      "metadata": {
        "id": "e4jHEf1CB-3A"
      },
      "source": [
        "One hot Encoding to conver Char values"
      ]
    },
    {
      "cell_type": "code",
      "execution_count": 69,
      "metadata": {
        "id": "V5GFPdbkBP2u"
      },
      "outputs": [],
      "source": [
        "from sklearn import preprocessing\n",
        "import pandas as pd\n",
        "le = preprocessing.LabelEncoder()\n",
        "\n",
        "df[['manufacturer','model','fuel','title_status', 'transmission','type']] = df[['manufacturer','model','fuel','title_status', 'transmission','type']].apply(le.fit_transform)\n"
      ]
    },
    {
      "cell_type": "markdown",
      "metadata": {
        "id": "-ZfcDTTeCJ-I"
      },
      "source": [
        "Splitting data into training and testing"
      ]
    },
    {
      "cell_type": "code",
      "execution_count": 70,
      "metadata": {
        "colab": {
          "base_uri": "https://localhost:8080/"
        },
        "id": "gym60E70CFN7",
        "outputId": "90ce76e1-fee0-4162-8c37-591104c68c66"
      },
      "outputs": [
        {
          "output_type": "stream",
          "name": "stdout",
          "text": [
            "(102386, 8) (102386,)\n",
            "(25597, 8) (25597,)\n"
          ]
        }
      ],
      "source": [
        "from sklearn import datasets, linear_model\n",
        "from sklearn.model_selection import train_test_split\n",
        "from matplotlib import pyplot as plt\n",
        "\n",
        "y= df.price\n",
        "X= df.drop('price',axis=1)\n",
        "\n",
        "X_train, X_test, y_train, y_test = train_test_split(X, y, test_size=0.2, random_state=42)\n",
        "\n",
        "print (X_train.shape, y_train.shape)\n",
        "print (X_test.shape, y_test.shape)"
      ]
    },
    {
      "cell_type": "markdown",
      "metadata": {
        "id": "GNRbCkL-CvES"
      },
      "source": [
        "Standard Scaler: It assumes that your data is normally distributed within each feature. This is not appropriate for this data"
      ]
    },
    {
      "cell_type": "code",
      "execution_count": 71,
      "metadata": {
        "id": "6hec_OwyCPdf"
      },
      "outputs": [],
      "source": [
        "# Feature Scaling\n",
        "from sklearn.preprocessing import StandardScaler\n",
        "\n",
        "sc = StandardScaler()\n",
        "X_train= sc.fit_transform(X_train)\n",
        "X_test= sc.transform(X_test)"
      ]
    },
    {
      "cell_type": "markdown",
      "metadata": {
        "id": "3amNc7p1Cwl2"
      },
      "source": [
        "Min-max scaler:\n",
        "\n",
        "For each value in a feature, MinMaxScaler subtracts the minimum value in the feature and then divides by the range. The range is the difference between the original maximum and original minimum."
      ]
    },
    {
      "cell_type": "code",
      "execution_count": 72,
      "metadata": {
        "id": "eJP7QX7xCTfX"
      },
      "outputs": [],
      "source": [
        "from sklearn.preprocessing import MinMaxScaler\n",
        "sc = MinMaxScaler()   \n",
        "X_train= sc.fit_transform(X_train)\n",
        "X_test= sc.transform(X_test)"
      ]
    },
    {
      "cell_type": "code",
      "execution_count": 73,
      "metadata": {
        "colab": {
          "base_uri": "https://localhost:8080/",
          "height": 206
        },
        "id": "Y31MAkl8CZFg",
        "outputId": "afeabc05-f2a6-4255-8474-1ae5142462bb"
      },
      "outputs": [
        {
          "output_type": "execute_result",
          "data": {
            "text/plain": [
              "    price  year  manufacturer  model  fuel  odometer  title_status  \\\n",
              "12  33590  2014             9  12784     2     57923             0   \n",
              "13  27990  2014            23  13983     4     17805             0   \n",
              "14  37990  2016             5   4622     2      9704             0   \n",
              "15  33590  2014            23  14799     4     55251             0   \n",
              "16  30990  2019             8  11813     4      1834             0   \n",
              "\n",
              "    transmission  type  \n",
              "12             2     8  \n",
              "13             2     8  \n",
              "14             2     3  \n",
              "15             2     8  \n",
              "16             2     8  "
            ],
            "text/html": [
              "\n",
              "  <div id=\"df-fc5442ec-eeec-40c8-b77e-887909ced215\">\n",
              "    <div class=\"colab-df-container\">\n",
              "      <div>\n",
              "<style scoped>\n",
              "    .dataframe tbody tr th:only-of-type {\n",
              "        vertical-align: middle;\n",
              "    }\n",
              "\n",
              "    .dataframe tbody tr th {\n",
              "        vertical-align: top;\n",
              "    }\n",
              "\n",
              "    .dataframe thead th {\n",
              "        text-align: right;\n",
              "    }\n",
              "</style>\n",
              "<table border=\"1\" class=\"dataframe\">\n",
              "  <thead>\n",
              "    <tr style=\"text-align: right;\">\n",
              "      <th></th>\n",
              "      <th>price</th>\n",
              "      <th>year</th>\n",
              "      <th>manufacturer</th>\n",
              "      <th>model</th>\n",
              "      <th>fuel</th>\n",
              "      <th>odometer</th>\n",
              "      <th>title_status</th>\n",
              "      <th>transmission</th>\n",
              "      <th>type</th>\n",
              "    </tr>\n",
              "  </thead>\n",
              "  <tbody>\n",
              "    <tr>\n",
              "      <th>12</th>\n",
              "      <td>33590</td>\n",
              "      <td>2014</td>\n",
              "      <td>9</td>\n",
              "      <td>12784</td>\n",
              "      <td>2</td>\n",
              "      <td>57923</td>\n",
              "      <td>0</td>\n",
              "      <td>2</td>\n",
              "      <td>8</td>\n",
              "    </tr>\n",
              "    <tr>\n",
              "      <th>13</th>\n",
              "      <td>27990</td>\n",
              "      <td>2014</td>\n",
              "      <td>23</td>\n",
              "      <td>13983</td>\n",
              "      <td>4</td>\n",
              "      <td>17805</td>\n",
              "      <td>0</td>\n",
              "      <td>2</td>\n",
              "      <td>8</td>\n",
              "    </tr>\n",
              "    <tr>\n",
              "      <th>14</th>\n",
              "      <td>37990</td>\n",
              "      <td>2016</td>\n",
              "      <td>5</td>\n",
              "      <td>4622</td>\n",
              "      <td>2</td>\n",
              "      <td>9704</td>\n",
              "      <td>0</td>\n",
              "      <td>2</td>\n",
              "      <td>3</td>\n",
              "    </tr>\n",
              "    <tr>\n",
              "      <th>15</th>\n",
              "      <td>33590</td>\n",
              "      <td>2014</td>\n",
              "      <td>23</td>\n",
              "      <td>14799</td>\n",
              "      <td>4</td>\n",
              "      <td>55251</td>\n",
              "      <td>0</td>\n",
              "      <td>2</td>\n",
              "      <td>8</td>\n",
              "    </tr>\n",
              "    <tr>\n",
              "      <th>16</th>\n",
              "      <td>30990</td>\n",
              "      <td>2019</td>\n",
              "      <td>8</td>\n",
              "      <td>11813</td>\n",
              "      <td>4</td>\n",
              "      <td>1834</td>\n",
              "      <td>0</td>\n",
              "      <td>2</td>\n",
              "      <td>8</td>\n",
              "    </tr>\n",
              "  </tbody>\n",
              "</table>\n",
              "</div>\n",
              "      <button class=\"colab-df-convert\" onclick=\"convertToInteractive('df-fc5442ec-eeec-40c8-b77e-887909ced215')\"\n",
              "              title=\"Convert this dataframe to an interactive table.\"\n",
              "              style=\"display:none;\">\n",
              "        \n",
              "  <svg xmlns=\"http://www.w3.org/2000/svg\" height=\"24px\"viewBox=\"0 0 24 24\"\n",
              "       width=\"24px\">\n",
              "    <path d=\"M0 0h24v24H0V0z\" fill=\"none\"/>\n",
              "    <path d=\"M18.56 5.44l.94 2.06.94-2.06 2.06-.94-2.06-.94-.94-2.06-.94 2.06-2.06.94zm-11 1L8.5 8.5l.94-2.06 2.06-.94-2.06-.94L8.5 2.5l-.94 2.06-2.06.94zm10 10l.94 2.06.94-2.06 2.06-.94-2.06-.94-.94-2.06-.94 2.06-2.06.94z\"/><path d=\"M17.41 7.96l-1.37-1.37c-.4-.4-.92-.59-1.43-.59-.52 0-1.04.2-1.43.59L10.3 9.45l-7.72 7.72c-.78.78-.78 2.05 0 2.83L4 21.41c.39.39.9.59 1.41.59.51 0 1.02-.2 1.41-.59l7.78-7.78 2.81-2.81c.8-.78.8-2.07 0-2.86zM5.41 20L4 18.59l7.72-7.72 1.47 1.35L5.41 20z\"/>\n",
              "  </svg>\n",
              "      </button>\n",
              "      \n",
              "  <style>\n",
              "    .colab-df-container {\n",
              "      display:flex;\n",
              "      flex-wrap:wrap;\n",
              "      gap: 12px;\n",
              "    }\n",
              "\n",
              "    .colab-df-convert {\n",
              "      background-color: #E8F0FE;\n",
              "      border: none;\n",
              "      border-radius: 50%;\n",
              "      cursor: pointer;\n",
              "      display: none;\n",
              "      fill: #1967D2;\n",
              "      height: 32px;\n",
              "      padding: 0 0 0 0;\n",
              "      width: 32px;\n",
              "    }\n",
              "\n",
              "    .colab-df-convert:hover {\n",
              "      background-color: #E2EBFA;\n",
              "      box-shadow: 0px 1px 2px rgba(60, 64, 67, 0.3), 0px 1px 3px 1px rgba(60, 64, 67, 0.15);\n",
              "      fill: #174EA6;\n",
              "    }\n",
              "\n",
              "    [theme=dark] .colab-df-convert {\n",
              "      background-color: #3B4455;\n",
              "      fill: #D2E3FC;\n",
              "    }\n",
              "\n",
              "    [theme=dark] .colab-df-convert:hover {\n",
              "      background-color: #434B5C;\n",
              "      box-shadow: 0px 1px 3px 1px rgba(0, 0, 0, 0.15);\n",
              "      filter: drop-shadow(0px 1px 2px rgba(0, 0, 0, 0.3));\n",
              "      fill: #FFFFFF;\n",
              "    }\n",
              "  </style>\n",
              "\n",
              "      <script>\n",
              "        const buttonEl =\n",
              "          document.querySelector('#df-fc5442ec-eeec-40c8-b77e-887909ced215 button.colab-df-convert');\n",
              "        buttonEl.style.display =\n",
              "          google.colab.kernel.accessAllowed ? 'block' : 'none';\n",
              "\n",
              "        async function convertToInteractive(key) {\n",
              "          const element = document.querySelector('#df-fc5442ec-eeec-40c8-b77e-887909ced215');\n",
              "          const dataTable =\n",
              "            await google.colab.kernel.invokeFunction('convertToInteractive',\n",
              "                                                     [key], {});\n",
              "          if (!dataTable) return;\n",
              "\n",
              "          const docLinkHtml = 'Like what you see? Visit the ' +\n",
              "            '<a target=\"_blank\" href=https://colab.research.google.com/notebooks/data_table.ipynb>data table notebook</a>'\n",
              "            + ' to learn more about interactive tables.';\n",
              "          element.innerHTML = '';\n",
              "          dataTable['output_type'] = 'display_data';\n",
              "          await google.colab.output.renderOutput(dataTable, element);\n",
              "          const docLink = document.createElement('div');\n",
              "          docLink.innerHTML = docLinkHtml;\n",
              "          element.appendChild(docLink);\n",
              "        }\n",
              "      </script>\n",
              "    </div>\n",
              "  </div>\n",
              "  "
            ]
          },
          "metadata": {},
          "execution_count": 73
        }
      ],
      "source": [
        "df.head()"
      ]
    },
    {
      "cell_type": "code",
      "execution_count": 74,
      "metadata": {
        "colab": {
          "base_uri": "https://localhost:8080/"
        },
        "id": "qQftOKbZCdbW",
        "outputId": "239000f1-9359-4195-d8b1-a06d8dee1f84"
      },
      "outputs": [
        {
          "output_type": "execute_result",
          "data": {
            "text/plain": [
              "array([[0.97540984, 0.84      , 0.23557297, ..., 1.        , 1.        ,\n",
              "        0.83333333],\n",
              "       [0.95901639, 0.84      , 0.05341002, ..., 0.        , 0.        ,\n",
              "        0.75      ],\n",
              "       [0.95081967, 0.36      , 0.79179571, ..., 0.        , 0.        ,\n",
              "        0.91666667],\n",
              "       ...,\n",
              "       [0.94262295, 0.28      , 0.38815498, ..., 0.2       , 0.        ,\n",
              "        0.        ],\n",
              "       [0.96721311, 0.64      , 0.67751722, ..., 0.        , 0.        ,\n",
              "        0.75      ],\n",
              "       [0.95901639, 0.84      , 0.00543581, ..., 0.        , 0.        ,\n",
              "        0.83333333]])"
            ]
          },
          "metadata": {},
          "execution_count": 74
        }
      ],
      "source": [
        "X_train"
      ]
    },
    {
      "cell_type": "code",
      "execution_count": 75,
      "metadata": {
        "id": "Nlqi91cxC579"
      },
      "outputs": [],
      "source": [
        "# Random Forest\n",
        "\n",
        "from sklearn.ensemble import RandomForestRegressor\n",
        "\n",
        "regressor = RandomForestRegressor(n_estimators=20, random_state=0)\n",
        "regressor.fit(X_train, y_train)\n",
        "y_pred = regressor.predict(X_test)"
      ]
    },
    {
      "cell_type": "code",
      "execution_count": 76,
      "metadata": {
        "id": "y39S6mKiC_75"
      },
      "outputs": [],
      "source": [
        "from sklearn import metrics\n",
        "from sklearn.metrics import mean_squared_error as MSE"
      ]
    },
    {
      "cell_type": "code",
      "execution_count": 77,
      "metadata": {
        "colab": {
          "base_uri": "https://localhost:8080/"
        },
        "id": "Bg1KvpZRDC4W",
        "outputId": "52e6b69a-a661-4399-b8c1-7457c6e0cdf9"
      },
      "outputs": [
        {
          "output_type": "stream",
          "name": "stdout",
          "text": [
            "Mean Absolute Error: 274463.81\n",
            "Mean Squared Error: 903449428797741.2\n",
            "Root Mean Squared Error: 30057435.5\n"
          ]
        }
      ],
      "source": [
        "print('Mean Absolute Error:', round(metrics.mean_absolute_error(y_test, y_pred),2))\n",
        "print('Mean Squared Error:', round(metrics.mean_squared_error(y_test, y_pred),2))\n",
        "print('Root Mean Squared Error:', round(np.sqrt(metrics.mean_squared_error(y_test, y_pred)),2))"
      ]
    },
    {
      "cell_type": "code",
      "execution_count": 78,
      "metadata": {
        "id": "r3fEduTVDL0f"
      },
      "outputs": [],
      "source": [
        "# Let's increase number of tress from 20 to 200\n",
        "\n",
        "from sklearn.ensemble import RandomForestRegressor\n",
        "regressor = RandomForestRegressor(n_estimators=70, random_state=0)\n",
        "regressor.fit(X_train, y_train)\n",
        "y_pred = regressor.predict(X_test)"
      ]
    },
    {
      "cell_type": "code",
      "execution_count": 79,
      "metadata": {
        "colab": {
          "base_uri": "https://localhost:8080/"
        },
        "id": "hTeoS-1NDaYS",
        "outputId": "2b712ce7-0a67-4ca0-90d1-b3c61d6b1f7b"
      },
      "outputs": [
        {
          "output_type": "stream",
          "name": "stdout",
          "text": [
            "Mean Absolute Error: 274735.85\n",
            "Mean Squared Error: 903449801262874.5\n",
            "Root Mean Squared Error: 30057441.7\n"
          ]
        }
      ],
      "source": [
        "print('Mean Absolute Error:', round(metrics.mean_absolute_error(y_test, y_pred),2))\n",
        "print('Mean Squared Error:', round(metrics.mean_squared_error(y_test, y_pred),2))\n",
        "print('Root Mean Squared Error:', round(np.sqrt(metrics.mean_squared_error(y_test, y_pred)),2))"
      ]
    },
    {
      "cell_type": "code",
      "execution_count": 80,
      "metadata": {
        "id": "r77DYsgLDnPj"
      },
      "outputs": [],
      "source": [
        "# Multiple Linear Regression\n",
        "\n",
        "from sklearn.linear_model import LinearRegression\n",
        "\n",
        "Multi_Linear_model = LinearRegression()\n",
        "Multi_Linear_model.fit(X_train, y_train)\n",
        "y_pred = Multi_Linear_model.predict(X_test)"
      ]
    },
    {
      "cell_type": "code",
      "execution_count": 81,
      "metadata": {
        "colab": {
          "base_uri": "https://localhost:8080/"
        },
        "id": "kUa8-tQED8QS",
        "outputId": "64415023-92a7-4236-eb0a-b813c977b463"
      },
      "outputs": [
        {
          "output_type": "stream",
          "name": "stdout",
          "text": [
            "Mean Absolute Error: 282398.9\n",
            "Mean Squared Error: 903417513408549.5\n",
            "Root Mean Squared Error: 30056904.59\n"
          ]
        }
      ],
      "source": [
        "print('Mean Absolute Error:', round(metrics.mean_absolute_error(y_test, y_pred),2))\n",
        "print('Mean Squared Error:', round(metrics.mean_squared_error(y_test, y_pred),2))\n",
        "print('Root Mean Squared Error:', round(np.sqrt(metrics.mean_squared_error(y_test, y_pred)),2))"
      ]
    },
    {
      "cell_type": "code",
      "source": [
        ""
      ],
      "metadata": {
        "id": "Eo0hka0e1BkX"
      },
      "execution_count": null,
      "outputs": []
    }
  ],
  "metadata": {
    "colab": {
      "collapsed_sections": [],
      "name": "Notebook_1",
      "provenance": [],
      "authorship_tag": "ABX9TyNnvEHym6aca6cSxvVp+zqy",
      "include_colab_link": true
    },
    "kernelspec": {
      "display_name": "Python 3",
      "name": "python3"
    },
    "language_info": {
      "name": "python"
    }
  },
  "nbformat": 4,
  "nbformat_minor": 0
}