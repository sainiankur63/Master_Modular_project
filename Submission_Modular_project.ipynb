{
  "cells": [
    {
      "cell_type": "markdown",
      "metadata": {
        "id": "view-in-github",
        "colab_type": "text"
      },
      "source": [
        "<a href=\"https://colab.research.google.com/github/sainiankur63/Master_Modular_project/blob/main/Submission_Modular_project.ipynb\" target=\"_parent\"><img src=\"https://colab.research.google.com/assets/colab-badge.svg\" alt=\"Open In Colab\"/></a>"
      ]
    },
    {
      "cell_type": "code",
      "execution_count": 1,
      "metadata": {
        "id": "o3X69t6F3ZV6"
      },
      "outputs": [],
      "source": [
        "!pip install pandas numpy pandas matplotlib seaborn opendatasets --quiet"
      ]
    },
    {
      "cell_type": "code",
      "execution_count": 2,
      "metadata": {
        "id": "9KhwNNIC3xLZ"
      },
      "outputs": [],
      "source": [
        "# DataFrame\n",
        "import pandas as pd\n",
        "\n",
        "# Random number generation\n",
        "import random\n",
        "\n",
        "#interface to Graphviz\n",
        "import pydot\n",
        "\n",
        "# Numerical calculations\n",
        "import numpy as np\n",
        "\n",
        "# Downloading Dataset\n",
        "import opendatasets as od\n",
        "\n",
        "# Remove warnings\n",
        "import warnings\n",
        "warnings.filterwarnings('ignore')\n",
        "\n",
        "# Image Display\n",
        "from IPython.display import Image\n",
        "\n",
        "# Data Visualization\n",
        "import seaborn as sns\n",
        "from matplotlib import pyplot as plt\n",
        "\n",
        "# Data Encoding\n",
        "from sklearn import preprocessing\n",
        "\n",
        "# Splitting dataset\n",
        "from sklearn.model_selection import train_test_split\n",
        "\n",
        "# Features scaling\n",
        "from sklearn.preprocessing import MinMaxScaler\n",
        "from sklearn.preprocessing import StandardScaler\n",
        "\n",
        "# Model selection\n",
        "from sklearn.tree import DecisionTreeRegressor\n",
        "from sklearn.ensemble import RandomForestRegressor \n",
        "from xgboost import XGBRegressor\n",
        "\n",
        "# Creating Descision tree\n",
        "from sklearn.tree import export_graphviz\n",
        "\n",
        "# Evaluation Mertrics\n",
        "from sklearn import metrics\n",
        "from sklearn.metrics import r2_score\n",
        "from sklearn.metrics import mean_absolute_error\n",
        "from sklearn.metrics import mean_squared_error\n"
      ]
    },
    {
      "cell_type": "code",
      "execution_count": 3,
      "metadata": {
        "colab": {
          "base_uri": "https://localhost:8080/"
        },
        "id": "5WvADan872me",
        "outputId": "8806f324-83b6-413d-e04d-308a0fa64f84"
      },
      "outputs": [
        {
          "output_type": "stream",
          "name": "stdout",
          "text": [
            "Downloading craigslist-carstrucks-data.zip to ./craigslist-carstrucks-data\n"
          ]
        },
        {
          "output_type": "stream",
          "name": "stderr",
          "text": [
            "100%|██████████| 262M/262M [00:01<00:00, 150MB/s]\n"
          ]
        },
        {
          "output_type": "stream",
          "name": "stdout",
          "text": [
            "\n"
          ]
        }
      ],
      "source": [
        "# Kaggle URL link for used cars data\n",
        "dataset_url = 'https://www.kaggle.com/austinreese/craigslist-carstrucks-data'\n",
        "\n",
        "# Data Download\n",
        "od.download(dataset_url)\n",
        "\n",
        "# Creating directory 'data_dir'\n",
        "data_dir = './craigslist-carstrucks-data'"
      ]
    },
    {
      "cell_type": "code",
      "execution_count": 4,
      "metadata": {
        "id": "MXfvX4lP-Yqc"
      },
      "outputs": [],
      "source": [
        "# Taking 10 percent of the dataset\n",
        "sample_frac = 1\n",
        "\n",
        "# random number sequence\n",
        "random.seed(42)\n",
        "\n",
        "# function for extracting fraction of data\n",
        "def skip_row(row_idx):\n",
        "    if row_idx == 0:\n",
        "        return False\n",
        "    return random.random() > sample_frac\n",
        "\n",
        "# Read data and store in df\n",
        "df = pd.read_csv(data_dir+\"/vehicles.csv\", skiprows=skip_row)"
      ]
    },
    {
      "cell_type": "code",
      "execution_count": 5,
      "metadata": {
        "colab": {
          "base_uri": "https://localhost:8080/",
          "height": 300
        },
        "id": "3qrfL0sSxyff",
        "outputId": "f4732ee8-94f7-44f9-bc1d-941def4b8a24"
      },
      "outputs": [
        {
          "output_type": "execute_result",
          "data": {
            "text/plain": [
              "                   id           price        year      odometer county  \\\n",
              "count      426880.000      426880.000  425675.000    422480.000  0.000   \n",
              "mean   7311486634.224       75199.033    2011.235     98043.331    nan   \n",
              "std       4473170.413    12182282.174       9.452    213881.501    nan   \n",
              "min    7207408119.000           0.000    1900.000         0.000    nan   \n",
              "25%    7308143339.250        5900.000    2008.000     37704.000    nan   \n",
              "50%    7312620821.000       13950.000    2013.000     85548.000    nan   \n",
              "75%    7315253543.500       26485.750    2017.000    133542.500    nan   \n",
              "max    7317101084.000  3736928711.000    2022.000  10000000.000    nan   \n",
              "\n",
              "              lat        long  \n",
              "count  420331.000  420331.000  \n",
              "mean       38.494     -94.749  \n",
              "std         5.842      18.365  \n",
              "min       -84.122    -159.828  \n",
              "25%        34.602    -111.940  \n",
              "50%        39.150     -88.433  \n",
              "75%        42.399     -80.832  \n",
              "max        82.391     173.886  "
            ],
            "text/html": [
              "\n",
              "  <div id=\"df-da38704a-fb3b-4341-8c09-437059e44277\">\n",
              "    <div class=\"colab-df-container\">\n",
              "      <div>\n",
              "<style scoped>\n",
              "    .dataframe tbody tr th:only-of-type {\n",
              "        vertical-align: middle;\n",
              "    }\n",
              "\n",
              "    .dataframe tbody tr th {\n",
              "        vertical-align: top;\n",
              "    }\n",
              "\n",
              "    .dataframe thead th {\n",
              "        text-align: right;\n",
              "    }\n",
              "</style>\n",
              "<table border=\"1\" class=\"dataframe\">\n",
              "  <thead>\n",
              "    <tr style=\"text-align: right;\">\n",
              "      <th></th>\n",
              "      <th>id</th>\n",
              "      <th>price</th>\n",
              "      <th>year</th>\n",
              "      <th>odometer</th>\n",
              "      <th>county</th>\n",
              "      <th>lat</th>\n",
              "      <th>long</th>\n",
              "    </tr>\n",
              "  </thead>\n",
              "  <tbody>\n",
              "    <tr>\n",
              "      <th>count</th>\n",
              "      <td>426880.000</td>\n",
              "      <td>426880.000</td>\n",
              "      <td>425675.000</td>\n",
              "      <td>422480.000</td>\n",
              "      <td>0.000</td>\n",
              "      <td>420331.000</td>\n",
              "      <td>420331.000</td>\n",
              "    </tr>\n",
              "    <tr>\n",
              "      <th>mean</th>\n",
              "      <td>7311486634.224</td>\n",
              "      <td>75199.033</td>\n",
              "      <td>2011.235</td>\n",
              "      <td>98043.331</td>\n",
              "      <td>nan</td>\n",
              "      <td>38.494</td>\n",
              "      <td>-94.749</td>\n",
              "    </tr>\n",
              "    <tr>\n",
              "      <th>std</th>\n",
              "      <td>4473170.413</td>\n",
              "      <td>12182282.174</td>\n",
              "      <td>9.452</td>\n",
              "      <td>213881.501</td>\n",
              "      <td>nan</td>\n",
              "      <td>5.842</td>\n",
              "      <td>18.365</td>\n",
              "    </tr>\n",
              "    <tr>\n",
              "      <th>min</th>\n",
              "      <td>7207408119.000</td>\n",
              "      <td>0.000</td>\n",
              "      <td>1900.000</td>\n",
              "      <td>0.000</td>\n",
              "      <td>nan</td>\n",
              "      <td>-84.122</td>\n",
              "      <td>-159.828</td>\n",
              "    </tr>\n",
              "    <tr>\n",
              "      <th>25%</th>\n",
              "      <td>7308143339.250</td>\n",
              "      <td>5900.000</td>\n",
              "      <td>2008.000</td>\n",
              "      <td>37704.000</td>\n",
              "      <td>nan</td>\n",
              "      <td>34.602</td>\n",
              "      <td>-111.940</td>\n",
              "    </tr>\n",
              "    <tr>\n",
              "      <th>50%</th>\n",
              "      <td>7312620821.000</td>\n",
              "      <td>13950.000</td>\n",
              "      <td>2013.000</td>\n",
              "      <td>85548.000</td>\n",
              "      <td>nan</td>\n",
              "      <td>39.150</td>\n",
              "      <td>-88.433</td>\n",
              "    </tr>\n",
              "    <tr>\n",
              "      <th>75%</th>\n",
              "      <td>7315253543.500</td>\n",
              "      <td>26485.750</td>\n",
              "      <td>2017.000</td>\n",
              "      <td>133542.500</td>\n",
              "      <td>nan</td>\n",
              "      <td>42.399</td>\n",
              "      <td>-80.832</td>\n",
              "    </tr>\n",
              "    <tr>\n",
              "      <th>max</th>\n",
              "      <td>7317101084.000</td>\n",
              "      <td>3736928711.000</td>\n",
              "      <td>2022.000</td>\n",
              "      <td>10000000.000</td>\n",
              "      <td>nan</td>\n",
              "      <td>82.391</td>\n",
              "      <td>173.886</td>\n",
              "    </tr>\n",
              "  </tbody>\n",
              "</table>\n",
              "</div>\n",
              "      <button class=\"colab-df-convert\" onclick=\"convertToInteractive('df-da38704a-fb3b-4341-8c09-437059e44277')\"\n",
              "              title=\"Convert this dataframe to an interactive table.\"\n",
              "              style=\"display:none;\">\n",
              "        \n",
              "  <svg xmlns=\"http://www.w3.org/2000/svg\" height=\"24px\"viewBox=\"0 0 24 24\"\n",
              "       width=\"24px\">\n",
              "    <path d=\"M0 0h24v24H0V0z\" fill=\"none\"/>\n",
              "    <path d=\"M18.56 5.44l.94 2.06.94-2.06 2.06-.94-2.06-.94-.94-2.06-.94 2.06-2.06.94zm-11 1L8.5 8.5l.94-2.06 2.06-.94-2.06-.94L8.5 2.5l-.94 2.06-2.06.94zm10 10l.94 2.06.94-2.06 2.06-.94-2.06-.94-.94-2.06-.94 2.06-2.06.94z\"/><path d=\"M17.41 7.96l-1.37-1.37c-.4-.4-.92-.59-1.43-.59-.52 0-1.04.2-1.43.59L10.3 9.45l-7.72 7.72c-.78.78-.78 2.05 0 2.83L4 21.41c.39.39.9.59 1.41.59.51 0 1.02-.2 1.41-.59l7.78-7.78 2.81-2.81c.8-.78.8-2.07 0-2.86zM5.41 20L4 18.59l7.72-7.72 1.47 1.35L5.41 20z\"/>\n",
              "  </svg>\n",
              "      </button>\n",
              "      \n",
              "  <style>\n",
              "    .colab-df-container {\n",
              "      display:flex;\n",
              "      flex-wrap:wrap;\n",
              "      gap: 12px;\n",
              "    }\n",
              "\n",
              "    .colab-df-convert {\n",
              "      background-color: #E8F0FE;\n",
              "      border: none;\n",
              "      border-radius: 50%;\n",
              "      cursor: pointer;\n",
              "      display: none;\n",
              "      fill: #1967D2;\n",
              "      height: 32px;\n",
              "      padding: 0 0 0 0;\n",
              "      width: 32px;\n",
              "    }\n",
              "\n",
              "    .colab-df-convert:hover {\n",
              "      background-color: #E2EBFA;\n",
              "      box-shadow: 0px 1px 2px rgba(60, 64, 67, 0.3), 0px 1px 3px 1px rgba(60, 64, 67, 0.15);\n",
              "      fill: #174EA6;\n",
              "    }\n",
              "\n",
              "    [theme=dark] .colab-df-convert {\n",
              "      background-color: #3B4455;\n",
              "      fill: #D2E3FC;\n",
              "    }\n",
              "\n",
              "    [theme=dark] .colab-df-convert:hover {\n",
              "      background-color: #434B5C;\n",
              "      box-shadow: 0px 1px 3px 1px rgba(0, 0, 0, 0.15);\n",
              "      filter: drop-shadow(0px 1px 2px rgba(0, 0, 0, 0.3));\n",
              "      fill: #FFFFFF;\n",
              "    }\n",
              "  </style>\n",
              "\n",
              "      <script>\n",
              "        const buttonEl =\n",
              "          document.querySelector('#df-da38704a-fb3b-4341-8c09-437059e44277 button.colab-df-convert');\n",
              "        buttonEl.style.display =\n",
              "          google.colab.kernel.accessAllowed ? 'block' : 'none';\n",
              "\n",
              "        async function convertToInteractive(key) {\n",
              "          const element = document.querySelector('#df-da38704a-fb3b-4341-8c09-437059e44277');\n",
              "          const dataTable =\n",
              "            await google.colab.kernel.invokeFunction('convertToInteractive',\n",
              "                                                     [key], {});\n",
              "          if (!dataTable) return;\n",
              "\n",
              "          const docLinkHtml = 'Like what you see? Visit the ' +\n",
              "            '<a target=\"_blank\" href=https://colab.research.google.com/notebooks/data_table.ipynb>data table notebook</a>'\n",
              "            + ' to learn more about interactive tables.';\n",
              "          element.innerHTML = '';\n",
              "          dataTable['output_type'] = 'display_data';\n",
              "          await google.colab.output.renderOutput(dataTable, element);\n",
              "          const docLink = document.createElement('div');\n",
              "          docLink.innerHTML = docLinkHtml;\n",
              "          element.appendChild(docLink);\n",
              "        }\n",
              "      </script>\n",
              "    </div>\n",
              "  </div>\n",
              "  "
            ]
          },
          "metadata": {},
          "execution_count": 5
        }
      ],
      "source": [
        "df.describe().applymap(lambda x: f\"{x:0.3f}\")"
      ]
    },
    {
      "cell_type": "markdown",
      "metadata": {
        "id": "oLrC1WLkALnx"
      },
      "source": [
        "**DROP FEATURES**"
      ]
    },
    {
      "cell_type": "code",
      "execution_count": 6,
      "metadata": {
        "id": "bl6cnW7I_w1D"
      },
      "outputs": [],
      "source": [
        "# Dropping features \n",
        "df.drop(['id', 'url','region_url', 'VIN', 'image_url', 'description', 'county', 'state', 'lat', 'long', 'posting_date'],axis =1 , inplace = True)"
      ]
    },
    {
      "cell_type": "markdown",
      "metadata": {
        "id": "jVGZtQW_AqNl"
      },
      "source": [
        "**OUTLIER REMOVAL**"
      ]
    },
    {
      "cell_type": "code",
      "execution_count": 7,
      "metadata": {
        "colab": {
          "base_uri": "https://localhost:8080/"
        },
        "id": "y6NV6SleAVv5",
        "outputId": "47baaa35-b095-4f51-cf60-86906849d8de"
      },
      "outputs": [
        {
          "output_type": "stream",
          "name": "stdout",
          "text": [
            "Price value for LOWER bound:  -24978.625\n",
            "Price value for UPPER bound:  57364.375\n"
          ]
        }
      ],
      "source": [
        "# OUTLIER IN PRICE \n",
        "\n",
        "# Lets compute the Interquantile range to calculate the boundaries\n",
        "IQR=df.price.quantile(0.75)-df.price.quantile(0.25)\n",
        "\n",
        "# Extreme outliers\n",
        "lower_lim_price = df['price'].quantile(0.25) - ( IQR * 1.5 )\n",
        "upper_lim_price = df['price'].quantile(0.75) +  ( IQR * 1.5 )\n",
        "\n",
        "print(\"Price value for LOWER bound: \",lower_lim_price)\n",
        "print(\"Price value for UPPER bound: \",upper_lim_price)\n",
        "\n",
        "# Taking 500 dollars as min and 57364 dollars max value for price\n",
        "df = df[(df.price >=  480) & (df.price <= 57364)]\n",
        "\n"
      ]
    },
    {
      "cell_type": "code",
      "execution_count": 8,
      "metadata": {
        "colab": {
          "base_uri": "https://localhost:8080/"
        },
        "id": "bjedqZmZBDH1",
        "outputId": "e0f44423-e555-4797-e922-afc38d733c94"
      },
      "outputs": [
        {
          "output_type": "stream",
          "name": "stdout",
          "text": [
            "Minimum Year value :  1994.5\n",
            "Maximum Year value:  2030.5\n"
          ]
        }
      ],
      "source": [
        "# OUTLIER IN YEAR\n",
        "# Lets compute the Interquantile range to calculate the boundaries\n",
        "IQR=df.year.quantile(0.75)-df.year.quantile(0.25)\n",
        "\n",
        "# Extreme outliers\n",
        "lower_lim_year = df['year'].quantile(0.25) - ( IQR * 1.5 )\n",
        "upper_lim_year = df['year'].quantile(0.75) +  ( IQR * 1.5 )\n",
        "\n",
        "print(\"Minimum Year value : \",lower_lim_year)\n",
        "print(\"Maximum Year value: \",upper_lim_year)\n",
        "\n",
        "# Taking year greater than 1994\n",
        "df = df[(df['year'] >=  1994)]\n",
        "\n"
      ]
    },
    {
      "cell_type": "code",
      "execution_count": 9,
      "metadata": {
        "colab": {
          "base_uri": "https://localhost:8080/"
        },
        "id": "JON0jATiCrxk",
        "outputId": "c372106f-74c4-42dc-bcb3-8ce950b2f5a0"
      },
      "outputs": [
        {
          "output_type": "stream",
          "name": "stdout",
          "text": [
            "Min odometer value :  -106585.0\n",
            "Max odometer value:  284751.0\n"
          ]
        }
      ],
      "source": [
        "# OUTLIER IN ODOMETER\n",
        "\n",
        "#### Lets compute the Interquantile range to calculate the boundaries\n",
        "IQR = df.odometer.quantile(0.75) - df.odometer.quantile(0.25)\n",
        "\n",
        "#### Extreme outliers\n",
        "lower_lim_odometer = df['odometer'].quantile(0.25) - ( IQR * 1.5 )\n",
        "upper_lim_odometer = df['odometer'].quantile(0.75) + ( IQR * 1.5 )\n",
        "\n",
        "print(\"Min odometer value : \",lower_lim_odometer)\n",
        "print(\"Max odometer value: \",upper_lim_odometer)\n",
        "# Set 200 miles as the lower limit and 284751 miles Upper limit \n",
        "df = df[(df.odometer >=  200) & (df.odometer <= 284751)]"
      ]
    },
    {
      "cell_type": "markdown",
      "metadata": {
        "id": "k5l8Gr6oDGyD"
      },
      "source": [
        "**NULL FEATURE DETECTION AND REPLACING MISSING VALUES**"
      ]
    },
    {
      "cell_type": "code",
      "execution_count": 10,
      "metadata": {
        "colab": {
          "base_uri": "https://localhost:8080/",
          "height": 521
        },
        "id": "tguJM6uOCzIz",
        "outputId": "0f440a74-04f5-42e2-c5ca-d60bbf51f443"
      },
      "outputs": [
        {
          "output_type": "execute_result",
          "data": {
            "text/plain": [
              "Text(0.5, 1.0, 'Graph for NULL data ')"
            ]
          },
          "metadata": {},
          "execution_count": 10
        },
        {
          "output_type": "display_data",
          "data": {
            "text/plain": [
              "<Figure size 1080x504 with 2 Axes>"
            ],
            "image/png": "[encoded data removed]"
          },
          "metadata": {
            "needs_background": "light"
          }
        }
      ],
      "source": [
        "# DETECTING NULL VALUES IN THE DATA\n",
        "\n",
        "import matplotlib.pyplot as plt\n",
        "import seaborn as sns\n",
        "\n",
        "plt.figure(figsize=(15,7))\n",
        " \n",
        "plt.subplot(1,2,1) \n",
        "# Removing the missing percentages greater than zero.\n",
        "missing_percentages =df.isna().sum().sort_values(ascending=False)/len(df) \n",
        "# Plot a graph to check missing percentages \n",
        "missing_percentages[missing_percentages!=0].plot(kind='barh')\n",
        "plt.title(\"Graph for NULL data in percentage \")\n",
        "plt.xlabel(\"% of missing values\")\n",
        "plt.ylabel(\"Features\")\n",
        "\n",
        "plt.subplot(1,2,2)\n",
        "# creating a graph to check null values\n",
        "sns.heatmap(df.isnull(),yticklabels=False,cbar=False,cmap='viridis')\n",
        "plt.title(\"Graph for NULL data \")"
      ]
    },
    {
      "cell_type": "code",
      "execution_count": 11,
      "metadata": {
        "colab": {
          "base_uri": "https://localhost:8080/",
          "height": 520
        },
        "id": "Ap6hI40eEk-B",
        "outputId": "60350c5d-369e-4596-f9b8-d806dd23205e"
      },
      "outputs": [
        {
          "output_type": "execute_result",
          "data": {
            "text/plain": [
              "              Null_Values  percent_missing\n",
              "size               253836        72.049661\n",
              "cylinders          144240        40.941565\n",
              "condition          131971        37.459091\n",
              "drive              106347        30.185889\n",
              "paint_color         99961        28.373265\n",
              "type                72227        20.501154\n",
              "manufacturer        10389         2.948849\n",
              "title_status         5938         1.685462\n",
              "model                2877         0.816617\n",
              "fuel                 2035         0.577621\n",
              "transmission         1373         0.389717\n",
              "region                  0         0.000000\n",
              "price                   0         0.000000\n",
              "year                    0         0.000000\n",
              "odometer                0         0.000000"
            ],
            "text/html": [
              "\n",
              "  <div id=\"df-29970a73-8f50-40a7-8b9e-79416c876795\">\n",
              "    <div class=\"colab-df-container\">\n",
              "      <div>\n",
              "<style scoped>\n",
              "    .dataframe tbody tr th:only-of-type {\n",
              "        vertical-align: middle;\n",
              "    }\n",
              "\n",
              "    .dataframe tbody tr th {\n",
              "        vertical-align: top;\n",
              "    }\n",
              "\n",
              "    .dataframe thead th {\n",
              "        text-align: right;\n",
              "    }\n",
              "</style>\n",
              "<table border=\"1\" class=\"dataframe\">\n",
              "  <thead>\n",
              "    <tr style=\"text-align: right;\">\n",
              "      <th></th>\n",
              "      <th>Null_Values</th>\n",
              "      <th>percent_missing</th>\n",
              "    </tr>\n",
              "  </thead>\n",
              "  <tbody>\n",
              "    <tr>\n",
              "      <th>size</th>\n",
              "      <td>253836</td>\n",
              "      <td>72.049661</td>\n",
              "    </tr>\n",
              "    <tr>\n",
              "      <th>cylinders</th>\n",
              "      <td>144240</td>\n",
              "      <td>40.941565</td>\n",
              "    </tr>\n",
              "    <tr>\n",
              "      <th>condition</th>\n",
              "      <td>131971</td>\n",
              "      <td>37.459091</td>\n",
              "    </tr>\n",
              "    <tr>\n",
              "      <th>drive</th>\n",
              "      <td>106347</td>\n",
              "      <td>30.185889</td>\n",
              "    </tr>\n",
              "    <tr>\n",
              "      <th>paint_color</th>\n",
              "      <td>99961</td>\n",
              "      <td>28.373265</td>\n",
              "    </tr>\n",
              "    <tr>\n",
              "      <th>type</th>\n",
              "      <td>72227</td>\n",
              "      <td>20.501154</td>\n",
              "    </tr>\n",
              "    <tr>\n",
              "      <th>manufacturer</th>\n",
              "      <td>10389</td>\n",
              "      <td>2.948849</td>\n",
              "    </tr>\n",
              "    <tr>\n",
              "      <th>title_status</th>\n",
              "      <td>5938</td>\n",
              "      <td>1.685462</td>\n",
              "    </tr>\n",
              "    <tr>\n",
              "      <th>model</th>\n",
              "      <td>2877</td>\n",
              "      <td>0.816617</td>\n",
              "    </tr>\n",
              "    <tr>\n",
              "      <th>fuel</th>\n",
              "      <td>2035</td>\n",
              "      <td>0.577621</td>\n",
              "    </tr>\n",
              "    <tr>\n",
              "      <th>transmission</th>\n",
              "      <td>1373</td>\n",
              "      <td>0.389717</td>\n",
              "    </tr>\n",
              "    <tr>\n",
              "      <th>region</th>\n",
              "      <td>0</td>\n",
              "      <td>0.000000</td>\n",
              "    </tr>\n",
              "    <tr>\n",
              "      <th>price</th>\n",
              "      <td>0</td>\n",
              "      <td>0.000000</td>\n",
              "    </tr>\n",
              "    <tr>\n",
              "      <th>year</th>\n",
              "      <td>0</td>\n",
              "      <td>0.000000</td>\n",
              "    </tr>\n",
              "    <tr>\n",
              "      <th>odometer</th>\n",
              "      <td>0</td>\n",
              "      <td>0.000000</td>\n",
              "    </tr>\n",
              "  </tbody>\n",
              "</table>\n",
              "</div>\n",
              "      <button class=\"colab-df-convert\" onclick=\"convertToInteractive('df-29970a73-8f50-40a7-8b9e-79416c876795')\"\n",
              "              title=\"Convert this dataframe to an interactive table.\"\n",
              "              style=\"display:none;\">\n",
              "        \n",
              "  <svg xmlns=\"http://www.w3.org/2000/svg\" height=\"24px\"viewBox=\"0 0 24 24\"\n",
              "       width=\"24px\">\n",
              "    <path d=\"M0 0h24v24H0V0z\" fill=\"none\"/>\n",
              "    <path d=\"M18.56 5.44l.94 2.06.94-2.06 2.06-.94-2.06-.94-.94-2.06-.94 2.06-2.06.94zm-11 1L8.5 8.5l.94-2.06 2.06-.94-2.06-.94L8.5 2.5l-.94 2.06-2.06.94zm10 10l.94 2.06.94-2.06 2.06-.94-2.06-.94-.94-2.06-.94 2.06-2.06.94z\"/><path d=\"M17.41 7.96l-1.37-1.37c-.4-.4-.92-.59-1.43-.59-.52 0-1.04.2-1.43.59L10.3 9.45l-7.72 7.72c-.78.78-.78 2.05 0 2.83L4 21.41c.39.39.9.59 1.41.59.51 0 1.02-.2 1.41-.59l7.78-7.78 2.81-2.81c.8-.78.8-2.07 0-2.86zM5.41 20L4 18.59l7.72-7.72 1.47 1.35L5.41 20z\"/>\n",
              "  </svg>\n",
              "      </button>\n",
              "      \n",
              "  <style>\n",
              "    .colab-df-container {\n",
              "      display:flex;\n",
              "      flex-wrap:wrap;\n",
              "      gap: 12px;\n",
              "    }\n",
              "\n",
              "    .colab-df-convert {\n",
              "      background-color: #E8F0FE;\n",
              "      border: none;\n",
              "      border-radius: 50%;\n",
              "      cursor: pointer;\n",
              "      display: none;\n",
              "      fill: #1967D2;\n",
              "      height: 32px;\n",
              "      padding: 0 0 0 0;\n",
              "      width: 32px;\n",
              "    }\n",
              "\n",
              "    .colab-df-convert:hover {\n",
              "      background-color: #E2EBFA;\n",
              "      box-shadow: 0px 1px 2px rgba(60, 64, 67, 0.3), 0px 1px 3px 1px rgba(60, 64, 67, 0.15);\n",
              "      fill: #174EA6;\n",
              "    }\n",
              "\n",
              "    [theme=dark] .colab-df-convert {\n",
              "      background-color: #3B4455;\n",
              "      fill: #D2E3FC;\n",
              "    }\n",
              "\n",
              "    [theme=dark] .colab-df-convert:hover {\n",
              "      background-color: #434B5C;\n",
              "      box-shadow: 0px 1px 3px 1px rgba(0, 0, 0, 0.15);\n",
              "      filter: drop-shadow(0px 1px 2px rgba(0, 0, 0, 0.3));\n",
              "      fill: #FFFFFF;\n",
              "    }\n",
              "  </style>\n",
              "\n",
              "      <script>\n",
              "        const buttonEl =\n",
              "          document.querySelector('#df-29970a73-8f50-40a7-8b9e-79416c876795 button.colab-df-convert');\n",
              "        buttonEl.style.display =\n",
              "          google.colab.kernel.accessAllowed ? 'block' : 'none';\n",
              "\n",
              "        async function convertToInteractive(key) {\n",
              "          const element = document.querySelector('#df-29970a73-8f50-40a7-8b9e-79416c876795');\n",
              "          const dataTable =\n",
              "            await google.colab.kernel.invokeFunction('convertToInteractive',\n",
              "                                                     [key], {});\n",
              "          if (!dataTable) return;\n",
              "\n",
              "          const docLinkHtml = 'Like what you see? Visit the ' +\n",
              "            '<a target=\"_blank\" href=https://colab.research.google.com/notebooks/data_table.ipynb>data table notebook</a>'\n",
              "            + ' to learn more about interactive tables.';\n",
              "          element.innerHTML = '';\n",
              "          dataTable['output_type'] = 'display_data';\n",
              "          await google.colab.output.renderOutput(dataTable, element);\n",
              "          const docLink = document.createElement('div');\n",
              "          docLink.innerHTML = docLinkHtml;\n",
              "          element.appendChild(docLink);\n",
              "        }\n",
              "      </script>\n",
              "    </div>\n",
              "  </div>\n",
              "  "
            ]
          },
          "metadata": {},
          "execution_count": 11
        }
      ],
      "source": [
        "# Calculating percentage of NULL Values\n",
        "\n",
        "Missing_values = df.isna().sum()\n",
        "Missing_Percentage = df.isnull().sum() * 100 / len(df)\n",
        "df_missing = pd.DataFrame({'Null_Values' : Missing_values,'percent_missing': Missing_Percentage})\n",
        "df_missing.sort_values(['percent_missing'],ascending=False)"
      ]
    },
    {
      "cell_type": "markdown",
      "metadata": {
        "id": "DNvxKVOrFV0m"
      },
      "source": [
        "**Handling Missing and Null Values**"
      ]
    },
    {
      "cell_type": "code",
      "execution_count": 12,
      "metadata": {
        "colab": {
          "base_uri": "https://localhost:8080/"
        },
        "id": "VqCYYUo9FHQI",
        "outputId": "311fae30-7462-495a-cfab-8c3289a6f396"
      },
      "outputs": [
        {
          "output_type": "stream",
          "name": "stdout",
          "text": [
            "Number of null values before handling in transmission : 1373\n",
            "Number of null values After handling in transmission : 0\n"
          ]
        }
      ],
      "source": [
        "# Handling Missing and Null Values (Transmission)\n",
        "print(\"Number of null values before handling in transmission :\" ,df['transmission'].isnull().sum())\n",
        "\n",
        "# Replacing null values in transmission column\n",
        "df['transmission'] = df['transmission'].fillna(df.transmission.mode()[0])\n",
        "\n",
        "print(\"Number of null values After handling in transmission :\" ,df['transmission'].isnull().sum())"
      ]
    },
    {
      "cell_type": "code",
      "execution_count": 13,
      "metadata": {
        "colab": {
          "base_uri": "https://localhost:8080/"
        },
        "id": "bFhJjw9CFlFd",
        "outputId": "8edbce81-7bb0-46f4-d8ff-5e0621fc6bcf"
      },
      "outputs": [
        {
          "output_type": "stream",
          "name": "stdout",
          "text": [
            "Number of null values before handling in fuel : 2035\n",
            "Number of null values after handling in fuel : 0\n"
          ]
        }
      ],
      "source": [
        "# Handling Missing and Null Values (Fuel)\n",
        "print(\"Number of null values before handling in fuel :\" ,df['fuel'].isnull().sum())\n",
        "\n",
        "# Replacing null values in fuel column\n",
        "df['fuel'] = df['fuel'].fillna(df.fuel.mode()[0])\n",
        "\n",
        "print(\"Number of null values after handling in fuel :\" ,df['fuel'].isnull().sum())"
      ]
    },
    {
      "cell_type": "code",
      "execution_count": 14,
      "metadata": {
        "colab": {
          "base_uri": "https://localhost:8080/"
        },
        "id": "IJe5B7d6F-Y7",
        "outputId": "1098e2d0-b8f0-415f-a0fe-aa0d42ba8ee1"
      },
      "outputs": [
        {
          "output_type": "stream",
          "name": "stdout",
          "text": [
            "Number of null values before handling in model : 2877\n",
            "Number of null values after handling in model : 0\n"
          ]
        }
      ],
      "source": [
        "# Handling Missing and Null Values (Fuel)\n",
        "print(\"Number of null values before handling in model :\" ,df['model'].isnull().sum())\n",
        "# Replacing null values in model column\n",
        "df['model'] = df['model'].fillna(df.title_status.mode()[0])\n",
        "print(\"Number of null values after handling in model :\" ,df['model'].isnull().sum())"
      ]
    },
    {
      "cell_type": "code",
      "execution_count": 15,
      "metadata": {
        "colab": {
          "base_uri": "https://localhost:8080/"
        },
        "id": "HV7tZ-UaGj2M",
        "outputId": "d39a5b56-cc15-476e-8704-c046211327f2"
      },
      "outputs": [
        {
          "output_type": "stream",
          "name": "stdout",
          "text": [
            "Number of null values before handling in title_status : 5938\n",
            "Number of null values after handling in title_status : 0\n"
          ]
        }
      ],
      "source": [
        "# Handling Missing and Null Values (Title_status)\n",
        "print(\"Number of null values before handling in title_status :\" ,df['title_status'].isnull().sum())\n",
        "# Replacing null values in title_status column\n",
        "df['title_status'] = df['title_status'].fillna(df.title_status.mode()[0])\n",
        "print(\"Number of null values after handling in title_status :\" ,df['title_status'].isnull().sum())"
      ]
    },
    {
      "cell_type": "code",
      "execution_count": 16,
      "metadata": {
        "colab": {
          "base_uri": "https://localhost:8080/"
        },
        "id": "VE6WGU2oGuRS",
        "outputId": "e4da083a-03eb-40da-fbea-06fb21efff79"
      },
      "outputs": [
        {
          "output_type": "stream",
          "name": "stdout",
          "text": [
            "Number of null values before handling in manufacturer : 10389\n",
            "Number of null values after handling in manufacturer : 0\n"
          ]
        }
      ],
      "source": [
        "# Handling Missing and Null Values (manufacturer)\n",
        "print(\"Number of null values before handling in manufacturer :\" ,df['manufacturer'].isnull().sum())\n",
        "# Replacing null values in manufacturer column\n",
        "df['manufacturer'] = df['manufacturer'].fillna(df.manufacturer.mode()[0])\n",
        "print(\"Number of null values after handling in manufacturer :\" ,df['manufacturer'].isnull().sum())"
      ]
    },
    {
      "cell_type": "code",
      "execution_count": 17,
      "metadata": {
        "colab": {
          "base_uri": "https://localhost:8080/"
        },
        "id": "SFO6sXL2HBmW",
        "outputId": "d23b1e5a-2498-4c7e-bbc5-cf86f26853d4"
      },
      "outputs": [
        {
          "output_type": "stream",
          "name": "stdout",
          "text": [
            "Number of null values before handling in type : 72227\n",
            "Number of null values after handling in type : 0\n"
          ]
        }
      ],
      "source": [
        "# Handling Missing and Null Values (type)\n",
        "print(\"Number of null values before handling in type :\" ,df['type'].isnull().sum())\n",
        "# Replacing null values in type column\n",
        "df['type'] = df['type'].fillna(df.type.mode()[0])\n",
        "print(\"Number of null values after handling in type :\" ,df['type'].isnull().sum())"
      ]
    },
    {
      "cell_type": "code",
      "execution_count": 18,
      "metadata": {
        "colab": {
          "base_uri": "https://localhost:8080/"
        },
        "id": "DiKuIF-XHO4o",
        "outputId": "8f25c49f-e98a-4d9e-af54-bb61d2c17d66"
      },
      "outputs": [
        {
          "output_type": "stream",
          "name": "stdout",
          "text": [
            "Number of null values before handling in paint_color : 99961\n",
            "Number of null values after handling in paint_color : 0\n"
          ]
        }
      ],
      "source": [
        "# Handling Missing and Null Values (paint_color)\n",
        "print(\"Number of null values before handling in paint_color :\" ,df['paint_color'].isnull().sum())\n",
        "# Replacing null values in paint_color column\n",
        "df['paint_color'] = df['paint_color'].fillna(df.paint_color.mode()[0])\n",
        "print(\"Number of null values after handling in paint_color :\" ,df['paint_color'].isnull().sum())"
      ]
    },
    {
      "cell_type": "code",
      "execution_count": 19,
      "metadata": {
        "colab": {
          "base_uri": "https://localhost:8080/"
        },
        "id": "ctxs3qmaHK9a",
        "outputId": "d1c53200-dfe9-4caa-c305-bf3b4f441fd7"
      },
      "outputs": [
        {
          "output_type": "stream",
          "name": "stdout",
          "text": [
            "Number of null values before handling in drive : 106347\n",
            "Number of null values after handling in drive : 0\n"
          ]
        }
      ],
      "source": [
        "# Handling Missing and Null Values (drive)\n",
        "print(\"Number of null values before handling in drive :\" ,df['drive'].isnull().sum())\n",
        "# Replacing null values in drive column\n",
        "df['drive'] = df['drive'].fillna(df.drive.mode()[0])\n",
        "print(\"Number of null values after handling in drive :\" ,df['drive'].isnull().sum())"
      ]
    },
    {
      "cell_type": "code",
      "execution_count": 20,
      "metadata": {
        "colab": {
          "base_uri": "https://localhost:8080/"
        },
        "id": "0aygamBZHhoK",
        "outputId": "941f9d1c-1471-45fd-c908-f1461ef4b75d"
      },
      "outputs": [
        {
          "output_type": "stream",
          "name": "stdout",
          "text": [
            "Number of null values before handling in condition : 131971\n",
            "Number of null values after handling in condition : 0\n"
          ]
        }
      ],
      "source": [
        "# Handling Missing and Null Values (condition)\n",
        "print(\"Number of null values before handling in condition :\" ,df['condition'].isnull().sum())\n",
        "# Replacing null values in condition column\n",
        "df['condition'] = df['condition'].fillna(df.condition.mode()[0])\n",
        "print(\"Number of null values after handling in condition :\" ,df['condition'].isnull().sum())"
      ]
    },
    {
      "cell_type": "code",
      "execution_count": 21,
      "metadata": {
        "colab": {
          "base_uri": "https://localhost:8080/"
        },
        "id": "FmSlYooHHuVg",
        "outputId": "f19b4591-4e9a-4c59-d33d-3e68fd84ab60"
      },
      "outputs": [
        {
          "output_type": "stream",
          "name": "stdout",
          "text": [
            "Number of null values before handling in cylinders : 144240\n",
            "Number of null values after handling in cylinders : 0\n"
          ]
        }
      ],
      "source": [
        "# Handling Missing and Null Values (cylinders)\n",
        "print(\"Number of null values before handling in cylinders :\" ,df['cylinders'].isnull().sum())\n",
        "# Replacing null values in cylinders column\n",
        "df['cylinders'] = df['cylinders'].fillna(df.cylinders.mode()[0])\n",
        "print(\"Number of null values after handling in cylinders :\" ,df['cylinders'].isnull().sum())"
      ]
    },
    {
      "cell_type": "code",
      "execution_count": 22,
      "metadata": {
        "colab": {
          "base_uri": "https://localhost:8080/"
        },
        "id": "Xf6cyqQwH7xF",
        "outputId": "85b0d2bd-867c-4850-f436-fe3473126782"
      },
      "outputs": [
        {
          "output_type": "stream",
          "name": "stdout",
          "text": [
            "Number of null values before handling in size : 253836\n",
            "Number of null values after handling in size : 0\n"
          ]
        }
      ],
      "source": [
        "# Handling Missing and Null Values (size)\n",
        "print(\"Number of null values before handling in size :\" ,df['size'].isnull().sum())\n",
        "# Replacing null values in size column\n",
        "df['size'] = df['size'].fillna(df['size'].mode()[0])\n",
        "print(\"Number of null values after handling in size :\" ,df['size'].isnull().sum())"
      ]
    },
    {
      "cell_type": "code",
      "execution_count": 23,
      "metadata": {
        "colab": {
          "base_uri": "https://localhost:8080/",
          "height": 520
        },
        "id": "JWeB7NavII__",
        "outputId": "a616d8a7-cbf8-4749-e57a-c8a44eaacf19"
      },
      "outputs": [
        {
          "output_type": "execute_result",
          "data": {
            "text/plain": [
              "              Null_Values  percent_missing\n",
              "region                  0              0.0\n",
              "price                   0              0.0\n",
              "year                    0              0.0\n",
              "manufacturer            0              0.0\n",
              "model                   0              0.0\n",
              "condition               0              0.0\n",
              "cylinders               0              0.0\n",
              "fuel                    0              0.0\n",
              "odometer                0              0.0\n",
              "title_status            0              0.0\n",
              "transmission            0              0.0\n",
              "drive                   0              0.0\n",
              "size                    0              0.0\n",
              "type                    0              0.0\n",
              "paint_color             0              0.0"
            ],
            "text/html": [
              "\n",
              "  <div id=\"df-1d63125c-c1d7-471f-bbcb-5553a57cd616\">\n",
              "    <div class=\"colab-df-container\">\n",
              "      <div>\n",
              "<style scoped>\n",
              "    .dataframe tbody tr th:only-of-type {\n",
              "        vertical-align: middle;\n",
              "    }\n",
              "\n",
              "    .dataframe tbody tr th {\n",
              "        vertical-align: top;\n",
              "    }\n",
              "\n",
              "    .dataframe thead th {\n",
              "        text-align: right;\n",
              "    }\n",
              "</style>\n",
              "<table border=\"1\" class=\"dataframe\">\n",
              "  <thead>\n",
              "    <tr style=\"text-align: right;\">\n",
              "      <th></th>\n",
              "      <th>Null_Values</th>\n",
              "      <th>percent_missing</th>\n",
              "    </tr>\n",
              "  </thead>\n",
              "  <tbody>\n",
              "    <tr>\n",
              "      <th>region</th>\n",
              "      <td>0</td>\n",
              "      <td>0.0</td>\n",
              "    </tr>\n",
              "    <tr>\n",
              "      <th>price</th>\n",
              "      <td>0</td>\n",
              "      <td>0.0</td>\n",
              "    </tr>\n",
              "    <tr>\n",
              "      <th>year</th>\n",
              "      <td>0</td>\n",
              "      <td>0.0</td>\n",
              "    </tr>\n",
              "    <tr>\n",
              "      <th>manufacturer</th>\n",
              "      <td>0</td>\n",
              "      <td>0.0</td>\n",
              "    </tr>\n",
              "    <tr>\n",
              "      <th>model</th>\n",
              "      <td>0</td>\n",
              "      <td>0.0</td>\n",
              "    </tr>\n",
              "    <tr>\n",
              "      <th>condition</th>\n",
              "      <td>0</td>\n",
              "      <td>0.0</td>\n",
              "    </tr>\n",
              "    <tr>\n",
              "      <th>cylinders</th>\n",
              "      <td>0</td>\n",
              "      <td>0.0</td>\n",
              "    </tr>\n",
              "    <tr>\n",
              "      <th>fuel</th>\n",
              "      <td>0</td>\n",
              "      <td>0.0</td>\n",
              "    </tr>\n",
              "    <tr>\n",
              "      <th>odometer</th>\n",
              "      <td>0</td>\n",
              "      <td>0.0</td>\n",
              "    </tr>\n",
              "    <tr>\n",
              "      <th>title_status</th>\n",
              "      <td>0</td>\n",
              "      <td>0.0</td>\n",
              "    </tr>\n",
              "    <tr>\n",
              "      <th>transmission</th>\n",
              "      <td>0</td>\n",
              "      <td>0.0</td>\n",
              "    </tr>\n",
              "    <tr>\n",
              "      <th>drive</th>\n",
              "      <td>0</td>\n",
              "      <td>0.0</td>\n",
              "    </tr>\n",
              "    <tr>\n",
              "      <th>size</th>\n",
              "      <td>0</td>\n",
              "      <td>0.0</td>\n",
              "    </tr>\n",
              "    <tr>\n",
              "      <th>type</th>\n",
              "      <td>0</td>\n",
              "      <td>0.0</td>\n",
              "    </tr>\n",
              "    <tr>\n",
              "      <th>paint_color</th>\n",
              "      <td>0</td>\n",
              "      <td>0.0</td>\n",
              "    </tr>\n",
              "  </tbody>\n",
              "</table>\n",
              "</div>\n",
              "      <button class=\"colab-df-convert\" onclick=\"convertToInteractive('df-1d63125c-c1d7-471f-bbcb-5553a57cd616')\"\n",
              "              title=\"Convert this dataframe to an interactive table.\"\n",
              "              style=\"display:none;\">\n",
              "        \n",
              "  <svg xmlns=\"http://www.w3.org/2000/svg\" height=\"24px\"viewBox=\"0 0 24 24\"\n",
              "       width=\"24px\">\n",
              "    <path d=\"M0 0h24v24H0V0z\" fill=\"none\"/>\n",
              "    <path d=\"M18.56 5.44l.94 2.06.94-2.06 2.06-.94-2.06-.94-.94-2.06-.94 2.06-2.06.94zm-11 1L8.5 8.5l.94-2.06 2.06-.94-2.06-.94L8.5 2.5l-.94 2.06-2.06.94zm10 10l.94 2.06.94-2.06 2.06-.94-2.06-.94-.94-2.06-.94 2.06-2.06.94z\"/><path d=\"M17.41 7.96l-1.37-1.37c-.4-.4-.92-.59-1.43-.59-.52 0-1.04.2-1.43.59L10.3 9.45l-7.72 7.72c-.78.78-.78 2.05 0 2.83L4 21.41c.39.39.9.59 1.41.59.51 0 1.02-.2 1.41-.59l7.78-7.78 2.81-2.81c.8-.78.8-2.07 0-2.86zM5.41 20L4 18.59l7.72-7.72 1.47 1.35L5.41 20z\"/>\n",
              "  </svg>\n",
              "      </button>\n",
              "      \n",
              "  <style>\n",
              "    .colab-df-container {\n",
              "      display:flex;\n",
              "      flex-wrap:wrap;\n",
              "      gap: 12px;\n",
              "    }\n",
              "\n",
              "    .colab-df-convert {\n",
              "      background-color: #E8F0FE;\n",
              "      border: none;\n",
              "      border-radius: 50%;\n",
              "      cursor: pointer;\n",
              "      display: none;\n",
              "      fill: #1967D2;\n",
              "      height: 32px;\n",
              "      padding: 0 0 0 0;\n",
              "      width: 32px;\n",
              "    }\n",
              "\n",
              "    .colab-df-convert:hover {\n",
              "      background-color: #E2EBFA;\n",
              "      box-shadow: 0px 1px 2px rgba(60, 64, 67, 0.3), 0px 1px 3px 1px rgba(60, 64, 67, 0.15);\n",
              "      fill: #174EA6;\n",
              "    }\n",
              "\n",
              "    [theme=dark] .colab-df-convert {\n",
              "      background-color: #3B4455;\n",
              "      fill: #D2E3FC;\n",
              "    }\n",
              "\n",
              "    [theme=dark] .colab-df-convert:hover {\n",
              "      background-color: #434B5C;\n",
              "      box-shadow: 0px 1px 3px 1px rgba(0, 0, 0, 0.15);\n",
              "      filter: drop-shadow(0px 1px 2px rgba(0, 0, 0, 0.3));\n",
              "      fill: #FFFFFF;\n",
              "    }\n",
              "  </style>\n",
              "\n",
              "      <script>\n",
              "        const buttonEl =\n",
              "          document.querySelector('#df-1d63125c-c1d7-471f-bbcb-5553a57cd616 button.colab-df-convert');\n",
              "        buttonEl.style.display =\n",
              "          google.colab.kernel.accessAllowed ? 'block' : 'none';\n",
              "\n",
              "        async function convertToInteractive(key) {\n",
              "          const element = document.querySelector('#df-1d63125c-c1d7-471f-bbcb-5553a57cd616');\n",
              "          const dataTable =\n",
              "            await google.colab.kernel.invokeFunction('convertToInteractive',\n",
              "                                                     [key], {});\n",
              "          if (!dataTable) return;\n",
              "\n",
              "          const docLinkHtml = 'Like what you see? Visit the ' +\n",
              "            '<a target=\"_blank\" href=https://colab.research.google.com/notebooks/data_table.ipynb>data table notebook</a>'\n",
              "            + ' to learn more about interactive tables.';\n",
              "          element.innerHTML = '';\n",
              "          dataTable['output_type'] = 'display_data';\n",
              "          await google.colab.output.renderOutput(dataTable, element);\n",
              "          const docLink = document.createElement('div');\n",
              "          docLink.innerHTML = docLinkHtml;\n",
              "          element.appendChild(docLink);\n",
              "        }\n",
              "      </script>\n",
              "    </div>\n",
              "  </div>\n",
              "  "
            ]
          },
          "metadata": {},
          "execution_count": 23
        }
      ],
      "source": [
        "# Checking null values again\n",
        "Missing_values = df.isna().sum()\n",
        "Missing_Percentage = df.isnull().sum() * 100 / len(df)\n",
        "df_missing = pd.DataFrame({'Null_Values' : Missing_values,'percent_missing': Missing_Percentage})\n",
        "df_missing.sort_values(['percent_missing'],ascending=False)"
      ]
    },
    {
      "cell_type": "markdown",
      "metadata": {
        "id": "LEhK8BkIIaUX"
      },
      "source": [
        "**Encoding categorical variables**"
      ]
    },
    {
      "cell_type": "code",
      "execution_count": 24,
      "metadata": {
        "colab": {
          "base_uri": "https://localhost:8080/"
        },
        "id": "goEWZz0FIQG8",
        "outputId": "b210a5ca-7f58-4f15-dce5-317e8e3cf205"
      },
      "outputs": [
        {
          "output_type": "stream",
          "name": "stdout",
          "text": [
            "<class 'pandas.core.frame.DataFrame'>\n",
            "Int64Index: 352307 entries, 27 to 426879\n",
            "Data columns (total 15 columns):\n",
            " #   Column        Non-Null Count   Dtype  \n",
            "---  ------        --------------   -----  \n",
            " 0   region        352307 non-null  int64  \n",
            " 1   price         352307 non-null  int64  \n",
            " 2   year          352307 non-null  float64\n",
            " 3   manufacturer  352307 non-null  int64  \n",
            " 4   model         352307 non-null  int64  \n",
            " 5   condition     352307 non-null  int64  \n",
            " 6   cylinders     352307 non-null  int64  \n",
            " 7   fuel          352307 non-null  int64  \n",
            " 8   odometer      352307 non-null  float64\n",
            " 9   title_status  352307 non-null  int64  \n",
            " 10  transmission  352307 non-null  int64  \n",
            " 11  drive         352307 non-null  int64  \n",
            " 12  size          352307 non-null  int64  \n",
            " 13  type          352307 non-null  int64  \n",
            " 14  paint_color   352307 non-null  int64  \n",
            "dtypes: float64(2), int64(13)\n",
            "memory usage: 43.0 MB\n"
          ]
        }
      ],
      "source": [
        "# importing label encoder from sklearn module\n",
        "from sklearn import preprocessing\n",
        "LabelEncoding = preprocessing.LabelEncoder()\n",
        "# Extracting categorical columns from the DataFrame df\n",
        "categorical_columns = [i for i in df.columns if df.dtypes[i]=='object']\n",
        "# code for converting all categorical data to numbeic using label encoding \n",
        "for i in categorical_columns:\n",
        "  df[i] = LabelEncoding.fit_transform(df[i])\n",
        "\n",
        "# Checking Data Types\n",
        "df.info()\n"
      ]
    },
    {
      "cell_type": "markdown",
      "metadata": {
        "id": "4nnWAcsmJOB3"
      },
      "source": [
        "**FEATURES SELECTION**"
      ]
    },
    {
      "cell_type": "code",
      "execution_count": 25,
      "metadata": {
        "colab": {
          "base_uri": "https://localhost:8080/",
          "height": 520
        },
        "id": "FB4P2d_CI11o",
        "outputId": "0c3f17c7-5925-4c6c-b659-2da59067f461"
      },
      "outputs": [
        {
          "output_type": "execute_result",
          "data": {
            "text/plain": [
              "                region     price      year  manufacturer     model  condition  \\\n",
              "region        1.000000 -0.020959 -0.014071      0.000652 -0.000537  -0.016249   \n",
              "price        -0.020959  1.000000  0.615799     -0.045051  0.033051   0.159329   \n",
              "year         -0.014071  0.615799  1.000000     -0.008675  0.030454   0.144331   \n",
              "manufacturer  0.000652 -0.045051 -0.008675      1.000000  0.002050  -0.015984   \n",
              "model        -0.000537  0.033051  0.030454      0.002050  1.000000   0.000639   \n",
              "condition    -0.016249  0.159329  0.144331     -0.015984  0.000639   1.000000   \n",
              "cylinders    -0.008753  0.274584 -0.028978     -0.140667  0.053176   0.094440   \n",
              "fuel         -0.004584 -0.006644  0.181271     -0.019824  0.076265   0.089983   \n",
              "odometer      0.011664 -0.576075 -0.665675      0.019167 -0.010621  -0.153305   \n",
              "title_status -0.009762 -0.096606 -0.010974      0.015981 -0.013227  -0.015294   \n",
              "transmission -0.015624  0.328600  0.308364     -0.002735  0.022280   0.186191   \n",
              "drive         0.015240 -0.090012 -0.048250     -0.053315 -0.096324  -0.041615   \n",
              "size         -0.008033 -0.062010 -0.050031      0.006154 -0.001629  -0.060262   \n",
              "type          0.003142  0.001231 -0.029454      0.041109 -0.103404   0.060506   \n",
              "paint_color   0.000215 -0.008573 -0.027656      0.004387 -0.001549   0.015102   \n",
              "\n",
              "              cylinders      fuel  odometer  title_status  transmission  \\\n",
              "region        -0.008753 -0.004584  0.011664     -0.009762     -0.015624   \n",
              "price          0.274584 -0.006644 -0.576075     -0.096606      0.328600   \n",
              "year          -0.028978  0.181271 -0.665675     -0.010974      0.308364   \n",
              "manufacturer  -0.140667 -0.019824  0.019167      0.015981     -0.002735   \n",
              "model          0.053176  0.076265 -0.010621     -0.013227      0.022280   \n",
              "condition      0.094440  0.089983 -0.153305     -0.015294      0.186191   \n",
              "cylinders      1.000000 -0.021614 -0.003659     -0.068815      0.125743   \n",
              "fuel          -0.021614  1.000000 -0.227185     -0.019218      0.295318   \n",
              "odometer      -0.003659 -0.227185  1.000000     -0.004309     -0.430170   \n",
              "title_status  -0.068815 -0.019218 -0.004309      1.000000     -0.066061   \n",
              "transmission   0.125743  0.295318 -0.430170     -0.066061      1.000000   \n",
              "drive         -0.082979  0.010377 -0.061565      0.006355      0.048387   \n",
              "size          -0.064846 -0.014396  0.045332      0.012366     -0.063561   \n",
              "type           0.049870 -0.092910  0.046453      0.010655     -0.030432   \n",
              "paint_color    0.052966 -0.064212  0.044355     -0.009898     -0.052868   \n",
              "\n",
              "                 drive      size      type  paint_color  \n",
              "region        0.015240 -0.008033  0.003142     0.000215  \n",
              "price        -0.090012 -0.062010  0.001231    -0.008573  \n",
              "year         -0.048250 -0.050031 -0.029454    -0.027656  \n",
              "manufacturer -0.053315  0.006154  0.041109     0.004387  \n",
              "model        -0.096324 -0.001629 -0.103404    -0.001549  \n",
              "condition    -0.041615 -0.060262  0.060506     0.015102  \n",
              "cylinders    -0.082979 -0.064846  0.049870     0.052966  \n",
              "fuel          0.010377 -0.014396 -0.092910    -0.064212  \n",
              "odometer     -0.061565  0.045332  0.046453     0.044355  \n",
              "title_status  0.006355  0.012366  0.010655    -0.009898  \n",
              "transmission  0.048387 -0.063561 -0.030432    -0.052868  \n",
              "drive         1.000000  0.040199  0.038510    -0.065475  \n",
              "size          0.040199  1.000000 -0.087766    -0.043885  \n",
              "type          0.038510 -0.087766  1.000000     0.125702  \n",
              "paint_color  -0.065475 -0.043885  0.125702     1.000000  "
            ],
            "text/html": [
              "\n",
              "  <div id=\"df-9eb5f046-6c03-4d3e-b9e9-759d1f2d04d2\">\n",
              "    <div class=\"colab-df-container\">\n",
              "      <div>\n",
              "<style scoped>\n",
              "    .dataframe tbody tr th:only-of-type {\n",
              "        vertical-align: middle;\n",
              "    }\n",
              "\n",
              "    .dataframe tbody tr th {\n",
              "        vertical-align: top;\n",
              "    }\n",
              "\n",
              "    .dataframe thead th {\n",
              "        text-align: right;\n",
              "    }\n",
              "</style>\n",
              "<table border=\"1\" class=\"dataframe\">\n",
              "  <thead>\n",
              "    <tr style=\"text-align: right;\">\n",
              "      <th></th>\n",
              "      <th>region</th>\n",
              "      <th>price</th>\n",
              "      <th>year</th>\n",
              "      <th>manufacturer</th>\n",
              "      <th>model</th>\n",
              "      <th>condition</th>\n",
              "      <th>cylinders</th>\n",
              "      <th>fuel</th>\n",
              "      <th>odometer</th>\n",
              "      <th>title_status</th>\n",
              "      <th>transmission</th>\n",
              "      <th>drive</th>\n",
              "      <th>size</th>\n",
              "      <th>type</th>\n",
              "      <th>paint_color</th>\n",
              "    </tr>\n",
              "  </thead>\n",
              "  <tbody>\n",
              "    <tr>\n",
              "      <th>region</th>\n",
              "      <td>1.000000</td>\n",
              "      <td>-0.020959</td>\n",
              "      <td>-0.014071</td>\n",
              "      <td>0.000652</td>\n",
              "      <td>-0.000537</td>\n",
              "      <td>-0.016249</td>\n",
              "      <td>-0.008753</td>\n",
              "      <td>-0.004584</td>\n",
              "      <td>0.011664</td>\n",
              "      <td>-0.009762</td>\n",
              "      <td>-0.015624</td>\n",
              "      <td>0.015240</td>\n",
              "      <td>-0.008033</td>\n",
              "      <td>0.003142</td>\n",
              "      <td>0.000215</td>\n",
              "    </tr>\n",
              "    <tr>\n",
              "      <th>price</th>\n",
              "      <td>-0.020959</td>\n",
              "      <td>1.000000</td>\n",
              "      <td>0.615799</td>\n",
              "      <td>-0.045051</td>\n",
              "      <td>0.033051</td>\n",
              "      <td>0.159329</td>\n",
              "      <td>0.274584</td>\n",
              "      <td>-0.006644</td>\n",
              "      <td>-0.576075</td>\n",
              "      <td>-0.096606</td>\n",
              "      <td>0.328600</td>\n",
              "      <td>-0.090012</td>\n",
              "      <td>-0.062010</td>\n",
              "      <td>0.001231</td>\n",
              "      <td>-0.008573</td>\n",
              "    </tr>\n",
              "    <tr>\n",
              "      <th>year</th>\n",
              "      <td>-0.014071</td>\n",
              "      <td>0.615799</td>\n",
              "      <td>1.000000</td>\n",
              "      <td>-0.008675</td>\n",
              "      <td>0.030454</td>\n",
              "      <td>0.144331</td>\n",
              "      <td>-0.028978</td>\n",
              "      <td>0.181271</td>\n",
              "      <td>-0.665675</td>\n",
              "      <td>-0.010974</td>\n",
              "      <td>0.308364</td>\n",
              "      <td>-0.048250</td>\n",
              "      <td>-0.050031</td>\n",
              "      <td>-0.029454</td>\n",
              "      <td>-0.027656</td>\n",
              "    </tr>\n",
              "    <tr>\n",
              "      <th>manufacturer</th>\n",
              "      <td>0.000652</td>\n",
              "      <td>-0.045051</td>\n",
              "      <td>-0.008675</td>\n",
              "      <td>1.000000</td>\n",
              "      <td>0.002050</td>\n",
              "      <td>-0.015984</td>\n",
              "      <td>-0.140667</td>\n",
              "      <td>-0.019824</td>\n",
              "      <td>0.019167</td>\n",
              "      <td>0.015981</td>\n",
              "      <td>-0.002735</td>\n",
              "      <td>-0.053315</td>\n",
              "      <td>0.006154</td>\n",
              "      <td>0.041109</td>\n",
              "      <td>0.004387</td>\n",
              "    </tr>\n",
              "    <tr>\n",
              "      <th>model</th>\n",
              "      <td>-0.000537</td>\n",
              "      <td>0.033051</td>\n",
              "      <td>0.030454</td>\n",
              "      <td>0.002050</td>\n",
              "      <td>1.000000</td>\n",
              "      <td>0.000639</td>\n",
              "      <td>0.053176</td>\n",
              "      <td>0.076265</td>\n",
              "      <td>-0.010621</td>\n",
              "      <td>-0.013227</td>\n",
              "      <td>0.022280</td>\n",
              "      <td>-0.096324</td>\n",
              "      <td>-0.001629</td>\n",
              "      <td>-0.103404</td>\n",
              "      <td>-0.001549</td>\n",
              "    </tr>\n",
              "    <tr>\n",
              "      <th>condition</th>\n",
              "      <td>-0.016249</td>\n",
              "      <td>0.159329</td>\n",
              "      <td>0.144331</td>\n",
              "      <td>-0.015984</td>\n",
              "      <td>0.000639</td>\n",
              "      <td>1.000000</td>\n",
              "      <td>0.094440</td>\n",
              "      <td>0.089983</td>\n",
              "      <td>-0.153305</td>\n",
              "      <td>-0.015294</td>\n",
              "      <td>0.186191</td>\n",
              "      <td>-0.041615</td>\n",
              "      <td>-0.060262</td>\n",
              "      <td>0.060506</td>\n",
              "      <td>0.015102</td>\n",
              "    </tr>\n",
              "    <tr>\n",
              "      <th>cylinders</th>\n",
              "      <td>-0.008753</td>\n",
              "      <td>0.274584</td>\n",
              "      <td>-0.028978</td>\n",
              "      <td>-0.140667</td>\n",
              "      <td>0.053176</td>\n",
              "      <td>0.094440</td>\n",
              "      <td>1.000000</td>\n",
              "      <td>-0.021614</td>\n",
              "      <td>-0.003659</td>\n",
              "      <td>-0.068815</td>\n",
              "      <td>0.125743</td>\n",
              "      <td>-0.082979</td>\n",
              "      <td>-0.064846</td>\n",
              "      <td>0.049870</td>\n",
              "      <td>0.052966</td>\n",
              "    </tr>\n",
              "    <tr>\n",
              "      <th>fuel</th>\n",
              "      <td>-0.004584</td>\n",
              "      <td>-0.006644</td>\n",
              "      <td>0.181271</td>\n",
              "      <td>-0.019824</td>\n",
              "      <td>0.076265</td>\n",
              "      <td>0.089983</td>\n",
              "      <td>-0.021614</td>\n",
              "      <td>1.000000</td>\n",
              "      <td>-0.227185</td>\n",
              "      <td>-0.019218</td>\n",
              "      <td>0.295318</td>\n",
              "      <td>0.010377</td>\n",
              "      <td>-0.014396</td>\n",
              "      <td>-0.092910</td>\n",
              "      <td>-0.064212</td>\n",
              "    </tr>\n",
              "    <tr>\n",
              "      <th>odometer</th>\n",
              "      <td>0.011664</td>\n",
              "      <td>-0.576075</td>\n",
              "      <td>-0.665675</td>\n",
              "      <td>0.019167</td>\n",
              "      <td>-0.010621</td>\n",
              "      <td>-0.153305</td>\n",
              "      <td>-0.003659</td>\n",
              "      <td>-0.227185</td>\n",
              "      <td>1.000000</td>\n",
              "      <td>-0.004309</td>\n",
              "      <td>-0.430170</td>\n",
              "      <td>-0.061565</td>\n",
              "      <td>0.045332</td>\n",
              "      <td>0.046453</td>\n",
              "      <td>0.044355</td>\n",
              "    </tr>\n",
              "    <tr>\n",
              "      <th>title_status</th>\n",
              "      <td>-0.009762</td>\n",
              "      <td>-0.096606</td>\n",
              "      <td>-0.010974</td>\n",
              "      <td>0.015981</td>\n",
              "      <td>-0.013227</td>\n",
              "      <td>-0.015294</td>\n",
              "      <td>-0.068815</td>\n",
              "      <td>-0.019218</td>\n",
              "      <td>-0.004309</td>\n",
              "      <td>1.000000</td>\n",
              "      <td>-0.066061</td>\n",
              "      <td>0.006355</td>\n",
              "      <td>0.012366</td>\n",
              "      <td>0.010655</td>\n",
              "      <td>-0.009898</td>\n",
              "    </tr>\n",
              "    <tr>\n",
              "      <th>transmission</th>\n",
              "      <td>-0.015624</td>\n",
              "      <td>0.328600</td>\n",
              "      <td>0.308364</td>\n",
              "      <td>-0.002735</td>\n",
              "      <td>0.022280</td>\n",
              "      <td>0.186191</td>\n",
              "      <td>0.125743</td>\n",
              "      <td>0.295318</td>\n",
              "      <td>-0.430170</td>\n",
              "      <td>-0.066061</td>\n",
              "      <td>1.000000</td>\n",
              "      <td>0.048387</td>\n",
              "      <td>-0.063561</td>\n",
              "      <td>-0.030432</td>\n",
              "      <td>-0.052868</td>\n",
              "    </tr>\n",
              "    <tr>\n",
              "      <th>drive</th>\n",
              "      <td>0.015240</td>\n",
              "      <td>-0.090012</td>\n",
              "      <td>-0.048250</td>\n",
              "      <td>-0.053315</td>\n",
              "      <td>-0.096324</td>\n",
              "      <td>-0.041615</td>\n",
              "      <td>-0.082979</td>\n",
              "      <td>0.010377</td>\n",
              "      <td>-0.061565</td>\n",
              "      <td>0.006355</td>\n",
              "      <td>0.048387</td>\n",
              "      <td>1.000000</td>\n",
              "      <td>0.040199</td>\n",
              "      <td>0.038510</td>\n",
              "      <td>-0.065475</td>\n",
              "    </tr>\n",
              "    <tr>\n",
              "      <th>size</th>\n",
              "      <td>-0.008033</td>\n",
              "      <td>-0.062010</td>\n",
              "      <td>-0.050031</td>\n",
              "      <td>0.006154</td>\n",
              "      <td>-0.001629</td>\n",
              "      <td>-0.060262</td>\n",
              "      <td>-0.064846</td>\n",
              "      <td>-0.014396</td>\n",
              "      <td>0.045332</td>\n",
              "      <td>0.012366</td>\n",
              "      <td>-0.063561</td>\n",
              "      <td>0.040199</td>\n",
              "      <td>1.000000</td>\n",
              "      <td>-0.087766</td>\n",
              "      <td>-0.043885</td>\n",
              "    </tr>\n",
              "    <tr>\n",
              "      <th>type</th>\n",
              "      <td>0.003142</td>\n",
              "      <td>0.001231</td>\n",
              "      <td>-0.029454</td>\n",
              "      <td>0.041109</td>\n",
              "      <td>-0.103404</td>\n",
              "      <td>0.060506</td>\n",
              "      <td>0.049870</td>\n",
              "      <td>-0.092910</td>\n",
              "      <td>0.046453</td>\n",
              "      <td>0.010655</td>\n",
              "      <td>-0.030432</td>\n",
              "      <td>0.038510</td>\n",
              "      <td>-0.087766</td>\n",
              "      <td>1.000000</td>\n",
              "      <td>0.125702</td>\n",
              "    </tr>\n",
              "    <tr>\n",
              "      <th>paint_color</th>\n",
              "      <td>0.000215</td>\n",
              "      <td>-0.008573</td>\n",
              "      <td>-0.027656</td>\n",
              "      <td>0.004387</td>\n",
              "      <td>-0.001549</td>\n",
              "      <td>0.015102</td>\n",
              "      <td>0.052966</td>\n",
              "      <td>-0.064212</td>\n",
              "      <td>0.044355</td>\n",
              "      <td>-0.009898</td>\n",
              "      <td>-0.052868</td>\n",
              "      <td>-0.065475</td>\n",
              "      <td>-0.043885</td>\n",
              "      <td>0.125702</td>\n",
              "      <td>1.000000</td>\n",
              "    </tr>\n",
              "  </tbody>\n",
              "</table>\n",
              "</div>\n",
              "      <button class=\"colab-df-convert\" onclick=\"convertToInteractive('df-9eb5f046-6c03-4d3e-b9e9-759d1f2d04d2')\"\n",
              "              title=\"Convert this dataframe to an interactive table.\"\n",
              "              style=\"display:none;\">\n",
              "        \n",
              "  <svg xmlns=\"http://www.w3.org/2000/svg\" height=\"24px\"viewBox=\"0 0 24 24\"\n",
              "       width=\"24px\">\n",
              "    <path d=\"M0 0h24v24H0V0z\" fill=\"none\"/>\n",
              "    <path d=\"M18.56 5.44l.94 2.06.94-2.06 2.06-.94-2.06-.94-.94-2.06-.94 2.06-2.06.94zm-11 1L8.5 8.5l.94-2.06 2.06-.94-2.06-.94L8.5 2.5l-.94 2.06-2.06.94zm10 10l.94 2.06.94-2.06 2.06-.94-2.06-.94-.94-2.06-.94 2.06-2.06.94z\"/><path d=\"M17.41 7.96l-1.37-1.37c-.4-.4-.92-.59-1.43-.59-.52 0-1.04.2-1.43.59L10.3 9.45l-7.72 7.72c-.78.78-.78 2.05 0 2.83L4 21.41c.39.39.9.59 1.41.59.51 0 1.02-.2 1.41-.59l7.78-7.78 2.81-2.81c.8-.78.8-2.07 0-2.86zM5.41 20L4 18.59l7.72-7.72 1.47 1.35L5.41 20z\"/>\n",
              "  </svg>\n",
              "      </button>\n",
              "      \n",
              "  <style>\n",
              "    .colab-df-container {\n",
              "      display:flex;\n",
              "      flex-wrap:wrap;\n",
              "      gap: 12px;\n",
              "    }\n",
              "\n",
              "    .colab-df-convert {\n",
              "      background-color: #E8F0FE;\n",
              "      border: none;\n",
              "      border-radius: 50%;\n",
              "      cursor: pointer;\n",
              "      display: none;\n",
              "      fill: #1967D2;\n",
              "      height: 32px;\n",
              "      padding: 0 0 0 0;\n",
              "      width: 32px;\n",
              "    }\n",
              "\n",
              "    .colab-df-convert:hover {\n",
              "      background-color: #E2EBFA;\n",
              "      box-shadow: 0px 1px 2px rgba(60, 64, 67, 0.3), 0px 1px 3px 1px rgba(60, 64, 67, 0.15);\n",
              "      fill: #174EA6;\n",
              "    }\n",
              "\n",
              "    [theme=dark] .colab-df-convert {\n",
              "      background-color: #3B4455;\n",
              "      fill: #D2E3FC;\n",
              "    }\n",
              "\n",
              "    [theme=dark] .colab-df-convert:hover {\n",
              "      background-color: #434B5C;\n",
              "      box-shadow: 0px 1px 3px 1px rgba(0, 0, 0, 0.15);\n",
              "      filter: drop-shadow(0px 1px 2px rgba(0, 0, 0, 0.3));\n",
              "      fill: #FFFFFF;\n",
              "    }\n",
              "  </style>\n",
              "\n",
              "      <script>\n",
              "        const buttonEl =\n",
              "          document.querySelector('#df-9eb5f046-6c03-4d3e-b9e9-759d1f2d04d2 button.colab-df-convert');\n",
              "        buttonEl.style.display =\n",
              "          google.colab.kernel.accessAllowed ? 'block' : 'none';\n",
              "\n",
              "        async function convertToInteractive(key) {\n",
              "          const element = document.querySelector('#df-9eb5f046-6c03-4d3e-b9e9-759d1f2d04d2');\n",
              "          const dataTable =\n",
              "            await google.colab.kernel.invokeFunction('convertToInteractive',\n",
              "                                                     [key], {});\n",
              "          if (!dataTable) return;\n",
              "\n",
              "          const docLinkHtml = 'Like what you see? Visit the ' +\n",
              "            '<a target=\"_blank\" href=https://colab.research.google.com/notebooks/data_table.ipynb>data table notebook</a>'\n",
              "            + ' to learn more about interactive tables.';\n",
              "          element.innerHTML = '';\n",
              "          dataTable['output_type'] = 'display_data';\n",
              "          await google.colab.output.renderOutput(dataTable, element);\n",
              "          const docLink = document.createElement('div');\n",
              "          docLink.innerHTML = docLinkHtml;\n",
              "          element.appendChild(docLink);\n",
              "        }\n",
              "      </script>\n",
              "    </div>\n",
              "  </div>\n",
              "  "
            ]
          },
          "metadata": {},
          "execution_count": 25
        }
      ],
      "source": [
        "#Creating correlation matrics\n",
        "Correlation_metrics = df.corr()\n",
        "Correlation_metrics"
      ]
    },
    {
      "cell_type": "code",
      "execution_count": 26,
      "metadata": {
        "colab": {
          "base_uri": "https://localhost:8080/",
          "height": 943
        },
        "id": "pZHqT1ljJmnr",
        "outputId": "ccb8cb41-4b82-4e26-94a2-22e4e969e95c"
      },
      "outputs": [
        {
          "output_type": "execute_result",
          "data": {
            "text/plain": [
              "<matplotlib.axes._subplots.AxesSubplot at 0x7fdae7419fd0>"
            ]
          },
          "metadata": {},
          "execution_count": 26
        },
        {
          "output_type": "display_data",
          "data": {
            "text/plain": [
              "<Figure size 1080x1080 with 2 Axes>"
            ],
            "image/png": "[encoded data removed]"
          },
          "metadata": {
            "needs_background": "light"
          }
        }
      ],
      "source": [
        "# Correlation Matrics  with heatmap\n",
        "Correlated_features = Correlation_metrics.index\n",
        "plt.figure(figsize = (15,15))\n",
        "\n",
        "# HEAT MAP FOR Correlation\n",
        "Correlation_heat_Map = sns.heatmap(df[Correlated_features].corr(),annot = True, cmap= \"RdYlGn\")\n",
        "Correlation_heat_Map"
      ]
    },
    {
      "cell_type": "markdown",
      "metadata": {
        "id": "iHoiNtQAKfK0"
      },
      "source": [
        "**TRAIN_TEST SPLIT**"
      ]
    },
    {
      "cell_type": "code",
      "execution_count": 27,
      "metadata": {
        "id": "3Z4w0hFcKUol"
      },
      "outputs": [],
      "source": [
        "#importing train test split from sklearm\n",
        "from sklearn.model_selection import train_test_split\n",
        "# Independent variable \n",
        "X_data = df.drop('price',axis =1 )\n",
        "# dependent variable \n",
        "y_data = df['price']\n",
        "\n",
        "# TRAINING SIZE 80% AND TESTING SIZE 20%\n",
        "X_train, X_test, y_train, y_test = train_test_split(X_data, y_data, test_size=0.2, random_state=42)"
      ]
    },
    {
      "cell_type": "code",
      "execution_count": 28,
      "metadata": {
        "colab": {
          "base_uri": "https://localhost:8080/"
        },
        "id": "K4pW_sh-Kttq",
        "outputId": "7daaf8b0-6472-4f9e-b08b-8c75e345a13c"
      },
      "outputs": [
        {
          "output_type": "stream",
          "name": "stdout",
          "text": [
            "Shape of X_train:  (281845, 14)\n",
            "Shape of y_train:  (281845,)\n",
            "Shape of X_test:  (70462, 14)\n",
            "Shape of y_test:  (70462,)\n"
          ]
        }
      ],
      "source": [
        "print (\"Shape of X_train: \",X_train.shape) \n",
        "print (\"Shape of y_train: \",y_train.shape)\n",
        "print (\"Shape of X_test: \",X_test.shape)\n",
        "print (\"Shape of y_test: \", y_test.shape)"
      ]
    },
    {
      "cell_type": "markdown",
      "metadata": {
        "id": "TgJp6DjfLQU6"
      },
      "source": [
        "**FEATURE SCALING**"
      ]
    },
    {
      "cell_type": "code",
      "execution_count": 29,
      "metadata": {
        "id": "BcOnpD--LB2R"
      },
      "outputs": [],
      "source": [
        "# importing Standardscalar from sklearn\n",
        "from sklearn.preprocessing import StandardScaler\n",
        "\n",
        "Scalar = StandardScaler()\n",
        "X_train= Scalar.fit_transform(X_train)\n",
        "X_test= Scalar.transform(X_test)"
      ]
    },
    {
      "cell_type": "code",
      "execution_count": 30,
      "metadata": {
        "id": "goFdvQ7HLf_u"
      },
      "outputs": [],
      "source": [
        "# # importing Minmax from sklearn\n",
        "# from sklearn.preprocessing import MinMaxScaler\n",
        "\n",
        "# Min_Max_Scalar = MinMaxScaler()   \n",
        "# X_train= Min_Max_Scalar.fit_transform(X_train)\n",
        "# X_test= Min_Max_Scalar.transform(X_test)"
      ]
    },
    {
      "cell_type": "markdown",
      "metadata": {
        "id": "ZxaA8RnRMN27"
      },
      "source": [
        "**DECISION TREE**"
      ]
    },
    {
      "cell_type": "code",
      "execution_count": 31,
      "metadata": {
        "colab": {
          "base_uri": "https://localhost:8080/"
        },
        "id": "HxbFIgJJL2-9",
        "outputId": "72a45c52-257a-4c16-b48b-04b15ce59864"
      },
      "outputs": [
        {
          "output_type": "stream",
          "name": "stdout",
          "text": [
            "Model Score: 0.8416711254563248\n",
            "Mean Absolute Error: 2125.18\n",
            "Mean Squared Error: 25144403.85\n",
            "Root Mean Squared Error: 5014.42\n"
          ]
        }
      ],
      "source": [
        "# importing decision tree regressor from tree module\n",
        "from sklearn.tree import DecisionTreeRegressor \n",
        "# Evaluation metrics\n",
        "from sklearn.metrics import r2_score\n",
        "from sklearn.metrics import mean_squared_error\n",
        "from sklearn.metrics import mean_absolute_error\n",
        "# Create a decision treone regressor\n",
        "Decision_tree_model = DecisionTreeRegressor(random_state = 0) \n",
        "# Train the model using the training sets\n",
        "Decision_tree_model.fit(X_train, y_train)\n",
        "# Testing data predicti\n",
        "test_pred = Decision_tree_model.predict(X_test)\n",
        "print('Model Score:',Decision_tree_model.score(X_test,y_test))\n",
        "print('Mean Absolute Error:', round(metrics.mean_absolute_error(y_test, test_pred),2))\n",
        "print('Mean Squared Error:', round(metrics.mean_squared_error(y_test, test_pred),2))\n",
        "print('Root Mean Squared Error:', round(np.sqrt(metrics.mean_squared_error(y_test, test_pred)),2))"
      ]
    },
    {
      "cell_type": "markdown",
      "metadata": {
        "id": "ww86YR-xNl_s"
      },
      "source": [
        "**RANDOM FOREST**"
      ]
    },
    {
      "cell_type": "code",
      "execution_count": null,
      "metadata": {
        "colab": {
          "background_save": true
        },
        "id": "aKopoPltMhs4"
      },
      "outputs": [],
      "source": [
        "# importing Random Forest regressor from ensemble module\n",
        "from sklearn.ensemble import RandomForestRegressor\n",
        "# Evaluation metrics\n",
        "from sklearn.metrics import r2_score\n",
        "from sklearn.metrics import mean_squared_error\n",
        "from sklearn.metrics import mean_absolute_error\n",
        "# Create a Random Forest regressor\n",
        "RandomForest_model = RandomForestRegressor(n_estimators=100, random_state=42)\n",
        "# Train the model using the training sets\n",
        "RandomForest_model.fit(X_train, y_train)\n",
        "# Testing data prediction\n",
        "test_pred = RandomForest_model.predict(X_test)\n",
        "print('Model Score:',RandomForest_model.score(X_test,y_test))\n",
        "print('Mean Absolute Error:', round(metrics.mean_absolute_error(y_test, test_pred),2))\n",
        "print('Mean Squared Error:', round(metrics.mean_squared_error(y_test, test_pred),2))\n",
        "print('Root Mean Squared Error:', round(np.sqrt(metrics.mean_squared_error(y_test, test_pred)),2))"
      ]
    },
    {
      "cell_type": "markdown",
      "metadata": {
        "id": "o5NHYw7nN7Qd"
      },
      "source": [
        "**XGBOOST**"
      ]
    },
    {
      "cell_type": "code",
      "execution_count": null,
      "metadata": {
        "colab": {
          "background_save": true
        },
        "id": "GYwhnFWhN4eX"
      },
      "outputs": [],
      "source": [
        "# importing XGBRegressor from xgboost\n",
        "from xgboost import XGBRegressor\n",
        "# Evaluation metrics\n",
        "from sklearn.metrics import r2_score\n",
        "from sklearn.metrics import mean_squared_error\n",
        "from sklearn.metrics import mean_absolute_error\n",
        "# Create a XGBoost regressor\n",
        "XGBoost_model = XGBRegressor(n_estimators=1000, max_depth=7, eta=0.1, subsample=0.7, colsample_bytree=0.8)\n",
        "# Train the model using the training sets\n",
        "XGBoost_model.fit(X_train, y_train)\n",
        "# Testing data prediction\n",
        "test_pred = XGBoost_model.predict(X_test)\n",
        "print('Model Score:',XGBoost_model.score(X_test,y_test))\n",
        "print('Mean Absolute Error:', round(metrics.mean_absolute_error(y_test, test_pred),2))\n",
        "print('Mean Squared Error:', round(metrics.mean_squared_error(y_test, test_pred),2))\n",
        "print('Root Mean Squared Error:', round(np.sqrt(metrics.mean_squared_error(y_test, test_pred)),2))"
      ]
    },
    {
      "cell_type": "markdown",
      "metadata": {
        "id": "zOPeCXM_O1IF"
      },
      "source": [
        "** RANDOM FOREST TREE VISUALIZATION**"
      ]
    },
    {
      "cell_type": "code",
      "execution_count": null,
      "metadata": {
        "colab": {
          "background_save": true
        },
        "id": "aRacOGkmOWNo"
      },
      "outputs": [],
      "source": [
        "# importing Random Forest regressor from ensemble module\n",
        "from sklearn.ensemble import RandomForestRegressor\n",
        "# Create a Random Forest regressor\n",
        "RandomForest_regressor = RandomForestRegressor(n_estimators=200, random_state=42)\n",
        "# Train random forest model\n",
        "RandomForest_regressor.fit(X_train, y_train)\n",
        "# variable for input features\n",
        "# Creating random forest model\n",
        "RandomForest_model= RandomForest_regressor\n",
        "Features= df.drop('price', axis = 1)\n",
        "# Features in list\n",
        "Feature_list = list(Features.columns)\n",
        "# Convert to numpy array\n",
        "Features = np.array(Features)"
      ]
    },
    {
      "cell_type": "code",
      "execution_count": null,
      "metadata": {
        "colab": {
          "background_save": true
        },
        "id": "O4ym-ZvZdLww"
      },
      "outputs": [],
      "source": [
        "# Tree visualization packages\n",
        "from sklearn.tree import export_graphviz\n",
        "import pydot\n",
        "\n",
        "# creating tree of 3 level\n",
        "RandomForest_model_small = RandomForestRegressor(n_estimators=10, max_depth = 3)\n",
        "RandomForest_model_small.fit(X_train, y_train)\n",
        "# Creating sub tree \n",
        "sub_tree = RandomForest_model_small.estimators_[5]\n",
        "# Save the tree as a png image\n",
        "export_graphviz(sub_tree, out_file = 'small_tree.dot',feature_names = Feature_list, rounded = True, precision = 1, proportion = False, filled= True)\n",
        "(graph, ) = pydot.graph_from_dot_file('small_tree.dot')\n",
        "graph.write_png('tree_sub.png');\n",
        "# Display image\n",
        "from IPython.display import Image\n",
        "Image(filename = 'tree_sub.png')"
      ]
    },
    {
      "cell_type": "code",
      "execution_count": null,
      "metadata": {
        "colab": {
          "background_save": true
        },
        "id": "G65iiYbPdPpp"
      },
      "outputs": [],
      "source": [
        "# Extracting important Features\n",
        "importance_features = list(RandomForest_regressor.feature_importances_)\n",
        "\n",
        "feature_importances = [(Features, round(importance_features, 2)) for Features, importance_features in zip(feature_list, importance_features)]\n",
        "# Sort features in descending order\n",
        "feature_importances = sorted(feature_importances, key = lambda x: x[1], reverse = True)\n",
        "# Feature Importanc with score\n",
        "[print('Variable: {:20} Importance: {}'.format(*pair)) for pair in feature_importances];\n"
      ]
    },
    {
      "cell_type": "code",
      "execution_count": null,
      "metadata": {
        "colab": {
          "background_save": true
        },
        "id": "D5Zd6KANdfiO"
      },
      "outputs": [],
      "source": [
        "import matplotlib.pyplot as plt\n",
        "%matplotlib inline\n",
        "\n",
        "plt.style.use('fivethirtyeight')\n",
        "# list of x locations for plotting\n",
        "x_values = list(range(len(importance_features)))\n",
        "# Size of figure\n",
        "plt.figure(figsize = (12,7))\n",
        "# Bar chart\n",
        "plt.bar(x_values, importance_features, orientation = 'vertical')\n",
        "# Tick labels for x axis\n",
        "plt.xticks(x_values, Feature_list, rotation='vertical')\n",
        "plt.ylabel('Importance'); \n",
        "plt.xlabel('Features'); \n",
        "plt.title('Variable Importances');"
      ]
    },
    {
      "cell_type": "code",
      "execution_count": null,
      "metadata": {
        "colab": {
          "background_save": true
        },
        "id": "JihYD4moQsP2"
      },
      "outputs": [],
      "source": [
        "# List of features sorted from most to least important\n",
        "Features_sorted_importances = [importance_features[1] for importance_features in feature_importances]\n",
        "Features_sorted_features = [importance_features[0] for importance_features in feature_importances]\n",
        "# Cumulative importances\n",
        "Cum_importance = np.cumsum(Features_sorted_importances)\n",
        "plt.figure(figsize = (12,7))\n",
        "# Make a line graph\n",
        "plt.plot(x_values, Cum_importance)\n",
        "# Draw line at 85% of importance retained\n",
        "plt.hlines(y = 0.85, xmin=0, xmax=len(Features_sorted_importances), color = 'r', linestyles = 'dashed')\n",
        "plt.xticks(x_values, Features_sorted_features, rotation = 'vertical')\n",
        "# Axis labels and title\n",
        "plt.xlabel('Features'); \n",
        "plt.ylabel('Cumulative Importance');\n",
        "plt.title('Cumulative Importances');"
      ]
    },
    {
      "cell_type": "code",
      "execution_count": null,
      "metadata": {
        "colab": {
          "background_save": true
        },
        "id": "l5QXUsc6Spve"
      },
      "outputs": [],
      "source": [
        "# Find number of features for cumulative importance of 85%\n",
        "print('Number of features for 85% importance:', np.where(cumulative_importances > 0.85)[0][0] + 1)"
      ]
    },
    {
      "cell_type": "code",
      "execution_count": null,
      "metadata": {
        "colab": {
          "background_save": true
        },
        "id": "VJCq-3cOZTcQ"
      },
      "outputs": [],
      "source": [
        "# new random forest with most important 6 features\n",
        "\n",
        "from sklearn.ensemble import RandomForestRegressor\n",
        "RandomForest_SIX_Features = RandomForestRegressor(n_estimators=100, random_state=0)"
      ]
    },
    {
      "cell_type": "code",
      "execution_count": null,
      "metadata": {
        "colab": {
          "background_save": true
        },
        "id": "U3LHie4jZi92"
      },
      "outputs": [],
      "source": [
        "# Extract the most important features\n",
        "features= df.drop('price', axis = 1)\n",
        "# Saving feature names for later use\n",
        "feature_list = list(features.columns)\n",
        "# Convert to numpy array\n",
        "features = np.array(features)\n",
        "important_indices = [feature_list.index('year'),feature_list.index('odometer'), feature_list.index('cylinders'),feature_list.index('model'),feature_list.index('fuel'),feature_list.index('manufacturer')]\n",
        "train_important = X_train[:, important_indices]\n",
        "test_important = X_test[:, important_indices]"
      ]
    },
    {
      "cell_type": "code",
      "execution_count": null,
      "metadata": {
        "colab": {
          "background_save": true
        },
        "id": "gg2ChavQZwja"
      },
      "outputs": [],
      "source": [
        "# Train the random forest\n",
        "RandomForest_SIX_Features.fit(train_important, y_train)"
      ]
    },
    {
      "cell_type": "code",
      "execution_count": null,
      "metadata": {
        "colab": {
          "background_save": true
        },
        "id": "TqBlmhxWZ3dN"
      },
      "outputs": [],
      "source": [
        "y_pred = RandomForest_SIX_Features.predict(test_important)"
      ]
    },
    {
      "cell_type": "code",
      "execution_count": null,
      "metadata": {
        "colab": {
          "background_save": true
        },
        "id": "5qJQMyhVZzSq"
      },
      "outputs": [],
      "source": [
        "from sklearn.metrics import r2_score\n",
        "from sklearn import metrics\n",
        "\n",
        "print('Model Score:',round(r2_score(y_test, y_pred),3))\n",
        "print('Mean Absolute Error:', round(metrics.mean_absolute_error(y_test, y_pred),2))\n",
        "print('Mean Squared Error:', round(metrics.mean_squared_error(y_test, y_pred),2))\n",
        "print('Root Mean Squared Error:', round(np.sqrt(metrics.mean_squared_error(y_test, y_pred)),2))"
      ]
    },
    {
      "cell_type": "code",
      "execution_count": null,
      "metadata": {
        "colab": {
          "background_save": true
        },
        "id": "Jf_e-vKwZ-w8"
      },
      "outputs": [],
      "source": [
        ""
      ]
    }
  ],
  "metadata": {
    "colab": {
      "collapsed_sections": [],
      "name": "Submission_Modular_project.ipynb",
      "provenance": [],
      "authorship_tag": "ABX9TyMpxF9iF5mgSCCxrHbTMI4r",
      "include_colab_link": true
    },
    "kernelspec": {
      "display_name": "Python 3",
      "name": "python3"
    },
    "language_info": {
      "name": "python"
    }
  },
  "nbformat": 4,
  "nbformat_minor": 0
}