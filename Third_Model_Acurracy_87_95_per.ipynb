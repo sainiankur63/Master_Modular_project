{
  "cells": [
    {
      "cell_type": "markdown",
      "metadata": {
        "id": "view-in-github",
        "colab_type": "text"
      },
      "source": [
        "<a href=\"https://colab.research.google.com/github/sainiankur63/Master_Modular_project/blob/main/Third_Model_Acurracy_87_95_per.ipynb\" target=\"_parent\"><img src=\"https://colab.research.google.com/assets/colab-badge.svg\" alt=\"Open In Colab\"/></a>"
      ]
    },
    {
      "cell_type": "markdown",
      "metadata": {
        "id": "f1gxe_Cl4e3h"
      },
      "source": [
        "**Important Steps** <br>\n",
        "**1) Removing Outliers**\n",
        "\n",
        "1.   PRICE : In between ( 100 USD and 60k USD )\n",
        "2.   YEAR : taking year greater than 1990\n",
        "3.   ODOMETER : In between ( 100 miles and 250000 miles)\n",
        "\n",
        "**2) Drop Columns** <br> \n",
        "[ 'id' , 'url', 'region' , 'region_url ', 'VIN' , 'image_url' , 'description' , 'county' , 'state' , 'model' , 'lat' , 'long' ,  'posting_date' ]\n",
        "\n",
        "**3) Null Values**\n",
        "\n",
        "\n",
        "1. df['transmission'] = df['transmission'].fillna(df.transmission.mode()[0])\n",
        "2. df['fuel'] = df['fuel'].fillna(df.fuel.mode()[0]) \n",
        "3. df['title_status'] = df['title_status'].fillna(df['title_status'].mode()[0])\n",
        "4. df['manufacturer'] = df['manufacturer'].fillna(df['manufacturer'].mode()[0])\n",
        "5. df['condition'] = df['condition'].fillna(df['condition'].mode()[0])\n",
        "6. df['cylinders'] = df['cylinders'].fillna(df['cylinders'].mode()[0])\n",
        "7. df['drive'] = df['drive'].fillna(df['drive'].mode()[0])\n",
        "8. df['type'] = df['type'].fillna(df['type'].mode()[0])\n",
        "9. df['paint_color'] = df['paint_color'].fillna(df['paint_color'].mode()[0])\n",
        "\n",
        "**4) Normalizaton**\n",
        "1.   Standard Scalar\n",
        "2.   Min Max Scalar\n",
        "\n",
        "**5) Model Outcome**\n",
        "\n",
        "1.   Random Forest :\n",
        "                    n_estimators : 300\n",
        "                    Model Score: 0.8795253332237268\n",
        "                    Mean Absolute Error: 2102.0\n",
        "                    Mean Squared Error: 20169880.59\n",
        "                    Root Mean Squared Error: 4491.09\n",
        "2.   Multi Linear Regression :\n",
        "                    Model Score: 0.5369479343200012  \n",
        "                    Mean Absolute Error: 6489.38\n",
        "                    Mean Squared Error: 77524222.51\n",
        "                    Root Mean Squared Error: 8804.78  \n",
        "  \n",
        "\n",
        "\n"
      ]
    },
    {
      "cell_type": "code",
      "execution_count": 1,
      "metadata": {
        "id": "iI2rr89FzFTZ"
      },
      "outputs": [],
      "source": [
        "!pip install pandas numpy pandas matplotlib seaborn opendatasets --quiet"
      ]
    },
    {
      "cell_type": "code",
      "execution_count": 2,
      "metadata": {
        "colab": {
          "base_uri": "https://localhost:8080/"
        },
        "id": "ry150PZVmhRK",
        "outputId": "1fa371ac-e7f2-4c13-9a53-393e8c1b9c34"
      },
      "outputs": [
        {
          "output_type": "stream",
          "name": "stdout",
          "text": [
            "Requirement already satisfied: imbalanced-learn in /usr/local/lib/python3.7/dist-packages (0.8.1)\n",
            "Requirement already satisfied: numpy>=1.13.3 in /usr/local/lib/python3.7/dist-packages (from imbalanced-learn) (1.21.5)\n",
            "Requirement already satisfied: scikit-learn>=0.24 in /usr/local/lib/python3.7/dist-packages (from imbalanced-learn) (1.0.2)\n",
            "Requirement already satisfied: joblib>=0.11 in /usr/local/lib/python3.7/dist-packages (from imbalanced-learn) (1.1.0)\n",
            "Requirement already satisfied: scipy>=0.19.1 in /usr/local/lib/python3.7/dist-packages (from imbalanced-learn) (1.4.1)\n",
            "Requirement already satisfied: threadpoolctl>=2.0.0 in /usr/local/lib/python3.7/dist-packages (from scikit-learn>=0.24->imbalanced-learn) (3.1.0)\n"
          ]
        }
      ],
      "source": [
        "!pip install imbalanced-learn"
      ]
    },
    {
      "cell_type": "code",
      "execution_count": 3,
      "metadata": {
        "id": "uM4nK_f1n9zA"
      },
      "outputs": [],
      "source": [
        "# To show all columns' names on a large pandas dataframe\n",
        "import pandas as pd\n",
        "pd.set_option('display.max_columns', None)"
      ]
    },
    {
      "cell_type": "code",
      "execution_count": 4,
      "metadata": {
        "id": "jC_GjB6VzPHO"
      },
      "outputs": [],
      "source": [
        "import pandas as pd\n",
        "import matplotlib\n",
        "import seaborn as sns\n",
        "from matplotlib import pyplot as plt\n",
        "%matplotlib inline\n",
        "matplotlib.rcParams['figure.figsize'] = (8,4)"
      ]
    },
    {
      "cell_type": "code",
      "execution_count": 5,
      "metadata": {
        "colab": {
          "base_uri": "https://localhost:8080/"
        },
        "id": "TMhPoH4QzRW1",
        "outputId": "8a197a00-d51d-4502-e0f5-f2c69e3a0ae2"
      },
      "outputs": [
        {
          "output_type": "stream",
          "name": "stdout",
          "text": [
            "Downloading craigslist-carstrucks-data.zip to ./craigslist-carstrucks-data\n"
          ]
        },
        {
          "output_type": "stream",
          "name": "stderr",
          "text": [
            "100%|██████████| 262M/262M [00:02<00:00, 125MB/s]\n"
          ]
        },
        {
          "output_type": "stream",
          "name": "stdout",
          "text": [
            "\n"
          ]
        }
      ],
      "source": [
        "import opendatasets as od\n",
        "dataset_url = 'https://www.kaggle.com/austinreese/craigslist-carstrucks-data'\n",
        "\n",
        "\n",
        "od.download(dataset_url)\n",
        "\n",
        "data_dir = './craigslist-carstrucks-data'"
      ]
    },
    {
      "cell_type": "code",
      "execution_count": 6,
      "metadata": {
        "id": "l7KZIphhzZeN"
      },
      "outputs": [],
      "source": [
        "df = pd.read_csv(data_dir+\"/vehicles.csv\")"
      ]
    },
    {
      "cell_type": "markdown",
      "metadata": {
        "id": "fQmf_HGoz1x1"
      },
      "source": [
        "### **Checking outliers for each labels Outlier Detection**"
      ]
    },
    {
      "cell_type": "code",
      "execution_count": 7,
      "metadata": {
        "id": "myMEV4SBQQoj",
        "colab": {
          "base_uri": "https://localhost:8080/"
        },
        "outputId": "2db18f55-1e2a-425c-b066-319fbe7d0253"
      },
      "outputs": [
        {
          "output_type": "stream",
          "name": "stdout",
          "text": [
            "<class 'pandas.core.frame.DataFrame'>\n",
            "RangeIndex: 426880 entries, 0 to 426879\n",
            "Data columns (total 26 columns):\n",
            " #   Column        Non-Null Count   Dtype  \n",
            "---  ------        --------------   -----  \n",
            " 0   id            426880 non-null  int64  \n",
            " 1   url           426880 non-null  object \n",
            " 2   region        426880 non-null  object \n",
            " 3   region_url    426880 non-null  object \n",
            " 4   price         426880 non-null  int64  \n",
            " 5   year          425675 non-null  float64\n",
            " 6   manufacturer  409234 non-null  object \n",
            " 7   model         421603 non-null  object \n",
            " 8   condition     252776 non-null  object \n",
            " 9   cylinders     249202 non-null  object \n",
            " 10  fuel          423867 non-null  object \n",
            " 11  odometer      422480 non-null  float64\n",
            " 12  title_status  418638 non-null  object \n",
            " 13  transmission  424324 non-null  object \n",
            " 14  VIN           265838 non-null  object \n",
            " 15  drive         296313 non-null  object \n",
            " 16  size          120519 non-null  object \n",
            " 17  type          334022 non-null  object \n",
            " 18  paint_color   296677 non-null  object \n",
            " 19  image_url     426812 non-null  object \n",
            " 20  description   426810 non-null  object \n",
            " 21  county        0 non-null       float64\n",
            " 22  state         426880 non-null  object \n",
            " 23  lat           420331 non-null  float64\n",
            " 24  long          420331 non-null  float64\n",
            " 25  posting_date  426812 non-null  object \n",
            "dtypes: float64(5), int64(2), object(19)\n",
            "memory usage: 84.7+ MB\n"
          ]
        }
      ],
      "source": [
        "df.info()"
      ]
    },
    {
      "cell_type": "markdown",
      "metadata": {
        "id": "f5dW1yuyOCym"
      },
      "source": [
        "### **First Checking Outliers for Numeric data columns** <br>\n",
        "Numeric columns : [ price ,year , odometer , lat , long ] <br>\n",
        "\n",
        "\n"
      ]
    },
    {
      "cell_type": "code",
      "execution_count": 8,
      "metadata": {
        "id": "FFYyLHtSgRZg",
        "colab": {
          "base_uri": "https://localhost:8080/",
          "height": 300
        },
        "outputId": "0a3bafa7-3dd7-4f80-f924-80dcff157838"
      },
      "outputs": [
        {
          "output_type": "execute_result",
          "data": {
            "text/plain": [
              "                   id           price        year      odometer county  \\\n",
              "count      426880.000      426880.000  425675.000    422480.000  0.000   \n",
              "mean   7311486634.224       75199.033    2011.235     98043.331    nan   \n",
              "std       4473170.413    12182282.174       9.452    213881.501    nan   \n",
              "min    7207408119.000           0.000    1900.000         0.000    nan   \n",
              "25%    7308143339.250        5900.000    2008.000     37704.000    nan   \n",
              "50%    7312620821.000       13950.000    2013.000     85548.000    nan   \n",
              "75%    7315253543.500       26485.750    2017.000    133542.500    nan   \n",
              "max    7317101084.000  3736928711.000    2022.000  10000000.000    nan   \n",
              "\n",
              "              lat        long  \n",
              "count  420331.000  420331.000  \n",
              "mean       38.494     -94.749  \n",
              "std         5.842      18.365  \n",
              "min       -84.122    -159.828  \n",
              "25%        34.602    -111.940  \n",
              "50%        39.150     -88.433  \n",
              "75%        42.399     -80.832  \n",
              "max        82.391     173.886  "
            ],
            "text/html": [
              "\n",
              "  <div id=\"df-ed24f6ec-7a5c-46f4-97a7-45e4c47ef8d6\">\n",
              "    <div class=\"colab-df-container\">\n",
              "      <div>\n",
              "<style scoped>\n",
              "    .dataframe tbody tr th:only-of-type {\n",
              "        vertical-align: middle;\n",
              "    }\n",
              "\n",
              "    .dataframe tbody tr th {\n",
              "        vertical-align: top;\n",
              "    }\n",
              "\n",
              "    .dataframe thead th {\n",
              "        text-align: right;\n",
              "    }\n",
              "</style>\n",
              "<table border=\"1\" class=\"dataframe\">\n",
              "  <thead>\n",
              "    <tr style=\"text-align: right;\">\n",
              "      <th></th>\n",
              "      <th>id</th>\n",
              "      <th>price</th>\n",
              "      <th>year</th>\n",
              "      <th>odometer</th>\n",
              "      <th>county</th>\n",
              "      <th>lat</th>\n",
              "      <th>long</th>\n",
              "    </tr>\n",
              "  </thead>\n",
              "  <tbody>\n",
              "    <tr>\n",
              "      <th>count</th>\n",
              "      <td>426880.000</td>\n",
              "      <td>426880.000</td>\n",
              "      <td>425675.000</td>\n",
              "      <td>422480.000</td>\n",
              "      <td>0.000</td>\n",
              "      <td>420331.000</td>\n",
              "      <td>420331.000</td>\n",
              "    </tr>\n",
              "    <tr>\n",
              "      <th>mean</th>\n",
              "      <td>7311486634.224</td>\n",
              "      <td>75199.033</td>\n",
              "      <td>2011.235</td>\n",
              "      <td>98043.331</td>\n",
              "      <td>nan</td>\n",
              "      <td>38.494</td>\n",
              "      <td>-94.749</td>\n",
              "    </tr>\n",
              "    <tr>\n",
              "      <th>std</th>\n",
              "      <td>4473170.413</td>\n",
              "      <td>12182282.174</td>\n",
              "      <td>9.452</td>\n",
              "      <td>213881.501</td>\n",
              "      <td>nan</td>\n",
              "      <td>5.842</td>\n",
              "      <td>18.365</td>\n",
              "    </tr>\n",
              "    <tr>\n",
              "      <th>min</th>\n",
              "      <td>7207408119.000</td>\n",
              "      <td>0.000</td>\n",
              "      <td>1900.000</td>\n",
              "      <td>0.000</td>\n",
              "      <td>nan</td>\n",
              "      <td>-84.122</td>\n",
              "      <td>-159.828</td>\n",
              "    </tr>\n",
              "    <tr>\n",
              "      <th>25%</th>\n",
              "      <td>7308143339.250</td>\n",
              "      <td>5900.000</td>\n",
              "      <td>2008.000</td>\n",
              "      <td>37704.000</td>\n",
              "      <td>nan</td>\n",
              "      <td>34.602</td>\n",
              "      <td>-111.940</td>\n",
              "    </tr>\n",
              "    <tr>\n",
              "      <th>50%</th>\n",
              "      <td>7312620821.000</td>\n",
              "      <td>13950.000</td>\n",
              "      <td>2013.000</td>\n",
              "      <td>85548.000</td>\n",
              "      <td>nan</td>\n",
              "      <td>39.150</td>\n",
              "      <td>-88.433</td>\n",
              "    </tr>\n",
              "    <tr>\n",
              "      <th>75%</th>\n",
              "      <td>7315253543.500</td>\n",
              "      <td>26485.750</td>\n",
              "      <td>2017.000</td>\n",
              "      <td>133542.500</td>\n",
              "      <td>nan</td>\n",
              "      <td>42.399</td>\n",
              "      <td>-80.832</td>\n",
              "    </tr>\n",
              "    <tr>\n",
              "      <th>max</th>\n",
              "      <td>7317101084.000</td>\n",
              "      <td>3736928711.000</td>\n",
              "      <td>2022.000</td>\n",
              "      <td>10000000.000</td>\n",
              "      <td>nan</td>\n",
              "      <td>82.391</td>\n",
              "      <td>173.886</td>\n",
              "    </tr>\n",
              "  </tbody>\n",
              "</table>\n",
              "</div>\n",
              "      <button class=\"colab-df-convert\" onclick=\"convertToInteractive('df-ed24f6ec-7a5c-46f4-97a7-45e4c47ef8d6')\"\n",
              "              title=\"Convert this dataframe to an interactive table.\"\n",
              "              style=\"display:none;\">\n",
              "        \n",
              "  <svg xmlns=\"http://www.w3.org/2000/svg\" height=\"24px\"viewBox=\"0 0 24 24\"\n",
              "       width=\"24px\">\n",
              "    <path d=\"M0 0h24v24H0V0z\" fill=\"none\"/>\n",
              "    <path d=\"M18.56 5.44l.94 2.06.94-2.06 2.06-.94-2.06-.94-.94-2.06-.94 2.06-2.06.94zm-11 1L8.5 8.5l.94-2.06 2.06-.94-2.06-.94L8.5 2.5l-.94 2.06-2.06.94zm10 10l.94 2.06.94-2.06 2.06-.94-2.06-.94-.94-2.06-.94 2.06-2.06.94z\"/><path d=\"M17.41 7.96l-1.37-1.37c-.4-.4-.92-.59-1.43-.59-.52 0-1.04.2-1.43.59L10.3 9.45l-7.72 7.72c-.78.78-.78 2.05 0 2.83L4 21.41c.39.39.9.59 1.41.59.51 0 1.02-.2 1.41-.59l7.78-7.78 2.81-2.81c.8-.78.8-2.07 0-2.86zM5.41 20L4 18.59l7.72-7.72 1.47 1.35L5.41 20z\"/>\n",
              "  </svg>\n",
              "      </button>\n",
              "      \n",
              "  <style>\n",
              "    .colab-df-container {\n",
              "      display:flex;\n",
              "      flex-wrap:wrap;\n",
              "      gap: 12px;\n",
              "    }\n",
              "\n",
              "    .colab-df-convert {\n",
              "      background-color: #E8F0FE;\n",
              "      border: none;\n",
              "      border-radius: 50%;\n",
              "      cursor: pointer;\n",
              "      display: none;\n",
              "      fill: #1967D2;\n",
              "      height: 32px;\n",
              "      padding: 0 0 0 0;\n",
              "      width: 32px;\n",
              "    }\n",
              "\n",
              "    .colab-df-convert:hover {\n",
              "      background-color: #E2EBFA;\n",
              "      box-shadow: 0px 1px 2px rgba(60, 64, 67, 0.3), 0px 1px 3px 1px rgba(60, 64, 67, 0.15);\n",
              "      fill: #174EA6;\n",
              "    }\n",
              "\n",
              "    [theme=dark] .colab-df-convert {\n",
              "      background-color: #3B4455;\n",
              "      fill: #D2E3FC;\n",
              "    }\n",
              "\n",
              "    [theme=dark] .colab-df-convert:hover {\n",
              "      background-color: #434B5C;\n",
              "      box-shadow: 0px 1px 3px 1px rgba(0, 0, 0, 0.15);\n",
              "      filter: drop-shadow(0px 1px 2px rgba(0, 0, 0, 0.3));\n",
              "      fill: #FFFFFF;\n",
              "    }\n",
              "  </style>\n",
              "\n",
              "      <script>\n",
              "        const buttonEl =\n",
              "          document.querySelector('#df-ed24f6ec-7a5c-46f4-97a7-45e4c47ef8d6 button.colab-df-convert');\n",
              "        buttonEl.style.display =\n",
              "          google.colab.kernel.accessAllowed ? 'block' : 'none';\n",
              "\n",
              "        async function convertToInteractive(key) {\n",
              "          const element = document.querySelector('#df-ed24f6ec-7a5c-46f4-97a7-45e4c47ef8d6');\n",
              "          const dataTable =\n",
              "            await google.colab.kernel.invokeFunction('convertToInteractive',\n",
              "                                                     [key], {});\n",
              "          if (!dataTable) return;\n",
              "\n",
              "          const docLinkHtml = 'Like what you see? Visit the ' +\n",
              "            '<a target=\"_blank\" href=https://colab.research.google.com/notebooks/data_table.ipynb>data table notebook</a>'\n",
              "            + ' to learn more about interactive tables.';\n",
              "          element.innerHTML = '';\n",
              "          dataTable['output_type'] = 'display_data';\n",
              "          await google.colab.output.renderOutput(dataTable, element);\n",
              "          const docLink = document.createElement('div');\n",
              "          docLink.innerHTML = docLinkHtml;\n",
              "          element.appendChild(docLink);\n",
              "        }\n",
              "      </script>\n",
              "    </div>\n",
              "  </div>\n",
              "  "
            ]
          },
          "metadata": {},
          "execution_count": 8
        }
      ],
      "source": [
        "df.describe().applymap(lambda x: f\"{x:0.3f}\")"
      ]
    },
    {
      "cell_type": "code",
      "execution_count": 9,
      "metadata": {
        "id": "72uo6KjUhqpn",
        "colab": {
          "base_uri": "https://localhost:8080/",
          "height": 365
        },
        "outputId": "a7a32bb3-016e-4436-9b5b-eec487c567cc"
      },
      "outputs": [
        {
          "output_type": "stream",
          "name": "stderr",
          "text": [
            "/usr/local/lib/python3.7/dist-packages/seaborn/distributions.py:2619: FutureWarning: `distplot` is a deprecated function and will be removed in a future version. Please adapt your code to use either `displot` (a figure-level function with similar flexibility) or `histplot` (an axes-level function for histograms).\n",
            "  warnings.warn(msg, FutureWarning)\n"
          ]
        },
        {
          "output_type": "execute_result",
          "data": {
            "text/plain": [
              "<matplotlib.axes._subplots.AxesSubplot at 0x7f6453d907d0>"
            ]
          },
          "metadata": {},
          "execution_count": 9
        },
        {
          "output_type": "display_data",
          "data": {
            "text/plain": [
              "<Figure size 576x288 with 1 Axes>"
            ],
            "image/png": "[encoded data removed]"
          },
          "metadata": {
            "needs_background": "light"
          }
        }
      ],
      "source": [
        "sns.distplot(df[(df.price >=  100) & (df.price <= 60000)].price)"
      ]
    },
    {
      "cell_type": "code",
      "execution_count": 10,
      "metadata": {
        "id": "bPR0cHd-iFsN",
        "colab": {
          "base_uri": "https://localhost:8080/"
        },
        "outputId": "56b77a9c-30f2-4879-b032-77794c337d1d"
      },
      "outputs": [
        {
          "output_type": "execute_result",
          "data": {
            "text/plain": [
              "(6320, 26)"
            ]
          },
          "metadata": {},
          "execution_count": 10
        }
      ],
      "source": [
        "df[(df.price >= 60000)].shape"
      ]
    },
    {
      "cell_type": "code",
      "execution_count": 11,
      "metadata": {
        "id": "EigHMJJXf9VO",
        "colab": {
          "base_uri": "https://localhost:8080/"
        },
        "outputId": "2157d16e-19e9-4fad-e82c-f7d3d7d2b153"
      },
      "outputs": [
        {
          "output_type": "stream",
          "name": "stdout",
          "text": [
            "-55857.25\n",
            "88243.0\n"
          ]
        },
        {
          "output_type": "execute_result",
          "data": {
            "text/plain": [
              "(None, None)"
            ]
          },
          "metadata": {},
          "execution_count": 11
        }
      ],
      "source": [
        "# Outlier removal in price column\n",
        "\n",
        "#### Lets compute the Interquantile range to calculate the boundaries\n",
        "IQR=df.price.quantile(0.75)-df.price.quantile(0.25)\n",
        "\n",
        "#### Extreme outliers\n",
        "lower_lim_price = df['price'].quantile(0.25)-(IQR*3)\n",
        "upper_lim_price = df['price'].quantile(0.75)+(IQR*3)\n",
        "print(lower_lim_price), print(upper_lim_price)"
      ]
    },
    {
      "cell_type": "code",
      "execution_count": 12,
      "metadata": {
        "id": "oIWpfMRVhOCM",
        "colab": {
          "base_uri": "https://localhost:8080/"
        },
        "outputId": "a2fc8984-6e44-4fa1-8b33-538735974c75"
      },
      "outputs": [
        {
          "output_type": "stream",
          "name": "stdout",
          "text": [
            "-24978.625\n",
            "57364.375\n"
          ]
        },
        {
          "output_type": "execute_result",
          "data": {
            "text/plain": [
              "(None, None)"
            ]
          },
          "metadata": {},
          "execution_count": 12
        }
      ],
      "source": [
        "lower_lim = df['price'].quantile(0.25)-(IQR*1.5)\n",
        "upper_lim = df['price'].quantile(0.75)+(IQR*1.5)\n",
        "print(lower_lim), print(upper_lim)"
      ]
    },
    {
      "cell_type": "code",
      "execution_count": 13,
      "metadata": {
        "id": "N0BxJlPfiYBG"
      },
      "outputs": [],
      "source": [
        "# Taking 100 dollars as min and 60k dollars max value for price\n",
        "\n",
        "df = df[(df.price >=  100) & (df.price <= 60000)]"
      ]
    },
    {
      "cell_type": "code",
      "execution_count": 14,
      "metadata": {
        "id": "o98dXAGWjTqy",
        "colab": {
          "base_uri": "https://localhost:8080/"
        },
        "outputId": "6172b6ce-f953-4b4d-808e-08a3aeece346"
      },
      "outputs": [
        {
          "output_type": "execute_result",
          "data": {
            "text/plain": [
              "(384392, 26)"
            ]
          },
          "metadata": {},
          "execution_count": 14
        }
      ],
      "source": [
        "df.shape"
      ]
    },
    {
      "cell_type": "code",
      "execution_count": 15,
      "metadata": {
        "id": "S9x0paSDzvx1",
        "colab": {
          "base_uri": "https://localhost:8080/"
        },
        "outputId": "73bd6fc7-7b90-4519-81e2-472664bbb328"
      },
      "outputs": [
        {
          "output_type": "execute_result",
          "data": {
            "text/plain": [
              "1018"
            ]
          },
          "metadata": {},
          "execution_count": 15
        }
      ],
      "source": [
        "# Outlier removal in year column\n",
        "\n",
        "df['year'].isnull().sum()"
      ]
    },
    {
      "cell_type": "code",
      "execution_count": 16,
      "metadata": {
        "id": "PLthtpAYz_vF",
        "colab": {
          "base_uri": "https://localhost:8080/",
          "height": 353
        },
        "outputId": "d3f89970-b1f8-46e8-da1d-29494eb745ac"
      },
      "outputs": [
        {
          "output_type": "stream",
          "name": "stderr",
          "text": [
            "/usr/local/lib/python3.7/dist-packages/seaborn/distributions.py:2619: FutureWarning: `distplot` is a deprecated function and will be removed in a future version. Please adapt your code to use either `displot` (a figure-level function with similar flexibility) or `histplot` (an axes-level function for histograms).\n",
            "  warnings.warn(msg, FutureWarning)\n"
          ]
        },
        {
          "output_type": "execute_result",
          "data": {
            "text/plain": [
              "<matplotlib.axes._subplots.AxesSubplot at 0x7f6426a0af10>"
            ]
          },
          "metadata": {},
          "execution_count": 16
        },
        {
          "output_type": "display_data",
          "data": {
            "text/plain": [
              "<Figure size 576x288 with 1 Axes>"
            ],
            "image/png": "[encoded data removed]"
          },
          "metadata": {
            "needs_background": "light"
          }
        }
      ],
      "source": [
        "# checking the distribution of year column\n",
        "import seaborn as sns\n",
        "\n",
        "sns.distplot(df['year'].dropna())"
      ]
    },
    {
      "cell_type": "markdown",
      "metadata": {
        "id": "eLq4Fc8ZS7pn"
      },
      "source": [
        "**Observation:**\n",
        "1. Data is left Skewed"
      ]
    },
    {
      "cell_type": "code",
      "execution_count": 17,
      "metadata": {
        "id": "cLbYr0237sGr"
      },
      "outputs": [],
      "source": [
        "#import seaborn as sns\n",
        "#sns.boxplot(df['year'])"
      ]
    },
    {
      "cell_type": "code",
      "execution_count": 18,
      "metadata": {
        "id": "E9EouBLsPUQI",
        "colab": {
          "base_uri": "https://localhost:8080/",
          "height": 265
        },
        "outputId": "9dc1bcbc-510f-41e3-8e2b-d783fb85ce47"
      },
      "outputs": [
        {
          "output_type": "display_data",
          "data": {
            "text/plain": [
              "<Figure size 576x288 with 1 Axes>"
            ],
            "image/png": "[encoded data removed]"
          },
          "metadata": {
            "needs_background": "light"
          }
        }
      ],
      "source": [
        "import seaborn as sns\n",
        "figure=df.boxplot(column=\"year\")"
      ]
    },
    {
      "cell_type": "code",
      "execution_count": 19,
      "metadata": {
        "id": "ts7Wnuhc0JVN",
        "colab": {
          "base_uri": "https://localhost:8080/",
          "height": 279
        },
        "outputId": "1ea329e2-04d5-4578-f360-871090bca931"
      },
      "outputs": [
        {
          "output_type": "display_data",
          "data": {
            "text/plain": [
              "<Figure size 576x288 with 1 Axes>"
            ],
            "image/png": "[encoded data removed]"
          },
          "metadata": {
            "needs_background": "light"
          }
        }
      ],
      "source": [
        "# Histogram for year column\n",
        "\n",
        "plt.hist(df.year, bins=20, rwidth=0.8)\n",
        "plt.xlabel('year')\n",
        "plt.ylabel('Count')\n",
        "plt.show()"
      ]
    },
    {
      "cell_type": "code",
      "execution_count": 20,
      "metadata": {
        "id": "YL9mBJuMR6Cf",
        "colab": {
          "base_uri": "https://localhost:8080/"
        },
        "outputId": "14f2a33e-ddc8-4023-a87a-6f1ddf589f9c"
      },
      "outputs": [
        {
          "output_type": "execute_result",
          "data": {
            "text/plain": [
              "count    383374.000000\n",
              "mean       2010.955506\n",
              "std           9.504683\n",
              "min        1900.000000\n",
              "25%        2008.000000\n",
              "50%        2013.000000\n",
              "75%        2017.000000\n",
              "max        2022.000000\n",
              "Name: year, dtype: float64"
            ]
          },
          "metadata": {},
          "execution_count": 20
        }
      ],
      "source": [
        "df['year'].describe()"
      ]
    },
    {
      "cell_type": "markdown",
      "metadata": {
        "id": "R1Ccuiph03F_"
      },
      "source": [
        "As per the above graphs it is clearly shows that data of year is left skewed. \n",
        "For skewed Data , IQR techniqie is implement to remove outliers"
      ]
    },
    {
      "cell_type": "code",
      "execution_count": 21,
      "metadata": {
        "id": "bMlmvUHRVIsV"
      },
      "outputs": [],
      "source": [
        "#### Lets compute the Interquantile range to calculate the boundaries\n",
        "IQR=df.year.quantile(0.75)-df.year.quantile(0.25)"
      ]
    },
    {
      "cell_type": "code",
      "execution_count": 22,
      "metadata": {
        "id": "REg-qnGEVJ-n",
        "colab": {
          "base_uri": "https://localhost:8080/"
        },
        "outputId": "e738ccd5-6f45-44d6-8e22-5e542b384e60"
      },
      "outputs": [
        {
          "output_type": "stream",
          "name": "stdout",
          "text": [
            "1994.5\n",
            "2030.5\n"
          ]
        },
        {
          "output_type": "execute_result",
          "data": {
            "text/plain": [
              "(None, None)"
            ]
          },
          "metadata": {},
          "execution_count": 22
        }
      ],
      "source": [
        "lower_lim_year = df['year'].quantile(0.25)-(IQR*1.5)\n",
        "upper_lim_year = df['year'].quantile(0.75)+(IQR*1.5)\n",
        "print(lower_lim_year), print(upper_lim_year)"
      ]
    },
    {
      "cell_type": "code",
      "execution_count": 23,
      "metadata": {
        "id": "Swuo0clTV6F3",
        "colab": {
          "base_uri": "https://localhost:8080/",
          "height": 300
        },
        "outputId": "da6f4a63-01c4-4965-8691-5ab79bfd70bc"
      },
      "outputs": [
        {
          "output_type": "execute_result",
          "data": {
            "text/plain": [
              "                   id       price        year      odometer county  \\\n",
              "count      384392.000  384392.000  383374.000    382171.000  0.000   \n",
              "mean   7311481807.202   18095.776    2010.956     99475.075    nan   \n",
              "std       4475633.430   13008.848       9.505    199702.266    nan   \n",
              "min    7207408119.000     100.000    1900.000         0.000    nan   \n",
              "25%    7308130373.250    7295.000    2008.000     39348.000    nan   \n",
              "50%    7312630621.500   14999.000    2013.000     88706.000    nan   \n",
              "75%    7315251517.000   26990.000    2017.000    136462.000    nan   \n",
              "max    7317101084.000   60000.000    2022.000  10000000.000    nan   \n",
              "\n",
              "              lat        long  \n",
              "count  380930.000  380930.000  \n",
              "mean       38.529     -94.354  \n",
              "std         5.837      18.137  \n",
              "min       -84.122    -159.720  \n",
              "25%        34.736    -110.962  \n",
              "50%        39.260     -88.001  \n",
              "75%        42.364     -80.830  \n",
              "max        82.391     167.630  "
            ],
            "text/html": [
              "\n",
              "  <div id=\"df-4b5c81dd-90f2-460f-b659-78b4e0878316\">\n",
              "    <div class=\"colab-df-container\">\n",
              "      <div>\n",
              "<style scoped>\n",
              "    .dataframe tbody tr th:only-of-type {\n",
              "        vertical-align: middle;\n",
              "    }\n",
              "\n",
              "    .dataframe tbody tr th {\n",
              "        vertical-align: top;\n",
              "    }\n",
              "\n",
              "    .dataframe thead th {\n",
              "        text-align: right;\n",
              "    }\n",
              "</style>\n",
              "<table border=\"1\" class=\"dataframe\">\n",
              "  <thead>\n",
              "    <tr style=\"text-align: right;\">\n",
              "      <th></th>\n",
              "      <th>id</th>\n",
              "      <th>price</th>\n",
              "      <th>year</th>\n",
              "      <th>odometer</th>\n",
              "      <th>county</th>\n",
              "      <th>lat</th>\n",
              "      <th>long</th>\n",
              "    </tr>\n",
              "  </thead>\n",
              "  <tbody>\n",
              "    <tr>\n",
              "      <th>count</th>\n",
              "      <td>384392.000</td>\n",
              "      <td>384392.000</td>\n",
              "      <td>383374.000</td>\n",
              "      <td>382171.000</td>\n",
              "      <td>0.000</td>\n",
              "      <td>380930.000</td>\n",
              "      <td>380930.000</td>\n",
              "    </tr>\n",
              "    <tr>\n",
              "      <th>mean</th>\n",
              "      <td>7311481807.202</td>\n",
              "      <td>18095.776</td>\n",
              "      <td>2010.956</td>\n",
              "      <td>99475.075</td>\n",
              "      <td>nan</td>\n",
              "      <td>38.529</td>\n",
              "      <td>-94.354</td>\n",
              "    </tr>\n",
              "    <tr>\n",
              "      <th>std</th>\n",
              "      <td>4475633.430</td>\n",
              "      <td>13008.848</td>\n",
              "      <td>9.505</td>\n",
              "      <td>199702.266</td>\n",
              "      <td>nan</td>\n",
              "      <td>5.837</td>\n",
              "      <td>18.137</td>\n",
              "    </tr>\n",
              "    <tr>\n",
              "      <th>min</th>\n",
              "      <td>7207408119.000</td>\n",
              "      <td>100.000</td>\n",
              "      <td>1900.000</td>\n",
              "      <td>0.000</td>\n",
              "      <td>nan</td>\n",
              "      <td>-84.122</td>\n",
              "      <td>-159.720</td>\n",
              "    </tr>\n",
              "    <tr>\n",
              "      <th>25%</th>\n",
              "      <td>7308130373.250</td>\n",
              "      <td>7295.000</td>\n",
              "      <td>2008.000</td>\n",
              "      <td>39348.000</td>\n",
              "      <td>nan</td>\n",
              "      <td>34.736</td>\n",
              "      <td>-110.962</td>\n",
              "    </tr>\n",
              "    <tr>\n",
              "      <th>50%</th>\n",
              "      <td>7312630621.500</td>\n",
              "      <td>14999.000</td>\n",
              "      <td>2013.000</td>\n",
              "      <td>88706.000</td>\n",
              "      <td>nan</td>\n",
              "      <td>39.260</td>\n",
              "      <td>-88.001</td>\n",
              "    </tr>\n",
              "    <tr>\n",
              "      <th>75%</th>\n",
              "      <td>7315251517.000</td>\n",
              "      <td>26990.000</td>\n",
              "      <td>2017.000</td>\n",
              "      <td>136462.000</td>\n",
              "      <td>nan</td>\n",
              "      <td>42.364</td>\n",
              "      <td>-80.830</td>\n",
              "    </tr>\n",
              "    <tr>\n",
              "      <th>max</th>\n",
              "      <td>7317101084.000</td>\n",
              "      <td>60000.000</td>\n",
              "      <td>2022.000</td>\n",
              "      <td>10000000.000</td>\n",
              "      <td>nan</td>\n",
              "      <td>82.391</td>\n",
              "      <td>167.630</td>\n",
              "    </tr>\n",
              "  </tbody>\n",
              "</table>\n",
              "</div>\n",
              "      <button class=\"colab-df-convert\" onclick=\"convertToInteractive('df-4b5c81dd-90f2-460f-b659-78b4e0878316')\"\n",
              "              title=\"Convert this dataframe to an interactive table.\"\n",
              "              style=\"display:none;\">\n",
              "        \n",
              "  <svg xmlns=\"http://www.w3.org/2000/svg\" height=\"24px\"viewBox=\"0 0 24 24\"\n",
              "       width=\"24px\">\n",
              "    <path d=\"M0 0h24v24H0V0z\" fill=\"none\"/>\n",
              "    <path d=\"M18.56 5.44l.94 2.06.94-2.06 2.06-.94-2.06-.94-.94-2.06-.94 2.06-2.06.94zm-11 1L8.5 8.5l.94-2.06 2.06-.94-2.06-.94L8.5 2.5l-.94 2.06-2.06.94zm10 10l.94 2.06.94-2.06 2.06-.94-2.06-.94-.94-2.06-.94 2.06-2.06.94z\"/><path d=\"M17.41 7.96l-1.37-1.37c-.4-.4-.92-.59-1.43-.59-.52 0-1.04.2-1.43.59L10.3 9.45l-7.72 7.72c-.78.78-.78 2.05 0 2.83L4 21.41c.39.39.9.59 1.41.59.51 0 1.02-.2 1.41-.59l7.78-7.78 2.81-2.81c.8-.78.8-2.07 0-2.86zM5.41 20L4 18.59l7.72-7.72 1.47 1.35L5.41 20z\"/>\n",
              "  </svg>\n",
              "      </button>\n",
              "      \n",
              "  <style>\n",
              "    .colab-df-container {\n",
              "      display:flex;\n",
              "      flex-wrap:wrap;\n",
              "      gap: 12px;\n",
              "    }\n",
              "\n",
              "    .colab-df-convert {\n",
              "      background-color: #E8F0FE;\n",
              "      border: none;\n",
              "      border-radius: 50%;\n",
              "      cursor: pointer;\n",
              "      display: none;\n",
              "      fill: #1967D2;\n",
              "      height: 32px;\n",
              "      padding: 0 0 0 0;\n",
              "      width: 32px;\n",
              "    }\n",
              "\n",
              "    .colab-df-convert:hover {\n",
              "      background-color: #E2EBFA;\n",
              "      box-shadow: 0px 1px 2px rgba(60, 64, 67, 0.3), 0px 1px 3px 1px rgba(60, 64, 67, 0.15);\n",
              "      fill: #174EA6;\n",
              "    }\n",
              "\n",
              "    [theme=dark] .colab-df-convert {\n",
              "      background-color: #3B4455;\n",
              "      fill: #D2E3FC;\n",
              "    }\n",
              "\n",
              "    [theme=dark] .colab-df-convert:hover {\n",
              "      background-color: #434B5C;\n",
              "      box-shadow: 0px 1px 3px 1px rgba(0, 0, 0, 0.15);\n",
              "      filter: drop-shadow(0px 1px 2px rgba(0, 0, 0, 0.3));\n",
              "      fill: #FFFFFF;\n",
              "    }\n",
              "  </style>\n",
              "\n",
              "      <script>\n",
              "        const buttonEl =\n",
              "          document.querySelector('#df-4b5c81dd-90f2-460f-b659-78b4e0878316 button.colab-df-convert');\n",
              "        buttonEl.style.display =\n",
              "          google.colab.kernel.accessAllowed ? 'block' : 'none';\n",
              "\n",
              "        async function convertToInteractive(key) {\n",
              "          const element = document.querySelector('#df-4b5c81dd-90f2-460f-b659-78b4e0878316');\n",
              "          const dataTable =\n",
              "            await google.colab.kernel.invokeFunction('convertToInteractive',\n",
              "                                                     [key], {});\n",
              "          if (!dataTable) return;\n",
              "\n",
              "          const docLinkHtml = 'Like what you see? Visit the ' +\n",
              "            '<a target=\"_blank\" href=https://colab.research.google.com/notebooks/data_table.ipynb>data table notebook</a>'\n",
              "            + ' to learn more about interactive tables.';\n",
              "          element.innerHTML = '';\n",
              "          dataTable['output_type'] = 'display_data';\n",
              "          await google.colab.output.renderOutput(dataTable, element);\n",
              "          const docLink = document.createElement('div');\n",
              "          docLink.innerHTML = docLinkHtml;\n",
              "          element.appendChild(docLink);\n",
              "        }\n",
              "      </script>\n",
              "    </div>\n",
              "  </div>\n",
              "  "
            ]
          },
          "metadata": {},
          "execution_count": 23
        }
      ],
      "source": [
        "#### Extreme outliers\n",
        "#lower_bridge=df['year'].quantile(0.25)-(IQR*3)\n",
        "#upper_bridge=df['year'].quantile(0.75)+(IQR*3)\n",
        "#print(lower_bridge), print(upper_bridge)\n",
        "\n",
        "df.describe().applymap(lambda x: f\"{x:0.3f}\")"
      ]
    },
    {
      "cell_type": "code",
      "execution_count": 24,
      "metadata": {
        "id": "SYVOAjaCUBcK",
        "colab": {
          "base_uri": "https://localhost:8080/"
        },
        "outputId": "20f90930-c247-4cb4-aa00-906730d4bfbb"
      },
      "outputs": [
        {
          "output_type": "execute_result",
          "data": {
            "text/plain": [
              "(384392, 26)"
            ]
          },
          "metadata": {},
          "execution_count": 24
        }
      ],
      "source": [
        "df.shape"
      ]
    },
    {
      "cell_type": "code",
      "execution_count": 25,
      "metadata": {
        "id": "yky5TGvw1SoB"
      },
      "outputs": [],
      "source": [
        "# Removing Outliers in year c\n",
        "\n",
        "df = df[(df['year'] >= 1990)]"
      ]
    },
    {
      "cell_type": "code",
      "execution_count": 26,
      "metadata": {
        "id": "BM4RdVav1aGZ",
        "colab": {
          "base_uri": "https://localhost:8080/"
        },
        "outputId": "76e43eec-dacd-4404-f830-5b705059f22d"
      },
      "outputs": [
        {
          "output_type": "stream",
          "name": "stdout",
          "text": [
            "Shape of dataset after Outliers removal in YEAR column :  371787\n"
          ]
        }
      ],
      "source": [
        "print(\"Shape of dataset after Outliers removal in YEAR column : \",len(df))"
      ]
    },
    {
      "cell_type": "markdown",
      "metadata": {
        "id": "n7Xj1Hb6X3zc"
      },
      "source": [
        "**Outlier removal for odometer column**"
      ]
    },
    {
      "cell_type": "code",
      "execution_count": 27,
      "metadata": {
        "id": "5QVpaaOf8Rzx",
        "colab": {
          "base_uri": "https://localhost:8080/",
          "height": 365
        },
        "outputId": "2cdcb895-5f85-4f74-822c-91de968b25d7"
      },
      "outputs": [
        {
          "output_type": "stream",
          "name": "stderr",
          "text": [
            "/usr/local/lib/python3.7/dist-packages/seaborn/distributions.py:2619: FutureWarning: `distplot` is a deprecated function and will be removed in a future version. Please adapt your code to use either `displot` (a figure-level function with similar flexibility) or `histplot` (an axes-level function for histograms).\n",
            "  warnings.warn(msg, FutureWarning)\n"
          ]
        },
        {
          "output_type": "execute_result",
          "data": {
            "text/plain": [
              "<matplotlib.axes._subplots.AxesSubplot at 0x7f642daba250>"
            ]
          },
          "metadata": {},
          "execution_count": 27
        },
        {
          "output_type": "display_data",
          "data": {
            "text/plain": [
              "<Figure size 576x288 with 1 Axes>"
            ],
            "image/png": "[encoded data removed]"
          },
          "metadata": {
            "needs_background": "light"
          }
        }
      ],
      "source": [
        "# checking the distribution of odometer column\n",
        "\n",
        "import seaborn as sns\n",
        "\n",
        "sns.distplot(df['odometer'].dropna())"
      ]
    },
    {
      "cell_type": "code",
      "execution_count": 28,
      "metadata": {
        "id": "k_IGMFk98cfX",
        "colab": {
          "base_uri": "https://localhost:8080/",
          "height": 279
        },
        "outputId": "4514f4bd-a500-4e1a-9beb-a6cc0b3531be"
      },
      "outputs": [
        {
          "output_type": "display_data",
          "data": {
            "text/plain": [
              "<Figure size 576x288 with 1 Axes>"
            ],
            "image/png": "[encoded data removed]"
          },
          "metadata": {
            "needs_background": "light"
          }
        }
      ],
      "source": [
        "# creating boxplot for odometer column\n",
        "\n",
        "plt.hist(df.odometer, bins=20, rwidth=0.8)      \n",
        "plt.xlabel('odometer')\n",
        "plt.ylabel('Count')\n",
        "plt.show()"
      ]
    },
    {
      "cell_type": "code",
      "execution_count": 29,
      "metadata": {
        "id": "KpnEro87EBWV",
        "colab": {
          "base_uri": "https://localhost:8080/",
          "height": 300
        },
        "outputId": "5eaed8e4-ac42-4758-d937-5c48e25b51ed"
      },
      "outputs": [
        {
          "output_type": "execute_result",
          "data": {
            "text/plain": [
              "                   id       price        year      odometer county  \\\n",
              "count      371787.000  371787.000  371787.000    369652.000  0.000   \n",
              "mean   7311478150.029   18172.607    2012.211     97957.321    nan   \n",
              "std       4388481.648   12997.286       5.818    145342.068    nan   \n",
              "min    7301583321.000     100.000    1990.000         0.000    nan   \n",
              "25%    7308091642.000    7490.000    2008.000     39928.000    nan   \n",
              "50%    7312600339.000   15000.000    2013.000     89868.000    nan   \n",
              "75%    7315244180.500   26995.000    2017.000    137481.000    nan   \n",
              "max    7317101084.000   60000.000    2022.000  10000000.000    nan   \n",
              "\n",
              "              lat        long  \n",
              "count  368413.000  368413.000  \n",
              "mean       38.534     -94.279  \n",
              "std         5.841      18.140  \n",
              "min       -84.122    -159.720  \n",
              "25%        34.756    -110.960  \n",
              "50%        39.260     -87.948  \n",
              "75%        42.370     -80.798  \n",
              "max        82.253     167.630  "
            ],
            "text/html": [
              "\n",
              "  <div id=\"df-5eec9d3f-6384-4307-94d0-b981dbfb9f03\">\n",
              "    <div class=\"colab-df-container\">\n",
              "      <div>\n",
              "<style scoped>\n",
              "    .dataframe tbody tr th:only-of-type {\n",
              "        vertical-align: middle;\n",
              "    }\n",
              "\n",
              "    .dataframe tbody tr th {\n",
              "        vertical-align: top;\n",
              "    }\n",
              "\n",
              "    .dataframe thead th {\n",
              "        text-align: right;\n",
              "    }\n",
              "</style>\n",
              "<table border=\"1\" class=\"dataframe\">\n",
              "  <thead>\n",
              "    <tr style=\"text-align: right;\">\n",
              "      <th></th>\n",
              "      <th>id</th>\n",
              "      <th>price</th>\n",
              "      <th>year</th>\n",
              "      <th>odometer</th>\n",
              "      <th>county</th>\n",
              "      <th>lat</th>\n",
              "      <th>long</th>\n",
              "    </tr>\n",
              "  </thead>\n",
              "  <tbody>\n",
              "    <tr>\n",
              "      <th>count</th>\n",
              "      <td>371787.000</td>\n",
              "      <td>371787.000</td>\n",
              "      <td>371787.000</td>\n",
              "      <td>369652.000</td>\n",
              "      <td>0.000</td>\n",
              "      <td>368413.000</td>\n",
              "      <td>368413.000</td>\n",
              "    </tr>\n",
              "    <tr>\n",
              "      <th>mean</th>\n",
              "      <td>7311478150.029</td>\n",
              "      <td>18172.607</td>\n",
              "      <td>2012.211</td>\n",
              "      <td>97957.321</td>\n",
              "      <td>nan</td>\n",
              "      <td>38.534</td>\n",
              "      <td>-94.279</td>\n",
              "    </tr>\n",
              "    <tr>\n",
              "      <th>std</th>\n",
              "      <td>4388481.648</td>\n",
              "      <td>12997.286</td>\n",
              "      <td>5.818</td>\n",
              "      <td>145342.068</td>\n",
              "      <td>nan</td>\n",
              "      <td>5.841</td>\n",
              "      <td>18.140</td>\n",
              "    </tr>\n",
              "    <tr>\n",
              "      <th>min</th>\n",
              "      <td>7301583321.000</td>\n",
              "      <td>100.000</td>\n",
              "      <td>1990.000</td>\n",
              "      <td>0.000</td>\n",
              "      <td>nan</td>\n",
              "      <td>-84.122</td>\n",
              "      <td>-159.720</td>\n",
              "    </tr>\n",
              "    <tr>\n",
              "      <th>25%</th>\n",
              "      <td>7308091642.000</td>\n",
              "      <td>7490.000</td>\n",
              "      <td>2008.000</td>\n",
              "      <td>39928.000</td>\n",
              "      <td>nan</td>\n",
              "      <td>34.756</td>\n",
              "      <td>-110.960</td>\n",
              "    </tr>\n",
              "    <tr>\n",
              "      <th>50%</th>\n",
              "      <td>7312600339.000</td>\n",
              "      <td>15000.000</td>\n",
              "      <td>2013.000</td>\n",
              "      <td>89868.000</td>\n",
              "      <td>nan</td>\n",
              "      <td>39.260</td>\n",
              "      <td>-87.948</td>\n",
              "    </tr>\n",
              "    <tr>\n",
              "      <th>75%</th>\n",
              "      <td>7315244180.500</td>\n",
              "      <td>26995.000</td>\n",
              "      <td>2017.000</td>\n",
              "      <td>137481.000</td>\n",
              "      <td>nan</td>\n",
              "      <td>42.370</td>\n",
              "      <td>-80.798</td>\n",
              "    </tr>\n",
              "    <tr>\n",
              "      <th>max</th>\n",
              "      <td>7317101084.000</td>\n",
              "      <td>60000.000</td>\n",
              "      <td>2022.000</td>\n",
              "      <td>10000000.000</td>\n",
              "      <td>nan</td>\n",
              "      <td>82.253</td>\n",
              "      <td>167.630</td>\n",
              "    </tr>\n",
              "  </tbody>\n",
              "</table>\n",
              "</div>\n",
              "      <button class=\"colab-df-convert\" onclick=\"convertToInteractive('df-5eec9d3f-6384-4307-94d0-b981dbfb9f03')\"\n",
              "              title=\"Convert this dataframe to an interactive table.\"\n",
              "              style=\"display:none;\">\n",
              "        \n",
              "  <svg xmlns=\"http://www.w3.org/2000/svg\" height=\"24px\"viewBox=\"0 0 24 24\"\n",
              "       width=\"24px\">\n",
              "    <path d=\"M0 0h24v24H0V0z\" fill=\"none\"/>\n",
              "    <path d=\"M18.56 5.44l.94 2.06.94-2.06 2.06-.94-2.06-.94-.94-2.06-.94 2.06-2.06.94zm-11 1L8.5 8.5l.94-2.06 2.06-.94-2.06-.94L8.5 2.5l-.94 2.06-2.06.94zm10 10l.94 2.06.94-2.06 2.06-.94-2.06-.94-.94-2.06-.94 2.06-2.06.94z\"/><path d=\"M17.41 7.96l-1.37-1.37c-.4-.4-.92-.59-1.43-.59-.52 0-1.04.2-1.43.59L10.3 9.45l-7.72 7.72c-.78.78-.78 2.05 0 2.83L4 21.41c.39.39.9.59 1.41.59.51 0 1.02-.2 1.41-.59l7.78-7.78 2.81-2.81c.8-.78.8-2.07 0-2.86zM5.41 20L4 18.59l7.72-7.72 1.47 1.35L5.41 20z\"/>\n",
              "  </svg>\n",
              "      </button>\n",
              "      \n",
              "  <style>\n",
              "    .colab-df-container {\n",
              "      display:flex;\n",
              "      flex-wrap:wrap;\n",
              "      gap: 12px;\n",
              "    }\n",
              "\n",
              "    .colab-df-convert {\n",
              "      background-color: #E8F0FE;\n",
              "      border: none;\n",
              "      border-radius: 50%;\n",
              "      cursor: pointer;\n",
              "      display: none;\n",
              "      fill: #1967D2;\n",
              "      height: 32px;\n",
              "      padding: 0 0 0 0;\n",
              "      width: 32px;\n",
              "    }\n",
              "\n",
              "    .colab-df-convert:hover {\n",
              "      background-color: #E2EBFA;\n",
              "      box-shadow: 0px 1px 2px rgba(60, 64, 67, 0.3), 0px 1px 3px 1px rgba(60, 64, 67, 0.15);\n",
              "      fill: #174EA6;\n",
              "    }\n",
              "\n",
              "    [theme=dark] .colab-df-convert {\n",
              "      background-color: #3B4455;\n",
              "      fill: #D2E3FC;\n",
              "    }\n",
              "\n",
              "    [theme=dark] .colab-df-convert:hover {\n",
              "      background-color: #434B5C;\n",
              "      box-shadow: 0px 1px 3px 1px rgba(0, 0, 0, 0.15);\n",
              "      filter: drop-shadow(0px 1px 2px rgba(0, 0, 0, 0.3));\n",
              "      fill: #FFFFFF;\n",
              "    }\n",
              "  </style>\n",
              "\n",
              "      <script>\n",
              "        const buttonEl =\n",
              "          document.querySelector('#df-5eec9d3f-6384-4307-94d0-b981dbfb9f03 button.colab-df-convert');\n",
              "        buttonEl.style.display =\n",
              "          google.colab.kernel.accessAllowed ? 'block' : 'none';\n",
              "\n",
              "        async function convertToInteractive(key) {\n",
              "          const element = document.querySelector('#df-5eec9d3f-6384-4307-94d0-b981dbfb9f03');\n",
              "          const dataTable =\n",
              "            await google.colab.kernel.invokeFunction('convertToInteractive',\n",
              "                                                     [key], {});\n",
              "          if (!dataTable) return;\n",
              "\n",
              "          const docLinkHtml = 'Like what you see? Visit the ' +\n",
              "            '<a target=\"_blank\" href=https://colab.research.google.com/notebooks/data_table.ipynb>data table notebook</a>'\n",
              "            + ' to learn more about interactive tables.';\n",
              "          element.innerHTML = '';\n",
              "          dataTable['output_type'] = 'display_data';\n",
              "          await google.colab.output.renderOutput(dataTable, element);\n",
              "          const docLink = document.createElement('div');\n",
              "          docLink.innerHTML = docLinkHtml;\n",
              "          element.appendChild(docLink);\n",
              "        }\n",
              "      </script>\n",
              "    </div>\n",
              "  </div>\n",
              "  "
            ]
          },
          "metadata": {},
          "execution_count": 29
        }
      ],
      "source": [
        "df.describe().applymap(lambda x: f\"{x:0.3f}\")"
      ]
    },
    {
      "cell_type": "code",
      "execution_count": 30,
      "metadata": {
        "id": "-8EpjGuGX9op",
        "colab": {
          "base_uri": "https://localhost:8080/",
          "height": 276
        },
        "outputId": "a7e5b889-1e20-4330-b70e-05985a602427"
      },
      "outputs": [
        {
          "output_type": "display_data",
          "data": {
            "text/plain": [
              "<Figure size 576x288 with 1 Axes>"
            ],
            "image/png": "[encoded data removed]"
          },
          "metadata": {
            "needs_background": "light"
          }
        }
      ],
      "source": [
        "figure=df.boxplot(column=\"odometer\")"
      ]
    },
    {
      "cell_type": "code",
      "execution_count": 31,
      "metadata": {
        "id": "vNgsP-eoYRWi",
        "colab": {
          "base_uri": "https://localhost:8080/",
          "height": 353
        },
        "outputId": "9a726140-dea3-4e15-dd11-351d1c598a01"
      },
      "outputs": [
        {
          "output_type": "stream",
          "name": "stderr",
          "text": [
            "/usr/local/lib/python3.7/dist-packages/seaborn/_decorators.py:43: FutureWarning: Pass the following variable as a keyword arg: x. From version 0.12, the only valid positional argument will be `data`, and passing other arguments without an explicit keyword will result in an error or misinterpretation.\n",
            "  FutureWarning\n"
          ]
        },
        {
          "output_type": "execute_result",
          "data": {
            "text/plain": [
              "<matplotlib.axes._subplots.AxesSubplot at 0x7f6434268a10>"
            ]
          },
          "metadata": {},
          "execution_count": 31
        },
        {
          "output_type": "display_data",
          "data": {
            "text/plain": [
              "<Figure size 576x288 with 1 Axes>"
            ],
            "image/png": "[encoded data removed]"
          },
          "metadata": {
            "needs_background": "light"
          }
        }
      ],
      "source": [
        "sns.boxplot(df['odometer'])"
      ]
    },
    {
      "cell_type": "code",
      "execution_count": 32,
      "metadata": {
        "id": "NAE1NyUJj0Gf",
        "colab": {
          "base_uri": "https://localhost:8080/",
          "height": 365
        },
        "outputId": "486c8797-2903-4195-bcc6-8da6e4c55d49"
      },
      "outputs": [
        {
          "output_type": "stream",
          "name": "stderr",
          "text": [
            "/usr/local/lib/python3.7/dist-packages/seaborn/distributions.py:2619: FutureWarning: `distplot` is a deprecated function and will be removed in a future version. Please adapt your code to use either `displot` (a figure-level function with similar flexibility) or `histplot` (an axes-level function for histograms).\n",
            "  warnings.warn(msg, FutureWarning)\n"
          ]
        },
        {
          "output_type": "execute_result",
          "data": {
            "text/plain": [
              "<matplotlib.axes._subplots.AxesSubplot at 0x7f642f44c2d0>"
            ]
          },
          "metadata": {},
          "execution_count": 32
        },
        {
          "output_type": "display_data",
          "data": {
            "text/plain": [
              "<Figure size 576x288 with 1 Axes>"
            ],
            "image/png": "[encoded data removed]"
          },
          "metadata": {
            "needs_background": "light"
          }
        }
      ],
      "source": [
        "sns.distplot(df[(df.odometer >= 100) & (df.odometer <= 200000)].odometer)"
      ]
    },
    {
      "cell_type": "code",
      "execution_count": 33,
      "metadata": {
        "colab": {
          "base_uri": "https://localhost:8080/"
        },
        "id": "eB4S2WDlkYIb",
        "outputId": "df126224-584a-4a51-cc89-e026811bb38a"
      },
      "outputs": [
        {
          "output_type": "execute_result",
          "data": {
            "text/plain": [
              "(6413, 26)"
            ]
          },
          "metadata": {},
          "execution_count": 33
        }
      ],
      "source": [
        "df[df.odometer >= 250000].shape"
      ]
    },
    {
      "cell_type": "markdown",
      "metadata": {
        "id": "qm7e6hlWY4fC"
      },
      "source": [
        "Odometer data is right skewed as per the above graphs. To tackle this data , IQR techinique is implemented"
      ]
    },
    {
      "cell_type": "code",
      "execution_count": 34,
      "metadata": {
        "colab": {
          "base_uri": "https://localhost:8080/"
        },
        "id": "ZaMtsSkzYYDp",
        "outputId": "bf014cd2-5d97-48ee-82f4-04e12c425d67"
      },
      "outputs": [
        {
          "output_type": "stream",
          "name": "stdout",
          "text": [
            "39914.5\n",
            "137494.5\n"
          ]
        },
        {
          "output_type": "execute_result",
          "data": {
            "text/plain": [
              "(None, None)"
            ]
          },
          "metadata": {},
          "execution_count": 34
        }
      ],
      "source": [
        "lower_lim_odometer = df['odometer'].quantile(0.25)-(IQR*1.5)\n",
        "upper_lim_odometer = df['odometer'].quantile(0.75)+(IQR*1.5)\n",
        "print(lower_lim_odometer), print(upper_lim_odometer)"
      ]
    },
    {
      "cell_type": "code",
      "execution_count": 35,
      "metadata": {
        "colab": {
          "base_uri": "https://localhost:8080/"
        },
        "id": "ote1F3UtlQku",
        "outputId": "0b79830f-486f-4509-f64f-50471c205f66"
      },
      "outputs": [
        {
          "output_type": "stream",
          "name": "stdout",
          "text": [
            "39901.0\n",
            "137508.0\n"
          ]
        },
        {
          "output_type": "execute_result",
          "data": {
            "text/plain": [
              "(None, None)"
            ]
          },
          "metadata": {},
          "execution_count": 35
        }
      ],
      "source": [
        "lower_lim_odometer = df['odometer'].quantile(0.25)-(IQR*3)\n",
        "upper_lim_odometer = df['odometer'].quantile(0.75)+(IQR*3)\n",
        "print(lower_lim_odometer), print(upper_lim_odometer)"
      ]
    },
    {
      "cell_type": "code",
      "execution_count": 36,
      "metadata": {
        "id": "d0mVmpjgZWlB"
      },
      "outputs": [],
      "source": [
        "# Removing Outliers in odometer\n",
        "\n",
        "df = df[(df.odometer >= 100) & (df.odometer <= 250000)]"
      ]
    },
    {
      "cell_type": "code",
      "execution_count": 37,
      "metadata": {
        "colab": {
          "base_uri": "https://localhost:8080/"
        },
        "id": "ki9ILMG5mbk0",
        "outputId": "2630a4ce-5703-4ed3-dea7-dbc2a796d014"
      },
      "outputs": [
        {
          "output_type": "execute_result",
          "data": {
            "text/plain": [
              "(359668, 26)"
            ]
          },
          "metadata": {},
          "execution_count": 37
        }
      ],
      "source": [
        "df.shape"
      ]
    },
    {
      "cell_type": "code",
      "execution_count": 38,
      "metadata": {
        "id": "Si6kwb2dZaqn"
      },
      "outputs": [],
      "source": [
        "# Removing Outliers in year c\n",
        "\n",
        "#df = df[(df['odometer'] >= lower_lim_odometer) & (df['odometer'] <= upper_lim_odometer)]"
      ]
    },
    {
      "cell_type": "code",
      "execution_count": 39,
      "metadata": {
        "colab": {
          "base_uri": "https://localhost:8080/"
        },
        "id": "RIu2Pty6baQQ",
        "outputId": "64afbc01-83e1-48a6-d3ea-2ff90e41c769"
      },
      "outputs": [
        {
          "output_type": "execute_result",
          "data": {
            "text/plain": [
              "250000.0"
            ]
          },
          "metadata": {},
          "execution_count": 39
        }
      ],
      "source": [
        "df.odometer.max()"
      ]
    },
    {
      "cell_type": "code",
      "execution_count": 40,
      "metadata": {
        "colab": {
          "base_uri": "https://localhost:8080/"
        },
        "id": "LtHXDgnVZhtd",
        "outputId": "b3b0dccb-043a-4b72-c4a1-6cc843917c64"
      },
      "outputs": [
        {
          "output_type": "stream",
          "name": "stdout",
          "text": [
            "Shape of dataset after Outliers removal in odometer column :  359668\n"
          ]
        }
      ],
      "source": [
        "print(\"Shape of dataset after Outliers removal in odometer column : \",len(df))"
      ]
    },
    {
      "cell_type": "code",
      "execution_count": 41,
      "metadata": {
        "colab": {
          "base_uri": "https://localhost:8080/",
          "height": 300
        },
        "id": "L_LSSz9UZvHB",
        "outputId": "f96cecb5-b326-4393-a418-e99d046c031a"
      },
      "outputs": [
        {
          "output_type": "execute_result",
          "data": {
            "text/plain": [
              "                   id       price        year    odometer county         lat  \\\n",
              "count      359668.000  359668.000  359668.000  359668.000  0.000  356440.000   \n",
              "mean   7311467840.644   18334.597    2012.320   92464.171    nan      38.548   \n",
              "std       4391403.186   12945.459       5.721   58894.061    nan       5.841   \n",
              "min    7301583321.000     100.000    1990.000     100.000    nan     -81.838   \n",
              "25%    7308070247.750    7500.000    2009.000   40529.000    nan      34.764   \n",
              "50%    7312576287.500   15590.000    2013.000   89198.000    nan      39.300   \n",
              "75%    7315241885.500   27000.000    2017.000  135170.000    nan      42.393   \n",
              "max    7317101084.000   60000.000    2022.000  250000.000    nan      82.253   \n",
              "\n",
              "             long  \n",
              "count  356440.000  \n",
              "mean      -94.172  \n",
              "std        18.135  \n",
              "min      -159.720  \n",
              "25%      -110.875  \n",
              "50%       -87.865  \n",
              "75%       -80.740  \n",
              "max       167.630  "
            ],
            "text/html": [
              "\n",
              "  <div id=\"df-d2c558bb-7c7f-431f-b21e-0354353e7f6c\">\n",
              "    <div class=\"colab-df-container\">\n",
              "      <div>\n",
              "<style scoped>\n",
              "    .dataframe tbody tr th:only-of-type {\n",
              "        vertical-align: middle;\n",
              "    }\n",
              "\n",
              "    .dataframe tbody tr th {\n",
              "        vertical-align: top;\n",
              "    }\n",
              "\n",
              "    .dataframe thead th {\n",
              "        text-align: right;\n",
              "    }\n",
              "</style>\n",
              "<table border=\"1\" class=\"dataframe\">\n",
              "  <thead>\n",
              "    <tr style=\"text-align: right;\">\n",
              "      <th></th>\n",
              "      <th>id</th>\n",
              "      <th>price</th>\n",
              "      <th>year</th>\n",
              "      <th>odometer</th>\n",
              "      <th>county</th>\n",
              "      <th>lat</th>\n",
              "      <th>long</th>\n",
              "    </tr>\n",
              "  </thead>\n",
              "  <tbody>\n",
              "    <tr>\n",
              "      <th>count</th>\n",
              "      <td>359668.000</td>\n",
              "      <td>359668.000</td>\n",
              "      <td>359668.000</td>\n",
              "      <td>359668.000</td>\n",
              "      <td>0.000</td>\n",
              "      <td>356440.000</td>\n",
              "      <td>356440.000</td>\n",
              "    </tr>\n",
              "    <tr>\n",
              "      <th>mean</th>\n",
              "      <td>7311467840.644</td>\n",
              "      <td>18334.597</td>\n",
              "      <td>2012.320</td>\n",
              "      <td>92464.171</td>\n",
              "      <td>nan</td>\n",
              "      <td>38.548</td>\n",
              "      <td>-94.172</td>\n",
              "    </tr>\n",
              "    <tr>\n",
              "      <th>std</th>\n",
              "      <td>4391403.186</td>\n",
              "      <td>12945.459</td>\n",
              "      <td>5.721</td>\n",
              "      <td>58894.061</td>\n",
              "      <td>nan</td>\n",
              "      <td>5.841</td>\n",
              "      <td>18.135</td>\n",
              "    </tr>\n",
              "    <tr>\n",
              "      <th>min</th>\n",
              "      <td>7301583321.000</td>\n",
              "      <td>100.000</td>\n",
              "      <td>1990.000</td>\n",
              "      <td>100.000</td>\n",
              "      <td>nan</td>\n",
              "      <td>-81.838</td>\n",
              "      <td>-159.720</td>\n",
              "    </tr>\n",
              "    <tr>\n",
              "      <th>25%</th>\n",
              "      <td>7308070247.750</td>\n",
              "      <td>7500.000</td>\n",
              "      <td>2009.000</td>\n",
              "      <td>40529.000</td>\n",
              "      <td>nan</td>\n",
              "      <td>34.764</td>\n",
              "      <td>-110.875</td>\n",
              "    </tr>\n",
              "    <tr>\n",
              "      <th>50%</th>\n",
              "      <td>7312576287.500</td>\n",
              "      <td>15590.000</td>\n",
              "      <td>2013.000</td>\n",
              "      <td>89198.000</td>\n",
              "      <td>nan</td>\n",
              "      <td>39.300</td>\n",
              "      <td>-87.865</td>\n",
              "    </tr>\n",
              "    <tr>\n",
              "      <th>75%</th>\n",
              "      <td>7315241885.500</td>\n",
              "      <td>27000.000</td>\n",
              "      <td>2017.000</td>\n",
              "      <td>135170.000</td>\n",
              "      <td>nan</td>\n",
              "      <td>42.393</td>\n",
              "      <td>-80.740</td>\n",
              "    </tr>\n",
              "    <tr>\n",
              "      <th>max</th>\n",
              "      <td>7317101084.000</td>\n",
              "      <td>60000.000</td>\n",
              "      <td>2022.000</td>\n",
              "      <td>250000.000</td>\n",
              "      <td>nan</td>\n",
              "      <td>82.253</td>\n",
              "      <td>167.630</td>\n",
              "    </tr>\n",
              "  </tbody>\n",
              "</table>\n",
              "</div>\n",
              "      <button class=\"colab-df-convert\" onclick=\"convertToInteractive('df-d2c558bb-7c7f-431f-b21e-0354353e7f6c')\"\n",
              "              title=\"Convert this dataframe to an interactive table.\"\n",
              "              style=\"display:none;\">\n",
              "        \n",
              "  <svg xmlns=\"http://www.w3.org/2000/svg\" height=\"24px\"viewBox=\"0 0 24 24\"\n",
              "       width=\"24px\">\n",
              "    <path d=\"M0 0h24v24H0V0z\" fill=\"none\"/>\n",
              "    <path d=\"M18.56 5.44l.94 2.06.94-2.06 2.06-.94-2.06-.94-.94-2.06-.94 2.06-2.06.94zm-11 1L8.5 8.5l.94-2.06 2.06-.94-2.06-.94L8.5 2.5l-.94 2.06-2.06.94zm10 10l.94 2.06.94-2.06 2.06-.94-2.06-.94-.94-2.06-.94 2.06-2.06.94z\"/><path d=\"M17.41 7.96l-1.37-1.37c-.4-.4-.92-.59-1.43-.59-.52 0-1.04.2-1.43.59L10.3 9.45l-7.72 7.72c-.78.78-.78 2.05 0 2.83L4 21.41c.39.39.9.59 1.41.59.51 0 1.02-.2 1.41-.59l7.78-7.78 2.81-2.81c.8-.78.8-2.07 0-2.86zM5.41 20L4 18.59l7.72-7.72 1.47 1.35L5.41 20z\"/>\n",
              "  </svg>\n",
              "      </button>\n",
              "      \n",
              "  <style>\n",
              "    .colab-df-container {\n",
              "      display:flex;\n",
              "      flex-wrap:wrap;\n",
              "      gap: 12px;\n",
              "    }\n",
              "\n",
              "    .colab-df-convert {\n",
              "      background-color: #E8F0FE;\n",
              "      border: none;\n",
              "      border-radius: 50%;\n",
              "      cursor: pointer;\n",
              "      display: none;\n",
              "      fill: #1967D2;\n",
              "      height: 32px;\n",
              "      padding: 0 0 0 0;\n",
              "      width: 32px;\n",
              "    }\n",
              "\n",
              "    .colab-df-convert:hover {\n",
              "      background-color: #E2EBFA;\n",
              "      box-shadow: 0px 1px 2px rgba(60, 64, 67, 0.3), 0px 1px 3px 1px rgba(60, 64, 67, 0.15);\n",
              "      fill: #174EA6;\n",
              "    }\n",
              "\n",
              "    [theme=dark] .colab-df-convert {\n",
              "      background-color: #3B4455;\n",
              "      fill: #D2E3FC;\n",
              "    }\n",
              "\n",
              "    [theme=dark] .colab-df-convert:hover {\n",
              "      background-color: #434B5C;\n",
              "      box-shadow: 0px 1px 3px 1px rgba(0, 0, 0, 0.15);\n",
              "      filter: drop-shadow(0px 1px 2px rgba(0, 0, 0, 0.3));\n",
              "      fill: #FFFFFF;\n",
              "    }\n",
              "  </style>\n",
              "\n",
              "      <script>\n",
              "        const buttonEl =\n",
              "          document.querySelector('#df-d2c558bb-7c7f-431f-b21e-0354353e7f6c button.colab-df-convert');\n",
              "        buttonEl.style.display =\n",
              "          google.colab.kernel.accessAllowed ? 'block' : 'none';\n",
              "\n",
              "        async function convertToInteractive(key) {\n",
              "          const element = document.querySelector('#df-d2c558bb-7c7f-431f-b21e-0354353e7f6c');\n",
              "          const dataTable =\n",
              "            await google.colab.kernel.invokeFunction('convertToInteractive',\n",
              "                                                     [key], {});\n",
              "          if (!dataTable) return;\n",
              "\n",
              "          const docLinkHtml = 'Like what you see? Visit the ' +\n",
              "            '<a target=\"_blank\" href=https://colab.research.google.com/notebooks/data_table.ipynb>data table notebook</a>'\n",
              "            + ' to learn more about interactive tables.';\n",
              "          element.innerHTML = '';\n",
              "          dataTable['output_type'] = 'display_data';\n",
              "          await google.colab.output.renderOutput(dataTable, element);\n",
              "          const docLink = document.createElement('div');\n",
              "          docLink.innerHTML = docLinkHtml;\n",
              "          element.appendChild(docLink);\n",
              "        }\n",
              "      </script>\n",
              "    </div>\n",
              "  </div>\n",
              "  "
            ]
          },
          "metadata": {},
          "execution_count": 41
        }
      ],
      "source": [
        "df.describe().applymap(lambda x: f\"{x:0.3f}\")"
      ]
    },
    {
      "cell_type": "code",
      "execution_count": 42,
      "metadata": {
        "colab": {
          "base_uri": "https://localhost:8080/"
        },
        "id": "bZNaXRwVZxbm",
        "outputId": "b1e990ce-738f-46b8-abe6-f445e5cd803b"
      },
      "outputs": [
        {
          "output_type": "stream",
          "name": "stdout",
          "text": [
            "<class 'pandas.core.frame.DataFrame'>\n",
            "Int64Index: 359668 entries, 27 to 426879\n",
            "Data columns (total 26 columns):\n",
            " #   Column        Non-Null Count   Dtype  \n",
            "---  ------        --------------   -----  \n",
            " 0   id            359668 non-null  int64  \n",
            " 1   url           359668 non-null  object \n",
            " 2   region        359668 non-null  object \n",
            " 3   region_url    359668 non-null  object \n",
            " 4   price         359668 non-null  int64  \n",
            " 5   year          359668 non-null  float64\n",
            " 6   manufacturer  348910 non-null  object \n",
            " 7   model         356595 non-null  object \n",
            " 8   condition     223255 non-null  object \n",
            " 9   cylinders     213034 non-null  object \n",
            " 10  fuel          357626 non-null  object \n",
            " 11  odometer      359668 non-null  float64\n",
            " 12  title_status  353075 non-null  object \n",
            " 13  transmission  358277 non-null  object \n",
            " 14  VIN           227797 non-null  object \n",
            " 15  drive         250927 non-null  object \n",
            " 16  size          99630 non-null   object \n",
            " 17  type          285639 non-null  object \n",
            " 18  paint_color   255495 non-null  object \n",
            " 19  image_url     359668 non-null  object \n",
            " 20  description   359666 non-null  object \n",
            " 21  county        0 non-null       float64\n",
            " 22  state         359668 non-null  object \n",
            " 23  lat           356440 non-null  float64\n",
            " 24  long          356440 non-null  float64\n",
            " 25  posting_date  359668 non-null  object \n",
            "dtypes: float64(5), int64(2), object(19)\n",
            "memory usage: 74.1+ MB\n"
          ]
        }
      ],
      "source": [
        "df.info()"
      ]
    },
    {
      "cell_type": "markdown",
      "metadata": {
        "id": "fKSHyX9mjKlL"
      },
      "source": [
        "**Exploratory Data Analysis (EDA)**\n",
        "\n",
        "In Data Analysis What All Things We Do\n",
        "1. Missing Values\n",
        "2. Explore About the Numerical Variables\n",
        "3. Explore About categorical Variables\n",
        "4. Finding Relationship between features"
      ]
    },
    {
      "cell_type": "code",
      "execution_count": 43,
      "metadata": {
        "colab": {
          "base_uri": "https://localhost:8080/"
        },
        "id": "Bt3R_N45aIXo",
        "outputId": "a1227c1c-9ae8-4ce6-d77d-3d3eadb2630c"
      },
      "outputs": [
        {
          "output_type": "execute_result",
          "data": {
            "text/plain": [
              "(359668, 26)"
            ]
          },
          "metadata": {},
          "execution_count": 43
        }
      ],
      "source": [
        "df.shape"
      ]
    },
    {
      "cell_type": "code",
      "execution_count": 44,
      "metadata": {
        "colab": {
          "base_uri": "https://localhost:8080/"
        },
        "id": "92rv_tZ3jbVF",
        "outputId": "d5e594c6-7a1c-48ab-ebd6-0a629a507243"
      },
      "outputs": [
        {
          "output_type": "execute_result",
          "data": {
            "text/plain": [
              "['manufacturer',\n",
              " 'model',\n",
              " 'condition',\n",
              " 'cylinders',\n",
              " 'fuel',\n",
              " 'title_status',\n",
              " 'transmission',\n",
              " 'VIN',\n",
              " 'drive',\n",
              " 'size',\n",
              " 'type',\n",
              " 'paint_color',\n",
              " 'description',\n",
              " 'county',\n",
              " 'lat',\n",
              " 'long']"
            ]
          },
          "metadata": {},
          "execution_count": 44
        }
      ],
      "source": [
        "# features with null values\n",
        "\n",
        "[features for features in df.columns if df[features].isnull().sum()>0]"
      ]
    },
    {
      "cell_type": "code",
      "execution_count": 45,
      "metadata": {
        "colab": {
          "base_uri": "https://localhost:8080/",
          "height": 559
        },
        "id": "B5E_B8CPjd5A",
        "outputId": "79c4b989-fb28-48ca-86af-387411264726"
      },
      "outputs": [
        {
          "output_type": "execute_result",
          "data": {
            "text/plain": [
              "<matplotlib.axes._subplots.AxesSubplot at 0x7f642c0f5fd0>"
            ]
          },
          "metadata": {},
          "execution_count": 45
        },
        {
          "output_type": "display_data",
          "data": {
            "text/plain": [
              "<Figure size 864x576 with 1 Axes>"
            ],
            "image/png": "[encoded data removed]"
          },
          "metadata": {
            "needs_background": "light"
          }
        }
      ],
      "source": [
        "# creating a graph to check null values\n",
        "\n",
        "plt.figure(figsize=(12,8))\n",
        "sns.heatmap(df.isnull(),yticklabels=False,cbar=False,cmap='viridis')"
      ]
    },
    {
      "cell_type": "markdown",
      "metadata": {
        "id": "5NqrbBWJkTKM"
      },
      "source": [
        "Country column contains all null values , Drop the column\n",
        "\n"
      ]
    },
    {
      "cell_type": "code",
      "execution_count": 46,
      "metadata": {
        "id": "-ifbmx1nDz40"
      },
      "outputs": [],
      "source": [
        "df.drop(['id','url','region','region_url','VIN','image_url','description','county','state','model','lat','long','posting_date'], axis =1 , inplace = True)"
      ]
    },
    {
      "cell_type": "code",
      "execution_count": 47,
      "metadata": {
        "colab": {
          "base_uri": "https://localhost:8080/"
        },
        "id": "6IWkJRdxmkVz",
        "outputId": "abf12807-69b1-48b6-cc41-31d3ca42555e"
      },
      "outputs": [
        {
          "output_type": "execute_result",
          "data": {
            "text/plain": [
              "size            0.722995\n",
              "cylinders       0.407693\n",
              "condition       0.379275\n",
              "drive           0.302337\n",
              "paint_color     0.289637\n",
              "type            0.205826\n",
              "manufacturer    0.029911\n",
              "title_status    0.018331\n",
              "fuel            0.005677\n",
              "transmission    0.003867\n",
              "dtype: float64"
            ]
          },
          "metadata": {},
          "execution_count": 47
        }
      ],
      "source": [
        "# Removing the missing percentages greater than zero.\n",
        "missing_percentages =df.isna().sum().sort_values(ascending=False)/len(df) \n",
        "missing_percentages[missing_percentages!=0]"
      ]
    },
    {
      "cell_type": "code",
      "execution_count": 48,
      "metadata": {
        "colab": {
          "base_uri": "https://localhost:8080/",
          "height": 422
        },
        "id": "hXFVAgMmm3vD",
        "outputId": "65aa7c28-9b70-4996-a167-a0b413e18b44"
      },
      "outputs": [
        {
          "output_type": "execute_result",
          "data": {
            "text/plain": [
              "Text(0, 0.5, 'Features')"
            ]
          },
          "metadata": {},
          "execution_count": 48
        },
        {
          "output_type": "display_data",
          "data": {
            "text/plain": [
              "<Figure size 720x432 with 1 Axes>"
            ],
            "image/png": "[encoded data removed]"
          },
          "metadata": {
            "needs_background": "light"
          }
        }
      ],
      "source": [
        "# Plot a graph to check missing percentages \n",
        "plt.figure(figsize=(10,6))\n",
        "missing_percentages[missing_percentages!=0].plot(kind='barh')\n",
        "plt.title(\"Graph for NULL data in percentage \")\n",
        "plt.xlabel(\"% of missing values\")\n",
        "plt.ylabel(\"Features\")"
      ]
    },
    {
      "cell_type": "markdown",
      "metadata": {
        "id": "hMtASvqs9cxx"
      },
      "source": [
        "**TRANSMISSION**"
      ]
    },
    {
      "cell_type": "code",
      "execution_count": 49,
      "metadata": {
        "colab": {
          "base_uri": "https://localhost:8080/"
        },
        "id": "mpqeqd6lm4Vd",
        "outputId": "32f62ff5-3134-4d02-980e-82511ed69f8b"
      },
      "outputs": [
        {
          "output_type": "execute_result",
          "data": {
            "text/plain": [
              "1391"
            ]
          },
          "metadata": {},
          "execution_count": 49
        }
      ],
      "source": [
        "# transmission column\n",
        "\n",
        "df['transmission'].isnull().sum()"
      ]
    },
    {
      "cell_type": "code",
      "execution_count": 50,
      "metadata": {
        "colab": {
          "base_uri": "https://localhost:8080/"
        },
        "id": "wODKQzmInHmM",
        "outputId": "78449b47-4bf0-4a75-fcd1-5ff6bda895be"
      },
      "outputs": [
        {
          "output_type": "execute_result",
          "data": {
            "text/plain": [
              "automatic    280849\n",
              "other         60056\n",
              "manual        17372\n",
              "Name: transmission, dtype: int64"
            ]
          },
          "metadata": {},
          "execution_count": 50
        }
      ],
      "source": [
        "df['transmission'].value_counts()"
      ]
    },
    {
      "cell_type": "code",
      "execution_count": 51,
      "metadata": {
        "id": "emudYvKdnNqT"
      },
      "outputs": [],
      "source": [
        "# Replacing null values in transmission column\n",
        "\n",
        "df['transmission'] = df['transmission'].fillna(df.transmission.mode()[0])"
      ]
    },
    {
      "cell_type": "code",
      "execution_count": 52,
      "metadata": {
        "colab": {
          "base_uri": "https://localhost:8080/"
        },
        "id": "ZUKUvJc1n02r",
        "outputId": "1afcce73-6382-43e8-e97e-b261b26ae633"
      },
      "outputs": [
        {
          "output_type": "stream",
          "name": "stdout",
          "text": [
            "Number of null values : 0\n",
            "automatic    282240\n",
            "other         60056\n",
            "manual        17372\n",
            "Name: transmission, dtype: int64\n"
          ]
        }
      ],
      "source": [
        "print(\"Number of null values :\" ,df.transmission.isnull().sum())\n",
        "print(df.transmission.value_counts())"
      ]
    },
    {
      "cell_type": "code",
      "execution_count": 53,
      "metadata": {
        "colab": {
          "base_uri": "https://localhost:8080/",
          "height": 357
        },
        "id": "v9GB3rcHDPLt",
        "outputId": "66977b22-d22b-4ee9-d01e-b0c32eaee1cf"
      },
      "outputs": [
        {
          "output_type": "display_data",
          "data": {
            "text/plain": [
              "<Figure size 720x432 with 1 Axes>"
            ],
            "image/png": "[encoded data removed]"
          },
          "metadata": {}
        }
      ],
      "source": [
        "## Pie Chart for transmission column\n",
        "\n",
        "plt.figure(figsize=(10,6))\n",
        "plt.pie(df.transmission.value_counts().values,labels=df.transmission.value_counts().index,autopct='%1.2f%%')\n",
        "plt.show()"
      ]
    },
    {
      "cell_type": "code",
      "execution_count": 54,
      "metadata": {
        "id": "uY4bzkBo1qsT"
      },
      "outputs": [],
      "source": [
        "# Transmission looks like an Ordinal data . Here will use Label Encoding\n",
        "\n",
        "from sklearn import preprocessing\n",
        "\n",
        "LabelEncoding = preprocessing.LabelEncoder()\n",
        "\n",
        "df['transmission'] = LabelEncoding.fit_transform(df['transmission'])"
      ]
    },
    {
      "cell_type": "code",
      "execution_count": 55,
      "metadata": {
        "colab": {
          "base_uri": "https://localhost:8080/"
        },
        "id": "T5DYjYDI58Tl",
        "outputId": "366ee303-b13a-4d0f-97d2-1a21d442564c"
      },
      "outputs": [
        {
          "output_type": "execute_result",
          "data": {
            "text/plain": [
              "0    282240\n",
              "2     60056\n",
              "1     17372\n",
              "Name: transmission, dtype: int64"
            ]
          },
          "metadata": {},
          "execution_count": 55
        }
      ],
      "source": [
        "df['transmission'].value_counts()"
      ]
    },
    {
      "cell_type": "code",
      "execution_count": 56,
      "metadata": {
        "colab": {
          "base_uri": "https://localhost:8080/",
          "height": 422
        },
        "id": "cvUms7_n6viI",
        "outputId": "ef25e32f-355e-49e4-a08f-2ba40ebc1c3a"
      },
      "outputs": [
        {
          "output_type": "execute_result",
          "data": {
            "text/plain": [
              "Text(0, 0.5, 'Features')"
            ]
          },
          "metadata": {},
          "execution_count": 56
        },
        {
          "output_type": "display_data",
          "data": {
            "text/plain": [
              "<Figure size 720x432 with 1 Axes>"
            ],
            "image/png": "[encoded data removed]"
          },
          "metadata": {
            "needs_background": "light"
          }
        }
      ],
      "source": [
        "# Removing the missing percentages greater than zero.\n",
        "missing_percentages =df.isna().sum().sort_values(ascending=False)/len(df) \n",
        "missing_percentages[missing_percentages!=0]\n",
        "\n",
        "# Plot a graph to check missing percentages \n",
        "plt.figure(figsize=(10,6))\n",
        "missing_percentages[missing_percentages!=0].plot(kind='barh')\n",
        "plt.title(\"Graph for NULL data in percentage \")\n",
        "plt.xlabel(\"% of missing values\")\n",
        "plt.ylabel(\"Features\")"
      ]
    },
    {
      "cell_type": "markdown",
      "metadata": {
        "id": "UfCa7q5Y9g_t"
      },
      "source": [
        "**FUEL**"
      ]
    },
    {
      "cell_type": "code",
      "execution_count": 57,
      "metadata": {
        "colab": {
          "base_uri": "https://localhost:8080/"
        },
        "id": "dWgDd7iT6y_W",
        "outputId": "36a8b6c2-a6e9-4feb-ee8f-310e8f3fd719"
      },
      "outputs": [
        {
          "output_type": "execute_result",
          "data": {
            "text/plain": [
              "2042"
            ]
          },
          "metadata": {},
          "execution_count": 57
        }
      ],
      "source": [
        "df['fuel'].isnull().sum()"
      ]
    },
    {
      "cell_type": "code",
      "execution_count": 58,
      "metadata": {
        "colab": {
          "base_uri": "https://localhost:8080/"
        },
        "id": "IzDfNH8a9lUZ",
        "outputId": "1ad9f721-844e-4ec7-d2a3-4317ee5ce60c"
      },
      "outputs": [
        {
          "output_type": "execute_result",
          "data": {
            "text/plain": [
              "gas         304094\n",
              "other        26652\n",
              "diesel       20659\n",
              "hybrid        4713\n",
              "electric      1508\n",
              "Name: fuel, dtype: int64"
            ]
          },
          "metadata": {},
          "execution_count": 58
        }
      ],
      "source": [
        "df['fuel'].value_counts()"
      ]
    },
    {
      "cell_type": "code",
      "execution_count": 59,
      "metadata": {
        "colab": {
          "base_uri": "https://localhost:8080/"
        },
        "id": "Uld8TezW_y5c",
        "outputId": "b6290a14-c359-4417-bbe5-a974c4247aab"
      },
      "outputs": [
        {
          "output_type": "execute_result",
          "data": {
            "text/plain": [
              "2042"
            ]
          },
          "metadata": {},
          "execution_count": 59
        }
      ],
      "source": [
        "len (df[~ ((df['fuel'] == 'other') | (df['fuel'] == 'gas') | (df['fuel'] == 'diesel') | (df['fuel'] == 'hybrid') | (df['fuel'] == 'electric')) ])"
      ]
    },
    {
      "cell_type": "code",
      "execution_count": 60,
      "metadata": {
        "id": "FLkM1Hrz9saX"
      },
      "outputs": [],
      "source": [
        "# Replacing null values in fuel column\n",
        "\n",
        "df['fuel'] = df['fuel'].fillna(df.fuel.mode()[0])"
      ]
    },
    {
      "cell_type": "code",
      "execution_count": 61,
      "metadata": {
        "colab": {
          "base_uri": "https://localhost:8080/"
        },
        "id": "0kmJmxGE9-xt",
        "outputId": "ff7d3b71-0cf8-49d7-b53d-5c66b28bd841"
      },
      "outputs": [
        {
          "output_type": "stream",
          "name": "stdout",
          "text": [
            "Number of null values : 0\n",
            "gas         306136\n",
            "other        26652\n",
            "diesel       20659\n",
            "hybrid        4713\n",
            "electric      1508\n",
            "Name: fuel, dtype: int64\n"
          ]
        }
      ],
      "source": [
        "print(\"Number of null values :\" ,df.fuel.isnull().sum())\n",
        "print(df.fuel.value_counts())"
      ]
    },
    {
      "cell_type": "code",
      "execution_count": 62,
      "metadata": {
        "colab": {
          "base_uri": "https://localhost:8080/",
          "height": 357
        },
        "id": "T0wXWZU0D_kF",
        "outputId": "0c27f22b-f1f4-4bd8-e12f-aea63558ce56"
      },
      "outputs": [
        {
          "output_type": "display_data",
          "data": {
            "text/plain": [
              "<Figure size 720x432 with 1 Axes>"
            ],
            "image/png": "[encoded data removed]"
          },
          "metadata": {}
        }
      ],
      "source": [
        "## Pie Chart for fuel column\n",
        "\n",
        "plt.figure(figsize=(10,6))\n",
        "plt.pie(df.fuel.value_counts().values,labels=df.fuel.value_counts().index,autopct='%1.2f%%')\n",
        "plt.show()"
      ]
    },
    {
      "cell_type": "code",
      "execution_count": 63,
      "metadata": {
        "id": "ihunPup8-BF1"
      },
      "outputs": [],
      "source": [
        "# fuel looks like an Ordinal data . Here will use Label Encoding\n",
        "\n",
        "from sklearn import preprocessing\n",
        "\n",
        "LabelEncoding = preprocessing.LabelEncoder()\n",
        "\n",
        "df['fuel'] = LabelEncoding.fit_transform(df['fuel'])"
      ]
    },
    {
      "cell_type": "code",
      "execution_count": 64,
      "metadata": {
        "colab": {
          "base_uri": "https://localhost:8080/"
        },
        "id": "3nhmEGCY-KmG",
        "outputId": "0ec51102-1a61-4edb-b9e1-53a687c8b0cd"
      },
      "outputs": [
        {
          "output_type": "execute_result",
          "data": {
            "text/plain": [
              "2    306136\n",
              "4     26652\n",
              "0     20659\n",
              "3      4713\n",
              "1      1508\n",
              "Name: fuel, dtype: int64"
            ]
          },
          "metadata": {},
          "execution_count": 64
        }
      ],
      "source": [
        "df['fuel'].value_counts()"
      ]
    },
    {
      "cell_type": "code",
      "execution_count": 65,
      "metadata": {
        "colab": {
          "base_uri": "https://localhost:8080/",
          "height": 422
        },
        "id": "ATQXnpvR_V0G",
        "outputId": "5f9c03a3-98fc-4b89-ff2f-ff5948dd0587"
      },
      "outputs": [
        {
          "output_type": "execute_result",
          "data": {
            "text/plain": [
              "Text(0, 0.5, 'Features')"
            ]
          },
          "metadata": {},
          "execution_count": 65
        },
        {
          "output_type": "display_data",
          "data": {
            "text/plain": [
              "<Figure size 720x432 with 1 Axes>"
            ],
            "image/png": "[encoded data removed]"
          },
          "metadata": {
            "needs_background": "light"
          }
        }
      ],
      "source": [
        "# Removing the missing percentages greater than zero.\n",
        "missing_percentages =df.isna().sum().sort_values(ascending=False)/len(df) \n",
        "\n",
        "\n",
        "# Plot a graph to check missing percentages \n",
        "plt.figure(figsize=(10,6))\n",
        "missing_percentages[missing_percentages!=0].plot(kind='barh')\n",
        "plt.title(\"Graph for NULL data in percentage \")\n",
        "plt.xlabel(\"% of missing values\")\n",
        "plt.ylabel(\"Features\")"
      ]
    },
    {
      "cell_type": "code",
      "execution_count": 66,
      "metadata": {
        "colab": {
          "base_uri": "https://localhost:8080/",
          "height": 422
        },
        "id": "UHnfn7-WCnSW",
        "outputId": "7647e910-9565-4955-c036-3f597d7e47b3"
      },
      "outputs": [
        {
          "output_type": "execute_result",
          "data": {
            "text/plain": [
              "Text(0, 0.5, 'Features')"
            ]
          },
          "metadata": {},
          "execution_count": 66
        },
        {
          "output_type": "display_data",
          "data": {
            "text/plain": [
              "<Figure size 720x432 with 1 Axes>"
            ],
            "image/png": "[encoded data removed]"
          },
          "metadata": {
            "needs_background": "light"
          }
        }
      ],
      "source": [
        "# Removing the missing percentages greater than zero.\n",
        "missing_percentages =df.isna().sum().sort_values(ascending=False)/len(df) \n",
        "\n",
        "\n",
        "# Plot a graph to check missing percentages \n",
        "plt.figure(figsize=(10,6))\n",
        "missing_percentages[missing_percentages!=0].plot(kind='barh')\n",
        "plt.title(\"Graph for NULL data in percentage \")\n",
        "plt.xlabel(\"% of missing values\")\n",
        "plt.ylabel(\"Features\")"
      ]
    },
    {
      "cell_type": "code",
      "execution_count": 67,
      "metadata": {
        "colab": {
          "base_uri": "https://localhost:8080/"
        },
        "id": "AtwUEh9EE2c9",
        "outputId": "42dd3b60-44a2-417e-f737-1ca41d7b882d"
      },
      "outputs": [
        {
          "output_type": "stream",
          "name": "stdout",
          "text": [
            "<class 'pandas.core.frame.DataFrame'>\n",
            "Int64Index: 359668 entries, 27 to 426879\n",
            "Data columns (total 13 columns):\n",
            " #   Column        Non-Null Count   Dtype  \n",
            "---  ------        --------------   -----  \n",
            " 0   price         359668 non-null  int64  \n",
            " 1   year          359668 non-null  float64\n",
            " 2   manufacturer  348910 non-null  object \n",
            " 3   condition     223255 non-null  object \n",
            " 4   cylinders     213034 non-null  object \n",
            " 5   fuel          359668 non-null  int64  \n",
            " 6   odometer      359668 non-null  float64\n",
            " 7   title_status  353075 non-null  object \n",
            " 8   transmission  359668 non-null  int64  \n",
            " 9   drive         250927 non-null  object \n",
            " 10  size          99630 non-null   object \n",
            " 11  type          285639 non-null  object \n",
            " 12  paint_color   255495 non-null  object \n",
            "dtypes: float64(2), int64(3), object(8)\n",
            "memory usage: 38.4+ MB\n"
          ]
        }
      ],
      "source": [
        "df.info()"
      ]
    },
    {
      "cell_type": "markdown",
      "metadata": {
        "id": "DbuHtseUHXSp"
      },
      "source": [
        "**title_status**"
      ]
    },
    {
      "cell_type": "code",
      "execution_count": 68,
      "metadata": {
        "colab": {
          "base_uri": "https://localhost:8080/"
        },
        "id": "60DGqlIKFh--",
        "outputId": "f63bde36-6239-4d9c-de19-f7f78041ae0f"
      },
      "outputs": [
        {
          "output_type": "execute_result",
          "data": {
            "text/plain": [
              "6593"
            ]
          },
          "metadata": {},
          "execution_count": 68
        }
      ],
      "source": [
        "df['title_status'].isnull().sum()"
      ]
    },
    {
      "cell_type": "code",
      "execution_count": 69,
      "metadata": {
        "colab": {
          "base_uri": "https://localhost:8080/"
        },
        "id": "unPo2e0ZHGpb",
        "outputId": "63043a5c-9224-41fc-f15d-1605a73e4f14"
      },
      "outputs": [
        {
          "output_type": "execute_result",
          "data": {
            "text/plain": [
              "clean         341043\n",
              "rebuilt         6807\n",
              "salvage         3559\n",
              "lien            1311\n",
              "missing          254\n",
              "parts only       101\n",
              "Name: title_status, dtype: int64"
            ]
          },
          "metadata": {},
          "execution_count": 69
        }
      ],
      "source": [
        "df['title_status'].value_counts()"
      ]
    },
    {
      "cell_type": "code",
      "execution_count": 70,
      "metadata": {
        "colab": {
          "base_uri": "https://localhost:8080/",
          "height": 423
        },
        "id": "vuJ2kWLQERZe",
        "outputId": "f495ad75-707c-4a65-dcb0-51020212093c"
      },
      "outputs": [
        {
          "output_type": "execute_result",
          "data": {
            "text/plain": [
              "       year title_status\n",
              "0    1990.0        clean\n",
              "1    1990.0      missing\n",
              "2    1990.0   parts only\n",
              "3    1990.0      rebuilt\n",
              "4    1990.0      salvage\n",
              "..      ...          ...\n",
              "181  2021.0      rebuilt\n",
              "182  2021.0      salvage\n",
              "183  2022.0        clean\n",
              "184  2022.0      missing\n",
              "185  2022.0      salvage\n",
              "\n",
              "[186 rows x 2 columns]"
            ],
            "text/html": [
              "\n",
              "  <div id=\"df-71fe9b95-1c69-4f91-9ce7-18679f17b623\">\n",
              "    <div class=\"colab-df-container\">\n",
              "      <div>\n",
              "<style scoped>\n",
              "    .dataframe tbody tr th:only-of-type {\n",
              "        vertical-align: middle;\n",
              "    }\n",
              "\n",
              "    .dataframe tbody tr th {\n",
              "        vertical-align: top;\n",
              "    }\n",
              "\n",
              "    .dataframe thead th {\n",
              "        text-align: right;\n",
              "    }\n",
              "</style>\n",
              "<table border=\"1\" class=\"dataframe\">\n",
              "  <thead>\n",
              "    <tr style=\"text-align: right;\">\n",
              "      <th></th>\n",
              "      <th>year</th>\n",
              "      <th>title_status</th>\n",
              "    </tr>\n",
              "  </thead>\n",
              "  <tbody>\n",
              "    <tr>\n",
              "      <th>0</th>\n",
              "      <td>1990.0</td>\n",
              "      <td>clean</td>\n",
              "    </tr>\n",
              "    <tr>\n",
              "      <th>1</th>\n",
              "      <td>1990.0</td>\n",
              "      <td>missing</td>\n",
              "    </tr>\n",
              "    <tr>\n",
              "      <th>2</th>\n",
              "      <td>1990.0</td>\n",
              "      <td>parts only</td>\n",
              "    </tr>\n",
              "    <tr>\n",
              "      <th>3</th>\n",
              "      <td>1990.0</td>\n",
              "      <td>rebuilt</td>\n",
              "    </tr>\n",
              "    <tr>\n",
              "      <th>4</th>\n",
              "      <td>1990.0</td>\n",
              "      <td>salvage</td>\n",
              "    </tr>\n",
              "    <tr>\n",
              "      <th>...</th>\n",
              "      <td>...</td>\n",
              "      <td>...</td>\n",
              "    </tr>\n",
              "    <tr>\n",
              "      <th>181</th>\n",
              "      <td>2021.0</td>\n",
              "      <td>rebuilt</td>\n",
              "    </tr>\n",
              "    <tr>\n",
              "      <th>182</th>\n",
              "      <td>2021.0</td>\n",
              "      <td>salvage</td>\n",
              "    </tr>\n",
              "    <tr>\n",
              "      <th>183</th>\n",
              "      <td>2022.0</td>\n",
              "      <td>clean</td>\n",
              "    </tr>\n",
              "    <tr>\n",
              "      <th>184</th>\n",
              "      <td>2022.0</td>\n",
              "      <td>missing</td>\n",
              "    </tr>\n",
              "    <tr>\n",
              "      <th>185</th>\n",
              "      <td>2022.0</td>\n",
              "      <td>salvage</td>\n",
              "    </tr>\n",
              "  </tbody>\n",
              "</table>\n",
              "<p>186 rows × 2 columns</p>\n",
              "</div>\n",
              "      <button class=\"colab-df-convert\" onclick=\"convertToInteractive('df-71fe9b95-1c69-4f91-9ce7-18679f17b623')\"\n",
              "              title=\"Convert this dataframe to an interactive table.\"\n",
              "              style=\"display:none;\">\n",
              "        \n",
              "  <svg xmlns=\"http://www.w3.org/2000/svg\" height=\"24px\"viewBox=\"0 0 24 24\"\n",
              "       width=\"24px\">\n",
              "    <path d=\"M0 0h24v24H0V0z\" fill=\"none\"/>\n",
              "    <path d=\"M18.56 5.44l.94 2.06.94-2.06 2.06-.94-2.06-.94-.94-2.06-.94 2.06-2.06.94zm-11 1L8.5 8.5l.94-2.06 2.06-.94-2.06-.94L8.5 2.5l-.94 2.06-2.06.94zm10 10l.94 2.06.94-2.06 2.06-.94-2.06-.94-.94-2.06-.94 2.06-2.06.94z\"/><path d=\"M17.41 7.96l-1.37-1.37c-.4-.4-.92-.59-1.43-.59-.52 0-1.04.2-1.43.59L10.3 9.45l-7.72 7.72c-.78.78-.78 2.05 0 2.83L4 21.41c.39.39.9.59 1.41.59.51 0 1.02-.2 1.41-.59l7.78-7.78 2.81-2.81c.8-.78.8-2.07 0-2.86zM5.41 20L4 18.59l7.72-7.72 1.47 1.35L5.41 20z\"/>\n",
              "  </svg>\n",
              "      </button>\n",
              "      \n",
              "  <style>\n",
              "    .colab-df-container {\n",
              "      display:flex;\n",
              "      flex-wrap:wrap;\n",
              "      gap: 12px;\n",
              "    }\n",
              "\n",
              "    .colab-df-convert {\n",
              "      background-color: #E8F0FE;\n",
              "      border: none;\n",
              "      border-radius: 50%;\n",
              "      cursor: pointer;\n",
              "      display: none;\n",
              "      fill: #1967D2;\n",
              "      height: 32px;\n",
              "      padding: 0 0 0 0;\n",
              "      width: 32px;\n",
              "    }\n",
              "\n",
              "    .colab-df-convert:hover {\n",
              "      background-color: #E2EBFA;\n",
              "      box-shadow: 0px 1px 2px rgba(60, 64, 67, 0.3), 0px 1px 3px 1px rgba(60, 64, 67, 0.15);\n",
              "      fill: #174EA6;\n",
              "    }\n",
              "\n",
              "    [theme=dark] .colab-df-convert {\n",
              "      background-color: #3B4455;\n",
              "      fill: #D2E3FC;\n",
              "    }\n",
              "\n",
              "    [theme=dark] .colab-df-convert:hover {\n",
              "      background-color: #434B5C;\n",
              "      box-shadow: 0px 1px 3px 1px rgba(0, 0, 0, 0.15);\n",
              "      filter: drop-shadow(0px 1px 2px rgba(0, 0, 0, 0.3));\n",
              "      fill: #FFFFFF;\n",
              "    }\n",
              "  </style>\n",
              "\n",
              "      <script>\n",
              "        const buttonEl =\n",
              "          document.querySelector('#df-71fe9b95-1c69-4f91-9ce7-18679f17b623 button.colab-df-convert');\n",
              "        buttonEl.style.display =\n",
              "          google.colab.kernel.accessAllowed ? 'block' : 'none';\n",
              "\n",
              "        async function convertToInteractive(key) {\n",
              "          const element = document.querySelector('#df-71fe9b95-1c69-4f91-9ce7-18679f17b623');\n",
              "          const dataTable =\n",
              "            await google.colab.kernel.invokeFunction('convertToInteractive',\n",
              "                                                     [key], {});\n",
              "          if (!dataTable) return;\n",
              "\n",
              "          const docLinkHtml = 'Like what you see? Visit the ' +\n",
              "            '<a target=\"_blank\" href=https://colab.research.google.com/notebooks/data_table.ipynb>data table notebook</a>'\n",
              "            + ' to learn more about interactive tables.';\n",
              "          element.innerHTML = '';\n",
              "          dataTable['output_type'] = 'display_data';\n",
              "          await google.colab.output.renderOutput(dataTable, element);\n",
              "          const docLink = document.createElement('div');\n",
              "          docLink.innerHTML = docLinkHtml;\n",
              "          element.appendChild(docLink);\n",
              "        }\n",
              "      </script>\n",
              "    </div>\n",
              "  </div>\n",
              "  "
            ]
          },
          "metadata": {},
          "execution_count": 70
        }
      ],
      "source": [
        "df_group_one = df[['year','title_status']]\n",
        "df_group_one = df_group_one.groupby(['year','title_status'],as_index=False).mean()\n",
        "df_group_one"
      ]
    },
    {
      "cell_type": "code",
      "execution_count": 71,
      "metadata": {
        "colab": {
          "base_uri": "https://localhost:8080/",
          "height": 353
        },
        "id": "aF7SBmE1EpEj",
        "outputId": "8132bb00-756c-4f28-85aa-4358cce5cd57"
      },
      "outputs": [
        {
          "output_type": "execute_result",
          "data": {
            "text/plain": [
              "<matplotlib.axes._subplots.AxesSubplot at 0x7f642e792050>"
            ]
          },
          "metadata": {},
          "execution_count": 71
        },
        {
          "output_type": "display_data",
          "data": {
            "text/plain": [
              "<Figure size 720x360 with 1 Axes>"
            ],
            "image/png": "[encoded data removed]"
          },
          "metadata": {
            "needs_background": "light"
          }
        }
      ],
      "source": [
        "plt.figure(figsize=(10,5))\n",
        "sns.boxplot(x=df.title_status, y=df.year)"
      ]
    },
    {
      "cell_type": "code",
      "execution_count": 72,
      "metadata": {
        "colab": {
          "base_uri": "https://localhost:8080/"
        },
        "id": "BF4vyUQdIZoE",
        "outputId": "838adfba-c6e2-4703-8dc1-97886f695c0d"
      },
      "outputs": [
        {
          "output_type": "stream",
          "name": "stdout",
          "text": [
            "Year greater than : 4881\n",
            "Year Inbetween  : 1712\n",
            "Year less than  : 91\n"
          ]
        }
      ],
      "source": [
        "print(\"Year greater than :\",df[df.year > 2010].title_status.isnull().sum())\n",
        "print(\"Year Inbetween  :\",df[(df.year.between(200,2010))].title_status.isnull().sum())\n",
        "print(\"Year less than  :\",df[(df.year < 2000 )].title_status.isnull().sum())\n"
      ]
    },
    {
      "cell_type": "code",
      "execution_count": 73,
      "metadata": {
        "colab": {
          "base_uri": "https://localhost:8080/"
        },
        "id": "jFWvrvGGKPkk",
        "outputId": "420969fc-10ff-47bd-bc92-e2ddc972ef9d"
      },
      "outputs": [
        {
          "output_type": "stream",
          "name": "stderr",
          "text": [
            "/usr/local/lib/python3.7/dist-packages/pandas/core/generic.py:6392: SettingWithCopyWarning: \n",
            "A value is trying to be set on a copy of a slice from a DataFrame\n",
            "\n",
            "See the caveats in the documentation: https://pandas.pydata.org/pandas-docs/stable/user_guide/indexing.html#returning-a-view-versus-a-copy\n",
            "  return self._update_inplace(result)\n"
          ]
        }
      ],
      "source": [
        "# year > 2010    title_status: clean\n",
        "\n",
        "df['title_status'] = df[df.year > 2010].title_status.fillna('clean',inplace = True)"
      ]
    },
    {
      "cell_type": "code",
      "execution_count": 74,
      "metadata": {
        "colab": {
          "base_uri": "https://localhost:8080/"
        },
        "id": "uWvjVUUHMcqu",
        "outputId": "87dacff1-dbc7-426b-bf19-a6956ad9334f"
      },
      "outputs": [
        {
          "output_type": "stream",
          "name": "stderr",
          "text": [
            "/usr/local/lib/python3.7/dist-packages/pandas/core/generic.py:6392: SettingWithCopyWarning: \n",
            "A value is trying to be set on a copy of a slice from a DataFrame\n",
            "\n",
            "See the caveats in the documentation: https://pandas.pydata.org/pandas-docs/stable/user_guide/indexing.html#returning-a-view-versus-a-copy\n",
            "  return self._update_inplace(result)\n"
          ]
        }
      ],
      "source": [
        "# Between ( 2000 , 2010 ) title_status: missing\n",
        "\n",
        "df['title_status'] = df[df.year.between(2000,2010)].title_status.fillna('missing',inplace = True)\n"
      ]
    },
    {
      "cell_type": "code",
      "execution_count": 75,
      "metadata": {
        "id": "x81ZB-SHM4nR"
      },
      "outputs": [],
      "source": [
        "# year < 2000   title_status : parts only\n",
        "\n",
        "df['title_status'] = df[df.year < 2000].title_status.fillna('parts only')\n",
        "\n"
      ]
    },
    {
      "cell_type": "code",
      "execution_count": 76,
      "metadata": {
        "colab": {
          "base_uri": "https://localhost:8080/"
        },
        "id": "VwOJ7In5KfPg",
        "outputId": "ddd31adb-c4b5-4022-c258-cb9a037d6452"
      },
      "outputs": [
        {
          "output_type": "execute_result",
          "data": {
            "text/plain": [
              "348511"
            ]
          },
          "metadata": {},
          "execution_count": 76
        }
      ],
      "source": [
        "df.title_status.isnull().sum()"
      ]
    },
    {
      "cell_type": "code",
      "execution_count": 77,
      "metadata": {
        "id": "-Ff8SnFTHKvW"
      },
      "outputs": [],
      "source": [
        "df['title_status'] = df['title_status'].fillna(df['title_status'].mode()[0])"
      ]
    },
    {
      "cell_type": "code",
      "execution_count": 78,
      "metadata": {
        "colab": {
          "base_uri": "https://localhost:8080/",
          "height": 357
        },
        "id": "Ly5vYnqkHSdH",
        "outputId": "75512b68-e525-494d-c6b0-a46c4803bbcd"
      },
      "outputs": [
        {
          "output_type": "display_data",
          "data": {
            "text/plain": [
              "<Figure size 720x432 with 1 Axes>"
            ],
            "image/png": "[encoded data removed]"
          },
          "metadata": {}
        }
      ],
      "source": [
        "## Pie Chart for title_status column\n",
        "\n",
        "plt.figure(figsize=(10,6))\n",
        "plt.pie(df.title_status.value_counts().values,labels=df.title_status.value_counts().index,autopct='%1.2f%%')\n",
        "plt.show()"
      ]
    },
    {
      "cell_type": "code",
      "execution_count": 79,
      "metadata": {
        "id": "UBjVgratHg3C"
      },
      "outputs": [],
      "source": [
        "# title_status looks like an Ordinal data . Here will use Label Encoding\n",
        "\n",
        "from sklearn import preprocessing\n",
        "\n",
        "LabelEncoding = preprocessing.LabelEncoder()\n",
        "\n",
        "df['title_status'] = LabelEncoding.fit_transform(df['title_status'])"
      ]
    },
    {
      "cell_type": "code",
      "execution_count": 80,
      "metadata": {
        "colab": {
          "base_uri": "https://localhost:8080/"
        },
        "id": "nRmGnAOOIB6k",
        "outputId": "8a91c0e6-2e60-4154-d863-4ee51028bcf9"
      },
      "outputs": [
        {
          "output_type": "execute_result",
          "data": {
            "text/plain": [
              "0    359668\n",
              "Name: title_status, dtype: int64"
            ]
          },
          "metadata": {},
          "execution_count": 80
        }
      ],
      "source": [
        "df['title_status'].value_counts()"
      ]
    },
    {
      "cell_type": "code",
      "execution_count": 81,
      "metadata": {
        "colab": {
          "base_uri": "https://localhost:8080/",
          "height": 422
        },
        "id": "KuJ-ZReWIEnS",
        "outputId": "aafe7e96-cdfd-45ef-c516-7a60228063f2"
      },
      "outputs": [
        {
          "output_type": "execute_result",
          "data": {
            "text/plain": [
              "Text(0, 0.5, 'Features')"
            ]
          },
          "metadata": {},
          "execution_count": 81
        },
        {
          "output_type": "display_data",
          "data": {
            "text/plain": [
              "<Figure size 720x432 with 1 Axes>"
            ],
            "image/png": "[encoded data removed]"
          },
          "metadata": {
            "needs_background": "light"
          }
        }
      ],
      "source": [
        "# Removing the missing percentages greater than zero.\n",
        "missing_percentages =df.isna().sum().sort_values(ascending=False)/len(df) \n",
        "\n",
        "\n",
        "# Plot a graph to check missing percentages \n",
        "plt.figure(figsize=(10,6))\n",
        "missing_percentages[missing_percentages!=0].plot(kind='barh')\n",
        "plt.title(\"Graph for NULL data in percentage \")\n",
        "plt.xlabel(\"% of missing values\")\n",
        "plt.ylabel(\"Features\")"
      ]
    },
    {
      "cell_type": "markdown",
      "metadata": {
        "id": "LpyjA5LrILCA"
      },
      "source": [
        "**manufacturer**"
      ]
    },
    {
      "cell_type": "code",
      "execution_count": 82,
      "metadata": {
        "colab": {
          "base_uri": "https://localhost:8080/"
        },
        "id": "9rdyF3j3IHv1",
        "outputId": "625ac2a7-d645-4684-94a3-4da0060a5706"
      },
      "outputs": [
        {
          "output_type": "execute_result",
          "data": {
            "text/plain": [
              "10758"
            ]
          },
          "metadata": {},
          "execution_count": 82
        }
      ],
      "source": [
        "df['manufacturer'].isnull().sum()"
      ]
    },
    {
      "cell_type": "code",
      "execution_count": 83,
      "metadata": {
        "colab": {
          "base_uri": "https://localhost:8080/"
        },
        "id": "RxHAXDRtLHyb",
        "outputId": "7d2d4be8-1471-4cc5-cb8a-c9c578a06c56"
      },
      "outputs": [
        {
          "output_type": "execute_result",
          "data": {
            "text/plain": [
              "ford               58228\n",
              "chevrolet          44274\n",
              "toyota             29750\n",
              "honda              19075\n",
              "nissan             16844\n",
              "jeep               16331\n",
              "ram                15096\n",
              "gmc                13879\n",
              "bmw                13291\n",
              "dodge              11311\n",
              "mercedes-benz       9404\n",
              "hyundai             9120\n",
              "subaru              8732\n",
              "volkswagen          8099\n",
              "lexus               7503\n",
              "kia                 7331\n",
              "audi                6860\n",
              "cadillac            6017\n",
              "acura               5549\n",
              "chrysler            5388\n",
              "mazda               4869\n",
              "buick               4825\n",
              "infiniti            4397\n",
              "lincoln             3781\n",
              "volvo               2972\n",
              "mitsubishi          2907\n",
              "mini                2215\n",
              "rover               1809\n",
              "pontiac             1784\n",
              "jaguar              1734\n",
              "porsche             1075\n",
              "saturn              1047\n",
              "mercury              953\n",
              "alfa-romeo           806\n",
              "tesla                766\n",
              "fiat                 731\n",
              "harley-davidson      130\n",
              "aston-martin          11\n",
              "land rover            10\n",
              "ferrari                4\n",
              "morgan                 2\n",
              "Name: manufacturer, dtype: int64"
            ]
          },
          "metadata": {},
          "execution_count": 83
        }
      ],
      "source": [
        "df['manufacturer'].value_counts()"
      ]
    },
    {
      "cell_type": "code",
      "execution_count": 84,
      "metadata": {
        "id": "g0IDrcbSLH3u"
      },
      "outputs": [],
      "source": [
        "df['manufacturer'] = df['manufacturer'].fillna(df['manufacturer'].mode()[0])"
      ]
    },
    {
      "cell_type": "code",
      "execution_count": 85,
      "metadata": {
        "colab": {
          "base_uri": "https://localhost:8080/"
        },
        "id": "H3NY0mOBMUAi",
        "outputId": "c343b026-5c2b-43fb-e666-d4cc733bb16c"
      },
      "outputs": [
        {
          "output_type": "execute_result",
          "data": {
            "text/plain": [
              "array(['gmc', 'chevrolet', 'toyota', 'ford', 'jeep', 'nissan', 'ram',\n",
              "       'mazda', 'cadillac', 'honda', 'dodge', 'lexus', 'jaguar',\n",
              "       'chrysler', 'volvo', 'audi', 'infiniti', 'lincoln', 'alfa-romeo',\n",
              "       'subaru', 'acura', 'hyundai', 'buick', 'mercedes-benz', 'bmw',\n",
              "       'mitsubishi', 'volkswagen', 'porsche', 'kia', 'rover', 'mini',\n",
              "       'pontiac', 'fiat', 'tesla', 'saturn', 'mercury', 'harley-davidson',\n",
              "       'aston-martin', 'land rover', 'morgan', 'ferrari'], dtype=object)"
            ]
          },
          "metadata": {},
          "execution_count": 85
        }
      ],
      "source": [
        "df['manufacturer'].unique()"
      ]
    },
    {
      "cell_type": "code",
      "execution_count": 86,
      "metadata": {
        "colab": {
          "base_uri": "https://localhost:8080/",
          "height": 357
        },
        "id": "oJq3E9jvLQye",
        "outputId": "7f4ede56-ce88-49d1-b6e2-082d83d0cb01"
      },
      "outputs": [
        {
          "output_type": "display_data",
          "data": {
            "text/plain": [
              "<Figure size 720x432 with 1 Axes>"
            ],
            "image/png": "[encoded data removed]"
          },
          "metadata": {}
        }
      ],
      "source": [
        "## Pie Chart for TOP 10 manufacturer column\n",
        "\n",
        "plt.figure(figsize=(10,6))\n",
        "plt.pie(df.manufacturer.value_counts()[:10].values,labels=df.manufacturer.value_counts()[:10].index,autopct='%1.2f%%')\n",
        "plt.show()"
      ]
    },
    {
      "cell_type": "markdown",
      "metadata": {
        "id": "if994e3UI0J6"
      },
      "source": [
        "### \" **manufacturer** \" is a **Nominal data**, 3 techniques to solve this:\n",
        "1. ONE HOT ENCODING\n",
        "2. ONE HOT ENCODING WITH MULTIPLE CATEGORIES\n",
        "3. MEAN ENCODING"
      ]
    },
    {
      "cell_type": "code",
      "execution_count": 86,
      "metadata": {
        "id": "Cj4e703TIc2d"
      },
      "outputs": [],
      "source": [
        "\n"
      ]
    },
    {
      "cell_type": "code",
      "execution_count": 87,
      "metadata": {
        "colab": {
          "base_uri": "https://localhost:8080/"
        },
        "id": "z9Kerg5VGbuK",
        "outputId": "96923892-9480-43b2-bfeb-8f5c841cb3c1"
      },
      "outputs": [
        {
          "output_type": "stream",
          "name": "stdout",
          "text": [
            "\u001b[?25l\r\u001b[K     |███▉                            | 10 kB 21.3 MB/s eta 0:00:01\r\u001b[K     |███████▋                        | 20 kB 26.2 MB/s eta 0:00:01\r\u001b[K     |███████████▍                    | 30 kB 31.2 MB/s eta 0:00:01\r\u001b[K     |███████████████▏                | 40 kB 14.6 MB/s eta 0:00:01\r\u001b[K     |███████████████████             | 51 kB 13.1 MB/s eta 0:00:01\r\u001b[K     |██████████████████████▊         | 61 kB 15.1 MB/s eta 0:00:01\r\u001b[K     |██████████████████████████▌     | 71 kB 15.3 MB/s eta 0:00:01\r\u001b[K     |██████████████████████████████▎ | 81 kB 16.4 MB/s eta 0:00:01\r\u001b[K     |████████████████████████████████| 86 kB 4.4 MB/s \n",
            "\u001b[?25h"
          ]
        }
      ],
      "source": [
        "!pip install category_encoders --quiet"
      ]
    },
    {
      "cell_type": "code",
      "execution_count": 88,
      "metadata": {
        "id": "5bE_7Cs-GV6t"
      },
      "outputs": [],
      "source": [
        "# title_status looks like an Ordinal data . Here will use Label Encoding\n",
        "\n",
        "from sklearn import preprocessing\n",
        "\n",
        "LabelEncoding = preprocessing.LabelEncoder()\n",
        "\n",
        "df['manufacturer'] = LabelEncoding.fit_transform(df['manufacturer'])\n"
      ]
    },
    {
      "cell_type": "code",
      "execution_count": 89,
      "metadata": {
        "colab": {
          "base_uri": "https://localhost:8080/",
          "height": 423
        },
        "id": "wFJOTzYdOBWM",
        "outputId": "f2f57636-bacd-4212-e518-977545635510"
      },
      "outputs": [
        {
          "output_type": "execute_result",
          "data": {
            "text/plain": [
              "        price    year  manufacturer  condition    cylinders  fuel  odometer  \\\n",
              "27      33590  2014.0            13       good  8 cylinders     2   57923.0   \n",
              "28      22590  2010.0             7       good  8 cylinders     2   71229.0   \n",
              "29      39590  2020.0             7       good  8 cylinders     2   19160.0   \n",
              "30      30990  2017.0            38       good  8 cylinders     2   41124.0   \n",
              "31      15000  2013.0            12  excellent  6 cylinders     2  128000.0   \n",
              "...       ...     ...           ...        ...          ...   ...       ...   \n",
              "426875  23590  2019.0            30       good  6 cylinders     2   32226.0   \n",
              "426876  30590  2020.0            40       good          NaN     2   12029.0   \n",
              "426877  34990  2020.0             6       good          NaN     0    4174.0   \n",
              "426878  28990  2018.0            22       good  6 cylinders     2   30112.0   \n",
              "426879  30590  2019.0             4       good          NaN     2   22716.0   \n",
              "\n",
              "        title_status  transmission drive       size       type paint_color  \n",
              "27                 0             2   NaN        NaN     pickup       white  \n",
              "28                 0             2   NaN        NaN     pickup        blue  \n",
              "29                 0             2   NaN        NaN     pickup         red  \n",
              "30                 0             2   NaN        NaN     pickup         red  \n",
              "31                 0             0   rwd  full-size      truck       black  \n",
              "...              ...           ...   ...        ...        ...         ...  \n",
              "426875             0             2   fwd        NaN      sedan         NaN  \n",
              "426876             0             2   fwd        NaN      sedan         red  \n",
              "426877             0             2   NaN        NaN  hatchback       white  \n",
              "426878             0             2   fwd        NaN      sedan      silver  \n",
              "426879             0             2   rwd        NaN      coupe         NaN  \n",
              "\n",
              "[359668 rows x 13 columns]"
            ],
            "text/html": [
              "\n",
              "  <div id=\"df-e66943dd-8ba8-439e-a7fa-eab060f7d300\">\n",
              "    <div class=\"colab-df-container\">\n",
              "      <div>\n",
              "<style scoped>\n",
              "    .dataframe tbody tr th:only-of-type {\n",
              "        vertical-align: middle;\n",
              "    }\n",
              "\n",
              "    .dataframe tbody tr th {\n",
              "        vertical-align: top;\n",
              "    }\n",
              "\n",
              "    .dataframe thead th {\n",
              "        text-align: right;\n",
              "    }\n",
              "</style>\n",
              "<table border=\"1\" class=\"dataframe\">\n",
              "  <thead>\n",
              "    <tr style=\"text-align: right;\">\n",
              "      <th></th>\n",
              "      <th>price</th>\n",
              "      <th>year</th>\n",
              "      <th>manufacturer</th>\n",
              "      <th>condition</th>\n",
              "      <th>cylinders</th>\n",
              "      <th>fuel</th>\n",
              "      <th>odometer</th>\n",
              "      <th>title_status</th>\n",
              "      <th>transmission</th>\n",
              "      <th>drive</th>\n",
              "      <th>size</th>\n",
              "      <th>type</th>\n",
              "      <th>paint_color</th>\n",
              "    </tr>\n",
              "  </thead>\n",
              "  <tbody>\n",
              "    <tr>\n",
              "      <th>27</th>\n",
              "      <td>33590</td>\n",
              "      <td>2014.0</td>\n",
              "      <td>13</td>\n",
              "      <td>good</td>\n",
              "      <td>8 cylinders</td>\n",
              "      <td>2</td>\n",
              "      <td>57923.0</td>\n",
              "      <td>0</td>\n",
              "      <td>2</td>\n",
              "      <td>NaN</td>\n",
              "      <td>NaN</td>\n",
              "      <td>pickup</td>\n",
              "      <td>white</td>\n",
              "    </tr>\n",
              "    <tr>\n",
              "      <th>28</th>\n",
              "      <td>22590</td>\n",
              "      <td>2010.0</td>\n",
              "      <td>7</td>\n",
              "      <td>good</td>\n",
              "      <td>8 cylinders</td>\n",
              "      <td>2</td>\n",
              "      <td>71229.0</td>\n",
              "      <td>0</td>\n",
              "      <td>2</td>\n",
              "      <td>NaN</td>\n",
              "      <td>NaN</td>\n",
              "      <td>pickup</td>\n",
              "      <td>blue</td>\n",
              "    </tr>\n",
              "    <tr>\n",
              "      <th>29</th>\n",
              "      <td>39590</td>\n",
              "      <td>2020.0</td>\n",
              "      <td>7</td>\n",
              "      <td>good</td>\n",
              "      <td>8 cylinders</td>\n",
              "      <td>2</td>\n",
              "      <td>19160.0</td>\n",
              "      <td>0</td>\n",
              "      <td>2</td>\n",
              "      <td>NaN</td>\n",
              "      <td>NaN</td>\n",
              "      <td>pickup</td>\n",
              "      <td>red</td>\n",
              "    </tr>\n",
              "    <tr>\n",
              "      <th>30</th>\n",
              "      <td>30990</td>\n",
              "      <td>2017.0</td>\n",
              "      <td>38</td>\n",
              "      <td>good</td>\n",
              "      <td>8 cylinders</td>\n",
              "      <td>2</td>\n",
              "      <td>41124.0</td>\n",
              "      <td>0</td>\n",
              "      <td>2</td>\n",
              "      <td>NaN</td>\n",
              "      <td>NaN</td>\n",
              "      <td>pickup</td>\n",
              "      <td>red</td>\n",
              "    </tr>\n",
              "    <tr>\n",
              "      <th>31</th>\n",
              "      <td>15000</td>\n",
              "      <td>2013.0</td>\n",
              "      <td>12</td>\n",
              "      <td>excellent</td>\n",
              "      <td>6 cylinders</td>\n",
              "      <td>2</td>\n",
              "      <td>128000.0</td>\n",
              "      <td>0</td>\n",
              "      <td>0</td>\n",
              "      <td>rwd</td>\n",
              "      <td>full-size</td>\n",
              "      <td>truck</td>\n",
              "      <td>black</td>\n",
              "    </tr>\n",
              "    <tr>\n",
              "      <th>...</th>\n",
              "      <td>...</td>\n",
              "      <td>...</td>\n",
              "      <td>...</td>\n",
              "      <td>...</td>\n",
              "      <td>...</td>\n",
              "      <td>...</td>\n",
              "      <td>...</td>\n",
              "      <td>...</td>\n",
              "      <td>...</td>\n",
              "      <td>...</td>\n",
              "      <td>...</td>\n",
              "      <td>...</td>\n",
              "      <td>...</td>\n",
              "    </tr>\n",
              "    <tr>\n",
              "      <th>426875</th>\n",
              "      <td>23590</td>\n",
              "      <td>2019.0</td>\n",
              "      <td>30</td>\n",
              "      <td>good</td>\n",
              "      <td>6 cylinders</td>\n",
              "      <td>2</td>\n",
              "      <td>32226.0</td>\n",
              "      <td>0</td>\n",
              "      <td>2</td>\n",
              "      <td>fwd</td>\n",
              "      <td>NaN</td>\n",
              "      <td>sedan</td>\n",
              "      <td>NaN</td>\n",
              "    </tr>\n",
              "    <tr>\n",
              "      <th>426876</th>\n",
              "      <td>30590</td>\n",
              "      <td>2020.0</td>\n",
              "      <td>40</td>\n",
              "      <td>good</td>\n",
              "      <td>NaN</td>\n",
              "      <td>2</td>\n",
              "      <td>12029.0</td>\n",
              "      <td>0</td>\n",
              "      <td>2</td>\n",
              "      <td>fwd</td>\n",
              "      <td>NaN</td>\n",
              "      <td>sedan</td>\n",
              "      <td>red</td>\n",
              "    </tr>\n",
              "    <tr>\n",
              "      <th>426877</th>\n",
              "      <td>34990</td>\n",
              "      <td>2020.0</td>\n",
              "      <td>6</td>\n",
              "      <td>good</td>\n",
              "      <td>NaN</td>\n",
              "      <td>0</td>\n",
              "      <td>4174.0</td>\n",
              "      <td>0</td>\n",
              "      <td>2</td>\n",
              "      <td>NaN</td>\n",
              "      <td>NaN</td>\n",
              "      <td>hatchback</td>\n",
              "      <td>white</td>\n",
              "    </tr>\n",
              "    <tr>\n",
              "      <th>426878</th>\n",
              "      <td>28990</td>\n",
              "      <td>2018.0</td>\n",
              "      <td>22</td>\n",
              "      <td>good</td>\n",
              "      <td>6 cylinders</td>\n",
              "      <td>2</td>\n",
              "      <td>30112.0</td>\n",
              "      <td>0</td>\n",
              "      <td>2</td>\n",
              "      <td>fwd</td>\n",
              "      <td>NaN</td>\n",
              "      <td>sedan</td>\n",
              "      <td>silver</td>\n",
              "    </tr>\n",
              "    <tr>\n",
              "      <th>426879</th>\n",
              "      <td>30590</td>\n",
              "      <td>2019.0</td>\n",
              "      <td>4</td>\n",
              "      <td>good</td>\n",
              "      <td>NaN</td>\n",
              "      <td>2</td>\n",
              "      <td>22716.0</td>\n",
              "      <td>0</td>\n",
              "      <td>2</td>\n",
              "      <td>rwd</td>\n",
              "      <td>NaN</td>\n",
              "      <td>coupe</td>\n",
              "      <td>NaN</td>\n",
              "    </tr>\n",
              "  </tbody>\n",
              "</table>\n",
              "<p>359668 rows × 13 columns</p>\n",
              "</div>\n",
              "      <button class=\"colab-df-convert\" onclick=\"convertToInteractive('df-e66943dd-8ba8-439e-a7fa-eab060f7d300')\"\n",
              "              title=\"Convert this dataframe to an interactive table.\"\n",
              "              style=\"display:none;\">\n",
              "        \n",
              "  <svg xmlns=\"http://www.w3.org/2000/svg\" height=\"24px\"viewBox=\"0 0 24 24\"\n",
              "       width=\"24px\">\n",
              "    <path d=\"M0 0h24v24H0V0z\" fill=\"none\"/>\n",
              "    <path d=\"M18.56 5.44l.94 2.06.94-2.06 2.06-.94-2.06-.94-.94-2.06-.94 2.06-2.06.94zm-11 1L8.5 8.5l.94-2.06 2.06-.94-2.06-.94L8.5 2.5l-.94 2.06-2.06.94zm10 10l.94 2.06.94-2.06 2.06-.94-2.06-.94-.94-2.06-.94 2.06-2.06.94z\"/><path d=\"M17.41 7.96l-1.37-1.37c-.4-.4-.92-.59-1.43-.59-.52 0-1.04.2-1.43.59L10.3 9.45l-7.72 7.72c-.78.78-.78 2.05 0 2.83L4 21.41c.39.39.9.59 1.41.59.51 0 1.02-.2 1.41-.59l7.78-7.78 2.81-2.81c.8-.78.8-2.07 0-2.86zM5.41 20L4 18.59l7.72-7.72 1.47 1.35L5.41 20z\"/>\n",
              "  </svg>\n",
              "      </button>\n",
              "      \n",
              "  <style>\n",
              "    .colab-df-container {\n",
              "      display:flex;\n",
              "      flex-wrap:wrap;\n",
              "      gap: 12px;\n",
              "    }\n",
              "\n",
              "    .colab-df-convert {\n",
              "      background-color: #E8F0FE;\n",
              "      border: none;\n",
              "      border-radius: 50%;\n",
              "      cursor: pointer;\n",
              "      display: none;\n",
              "      fill: #1967D2;\n",
              "      height: 32px;\n",
              "      padding: 0 0 0 0;\n",
              "      width: 32px;\n",
              "    }\n",
              "\n",
              "    .colab-df-convert:hover {\n",
              "      background-color: #E2EBFA;\n",
              "      box-shadow: 0px 1px 2px rgba(60, 64, 67, 0.3), 0px 1px 3px 1px rgba(60, 64, 67, 0.15);\n",
              "      fill: #174EA6;\n",
              "    }\n",
              "\n",
              "    [theme=dark] .colab-df-convert {\n",
              "      background-color: #3B4455;\n",
              "      fill: #D2E3FC;\n",
              "    }\n",
              "\n",
              "    [theme=dark] .colab-df-convert:hover {\n",
              "      background-color: #434B5C;\n",
              "      box-shadow: 0px 1px 3px 1px rgba(0, 0, 0, 0.15);\n",
              "      filter: drop-shadow(0px 1px 2px rgba(0, 0, 0, 0.3));\n",
              "      fill: #FFFFFF;\n",
              "    }\n",
              "  </style>\n",
              "\n",
              "      <script>\n",
              "        const buttonEl =\n",
              "          document.querySelector('#df-e66943dd-8ba8-439e-a7fa-eab060f7d300 button.colab-df-convert');\n",
              "        buttonEl.style.display =\n",
              "          google.colab.kernel.accessAllowed ? 'block' : 'none';\n",
              "\n",
              "        async function convertToInteractive(key) {\n",
              "          const element = document.querySelector('#df-e66943dd-8ba8-439e-a7fa-eab060f7d300');\n",
              "          const dataTable =\n",
              "            await google.colab.kernel.invokeFunction('convertToInteractive',\n",
              "                                                     [key], {});\n",
              "          if (!dataTable) return;\n",
              "\n",
              "          const docLinkHtml = 'Like what you see? Visit the ' +\n",
              "            '<a target=\"_blank\" href=https://colab.research.google.com/notebooks/data_table.ipynb>data table notebook</a>'\n",
              "            + ' to learn more about interactive tables.';\n",
              "          element.innerHTML = '';\n",
              "          dataTable['output_type'] = 'display_data';\n",
              "          await google.colab.output.renderOutput(dataTable, element);\n",
              "          const docLink = document.createElement('div');\n",
              "          docLink.innerHTML = docLinkHtml;\n",
              "          element.appendChild(docLink);\n",
              "        }\n",
              "      </script>\n",
              "    </div>\n",
              "  </div>\n",
              "  "
            ]
          },
          "metadata": {},
          "execution_count": 89
        }
      ],
      "source": [
        "df"
      ]
    },
    {
      "cell_type": "code",
      "execution_count": 90,
      "metadata": {
        "colab": {
          "base_uri": "https://localhost:8080/"
        },
        "id": "mhRvi3evHBim",
        "outputId": "4b26153f-7d9e-4bf0-ab7d-e780d227c309"
      },
      "outputs": [
        {
          "output_type": "execute_result",
          "data": {
            "text/plain": [
              "Index(['price', 'year', 'manufacturer', 'condition', 'cylinders', 'fuel',\n",
              "       'odometer', 'title_status', 'transmission', 'drive', 'size', 'type',\n",
              "       'paint_color'],\n",
              "      dtype='object')"
            ]
          },
          "metadata": {},
          "execution_count": 90
        }
      ],
      "source": [
        "df.columns"
      ]
    },
    {
      "cell_type": "code",
      "execution_count": 91,
      "metadata": {
        "id": "qdmn6JD0PaY8"
      },
      "outputs": [],
      "source": [
        "# Reset Index\n",
        "\n",
        "df.reset_index(inplace = True)\n",
        "df.drop('index',axis =1, inplace= True)"
      ]
    },
    {
      "cell_type": "code",
      "execution_count": 92,
      "metadata": {
        "colab": {
          "base_uri": "https://localhost:8080/",
          "height": 423
        },
        "id": "vmvRGlbaTx1s",
        "outputId": "eb9aee7a-504b-43d4-dfc0-bf4bb77437f9"
      },
      "outputs": [
        {
          "output_type": "execute_result",
          "data": {
            "text/plain": [
              "        price    year  manufacturer  condition    cylinders  fuel  odometer  \\\n",
              "0       33590  2014.0            13       good  8 cylinders     2   57923.0   \n",
              "1       22590  2010.0             7       good  8 cylinders     2   71229.0   \n",
              "2       39590  2020.0             7       good  8 cylinders     2   19160.0   \n",
              "3       30990  2017.0            38       good  8 cylinders     2   41124.0   \n",
              "4       15000  2013.0            12  excellent  6 cylinders     2  128000.0   \n",
              "...       ...     ...           ...        ...          ...   ...       ...   \n",
              "359663  23590  2019.0            30       good  6 cylinders     2   32226.0   \n",
              "359664  30590  2020.0            40       good          NaN     2   12029.0   \n",
              "359665  34990  2020.0             6       good          NaN     0    4174.0   \n",
              "359666  28990  2018.0            22       good  6 cylinders     2   30112.0   \n",
              "359667  30590  2019.0             4       good          NaN     2   22716.0   \n",
              "\n",
              "        title_status  transmission drive       size       type paint_color  \n",
              "0                  0             2   NaN        NaN     pickup       white  \n",
              "1                  0             2   NaN        NaN     pickup        blue  \n",
              "2                  0             2   NaN        NaN     pickup         red  \n",
              "3                  0             2   NaN        NaN     pickup         red  \n",
              "4                  0             0   rwd  full-size      truck       black  \n",
              "...              ...           ...   ...        ...        ...         ...  \n",
              "359663             0             2   fwd        NaN      sedan         NaN  \n",
              "359664             0             2   fwd        NaN      sedan         red  \n",
              "359665             0             2   NaN        NaN  hatchback       white  \n",
              "359666             0             2   fwd        NaN      sedan      silver  \n",
              "359667             0             2   rwd        NaN      coupe         NaN  \n",
              "\n",
              "[359668 rows x 13 columns]"
            ],
            "text/html": [
              "\n",
              "  <div id=\"df-eb59da3a-1095-41b9-ad10-662bf4dd41e6\">\n",
              "    <div class=\"colab-df-container\">\n",
              "      <div>\n",
              "<style scoped>\n",
              "    .dataframe tbody tr th:only-of-type {\n",
              "        vertical-align: middle;\n",
              "    }\n",
              "\n",
              "    .dataframe tbody tr th {\n",
              "        vertical-align: top;\n",
              "    }\n",
              "\n",
              "    .dataframe thead th {\n",
              "        text-align: right;\n",
              "    }\n",
              "</style>\n",
              "<table border=\"1\" class=\"dataframe\">\n",
              "  <thead>\n",
              "    <tr style=\"text-align: right;\">\n",
              "      <th></th>\n",
              "      <th>price</th>\n",
              "      <th>year</th>\n",
              "      <th>manufacturer</th>\n",
              "      <th>condition</th>\n",
              "      <th>cylinders</th>\n",
              "      <th>fuel</th>\n",
              "      <th>odometer</th>\n",
              "      <th>title_status</th>\n",
              "      <th>transmission</th>\n",
              "      <th>drive</th>\n",
              "      <th>size</th>\n",
              "      <th>type</th>\n",
              "      <th>paint_color</th>\n",
              "    </tr>\n",
              "  </thead>\n",
              "  <tbody>\n",
              "    <tr>\n",
              "      <th>0</th>\n",
              "      <td>33590</td>\n",
              "      <td>2014.0</td>\n",
              "      <td>13</td>\n",
              "      <td>good</td>\n",
              "      <td>8 cylinders</td>\n",
              "      <td>2</td>\n",
              "      <td>57923.0</td>\n",
              "      <td>0</td>\n",
              "      <td>2</td>\n",
              "      <td>NaN</td>\n",
              "      <td>NaN</td>\n",
              "      <td>pickup</td>\n",
              "      <td>white</td>\n",
              "    </tr>\n",
              "    <tr>\n",
              "      <th>1</th>\n",
              "      <td>22590</td>\n",
              "      <td>2010.0</td>\n",
              "      <td>7</td>\n",
              "      <td>good</td>\n",
              "      <td>8 cylinders</td>\n",
              "      <td>2</td>\n",
              "      <td>71229.0</td>\n",
              "      <td>0</td>\n",
              "      <td>2</td>\n",
              "      <td>NaN</td>\n",
              "      <td>NaN</td>\n",
              "      <td>pickup</td>\n",
              "      <td>blue</td>\n",
              "    </tr>\n",
              "    <tr>\n",
              "      <th>2</th>\n",
              "      <td>39590</td>\n",
              "      <td>2020.0</td>\n",
              "      <td>7</td>\n",
              "      <td>good</td>\n",
              "      <td>8 cylinders</td>\n",
              "      <td>2</td>\n",
              "      <td>19160.0</td>\n",
              "      <td>0</td>\n",
              "      <td>2</td>\n",
              "      <td>NaN</td>\n",
              "      <td>NaN</td>\n",
              "      <td>pickup</td>\n",
              "      <td>red</td>\n",
              "    </tr>\n",
              "    <tr>\n",
              "      <th>3</th>\n",
              "      <td>30990</td>\n",
              "      <td>2017.0</td>\n",
              "      <td>38</td>\n",
              "      <td>good</td>\n",
              "      <td>8 cylinders</td>\n",
              "      <td>2</td>\n",
              "      <td>41124.0</td>\n",
              "      <td>0</td>\n",
              "      <td>2</td>\n",
              "      <td>NaN</td>\n",
              "      <td>NaN</td>\n",
              "      <td>pickup</td>\n",
              "      <td>red</td>\n",
              "    </tr>\n",
              "    <tr>\n",
              "      <th>4</th>\n",
              "      <td>15000</td>\n",
              "      <td>2013.0</td>\n",
              "      <td>12</td>\n",
              "      <td>excellent</td>\n",
              "      <td>6 cylinders</td>\n",
              "      <td>2</td>\n",
              "      <td>128000.0</td>\n",
              "      <td>0</td>\n",
              "      <td>0</td>\n",
              "      <td>rwd</td>\n",
              "      <td>full-size</td>\n",
              "      <td>truck</td>\n",
              "      <td>black</td>\n",
              "    </tr>\n",
              "    <tr>\n",
              "      <th>...</th>\n",
              "      <td>...</td>\n",
              "      <td>...</td>\n",
              "      <td>...</td>\n",
              "      <td>...</td>\n",
              "      <td>...</td>\n",
              "      <td>...</td>\n",
              "      <td>...</td>\n",
              "      <td>...</td>\n",
              "      <td>...</td>\n",
              "      <td>...</td>\n",
              "      <td>...</td>\n",
              "      <td>...</td>\n",
              "      <td>...</td>\n",
              "    </tr>\n",
              "    <tr>\n",
              "      <th>359663</th>\n",
              "      <td>23590</td>\n",
              "      <td>2019.0</td>\n",
              "      <td>30</td>\n",
              "      <td>good</td>\n",
              "      <td>6 cylinders</td>\n",
              "      <td>2</td>\n",
              "      <td>32226.0</td>\n",
              "      <td>0</td>\n",
              "      <td>2</td>\n",
              "      <td>fwd</td>\n",
              "      <td>NaN</td>\n",
              "      <td>sedan</td>\n",
              "      <td>NaN</td>\n",
              "    </tr>\n",
              "    <tr>\n",
              "      <th>359664</th>\n",
              "      <td>30590</td>\n",
              "      <td>2020.0</td>\n",
              "      <td>40</td>\n",
              "      <td>good</td>\n",
              "      <td>NaN</td>\n",
              "      <td>2</td>\n",
              "      <td>12029.0</td>\n",
              "      <td>0</td>\n",
              "      <td>2</td>\n",
              "      <td>fwd</td>\n",
              "      <td>NaN</td>\n",
              "      <td>sedan</td>\n",
              "      <td>red</td>\n",
              "    </tr>\n",
              "    <tr>\n",
              "      <th>359665</th>\n",
              "      <td>34990</td>\n",
              "      <td>2020.0</td>\n",
              "      <td>6</td>\n",
              "      <td>good</td>\n",
              "      <td>NaN</td>\n",
              "      <td>0</td>\n",
              "      <td>4174.0</td>\n",
              "      <td>0</td>\n",
              "      <td>2</td>\n",
              "      <td>NaN</td>\n",
              "      <td>NaN</td>\n",
              "      <td>hatchback</td>\n",
              "      <td>white</td>\n",
              "    </tr>\n",
              "    <tr>\n",
              "      <th>359666</th>\n",
              "      <td>28990</td>\n",
              "      <td>2018.0</td>\n",
              "      <td>22</td>\n",
              "      <td>good</td>\n",
              "      <td>6 cylinders</td>\n",
              "      <td>2</td>\n",
              "      <td>30112.0</td>\n",
              "      <td>0</td>\n",
              "      <td>2</td>\n",
              "      <td>fwd</td>\n",
              "      <td>NaN</td>\n",
              "      <td>sedan</td>\n",
              "      <td>silver</td>\n",
              "    </tr>\n",
              "    <tr>\n",
              "      <th>359667</th>\n",
              "      <td>30590</td>\n",
              "      <td>2019.0</td>\n",
              "      <td>4</td>\n",
              "      <td>good</td>\n",
              "      <td>NaN</td>\n",
              "      <td>2</td>\n",
              "      <td>22716.0</td>\n",
              "      <td>0</td>\n",
              "      <td>2</td>\n",
              "      <td>rwd</td>\n",
              "      <td>NaN</td>\n",
              "      <td>coupe</td>\n",
              "      <td>NaN</td>\n",
              "    </tr>\n",
              "  </tbody>\n",
              "</table>\n",
              "<p>359668 rows × 13 columns</p>\n",
              "</div>\n",
              "      <button class=\"colab-df-convert\" onclick=\"convertToInteractive('df-eb59da3a-1095-41b9-ad10-662bf4dd41e6')\"\n",
              "              title=\"Convert this dataframe to an interactive table.\"\n",
              "              style=\"display:none;\">\n",
              "        \n",
              "  <svg xmlns=\"http://www.w3.org/2000/svg\" height=\"24px\"viewBox=\"0 0 24 24\"\n",
              "       width=\"24px\">\n",
              "    <path d=\"M0 0h24v24H0V0z\" fill=\"none\"/>\n",
              "    <path d=\"M18.56 5.44l.94 2.06.94-2.06 2.06-.94-2.06-.94-.94-2.06-.94 2.06-2.06.94zm-11 1L8.5 8.5l.94-2.06 2.06-.94-2.06-.94L8.5 2.5l-.94 2.06-2.06.94zm10 10l.94 2.06.94-2.06 2.06-.94-2.06-.94-.94-2.06-.94 2.06-2.06.94z\"/><path d=\"M17.41 7.96l-1.37-1.37c-.4-.4-.92-.59-1.43-.59-.52 0-1.04.2-1.43.59L10.3 9.45l-7.72 7.72c-.78.78-.78 2.05 0 2.83L4 21.41c.39.39.9.59 1.41.59.51 0 1.02-.2 1.41-.59l7.78-7.78 2.81-2.81c.8-.78.8-2.07 0-2.86zM5.41 20L4 18.59l7.72-7.72 1.47 1.35L5.41 20z\"/>\n",
              "  </svg>\n",
              "      </button>\n",
              "      \n",
              "  <style>\n",
              "    .colab-df-container {\n",
              "      display:flex;\n",
              "      flex-wrap:wrap;\n",
              "      gap: 12px;\n",
              "    }\n",
              "\n",
              "    .colab-df-convert {\n",
              "      background-color: #E8F0FE;\n",
              "      border: none;\n",
              "      border-radius: 50%;\n",
              "      cursor: pointer;\n",
              "      display: none;\n",
              "      fill: #1967D2;\n",
              "      height: 32px;\n",
              "      padding: 0 0 0 0;\n",
              "      width: 32px;\n",
              "    }\n",
              "\n",
              "    .colab-df-convert:hover {\n",
              "      background-color: #E2EBFA;\n",
              "      box-shadow: 0px 1px 2px rgba(60, 64, 67, 0.3), 0px 1px 3px 1px rgba(60, 64, 67, 0.15);\n",
              "      fill: #174EA6;\n",
              "    }\n",
              "\n",
              "    [theme=dark] .colab-df-convert {\n",
              "      background-color: #3B4455;\n",
              "      fill: #D2E3FC;\n",
              "    }\n",
              "\n",
              "    [theme=dark] .colab-df-convert:hover {\n",
              "      background-color: #434B5C;\n",
              "      box-shadow: 0px 1px 3px 1px rgba(0, 0, 0, 0.15);\n",
              "      filter: drop-shadow(0px 1px 2px rgba(0, 0, 0, 0.3));\n",
              "      fill: #FFFFFF;\n",
              "    }\n",
              "  </style>\n",
              "\n",
              "      <script>\n",
              "        const buttonEl =\n",
              "          document.querySelector('#df-eb59da3a-1095-41b9-ad10-662bf4dd41e6 button.colab-df-convert');\n",
              "        buttonEl.style.display =\n",
              "          google.colab.kernel.accessAllowed ? 'block' : 'none';\n",
              "\n",
              "        async function convertToInteractive(key) {\n",
              "          const element = document.querySelector('#df-eb59da3a-1095-41b9-ad10-662bf4dd41e6');\n",
              "          const dataTable =\n",
              "            await google.colab.kernel.invokeFunction('convertToInteractive',\n",
              "                                                     [key], {});\n",
              "          if (!dataTable) return;\n",
              "\n",
              "          const docLinkHtml = 'Like what you see? Visit the ' +\n",
              "            '<a target=\"_blank\" href=https://colab.research.google.com/notebooks/data_table.ipynb>data table notebook</a>'\n",
              "            + ' to learn more about interactive tables.';\n",
              "          element.innerHTML = '';\n",
              "          dataTable['output_type'] = 'display_data';\n",
              "          await google.colab.output.renderOutput(dataTable, element);\n",
              "          const docLink = document.createElement('div');\n",
              "          docLink.innerHTML = docLinkHtml;\n",
              "          element.appendChild(docLink);\n",
              "        }\n",
              "      </script>\n",
              "    </div>\n",
              "  </div>\n",
              "  "
            ]
          },
          "metadata": {},
          "execution_count": 92
        }
      ],
      "source": [
        "df"
      ]
    },
    {
      "cell_type": "markdown",
      "metadata": {
        "id": "tVwmV1pbVxB5"
      },
      "source": [
        "**condition**\n",
        "\n"
      ]
    },
    {
      "cell_type": "code",
      "execution_count": 93,
      "metadata": {
        "colab": {
          "base_uri": "https://localhost:8080/"
        },
        "id": "luxnet1jU48C",
        "outputId": "4f5df894-671c-4e97-d3a9-124a3755547e"
      },
      "outputs": [
        {
          "output_type": "execute_result",
          "data": {
            "text/plain": [
              "136413"
            ]
          },
          "metadata": {},
          "execution_count": 93
        }
      ],
      "source": [
        "df['condition'].isnull().sum()"
      ]
    },
    {
      "cell_type": "code",
      "execution_count": 94,
      "metadata": {
        "colab": {
          "base_uri": "https://localhost:8080/"
        },
        "id": "c7-alPG7WCyN",
        "outputId": "6cce7181-29af-475d-a453-a18691e545cd"
      },
      "outputs": [
        {
          "output_type": "execute_result",
          "data": {
            "text/plain": [
              "good         112094\n",
              "excellent     86649\n",
              "like new      18592\n",
              "fair           4787\n",
              "new             679\n",
              "salvage         454\n",
              "Name: condition, dtype: int64"
            ]
          },
          "metadata": {},
          "execution_count": 94
        }
      ],
      "source": [
        "df['condition'].value_counts()"
      ]
    },
    {
      "cell_type": "code",
      "execution_count": 95,
      "metadata": {
        "colab": {
          "base_uri": "https://localhost:8080/",
          "height": 423
        },
        "id": "yJh4iPX4pjvw",
        "outputId": "0e263076-4fa8-474b-848d-11dd9595d5a0"
      },
      "outputs": [
        {
          "output_type": "execute_result",
          "data": {
            "text/plain": [
              "     condition    year\n",
              "0    excellent  1990.0\n",
              "1    excellent  1991.0\n",
              "2    excellent  1992.0\n",
              "3    excellent  1993.0\n",
              "4    excellent  1994.0\n",
              "..         ...     ...\n",
              "190    salvage  2017.0\n",
              "191    salvage  2018.0\n",
              "192    salvage  2019.0\n",
              "193    salvage  2020.0\n",
              "194    salvage  2021.0\n",
              "\n",
              "[195 rows x 2 columns]"
            ],
            "text/html": [
              "\n",
              "  <div id=\"df-ee157ee4-66cf-4c40-bbbc-3f0ae67d0192\">\n",
              "    <div class=\"colab-df-container\">\n",
              "      <div>\n",
              "<style scoped>\n",
              "    .dataframe tbody tr th:only-of-type {\n",
              "        vertical-align: middle;\n",
              "    }\n",
              "\n",
              "    .dataframe tbody tr th {\n",
              "        vertical-align: top;\n",
              "    }\n",
              "\n",
              "    .dataframe thead th {\n",
              "        text-align: right;\n",
              "    }\n",
              "</style>\n",
              "<table border=\"1\" class=\"dataframe\">\n",
              "  <thead>\n",
              "    <tr style=\"text-align: right;\">\n",
              "      <th></th>\n",
              "      <th>condition</th>\n",
              "      <th>year</th>\n",
              "    </tr>\n",
              "  </thead>\n",
              "  <tbody>\n",
              "    <tr>\n",
              "      <th>0</th>\n",
              "      <td>excellent</td>\n",
              "      <td>1990.0</td>\n",
              "    </tr>\n",
              "    <tr>\n",
              "      <th>1</th>\n",
              "      <td>excellent</td>\n",
              "      <td>1991.0</td>\n",
              "    </tr>\n",
              "    <tr>\n",
              "      <th>2</th>\n",
              "      <td>excellent</td>\n",
              "      <td>1992.0</td>\n",
              "    </tr>\n",
              "    <tr>\n",
              "      <th>3</th>\n",
              "      <td>excellent</td>\n",
              "      <td>1993.0</td>\n",
              "    </tr>\n",
              "    <tr>\n",
              "      <th>4</th>\n",
              "      <td>excellent</td>\n",
              "      <td>1994.0</td>\n",
              "    </tr>\n",
              "    <tr>\n",
              "      <th>...</th>\n",
              "      <td>...</td>\n",
              "      <td>...</td>\n",
              "    </tr>\n",
              "    <tr>\n",
              "      <th>190</th>\n",
              "      <td>salvage</td>\n",
              "      <td>2017.0</td>\n",
              "    </tr>\n",
              "    <tr>\n",
              "      <th>191</th>\n",
              "      <td>salvage</td>\n",
              "      <td>2018.0</td>\n",
              "    </tr>\n",
              "    <tr>\n",
              "      <th>192</th>\n",
              "      <td>salvage</td>\n",
              "      <td>2019.0</td>\n",
              "    </tr>\n",
              "    <tr>\n",
              "      <th>193</th>\n",
              "      <td>salvage</td>\n",
              "      <td>2020.0</td>\n",
              "    </tr>\n",
              "    <tr>\n",
              "      <th>194</th>\n",
              "      <td>salvage</td>\n",
              "      <td>2021.0</td>\n",
              "    </tr>\n",
              "  </tbody>\n",
              "</table>\n",
              "<p>195 rows × 2 columns</p>\n",
              "</div>\n",
              "      <button class=\"colab-df-convert\" onclick=\"convertToInteractive('df-ee157ee4-66cf-4c40-bbbc-3f0ae67d0192')\"\n",
              "              title=\"Convert this dataframe to an interactive table.\"\n",
              "              style=\"display:none;\">\n",
              "        \n",
              "  <svg xmlns=\"http://www.w3.org/2000/svg\" height=\"24px\"viewBox=\"0 0 24 24\"\n",
              "       width=\"24px\">\n",
              "    <path d=\"M0 0h24v24H0V0z\" fill=\"none\"/>\n",
              "    <path d=\"M18.56 5.44l.94 2.06.94-2.06 2.06-.94-2.06-.94-.94-2.06-.94 2.06-2.06.94zm-11 1L8.5 8.5l.94-2.06 2.06-.94-2.06-.94L8.5 2.5l-.94 2.06-2.06.94zm10 10l.94 2.06.94-2.06 2.06-.94-2.06-.94-.94-2.06-.94 2.06-2.06.94z\"/><path d=\"M17.41 7.96l-1.37-1.37c-.4-.4-.92-.59-1.43-.59-.52 0-1.04.2-1.43.59L10.3 9.45l-7.72 7.72c-.78.78-.78 2.05 0 2.83L4 21.41c.39.39.9.59 1.41.59.51 0 1.02-.2 1.41-.59l7.78-7.78 2.81-2.81c.8-.78.8-2.07 0-2.86zM5.41 20L4 18.59l7.72-7.72 1.47 1.35L5.41 20z\"/>\n",
              "  </svg>\n",
              "      </button>\n",
              "      \n",
              "  <style>\n",
              "    .colab-df-container {\n",
              "      display:flex;\n",
              "      flex-wrap:wrap;\n",
              "      gap: 12px;\n",
              "    }\n",
              "\n",
              "    .colab-df-convert {\n",
              "      background-color: #E8F0FE;\n",
              "      border: none;\n",
              "      border-radius: 50%;\n",
              "      cursor: pointer;\n",
              "      display: none;\n",
              "      fill: #1967D2;\n",
              "      height: 32px;\n",
              "      padding: 0 0 0 0;\n",
              "      width: 32px;\n",
              "    }\n",
              "\n",
              "    .colab-df-convert:hover {\n",
              "      background-color: #E2EBFA;\n",
              "      box-shadow: 0px 1px 2px rgba(60, 64, 67, 0.3), 0px 1px 3px 1px rgba(60, 64, 67, 0.15);\n",
              "      fill: #174EA6;\n",
              "    }\n",
              "\n",
              "    [theme=dark] .colab-df-convert {\n",
              "      background-color: #3B4455;\n",
              "      fill: #D2E3FC;\n",
              "    }\n",
              "\n",
              "    [theme=dark] .colab-df-convert:hover {\n",
              "      background-color: #434B5C;\n",
              "      box-shadow: 0px 1px 3px 1px rgba(0, 0, 0, 0.15);\n",
              "      filter: drop-shadow(0px 1px 2px rgba(0, 0, 0, 0.3));\n",
              "      fill: #FFFFFF;\n",
              "    }\n",
              "  </style>\n",
              "\n",
              "      <script>\n",
              "        const buttonEl =\n",
              "          document.querySelector('#df-ee157ee4-66cf-4c40-bbbc-3f0ae67d0192 button.colab-df-convert');\n",
              "        buttonEl.style.display =\n",
              "          google.colab.kernel.accessAllowed ? 'block' : 'none';\n",
              "\n",
              "        async function convertToInteractive(key) {\n",
              "          const element = document.querySelector('#df-ee157ee4-66cf-4c40-bbbc-3f0ae67d0192');\n",
              "          const dataTable =\n",
              "            await google.colab.kernel.invokeFunction('convertToInteractive',\n",
              "                                                     [key], {});\n",
              "          if (!dataTable) return;\n",
              "\n",
              "          const docLinkHtml = 'Like what you see? Visit the ' +\n",
              "            '<a target=\"_blank\" href=https://colab.research.google.com/notebooks/data_table.ipynb>data table notebook</a>'\n",
              "            + ' to learn more about interactive tables.';\n",
              "          element.innerHTML = '';\n",
              "          dataTable['output_type'] = 'display_data';\n",
              "          await google.colab.output.renderOutput(dataTable, element);\n",
              "          const docLink = document.createElement('div');\n",
              "          docLink.innerHTML = docLinkHtml;\n",
              "          element.appendChild(docLink);\n",
              "        }\n",
              "      </script>\n",
              "    </div>\n",
              "  </div>\n",
              "  "
            ]
          },
          "metadata": {},
          "execution_count": 95
        }
      ],
      "source": [
        "df_group_one = df[['condition','year']]\n",
        "df_group_one = df_group_one.groupby(['condition','year'],as_index=False).count()\n",
        "df_group_one"
      ]
    },
    {
      "cell_type": "code",
      "execution_count": 96,
      "metadata": {
        "colab": {
          "base_uri": "https://localhost:8080/"
        },
        "id": "bHjTrP-zqAVu",
        "outputId": "491639d4-00da-4d69-e16c-7de38c7c9e57"
      },
      "outputs": [
        {
          "output_type": "execute_result",
          "data": {
            "text/plain": [
              "2018.0    13988\n",
              "2017.0    11299\n",
              "2019.0    10123\n",
              "2020.0     9738\n",
              "2016.0     7881\n",
              "2013.0     7209\n",
              "2014.0     6425\n",
              "2015.0     6335\n",
              "2012.0     5045\n",
              "2011.0     4107\n",
              "2008.0     3572\n",
              "2010.0     3329\n",
              "2007.0     3186\n",
              "2006.0     3008\n",
              "2009.0     2657\n",
              "2005.0     2507\n",
              "2004.0     2276\n",
              "2003.0     1857\n",
              "2002.0     1510\n",
              "2001.0     1227\n",
              "2000.0      972\n",
              "1999.0      808\n",
              "1998.0      616\n",
              "1997.0      513\n",
              "1996.0      349\n",
              "1995.0      344\n",
              "1994.0      312\n",
              "1993.0      212\n",
              "1991.0      199\n",
              "1992.0      179\n",
              "1990.0      170\n",
              "2021.0      139\n",
              "2022.0        2\n",
              "Name: year, dtype: int64"
            ]
          },
          "metadata": {},
          "execution_count": 96
        }
      ],
      "source": [
        "df[df.condition == 'good'].year.value_counts()"
      ]
    },
    {
      "cell_type": "code",
      "execution_count": 97,
      "metadata": {
        "id": "AeqnUgluWHaB"
      },
      "outputs": [],
      "source": [
        "df['condition'] = df['condition'].fillna(df['condition'].mode()[0])"
      ]
    },
    {
      "cell_type": "code",
      "execution_count": 98,
      "metadata": {
        "colab": {
          "base_uri": "https://localhost:8080/",
          "height": 357
        },
        "id": "eJ7uryB0WNqQ",
        "outputId": "e4fe2138-1774-4409-b827-92d2ecd67ec9"
      },
      "outputs": [
        {
          "output_type": "display_data",
          "data": {
            "text/plain": [
              "<Figure size 720x432 with 1 Axes>"
            ],
            "image/png": "[encoded data removed]"
          },
          "metadata": {}
        }
      ],
      "source": [
        "## Pie Chart for condition column\n",
        "\n",
        "plt.figure(figsize=(10,6))\n",
        "plt.pie(df.condition.value_counts().values,labels=df.condition.value_counts().index,autopct='%1.2f%%')\n",
        "plt.show()"
      ]
    },
    {
      "cell_type": "code",
      "execution_count": 99,
      "metadata": {
        "id": "h68mcAP_WPD1"
      },
      "outputs": [],
      "source": [
        "# title_status looks like an Ordinal data . Here will use Label Encoding\n",
        "\n",
        "from sklearn import preprocessing\n",
        "\n",
        "LabelEncoding = preprocessing.LabelEncoder()\n",
        "\n",
        "df['condition'] = LabelEncoding.fit_transform(df['condition'])"
      ]
    },
    {
      "cell_type": "markdown",
      "metadata": {
        "id": "uHpv2YZQWxKy"
      },
      "source": [
        "**cylinder**"
      ]
    },
    {
      "cell_type": "code",
      "execution_count": 100,
      "metadata": {
        "colab": {
          "base_uri": "https://localhost:8080/"
        },
        "id": "Nn8oVFS8Wvr-",
        "outputId": "94ced0a8-c201-48d7-99dc-3de3949c0ca2"
      },
      "outputs": [
        {
          "output_type": "execute_result",
          "data": {
            "text/plain": [
              "146634"
            ]
          },
          "metadata": {},
          "execution_count": 100
        }
      ],
      "source": [
        "df['cylinders'].isnull().sum()"
      ]
    },
    {
      "cell_type": "code",
      "execution_count": 101,
      "metadata": {
        "colab": {
          "base_uri": "https://localhost:8080/"
        },
        "id": "C_s6jw9HWivM",
        "outputId": "22850228-b5f7-42d8-cd5b-614bbd427748"
      },
      "outputs": [
        {
          "output_type": "execute_result",
          "data": {
            "text/plain": [
              "6 cylinders     83251\n",
              "4 cylinders     69240\n",
              "8 cylinders     56501\n",
              "5 cylinders      1553\n",
              "10 cylinders     1028\n",
              "other             798\n",
              "3 cylinders       538\n",
              "12 cylinders      125\n",
              "Name: cylinders, dtype: int64"
            ]
          },
          "metadata": {},
          "execution_count": 101
        }
      ],
      "source": [
        "df['cylinders'].value_counts()"
      ]
    },
    {
      "cell_type": "code",
      "execution_count": 102,
      "metadata": {
        "id": "k9frvUdJWkcg"
      },
      "outputs": [],
      "source": [
        "# splitting the cylinder column\n",
        "\n",
        "df['cylinders'] = df['cylinders'].str.split(' ').str[0]"
      ]
    },
    {
      "cell_type": "code",
      "execution_count": 103,
      "metadata": {
        "id": "LN43pceVXUTr"
      },
      "outputs": [],
      "source": [
        "# filling null values\n",
        "\n",
        "df['cylinders'] = df['cylinders'].fillna(df['cylinders'].mode()[0])"
      ]
    },
    {
      "cell_type": "code",
      "execution_count": 104,
      "metadata": {
        "id": "K72V8_LLXbgZ"
      },
      "outputs": [],
      "source": [
        "# replacing others value in cylinder column with 0\n",
        "df['cylinders'] = df['cylinders'].replace(['other'],'0')\n"
      ]
    },
    {
      "cell_type": "code",
      "execution_count": 105,
      "metadata": {
        "id": "pB7T3g3IXx-c"
      },
      "outputs": [],
      "source": [
        "# changing into integer column\n",
        "\n",
        "df['cylinders'] = df['cylinders'].astype('int')"
      ]
    },
    {
      "cell_type": "code",
      "execution_count": 106,
      "metadata": {
        "colab": {
          "base_uri": "https://localhost:8080/",
          "height": 559
        },
        "id": "BX-9bRCTY0H2",
        "outputId": "2c9bde97-110d-446d-cdd1-c42fd81247d6"
      },
      "outputs": [
        {
          "output_type": "execute_result",
          "data": {
            "text/plain": [
              "<matplotlib.axes._subplots.AxesSubplot at 0x7f642d158590>"
            ]
          },
          "metadata": {},
          "execution_count": 106
        },
        {
          "output_type": "display_data",
          "data": {
            "text/plain": [
              "<Figure size 864x576 with 1 Axes>"
            ],
            "image/png": "[encoded data removed]"
          },
          "metadata": {
            "needs_background": "light"
          }
        }
      ],
      "source": [
        "# creating a graph to check null values\n",
        "\n",
        "plt.figure(figsize=(12,8))\n",
        "sns.heatmap(df.isnull(),yticklabels=False,cbar=False,cmap='viridis')"
      ]
    },
    {
      "cell_type": "code",
      "execution_count": 107,
      "metadata": {
        "colab": {
          "base_uri": "https://localhost:8080/",
          "height": 422
        },
        "id": "vh3chrqFZRLa",
        "outputId": "899e3b57-0cf7-4f74-d88f-258d2936fdd2"
      },
      "outputs": [
        {
          "output_type": "execute_result",
          "data": {
            "text/plain": [
              "Text(0, 0.5, 'Features')"
            ]
          },
          "metadata": {},
          "execution_count": 107
        },
        {
          "output_type": "display_data",
          "data": {
            "text/plain": [
              "<Figure size 720x432 with 1 Axes>"
            ],
            "image/png": "[encoded data removed]"
          },
          "metadata": {
            "needs_background": "light"
          }
        }
      ],
      "source": [
        "# Removing the missing percentages greater than zero.\n",
        "missing_percentages =df.isna().sum().sort_values(ascending=False)/len(df) \n",
        "\n",
        "# Plot a graph to check missing percentages \n",
        "plt.figure(figsize=(10,6))\n",
        "missing_percentages[missing_percentages!=0].plot(kind='barh')\n",
        "plt.title(\"Graph for NULL data in percentage \")\n",
        "plt.xlabel(\"% of missing values\")\n",
        "plt.ylabel(\"Features\")"
      ]
    },
    {
      "cell_type": "markdown",
      "metadata": {
        "id": "huE1rAs9YyCR"
      },
      "source": [
        "**drive** "
      ]
    },
    {
      "cell_type": "code",
      "execution_count": 108,
      "metadata": {
        "colab": {
          "base_uri": "https://localhost:8080/"
        },
        "id": "DvItNoJeYt70",
        "outputId": "3aa6e300-a0d2-492d-d0f7-fd192e51c17e"
      },
      "outputs": [
        {
          "output_type": "execute_result",
          "data": {
            "text/plain": [
              "108741"
            ]
          },
          "metadata": {},
          "execution_count": 108
        }
      ],
      "source": [
        "df['drive'].isnull().sum()"
      ]
    },
    {
      "cell_type": "code",
      "execution_count": 109,
      "metadata": {
        "colab": {
          "base_uri": "https://localhost:8080/"
        },
        "id": "GfU2pNmMYvGj",
        "outputId": "f6b898aa-a21f-43b9-aa44-72a1f7b17a5e"
      },
      "outputs": [
        {
          "output_type": "execute_result",
          "data": {
            "text/plain": [
              "4wd    110446\n",
              "fwd     93880\n",
              "rwd     46601\n",
              "Name: drive, dtype: int64"
            ]
          },
          "metadata": {},
          "execution_count": 109
        }
      ],
      "source": [
        "df['drive'].value_counts()"
      ]
    },
    {
      "cell_type": "code",
      "execution_count": 110,
      "metadata": {
        "id": "z2GtVxmDZLqR"
      },
      "outputs": [],
      "source": [
        "df['drive'] = df['drive'].fillna(df['drive'].mode()[0])"
      ]
    },
    {
      "cell_type": "code",
      "execution_count": 111,
      "metadata": {
        "colab": {
          "base_uri": "https://localhost:8080/",
          "height": 352
        },
        "id": "BauVXA6wrTLx",
        "outputId": "1fd09fdd-b1ae-49c5-815c-d6337ff3a003"
      },
      "outputs": [
        {
          "output_type": "execute_result",
          "data": {
            "text/plain": [
              "<matplotlib.axes._subplots.AxesSubplot at 0x7f642f0041d0>"
            ]
          },
          "metadata": {},
          "execution_count": 111
        },
        {
          "output_type": "display_data",
          "data": {
            "text/plain": [
              "<Figure size 720x360 with 1 Axes>"
            ],
            "image/png": "[encoded data removed]"
          },
          "metadata": {
            "needs_background": "light"
          }
        }
      ],
      "source": [
        "plt.figure(figsize=(10,5))\n",
        "sns.boxplot(x=\"drive\", y=\"price\", data=df)"
      ]
    },
    {
      "cell_type": "code",
      "execution_count": 111,
      "metadata": {
        "id": "fmM7fQBhrzj_"
      },
      "outputs": [],
      "source": [
        ""
      ]
    },
    {
      "cell_type": "code",
      "execution_count": 112,
      "metadata": {
        "colab": {
          "base_uri": "https://localhost:8080/",
          "height": 357
        },
        "id": "yilHCJhVZxjP",
        "outputId": "aea67d21-3542-479e-d0e0-a073a327889f"
      },
      "outputs": [
        {
          "output_type": "display_data",
          "data": {
            "text/plain": [
              "<Figure size 720x432 with 1 Axes>"
            ],
            "image/png": "[encoded data removed]"
          },
          "metadata": {}
        }
      ],
      "source": [
        "## Pie Chart for drive column\n",
        "\n",
        "plt.figure(figsize=(10,6))\n",
        "plt.pie(df.drive.value_counts().values,labels=df.drive.value_counts().index,autopct='%1.2f%%')\n",
        "plt.show()"
      ]
    },
    {
      "cell_type": "code",
      "execution_count": 113,
      "metadata": {
        "id": "4CQTzs3bZ0x4"
      },
      "outputs": [],
      "source": [
        "# title_status looks like an Ordinal data . Here will use Label Encoding\n",
        "\n",
        "from sklearn import preprocessing\n",
        "\n",
        "LabelEncoding = preprocessing.LabelEncoder()\n",
        "\n",
        "df['drive'] = LabelEncoding.fit_transform(df['drive'])"
      ]
    },
    {
      "cell_type": "markdown",
      "metadata": {
        "id": "ZRjjyTATaI4M"
      },
      "source": [
        "**type**"
      ]
    },
    {
      "cell_type": "code",
      "execution_count": 114,
      "metadata": {
        "colab": {
          "base_uri": "https://localhost:8080/"
        },
        "id": "eZt7-PGlZ9BO",
        "outputId": "61a9fe39-28a4-4117-c5ae-94c9190f617f"
      },
      "outputs": [
        {
          "output_type": "execute_result",
          "data": {
            "text/plain": [
              "74029"
            ]
          },
          "metadata": {},
          "execution_count": 114
        }
      ],
      "source": [
        "df['type'].isnull().sum()"
      ]
    },
    {
      "cell_type": "code",
      "execution_count": 115,
      "metadata": {
        "colab": {
          "base_uri": "https://localhost:8080/"
        },
        "id": "vplYJkdRZ-IR",
        "outputId": "1cde81ea-638f-45eb-cfad-205a48f31567"
      },
      "outputs": [
        {
          "output_type": "execute_result",
          "data": {
            "text/plain": [
              "sedan          76680\n",
              "SUV            67080\n",
              "pickup         37678\n",
              "truck          26576\n",
              "other          18574\n",
              "hatchback      15495\n",
              "coupe          15492\n",
              "wagon           9527\n",
              "van             7294\n",
              "convertible     6014\n",
              "mini-van        4375\n",
              "offroad          437\n",
              "bus              417\n",
              "Name: type, dtype: int64"
            ]
          },
          "metadata": {},
          "execution_count": 115
        }
      ],
      "source": [
        "df['type'].value_counts()"
      ]
    },
    {
      "cell_type": "code",
      "execution_count": 116,
      "metadata": {
        "id": "CY1ru2nJaSrt"
      },
      "outputs": [],
      "source": [
        "df['type'] = df['type'].fillna(df['type'].mode()[0])"
      ]
    },
    {
      "cell_type": "code",
      "execution_count": 117,
      "metadata": {
        "colab": {
          "base_uri": "https://localhost:8080/",
          "height": 357
        },
        "id": "G09ux-gpbHEv",
        "outputId": "a068f223-99e2-487a-98a7-780976bff770"
      },
      "outputs": [
        {
          "output_type": "display_data",
          "data": {
            "text/plain": [
              "<Figure size 720x432 with 1 Axes>"
            ],
            "image/png": "[encoded data removed]"
          },
          "metadata": {}
        }
      ],
      "source": [
        "## Pie Chart for top 6 type column\n",
        "\n",
        "plt.figure(figsize=(10,6))\n",
        "plt.pie(df['type'].value_counts().values[:6],labels=df['type'].value_counts().index[:6],autopct='%1.2f%%')\n",
        "plt.show()"
      ]
    },
    {
      "cell_type": "code",
      "execution_count": 118,
      "metadata": {
        "id": "m2iTxdSc12W0"
      },
      "outputs": [],
      "source": [
        "\n",
        "# title_status looks like an Ordinal data . Here will use Label Encoding\n",
        "\n",
        "from sklearn import preprocessing\n",
        "\n",
        "LabelEncoding = preprocessing.LabelEncoder()\n",
        "\n",
        "df['type'] = LabelEncoding.fit_transform(df['type'])"
      ]
    },
    {
      "cell_type": "code",
      "execution_count": 119,
      "metadata": {
        "colab": {
          "base_uri": "https://localhost:8080/",
          "height": 422
        },
        "id": "WKp8CYap3stL",
        "outputId": "3840e63a-44de-4ffa-d13f-93867f085f86"
      },
      "outputs": [
        {
          "output_type": "execute_result",
          "data": {
            "text/plain": [
              "Text(0, 0.5, 'Features')"
            ]
          },
          "metadata": {},
          "execution_count": 119
        },
        {
          "output_type": "display_data",
          "data": {
            "text/plain": [
              "<Figure size 720x432 with 1 Axes>"
            ],
            "image/png": "[encoded data removed]"
          },
          "metadata": {
            "needs_background": "light"
          }
        }
      ],
      "source": [
        "# Removing the missing percentages greater than zero.\n",
        "missing_percentages =df.isna().sum().sort_values(ascending=False)/len(df) \n",
        "\n",
        "# Plot a graph to check missing percentages \n",
        "plt.figure(figsize=(10,6))\n",
        "missing_percentages[missing_percentages!=0].plot(kind='barh')\n",
        "plt.title(\"Graph for NULL data in percentage \")\n",
        "plt.xlabel(\"% of missing values\")\n",
        "plt.ylabel(\"Features\")"
      ]
    },
    {
      "cell_type": "markdown",
      "metadata": {
        "id": "hqeERHxB35sH"
      },
      "source": [
        "Size column contains about 70 percent of the Null values, dropping this column for now"
      ]
    },
    {
      "cell_type": "code",
      "execution_count": 120,
      "metadata": {
        "id": "xHubRc-f35Oi"
      },
      "outputs": [],
      "source": [
        "# size column drop\n",
        "\n",
        "df.drop('size' , axis =1 , inplace = True)"
      ]
    },
    {
      "cell_type": "markdown",
      "metadata": {
        "id": "s3sAkSmH4v1A"
      },
      "source": [
        "**paint_color**         "
      ]
    },
    {
      "cell_type": "code",
      "execution_count": 121,
      "metadata": {
        "colab": {
          "base_uri": "https://localhost:8080/"
        },
        "id": "he5vcn3L3tha",
        "outputId": "4a7a4316-c7c4-4890-e9c1-905d7bdbff04"
      },
      "outputs": [
        {
          "output_type": "execute_result",
          "data": {
            "text/plain": [
              "104173"
            ]
          },
          "metadata": {},
          "execution_count": 121
        }
      ],
      "source": [
        "df['paint_color'].isnull().sum()"
      ]
    },
    {
      "cell_type": "code",
      "execution_count": 122,
      "metadata": {
        "colab": {
          "base_uri": "https://localhost:8080/"
        },
        "id": "AMVNI7Ma4Poe",
        "outputId": "356c13cc-0848-4f0e-a014-a72ef6489706"
      },
      "outputs": [
        {
          "output_type": "execute_result",
          "data": {
            "text/plain": [
              "white     67054\n",
              "black     54816\n",
              "silver    38235\n",
              "blue      27059\n",
              "red       26166\n",
              "grey      21326\n",
              "green      5988\n",
              "brown      5609\n",
              "custom     5596\n",
              "orange     1551\n",
              "yellow     1537\n",
              "purple      558\n",
              "Name: paint_color, dtype: int64"
            ]
          },
          "metadata": {},
          "execution_count": 122
        }
      ],
      "source": [
        "df['paint_color'].value_counts()"
      ]
    },
    {
      "cell_type": "code",
      "execution_count": 123,
      "metadata": {
        "id": "5iqN-KL44_zx"
      },
      "outputs": [],
      "source": [
        "df['paint_color'] = df['paint_color'].fillna(df['paint_color'].mode()[0])"
      ]
    },
    {
      "cell_type": "code",
      "execution_count": 124,
      "metadata": {
        "colab": {
          "base_uri": "https://localhost:8080/",
          "height": 357
        },
        "id": "aYMIJg615Mxu",
        "outputId": "264ec253-0adb-4934-9351-79e3b2f62529"
      },
      "outputs": [
        {
          "output_type": "display_data",
          "data": {
            "text/plain": [
              "<Figure size 720x432 with 1 Axes>"
            ],
            "image/png": "[encoded data removed]"
          },
          "metadata": {}
        }
      ],
      "source": [
        "## Pie Chart for top 6 paint_color column\n",
        "\n",
        "plt.figure(figsize=(10,6))\n",
        "plt.pie(df['paint_color'].value_counts().values[:6],labels=df['paint_color'].value_counts().index[:6],autopct='%1.2f%%')\n",
        "plt.show()"
      ]
    },
    {
      "cell_type": "code",
      "execution_count": 125,
      "metadata": {
        "id": "JIuhgcaa5i48"
      },
      "outputs": [],
      "source": [
        "# title_status looks like an Ordinal data . Here will use Label Encoding\n",
        "\n",
        "from sklearn import preprocessing\n",
        "\n",
        "LabelEncoding = preprocessing.LabelEncoder()\n",
        "\n",
        "df['paint_color'] = LabelEncoding.fit_transform(df['paint_color'])"
      ]
    },
    {
      "cell_type": "code",
      "execution_count": 126,
      "metadata": {
        "colab": {
          "base_uri": "https://localhost:8080/"
        },
        "id": "DBw8pJFl6Deh",
        "outputId": "544657db-5847-4811-b3e4-c30be98ab878"
      },
      "outputs": [
        {
          "output_type": "execute_result",
          "data": {
            "text/plain": [
              "price           0.0\n",
              "year            0.0\n",
              "manufacturer    0.0\n",
              "condition       0.0\n",
              "cylinders       0.0\n",
              "fuel            0.0\n",
              "odometer        0.0\n",
              "title_status    0.0\n",
              "transmission    0.0\n",
              "drive           0.0\n",
              "type            0.0\n",
              "paint_color     0.0\n",
              "dtype: float64"
            ]
          },
          "metadata": {},
          "execution_count": 126
        }
      ],
      "source": [
        "# Removing the missing percentages greater than zero.\n",
        "missing_percentages =df.isna().sum().sort_values(ascending=False)/len(df)\n",
        "missing_percentages"
      ]
    },
    {
      "cell_type": "code",
      "execution_count": 127,
      "metadata": {
        "id": "fECdnOpg8LcU"
      },
      "outputs": [],
      "source": [
        "X_data = df.drop('price',axis =1 )\n",
        "y_data = df['price']"
      ]
    },
    {
      "cell_type": "code",
      "execution_count": 128,
      "metadata": {
        "id": "d6JSFab36URU"
      },
      "outputs": [],
      "source": [
        "from sklearn.model_selection import train_test_split\n",
        "\n",
        "X_train, X_test, y_train, y_test = train_test_split(X_data, y_data, test_size=0.2, random_state=42)"
      ]
    },
    {
      "cell_type": "code",
      "execution_count": 129,
      "metadata": {
        "colab": {
          "base_uri": "https://localhost:8080/"
        },
        "id": "dhUxZ9Ru7LmF",
        "outputId": "99ed6a73-2bcb-4230-abd1-01e0d36a7327"
      },
      "outputs": [
        {
          "output_type": "stream",
          "name": "stdout",
          "text": [
            "(287734, 11) (287734,)\n",
            "(71934, 11) (71934,)\n"
          ]
        }
      ],
      "source": [
        "print (X_train.shape, y_train.shape)\n",
        "print (X_test.shape, y_test.shape)"
      ]
    },
    {
      "cell_type": "code",
      "execution_count": 130,
      "metadata": {
        "id": "km1f6mOB88sx"
      },
      "outputs": [],
      "source": [
        "# Feature Scaling\n",
        "from sklearn.preprocessing import StandardScaler\n",
        "\n",
        "sc = StandardScaler()\n",
        "X_train= sc.fit_transform(X_train)\n",
        "X_test= sc.transform(X_test)"
      ]
    },
    {
      "cell_type": "code",
      "execution_count": 131,
      "metadata": {
        "id": "58GTYSCgs5Jt"
      },
      "outputs": [],
      "source": [
        "from sklearn.preprocessing import MinMaxScaler\n",
        "sc = MinMaxScaler()   \n",
        "X_train= sc.fit_transform(X_train)\n",
        "X_test= sc.transform(X_test)"
      ]
    },
    {
      "cell_type": "code",
      "execution_count": 132,
      "metadata": {
        "colab": {
          "base_uri": "https://localhost:8080/"
        },
        "id": "_mE40lgC9ASC",
        "outputId": "be8f9822-3d6e-4195-90d2-0ebdd794a178"
      },
      "outputs": [
        {
          "output_type": "stream",
          "name": "stdout",
          "text": [
            "n_estimators: 10\n",
            "Model Score: 0.8680466847436035\n",
            "Mean Absolute Error: 2250.95\n",
            "Mean Squared Error: 22216328.92\n",
            "Root Mean Squared Error: 4713.42\n",
            "n_estimators: 20\n",
            "Model Score: 0.8740790724301561\n",
            "Mean Absolute Error: 2188.88\n",
            "Mean Squared Error: 21200685.55\n",
            "Root Mean Squared Error: 4604.42\n",
            "n_estimators: 30\n",
            "Model Score: 0.8763494045147997\n",
            "Mean Absolute Error: 2166.2\n",
            "Mean Squared Error: 20818440.94\n",
            "Root Mean Squared Error: 4562.72\n",
            "n_estimators: 40\n",
            "Model Score: 0.8773201867879254\n",
            "Mean Absolute Error: 2152.83\n",
            "Mean Squared Error: 20654995.11\n",
            "Root Mean Squared Error: 4544.78\n",
            "n_estimators: 50\n",
            "Model Score: 0.8779997713559857\n",
            "Mean Absolute Error: 2146.17\n",
            "Mean Squared Error: 20540576.81\n",
            "Root Mean Squared Error: 4532.17\n",
            "n_estimators: 60\n",
            "Model Score: 0.878157970222114\n",
            "Mean Absolute Error: 2141.71\n",
            "Mean Squared Error: 20513941.65\n",
            "Root Mean Squared Error: 4529.23\n",
            "n_estimators: 70\n",
            "Model Score: 0.8783068319598151\n",
            "Mean Absolute Error: 2138.91\n",
            "Mean Squared Error: 20488878.53\n",
            "Root Mean Squared Error: 4526.46\n",
            "n_estimators: 80\n",
            "Model Score: 0.8782542053347614\n",
            "Mean Absolute Error: 2138.56\n",
            "Mean Squared Error: 20497739.02\n",
            "Root Mean Squared Error: 4527.44\n",
            "n_estimators: 90\n",
            "Model Score: 0.8783062318210136\n",
            "Mean Absolute Error: 2137.99\n",
            "Mean Squared Error: 20488979.57\n",
            "Root Mean Squared Error: 4526.48\n",
            "n_estimators: 100\n",
            "Model Score: 0.8784644587118422\n",
            "Mean Absolute Error: 2135.68\n",
            "Mean Squared Error: 20462339.69\n",
            "Root Mean Squared Error: 4523.53\n",
            "n_estimators: 200\n",
            "Model Score: 0.8789128760055989\n",
            "Mean Absolute Error: 2130.0\n",
            "Mean Squared Error: 20386841.89\n",
            "Root Mean Squared Error: 4515.18\n",
            "n_estimators: 300\n",
            "Model Score: 0.8792095400012689\n",
            "Mean Absolute Error: 2126.97\n",
            "Mean Squared Error: 20336894.03\n",
            "Root Mean Squared Error: 4509.64\n"
          ]
        }
      ],
      "source": [
        "# Random Forest\n",
        "\n",
        "from sklearn.ensemble import RandomForestRegressor\n",
        "from sklearn import metrics\n",
        "from sklearn.metrics import mean_squared_error as MSE\n",
        "import numpy as np\n",
        "\n",
        "n_est = [10,20,30,40,50,60,70,80,90,100,200,300]\n",
        "for i in n_est:\n",
        "  regressor = RandomForestRegressor(n_estimators=i, random_state=42)\n",
        "  regressor.fit(X_train, y_train)\n",
        "  y_pred = regressor.predict(X_test)\n",
        "  print('n_estimators:',i)\n",
        "  print('Model Score:',regressor.score(X_test,y_test))\n",
        "  print('Mean Absolute Error:', round(metrics.mean_absolute_error(y_test, y_pred),2))\n",
        "  print('Mean Squared Error:', round(metrics.mean_squared_error(y_test, y_pred),2))\n",
        "  print('Root Mean Squared Error:' , round(np.sqrt(metrics.mean_squared_error(y_test, y_pred)),2))"
      ]
    },
    {
      "cell_type": "code",
      "execution_count": 133,
      "metadata": {
        "colab": {
          "base_uri": "https://localhost:8080/"
        },
        "id": "fZ7eg_hZ_PJX",
        "outputId": "2692b2ce-3d80-46a1-9145-2f2f6ad02efa"
      },
      "outputs": [
        {
          "output_type": "execute_result",
          "data": {
            "text/plain": [
              "0.8792095400012689"
            ]
          },
          "metadata": {},
          "execution_count": 133
        }
      ],
      "source": [
        "regressor.score(X_test,y_test)"
      ]
    },
    {
      "cell_type": "code",
      "execution_count": 134,
      "metadata": {
        "id": "mHk1bPrV9NQI"
      },
      "outputs": [],
      "source": [
        "# Multiple Linear Regression\n",
        "\n",
        "from sklearn.linear_model import LinearRegression\n",
        "\n",
        "Multi_Linear_model = LinearRegression()\n",
        "Multi_Linear_model.fit(X_train, y_train)\n",
        "y_pred = Multi_Linear_model.predict(X_test)\n"
      ]
    },
    {
      "cell_type": "code",
      "execution_count": 135,
      "metadata": {
        "colab": {
          "base_uri": "https://localhost:8080/"
        },
        "id": "4KiM3YMU9uB1",
        "outputId": "09aca203-d67c-4c43-bfe7-1c8e8679e022"
      },
      "outputs": [
        {
          "output_type": "stream",
          "name": "stdout",
          "text": [
            "Model Score: 0.5271539945379765\n",
            "Mean Absolute Error: 6604.1\n",
            "Mean Squared Error: 79610749.94\n",
            "Root Mean Squared Error: 8922.49\n"
          ]
        }
      ],
      "source": [
        "from sklearn.metrics import accuracy_score\n",
        "\n",
        "print('Model Score:',Multi_Linear_model.score(X_test,y_test))\n",
        "print('Mean Absolute Error:', round(metrics.mean_absolute_error(y_test, y_pred),2))\n",
        "print('Mean Squared Error:', round(metrics.mean_squared_error(y_test, y_pred),2))\n",
        "print('Root Mean Squared Error:', round(np.sqrt(metrics.mean_squared_error(y_test, y_pred)),2))"
      ]
    },
    {
      "cell_type": "code",
      "execution_count": 135,
      "metadata": {
        "id": "MBrFkjBz_Sdp"
      },
      "outputs": [],
      "source": [
        ""
      ]
    }
  ],
  "metadata": {
    "colab": {
      "name": "Third_Model_Acurracy_87.95_per.ipynb",
      "provenance": [],
      "include_colab_link": true
    },
    "kernelspec": {
      "display_name": "Python 3",
      "name": "python3"
    },
    "language_info": {
      "name": "python"
    }
  },
  "nbformat": 4,
  "nbformat_minor": 0
}