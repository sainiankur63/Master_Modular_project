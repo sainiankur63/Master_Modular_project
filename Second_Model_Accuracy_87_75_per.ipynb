{
  "nbformat": 4,
  "nbformat_minor": 0,
  "metadata": {
    "colab": {
      "name": "Second_Model_Accuracy_87.75_per.ipynb",
      "provenance": [],
      "include_colab_link": true
    },
    "kernelspec": {
      "name": "python3",
      "display_name": "Python 3"
    },
    "language_info": {
      "name": "python"
    }
  },
  "cells": [
    {
      "cell_type": "markdown",
      "metadata": {
        "id": "view-in-github",
        "colab_type": "text"
      },
      "source": [
        "<a href=\"https://colab.research.google.com/github/sainiankur63/Master_Modular_project/blob/main/Second_Model_Accuracy_87_75_per.ipynb\" target=\"_parent\"><img src=\"https://colab.research.google.com/assets/colab-badge.svg\" alt=\"Open In Colab\"/></a>"
      ]
    },
    {
      "cell_type": "markdown",
      "source": [
        "**Important Steps** <br>\n",
        "**1) Removing Outliers**\n",
        "\n",
        "1.   PRICE : In between ( 50 USD and 57364 USD )\n",
        "2.   YEAR : taking year greater than 2000\n",
        "3.   ODOMETER : In between ( 100 miles and 200000 miles)\n",
        "\n",
        "**2) Drop Columns** <br> \n",
        "[ 'id' , 'url', 'region' , 'region_url ', 'VIN' , 'image_url' , 'description' , 'county' , 'state' , 'model' , 'lat' , 'long' ,  'posting_date' ]\n",
        "\n",
        "**3) Null Values**\n",
        "\n",
        "\n",
        "1. df['transmission'] = df['transmission'].fillna(df.transmission.mode()[0])\n",
        "2. df['fuel'] = df['fuel'].fillna(df.fuel.mode()[0]) \n",
        "3. df['title_status'] = df['title_status'].fillna(df['title_status'].mode()[0])\n",
        "4. df['manufacturer'] = df['manufacturer'].fillna(df['manufacturer'].mode()[0])\n",
        "5. df['condition'] = df['condition'].fillna(df['condition'].mode()[0])\n",
        "6. df['cylinders'] = df['cylinders'].fillna(df['cylinders'].mode()[0])\n",
        "7. df['drive'] = df['drive'].fillna(df['drive'].mode()[0])\n",
        "8. df['type'] = df['type'].fillna(df['type'].mode()[0])\n",
        "9. df['paint_color'] = df['paint_color'].fillna(df['paint_color'].mode()[0])\n",
        "\n",
        "**4) Normalizaton**\n",
        "1.   Standard Scalar\n",
        "2.   Min Max Scalar\n",
        "\n",
        "**5) Model Outcome**\n",
        "\n",
        "1.   Random Forest :\n",
        "                    n_estimators : 300\n",
        "                    Model Score: 0.8779300961546638\n",
        "                    Mean Absolute Error: 2074.39\n",
        "                    Mean Squared Error: 19456572.94\n",
        "                    Root Mean Squared Error: 4410.96\n",
        "2.   Multi Linear Regression :\n",
        "                    Model Score: 0.5382949343200012  \n",
        "                    Mean Absolute Error: 6343.95\n",
        "                    Mean Squared Error: 73591038.64\n",
        "                    Root Mean Squared Error: 8578.52"
      ],
      "metadata": {
        "id": "dMYpgmO3--XZ"
      }
    },
    {
      "cell_type": "code",
      "execution_count": 1,
      "metadata": {
        "id": "iI2rr89FzFTZ"
      },
      "outputs": [],
      "source": [
        "!pip install pandas numpy pandas matplotlib seaborn opendatasets --quiet"
      ]
    },
    {
      "cell_type": "code",
      "source": [
        "!pip install imbalanced-learn"
      ],
      "metadata": {
        "colab": {
          "base_uri": "https://localhost:8080/"
        },
        "id": "ry150PZVmhRK",
        "outputId": "0a331248-b6b6-43f4-edd4-d651d26e5863"
      },
      "execution_count": 2,
      "outputs": [
        {
          "output_type": "stream",
          "name": "stdout",
          "text": [
            "Requirement already satisfied: imbalanced-learn in /usr/local/lib/python3.7/dist-packages (0.8.1)\n",
            "Requirement already satisfied: numpy>=1.13.3 in /usr/local/lib/python3.7/dist-packages (from imbalanced-learn) (1.21.5)\n",
            "Requirement already satisfied: scipy>=0.19.1 in /usr/local/lib/python3.7/dist-packages (from imbalanced-learn) (1.4.1)\n",
            "Requirement already satisfied: joblib>=0.11 in /usr/local/lib/python3.7/dist-packages (from imbalanced-learn) (1.1.0)\n",
            "Requirement already satisfied: scikit-learn>=0.24 in /usr/local/lib/python3.7/dist-packages (from imbalanced-learn) (1.0.2)\n",
            "Requirement already satisfied: threadpoolctl>=2.0.0 in /usr/local/lib/python3.7/dist-packages (from scikit-learn>=0.24->imbalanced-learn) (3.1.0)\n"
          ]
        }
      ]
    },
    {
      "cell_type": "code",
      "source": [
        "# To show all columns' names on a large pandas dataframe\n",
        "import pandas as pd\n",
        "pd.set_option('display.max_columns', None)"
      ],
      "metadata": {
        "id": "uM4nK_f1n9zA"
      },
      "execution_count": 3,
      "outputs": []
    },
    {
      "cell_type": "code",
      "source": [
        "import pandas as pd\n",
        "import matplotlib\n",
        "import seaborn as sns\n",
        "from matplotlib import pyplot as plt\n",
        "%matplotlib inline\n",
        "matplotlib.rcParams['figure.figsize'] = (8,4)"
      ],
      "metadata": {
        "id": "jC_GjB6VzPHO"
      },
      "execution_count": 4,
      "outputs": []
    },
    {
      "cell_type": "code",
      "source": [
        "import opendatasets as od\n",
        "dataset_url = 'https://www.kaggle.com/austinreese/craigslist-carstrucks-data'\n",
        "\n",
        "\n",
        "od.download(dataset_url)\n",
        "\n",
        "data_dir = './craigslist-carstrucks-data'"
      ],
      "metadata": {
        "colab": {
          "base_uri": "https://localhost:8080/"
        },
        "id": "TMhPoH4QzRW1",
        "outputId": "abda775f-1676-46c1-ee0f-c7ef7239412a"
      },
      "execution_count": 5,
      "outputs": [
        {
          "output_type": "stream",
          "name": "stdout",
          "text": [
            "Skipping, found downloaded files in \"./craigslist-carstrucks-data\" (use force=True to force download)\n"
          ]
        }
      ]
    },
    {
      "cell_type": "code",
      "source": [
        "df = pd.read_csv(data_dir+\"/vehicles.csv\")"
      ],
      "metadata": {
        "id": "l7KZIphhzZeN"
      },
      "execution_count": 6,
      "outputs": []
    },
    {
      "cell_type": "markdown",
      "source": [
        "### **Checking outliers for each labels Outlier Detection**"
      ],
      "metadata": {
        "id": "fQmf_HGoz1x1"
      }
    },
    {
      "cell_type": "code",
      "source": [
        "df.info()"
      ],
      "metadata": {
        "colab": {
          "base_uri": "https://localhost:8080/"
        },
        "id": "myMEV4SBQQoj",
        "outputId": "d48ce2f4-d6ee-437d-f0f2-2becea1b8ad8"
      },
      "execution_count": 7,
      "outputs": [
        {
          "output_type": "stream",
          "name": "stdout",
          "text": [
            "<class 'pandas.core.frame.DataFrame'>\n",
            "RangeIndex: 426880 entries, 0 to 426879\n",
            "Data columns (total 26 columns):\n",
            " #   Column        Non-Null Count   Dtype  \n",
            "---  ------        --------------   -----  \n",
            " 0   id            426880 non-null  int64  \n",
            " 1   url           426880 non-null  object \n",
            " 2   region        426880 non-null  object \n",
            " 3   region_url    426880 non-null  object \n",
            " 4   price         426880 non-null  int64  \n",
            " 5   year          425675 non-null  float64\n",
            " 6   manufacturer  409234 non-null  object \n",
            " 7   model         421603 non-null  object \n",
            " 8   condition     252776 non-null  object \n",
            " 9   cylinders     249202 non-null  object \n",
            " 10  fuel          423867 non-null  object \n",
            " 11  odometer      422480 non-null  float64\n",
            " 12  title_status  418638 non-null  object \n",
            " 13  transmission  424324 non-null  object \n",
            " 14  VIN           265838 non-null  object \n",
            " 15  drive         296313 non-null  object \n",
            " 16  size          120519 non-null  object \n",
            " 17  type          334022 non-null  object \n",
            " 18  paint_color   296677 non-null  object \n",
            " 19  image_url     426812 non-null  object \n",
            " 20  description   426810 non-null  object \n",
            " 21  county        0 non-null       float64\n",
            " 22  state         426880 non-null  object \n",
            " 23  lat           420331 non-null  float64\n",
            " 24  long          420331 non-null  float64\n",
            " 25  posting_date  426812 non-null  object \n",
            "dtypes: float64(5), int64(2), object(19)\n",
            "memory usage: 84.7+ MB\n"
          ]
        }
      ]
    },
    {
      "cell_type": "markdown",
      "source": [
        "### **First Checking Outliers for Numeric data columns** <br>\n",
        "Numeric columns : [ price ,year , odometer , lat , long ] <br>\n",
        "\n",
        "\n"
      ],
      "metadata": {
        "id": "f5dW1yuyOCym"
      }
    },
    {
      "cell_type": "code",
      "source": [
        "df.describe().applymap(lambda x: f\"{x:0.3f}\")"
      ],
      "metadata": {
        "colab": {
          "base_uri": "https://localhost:8080/",
          "height": 300
        },
        "id": "FFYyLHtSgRZg",
        "outputId": "fa6fbb7b-1634-410f-9149-44b6a44f9507"
      },
      "execution_count": 8,
      "outputs": [
        {
          "output_type": "execute_result",
          "data": {
            "text/plain": [
              "                   id           price        year      odometer county  \\\n",
              "count      426880.000      426880.000  425675.000    422480.000  0.000   \n",
              "mean   7311486634.224       75199.033    2011.235     98043.331    nan   \n",
              "std       4473170.413    12182282.174       9.452    213881.501    nan   \n",
              "min    7207408119.000           0.000    1900.000         0.000    nan   \n",
              "25%    7308143339.250        5900.000    2008.000     37704.000    nan   \n",
              "50%    7312620821.000       13950.000    2013.000     85548.000    nan   \n",
              "75%    7315253543.500       26485.750    2017.000    133542.500    nan   \n",
              "max    7317101084.000  3736928711.000    2022.000  10000000.000    nan   \n",
              "\n",
              "              lat        long  \n",
              "count  420331.000  420331.000  \n",
              "mean       38.494     -94.749  \n",
              "std         5.842      18.365  \n",
              "min       -84.122    -159.828  \n",
              "25%        34.602    -111.940  \n",
              "50%        39.150     -88.433  \n",
              "75%        42.399     -80.832  \n",
              "max        82.391     173.886  "
            ],
            "text/html": [
              "\n",
              "  <div id=\"df-06110538-d2e5-4766-a07b-9cad8ffa443f\">\n",
              "    <div class=\"colab-df-container\">\n",
              "      <div>\n",
              "<style scoped>\n",
              "    .dataframe tbody tr th:only-of-type {\n",
              "        vertical-align: middle;\n",
              "    }\n",
              "\n",
              "    .dataframe tbody tr th {\n",
              "        vertical-align: top;\n",
              "    }\n",
              "\n",
              "    .dataframe thead th {\n",
              "        text-align: right;\n",
              "    }\n",
              "</style>\n",
              "<table border=\"1\" class=\"dataframe\">\n",
              "  <thead>\n",
              "    <tr style=\"text-align: right;\">\n",
              "      <th></th>\n",
              "      <th>id</th>\n",
              "      <th>price</th>\n",
              "      <th>year</th>\n",
              "      <th>odometer</th>\n",
              "      <th>county</th>\n",
              "      <th>lat</th>\n",
              "      <th>long</th>\n",
              "    </tr>\n",
              "  </thead>\n",
              "  <tbody>\n",
              "    <tr>\n",
              "      <th>count</th>\n",
              "      <td>426880.000</td>\n",
              "      <td>426880.000</td>\n",
              "      <td>425675.000</td>\n",
              "      <td>422480.000</td>\n",
              "      <td>0.000</td>\n",
              "      <td>420331.000</td>\n",
              "      <td>420331.000</td>\n",
              "    </tr>\n",
              "    <tr>\n",
              "      <th>mean</th>\n",
              "      <td>7311486634.224</td>\n",
              "      <td>75199.033</td>\n",
              "      <td>2011.235</td>\n",
              "      <td>98043.331</td>\n",
              "      <td>nan</td>\n",
              "      <td>38.494</td>\n",
              "      <td>-94.749</td>\n",
              "    </tr>\n",
              "    <tr>\n",
              "      <th>std</th>\n",
              "      <td>4473170.413</td>\n",
              "      <td>12182282.174</td>\n",
              "      <td>9.452</td>\n",
              "      <td>213881.501</td>\n",
              "      <td>nan</td>\n",
              "      <td>5.842</td>\n",
              "      <td>18.365</td>\n",
              "    </tr>\n",
              "    <tr>\n",
              "      <th>min</th>\n",
              "      <td>7207408119.000</td>\n",
              "      <td>0.000</td>\n",
              "      <td>1900.000</td>\n",
              "      <td>0.000</td>\n",
              "      <td>nan</td>\n",
              "      <td>-84.122</td>\n",
              "      <td>-159.828</td>\n",
              "    </tr>\n",
              "    <tr>\n",
              "      <th>25%</th>\n",
              "      <td>7308143339.250</td>\n",
              "      <td>5900.000</td>\n",
              "      <td>2008.000</td>\n",
              "      <td>37704.000</td>\n",
              "      <td>nan</td>\n",
              "      <td>34.602</td>\n",
              "      <td>-111.940</td>\n",
              "    </tr>\n",
              "    <tr>\n",
              "      <th>50%</th>\n",
              "      <td>7312620821.000</td>\n",
              "      <td>13950.000</td>\n",
              "      <td>2013.000</td>\n",
              "      <td>85548.000</td>\n",
              "      <td>nan</td>\n",
              "      <td>39.150</td>\n",
              "      <td>-88.433</td>\n",
              "    </tr>\n",
              "    <tr>\n",
              "      <th>75%</th>\n",
              "      <td>7315253543.500</td>\n",
              "      <td>26485.750</td>\n",
              "      <td>2017.000</td>\n",
              "      <td>133542.500</td>\n",
              "      <td>nan</td>\n",
              "      <td>42.399</td>\n",
              "      <td>-80.832</td>\n",
              "    </tr>\n",
              "    <tr>\n",
              "      <th>max</th>\n",
              "      <td>7317101084.000</td>\n",
              "      <td>3736928711.000</td>\n",
              "      <td>2022.000</td>\n",
              "      <td>10000000.000</td>\n",
              "      <td>nan</td>\n",
              "      <td>82.391</td>\n",
              "      <td>173.886</td>\n",
              "    </tr>\n",
              "  </tbody>\n",
              "</table>\n",
              "</div>\n",
              "      <button class=\"colab-df-convert\" onclick=\"convertToInteractive('df-06110538-d2e5-4766-a07b-9cad8ffa443f')\"\n",
              "              title=\"Convert this dataframe to an interactive table.\"\n",
              "              style=\"display:none;\">\n",
              "        \n",
              "  <svg xmlns=\"http://www.w3.org/2000/svg\" height=\"24px\"viewBox=\"0 0 24 24\"\n",
              "       width=\"24px\">\n",
              "    <path d=\"M0 0h24v24H0V0z\" fill=\"none\"/>\n",
              "    <path d=\"M18.56 5.44l.94 2.06.94-2.06 2.06-.94-2.06-.94-.94-2.06-.94 2.06-2.06.94zm-11 1L8.5 8.5l.94-2.06 2.06-.94-2.06-.94L8.5 2.5l-.94 2.06-2.06.94zm10 10l.94 2.06.94-2.06 2.06-.94-2.06-.94-.94-2.06-.94 2.06-2.06.94z\"/><path d=\"M17.41 7.96l-1.37-1.37c-.4-.4-.92-.59-1.43-.59-.52 0-1.04.2-1.43.59L10.3 9.45l-7.72 7.72c-.78.78-.78 2.05 0 2.83L4 21.41c.39.39.9.59 1.41.59.51 0 1.02-.2 1.41-.59l7.78-7.78 2.81-2.81c.8-.78.8-2.07 0-2.86zM5.41 20L4 18.59l7.72-7.72 1.47 1.35L5.41 20z\"/>\n",
              "  </svg>\n",
              "      </button>\n",
              "      \n",
              "  <style>\n",
              "    .colab-df-container {\n",
              "      display:flex;\n",
              "      flex-wrap:wrap;\n",
              "      gap: 12px;\n",
              "    }\n",
              "\n",
              "    .colab-df-convert {\n",
              "      background-color: #E8F0FE;\n",
              "      border: none;\n",
              "      border-radius: 50%;\n",
              "      cursor: pointer;\n",
              "      display: none;\n",
              "      fill: #1967D2;\n",
              "      height: 32px;\n",
              "      padding: 0 0 0 0;\n",
              "      width: 32px;\n",
              "    }\n",
              "\n",
              "    .colab-df-convert:hover {\n",
              "      background-color: #E2EBFA;\n",
              "      box-shadow: 0px 1px 2px rgba(60, 64, 67, 0.3), 0px 1px 3px 1px rgba(60, 64, 67, 0.15);\n",
              "      fill: #174EA6;\n",
              "    }\n",
              "\n",
              "    [theme=dark] .colab-df-convert {\n",
              "      background-color: #3B4455;\n",
              "      fill: #D2E3FC;\n",
              "    }\n",
              "\n",
              "    [theme=dark] .colab-df-convert:hover {\n",
              "      background-color: #434B5C;\n",
              "      box-shadow: 0px 1px 3px 1px rgba(0, 0, 0, 0.15);\n",
              "      filter: drop-shadow(0px 1px 2px rgba(0, 0, 0, 0.3));\n",
              "      fill: #FFFFFF;\n",
              "    }\n",
              "  </style>\n",
              "\n",
              "      <script>\n",
              "        const buttonEl =\n",
              "          document.querySelector('#df-06110538-d2e5-4766-a07b-9cad8ffa443f button.colab-df-convert');\n",
              "        buttonEl.style.display =\n",
              "          google.colab.kernel.accessAllowed ? 'block' : 'none';\n",
              "\n",
              "        async function convertToInteractive(key) {\n",
              "          const element = document.querySelector('#df-06110538-d2e5-4766-a07b-9cad8ffa443f');\n",
              "          const dataTable =\n",
              "            await google.colab.kernel.invokeFunction('convertToInteractive',\n",
              "                                                     [key], {});\n",
              "          if (!dataTable) return;\n",
              "\n",
              "          const docLinkHtml = 'Like what you see? Visit the ' +\n",
              "            '<a target=\"_blank\" href=https://colab.research.google.com/notebooks/data_table.ipynb>data table notebook</a>'\n",
              "            + ' to learn more about interactive tables.';\n",
              "          element.innerHTML = '';\n",
              "          dataTable['output_type'] = 'display_data';\n",
              "          await google.colab.output.renderOutput(dataTable, element);\n",
              "          const docLink = document.createElement('div');\n",
              "          docLink.innerHTML = docLinkHtml;\n",
              "          element.appendChild(docLink);\n",
              "        }\n",
              "      </script>\n",
              "    </div>\n",
              "  </div>\n",
              "  "
            ]
          },
          "metadata": {},
          "execution_count": 8
        }
      ]
    },
    {
      "cell_type": "code",
      "source": [
        "sns.distplot(df[(df.price >=  100) & (df.price <= 60000)].price)"
      ],
      "metadata": {
        "colab": {
          "base_uri": "https://localhost:8080/",
          "height": 365
        },
        "id": "72uo6KjUhqpn",
        "outputId": "1fcfa2e3-207f-4ba8-f937-b6f317c4d8ac"
      },
      "execution_count": 9,
      "outputs": [
        {
          "output_type": "stream",
          "name": "stderr",
          "text": [
            "/usr/local/lib/python3.7/dist-packages/seaborn/distributions.py:2619: FutureWarning: `distplot` is a deprecated function and will be removed in a future version. Please adapt your code to use either `displot` (a figure-level function with similar flexibility) or `histplot` (an axes-level function for histograms).\n",
            "  warnings.warn(msg, FutureWarning)\n"
          ]
        },
        {
          "output_type": "execute_result",
          "data": {
            "text/plain": [
              "<matplotlib.axes._subplots.AxesSubplot at 0x7f2e0cb93350>"
            ]
          },
          "metadata": {},
          "execution_count": 9
        },
        {
          "output_type": "display_data",
          "data": {
            "text/plain": [
              "<Figure size 576x288 with 1 Axes>"
            ],
            "image/png": "[encoded data removed]"
          },
          "metadata": {
            "needs_background": "light"
          }
        }
      ]
    },
    {
      "cell_type": "code",
      "source": [
        "df[(df.price >= 60000)].shape"
      ],
      "metadata": {
        "colab": {
          "base_uri": "https://localhost:8080/"
        },
        "id": "bPR0cHd-iFsN",
        "outputId": "cfce07d3-4abe-40d8-8f17-e9952eabc416"
      },
      "execution_count": 10,
      "outputs": [
        {
          "output_type": "execute_result",
          "data": {
            "text/plain": [
              "(6320, 26)"
            ]
          },
          "metadata": {},
          "execution_count": 10
        }
      ]
    },
    {
      "cell_type": "code",
      "source": [
        "# Outlier removal in price column\n",
        "\n",
        "#### Lets compute the Interquantile range to calculate the boundaries\n",
        "IQR=df.price.quantile(0.75)-df.price.quantile(0.25)\n",
        "\n",
        "#### Extreme outliers\n",
        "lower_lim_price = df['price'].quantile(0.25)-(IQR*3)\n",
        "upper_lim_price = df['price'].quantile(0.75)+(IQR*3)\n",
        "print(lower_lim_price), print(upper_lim_price)"
      ],
      "metadata": {
        "colab": {
          "base_uri": "https://localhost:8080/"
        },
        "id": "EigHMJJXf9VO",
        "outputId": "051a728f-dc88-4e55-a9ad-2abe071705f5"
      },
      "execution_count": 11,
      "outputs": [
        {
          "output_type": "stream",
          "name": "stdout",
          "text": [
            "-55857.25\n",
            "88243.0\n"
          ]
        },
        {
          "output_type": "execute_result",
          "data": {
            "text/plain": [
              "(None, None)"
            ]
          },
          "metadata": {},
          "execution_count": 11
        }
      ]
    },
    {
      "cell_type": "code",
      "source": [
        "lower_lim = df['price'].quantile(0.25)-(IQR*1.5)\n",
        "upper_lim = df['price'].quantile(0.75)+(IQR*1.5)\n",
        "print(lower_lim), print(upper_lim)"
      ],
      "metadata": {
        "colab": {
          "base_uri": "https://localhost:8080/"
        },
        "id": "oIWpfMRVhOCM",
        "outputId": "a3221a3c-71b0-44a2-8187-ad94b70b4a3d"
      },
      "execution_count": 12,
      "outputs": [
        {
          "output_type": "stream",
          "name": "stdout",
          "text": [
            "-24978.625\n",
            "57364.375\n"
          ]
        },
        {
          "output_type": "execute_result",
          "data": {
            "text/plain": [
              "(None, None)"
            ]
          },
          "metadata": {},
          "execution_count": 12
        }
      ]
    },
    {
      "cell_type": "code",
      "source": [
        "# Taking 100 dollars as min and 60k dollars max value for price\n",
        "\n",
        "df = df[(df.price >=  50) & (df.price <= 57364)]"
      ],
      "metadata": {
        "id": "N0BxJlPfiYBG"
      },
      "execution_count": 13,
      "outputs": []
    },
    {
      "cell_type": "code",
      "source": [
        "df.shape"
      ],
      "metadata": {
        "colab": {
          "base_uri": "https://localhost:8080/"
        },
        "id": "o98dXAGWjTqy",
        "outputId": "75304b87-84ec-4116-e80b-50581284176b"
      },
      "execution_count": 14,
      "outputs": [
        {
          "output_type": "execute_result",
          "data": {
            "text/plain": [
              "(383547, 26)"
            ]
          },
          "metadata": {},
          "execution_count": 14
        }
      ]
    },
    {
      "cell_type": "code",
      "source": [
        "# Outlier removal in year column\n",
        "\n",
        "df['year'].isnull().sum()"
      ],
      "metadata": {
        "colab": {
          "base_uri": "https://localhost:8080/"
        },
        "id": "S9x0paSDzvx1",
        "outputId": "559e8714-789e-4d50-d766-d5891180050a"
      },
      "execution_count": 15,
      "outputs": [
        {
          "output_type": "execute_result",
          "data": {
            "text/plain": [
              "980"
            ]
          },
          "metadata": {},
          "execution_count": 15
        }
      ]
    },
    {
      "cell_type": "code",
      "source": [
        "# checking the distribution of year column\n",
        "import seaborn as sns\n",
        "\n",
        "sns.distplot(df['year'].dropna())"
      ],
      "metadata": {
        "colab": {
          "base_uri": "https://localhost:8080/",
          "height": 353
        },
        "id": "PLthtpAYz_vF",
        "outputId": "4c071052-963f-4002-ea64-5b128d8190de"
      },
      "execution_count": 16,
      "outputs": [
        {
          "output_type": "stream",
          "name": "stderr",
          "text": [
            "/usr/local/lib/python3.7/dist-packages/seaborn/distributions.py:2619: FutureWarning: `distplot` is a deprecated function and will be removed in a future version. Please adapt your code to use either `displot` (a figure-level function with similar flexibility) or `histplot` (an axes-level function for histograms).\n",
            "  warnings.warn(msg, FutureWarning)\n"
          ]
        },
        {
          "output_type": "execute_result",
          "data": {
            "text/plain": [
              "<matplotlib.axes._subplots.AxesSubplot at 0x7f2e0cb64e10>"
            ]
          },
          "metadata": {},
          "execution_count": 16
        },
        {
          "output_type": "display_data",
          "data": {
            "text/plain": [
              "<Figure size 576x288 with 1 Axes>"
            ],
            "image/png": "[encoded data removed]"
          },
          "metadata": {
            "needs_background": "light"
          }
        }
      ]
    },
    {
      "cell_type": "markdown",
      "source": [
        "**Observation:**\n",
        "1. Data is left Skewed"
      ],
      "metadata": {
        "id": "eLq4Fc8ZS7pn"
      }
    },
    {
      "cell_type": "code",
      "source": [
        "#import seaborn as sns\n",
        "#sns.boxplot(df['year'])"
      ],
      "metadata": {
        "id": "cLbYr0237sGr"
      },
      "execution_count": 17,
      "outputs": []
    },
    {
      "cell_type": "code",
      "source": [
        "import seaborn as sns\n",
        "figure=df.boxplot(column=\"year\")"
      ],
      "metadata": {
        "colab": {
          "base_uri": "https://localhost:8080/",
          "height": 265
        },
        "id": "E9EouBLsPUQI",
        "outputId": "acdc2f45-f384-4e94-be4e-4c46d5d6e06c"
      },
      "execution_count": 18,
      "outputs": [
        {
          "output_type": "display_data",
          "data": {
            "text/plain": [
              "<Figure size 576x288 with 1 Axes>"
            ],
            "image/png": "[encoded data removed]"
          },
          "metadata": {
            "needs_background": "light"
          }
        }
      ]
    },
    {
      "cell_type": "code",
      "source": [
        "# Histogram for year column\n",
        "\n",
        "plt.hist(df.year, bins=20, rwidth=0.8)\n",
        "plt.xlabel('year')\n",
        "plt.ylabel('Count')\n",
        "plt.show()"
      ],
      "metadata": {
        "colab": {
          "base_uri": "https://localhost:8080/",
          "height": 279
        },
        "id": "ts7Wnuhc0JVN",
        "outputId": "0b921d7d-874a-493e-9024-62374d3e1baa"
      },
      "execution_count": 19,
      "outputs": [
        {
          "output_type": "display_data",
          "data": {
            "text/plain": [
              "<Figure size 576x288 with 1 Axes>"
            ],
            "image/png": "[encoded data removed]"
          },
          "metadata": {
            "needs_background": "light"
          }
        }
      ]
    },
    {
      "cell_type": "code",
      "source": [
        "df['year'].describe()"
      ],
      "metadata": {
        "colab": {
          "base_uri": "https://localhost:8080/"
        },
        "id": "YL9mBJuMR6Cf",
        "outputId": "bf14cf9d-789a-40c1-ebc0-1c45ef81334a"
      },
      "execution_count": 20,
      "outputs": [
        {
          "output_type": "execute_result",
          "data": {
            "text/plain": [
              "count    382567.000000\n",
              "mean       2010.945921\n",
              "std           9.487201\n",
              "min        1900.000000\n",
              "25%        2008.000000\n",
              "50%        2013.000000\n",
              "75%        2017.000000\n",
              "max        2022.000000\n",
              "Name: year, dtype: float64"
            ]
          },
          "metadata": {},
          "execution_count": 20
        }
      ]
    },
    {
      "cell_type": "markdown",
      "source": [
        "As per the above graphs it is clearly shows that data of year is left skewed. \n",
        "For skewed Data , IQR techniqie is implement to remove outliers"
      ],
      "metadata": {
        "id": "R1Ccuiph03F_"
      }
    },
    {
      "cell_type": "code",
      "source": [
        "#### Lets compute the Interquantile range to calculate the boundaries\n",
        "IQR=df.year.quantile(0.75)-df.year.quantile(0.25)"
      ],
      "metadata": {
        "id": "bMlmvUHRVIsV"
      },
      "execution_count": 21,
      "outputs": []
    },
    {
      "cell_type": "code",
      "source": [
        "lower_lim_year = df['year'].quantile(0.25)-(IQR*1.5)\n",
        "upper_lim_year = df['year'].quantile(0.75)+(IQR*1.5)\n",
        "print(lower_lim_year), print(upper_lim_year)"
      ],
      "metadata": {
        "colab": {
          "base_uri": "https://localhost:8080/"
        },
        "id": "REg-qnGEVJ-n",
        "outputId": "5999858a-58cf-4e53-95af-66037d4819c2"
      },
      "execution_count": 22,
      "outputs": [
        {
          "output_type": "stream",
          "name": "stdout",
          "text": [
            "1994.5\n",
            "2030.5\n"
          ]
        },
        {
          "output_type": "execute_result",
          "data": {
            "text/plain": [
              "(None, None)"
            ]
          },
          "metadata": {},
          "execution_count": 22
        }
      ]
    },
    {
      "cell_type": "code",
      "source": [
        "#### Extreme outliers\n",
        "#lower_bridge=df['year'].quantile(0.25)-(IQR*3)\n",
        "#upper_bridge=df['year'].quantile(0.75)+(IQR*3)\n",
        "#print(lower_bridge), print(upper_bridge)\n",
        "\n",
        "df.describe().applymap(lambda x: f\"{x:0.3f}\")"
      ],
      "metadata": {
        "colab": {
          "base_uri": "https://localhost:8080/",
          "height": 300
        },
        "id": "Swuo0clTV6F3",
        "outputId": "d0560e53-61a7-4160-9f77-781667321b2c"
      },
      "execution_count": 23,
      "outputs": [
        {
          "output_type": "execute_result",
          "data": {
            "text/plain": [
              "                   id       price        year      odometer county  \\\n",
              "count      383547.000  383547.000  382567.000    381340.000  0.000   \n",
              "mean   7311481043.670   17840.768    2010.946     99597.898    nan   \n",
              "std       4474298.939   12728.024       9.487    200218.953    nan   \n",
              "min    7207408119.000      50.000    1900.000         0.000    nan   \n",
              "25%    7308134318.500    7000.000    2008.000     39600.750    nan   \n",
              "50%    7312621731.000   14995.000    2013.000     89000.000    nan   \n",
              "75%    7315249677.500   26988.000    2017.000    136617.000    nan   \n",
              "max    7317101084.000   57341.000    2022.000  10000000.000    nan   \n",
              "\n",
              "              lat        long  \n",
              "count  380088.000  380088.000  \n",
              "mean       38.533     -94.265  \n",
              "std         5.831      18.136  \n",
              "min       -84.122    -159.828  \n",
              "25%        34.747    -110.960  \n",
              "50%        39.264     -87.960  \n",
              "75%        42.370     -80.760  \n",
              "max        82.391     167.630  "
            ],
            "text/html": [
              "\n",
              "  <div id=\"df-e489bf6f-a9d2-443b-96df-d2e211b6b1fc\">\n",
              "    <div class=\"colab-df-container\">\n",
              "      <div>\n",
              "<style scoped>\n",
              "    .dataframe tbody tr th:only-of-type {\n",
              "        vertical-align: middle;\n",
              "    }\n",
              "\n",
              "    .dataframe tbody tr th {\n",
              "        vertical-align: top;\n",
              "    }\n",
              "\n",
              "    .dataframe thead th {\n",
              "        text-align: right;\n",
              "    }\n",
              "</style>\n",
              "<table border=\"1\" class=\"dataframe\">\n",
              "  <thead>\n",
              "    <tr style=\"text-align: right;\">\n",
              "      <th></th>\n",
              "      <th>id</th>\n",
              "      <th>price</th>\n",
              "      <th>year</th>\n",
              "      <th>odometer</th>\n",
              "      <th>county</th>\n",
              "      <th>lat</th>\n",
              "      <th>long</th>\n",
              "    </tr>\n",
              "  </thead>\n",
              "  <tbody>\n",
              "    <tr>\n",
              "      <th>count</th>\n",
              "      <td>383547.000</td>\n",
              "      <td>383547.000</td>\n",
              "      <td>382567.000</td>\n",
              "      <td>381340.000</td>\n",
              "      <td>0.000</td>\n",
              "      <td>380088.000</td>\n",
              "      <td>380088.000</td>\n",
              "    </tr>\n",
              "    <tr>\n",
              "      <th>mean</th>\n",
              "      <td>7311481043.670</td>\n",
              "      <td>17840.768</td>\n",
              "      <td>2010.946</td>\n",
              "      <td>99597.898</td>\n",
              "      <td>nan</td>\n",
              "      <td>38.533</td>\n",
              "      <td>-94.265</td>\n",
              "    </tr>\n",
              "    <tr>\n",
              "      <th>std</th>\n",
              "      <td>4474298.939</td>\n",
              "      <td>12728.024</td>\n",
              "      <td>9.487</td>\n",
              "      <td>200218.953</td>\n",
              "      <td>nan</td>\n",
              "      <td>5.831</td>\n",
              "      <td>18.136</td>\n",
              "    </tr>\n",
              "    <tr>\n",
              "      <th>min</th>\n",
              "      <td>7207408119.000</td>\n",
              "      <td>50.000</td>\n",
              "      <td>1900.000</td>\n",
              "      <td>0.000</td>\n",
              "      <td>nan</td>\n",
              "      <td>-84.122</td>\n",
              "      <td>-159.828</td>\n",
              "    </tr>\n",
              "    <tr>\n",
              "      <th>25%</th>\n",
              "      <td>7308134318.500</td>\n",
              "      <td>7000.000</td>\n",
              "      <td>2008.000</td>\n",
              "      <td>39600.750</td>\n",
              "      <td>nan</td>\n",
              "      <td>34.747</td>\n",
              "      <td>-110.960</td>\n",
              "    </tr>\n",
              "    <tr>\n",
              "      <th>50%</th>\n",
              "      <td>7312621731.000</td>\n",
              "      <td>14995.000</td>\n",
              "      <td>2013.000</td>\n",
              "      <td>89000.000</td>\n",
              "      <td>nan</td>\n",
              "      <td>39.264</td>\n",
              "      <td>-87.960</td>\n",
              "    </tr>\n",
              "    <tr>\n",
              "      <th>75%</th>\n",
              "      <td>7315249677.500</td>\n",
              "      <td>26988.000</td>\n",
              "      <td>2017.000</td>\n",
              "      <td>136617.000</td>\n",
              "      <td>nan</td>\n",
              "      <td>42.370</td>\n",
              "      <td>-80.760</td>\n",
              "    </tr>\n",
              "    <tr>\n",
              "      <th>max</th>\n",
              "      <td>7317101084.000</td>\n",
              "      <td>57341.000</td>\n",
              "      <td>2022.000</td>\n",
              "      <td>10000000.000</td>\n",
              "      <td>nan</td>\n",
              "      <td>82.391</td>\n",
              "      <td>167.630</td>\n",
              "    </tr>\n",
              "  </tbody>\n",
              "</table>\n",
              "</div>\n",
              "      <button class=\"colab-df-convert\" onclick=\"convertToInteractive('df-e489bf6f-a9d2-443b-96df-d2e211b6b1fc')\"\n",
              "              title=\"Convert this dataframe to an interactive table.\"\n",
              "              style=\"display:none;\">\n",
              "        \n",
              "  <svg xmlns=\"http://www.w3.org/2000/svg\" height=\"24px\"viewBox=\"0 0 24 24\"\n",
              "       width=\"24px\">\n",
              "    <path d=\"M0 0h24v24H0V0z\" fill=\"none\"/>\n",
              "    <path d=\"M18.56 5.44l.94 2.06.94-2.06 2.06-.94-2.06-.94-.94-2.06-.94 2.06-2.06.94zm-11 1L8.5 8.5l.94-2.06 2.06-.94-2.06-.94L8.5 2.5l-.94 2.06-2.06.94zm10 10l.94 2.06.94-2.06 2.06-.94-2.06-.94-.94-2.06-.94 2.06-2.06.94z\"/><path d=\"M17.41 7.96l-1.37-1.37c-.4-.4-.92-.59-1.43-.59-.52 0-1.04.2-1.43.59L10.3 9.45l-7.72 7.72c-.78.78-.78 2.05 0 2.83L4 21.41c.39.39.9.59 1.41.59.51 0 1.02-.2 1.41-.59l7.78-7.78 2.81-2.81c.8-.78.8-2.07 0-2.86zM5.41 20L4 18.59l7.72-7.72 1.47 1.35L5.41 20z\"/>\n",
              "  </svg>\n",
              "      </button>\n",
              "      \n",
              "  <style>\n",
              "    .colab-df-container {\n",
              "      display:flex;\n",
              "      flex-wrap:wrap;\n",
              "      gap: 12px;\n",
              "    }\n",
              "\n",
              "    .colab-df-convert {\n",
              "      background-color: #E8F0FE;\n",
              "      border: none;\n",
              "      border-radius: 50%;\n",
              "      cursor: pointer;\n",
              "      display: none;\n",
              "      fill: #1967D2;\n",
              "      height: 32px;\n",
              "      padding: 0 0 0 0;\n",
              "      width: 32px;\n",
              "    }\n",
              "\n",
              "    .colab-df-convert:hover {\n",
              "      background-color: #E2EBFA;\n",
              "      box-shadow: 0px 1px 2px rgba(60, 64, 67, 0.3), 0px 1px 3px 1px rgba(60, 64, 67, 0.15);\n",
              "      fill: #174EA6;\n",
              "    }\n",
              "\n",
              "    [theme=dark] .colab-df-convert {\n",
              "      background-color: #3B4455;\n",
              "      fill: #D2E3FC;\n",
              "    }\n",
              "\n",
              "    [theme=dark] .colab-df-convert:hover {\n",
              "      background-color: #434B5C;\n",
              "      box-shadow: 0px 1px 3px 1px rgba(0, 0, 0, 0.15);\n",
              "      filter: drop-shadow(0px 1px 2px rgba(0, 0, 0, 0.3));\n",
              "      fill: #FFFFFF;\n",
              "    }\n",
              "  </style>\n",
              "\n",
              "      <script>\n",
              "        const buttonEl =\n",
              "          document.querySelector('#df-e489bf6f-a9d2-443b-96df-d2e211b6b1fc button.colab-df-convert');\n",
              "        buttonEl.style.display =\n",
              "          google.colab.kernel.accessAllowed ? 'block' : 'none';\n",
              "\n",
              "        async function convertToInteractive(key) {\n",
              "          const element = document.querySelector('#df-e489bf6f-a9d2-443b-96df-d2e211b6b1fc');\n",
              "          const dataTable =\n",
              "            await google.colab.kernel.invokeFunction('convertToInteractive',\n",
              "                                                     [key], {});\n",
              "          if (!dataTable) return;\n",
              "\n",
              "          const docLinkHtml = 'Like what you see? Visit the ' +\n",
              "            '<a target=\"_blank\" href=https://colab.research.google.com/notebooks/data_table.ipynb>data table notebook</a>'\n",
              "            + ' to learn more about interactive tables.';\n",
              "          element.innerHTML = '';\n",
              "          dataTable['output_type'] = 'display_data';\n",
              "          await google.colab.output.renderOutput(dataTable, element);\n",
              "          const docLink = document.createElement('div');\n",
              "          docLink.innerHTML = docLinkHtml;\n",
              "          element.appendChild(docLink);\n",
              "        }\n",
              "      </script>\n",
              "    </div>\n",
              "  </div>\n",
              "  "
            ]
          },
          "metadata": {},
          "execution_count": 23
        }
      ]
    },
    {
      "cell_type": "code",
      "source": [
        "#Q1 = df.year.quantile(0.25)\n",
        "#Q3 = df.year.quantile(0.75)\n",
        "#Q1, Q3"
      ],
      "metadata": {
        "id": "CAloWRq10QVd"
      },
      "execution_count": 24,
      "outputs": []
    },
    {
      "cell_type": "code",
      "source": [
        "#IQR = Q3 - Q1\n",
        "#IQR"
      ],
      "metadata": {
        "id": "aLuw3V-_05eP"
      },
      "execution_count": 25,
      "outputs": []
    },
    {
      "cell_type": "code",
      "source": [
        "#lower_limit = Q1 - 1.5*IQR\n",
        "#upper_limit = Q3 + 1.5*IQR\n",
        "#lower_limit, upper_limit"
      ],
      "metadata": {
        "id": "Hio3EYxI1Jt6"
      },
      "execution_count": 26,
      "outputs": []
    },
    {
      "cell_type": "code",
      "source": [
        "df.shape"
      ],
      "metadata": {
        "colab": {
          "base_uri": "https://localhost:8080/"
        },
        "id": "SYVOAjaCUBcK",
        "outputId": "a06673a5-ec24-43ed-ccce-47470bb74d4d"
      },
      "execution_count": 27,
      "outputs": [
        {
          "output_type": "execute_result",
          "data": {
            "text/plain": [
              "(383547, 26)"
            ]
          },
          "metadata": {},
          "execution_count": 27
        }
      ]
    },
    {
      "cell_type": "code",
      "source": [
        "# Removing Outliers in year c\n",
        "\n",
        "df = df[(df['year'] >= 2000)]"
      ],
      "metadata": {
        "id": "yky5TGvw1SoB"
      },
      "execution_count": 28,
      "outputs": []
    },
    {
      "cell_type": "code",
      "source": [
        "print(\"Shape of dataset after Outliers removal in YEAR column : \",len(df))"
      ],
      "metadata": {
        "id": "BM4RdVav1aGZ",
        "colab": {
          "base_uri": "https://localhost:8080/"
        },
        "outputId": "94fa02b6-1552-4edd-db59-619326bc7b8b"
      },
      "execution_count": 29,
      "outputs": [
        {
          "output_type": "stream",
          "name": "stdout",
          "text": [
            "Shape of dataset after Outliers removal in YEAR column :  358554\n"
          ]
        }
      ]
    },
    {
      "cell_type": "markdown",
      "source": [
        "**Outlier removal for odometer column**"
      ],
      "metadata": {
        "id": "n7Xj1Hb6X3zc"
      }
    },
    {
      "cell_type": "code",
      "source": [
        "# checking the distribution of odometer column\n",
        "\n",
        "import seaborn as sns\n",
        "\n",
        "sns.distplot(df['odometer'].dropna())"
      ],
      "metadata": {
        "colab": {
          "base_uri": "https://localhost:8080/",
          "height": 365
        },
        "id": "5QVpaaOf8Rzx",
        "outputId": "e9169d09-1791-4c4d-a984-e2977c21010b"
      },
      "execution_count": 30,
      "outputs": [
        {
          "output_type": "stream",
          "name": "stderr",
          "text": [
            "/usr/local/lib/python3.7/dist-packages/seaborn/distributions.py:2619: FutureWarning: `distplot` is a deprecated function and will be removed in a future version. Please adapt your code to use either `displot` (a figure-level function with similar flexibility) or `histplot` (an axes-level function for histograms).\n",
            "  warnings.warn(msg, FutureWarning)\n"
          ]
        },
        {
          "output_type": "execute_result",
          "data": {
            "text/plain": [
              "<matplotlib.axes._subplots.AxesSubplot at 0x7f2e07520d10>"
            ]
          },
          "metadata": {},
          "execution_count": 30
        },
        {
          "output_type": "display_data",
          "data": {
            "text/plain": [
              "<Figure size 576x288 with 1 Axes>"
            ],
            "image/png": "[encoded data removed]"
          },
          "metadata": {
            "needs_background": "light"
          }
        }
      ]
    },
    {
      "cell_type": "code",
      "source": [
        "# creating boxplot for odometer column\n",
        "\n",
        "plt.hist(df.odometer, bins=20, rwidth=0.8)      \n",
        "plt.xlabel('odometer')\n",
        "plt.ylabel('Count')\n",
        "plt.show()"
      ],
      "metadata": {
        "colab": {
          "base_uri": "https://localhost:8080/",
          "height": 279
        },
        "id": "k_IGMFk98cfX",
        "outputId": "0042ad27-2662-4fdb-b815-cdc72bc3a490"
      },
      "execution_count": 31,
      "outputs": [
        {
          "output_type": "display_data",
          "data": {
            "text/plain": [
              "<Figure size 576x288 with 1 Axes>"
            ],
            "image/png": "[encoded data removed]"
          },
          "metadata": {
            "needs_background": "light"
          }
        }
      ]
    },
    {
      "cell_type": "code",
      "source": [
        "df.describe().applymap(lambda x: f\"{x:0.3f}\")"
      ],
      "metadata": {
        "colab": {
          "base_uri": "https://localhost:8080/",
          "height": 300
        },
        "id": "KpnEro87EBWV",
        "outputId": "5f8f430e-87ff-4191-ed6d-f30c8731a60c"
      },
      "execution_count": 32,
      "outputs": [
        {
          "output_type": "execute_result",
          "data": {
            "text/plain": [
              "                   id       price        year      odometer county  \\\n",
              "count      358554.000  358554.000  358554.000    356463.000  0.000   \n",
              "mean   7311453204.380   18266.231    2012.759     95547.162    nan   \n",
              "std       4389684.142   12714.930       5.037    131596.202    nan   \n",
              "min    7301583321.000      50.000    2000.000         0.000    nan   \n",
              "25%    7308055583.250    7680.000    2009.000     39169.500    nan   \n",
              "50%    7312518859.000   15750.000    2014.000     88000.000    nan   \n",
              "75%    7315220989.750   26999.000    2017.000    135000.000    nan   \n",
              "max    7317101084.000   57341.000    2022.000  10000000.000    nan   \n",
              "\n",
              "              lat        long  \n",
              "count  355225.000  355225.000  \n",
              "mean       38.530     -94.081  \n",
              "std         5.836      18.110  \n",
              "min       -84.122    -159.828  \n",
              "25%        34.749    -110.170  \n",
              "50%        39.289     -87.821  \n",
              "75%        42.393     -80.690  \n",
              "max        82.253     167.630  "
            ],
            "text/html": [
              "\n",
              "  <div id=\"df-442f588e-62da-4c8c-a75c-e1adf5ac2113\">\n",
              "    <div class=\"colab-df-container\">\n",
              "      <div>\n",
              "<style scoped>\n",
              "    .dataframe tbody tr th:only-of-type {\n",
              "        vertical-align: middle;\n",
              "    }\n",
              "\n",
              "    .dataframe tbody tr th {\n",
              "        vertical-align: top;\n",
              "    }\n",
              "\n",
              "    .dataframe thead th {\n",
              "        text-align: right;\n",
              "    }\n",
              "</style>\n",
              "<table border=\"1\" class=\"dataframe\">\n",
              "  <thead>\n",
              "    <tr style=\"text-align: right;\">\n",
              "      <th></th>\n",
              "      <th>id</th>\n",
              "      <th>price</th>\n",
              "      <th>year</th>\n",
              "      <th>odometer</th>\n",
              "      <th>county</th>\n",
              "      <th>lat</th>\n",
              "      <th>long</th>\n",
              "    </tr>\n",
              "  </thead>\n",
              "  <tbody>\n",
              "    <tr>\n",
              "      <th>count</th>\n",
              "      <td>358554.000</td>\n",
              "      <td>358554.000</td>\n",
              "      <td>358554.000</td>\n",
              "      <td>356463.000</td>\n",
              "      <td>0.000</td>\n",
              "      <td>355225.000</td>\n",
              "      <td>355225.000</td>\n",
              "    </tr>\n",
              "    <tr>\n",
              "      <th>mean</th>\n",
              "      <td>7311453204.380</td>\n",
              "      <td>18266.231</td>\n",
              "      <td>2012.759</td>\n",
              "      <td>95547.162</td>\n",
              "      <td>nan</td>\n",
              "      <td>38.530</td>\n",
              "      <td>-94.081</td>\n",
              "    </tr>\n",
              "    <tr>\n",
              "      <th>std</th>\n",
              "      <td>4389684.142</td>\n",
              "      <td>12714.930</td>\n",
              "      <td>5.037</td>\n",
              "      <td>131596.202</td>\n",
              "      <td>nan</td>\n",
              "      <td>5.836</td>\n",
              "      <td>18.110</td>\n",
              "    </tr>\n",
              "    <tr>\n",
              "      <th>min</th>\n",
              "      <td>7301583321.000</td>\n",
              "      <td>50.000</td>\n",
              "      <td>2000.000</td>\n",
              "      <td>0.000</td>\n",
              "      <td>nan</td>\n",
              "      <td>-84.122</td>\n",
              "      <td>-159.828</td>\n",
              "    </tr>\n",
              "    <tr>\n",
              "      <th>25%</th>\n",
              "      <td>7308055583.250</td>\n",
              "      <td>7680.000</td>\n",
              "      <td>2009.000</td>\n",
              "      <td>39169.500</td>\n",
              "      <td>nan</td>\n",
              "      <td>34.749</td>\n",
              "      <td>-110.170</td>\n",
              "    </tr>\n",
              "    <tr>\n",
              "      <th>50%</th>\n",
              "      <td>7312518859.000</td>\n",
              "      <td>15750.000</td>\n",
              "      <td>2014.000</td>\n",
              "      <td>88000.000</td>\n",
              "      <td>nan</td>\n",
              "      <td>39.289</td>\n",
              "      <td>-87.821</td>\n",
              "    </tr>\n",
              "    <tr>\n",
              "      <th>75%</th>\n",
              "      <td>7315220989.750</td>\n",
              "      <td>26999.000</td>\n",
              "      <td>2017.000</td>\n",
              "      <td>135000.000</td>\n",
              "      <td>nan</td>\n",
              "      <td>42.393</td>\n",
              "      <td>-80.690</td>\n",
              "    </tr>\n",
              "    <tr>\n",
              "      <th>max</th>\n",
              "      <td>7317101084.000</td>\n",
              "      <td>57341.000</td>\n",
              "      <td>2022.000</td>\n",
              "      <td>10000000.000</td>\n",
              "      <td>nan</td>\n",
              "      <td>82.253</td>\n",
              "      <td>167.630</td>\n",
              "    </tr>\n",
              "  </tbody>\n",
              "</table>\n",
              "</div>\n",
              "      <button class=\"colab-df-convert\" onclick=\"convertToInteractive('df-442f588e-62da-4c8c-a75c-e1adf5ac2113')\"\n",
              "              title=\"Convert this dataframe to an interactive table.\"\n",
              "              style=\"display:none;\">\n",
              "        \n",
              "  <svg xmlns=\"http://www.w3.org/2000/svg\" height=\"24px\"viewBox=\"0 0 24 24\"\n",
              "       width=\"24px\">\n",
              "    <path d=\"M0 0h24v24H0V0z\" fill=\"none\"/>\n",
              "    <path d=\"M18.56 5.44l.94 2.06.94-2.06 2.06-.94-2.06-.94-.94-2.06-.94 2.06-2.06.94zm-11 1L8.5 8.5l.94-2.06 2.06-.94-2.06-.94L8.5 2.5l-.94 2.06-2.06.94zm10 10l.94 2.06.94-2.06 2.06-.94-2.06-.94-.94-2.06-.94 2.06-2.06.94z\"/><path d=\"M17.41 7.96l-1.37-1.37c-.4-.4-.92-.59-1.43-.59-.52 0-1.04.2-1.43.59L10.3 9.45l-7.72 7.72c-.78.78-.78 2.05 0 2.83L4 21.41c.39.39.9.59 1.41.59.51 0 1.02-.2 1.41-.59l7.78-7.78 2.81-2.81c.8-.78.8-2.07 0-2.86zM5.41 20L4 18.59l7.72-7.72 1.47 1.35L5.41 20z\"/>\n",
              "  </svg>\n",
              "      </button>\n",
              "      \n",
              "  <style>\n",
              "    .colab-df-container {\n",
              "      display:flex;\n",
              "      flex-wrap:wrap;\n",
              "      gap: 12px;\n",
              "    }\n",
              "\n",
              "    .colab-df-convert {\n",
              "      background-color: #E8F0FE;\n",
              "      border: none;\n",
              "      border-radius: 50%;\n",
              "      cursor: pointer;\n",
              "      display: none;\n",
              "      fill: #1967D2;\n",
              "      height: 32px;\n",
              "      padding: 0 0 0 0;\n",
              "      width: 32px;\n",
              "    }\n",
              "\n",
              "    .colab-df-convert:hover {\n",
              "      background-color: #E2EBFA;\n",
              "      box-shadow: 0px 1px 2px rgba(60, 64, 67, 0.3), 0px 1px 3px 1px rgba(60, 64, 67, 0.15);\n",
              "      fill: #174EA6;\n",
              "    }\n",
              "\n",
              "    [theme=dark] .colab-df-convert {\n",
              "      background-color: #3B4455;\n",
              "      fill: #D2E3FC;\n",
              "    }\n",
              "\n",
              "    [theme=dark] .colab-df-convert:hover {\n",
              "      background-color: #434B5C;\n",
              "      box-shadow: 0px 1px 3px 1px rgba(0, 0, 0, 0.15);\n",
              "      filter: drop-shadow(0px 1px 2px rgba(0, 0, 0, 0.3));\n",
              "      fill: #FFFFFF;\n",
              "    }\n",
              "  </style>\n",
              "\n",
              "      <script>\n",
              "        const buttonEl =\n",
              "          document.querySelector('#df-442f588e-62da-4c8c-a75c-e1adf5ac2113 button.colab-df-convert');\n",
              "        buttonEl.style.display =\n",
              "          google.colab.kernel.accessAllowed ? 'block' : 'none';\n",
              "\n",
              "        async function convertToInteractive(key) {\n",
              "          const element = document.querySelector('#df-442f588e-62da-4c8c-a75c-e1adf5ac2113');\n",
              "          const dataTable =\n",
              "            await google.colab.kernel.invokeFunction('convertToInteractive',\n",
              "                                                     [key], {});\n",
              "          if (!dataTable) return;\n",
              "\n",
              "          const docLinkHtml = 'Like what you see? Visit the ' +\n",
              "            '<a target=\"_blank\" href=https://colab.research.google.com/notebooks/data_table.ipynb>data table notebook</a>'\n",
              "            + ' to learn more about interactive tables.';\n",
              "          element.innerHTML = '';\n",
              "          dataTable['output_type'] = 'display_data';\n",
              "          await google.colab.output.renderOutput(dataTable, element);\n",
              "          const docLink = document.createElement('div');\n",
              "          docLink.innerHTML = docLinkHtml;\n",
              "          element.appendChild(docLink);\n",
              "        }\n",
              "      </script>\n",
              "    </div>\n",
              "  </div>\n",
              "  "
            ]
          },
          "metadata": {},
          "execution_count": 32
        }
      ]
    },
    {
      "cell_type": "code",
      "source": [
        "figure=df.boxplot(column=\"odometer\")"
      ],
      "metadata": {
        "colab": {
          "base_uri": "https://localhost:8080/",
          "height": 276
        },
        "id": "-8EpjGuGX9op",
        "outputId": "ea97abae-4d37-406f-9fd8-c6477dec0a47"
      },
      "execution_count": 33,
      "outputs": [
        {
          "output_type": "display_data",
          "data": {
            "text/plain": [
              "<Figure size 576x288 with 1 Axes>"
            ],
            "image/png": "[encoded data removed]"
          },
          "metadata": {
            "needs_background": "light"
          }
        }
      ]
    },
    {
      "cell_type": "code",
      "source": [
        "sns.boxplot(df['odometer'])"
      ],
      "metadata": {
        "colab": {
          "base_uri": "https://localhost:8080/",
          "height": 353
        },
        "id": "vNgsP-eoYRWi",
        "outputId": "55aaa458-6222-41d1-c50a-68d87b686c7f"
      },
      "execution_count": 34,
      "outputs": [
        {
          "output_type": "stream",
          "name": "stderr",
          "text": [
            "/usr/local/lib/python3.7/dist-packages/seaborn/_decorators.py:43: FutureWarning: Pass the following variable as a keyword arg: x. From version 0.12, the only valid positional argument will be `data`, and passing other arguments without an explicit keyword will result in an error or misinterpretation.\n",
            "  FutureWarning\n"
          ]
        },
        {
          "output_type": "execute_result",
          "data": {
            "text/plain": [
              "<matplotlib.axes._subplots.AxesSubplot at 0x7f2e0fbc0cd0>"
            ]
          },
          "metadata": {},
          "execution_count": 34
        },
        {
          "output_type": "display_data",
          "data": {
            "text/plain": [
              "<Figure size 576x288 with 1 Axes>"
            ],
            "image/png": "[encoded data removed]"
          },
          "metadata": {
            "needs_background": "light"
          }
        }
      ]
    },
    {
      "cell_type": "code",
      "source": [
        "sns.distplot(df[(df.odometer >= 1000) & (df.odometer <= 200000)].odometer)"
      ],
      "metadata": {
        "colab": {
          "base_uri": "https://localhost:8080/",
          "height": 365
        },
        "id": "NAE1NyUJj0Gf",
        "outputId": "b7e45e22-c41c-4571-afe0-302d2fd57aaa"
      },
      "execution_count": 35,
      "outputs": [
        {
          "output_type": "stream",
          "name": "stderr",
          "text": [
            "/usr/local/lib/python3.7/dist-packages/seaborn/distributions.py:2619: FutureWarning: `distplot` is a deprecated function and will be removed in a future version. Please adapt your code to use either `displot` (a figure-level function with similar flexibility) or `histplot` (an axes-level function for histograms).\n",
            "  warnings.warn(msg, FutureWarning)\n"
          ]
        },
        {
          "output_type": "execute_result",
          "data": {
            "text/plain": [
              "<matplotlib.axes._subplots.AxesSubplot at 0x7f2e12244ed0>"
            ]
          },
          "metadata": {},
          "execution_count": 35
        },
        {
          "output_type": "display_data",
          "data": {
            "text/plain": [
              "<Figure size 576x288 with 1 Axes>"
            ],
            "image/png": "[encoded data removed]"
          },
          "metadata": {
            "needs_background": "light"
          }
        }
      ]
    },
    {
      "cell_type": "code",
      "source": [
        "df[df.odometer >= 250000].shape"
      ],
      "metadata": {
        "colab": {
          "base_uri": "https://localhost:8080/"
        },
        "id": "eB4S2WDlkYIb",
        "outputId": "20f14ec8-39fe-41f0-c6c2-b4b2dc3e39ba"
      },
      "execution_count": 36,
      "outputs": [
        {
          "output_type": "execute_result",
          "data": {
            "text/plain": [
              "(5171, 26)"
            ]
          },
          "metadata": {},
          "execution_count": 36
        }
      ]
    },
    {
      "cell_type": "markdown",
      "source": [
        "Odometer data is right skewed as per the above graphs. To tackle this data , IQR techinique is implemented"
      ],
      "metadata": {
        "id": "qm7e6hlWY4fC"
      }
    },
    {
      "cell_type": "code",
      "source": [
        "lower_lim_odometer = df['odometer'].quantile(0.25)-(IQR*1.5)\n",
        "upper_lim_odometer = df['odometer'].quantile(0.75)+(IQR*1.5)\n",
        "print(lower_lim_odometer), print(upper_lim_odometer)"
      ],
      "metadata": {
        "id": "ZaMtsSkzYYDp",
        "colab": {
          "base_uri": "https://localhost:8080/"
        },
        "outputId": "c057fc1a-50ec-472c-b8ad-695687b3c8da"
      },
      "execution_count": 37,
      "outputs": [
        {
          "output_type": "stream",
          "name": "stdout",
          "text": [
            "39156.0\n",
            "135013.5\n"
          ]
        },
        {
          "output_type": "execute_result",
          "data": {
            "text/plain": [
              "(None, None)"
            ]
          },
          "metadata": {},
          "execution_count": 37
        }
      ]
    },
    {
      "cell_type": "code",
      "source": [
        "lower_lim_odometer = df['odometer'].quantile(0.25)-(IQR*3)\n",
        "upper_lim_odometer = df['odometer'].quantile(0.75)+(IQR*3)\n",
        "print(lower_lim_odometer), print(upper_lim_odometer)"
      ],
      "metadata": {
        "colab": {
          "base_uri": "https://localhost:8080/"
        },
        "id": "ote1F3UtlQku",
        "outputId": "8f6d7e99-12d6-4499-d8c8-7ba23c330c3d"
      },
      "execution_count": 38,
      "outputs": [
        {
          "output_type": "stream",
          "name": "stdout",
          "text": [
            "39142.5\n",
            "135027.0\n"
          ]
        },
        {
          "output_type": "execute_result",
          "data": {
            "text/plain": [
              "(None, None)"
            ]
          },
          "metadata": {},
          "execution_count": 38
        }
      ]
    },
    {
      "cell_type": "code",
      "source": [
        "# Removing Outliers in odometer\n",
        "\n",
        "df = df[(df.odometer >= 100) & (df.odometer <= 200000)]"
      ],
      "metadata": {
        "id": "d0mVmpjgZWlB"
      },
      "execution_count": 39,
      "outputs": []
    },
    {
      "cell_type": "code",
      "source": [
        "df.shape"
      ],
      "metadata": {
        "colab": {
          "base_uri": "https://localhost:8080/"
        },
        "id": "ki9ILMG5mbk0",
        "outputId": "72e0bd1e-6bd4-4312-ff8f-b995888beeb6"
      },
      "execution_count": 40,
      "outputs": [
        {
          "output_type": "execute_result",
          "data": {
            "text/plain": [
              "(334219, 26)"
            ]
          },
          "metadata": {},
          "execution_count": 40
        }
      ]
    },
    {
      "cell_type": "code",
      "source": [
        "# Removing Outliers in year c\n",
        "\n",
        "#df = df[(df['odometer'] >= lower_lim_odometer) & (df['odometer'] <= upper_lim_odometer)]"
      ],
      "metadata": {
        "id": "Si6kwb2dZaqn"
      },
      "execution_count": 41,
      "outputs": []
    },
    {
      "cell_type": "code",
      "source": [
        "df.odometer.max()"
      ],
      "metadata": {
        "colab": {
          "base_uri": "https://localhost:8080/"
        },
        "id": "RIu2Pty6baQQ",
        "outputId": "89518237-0b91-41a9-a279-d3b27832a442"
      },
      "execution_count": 42,
      "outputs": [
        {
          "output_type": "execute_result",
          "data": {
            "text/plain": [
              "200000.0"
            ]
          },
          "metadata": {},
          "execution_count": 42
        }
      ]
    },
    {
      "cell_type": "code",
      "source": [
        "print(\"Shape of dataset after Outliers removal in odometer column : \",len(df))"
      ],
      "metadata": {
        "colab": {
          "base_uri": "https://localhost:8080/"
        },
        "id": "LtHXDgnVZhtd",
        "outputId": "515a7079-d521-462b-c6e4-935a0e0bc619"
      },
      "execution_count": 43,
      "outputs": [
        {
          "output_type": "stream",
          "name": "stdout",
          "text": [
            "Shape of dataset after Outliers removal in odometer column :  334219\n"
          ]
        }
      ]
    },
    {
      "cell_type": "code",
      "source": [
        "df.describe().applymap(lambda x: f\"{x:0.3f}\")"
      ],
      "metadata": {
        "colab": {
          "base_uri": "https://localhost:8080/",
          "height": 300
        },
        "id": "L_LSSz9UZvHB",
        "outputId": "f8dde422-9e89-4d49-c4e2-100f11453e59"
      },
      "execution_count": 44,
      "outputs": [
        {
          "output_type": "execute_result",
          "data": {
            "text/plain": [
              "                   id       price        year    odometer county         lat  \\\n",
              "count      334219.000  334219.000  334219.000  334219.000  0.000  331075.000   \n",
              "mean   7311434557.519   18803.837    2013.072   85907.086    nan      38.541   \n",
              "std       4392215.807   12665.831       4.856   53085.959    nan       5.850   \n",
              "min    7301583321.000      50.000    2000.000     100.000    nan     -81.838   \n",
              "25%    7308035997.000    7999.000    2010.000   38177.000    nan      34.758   \n",
              "50%    7312456222.000   16250.000    2014.000   83988.000    nan      39.300   \n",
              "75%    7315204785.500   27990.000    2017.000  127635.000    nan      42.410   \n",
              "max    7317101084.000   57341.000    2022.000  200000.000    nan      80.680   \n",
              "\n",
              "             long  \n",
              "count  331075.000  \n",
              "mean      -94.018  \n",
              "std        18.175  \n",
              "min      -159.828  \n",
              "25%      -108.652  \n",
              "50%       -87.733  \n",
              "75%       -80.607  \n",
              "max       167.630  "
            ],
            "text/html": [
              "\n",
              "  <div id=\"df-a3f03595-6167-4172-b180-d724265a7ba5\">\n",
              "    <div class=\"colab-df-container\">\n",
              "      <div>\n",
              "<style scoped>\n",
              "    .dataframe tbody tr th:only-of-type {\n",
              "        vertical-align: middle;\n",
              "    }\n",
              "\n",
              "    .dataframe tbody tr th {\n",
              "        vertical-align: top;\n",
              "    }\n",
              "\n",
              "    .dataframe thead th {\n",
              "        text-align: right;\n",
              "    }\n",
              "</style>\n",
              "<table border=\"1\" class=\"dataframe\">\n",
              "  <thead>\n",
              "    <tr style=\"text-align: right;\">\n",
              "      <th></th>\n",
              "      <th>id</th>\n",
              "      <th>price</th>\n",
              "      <th>year</th>\n",
              "      <th>odometer</th>\n",
              "      <th>county</th>\n",
              "      <th>lat</th>\n",
              "      <th>long</th>\n",
              "    </tr>\n",
              "  </thead>\n",
              "  <tbody>\n",
              "    <tr>\n",
              "      <th>count</th>\n",
              "      <td>334219.000</td>\n",
              "      <td>334219.000</td>\n",
              "      <td>334219.000</td>\n",
              "      <td>334219.000</td>\n",
              "      <td>0.000</td>\n",
              "      <td>331075.000</td>\n",
              "      <td>331075.000</td>\n",
              "    </tr>\n",
              "    <tr>\n",
              "      <th>mean</th>\n",
              "      <td>7311434557.519</td>\n",
              "      <td>18803.837</td>\n",
              "      <td>2013.072</td>\n",
              "      <td>85907.086</td>\n",
              "      <td>nan</td>\n",
              "      <td>38.541</td>\n",
              "      <td>-94.018</td>\n",
              "    </tr>\n",
              "    <tr>\n",
              "      <th>std</th>\n",
              "      <td>4392215.807</td>\n",
              "      <td>12665.831</td>\n",
              "      <td>4.856</td>\n",
              "      <td>53085.959</td>\n",
              "      <td>nan</td>\n",
              "      <td>5.850</td>\n",
              "      <td>18.175</td>\n",
              "    </tr>\n",
              "    <tr>\n",
              "      <th>min</th>\n",
              "      <td>7301583321.000</td>\n",
              "      <td>50.000</td>\n",
              "      <td>2000.000</td>\n",
              "      <td>100.000</td>\n",
              "      <td>nan</td>\n",
              "      <td>-81.838</td>\n",
              "      <td>-159.828</td>\n",
              "    </tr>\n",
              "    <tr>\n",
              "      <th>25%</th>\n",
              "      <td>7308035997.000</td>\n",
              "      <td>7999.000</td>\n",
              "      <td>2010.000</td>\n",
              "      <td>38177.000</td>\n",
              "      <td>nan</td>\n",
              "      <td>34.758</td>\n",
              "      <td>-108.652</td>\n",
              "    </tr>\n",
              "    <tr>\n",
              "      <th>50%</th>\n",
              "      <td>7312456222.000</td>\n",
              "      <td>16250.000</td>\n",
              "      <td>2014.000</td>\n",
              "      <td>83988.000</td>\n",
              "      <td>nan</td>\n",
              "      <td>39.300</td>\n",
              "      <td>-87.733</td>\n",
              "    </tr>\n",
              "    <tr>\n",
              "      <th>75%</th>\n",
              "      <td>7315204785.500</td>\n",
              "      <td>27990.000</td>\n",
              "      <td>2017.000</td>\n",
              "      <td>127635.000</td>\n",
              "      <td>nan</td>\n",
              "      <td>42.410</td>\n",
              "      <td>-80.607</td>\n",
              "    </tr>\n",
              "    <tr>\n",
              "      <th>max</th>\n",
              "      <td>7317101084.000</td>\n",
              "      <td>57341.000</td>\n",
              "      <td>2022.000</td>\n",
              "      <td>200000.000</td>\n",
              "      <td>nan</td>\n",
              "      <td>80.680</td>\n",
              "      <td>167.630</td>\n",
              "    </tr>\n",
              "  </tbody>\n",
              "</table>\n",
              "</div>\n",
              "      <button class=\"colab-df-convert\" onclick=\"convertToInteractive('df-a3f03595-6167-4172-b180-d724265a7ba5')\"\n",
              "              title=\"Convert this dataframe to an interactive table.\"\n",
              "              style=\"display:none;\">\n",
              "        \n",
              "  <svg xmlns=\"http://www.w3.org/2000/svg\" height=\"24px\"viewBox=\"0 0 24 24\"\n",
              "       width=\"24px\">\n",
              "    <path d=\"M0 0h24v24H0V0z\" fill=\"none\"/>\n",
              "    <path d=\"M18.56 5.44l.94 2.06.94-2.06 2.06-.94-2.06-.94-.94-2.06-.94 2.06-2.06.94zm-11 1L8.5 8.5l.94-2.06 2.06-.94-2.06-.94L8.5 2.5l-.94 2.06-2.06.94zm10 10l.94 2.06.94-2.06 2.06-.94-2.06-.94-.94-2.06-.94 2.06-2.06.94z\"/><path d=\"M17.41 7.96l-1.37-1.37c-.4-.4-.92-.59-1.43-.59-.52 0-1.04.2-1.43.59L10.3 9.45l-7.72 7.72c-.78.78-.78 2.05 0 2.83L4 21.41c.39.39.9.59 1.41.59.51 0 1.02-.2 1.41-.59l7.78-7.78 2.81-2.81c.8-.78.8-2.07 0-2.86zM5.41 20L4 18.59l7.72-7.72 1.47 1.35L5.41 20z\"/>\n",
              "  </svg>\n",
              "      </button>\n",
              "      \n",
              "  <style>\n",
              "    .colab-df-container {\n",
              "      display:flex;\n",
              "      flex-wrap:wrap;\n",
              "      gap: 12px;\n",
              "    }\n",
              "\n",
              "    .colab-df-convert {\n",
              "      background-color: #E8F0FE;\n",
              "      border: none;\n",
              "      border-radius: 50%;\n",
              "      cursor: pointer;\n",
              "      display: none;\n",
              "      fill: #1967D2;\n",
              "      height: 32px;\n",
              "      padding: 0 0 0 0;\n",
              "      width: 32px;\n",
              "    }\n",
              "\n",
              "    .colab-df-convert:hover {\n",
              "      background-color: #E2EBFA;\n",
              "      box-shadow: 0px 1px 2px rgba(60, 64, 67, 0.3), 0px 1px 3px 1px rgba(60, 64, 67, 0.15);\n",
              "      fill: #174EA6;\n",
              "    }\n",
              "\n",
              "    [theme=dark] .colab-df-convert {\n",
              "      background-color: #3B4455;\n",
              "      fill: #D2E3FC;\n",
              "    }\n",
              "\n",
              "    [theme=dark] .colab-df-convert:hover {\n",
              "      background-color: #434B5C;\n",
              "      box-shadow: 0px 1px 3px 1px rgba(0, 0, 0, 0.15);\n",
              "      filter: drop-shadow(0px 1px 2px rgba(0, 0, 0, 0.3));\n",
              "      fill: #FFFFFF;\n",
              "    }\n",
              "  </style>\n",
              "\n",
              "      <script>\n",
              "        const buttonEl =\n",
              "          document.querySelector('#df-a3f03595-6167-4172-b180-d724265a7ba5 button.colab-df-convert');\n",
              "        buttonEl.style.display =\n",
              "          google.colab.kernel.accessAllowed ? 'block' : 'none';\n",
              "\n",
              "        async function convertToInteractive(key) {\n",
              "          const element = document.querySelector('#df-a3f03595-6167-4172-b180-d724265a7ba5');\n",
              "          const dataTable =\n",
              "            await google.colab.kernel.invokeFunction('convertToInteractive',\n",
              "                                                     [key], {});\n",
              "          if (!dataTable) return;\n",
              "\n",
              "          const docLinkHtml = 'Like what you see? Visit the ' +\n",
              "            '<a target=\"_blank\" href=https://colab.research.google.com/notebooks/data_table.ipynb>data table notebook</a>'\n",
              "            + ' to learn more about interactive tables.';\n",
              "          element.innerHTML = '';\n",
              "          dataTable['output_type'] = 'display_data';\n",
              "          await google.colab.output.renderOutput(dataTable, element);\n",
              "          const docLink = document.createElement('div');\n",
              "          docLink.innerHTML = docLinkHtml;\n",
              "          element.appendChild(docLink);\n",
              "        }\n",
              "      </script>\n",
              "    </div>\n",
              "  </div>\n",
              "  "
            ]
          },
          "metadata": {},
          "execution_count": 44
        }
      ]
    },
    {
      "cell_type": "code",
      "source": [
        "df.info()"
      ],
      "metadata": {
        "colab": {
          "base_uri": "https://localhost:8080/"
        },
        "id": "bZNaXRwVZxbm",
        "outputId": "bcd482e6-e61e-4279-8a42-38cea1b7b5af"
      },
      "execution_count": 45,
      "outputs": [
        {
          "output_type": "stream",
          "name": "stdout",
          "text": [
            "<class 'pandas.core.frame.DataFrame'>\n",
            "Int64Index: 334219 entries, 27 to 426879\n",
            "Data columns (total 26 columns):\n",
            " #   Column        Non-Null Count   Dtype  \n",
            "---  ------        --------------   -----  \n",
            " 0   id            334219 non-null  int64  \n",
            " 1   url           334219 non-null  object \n",
            " 2   region        334219 non-null  object \n",
            " 3   region_url    334219 non-null  object \n",
            " 4   price         334219 non-null  int64  \n",
            " 5   year          334219 non-null  float64\n",
            " 6   manufacturer  325093 non-null  object \n",
            " 7   model         331800 non-null  object \n",
            " 8   condition     205685 non-null  object \n",
            " 9   cylinders     195085 non-null  object \n",
            " 10  fuel          332271 non-null  object \n",
            " 11  odometer      334219 non-null  float64\n",
            " 12  title_status  327933 non-null  object \n",
            " 13  transmission  332932 non-null  object \n",
            " 14  VIN           219373 non-null  object \n",
            " 15  drive         232675 non-null  object \n",
            " 16  size          89782 non-null   object \n",
            " 17  type          267963 non-null  object \n",
            " 18  paint_color   237953 non-null  object \n",
            " 19  image_url     334219 non-null  object \n",
            " 20  description   334217 non-null  object \n",
            " 21  county        0 non-null       float64\n",
            " 22  state         334219 non-null  object \n",
            " 23  lat           331075 non-null  float64\n",
            " 24  long          331075 non-null  float64\n",
            " 25  posting_date  334219 non-null  object \n",
            "dtypes: float64(5), int64(2), object(19)\n",
            "memory usage: 68.8+ MB\n"
          ]
        }
      ]
    },
    {
      "cell_type": "markdown",
      "source": [
        "**Exploratory Data Analysis (EDA)**\n",
        "\n",
        "In Data Analysis What All Things We Do\n",
        "1. Missing Values\n",
        "2. Explore About the Numerical Variables\n",
        "3. Explore About categorical Variables\n",
        "4. Finding Relationship between features"
      ],
      "metadata": {
        "id": "fKSHyX9mjKlL"
      }
    },
    {
      "cell_type": "code",
      "source": [
        "df.shape"
      ],
      "metadata": {
        "colab": {
          "base_uri": "https://localhost:8080/"
        },
        "id": "Bt3R_N45aIXo",
        "outputId": "9affe02b-2da2-4850-96dc-fb9397c3535a"
      },
      "execution_count": 46,
      "outputs": [
        {
          "output_type": "execute_result",
          "data": {
            "text/plain": [
              "(334219, 26)"
            ]
          },
          "metadata": {},
          "execution_count": 46
        }
      ]
    },
    {
      "cell_type": "code",
      "source": [
        "# features with null values\n",
        "\n",
        "[features for features in df.columns if df[features].isnull().sum()>0]"
      ],
      "metadata": {
        "colab": {
          "base_uri": "https://localhost:8080/"
        },
        "id": "92rv_tZ3jbVF",
        "outputId": "552ac63c-cdd8-46a7-9ce6-6690d215faa9"
      },
      "execution_count": 47,
      "outputs": [
        {
          "output_type": "execute_result",
          "data": {
            "text/plain": [
              "['manufacturer',\n",
              " 'model',\n",
              " 'condition',\n",
              " 'cylinders',\n",
              " 'fuel',\n",
              " 'title_status',\n",
              " 'transmission',\n",
              " 'VIN',\n",
              " 'drive',\n",
              " 'size',\n",
              " 'type',\n",
              " 'paint_color',\n",
              " 'description',\n",
              " 'county',\n",
              " 'lat',\n",
              " 'long']"
            ]
          },
          "metadata": {},
          "execution_count": 47
        }
      ]
    },
    {
      "cell_type": "code",
      "source": [
        "# creating a graph to check null values\n",
        "\n",
        "plt.figure(figsize=(12,8))\n",
        "sns.heatmap(df.isnull(),yticklabels=False,cbar=False,cmap='viridis')"
      ],
      "metadata": {
        "colab": {
          "base_uri": "https://localhost:8080/",
          "height": 559
        },
        "id": "B5E_B8CPjd5A",
        "outputId": "e3aefcdd-89d0-4f76-92f1-6ae9be821e03"
      },
      "execution_count": 48,
      "outputs": [
        {
          "output_type": "execute_result",
          "data": {
            "text/plain": [
              "<matplotlib.axes._subplots.AxesSubplot at 0x7f2e0eefc290>"
            ]
          },
          "metadata": {},
          "execution_count": 48
        },
        {
          "output_type": "display_data",
          "data": {
            "text/plain": [
              "<Figure size 864x576 with 1 Axes>"
            ],
            "image/png": "[encoded data removed]"
          },
          "metadata": {
            "needs_background": "light"
          }
        }
      ]
    },
    {
      "cell_type": "markdown",
      "source": [
        "Country column contains all null values , Drop the column\n",
        "\n"
      ],
      "metadata": {
        "id": "5NqrbBWJkTKM"
      }
    },
    {
      "cell_type": "code",
      "source": [
        "df['county'].isnull().sum()"
      ],
      "metadata": {
        "colab": {
          "base_uri": "https://localhost:8080/"
        },
        "id": "_52qVflxj1k6",
        "outputId": "bf6a1c85-8857-4559-90fa-26d386e80bc9"
      },
      "execution_count": 49,
      "outputs": [
        {
          "output_type": "execute_result",
          "data": {
            "text/plain": [
              "334219"
            ]
          },
          "metadata": {},
          "execution_count": 49
        }
      ]
    },
    {
      "cell_type": "code",
      "source": [
        "df.drop('county',axis =1 , inplace = True)"
      ],
      "metadata": {
        "id": "KTJVwz9rkas_"
      },
      "execution_count": 50,
      "outputs": []
    },
    {
      "cell_type": "code",
      "source": [
        "# Removing the missing percentages greater than zero.\n",
        "missing_percentages =df.isna().sum().sort_values(ascending=False)/len(df) \n",
        "missing_percentages[missing_percentages!=0]"
      ],
      "metadata": {
        "colab": {
          "base_uri": "https://localhost:8080/"
        },
        "id": "6IWkJRdxmkVz",
        "outputId": "b6ec6d7f-bdbf-4288-87d0-314da97a817d"
      },
      "execution_count": 51,
      "outputs": [
        {
          "output_type": "execute_result",
          "data": {
            "text/plain": [
              "size            0.731368\n",
              "cylinders       0.416296\n",
              "condition       0.384580\n",
              "VIN             0.343625\n",
              "drive           0.303825\n",
              "paint_color     0.288033\n",
              "type            0.198241\n",
              "manufacturer    0.027305\n",
              "title_status    0.018808\n",
              "lat             0.009407\n",
              "long            0.009407\n",
              "model           0.007238\n",
              "fuel            0.005829\n",
              "transmission    0.003851\n",
              "description     0.000006\n",
              "dtype: float64"
            ]
          },
          "metadata": {},
          "execution_count": 51
        }
      ]
    },
    {
      "cell_type": "code",
      "source": [
        "# Plot a graph to check missing percentages \n",
        "plt.figure(figsize=(10,6))\n",
        "missing_percentages[missing_percentages!=0].plot(kind='barh')\n",
        "plt.title(\"Graph for NULL data in percentage \")\n",
        "plt.xlabel(\"% of missing values\")\n",
        "plt.ylabel(\"Features\")"
      ],
      "metadata": {
        "colab": {
          "base_uri": "https://localhost:8080/",
          "height": 422
        },
        "id": "hXFVAgMmm3vD",
        "outputId": "ca227d0b-a3c9-431b-81c6-8e588e8fa295"
      },
      "execution_count": 52,
      "outputs": [
        {
          "output_type": "execute_result",
          "data": {
            "text/plain": [
              "Text(0, 0.5, 'Features')"
            ]
          },
          "metadata": {},
          "execution_count": 52
        },
        {
          "output_type": "display_data",
          "data": {
            "text/plain": [
              "<Figure size 720x432 with 1 Axes>"
            ],
            "image/png": "[encoded data removed]"
          },
          "metadata": {
            "needs_background": "light"
          }
        }
      ]
    },
    {
      "cell_type": "markdown",
      "source": [
        "**TRANSMISSION**"
      ],
      "metadata": {
        "id": "hMtASvqs9cxx"
      }
    },
    {
      "cell_type": "code",
      "source": [
        "# transmission column\n",
        "\n",
        "df['transmission'].isnull().sum()"
      ],
      "metadata": {
        "colab": {
          "base_uri": "https://localhost:8080/"
        },
        "id": "mpqeqd6lm4Vd",
        "outputId": "7fd53484-9872-460d-a884-6852930d7926"
      },
      "execution_count": 53,
      "outputs": [
        {
          "output_type": "execute_result",
          "data": {
            "text/plain": [
              "1287"
            ]
          },
          "metadata": {},
          "execution_count": 53
        }
      ]
    },
    {
      "cell_type": "code",
      "source": [
        "df['transmission'].value_counts()"
      ],
      "metadata": {
        "colab": {
          "base_uri": "https://localhost:8080/"
        },
        "id": "wODKQzmInHmM",
        "outputId": "59887a30-0193-410d-c38d-033fc3e9a48e"
      },
      "execution_count": 54,
      "outputs": [
        {
          "output_type": "execute_result",
          "data": {
            "text/plain": [
              "automatic    259139\n",
              "other         59664\n",
              "manual        14129\n",
              "Name: transmission, dtype: int64"
            ]
          },
          "metadata": {},
          "execution_count": 54
        }
      ]
    },
    {
      "cell_type": "code",
      "source": [
        "df_group_one = df[['transmission','fuel','price']]\n",
        "df_group_one = df_group_one.groupby(['transmission','fuel'],as_index=False).mean()\n",
        "df_group_one"
      ],
      "metadata": {
        "colab": {
          "base_uri": "https://localhost:8080/",
          "height": 520
        },
        "id": "IizQWukznIoH",
        "outputId": "ca9c831a-5074-4041-b0e2-25de118a9bea"
      },
      "execution_count": 55,
      "outputs": [
        {
          "output_type": "execute_result",
          "data": {
            "text/plain": [
              "   transmission      fuel         price\n",
              "0     automatic    diesel  32229.860235\n",
              "1     automatic  electric  20851.991254\n",
              "2     automatic       gas  15657.208869\n",
              "3     automatic    hybrid  14016.606173\n",
              "4     automatic     other  22188.696793\n",
              "5        manual    diesel  24657.192362\n",
              "6        manual  electric   5256.800000\n",
              "7        manual       gas  13621.866436\n",
              "8        manual    hybrid  17402.909091\n",
              "9        manual     other  26758.805310\n",
              "10        other    diesel  27397.291026\n",
              "11        other  electric  27455.895408\n",
              "12        other       gas  28210.039753\n",
              "13        other    hybrid  21844.455232\n",
              "14        other     other  28983.874971"
            ],
            "text/html": [
              "\n",
              "  <div id=\"df-4206ddc0-9528-43dd-acca-cf3a53f8e932\">\n",
              "    <div class=\"colab-df-container\">\n",
              "      <div>\n",
              "<style scoped>\n",
              "    .dataframe tbody tr th:only-of-type {\n",
              "        vertical-align: middle;\n",
              "    }\n",
              "\n",
              "    .dataframe tbody tr th {\n",
              "        vertical-align: top;\n",
              "    }\n",
              "\n",
              "    .dataframe thead th {\n",
              "        text-align: right;\n",
              "    }\n",
              "</style>\n",
              "<table border=\"1\" class=\"dataframe\">\n",
              "  <thead>\n",
              "    <tr style=\"text-align: right;\">\n",
              "      <th></th>\n",
              "      <th>transmission</th>\n",
              "      <th>fuel</th>\n",
              "      <th>price</th>\n",
              "    </tr>\n",
              "  </thead>\n",
              "  <tbody>\n",
              "    <tr>\n",
              "      <th>0</th>\n",
              "      <td>automatic</td>\n",
              "      <td>diesel</td>\n",
              "      <td>32229.860235</td>\n",
              "    </tr>\n",
              "    <tr>\n",
              "      <th>1</th>\n",
              "      <td>automatic</td>\n",
              "      <td>electric</td>\n",
              "      <td>20851.991254</td>\n",
              "    </tr>\n",
              "    <tr>\n",
              "      <th>2</th>\n",
              "      <td>automatic</td>\n",
              "      <td>gas</td>\n",
              "      <td>15657.208869</td>\n",
              "    </tr>\n",
              "    <tr>\n",
              "      <th>3</th>\n",
              "      <td>automatic</td>\n",
              "      <td>hybrid</td>\n",
              "      <td>14016.606173</td>\n",
              "    </tr>\n",
              "    <tr>\n",
              "      <th>4</th>\n",
              "      <td>automatic</td>\n",
              "      <td>other</td>\n",
              "      <td>22188.696793</td>\n",
              "    </tr>\n",
              "    <tr>\n",
              "      <th>5</th>\n",
              "      <td>manual</td>\n",
              "      <td>diesel</td>\n",
              "      <td>24657.192362</td>\n",
              "    </tr>\n",
              "    <tr>\n",
              "      <th>6</th>\n",
              "      <td>manual</td>\n",
              "      <td>electric</td>\n",
              "      <td>5256.800000</td>\n",
              "    </tr>\n",
              "    <tr>\n",
              "      <th>7</th>\n",
              "      <td>manual</td>\n",
              "      <td>gas</td>\n",
              "      <td>13621.866436</td>\n",
              "    </tr>\n",
              "    <tr>\n",
              "      <th>8</th>\n",
              "      <td>manual</td>\n",
              "      <td>hybrid</td>\n",
              "      <td>17402.909091</td>\n",
              "    </tr>\n",
              "    <tr>\n",
              "      <th>9</th>\n",
              "      <td>manual</td>\n",
              "      <td>other</td>\n",
              "      <td>26758.805310</td>\n",
              "    </tr>\n",
              "    <tr>\n",
              "      <th>10</th>\n",
              "      <td>other</td>\n",
              "      <td>diesel</td>\n",
              "      <td>27397.291026</td>\n",
              "    </tr>\n",
              "    <tr>\n",
              "      <th>11</th>\n",
              "      <td>other</td>\n",
              "      <td>electric</td>\n",
              "      <td>27455.895408</td>\n",
              "    </tr>\n",
              "    <tr>\n",
              "      <th>12</th>\n",
              "      <td>other</td>\n",
              "      <td>gas</td>\n",
              "      <td>28210.039753</td>\n",
              "    </tr>\n",
              "    <tr>\n",
              "      <th>13</th>\n",
              "      <td>other</td>\n",
              "      <td>hybrid</td>\n",
              "      <td>21844.455232</td>\n",
              "    </tr>\n",
              "    <tr>\n",
              "      <th>14</th>\n",
              "      <td>other</td>\n",
              "      <td>other</td>\n",
              "      <td>28983.874971</td>\n",
              "    </tr>\n",
              "  </tbody>\n",
              "</table>\n",
              "</div>\n",
              "      <button class=\"colab-df-convert\" onclick=\"convertToInteractive('df-4206ddc0-9528-43dd-acca-cf3a53f8e932')\"\n",
              "              title=\"Convert this dataframe to an interactive table.\"\n",
              "              style=\"display:none;\">\n",
              "        \n",
              "  <svg xmlns=\"http://www.w3.org/2000/svg\" height=\"24px\"viewBox=\"0 0 24 24\"\n",
              "       width=\"24px\">\n",
              "    <path d=\"M0 0h24v24H0V0z\" fill=\"none\"/>\n",
              "    <path d=\"M18.56 5.44l.94 2.06.94-2.06 2.06-.94-2.06-.94-.94-2.06-.94 2.06-2.06.94zm-11 1L8.5 8.5l.94-2.06 2.06-.94-2.06-.94L8.5 2.5l-.94 2.06-2.06.94zm10 10l.94 2.06.94-2.06 2.06-.94-2.06-.94-.94-2.06-.94 2.06-2.06.94z\"/><path d=\"M17.41 7.96l-1.37-1.37c-.4-.4-.92-.59-1.43-.59-.52 0-1.04.2-1.43.59L10.3 9.45l-7.72 7.72c-.78.78-.78 2.05 0 2.83L4 21.41c.39.39.9.59 1.41.59.51 0 1.02-.2 1.41-.59l7.78-7.78 2.81-2.81c.8-.78.8-2.07 0-2.86zM5.41 20L4 18.59l7.72-7.72 1.47 1.35L5.41 20z\"/>\n",
              "  </svg>\n",
              "      </button>\n",
              "      \n",
              "  <style>\n",
              "    .colab-df-container {\n",
              "      display:flex;\n",
              "      flex-wrap:wrap;\n",
              "      gap: 12px;\n",
              "    }\n",
              "\n",
              "    .colab-df-convert {\n",
              "      background-color: #E8F0FE;\n",
              "      border: none;\n",
              "      border-radius: 50%;\n",
              "      cursor: pointer;\n",
              "      display: none;\n",
              "      fill: #1967D2;\n",
              "      height: 32px;\n",
              "      padding: 0 0 0 0;\n",
              "      width: 32px;\n",
              "    }\n",
              "\n",
              "    .colab-df-convert:hover {\n",
              "      background-color: #E2EBFA;\n",
              "      box-shadow: 0px 1px 2px rgba(60, 64, 67, 0.3), 0px 1px 3px 1px rgba(60, 64, 67, 0.15);\n",
              "      fill: #174EA6;\n",
              "    }\n",
              "\n",
              "    [theme=dark] .colab-df-convert {\n",
              "      background-color: #3B4455;\n",
              "      fill: #D2E3FC;\n",
              "    }\n",
              "\n",
              "    [theme=dark] .colab-df-convert:hover {\n",
              "      background-color: #434B5C;\n",
              "      box-shadow: 0px 1px 3px 1px rgba(0, 0, 0, 0.15);\n",
              "      filter: drop-shadow(0px 1px 2px rgba(0, 0, 0, 0.3));\n",
              "      fill: #FFFFFF;\n",
              "    }\n",
              "  </style>\n",
              "\n",
              "      <script>\n",
              "        const buttonEl =\n",
              "          document.querySelector('#df-4206ddc0-9528-43dd-acca-cf3a53f8e932 button.colab-df-convert');\n",
              "        buttonEl.style.display =\n",
              "          google.colab.kernel.accessAllowed ? 'block' : 'none';\n",
              "\n",
              "        async function convertToInteractive(key) {\n",
              "          const element = document.querySelector('#df-4206ddc0-9528-43dd-acca-cf3a53f8e932');\n",
              "          const dataTable =\n",
              "            await google.colab.kernel.invokeFunction('convertToInteractive',\n",
              "                                                     [key], {});\n",
              "          if (!dataTable) return;\n",
              "\n",
              "          const docLinkHtml = 'Like what you see? Visit the ' +\n",
              "            '<a target=\"_blank\" href=https://colab.research.google.com/notebooks/data_table.ipynb>data table notebook</a>'\n",
              "            + ' to learn more about interactive tables.';\n",
              "          element.innerHTML = '';\n",
              "          dataTable['output_type'] = 'display_data';\n",
              "          await google.colab.output.renderOutput(dataTable, element);\n",
              "          const docLink = document.createElement('div');\n",
              "          docLink.innerHTML = docLinkHtml;\n",
              "          element.appendChild(docLink);\n",
              "        }\n",
              "      </script>\n",
              "    </div>\n",
              "  </div>\n",
              "  "
            ]
          },
          "metadata": {},
          "execution_count": 55
        }
      ]
    },
    {
      "cell_type": "code",
      "source": [
        "# Replacing null values in transmission column\n",
        "\n",
        "df['transmission'] = df['transmission'].fillna(df.transmission.mode()[0])"
      ],
      "metadata": {
        "id": "emudYvKdnNqT"
      },
      "execution_count": 56,
      "outputs": []
    },
    {
      "cell_type": "code",
      "source": [
        "print(\"Number of null values :\" ,df.transmission.isnull().sum())\n",
        "print(df.transmission.value_counts())"
      ],
      "metadata": {
        "colab": {
          "base_uri": "https://localhost:8080/"
        },
        "id": "ZUKUvJc1n02r",
        "outputId": "127816c6-8cc6-4d55-e053-a4e6a66a5f4a"
      },
      "execution_count": 57,
      "outputs": [
        {
          "output_type": "stream",
          "name": "stdout",
          "text": [
            "Number of null values : 0\n",
            "automatic    260426\n",
            "other         59664\n",
            "manual        14129\n",
            "Name: transmission, dtype: int64\n"
          ]
        }
      ]
    },
    {
      "cell_type": "code",
      "source": [
        "## Pie Chart for transmission column\n",
        "\n",
        "plt.figure(figsize=(10,6))\n",
        "plt.pie(df.transmission.value_counts().values,labels=df.transmission.value_counts().index,autopct='%1.2f%%')\n",
        "plt.show()"
      ],
      "metadata": {
        "colab": {
          "base_uri": "https://localhost:8080/",
          "height": 357
        },
        "id": "v9GB3rcHDPLt",
        "outputId": "d6499486-fa91-40b6-b6bf-73e0527c06cb"
      },
      "execution_count": 58,
      "outputs": [
        {
          "output_type": "display_data",
          "data": {
            "text/plain": [
              "<Figure size 720x432 with 1 Axes>"
            ],
            "image/png": "[encoded data removed]"
          },
          "metadata": {}
        }
      ]
    },
    {
      "cell_type": "code",
      "source": [
        "# Transmission looks like an Ordinal data . Here will use Label Encoding\n",
        "\n",
        "from sklearn import preprocessing\n",
        "\n",
        "LabelEncoding = preprocessing.LabelEncoder()\n",
        "\n",
        "df['transmission'] = LabelEncoding.fit_transform(df['transmission'])"
      ],
      "metadata": {
        "id": "uY4bzkBo1qsT"
      },
      "execution_count": 59,
      "outputs": []
    },
    {
      "cell_type": "code",
      "source": [
        "df['transmission'].value_counts()"
      ],
      "metadata": {
        "colab": {
          "base_uri": "https://localhost:8080/"
        },
        "id": "T5DYjYDI58Tl",
        "outputId": "07372bce-e6e6-49da-cb62-181acb5e2686"
      },
      "execution_count": 60,
      "outputs": [
        {
          "output_type": "execute_result",
          "data": {
            "text/plain": [
              "0    260426\n",
              "2     59664\n",
              "1     14129\n",
              "Name: transmission, dtype: int64"
            ]
          },
          "metadata": {},
          "execution_count": 60
        }
      ]
    },
    {
      "cell_type": "code",
      "source": [
        "# Removing the missing percentages greater than zero.\n",
        "missing_percentages =df.isna().sum().sort_values(ascending=False)/len(df) \n",
        "missing_percentages[missing_percentages!=0]\n",
        "\n",
        "# Plot a graph to check missing percentages \n",
        "plt.figure(figsize=(10,6))\n",
        "missing_percentages[missing_percentages!=0].plot(kind='barh')\n",
        "plt.title(\"Graph for NULL data in percentage \")\n",
        "plt.xlabel(\"% of missing values\")\n",
        "plt.ylabel(\"Features\")"
      ],
      "metadata": {
        "colab": {
          "base_uri": "https://localhost:8080/",
          "height": 422
        },
        "id": "cvUms7_n6viI",
        "outputId": "9392a5e9-5b86-47ac-f7b9-cb5590de0a78"
      },
      "execution_count": 61,
      "outputs": [
        {
          "output_type": "execute_result",
          "data": {
            "text/plain": [
              "Text(0, 0.5, 'Features')"
            ]
          },
          "metadata": {},
          "execution_count": 61
        },
        {
          "output_type": "display_data",
          "data": {
            "text/plain": [
              "<Figure size 720x432 with 1 Axes>"
            ],
            "image/png": "[encoded data removed]"
          },
          "metadata": {
            "needs_background": "light"
          }
        }
      ]
    },
    {
      "cell_type": "markdown",
      "source": [
        "**FUEL**"
      ],
      "metadata": {
        "id": "UfCa7q5Y9g_t"
      }
    },
    {
      "cell_type": "code",
      "source": [
        "df['fuel'].isnull().sum()"
      ],
      "metadata": {
        "colab": {
          "base_uri": "https://localhost:8080/"
        },
        "id": "dWgDd7iT6y_W",
        "outputId": "9bf0dd38-8340-45b8-8b1d-779198d93cfc"
      },
      "execution_count": 62,
      "outputs": [
        {
          "output_type": "execute_result",
          "data": {
            "text/plain": [
              "1948"
            ]
          },
          "metadata": {},
          "execution_count": 62
        }
      ]
    },
    {
      "cell_type": "code",
      "source": [
        "df['fuel'].value_counts()"
      ],
      "metadata": {
        "colab": {
          "base_uri": "https://localhost:8080/"
        },
        "id": "IzDfNH8a9lUZ",
        "outputId": "80d95114-8134-45d0-b3d1-49e1a3192e1e"
      },
      "execution_count": 63,
      "outputs": [
        {
          "output_type": "execute_result",
          "data": {
            "text/plain": [
              "gas         283479\n",
              "other        26282\n",
              "diesel       16454\n",
              "hybrid        4564\n",
              "electric      1492\n",
              "Name: fuel, dtype: int64"
            ]
          },
          "metadata": {},
          "execution_count": 63
        }
      ]
    },
    {
      "cell_type": "code",
      "source": [
        "len (df[~ ((df['fuel'] == 'other') | (df['fuel'] == 'gas') | (df['fuel'] == 'diesel') | (df['fuel'] == 'hybrid') | (df['fuel'] == 'electric')) ])"
      ],
      "metadata": {
        "colab": {
          "base_uri": "https://localhost:8080/"
        },
        "id": "Uld8TezW_y5c",
        "outputId": "162562cc-069e-493f-b5e9-e3fc90115166"
      },
      "execution_count": 64,
      "outputs": [
        {
          "output_type": "execute_result",
          "data": {
            "text/plain": [
              "1948"
            ]
          },
          "metadata": {},
          "execution_count": 64
        }
      ]
    },
    {
      "cell_type": "code",
      "source": [
        "# Replacing null values in fuel column\n",
        "\n",
        "df['fuel'] = df['fuel'].fillna(df.fuel.mode()[0])"
      ],
      "metadata": {
        "id": "FLkM1Hrz9saX"
      },
      "execution_count": 65,
      "outputs": []
    },
    {
      "cell_type": "code",
      "source": [
        "print(\"Number of null values :\" ,df.fuel.isnull().sum())\n",
        "print(df.fuel.value_counts())"
      ],
      "metadata": {
        "colab": {
          "base_uri": "https://localhost:8080/"
        },
        "id": "0kmJmxGE9-xt",
        "outputId": "c6c54706-502b-4b44-fa72-26155899bc86"
      },
      "execution_count": 66,
      "outputs": [
        {
          "output_type": "stream",
          "name": "stdout",
          "text": [
            "Number of null values : 0\n",
            "gas         285427\n",
            "other        26282\n",
            "diesel       16454\n",
            "hybrid        4564\n",
            "electric      1492\n",
            "Name: fuel, dtype: int64\n"
          ]
        }
      ]
    },
    {
      "cell_type": "code",
      "source": [
        "## Pie Chart for fuel column\n",
        "\n",
        "plt.figure(figsize=(10,6))\n",
        "plt.pie(df.fuel.value_counts().values,labels=df.fuel.value_counts().index,autopct='%1.2f%%')\n",
        "plt.show()"
      ],
      "metadata": {
        "colab": {
          "base_uri": "https://localhost:8080/",
          "height": 357
        },
        "id": "T0wXWZU0D_kF",
        "outputId": "769fb7d0-4532-4266-f20b-63586191f32a"
      },
      "execution_count": 67,
      "outputs": [
        {
          "output_type": "display_data",
          "data": {
            "text/plain": [
              "<Figure size 720x432 with 1 Axes>"
            ],
            "image/png": "[encoded data removed]"
          },
          "metadata": {}
        }
      ]
    },
    {
      "cell_type": "code",
      "source": [
        "# fuel looks like an Ordinal data . Here will use Label Encoding\n",
        "\n",
        "from sklearn import preprocessing\n",
        "\n",
        "LabelEncoding = preprocessing.LabelEncoder()\n",
        "\n",
        "df['fuel'] = LabelEncoding.fit_transform(df['fuel'])"
      ],
      "metadata": {
        "id": "ihunPup8-BF1"
      },
      "execution_count": 68,
      "outputs": []
    },
    {
      "cell_type": "code",
      "source": [
        "df['fuel'].value_counts()"
      ],
      "metadata": {
        "colab": {
          "base_uri": "https://localhost:8080/"
        },
        "id": "3nhmEGCY-KmG",
        "outputId": "baae9c2e-374d-40d2-c3ed-e37fe44ec7ef"
      },
      "execution_count": 69,
      "outputs": [
        {
          "output_type": "execute_result",
          "data": {
            "text/plain": [
              "2    285427\n",
              "4     26282\n",
              "0     16454\n",
              "3      4564\n",
              "1      1492\n",
              "Name: fuel, dtype: int64"
            ]
          },
          "metadata": {},
          "execution_count": 69
        }
      ]
    },
    {
      "cell_type": "code",
      "source": [
        "# Removing the missing percentages greater than zero.\n",
        "missing_percentages =df.isna().sum().sort_values(ascending=False)/len(df) \n",
        "\n",
        "\n",
        "# Plot a graph to check missing percentages \n",
        "plt.figure(figsize=(10,6))\n",
        "missing_percentages[missing_percentages!=0].plot(kind='barh')\n",
        "plt.title(\"Graph for NULL data in percentage \")\n",
        "plt.xlabel(\"% of missing values\")\n",
        "plt.ylabel(\"Features\")"
      ],
      "metadata": {
        "colab": {
          "base_uri": "https://localhost:8080/",
          "height": 422
        },
        "id": "ATQXnpvR_V0G",
        "outputId": "62cafc7a-454f-4c0e-8d04-72bb9ec0da57"
      },
      "execution_count": 70,
      "outputs": [
        {
          "output_type": "execute_result",
          "data": {
            "text/plain": [
              "Text(0, 0.5, 'Features')"
            ]
          },
          "metadata": {},
          "execution_count": 70
        },
        {
          "output_type": "display_data",
          "data": {
            "text/plain": [
              "<Figure size 720x432 with 1 Axes>"
            ],
            "image/png": "[encoded data removed]"
          },
          "metadata": {
            "needs_background": "light"
          }
        }
      ]
    },
    {
      "cell_type": "markdown",
      "source": [
        "MODEL"
      ],
      "metadata": {
        "id": "wvK1gtubB4Gp"
      }
    },
    {
      "cell_type": "code",
      "source": [
        "df['model'].isnull().sum()"
      ],
      "metadata": {
        "colab": {
          "base_uri": "https://localhost:8080/"
        },
        "id": "3MVyi9kHBvFX",
        "outputId": "7586fa9e-3a75-4858-f627-41da1b5f2995"
      },
      "execution_count": 71,
      "outputs": [
        {
          "output_type": "execute_result",
          "data": {
            "text/plain": [
              "2419"
            ]
          },
          "metadata": {},
          "execution_count": 71
        }
      ]
    },
    {
      "cell_type": "code",
      "source": [
        "len(df['model'].unique())"
      ],
      "metadata": {
        "colab": {
          "base_uri": "https://localhost:8080/"
        },
        "id": "_Rqe20n0B85C",
        "outputId": "a8bac1d6-edec-4e28-aff6-fd6ff3a13698"
      },
      "execution_count": 72,
      "outputs": [
        {
          "output_type": "execute_result",
          "data": {
            "text/plain": [
              "21242"
            ]
          },
          "metadata": {},
          "execution_count": 72
        }
      ]
    },
    {
      "cell_type": "markdown",
      "source": [
        "Model column contains 15663 unique values , will drop this column for now"
      ],
      "metadata": {
        "id": "snb4sRhHCaXe"
      }
    },
    {
      "cell_type": "code",
      "source": [
        "df.drop('model', axis=1 , inplace=True)"
      ],
      "metadata": {
        "id": "_FfhFmCbCL4Z"
      },
      "execution_count": 73,
      "outputs": []
    },
    {
      "cell_type": "code",
      "source": [
        "# Removing the missing percentages greater than zero.\n",
        "missing_percentages =df.isna().sum().sort_values(ascending=False)/len(df) \n",
        "\n",
        "\n",
        "# Plot a graph to check missing percentages \n",
        "plt.figure(figsize=(10,6))\n",
        "missing_percentages[missing_percentages!=0].plot(kind='barh')\n",
        "plt.title(\"Graph for NULL data in percentage \")\n",
        "plt.xlabel(\"% of missing values\")\n",
        "plt.ylabel(\"Features\")"
      ],
      "metadata": {
        "colab": {
          "base_uri": "https://localhost:8080/",
          "height": 422
        },
        "id": "UHnfn7-WCnSW",
        "outputId": "2445e896-9813-43fb-defe-254781aa6e03"
      },
      "execution_count": 74,
      "outputs": [
        {
          "output_type": "execute_result",
          "data": {
            "text/plain": [
              "Text(0, 0.5, 'Features')"
            ]
          },
          "metadata": {},
          "execution_count": 74
        },
        {
          "output_type": "display_data",
          "data": {
            "text/plain": [
              "<Figure size 720x432 with 1 Axes>"
            ],
            "image/png": "[encoded data removed]"
          },
          "metadata": {
            "needs_background": "light"
          }
        }
      ]
    },
    {
      "cell_type": "markdown",
      "source": [
        "**Drop Unnecessary columns for now**\n",
        "1. id\n",
        "2. url\n",
        "3. region\n",
        "4. region_url\n",
        "5. VIN\n",
        "6. image_url\n",
        "7. description\n",
        "8. state\n",
        "9. lat\n",
        "10. long\n",
        "11. posting_date\n"
      ],
      "metadata": {
        "id": "9f7u8u6cEtTT"
      }
    },
    {
      "cell_type": "code",
      "source": [
        "df.drop(['id','url','region','region_url','VIN','image_url','description','state','lat','long','posting_date'], axis =1 , inplace = True)"
      ],
      "metadata": {
        "id": "buS6dibACpZu"
      },
      "execution_count": 75,
      "outputs": []
    },
    {
      "cell_type": "code",
      "source": [
        "df.info()"
      ],
      "metadata": {
        "colab": {
          "base_uri": "https://localhost:8080/"
        },
        "id": "AtwUEh9EE2c9",
        "outputId": "3549e5c1-0a65-435b-a989-939ad90f2171"
      },
      "execution_count": 76,
      "outputs": [
        {
          "output_type": "stream",
          "name": "stdout",
          "text": [
            "<class 'pandas.core.frame.DataFrame'>\n",
            "Int64Index: 334219 entries, 27 to 426879\n",
            "Data columns (total 13 columns):\n",
            " #   Column        Non-Null Count   Dtype  \n",
            "---  ------        --------------   -----  \n",
            " 0   price         334219 non-null  int64  \n",
            " 1   year          334219 non-null  float64\n",
            " 2   manufacturer  325093 non-null  object \n",
            " 3   condition     205685 non-null  object \n",
            " 4   cylinders     195085 non-null  object \n",
            " 5   fuel          334219 non-null  int64  \n",
            " 6   odometer      334219 non-null  float64\n",
            " 7   title_status  327933 non-null  object \n",
            " 8   transmission  334219 non-null  int64  \n",
            " 9   drive         232675 non-null  object \n",
            " 10  size          89782 non-null   object \n",
            " 11  type          267963 non-null  object \n",
            " 12  paint_color   237953 non-null  object \n",
            "dtypes: float64(2), int64(3), object(8)\n",
            "memory usage: 35.7+ MB\n"
          ]
        }
      ]
    },
    {
      "cell_type": "code",
      "source": [
        "# Removing the missing percentages greater than zero.\n",
        "missing_percentages =df.isna().sum().sort_values(ascending=False)/len(df) \n",
        "\n",
        "\n",
        "# Plot a graph to check missing percentages \n",
        "plt.figure(figsize=(10,6))\n",
        "missing_percentages[missing_percentages!=0].plot(kind='barh')\n",
        "plt.title(\"Graph for NULL data in percentage \")\n",
        "plt.xlabel(\"% of missing values\")\n",
        "plt.ylabel(\"Features\")"
      ],
      "metadata": {
        "colab": {
          "base_uri": "https://localhost:8080/",
          "height": 422
        },
        "id": "3TYuPUUaFDaq",
        "outputId": "0d3490f3-dab3-4205-e072-167e721680cb"
      },
      "execution_count": 77,
      "outputs": [
        {
          "output_type": "execute_result",
          "data": {
            "text/plain": [
              "Text(0, 0.5, 'Features')"
            ]
          },
          "metadata": {},
          "execution_count": 77
        },
        {
          "output_type": "display_data",
          "data": {
            "text/plain": [
              "<Figure size 720x432 with 1 Axes>"
            ],
            "image/png": "[encoded data removed]"
          },
          "metadata": {
            "needs_background": "light"
          }
        }
      ]
    },
    {
      "cell_type": "markdown",
      "source": [
        "**title_status**"
      ],
      "metadata": {
        "id": "DbuHtseUHXSp"
      }
    },
    {
      "cell_type": "code",
      "source": [
        "df['title_status'].isnull().sum()"
      ],
      "metadata": {
        "colab": {
          "base_uri": "https://localhost:8080/"
        },
        "id": "60DGqlIKFh--",
        "outputId": "2d0e55dc-c863-4d8f-e1b7-ad77b93bab50"
      },
      "execution_count": 78,
      "outputs": [
        {
          "output_type": "execute_result",
          "data": {
            "text/plain": [
              "6286"
            ]
          },
          "metadata": {},
          "execution_count": 78
        }
      ]
    },
    {
      "cell_type": "code",
      "source": [
        "df['title_status'].value_counts()"
      ],
      "metadata": {
        "colab": {
          "base_uri": "https://localhost:8080/"
        },
        "id": "unPo2e0ZHGpb",
        "outputId": "f5f1d755-6b45-41af-f6cb-176754378492"
      },
      "execution_count": 79,
      "outputs": [
        {
          "output_type": "execute_result",
          "data": {
            "text/plain": [
              "clean         316733\n",
              "rebuilt         6532\n",
              "salvage         3218\n",
              "lien            1225\n",
              "missing          158\n",
              "parts only        67\n",
              "Name: title_status, dtype: int64"
            ]
          },
          "metadata": {},
          "execution_count": 79
        }
      ]
    },
    {
      "cell_type": "code",
      "source": [
        "df['title_status'] = df['title_status'].fillna(df['title_status'].mode()[0])"
      ],
      "metadata": {
        "id": "-Ff8SnFTHKvW"
      },
      "execution_count": 80,
      "outputs": []
    },
    {
      "cell_type": "code",
      "source": [
        "## Pie Chart for title_status column\n",
        "\n",
        "plt.figure(figsize=(10,6))\n",
        "plt.pie(df.title_status.value_counts().values,labels=df.title_status.value_counts().index,autopct='%1.2f%%')\n",
        "plt.show()"
      ],
      "metadata": {
        "colab": {
          "base_uri": "https://localhost:8080/",
          "height": 357
        },
        "id": "Ly5vYnqkHSdH",
        "outputId": "ec9253ca-9154-488b-8e32-db015adaa86e"
      },
      "execution_count": 81,
      "outputs": [
        {
          "output_type": "display_data",
          "data": {
            "text/plain": [
              "<Figure size 720x432 with 1 Axes>"
            ],
            "image/png": "[encoded data removed]"
          },
          "metadata": {}
        }
      ]
    },
    {
      "cell_type": "code",
      "source": [
        "# title_status looks like an Ordinal data . Here will use Label Encoding\n",
        "\n",
        "from sklearn import preprocessing\n",
        "\n",
        "LabelEncoding = preprocessing.LabelEncoder()\n",
        "\n",
        "df['title_status'] = LabelEncoding.fit_transform(df['title_status'])"
      ],
      "metadata": {
        "id": "UBjVgratHg3C"
      },
      "execution_count": 82,
      "outputs": []
    },
    {
      "cell_type": "code",
      "source": [
        "df['title_status'].value_counts()"
      ],
      "metadata": {
        "colab": {
          "base_uri": "https://localhost:8080/"
        },
        "id": "nRmGnAOOIB6k",
        "outputId": "44bfb1e4-4968-4a5a-9035-e7aa31c00a64"
      },
      "execution_count": 83,
      "outputs": [
        {
          "output_type": "execute_result",
          "data": {
            "text/plain": [
              "0    323019\n",
              "4      6532\n",
              "5      3218\n",
              "1      1225\n",
              "2       158\n",
              "3        67\n",
              "Name: title_status, dtype: int64"
            ]
          },
          "metadata": {},
          "execution_count": 83
        }
      ]
    },
    {
      "cell_type": "code",
      "source": [
        "# Removing the missing percentages greater than zero.\n",
        "missing_percentages =df.isna().sum().sort_values(ascending=False)/len(df) \n",
        "\n",
        "\n",
        "# Plot a graph to check missing percentages \n",
        "plt.figure(figsize=(10,6))\n",
        "missing_percentages[missing_percentages!=0].plot(kind='barh')\n",
        "plt.title(\"Graph for NULL data in percentage \")\n",
        "plt.xlabel(\"% of missing values\")\n",
        "plt.ylabel(\"Features\")"
      ],
      "metadata": {
        "colab": {
          "base_uri": "https://localhost:8080/",
          "height": 422
        },
        "id": "KuJ-ZReWIEnS",
        "outputId": "71a96caf-91e4-4714-ff0f-5a835e9de4c5"
      },
      "execution_count": 84,
      "outputs": [
        {
          "output_type": "execute_result",
          "data": {
            "text/plain": [
              "Text(0, 0.5, 'Features')"
            ]
          },
          "metadata": {},
          "execution_count": 84
        },
        {
          "output_type": "display_data",
          "data": {
            "text/plain": [
              "<Figure size 720x432 with 1 Axes>"
            ],
            "image/png": "[encoded data removed]"
          },
          "metadata": {
            "needs_background": "light"
          }
        }
      ]
    },
    {
      "cell_type": "markdown",
      "source": [
        "**manufacturer**"
      ],
      "metadata": {
        "id": "LpyjA5LrILCA"
      }
    },
    {
      "cell_type": "code",
      "source": [
        "df['manufacturer'].isnull().sum()"
      ],
      "metadata": {
        "colab": {
          "base_uri": "https://localhost:8080/"
        },
        "id": "9rdyF3j3IHv1",
        "outputId": "5c8349a0-0ee7-4a35-c433-cfdcb55312cc"
      },
      "execution_count": 85,
      "outputs": [
        {
          "output_type": "execute_result",
          "data": {
            "text/plain": [
              "9126"
            ]
          },
          "metadata": {},
          "execution_count": 85
        }
      ]
    },
    {
      "cell_type": "code",
      "source": [
        "df['manufacturer'].value_counts()"
      ],
      "metadata": {
        "colab": {
          "base_uri": "https://localhost:8080/"
        },
        "id": "RxHAXDRtLHyb",
        "outputId": "48b5a85c-009e-48a6-aa0b-ea1cab9797ea"
      },
      "execution_count": 86,
      "outputs": [
        {
          "output_type": "execute_result",
          "data": {
            "text/plain": [
              "ford               52655\n",
              "chevrolet          40252\n",
              "toyota             27001\n",
              "honda              17430\n",
              "nissan             16211\n",
              "jeep               15322\n",
              "ram                13625\n",
              "bmw                12937\n",
              "gmc                12437\n",
              "dodge              10783\n",
              "hyundai             9047\n",
              "mercedes-benz       8952\n",
              "subaru              8337\n",
              "volkswagen          7921\n",
              "kia                 7343\n",
              "lexus               7086\n",
              "audi                6813\n",
              "cadillac            5656\n",
              "acura               5347\n",
              "chrysler            5163\n",
              "mazda               4638\n",
              "buick               4534\n",
              "infiniti            4270\n",
              "lincoln             3581\n",
              "volvo               2795\n",
              "mitsubishi          2718\n",
              "mini                2204\n",
              "rover               1736\n",
              "jaguar              1626\n",
              "pontiac             1510\n",
              "porsche             1000\n",
              "saturn               953\n",
              "alfa-romeo           814\n",
              "mercury              782\n",
              "tesla                748\n",
              "fiat                 731\n",
              "harley-davidson      112\n",
              "aston-martin          10\n",
              "land rover             9\n",
              "ferrari                3\n",
              "morgan                 1\n",
              "Name: manufacturer, dtype: int64"
            ]
          },
          "metadata": {},
          "execution_count": 86
        }
      ]
    },
    {
      "cell_type": "code",
      "source": [
        "df['manufacturer'] = df['manufacturer'].fillna(df['manufacturer'].mode()[0])"
      ],
      "metadata": {
        "id": "g0IDrcbSLH3u"
      },
      "execution_count": 87,
      "outputs": []
    },
    {
      "cell_type": "code",
      "source": [
        "df['manufacturer'].unique()"
      ],
      "metadata": {
        "colab": {
          "base_uri": "https://localhost:8080/"
        },
        "id": "H3NY0mOBMUAi",
        "outputId": "2480209d-677b-4893-ba91-a1e372f9b056"
      },
      "execution_count": 88,
      "outputs": [
        {
          "output_type": "execute_result",
          "data": {
            "text/plain": [
              "array(['gmc', 'chevrolet', 'toyota', 'ford', 'jeep', 'nissan', 'ram',\n",
              "       'mazda', 'cadillac', 'honda', 'dodge', 'lexus', 'jaguar',\n",
              "       'chrysler', 'volvo', 'audi', 'infiniti', 'lincoln', 'alfa-romeo',\n",
              "       'subaru', 'acura', 'hyundai', 'buick', 'mercedes-benz', 'bmw',\n",
              "       'mitsubishi', 'volkswagen', 'porsche', 'kia', 'rover', 'mini',\n",
              "       'pontiac', 'fiat', 'tesla', 'saturn', 'mercury', 'harley-davidson',\n",
              "       'aston-martin', 'land rover', 'morgan', 'ferrari'], dtype=object)"
            ]
          },
          "metadata": {},
          "execution_count": 88
        }
      ]
    },
    {
      "cell_type": "code",
      "source": [
        "## Pie Chart for TOP 10 manufacturer column\n",
        "\n",
        "plt.figure(figsize=(10,6))\n",
        "plt.pie(df.manufacturer.value_counts()[:10].values,labels=df.manufacturer.value_counts()[:10].index,autopct='%1.2f%%')\n",
        "plt.show()"
      ],
      "metadata": {
        "colab": {
          "base_uri": "https://localhost:8080/",
          "height": 357
        },
        "id": "oJq3E9jvLQye",
        "outputId": "2f17afd0-daf1-4e26-d25e-7abbf0423599"
      },
      "execution_count": 89,
      "outputs": [
        {
          "output_type": "display_data",
          "data": {
            "text/plain": [
              "<Figure size 720x432 with 1 Axes>"
            ],
            "image/png": "[encoded data removed]"
          },
          "metadata": {}
        }
      ]
    },
    {
      "cell_type": "markdown",
      "source": [
        "### \" **manufacturer** \" is a **Nominal data**, 3 techniques to solve this:\n",
        "1. ONE HOT ENCODING\n",
        "2. ONE HOT ENCODING WITH MULTIPLE CATEGORIES\n",
        "3. MEAN ENCODING"
      ],
      "metadata": {
        "id": "if994e3UI0J6"
      }
    },
    {
      "cell_type": "code",
      "source": [
        "\n"
      ],
      "metadata": {
        "id": "Cj4e703TIc2d"
      },
      "execution_count": 89,
      "outputs": []
    },
    {
      "cell_type": "code",
      "source": [
        "!pip install category_encoders --quiet"
      ],
      "metadata": {
        "colab": {
          "base_uri": "https://localhost:8080/"
        },
        "id": "z9Kerg5VGbuK",
        "outputId": "3d19c7e5-d27d-4b9d-dd94-dc944a2a858e"
      },
      "execution_count": 90,
      "outputs": [
        {
          "output_type": "stream",
          "name": "stdout",
          "text": [
            "\u001b[?25l\r\u001b[K     |███▉                            | 10 kB 3.1 MB/s eta 0:00:01\r\u001b[K     |███████▋                        | 20 kB 5.4 MB/s eta 0:00:01\r\u001b[K     |███████████▍                    | 30 kB 7.6 MB/s eta 0:00:01\r\u001b[K     |███████████████▏                | 40 kB 4.1 MB/s eta 0:00:01\r\u001b[K     |███████████████████             | 51 kB 4.6 MB/s eta 0:00:01\r\u001b[K     |██████████████████████▊         | 61 kB 4.5 MB/s eta 0:00:01\r\u001b[K     |██████████████████████████▌     | 71 kB 4.2 MB/s eta 0:00:01\r\u001b[K     |██████████████████████████████▎ | 81 kB 4.7 MB/s eta 0:00:01\r\u001b[K     |████████████████████████████████| 86 kB 2.5 MB/s \n",
            "\u001b[?25h"
          ]
        }
      ]
    },
    {
      "cell_type": "code",
      "source": [
        "# title_status looks like an Ordinal data . Here will use Label Encoding\n",
        "\n",
        "from sklearn import preprocessing\n",
        "\n",
        "LabelEncoding = preprocessing.LabelEncoder()\n",
        "\n",
        "df['manufacturer'] = LabelEncoding.fit_transform(df['manufacturer'])\n"
      ],
      "metadata": {
        "id": "5bE_7Cs-GV6t"
      },
      "execution_count": 91,
      "outputs": []
    },
    {
      "cell_type": "code",
      "source": [
        "df"
      ],
      "metadata": {
        "colab": {
          "base_uri": "https://localhost:8080/",
          "height": 423
        },
        "id": "wFJOTzYdOBWM",
        "outputId": "ecf68954-8491-467d-ab15-31d552663cea"
      },
      "execution_count": 92,
      "outputs": [
        {
          "output_type": "execute_result",
          "data": {
            "text/plain": [
              "        price    year  manufacturer  condition    cylinders  fuel  odometer  \\\n",
              "27      33590  2014.0            13       good  8 cylinders     2   57923.0   \n",
              "28      22590  2010.0             7       good  8 cylinders     2   71229.0   \n",
              "29      39590  2020.0             7       good  8 cylinders     2   19160.0   \n",
              "30      30990  2017.0            38       good  8 cylinders     2   41124.0   \n",
              "31      15000  2013.0            12  excellent  6 cylinders     2  128000.0   \n",
              "...       ...     ...           ...        ...          ...   ...       ...   \n",
              "426875  23590  2019.0            30       good  6 cylinders     2   32226.0   \n",
              "426876  30590  2020.0            40       good          NaN     2   12029.0   \n",
              "426877  34990  2020.0             6       good          NaN     0    4174.0   \n",
              "426878  28990  2018.0            22       good  6 cylinders     2   30112.0   \n",
              "426879  30590  2019.0             4       good          NaN     2   22716.0   \n",
              "\n",
              "        title_status  transmission drive       size       type paint_color  \n",
              "27                 0             2   NaN        NaN     pickup       white  \n",
              "28                 0             2   NaN        NaN     pickup        blue  \n",
              "29                 0             2   NaN        NaN     pickup         red  \n",
              "30                 0             2   NaN        NaN     pickup         red  \n",
              "31                 0             0   rwd  full-size      truck       black  \n",
              "...              ...           ...   ...        ...        ...         ...  \n",
              "426875             0             2   fwd        NaN      sedan         NaN  \n",
              "426876             0             2   fwd        NaN      sedan         red  \n",
              "426877             0             2   NaN        NaN  hatchback       white  \n",
              "426878             0             2   fwd        NaN      sedan      silver  \n",
              "426879             0             2   rwd        NaN      coupe         NaN  \n",
              "\n",
              "[334219 rows x 13 columns]"
            ],
            "text/html": [
              "\n",
              "  <div id=\"df-63f3e77b-6272-4797-86e9-6dbca48d29d3\">\n",
              "    <div class=\"colab-df-container\">\n",
              "      <div>\n",
              "<style scoped>\n",
              "    .dataframe tbody tr th:only-of-type {\n",
              "        vertical-align: middle;\n",
              "    }\n",
              "\n",
              "    .dataframe tbody tr th {\n",
              "        vertical-align: top;\n",
              "    }\n",
              "\n",
              "    .dataframe thead th {\n",
              "        text-align: right;\n",
              "    }\n",
              "</style>\n",
              "<table border=\"1\" class=\"dataframe\">\n",
              "  <thead>\n",
              "    <tr style=\"text-align: right;\">\n",
              "      <th></th>\n",
              "      <th>price</th>\n",
              "      <th>year</th>\n",
              "      <th>manufacturer</th>\n",
              "      <th>condition</th>\n",
              "      <th>cylinders</th>\n",
              "      <th>fuel</th>\n",
              "      <th>odometer</th>\n",
              "      <th>title_status</th>\n",
              "      <th>transmission</th>\n",
              "      <th>drive</th>\n",
              "      <th>size</th>\n",
              "      <th>type</th>\n",
              "      <th>paint_color</th>\n",
              "    </tr>\n",
              "  </thead>\n",
              "  <tbody>\n",
              "    <tr>\n",
              "      <th>27</th>\n",
              "      <td>33590</td>\n",
              "      <td>2014.0</td>\n",
              "      <td>13</td>\n",
              "      <td>good</td>\n",
              "      <td>8 cylinders</td>\n",
              "      <td>2</td>\n",
              "      <td>57923.0</td>\n",
              "      <td>0</td>\n",
              "      <td>2</td>\n",
              "      <td>NaN</td>\n",
              "      <td>NaN</td>\n",
              "      <td>pickup</td>\n",
              "      <td>white</td>\n",
              "    </tr>\n",
              "    <tr>\n",
              "      <th>28</th>\n",
              "      <td>22590</td>\n",
              "      <td>2010.0</td>\n",
              "      <td>7</td>\n",
              "      <td>good</td>\n",
              "      <td>8 cylinders</td>\n",
              "      <td>2</td>\n",
              "      <td>71229.0</td>\n",
              "      <td>0</td>\n",
              "      <td>2</td>\n",
              "      <td>NaN</td>\n",
              "      <td>NaN</td>\n",
              "      <td>pickup</td>\n",
              "      <td>blue</td>\n",
              "    </tr>\n",
              "    <tr>\n",
              "      <th>29</th>\n",
              "      <td>39590</td>\n",
              "      <td>2020.0</td>\n",
              "      <td>7</td>\n",
              "      <td>good</td>\n",
              "      <td>8 cylinders</td>\n",
              "      <td>2</td>\n",
              "      <td>19160.0</td>\n",
              "      <td>0</td>\n",
              "      <td>2</td>\n",
              "      <td>NaN</td>\n",
              "      <td>NaN</td>\n",
              "      <td>pickup</td>\n",
              "      <td>red</td>\n",
              "    </tr>\n",
              "    <tr>\n",
              "      <th>30</th>\n",
              "      <td>30990</td>\n",
              "      <td>2017.0</td>\n",
              "      <td>38</td>\n",
              "      <td>good</td>\n",
              "      <td>8 cylinders</td>\n",
              "      <td>2</td>\n",
              "      <td>41124.0</td>\n",
              "      <td>0</td>\n",
              "      <td>2</td>\n",
              "      <td>NaN</td>\n",
              "      <td>NaN</td>\n",
              "      <td>pickup</td>\n",
              "      <td>red</td>\n",
              "    </tr>\n",
              "    <tr>\n",
              "      <th>31</th>\n",
              "      <td>15000</td>\n",
              "      <td>2013.0</td>\n",
              "      <td>12</td>\n",
              "      <td>excellent</td>\n",
              "      <td>6 cylinders</td>\n",
              "      <td>2</td>\n",
              "      <td>128000.0</td>\n",
              "      <td>0</td>\n",
              "      <td>0</td>\n",
              "      <td>rwd</td>\n",
              "      <td>full-size</td>\n",
              "      <td>truck</td>\n",
              "      <td>black</td>\n",
              "    </tr>\n",
              "    <tr>\n",
              "      <th>...</th>\n",
              "      <td>...</td>\n",
              "      <td>...</td>\n",
              "      <td>...</td>\n",
              "      <td>...</td>\n",
              "      <td>...</td>\n",
              "      <td>...</td>\n",
              "      <td>...</td>\n",
              "      <td>...</td>\n",
              "      <td>...</td>\n",
              "      <td>...</td>\n",
              "      <td>...</td>\n",
              "      <td>...</td>\n",
              "      <td>...</td>\n",
              "    </tr>\n",
              "    <tr>\n",
              "      <th>426875</th>\n",
              "      <td>23590</td>\n",
              "      <td>2019.0</td>\n",
              "      <td>30</td>\n",
              "      <td>good</td>\n",
              "      <td>6 cylinders</td>\n",
              "      <td>2</td>\n",
              "      <td>32226.0</td>\n",
              "      <td>0</td>\n",
              "      <td>2</td>\n",
              "      <td>fwd</td>\n",
              "      <td>NaN</td>\n",
              "      <td>sedan</td>\n",
              "      <td>NaN</td>\n",
              "    </tr>\n",
              "    <tr>\n",
              "      <th>426876</th>\n",
              "      <td>30590</td>\n",
              "      <td>2020.0</td>\n",
              "      <td>40</td>\n",
              "      <td>good</td>\n",
              "      <td>NaN</td>\n",
              "      <td>2</td>\n",
              "      <td>12029.0</td>\n",
              "      <td>0</td>\n",
              "      <td>2</td>\n",
              "      <td>fwd</td>\n",
              "      <td>NaN</td>\n",
              "      <td>sedan</td>\n",
              "      <td>red</td>\n",
              "    </tr>\n",
              "    <tr>\n",
              "      <th>426877</th>\n",
              "      <td>34990</td>\n",
              "      <td>2020.0</td>\n",
              "      <td>6</td>\n",
              "      <td>good</td>\n",
              "      <td>NaN</td>\n",
              "      <td>0</td>\n",
              "      <td>4174.0</td>\n",
              "      <td>0</td>\n",
              "      <td>2</td>\n",
              "      <td>NaN</td>\n",
              "      <td>NaN</td>\n",
              "      <td>hatchback</td>\n",
              "      <td>white</td>\n",
              "    </tr>\n",
              "    <tr>\n",
              "      <th>426878</th>\n",
              "      <td>28990</td>\n",
              "      <td>2018.0</td>\n",
              "      <td>22</td>\n",
              "      <td>good</td>\n",
              "      <td>6 cylinders</td>\n",
              "      <td>2</td>\n",
              "      <td>30112.0</td>\n",
              "      <td>0</td>\n",
              "      <td>2</td>\n",
              "      <td>fwd</td>\n",
              "      <td>NaN</td>\n",
              "      <td>sedan</td>\n",
              "      <td>silver</td>\n",
              "    </tr>\n",
              "    <tr>\n",
              "      <th>426879</th>\n",
              "      <td>30590</td>\n",
              "      <td>2019.0</td>\n",
              "      <td>4</td>\n",
              "      <td>good</td>\n",
              "      <td>NaN</td>\n",
              "      <td>2</td>\n",
              "      <td>22716.0</td>\n",
              "      <td>0</td>\n",
              "      <td>2</td>\n",
              "      <td>rwd</td>\n",
              "      <td>NaN</td>\n",
              "      <td>coupe</td>\n",
              "      <td>NaN</td>\n",
              "    </tr>\n",
              "  </tbody>\n",
              "</table>\n",
              "<p>334219 rows × 13 columns</p>\n",
              "</div>\n",
              "      <button class=\"colab-df-convert\" onclick=\"convertToInteractive('df-63f3e77b-6272-4797-86e9-6dbca48d29d3')\"\n",
              "              title=\"Convert this dataframe to an interactive table.\"\n",
              "              style=\"display:none;\">\n",
              "        \n",
              "  <svg xmlns=\"http://www.w3.org/2000/svg\" height=\"24px\"viewBox=\"0 0 24 24\"\n",
              "       width=\"24px\">\n",
              "    <path d=\"M0 0h24v24H0V0z\" fill=\"none\"/>\n",
              "    <path d=\"M18.56 5.44l.94 2.06.94-2.06 2.06-.94-2.06-.94-.94-2.06-.94 2.06-2.06.94zm-11 1L8.5 8.5l.94-2.06 2.06-.94-2.06-.94L8.5 2.5l-.94 2.06-2.06.94zm10 10l.94 2.06.94-2.06 2.06-.94-2.06-.94-.94-2.06-.94 2.06-2.06.94z\"/><path d=\"M17.41 7.96l-1.37-1.37c-.4-.4-.92-.59-1.43-.59-.52 0-1.04.2-1.43.59L10.3 9.45l-7.72 7.72c-.78.78-.78 2.05 0 2.83L4 21.41c.39.39.9.59 1.41.59.51 0 1.02-.2 1.41-.59l7.78-7.78 2.81-2.81c.8-.78.8-2.07 0-2.86zM5.41 20L4 18.59l7.72-7.72 1.47 1.35L5.41 20z\"/>\n",
              "  </svg>\n",
              "      </button>\n",
              "      \n",
              "  <style>\n",
              "    .colab-df-container {\n",
              "      display:flex;\n",
              "      flex-wrap:wrap;\n",
              "      gap: 12px;\n",
              "    }\n",
              "\n",
              "    .colab-df-convert {\n",
              "      background-color: #E8F0FE;\n",
              "      border: none;\n",
              "      border-radius: 50%;\n",
              "      cursor: pointer;\n",
              "      display: none;\n",
              "      fill: #1967D2;\n",
              "      height: 32px;\n",
              "      padding: 0 0 0 0;\n",
              "      width: 32px;\n",
              "    }\n",
              "\n",
              "    .colab-df-convert:hover {\n",
              "      background-color: #E2EBFA;\n",
              "      box-shadow: 0px 1px 2px rgba(60, 64, 67, 0.3), 0px 1px 3px 1px rgba(60, 64, 67, 0.15);\n",
              "      fill: #174EA6;\n",
              "    }\n",
              "\n",
              "    [theme=dark] .colab-df-convert {\n",
              "      background-color: #3B4455;\n",
              "      fill: #D2E3FC;\n",
              "    }\n",
              "\n",
              "    [theme=dark] .colab-df-convert:hover {\n",
              "      background-color: #434B5C;\n",
              "      box-shadow: 0px 1px 3px 1px rgba(0, 0, 0, 0.15);\n",
              "      filter: drop-shadow(0px 1px 2px rgba(0, 0, 0, 0.3));\n",
              "      fill: #FFFFFF;\n",
              "    }\n",
              "  </style>\n",
              "\n",
              "      <script>\n",
              "        const buttonEl =\n",
              "          document.querySelector('#df-63f3e77b-6272-4797-86e9-6dbca48d29d3 button.colab-df-convert');\n",
              "        buttonEl.style.display =\n",
              "          google.colab.kernel.accessAllowed ? 'block' : 'none';\n",
              "\n",
              "        async function convertToInteractive(key) {\n",
              "          const element = document.querySelector('#df-63f3e77b-6272-4797-86e9-6dbca48d29d3');\n",
              "          const dataTable =\n",
              "            await google.colab.kernel.invokeFunction('convertToInteractive',\n",
              "                                                     [key], {});\n",
              "          if (!dataTable) return;\n",
              "\n",
              "          const docLinkHtml = 'Like what you see? Visit the ' +\n",
              "            '<a target=\"_blank\" href=https://colab.research.google.com/notebooks/data_table.ipynb>data table notebook</a>'\n",
              "            + ' to learn more about interactive tables.';\n",
              "          element.innerHTML = '';\n",
              "          dataTable['output_type'] = 'display_data';\n",
              "          await google.colab.output.renderOutput(dataTable, element);\n",
              "          const docLink = document.createElement('div');\n",
              "          docLink.innerHTML = docLinkHtml;\n",
              "          element.appendChild(docLink);\n",
              "        }\n",
              "      </script>\n",
              "    </div>\n",
              "  </div>\n",
              "  "
            ]
          },
          "metadata": {},
          "execution_count": 92
        }
      ]
    },
    {
      "cell_type": "code",
      "source": [
        "df.columns"
      ],
      "metadata": {
        "colab": {
          "base_uri": "https://localhost:8080/"
        },
        "id": "mhRvi3evHBim",
        "outputId": "6383c63a-461d-483a-cce8-010fc2bb28f5"
      },
      "execution_count": 93,
      "outputs": [
        {
          "output_type": "execute_result",
          "data": {
            "text/plain": [
              "Index(['price', 'year', 'manufacturer', 'condition', 'cylinders', 'fuel',\n",
              "       'odometer', 'title_status', 'transmission', 'drive', 'size', 'type',\n",
              "       'paint_color'],\n",
              "      dtype='object')"
            ]
          },
          "metadata": {},
          "execution_count": 93
        }
      ]
    },
    {
      "cell_type": "code",
      "source": [
        "# Reset Index\n",
        "\n",
        "df.reset_index(inplace = True)\n",
        "df.drop('index',axis =1, inplace= True)"
      ],
      "metadata": {
        "id": "qdmn6JD0PaY8"
      },
      "execution_count": 94,
      "outputs": []
    },
    {
      "cell_type": "code",
      "source": [
        "df"
      ],
      "metadata": {
        "colab": {
          "base_uri": "https://localhost:8080/",
          "height": 423
        },
        "id": "vmvRGlbaTx1s",
        "outputId": "dd1078ef-8d18-43f3-9df9-b56bab874ae2"
      },
      "execution_count": 95,
      "outputs": [
        {
          "output_type": "execute_result",
          "data": {
            "text/plain": [
              "        price    year  manufacturer  condition    cylinders  fuel  odometer  \\\n",
              "0       33590  2014.0            13       good  8 cylinders     2   57923.0   \n",
              "1       22590  2010.0             7       good  8 cylinders     2   71229.0   \n",
              "2       39590  2020.0             7       good  8 cylinders     2   19160.0   \n",
              "3       30990  2017.0            38       good  8 cylinders     2   41124.0   \n",
              "4       15000  2013.0            12  excellent  6 cylinders     2  128000.0   \n",
              "...       ...     ...           ...        ...          ...   ...       ...   \n",
              "334214  23590  2019.0            30       good  6 cylinders     2   32226.0   \n",
              "334215  30590  2020.0            40       good          NaN     2   12029.0   \n",
              "334216  34990  2020.0             6       good          NaN     0    4174.0   \n",
              "334217  28990  2018.0            22       good  6 cylinders     2   30112.0   \n",
              "334218  30590  2019.0             4       good          NaN     2   22716.0   \n",
              "\n",
              "        title_status  transmission drive       size       type paint_color  \n",
              "0                  0             2   NaN        NaN     pickup       white  \n",
              "1                  0             2   NaN        NaN     pickup        blue  \n",
              "2                  0             2   NaN        NaN     pickup         red  \n",
              "3                  0             2   NaN        NaN     pickup         red  \n",
              "4                  0             0   rwd  full-size      truck       black  \n",
              "...              ...           ...   ...        ...        ...         ...  \n",
              "334214             0             2   fwd        NaN      sedan         NaN  \n",
              "334215             0             2   fwd        NaN      sedan         red  \n",
              "334216             0             2   NaN        NaN  hatchback       white  \n",
              "334217             0             2   fwd        NaN      sedan      silver  \n",
              "334218             0             2   rwd        NaN      coupe         NaN  \n",
              "\n",
              "[334219 rows x 13 columns]"
            ],
            "text/html": [
              "\n",
              "  <div id=\"df-626405d6-c695-4ad9-b9dd-343ba6d5a84d\">\n",
              "    <div class=\"colab-df-container\">\n",
              "      <div>\n",
              "<style scoped>\n",
              "    .dataframe tbody tr th:only-of-type {\n",
              "        vertical-align: middle;\n",
              "    }\n",
              "\n",
              "    .dataframe tbody tr th {\n",
              "        vertical-align: top;\n",
              "    }\n",
              "\n",
              "    .dataframe thead th {\n",
              "        text-align: right;\n",
              "    }\n",
              "</style>\n",
              "<table border=\"1\" class=\"dataframe\">\n",
              "  <thead>\n",
              "    <tr style=\"text-align: right;\">\n",
              "      <th></th>\n",
              "      <th>price</th>\n",
              "      <th>year</th>\n",
              "      <th>manufacturer</th>\n",
              "      <th>condition</th>\n",
              "      <th>cylinders</th>\n",
              "      <th>fuel</th>\n",
              "      <th>odometer</th>\n",
              "      <th>title_status</th>\n",
              "      <th>transmission</th>\n",
              "      <th>drive</th>\n",
              "      <th>size</th>\n",
              "      <th>type</th>\n",
              "      <th>paint_color</th>\n",
              "    </tr>\n",
              "  </thead>\n",
              "  <tbody>\n",
              "    <tr>\n",
              "      <th>0</th>\n",
              "      <td>33590</td>\n",
              "      <td>2014.0</td>\n",
              "      <td>13</td>\n",
              "      <td>good</td>\n",
              "      <td>8 cylinders</td>\n",
              "      <td>2</td>\n",
              "      <td>57923.0</td>\n",
              "      <td>0</td>\n",
              "      <td>2</td>\n",
              "      <td>NaN</td>\n",
              "      <td>NaN</td>\n",
              "      <td>pickup</td>\n",
              "      <td>white</td>\n",
              "    </tr>\n",
              "    <tr>\n",
              "      <th>1</th>\n",
              "      <td>22590</td>\n",
              "      <td>2010.0</td>\n",
              "      <td>7</td>\n",
              "      <td>good</td>\n",
              "      <td>8 cylinders</td>\n",
              "      <td>2</td>\n",
              "      <td>71229.0</td>\n",
              "      <td>0</td>\n",
              "      <td>2</td>\n",
              "      <td>NaN</td>\n",
              "      <td>NaN</td>\n",
              "      <td>pickup</td>\n",
              "      <td>blue</td>\n",
              "    </tr>\n",
              "    <tr>\n",
              "      <th>2</th>\n",
              "      <td>39590</td>\n",
              "      <td>2020.0</td>\n",
              "      <td>7</td>\n",
              "      <td>good</td>\n",
              "      <td>8 cylinders</td>\n",
              "      <td>2</td>\n",
              "      <td>19160.0</td>\n",
              "      <td>0</td>\n",
              "      <td>2</td>\n",
              "      <td>NaN</td>\n",
              "      <td>NaN</td>\n",
              "      <td>pickup</td>\n",
              "      <td>red</td>\n",
              "    </tr>\n",
              "    <tr>\n",
              "      <th>3</th>\n",
              "      <td>30990</td>\n",
              "      <td>2017.0</td>\n",
              "      <td>38</td>\n",
              "      <td>good</td>\n",
              "      <td>8 cylinders</td>\n",
              "      <td>2</td>\n",
              "      <td>41124.0</td>\n",
              "      <td>0</td>\n",
              "      <td>2</td>\n",
              "      <td>NaN</td>\n",
              "      <td>NaN</td>\n",
              "      <td>pickup</td>\n",
              "      <td>red</td>\n",
              "    </tr>\n",
              "    <tr>\n",
              "      <th>4</th>\n",
              "      <td>15000</td>\n",
              "      <td>2013.0</td>\n",
              "      <td>12</td>\n",
              "      <td>excellent</td>\n",
              "      <td>6 cylinders</td>\n",
              "      <td>2</td>\n",
              "      <td>128000.0</td>\n",
              "      <td>0</td>\n",
              "      <td>0</td>\n",
              "      <td>rwd</td>\n",
              "      <td>full-size</td>\n",
              "      <td>truck</td>\n",
              "      <td>black</td>\n",
              "    </tr>\n",
              "    <tr>\n",
              "      <th>...</th>\n",
              "      <td>...</td>\n",
              "      <td>...</td>\n",
              "      <td>...</td>\n",
              "      <td>...</td>\n",
              "      <td>...</td>\n",
              "      <td>...</td>\n",
              "      <td>...</td>\n",
              "      <td>...</td>\n",
              "      <td>...</td>\n",
              "      <td>...</td>\n",
              "      <td>...</td>\n",
              "      <td>...</td>\n",
              "      <td>...</td>\n",
              "    </tr>\n",
              "    <tr>\n",
              "      <th>334214</th>\n",
              "      <td>23590</td>\n",
              "      <td>2019.0</td>\n",
              "      <td>30</td>\n",
              "      <td>good</td>\n",
              "      <td>6 cylinders</td>\n",
              "      <td>2</td>\n",
              "      <td>32226.0</td>\n",
              "      <td>0</td>\n",
              "      <td>2</td>\n",
              "      <td>fwd</td>\n",
              "      <td>NaN</td>\n",
              "      <td>sedan</td>\n",
              "      <td>NaN</td>\n",
              "    </tr>\n",
              "    <tr>\n",
              "      <th>334215</th>\n",
              "      <td>30590</td>\n",
              "      <td>2020.0</td>\n",
              "      <td>40</td>\n",
              "      <td>good</td>\n",
              "      <td>NaN</td>\n",
              "      <td>2</td>\n",
              "      <td>12029.0</td>\n",
              "      <td>0</td>\n",
              "      <td>2</td>\n",
              "      <td>fwd</td>\n",
              "      <td>NaN</td>\n",
              "      <td>sedan</td>\n",
              "      <td>red</td>\n",
              "    </tr>\n",
              "    <tr>\n",
              "      <th>334216</th>\n",
              "      <td>34990</td>\n",
              "      <td>2020.0</td>\n",
              "      <td>6</td>\n",
              "      <td>good</td>\n",
              "      <td>NaN</td>\n",
              "      <td>0</td>\n",
              "      <td>4174.0</td>\n",
              "      <td>0</td>\n",
              "      <td>2</td>\n",
              "      <td>NaN</td>\n",
              "      <td>NaN</td>\n",
              "      <td>hatchback</td>\n",
              "      <td>white</td>\n",
              "    </tr>\n",
              "    <tr>\n",
              "      <th>334217</th>\n",
              "      <td>28990</td>\n",
              "      <td>2018.0</td>\n",
              "      <td>22</td>\n",
              "      <td>good</td>\n",
              "      <td>6 cylinders</td>\n",
              "      <td>2</td>\n",
              "      <td>30112.0</td>\n",
              "      <td>0</td>\n",
              "      <td>2</td>\n",
              "      <td>fwd</td>\n",
              "      <td>NaN</td>\n",
              "      <td>sedan</td>\n",
              "      <td>silver</td>\n",
              "    </tr>\n",
              "    <tr>\n",
              "      <th>334218</th>\n",
              "      <td>30590</td>\n",
              "      <td>2019.0</td>\n",
              "      <td>4</td>\n",
              "      <td>good</td>\n",
              "      <td>NaN</td>\n",
              "      <td>2</td>\n",
              "      <td>22716.0</td>\n",
              "      <td>0</td>\n",
              "      <td>2</td>\n",
              "      <td>rwd</td>\n",
              "      <td>NaN</td>\n",
              "      <td>coupe</td>\n",
              "      <td>NaN</td>\n",
              "    </tr>\n",
              "  </tbody>\n",
              "</table>\n",
              "<p>334219 rows × 13 columns</p>\n",
              "</div>\n",
              "      <button class=\"colab-df-convert\" onclick=\"convertToInteractive('df-626405d6-c695-4ad9-b9dd-343ba6d5a84d')\"\n",
              "              title=\"Convert this dataframe to an interactive table.\"\n",
              "              style=\"display:none;\">\n",
              "        \n",
              "  <svg xmlns=\"http://www.w3.org/2000/svg\" height=\"24px\"viewBox=\"0 0 24 24\"\n",
              "       width=\"24px\">\n",
              "    <path d=\"M0 0h24v24H0V0z\" fill=\"none\"/>\n",
              "    <path d=\"M18.56 5.44l.94 2.06.94-2.06 2.06-.94-2.06-.94-.94-2.06-.94 2.06-2.06.94zm-11 1L8.5 8.5l.94-2.06 2.06-.94-2.06-.94L8.5 2.5l-.94 2.06-2.06.94zm10 10l.94 2.06.94-2.06 2.06-.94-2.06-.94-.94-2.06-.94 2.06-2.06.94z\"/><path d=\"M17.41 7.96l-1.37-1.37c-.4-.4-.92-.59-1.43-.59-.52 0-1.04.2-1.43.59L10.3 9.45l-7.72 7.72c-.78.78-.78 2.05 0 2.83L4 21.41c.39.39.9.59 1.41.59.51 0 1.02-.2 1.41-.59l7.78-7.78 2.81-2.81c.8-.78.8-2.07 0-2.86zM5.41 20L4 18.59l7.72-7.72 1.47 1.35L5.41 20z\"/>\n",
              "  </svg>\n",
              "      </button>\n",
              "      \n",
              "  <style>\n",
              "    .colab-df-container {\n",
              "      display:flex;\n",
              "      flex-wrap:wrap;\n",
              "      gap: 12px;\n",
              "    }\n",
              "\n",
              "    .colab-df-convert {\n",
              "      background-color: #E8F0FE;\n",
              "      border: none;\n",
              "      border-radius: 50%;\n",
              "      cursor: pointer;\n",
              "      display: none;\n",
              "      fill: #1967D2;\n",
              "      height: 32px;\n",
              "      padding: 0 0 0 0;\n",
              "      width: 32px;\n",
              "    }\n",
              "\n",
              "    .colab-df-convert:hover {\n",
              "      background-color: #E2EBFA;\n",
              "      box-shadow: 0px 1px 2px rgba(60, 64, 67, 0.3), 0px 1px 3px 1px rgba(60, 64, 67, 0.15);\n",
              "      fill: #174EA6;\n",
              "    }\n",
              "\n",
              "    [theme=dark] .colab-df-convert {\n",
              "      background-color: #3B4455;\n",
              "      fill: #D2E3FC;\n",
              "    }\n",
              "\n",
              "    [theme=dark] .colab-df-convert:hover {\n",
              "      background-color: #434B5C;\n",
              "      box-shadow: 0px 1px 3px 1px rgba(0, 0, 0, 0.15);\n",
              "      filter: drop-shadow(0px 1px 2px rgba(0, 0, 0, 0.3));\n",
              "      fill: #FFFFFF;\n",
              "    }\n",
              "  </style>\n",
              "\n",
              "      <script>\n",
              "        const buttonEl =\n",
              "          document.querySelector('#df-626405d6-c695-4ad9-b9dd-343ba6d5a84d button.colab-df-convert');\n",
              "        buttonEl.style.display =\n",
              "          google.colab.kernel.accessAllowed ? 'block' : 'none';\n",
              "\n",
              "        async function convertToInteractive(key) {\n",
              "          const element = document.querySelector('#df-626405d6-c695-4ad9-b9dd-343ba6d5a84d');\n",
              "          const dataTable =\n",
              "            await google.colab.kernel.invokeFunction('convertToInteractive',\n",
              "                                                     [key], {});\n",
              "          if (!dataTable) return;\n",
              "\n",
              "          const docLinkHtml = 'Like what you see? Visit the ' +\n",
              "            '<a target=\"_blank\" href=https://colab.research.google.com/notebooks/data_table.ipynb>data table notebook</a>'\n",
              "            + ' to learn more about interactive tables.';\n",
              "          element.innerHTML = '';\n",
              "          dataTable['output_type'] = 'display_data';\n",
              "          await google.colab.output.renderOutput(dataTable, element);\n",
              "          const docLink = document.createElement('div');\n",
              "          docLink.innerHTML = docLinkHtml;\n",
              "          element.appendChild(docLink);\n",
              "        }\n",
              "      </script>\n",
              "    </div>\n",
              "  </div>\n",
              "  "
            ]
          },
          "metadata": {},
          "execution_count": 95
        }
      ]
    },
    {
      "cell_type": "markdown",
      "source": [
        "**condition**\n",
        "\n"
      ],
      "metadata": {
        "id": "tVwmV1pbVxB5"
      }
    },
    {
      "cell_type": "code",
      "source": [
        "df['condition'].isnull().sum()"
      ],
      "metadata": {
        "colab": {
          "base_uri": "https://localhost:8080/"
        },
        "id": "luxnet1jU48C",
        "outputId": "1412e114-6fa7-46ab-ceea-e84dd36f50d8"
      },
      "execution_count": 96,
      "outputs": [
        {
          "output_type": "execute_result",
          "data": {
            "text/plain": [
              "128534"
            ]
          },
          "metadata": {},
          "execution_count": 96
        }
      ]
    },
    {
      "cell_type": "code",
      "source": [
        "df['condition'].value_counts()"
      ],
      "metadata": {
        "colab": {
          "base_uri": "https://localhost:8080/"
        },
        "id": "c7-alPG7WCyN",
        "outputId": "215a3193-cf02-4d1d-f29a-3597a4daab66"
      },
      "execution_count": 97,
      "outputs": [
        {
          "output_type": "execute_result",
          "data": {
            "text/plain": [
              "good         104043\n",
              "excellent     80178\n",
              "like new      17698\n",
              "fair           2807\n",
              "new             632\n",
              "salvage         327\n",
              "Name: condition, dtype: int64"
            ]
          },
          "metadata": {},
          "execution_count": 97
        }
      ]
    },
    {
      "cell_type": "code",
      "source": [
        "df_group_one = df[['condition','year']]\n",
        "df_group_one = df_group_one.groupby(['condition','year'],as_index=False).count()\n",
        "df_group_one"
      ],
      "metadata": {
        "colab": {
          "base_uri": "https://localhost:8080/",
          "height": 423
        },
        "id": "yJh4iPX4pjvw",
        "outputId": "d03174ad-4a17-4115-cfe0-e9b60b341acb"
      },
      "execution_count": 98,
      "outputs": [
        {
          "output_type": "execute_result",
          "data": {
            "text/plain": [
              "     condition    year\n",
              "0    excellent  2000.0\n",
              "1    excellent  2001.0\n",
              "2    excellent  2002.0\n",
              "3    excellent  2003.0\n",
              "4    excellent  2004.0\n",
              "..         ...     ...\n",
              "132    salvage  2017.0\n",
              "133    salvage  2018.0\n",
              "134    salvage  2019.0\n",
              "135    salvage  2020.0\n",
              "136    salvage  2021.0\n",
              "\n",
              "[137 rows x 2 columns]"
            ],
            "text/html": [
              "\n",
              "  <div id=\"df-7de8b5a1-aa96-48aa-87f1-a11bfda84a30\">\n",
              "    <div class=\"colab-df-container\">\n",
              "      <div>\n",
              "<style scoped>\n",
              "    .dataframe tbody tr th:only-of-type {\n",
              "        vertical-align: middle;\n",
              "    }\n",
              "\n",
              "    .dataframe tbody tr th {\n",
              "        vertical-align: top;\n",
              "    }\n",
              "\n",
              "    .dataframe thead th {\n",
              "        text-align: right;\n",
              "    }\n",
              "</style>\n",
              "<table border=\"1\" class=\"dataframe\">\n",
              "  <thead>\n",
              "    <tr style=\"text-align: right;\">\n",
              "      <th></th>\n",
              "      <th>condition</th>\n",
              "      <th>year</th>\n",
              "    </tr>\n",
              "  </thead>\n",
              "  <tbody>\n",
              "    <tr>\n",
              "      <th>0</th>\n",
              "      <td>excellent</td>\n",
              "      <td>2000.0</td>\n",
              "    </tr>\n",
              "    <tr>\n",
              "      <th>1</th>\n",
              "      <td>excellent</td>\n",
              "      <td>2001.0</td>\n",
              "    </tr>\n",
              "    <tr>\n",
              "      <th>2</th>\n",
              "      <td>excellent</td>\n",
              "      <td>2002.0</td>\n",
              "    </tr>\n",
              "    <tr>\n",
              "      <th>3</th>\n",
              "      <td>excellent</td>\n",
              "      <td>2003.0</td>\n",
              "    </tr>\n",
              "    <tr>\n",
              "      <th>4</th>\n",
              "      <td>excellent</td>\n",
              "      <td>2004.0</td>\n",
              "    </tr>\n",
              "    <tr>\n",
              "      <th>...</th>\n",
              "      <td>...</td>\n",
              "      <td>...</td>\n",
              "    </tr>\n",
              "    <tr>\n",
              "      <th>132</th>\n",
              "      <td>salvage</td>\n",
              "      <td>2017.0</td>\n",
              "    </tr>\n",
              "    <tr>\n",
              "      <th>133</th>\n",
              "      <td>salvage</td>\n",
              "      <td>2018.0</td>\n",
              "    </tr>\n",
              "    <tr>\n",
              "      <th>134</th>\n",
              "      <td>salvage</td>\n",
              "      <td>2019.0</td>\n",
              "    </tr>\n",
              "    <tr>\n",
              "      <th>135</th>\n",
              "      <td>salvage</td>\n",
              "      <td>2020.0</td>\n",
              "    </tr>\n",
              "    <tr>\n",
              "      <th>136</th>\n",
              "      <td>salvage</td>\n",
              "      <td>2021.0</td>\n",
              "    </tr>\n",
              "  </tbody>\n",
              "</table>\n",
              "<p>137 rows × 2 columns</p>\n",
              "</div>\n",
              "      <button class=\"colab-df-convert\" onclick=\"convertToInteractive('df-7de8b5a1-aa96-48aa-87f1-a11bfda84a30')\"\n",
              "              title=\"Convert this dataframe to an interactive table.\"\n",
              "              style=\"display:none;\">\n",
              "        \n",
              "  <svg xmlns=\"http://www.w3.org/2000/svg\" height=\"24px\"viewBox=\"0 0 24 24\"\n",
              "       width=\"24px\">\n",
              "    <path d=\"M0 0h24v24H0V0z\" fill=\"none\"/>\n",
              "    <path d=\"M18.56 5.44l.94 2.06.94-2.06 2.06-.94-2.06-.94-.94-2.06-.94 2.06-2.06.94zm-11 1L8.5 8.5l.94-2.06 2.06-.94-2.06-.94L8.5 2.5l-.94 2.06-2.06.94zm10 10l.94 2.06.94-2.06 2.06-.94-2.06-.94-.94-2.06-.94 2.06-2.06.94z\"/><path d=\"M17.41 7.96l-1.37-1.37c-.4-.4-.92-.59-1.43-.59-.52 0-1.04.2-1.43.59L10.3 9.45l-7.72 7.72c-.78.78-.78 2.05 0 2.83L4 21.41c.39.39.9.59 1.41.59.51 0 1.02-.2 1.41-.59l7.78-7.78 2.81-2.81c.8-.78.8-2.07 0-2.86zM5.41 20L4 18.59l7.72-7.72 1.47 1.35L5.41 20z\"/>\n",
              "  </svg>\n",
              "      </button>\n",
              "      \n",
              "  <style>\n",
              "    .colab-df-container {\n",
              "      display:flex;\n",
              "      flex-wrap:wrap;\n",
              "      gap: 12px;\n",
              "    }\n",
              "\n",
              "    .colab-df-convert {\n",
              "      background-color: #E8F0FE;\n",
              "      border: none;\n",
              "      border-radius: 50%;\n",
              "      cursor: pointer;\n",
              "      display: none;\n",
              "      fill: #1967D2;\n",
              "      height: 32px;\n",
              "      padding: 0 0 0 0;\n",
              "      width: 32px;\n",
              "    }\n",
              "\n",
              "    .colab-df-convert:hover {\n",
              "      background-color: #E2EBFA;\n",
              "      box-shadow: 0px 1px 2px rgba(60, 64, 67, 0.3), 0px 1px 3px 1px rgba(60, 64, 67, 0.15);\n",
              "      fill: #174EA6;\n",
              "    }\n",
              "\n",
              "    [theme=dark] .colab-df-convert {\n",
              "      background-color: #3B4455;\n",
              "      fill: #D2E3FC;\n",
              "    }\n",
              "\n",
              "    [theme=dark] .colab-df-convert:hover {\n",
              "      background-color: #434B5C;\n",
              "      box-shadow: 0px 1px 3px 1px rgba(0, 0, 0, 0.15);\n",
              "      filter: drop-shadow(0px 1px 2px rgba(0, 0, 0, 0.3));\n",
              "      fill: #FFFFFF;\n",
              "    }\n",
              "  </style>\n",
              "\n",
              "      <script>\n",
              "        const buttonEl =\n",
              "          document.querySelector('#df-7de8b5a1-aa96-48aa-87f1-a11bfda84a30 button.colab-df-convert');\n",
              "        buttonEl.style.display =\n",
              "          google.colab.kernel.accessAllowed ? 'block' : 'none';\n",
              "\n",
              "        async function convertToInteractive(key) {\n",
              "          const element = document.querySelector('#df-7de8b5a1-aa96-48aa-87f1-a11bfda84a30');\n",
              "          const dataTable =\n",
              "            await google.colab.kernel.invokeFunction('convertToInteractive',\n",
              "                                                     [key], {});\n",
              "          if (!dataTable) return;\n",
              "\n",
              "          const docLinkHtml = 'Like what you see? Visit the ' +\n",
              "            '<a target=\"_blank\" href=https://colab.research.google.com/notebooks/data_table.ipynb>data table notebook</a>'\n",
              "            + ' to learn more about interactive tables.';\n",
              "          element.innerHTML = '';\n",
              "          dataTable['output_type'] = 'display_data';\n",
              "          await google.colab.output.renderOutput(dataTable, element);\n",
              "          const docLink = document.createElement('div');\n",
              "          docLink.innerHTML = docLinkHtml;\n",
              "          element.appendChild(docLink);\n",
              "        }\n",
              "      </script>\n",
              "    </div>\n",
              "  </div>\n",
              "  "
            ]
          },
          "metadata": {},
          "execution_count": 98
        }
      ]
    },
    {
      "cell_type": "code",
      "source": [
        "df[df.condition == 'good'].year.value_counts()"
      ],
      "metadata": {
        "colab": {
          "base_uri": "https://localhost:8080/"
        },
        "id": "bHjTrP-zqAVu",
        "outputId": "9b1b993d-47f7-4671-db5a-ac042e307c0f"
      },
      "execution_count": 99,
      "outputs": [
        {
          "output_type": "execute_result",
          "data": {
            "text/plain": [
              "2018.0    13959\n",
              "2017.0    11263\n",
              "2019.0    10063\n",
              "2020.0     9703\n",
              "2016.0     7848\n",
              "2013.0     7109\n",
              "2014.0     6370\n",
              "2015.0     6266\n",
              "2012.0     4910\n",
              "2011.0     3930\n",
              "2008.0     3216\n",
              "2010.0     3109\n",
              "2007.0     2748\n",
              "2006.0     2593\n",
              "2009.0     2489\n",
              "2005.0     2072\n",
              "2004.0     1846\n",
              "2003.0     1494\n",
              "2002.0     1204\n",
              "2001.0      961\n",
              "2000.0      752\n",
              "2021.0      136\n",
              "2022.0        2\n",
              "Name: year, dtype: int64"
            ]
          },
          "metadata": {},
          "execution_count": 99
        }
      ]
    },
    {
      "cell_type": "code",
      "source": [
        "df['condition'] = df['condition'].fillna(df['condition'].mode()[0])"
      ],
      "metadata": {
        "id": "AeqnUgluWHaB"
      },
      "execution_count": 100,
      "outputs": []
    },
    {
      "cell_type": "code",
      "source": [
        "## Pie Chart for condition column\n",
        "\n",
        "plt.figure(figsize=(10,6))\n",
        "plt.pie(df.condition.value_counts().values,labels=df.condition.value_counts().index,autopct='%1.2f%%')\n",
        "plt.show()"
      ],
      "metadata": {
        "colab": {
          "base_uri": "https://localhost:8080/",
          "height": 357
        },
        "id": "eJ7uryB0WNqQ",
        "outputId": "ab3458a5-5aea-4d07-97ad-917f1b20bd42"
      },
      "execution_count": 101,
      "outputs": [
        {
          "output_type": "display_data",
          "data": {
            "text/plain": [
              "<Figure size 720x432 with 1 Axes>"
            ],
            "image/png": "[encoded data removed]"
          },
          "metadata": {}
        }
      ]
    },
    {
      "cell_type": "code",
      "source": [
        "# title_status looks like an Ordinal data . Here will use Label Encoding\n",
        "\n",
        "from sklearn import preprocessing\n",
        "\n",
        "LabelEncoding = preprocessing.LabelEncoder()\n",
        "\n",
        "df['condition'] = LabelEncoding.fit_transform(df['condition'])"
      ],
      "metadata": {
        "id": "h68mcAP_WPD1"
      },
      "execution_count": 102,
      "outputs": []
    },
    {
      "cell_type": "markdown",
      "source": [
        "**cylinder**"
      ],
      "metadata": {
        "id": "uHpv2YZQWxKy"
      }
    },
    {
      "cell_type": "code",
      "source": [
        "df['cylinders'].isnull().sum()"
      ],
      "metadata": {
        "colab": {
          "base_uri": "https://localhost:8080/"
        },
        "id": "Nn8oVFS8Wvr-",
        "outputId": "3bb348d9-468b-42d0-cb82-98ff62e31dfa"
      },
      "execution_count": 103,
      "outputs": [
        {
          "output_type": "execute_result",
          "data": {
            "text/plain": [
              "139134"
            ]
          },
          "metadata": {},
          "execution_count": 103
        }
      ]
    },
    {
      "cell_type": "code",
      "source": [
        "df['cylinders'].value_counts()"
      ],
      "metadata": {
        "colab": {
          "base_uri": "https://localhost:8080/"
        },
        "id": "C_s6jw9HWivM",
        "outputId": "4bb03457-2e7d-4a9a-dd37-75b061e28185"
      },
      "execution_count": 104,
      "outputs": [
        {
          "output_type": "execute_result",
          "data": {
            "text/plain": [
              "6 cylinders     77034\n",
              "4 cylinders     65549\n",
              "8 cylinders     48933\n",
              "5 cylinders      1407\n",
              "10 cylinders      903\n",
              "other             719\n",
              "3 cylinders       448\n",
              "12 cylinders       92\n",
              "Name: cylinders, dtype: int64"
            ]
          },
          "metadata": {},
          "execution_count": 104
        }
      ]
    },
    {
      "cell_type": "code",
      "source": [
        "# splitting the cylinder column\n",
        "\n",
        "df['cylinders'] = df['cylinders'].str.split(' ').str[0]"
      ],
      "metadata": {
        "id": "k9frvUdJWkcg"
      },
      "execution_count": 105,
      "outputs": []
    },
    {
      "cell_type": "code",
      "source": [
        "# filling null values\n",
        "\n",
        "df['cylinders'] = df['cylinders'].fillna(df['cylinders'].mode()[0])"
      ],
      "metadata": {
        "id": "LN43pceVXUTr"
      },
      "execution_count": 106,
      "outputs": []
    },
    {
      "cell_type": "code",
      "source": [
        "# replacing others value in cylinder column with 0\n",
        "df['cylinders'] = df['cylinders'].replace(['other'],'0')\n"
      ],
      "metadata": {
        "id": "K72V8_LLXbgZ"
      },
      "execution_count": 107,
      "outputs": []
    },
    {
      "cell_type": "code",
      "source": [
        "# changing into integer column\n",
        "\n",
        "df['cylinders'] = df['cylinders'].astype('int')"
      ],
      "metadata": {
        "id": "pB7T3g3IXx-c"
      },
      "execution_count": 108,
      "outputs": []
    },
    {
      "cell_type": "code",
      "source": [
        "# creating a graph to check null values\n",
        "\n",
        "plt.figure(figsize=(12,8))\n",
        "sns.heatmap(df.isnull(),yticklabels=False,cbar=False,cmap='viridis')"
      ],
      "metadata": {
        "colab": {
          "base_uri": "https://localhost:8080/",
          "height": 559
        },
        "id": "BX-9bRCTY0H2",
        "outputId": "e6add8b3-e212-4ba1-b19b-b8a56dcf8d42"
      },
      "execution_count": 109,
      "outputs": [
        {
          "output_type": "execute_result",
          "data": {
            "text/plain": [
              "<matplotlib.axes._subplots.AxesSubplot at 0x7f2e0fb33450>"
            ]
          },
          "metadata": {},
          "execution_count": 109
        },
        {
          "output_type": "display_data",
          "data": {
            "text/plain": [
              "<Figure size 864x576 with 1 Axes>"
            ],
            "image/png": "[encoded data removed]"
          },
          "metadata": {
            "needs_background": "light"
          }
        }
      ]
    },
    {
      "cell_type": "code",
      "source": [
        "# Removing the missing percentages greater than zero.\n",
        "missing_percentages =df.isna().sum().sort_values(ascending=False)/len(df) \n",
        "\n",
        "# Plot a graph to check missing percentages \n",
        "plt.figure(figsize=(10,6))\n",
        "missing_percentages[missing_percentages!=0].plot(kind='barh')\n",
        "plt.title(\"Graph for NULL data in percentage \")\n",
        "plt.xlabel(\"% of missing values\")\n",
        "plt.ylabel(\"Features\")"
      ],
      "metadata": {
        "colab": {
          "base_uri": "https://localhost:8080/",
          "height": 422
        },
        "id": "vh3chrqFZRLa",
        "outputId": "afe7bad5-35db-4346-9909-9f1607beda2f"
      },
      "execution_count": 110,
      "outputs": [
        {
          "output_type": "execute_result",
          "data": {
            "text/plain": [
              "Text(0, 0.5, 'Features')"
            ]
          },
          "metadata": {},
          "execution_count": 110
        },
        {
          "output_type": "display_data",
          "data": {
            "text/plain": [
              "<Figure size 720x432 with 1 Axes>"
            ],
            "image/png": "[encoded data removed]"
          },
          "metadata": {
            "needs_background": "light"
          }
        }
      ]
    },
    {
      "cell_type": "markdown",
      "source": [
        "**drive** "
      ],
      "metadata": {
        "id": "huE1rAs9YyCR"
      }
    },
    {
      "cell_type": "code",
      "source": [
        "df['drive'].isnull().sum()"
      ],
      "metadata": {
        "colab": {
          "base_uri": "https://localhost:8080/"
        },
        "id": "DvItNoJeYt70",
        "outputId": "7e6663c6-88fb-4c2b-aa09-a16cd28ada7b"
      },
      "execution_count": 111,
      "outputs": [
        {
          "output_type": "execute_result",
          "data": {
            "text/plain": [
              "101544"
            ]
          },
          "metadata": {},
          "execution_count": 111
        }
      ]
    },
    {
      "cell_type": "code",
      "source": [
        "df['drive'].value_counts()"
      ],
      "metadata": {
        "colab": {
          "base_uri": "https://localhost:8080/"
        },
        "id": "GfU2pNmMYvGj",
        "outputId": "a8f161f6-be28-42e6-c3a6-97eeb4394ba5"
      },
      "execution_count": 112,
      "outputs": [
        {
          "output_type": "execute_result",
          "data": {
            "text/plain": [
              "4wd    101452\n",
              "fwd     89682\n",
              "rwd     41541\n",
              "Name: drive, dtype: int64"
            ]
          },
          "metadata": {},
          "execution_count": 112
        }
      ]
    },
    {
      "cell_type": "code",
      "source": [
        "df['drive'] = df['drive'].fillna(df['drive'].mode()[0])"
      ],
      "metadata": {
        "id": "z2GtVxmDZLqR"
      },
      "execution_count": 113,
      "outputs": []
    },
    {
      "cell_type": "code",
      "source": [
        "plt.figure(figsize=(10,5))\n",
        "sns.boxplot(x=\"drive\", y=\"price\", data=df)"
      ],
      "metadata": {
        "colab": {
          "base_uri": "https://localhost:8080/",
          "height": 356
        },
        "id": "BauVXA6wrTLx",
        "outputId": "49331305-16fe-4741-e601-284347a23433"
      },
      "execution_count": 114,
      "outputs": [
        {
          "output_type": "execute_result",
          "data": {
            "text/plain": [
              "<matplotlib.axes._subplots.AxesSubplot at 0x7f2e0f6ab510>"
            ]
          },
          "metadata": {},
          "execution_count": 114
        },
        {
          "output_type": "display_data",
          "data": {
            "text/plain": [
              "<Figure size 720x360 with 1 Axes>"
            ],
            "image/png": "[encoded data removed]"
          },
          "metadata": {
            "needs_background": "light"
          }
        }
      ]
    },
    {
      "cell_type": "code",
      "source": [
        ""
      ],
      "metadata": {
        "id": "fmM7fQBhrzj_"
      },
      "execution_count": 114,
      "outputs": []
    },
    {
      "cell_type": "code",
      "source": [
        "## Pie Chart for drive column\n",
        "\n",
        "plt.figure(figsize=(10,6))\n",
        "plt.pie(df.drive.value_counts().values,labels=df.drive.value_counts().index,autopct='%1.2f%%')\n",
        "plt.show()"
      ],
      "metadata": {
        "colab": {
          "base_uri": "https://localhost:8080/",
          "height": 357
        },
        "id": "yilHCJhVZxjP",
        "outputId": "e99f93b7-e862-4722-dce3-9113f9b484db"
      },
      "execution_count": 115,
      "outputs": [
        {
          "output_type": "display_data",
          "data": {
            "text/plain": [
              "<Figure size 720x432 with 1 Axes>"
            ],
            "image/png": "[encoded data removed]"
          },
          "metadata": {}
        }
      ]
    },
    {
      "cell_type": "code",
      "source": [
        "# title_status looks like an Ordinal data . Here will use Label Encoding\n",
        "\n",
        "from sklearn import preprocessing\n",
        "\n",
        "LabelEncoding = preprocessing.LabelEncoder()\n",
        "\n",
        "df['drive'] = LabelEncoding.fit_transform(df['drive'])"
      ],
      "metadata": {
        "id": "4CQTzs3bZ0x4"
      },
      "execution_count": 116,
      "outputs": []
    },
    {
      "cell_type": "markdown",
      "source": [
        "**type**"
      ],
      "metadata": {
        "id": "ZRjjyTATaI4M"
      }
    },
    {
      "cell_type": "code",
      "source": [
        "df['type'].isnull().sum()"
      ],
      "metadata": {
        "colab": {
          "base_uri": "https://localhost:8080/"
        },
        "id": "eZt7-PGlZ9BO",
        "outputId": "afecc289-05d2-47a3-c457-ff2e1753ea86"
      },
      "execution_count": 117,
      "outputs": [
        {
          "output_type": "execute_result",
          "data": {
            "text/plain": [
              "66256"
            ]
          },
          "metadata": {},
          "execution_count": 117
        }
      ]
    },
    {
      "cell_type": "code",
      "source": [
        "df['type'].value_counts()"
      ],
      "metadata": {
        "colab": {
          "base_uri": "https://localhost:8080/"
        },
        "id": "vplYJkdRZ-IR",
        "outputId": "55521fee-1a58-4d09-fb44-c0cf7ce4927b"
      },
      "execution_count": 118,
      "outputs": [
        {
          "output_type": "execute_result",
          "data": {
            "text/plain": [
              "sedan          73966\n",
              "SUV            63068\n",
              "pickup         34658\n",
              "truck          23123\n",
              "other          17977\n",
              "hatchback      15127\n",
              "coupe          14462\n",
              "wagon           9144\n",
              "van             6665\n",
              "convertible     5218\n",
              "mini-van        3916\n",
              "bus              343\n",
              "offroad          296\n",
              "Name: type, dtype: int64"
            ]
          },
          "metadata": {},
          "execution_count": 118
        }
      ]
    },
    {
      "cell_type": "code",
      "source": [
        "df['type'] = df['type'].fillna(df['type'].mode()[0])"
      ],
      "metadata": {
        "id": "CY1ru2nJaSrt"
      },
      "execution_count": 119,
      "outputs": []
    },
    {
      "cell_type": "code",
      "source": [
        "## Pie Chart for top 6 type column\n",
        "\n",
        "plt.figure(figsize=(10,6))\n",
        "plt.pie(df['type'].value_counts().values[:6],labels=df['type'].value_counts().index[:6],autopct='%1.2f%%')\n",
        "plt.show()"
      ],
      "metadata": {
        "colab": {
          "base_uri": "https://localhost:8080/",
          "height": 357
        },
        "id": "G09ux-gpbHEv",
        "outputId": "f9f75c4e-105f-489a-e270-38e39b7ee861"
      },
      "execution_count": 120,
      "outputs": [
        {
          "output_type": "display_data",
          "data": {
            "text/plain": [
              "<Figure size 720x432 with 1 Axes>"
            ],
            "image/png": "[encoded data removed]"
          },
          "metadata": {}
        }
      ]
    },
    {
      "cell_type": "code",
      "source": [
        "\n",
        "# title_status looks like an Ordinal data . Here will use Label Encoding\n",
        "\n",
        "from sklearn import preprocessing\n",
        "\n",
        "LabelEncoding = preprocessing.LabelEncoder()\n",
        "\n",
        "df['type'] = LabelEncoding.fit_transform(df['type'])"
      ],
      "metadata": {
        "id": "m2iTxdSc12W0"
      },
      "execution_count": 121,
      "outputs": []
    },
    {
      "cell_type": "code",
      "source": [
        "# Removing the missing percentages greater than zero.\n",
        "missing_percentages =df.isna().sum().sort_values(ascending=False)/len(df) \n",
        "\n",
        "# Plot a graph to check missing percentages \n",
        "plt.figure(figsize=(10,6))\n",
        "missing_percentages[missing_percentages!=0].plot(kind='barh')\n",
        "plt.title(\"Graph for NULL data in percentage \")\n",
        "plt.xlabel(\"% of missing values\")\n",
        "plt.ylabel(\"Features\")"
      ],
      "metadata": {
        "colab": {
          "base_uri": "https://localhost:8080/",
          "height": 422
        },
        "id": "WKp8CYap3stL",
        "outputId": "4eba3902-239b-4ec1-8383-899b42ed3e15"
      },
      "execution_count": 122,
      "outputs": [
        {
          "output_type": "execute_result",
          "data": {
            "text/plain": [
              "Text(0, 0.5, 'Features')"
            ]
          },
          "metadata": {},
          "execution_count": 122
        },
        {
          "output_type": "display_data",
          "data": {
            "text/plain": [
              "<Figure size 720x432 with 1 Axes>"
            ],
            "image/png": "[encoded data removed]"
          },
          "metadata": {
            "needs_background": "light"
          }
        }
      ]
    },
    {
      "cell_type": "markdown",
      "source": [
        "Size column contains about 70 percent of the Null values, dropping this column for now"
      ],
      "metadata": {
        "id": "hqeERHxB35sH"
      }
    },
    {
      "cell_type": "code",
      "source": [
        "# size column drop\n",
        "\n",
        "df.drop('size' , axis =1 , inplace = True)"
      ],
      "metadata": {
        "id": "xHubRc-f35Oi"
      },
      "execution_count": 123,
      "outputs": []
    },
    {
      "cell_type": "markdown",
      "source": [
        "**paint_color**         "
      ],
      "metadata": {
        "id": "s3sAkSmH4v1A"
      }
    },
    {
      "cell_type": "code",
      "source": [
        "df['paint_color'].isnull().sum()"
      ],
      "metadata": {
        "colab": {
          "base_uri": "https://localhost:8080/"
        },
        "id": "he5vcn3L3tha",
        "outputId": "d0e0250e-5bc3-4230-97d6-6bc80741e828"
      },
      "execution_count": 124,
      "outputs": [
        {
          "output_type": "execute_result",
          "data": {
            "text/plain": [
              "96266"
            ]
          },
          "metadata": {},
          "execution_count": 124
        }
      ]
    },
    {
      "cell_type": "code",
      "source": [
        "df['paint_color'].value_counts()"
      ],
      "metadata": {
        "colab": {
          "base_uri": "https://localhost:8080/"
        },
        "id": "AMVNI7Ma4Poe",
        "outputId": "35118d43-729e-4590-c693-ef146553d087"
      },
      "execution_count": 125,
      "outputs": [
        {
          "output_type": "execute_result",
          "data": {
            "text/plain": [
              "white     61942\n",
              "black     52131\n",
              "silver    36230\n",
              "blue      25160\n",
              "red       23903\n",
              "grey      20200\n",
              "custom     5241\n",
              "brown      5094\n",
              "green      4740\n",
              "orange     1483\n",
              "yellow     1378\n",
              "purple      451\n",
              "Name: paint_color, dtype: int64"
            ]
          },
          "metadata": {},
          "execution_count": 125
        }
      ]
    },
    {
      "cell_type": "code",
      "source": [
        "df['paint_color'] = df['paint_color'].fillna(df['paint_color'].mode()[0])"
      ],
      "metadata": {
        "id": "5iqN-KL44_zx"
      },
      "execution_count": 126,
      "outputs": []
    },
    {
      "cell_type": "code",
      "source": [
        "## Pie Chart for top 6 paint_color column\n",
        "\n",
        "plt.figure(figsize=(10,6))\n",
        "plt.pie(df['paint_color'].value_counts().values[:6],labels=df['paint_color'].value_counts().index[:6],autopct='%1.2f%%')\n",
        "plt.show()"
      ],
      "metadata": {
        "colab": {
          "base_uri": "https://localhost:8080/",
          "height": 357
        },
        "id": "aYMIJg615Mxu",
        "outputId": "161ea222-c019-4e88-e1ef-68ec1ac60060"
      },
      "execution_count": 127,
      "outputs": [
        {
          "output_type": "display_data",
          "data": {
            "text/plain": [
              "<Figure size 720x432 with 1 Axes>"
            ],
            "image/png": "[encoded data removed]"
          },
          "metadata": {}
        }
      ]
    },
    {
      "cell_type": "code",
      "source": [
        "# title_status looks like an Ordinal data . Here will use Label Encoding\n",
        "\n",
        "from sklearn import preprocessing\n",
        "\n",
        "LabelEncoding = preprocessing.LabelEncoder()\n",
        "\n",
        "df['paint_color'] = LabelEncoding.fit_transform(df['paint_color'])"
      ],
      "metadata": {
        "id": "JIuhgcaa5i48"
      },
      "execution_count": 128,
      "outputs": []
    },
    {
      "cell_type": "code",
      "source": [
        "# Removing the missing percentages greater than zero.\n",
        "missing_percentages =df.isna().sum().sort_values(ascending=False)/len(df)\n",
        "missing_percentages"
      ],
      "metadata": {
        "colab": {
          "base_uri": "https://localhost:8080/"
        },
        "id": "DBw8pJFl6Deh",
        "outputId": "d83c2732-6404-4ce0-c1df-2ea395030965"
      },
      "execution_count": 129,
      "outputs": [
        {
          "output_type": "execute_result",
          "data": {
            "text/plain": [
              "price           0.0\n",
              "year            0.0\n",
              "manufacturer    0.0\n",
              "condition       0.0\n",
              "cylinders       0.0\n",
              "fuel            0.0\n",
              "odometer        0.0\n",
              "title_status    0.0\n",
              "transmission    0.0\n",
              "drive           0.0\n",
              "type            0.0\n",
              "paint_color     0.0\n",
              "dtype: float64"
            ]
          },
          "metadata": {},
          "execution_count": 129
        }
      ]
    },
    {
      "cell_type": "code",
      "source": [
        "X_data = df.drop('price',axis =1 )\n",
        "y_data = df['price']"
      ],
      "metadata": {
        "id": "fECdnOpg8LcU"
      },
      "execution_count": 130,
      "outputs": []
    },
    {
      "cell_type": "code",
      "source": [
        "from sklearn.model_selection import train_test_split\n",
        "\n",
        "X_train, X_test, y_train, y_test = train_test_split(X_data, y_data, test_size=0.2, random_state=42)"
      ],
      "metadata": {
        "id": "d6JSFab36URU"
      },
      "execution_count": 131,
      "outputs": []
    },
    {
      "cell_type": "code",
      "source": [
        "print (X_train.shape, y_train.shape)\n",
        "print (X_test.shape, y_test.shape)"
      ],
      "metadata": {
        "colab": {
          "base_uri": "https://localhost:8080/"
        },
        "id": "dhUxZ9Ru7LmF",
        "outputId": "24d515f2-c62f-425e-b76d-36a4675742a7"
      },
      "execution_count": 132,
      "outputs": [
        {
          "output_type": "stream",
          "name": "stdout",
          "text": [
            "(267375, 11) (267375,)\n",
            "(66844, 11) (66844,)\n"
          ]
        }
      ]
    },
    {
      "cell_type": "code",
      "source": [
        "# Feature Scaling\n",
        "from sklearn.preprocessing import StandardScaler\n",
        "\n",
        "sc = StandardScaler()\n",
        "X_train= sc.fit_transform(X_train)\n",
        "X_test= sc.transform(X_test)"
      ],
      "metadata": {
        "id": "km1f6mOB88sx"
      },
      "execution_count": 133,
      "outputs": []
    },
    {
      "cell_type": "code",
      "source": [
        "from sklearn.preprocessing import MinMaxScaler\n",
        "sc = MinMaxScaler()   \n",
        "X_train= sc.fit_transform(X_train)\n",
        "X_test= sc.transform(X_test)"
      ],
      "metadata": {
        "id": "58GTYSCgs5Jt"
      },
      "execution_count": 134,
      "outputs": []
    },
    {
      "cell_type": "code",
      "source": [
        "# Random Forest\n",
        "\n",
        "from sklearn.ensemble import RandomForestRegressor\n",
        "from sklearn import metrics\n",
        "from sklearn.metrics import mean_squared_error as MSE\n",
        "import numpy as np\n",
        "\n",
        "n_est = [10,20,30,40,50,60,70,80,90,100]\n",
        "for i in n_est:\n",
        "  regressor = RandomForestRegressor(n_estimators=i, random_state=42)\n",
        "  regressor.fit(X_train, y_train)\n",
        "  y_pred = regressor.predict(X_test)\n",
        "  print('n_estimators:',i)\n",
        "  print('Mean Absolute Error:', round(metrics.mean_absolute_error(y_test, y_pred),2))\n",
        "  print('Mean Squared Error:', round(metrics.mean_squared_error(y_test, y_pred),2))\n",
        "  print('Root Mean Squared Error:' , round(np.sqrt(metrics.mean_squared_error(y_test, y_pred)),2))"
      ],
      "metadata": {
        "id": "_mE40lgC9ASC",
        "colab": {
          "base_uri": "https://localhost:8080/"
        },
        "outputId": "19e88fbe-e3b1-4dab-a72d-b9464e14b028"
      },
      "execution_count": 135,
      "outputs": [
        {
          "output_type": "stream",
          "name": "stdout",
          "text": [
            "n_estimators: 10\n",
            "Mean Absolute Error: 2198.1\n",
            "Mean Squared Error: 21443107.59\n",
            "Root Mean Squared Error: 4630.67\n",
            "n_estimators: 20\n",
            "Mean Absolute Error: 2136.04\n",
            "Mean Squared Error: 20389992.6\n",
            "Root Mean Squared Error: 4515.53\n",
            "n_estimators: 30\n",
            "Mean Absolute Error: 2111.14\n",
            "Mean Squared Error: 19970005.13\n",
            "Root Mean Squared Error: 4468.78\n",
            "n_estimators: 40\n",
            "Mean Absolute Error: 2101.64\n",
            "Mean Squared Error: 19845242.0\n",
            "Root Mean Squared Error: 4454.8\n",
            "n_estimators: 50\n",
            "Mean Absolute Error: 2093.43\n",
            "Mean Squared Error: 19715631.06\n",
            "Root Mean Squared Error: 4440.23\n",
            "n_estimators: 60\n",
            "Mean Absolute Error: 2090.17\n",
            "Mean Squared Error: 19667192.19\n",
            "Root Mean Squared Error: 4434.77\n",
            "n_estimators: 70\n",
            "Mean Absolute Error: 2086.64\n",
            "Mean Squared Error: 19648150.18\n",
            "Root Mean Squared Error: 4432.62\n",
            "n_estimators: 80\n",
            "Mean Absolute Error: 2084.42\n",
            "Mean Squared Error: 19628815.4\n",
            "Root Mean Squared Error: 4430.44\n",
            "n_estimators: 90\n",
            "Mean Absolute Error: 2083.23\n",
            "Mean Squared Error: 19604210.6\n",
            "Root Mean Squared Error: 4427.66\n",
            "n_estimators: 100\n",
            "Mean Absolute Error: 2082.41\n",
            "Mean Squared Error: 19596934.59\n",
            "Root Mean Squared Error: 4426.84\n"
          ]
        }
      ]
    },
    {
      "cell_type": "code",
      "source": [
        "regressor.score(X_test,y_test)"
      ],
      "metadata": {
        "colab": {
          "base_uri": "https://localhost:8080/"
        },
        "id": "fZ7eg_hZ_PJX",
        "outputId": "18b0e22e-43bc-4499-ce06-591e99f66455"
      },
      "execution_count": 136,
      "outputs": [
        {
          "output_type": "execute_result",
          "data": {
            "text/plain": [
              "0.8770494717736207"
            ]
          },
          "metadata": {},
          "execution_count": 136
        }
      ]
    },
    {
      "cell_type": "code",
      "source": [
        "# Multiple Linear Regression\n",
        "\n",
        "from sklearn.linear_model import LinearRegression\n",
        "\n",
        "Multi_Linear_model = LinearRegression()\n",
        "Multi_Linear_model.fit(X_train, y_train)\n",
        "y_pred = Multi_Linear_model.predict(X_test)\n"
      ],
      "metadata": {
        "id": "mHk1bPrV9NQI"
      },
      "execution_count": 137,
      "outputs": []
    },
    {
      "cell_type": "code",
      "source": [
        "from sklearn.metrics import accuracy_score\n",
        "#accuracy_score(y_test,y_pred)\n",
        "Multi_Linear_model.score(X_test,y_test)"
      ],
      "metadata": {
        "colab": {
          "base_uri": "https://localhost:8080/"
        },
        "id": "0A09z3hs-INt",
        "outputId": "78c62d87-79ca-40f1-bdf0-9549549c8392"
      },
      "execution_count": 138,
      "outputs": [
        {
          "output_type": "execute_result",
          "data": {
            "text/plain": [
              "0.5382922245362045"
            ]
          },
          "metadata": {},
          "execution_count": 138
        }
      ]
    },
    {
      "cell_type": "code",
      "source": [
        "print('Mean Absolute Error:', round(metrics.mean_absolute_error(y_test, y_pred),2))\n",
        "print('Mean Squared Error:', round(metrics.mean_squared_error(y_test, y_pred),2))\n",
        "print('Root Mean Squared Error:', round(np.sqrt(metrics.mean_squared_error(y_test, y_pred)),2))"
      ],
      "metadata": {
        "colab": {
          "base_uri": "https://localhost:8080/"
        },
        "id": "4KiM3YMU9uB1",
        "outputId": "c7f6b6dc-2a19-48a7-d51a-0b151528e19e"
      },
      "execution_count": 139,
      "outputs": [
        {
          "output_type": "stream",
          "name": "stdout",
          "text": [
            "Mean Absolute Error: 6343.95\n",
            "Mean Squared Error: 73591038.64\n",
            "Root Mean Squared Error: 8578.52\n"
          ]
        }
      ]
    },
    {
      "cell_type": "code",
      "source": [
        "  regressor = RandomForestRegressor(n_estimators=200, random_state=42)\n",
        "  regressor.fit(X_train, y_train)\n",
        "  y_pred = regressor.predict(X_test)\n",
        "  print('n_estimators:',i)\n",
        "  print('Mean Absolute Error:', round(metrics.mean_absolute_error(y_test, y_pred),2))\n",
        "  print('Mean Squared Error:', round(metrics.mean_squared_error(y_test, y_pred),2))\n",
        "  print('Root Mean Squared Error:' , round(np.sqrt(metrics.mean_squared_error(y_test, y_pred)),2))"
      ],
      "metadata": {
        "id": "NdLl6Q-Cs6-E",
        "colab": {
          "base_uri": "https://localhost:8080/"
        },
        "outputId": "58124ad2-f1c5-4f78-d96e-78f61535c6df"
      },
      "execution_count": 140,
      "outputs": [
        {
          "output_type": "stream",
          "name": "stdout",
          "text": [
            "n_estimators: 100\n",
            "Mean Absolute Error: 2074.39\n",
            "Mean Squared Error: 19456572.94\n",
            "Root Mean Squared Error: 4410.96\n"
          ]
        }
      ]
    },
    {
      "cell_type": "code",
      "source": [
        "regressor.score(X_test,y_test)"
      ],
      "metadata": {
        "id": "BjX7g-1kvqi4",
        "colab": {
          "base_uri": "https://localhost:8080/"
        },
        "outputId": "be85190b-4351-4dba-a1dc-b0d6ae45dcbc"
      },
      "execution_count": 141,
      "outputs": [
        {
          "output_type": "execute_result",
          "data": {
            "text/plain": [
              "0.8779300961546638"
            ]
          },
          "metadata": {},
          "execution_count": 141
        }
      ]
    },
    {
      "cell_type": "code",
      "source": [
        ""
      ],
      "metadata": {
        "id": "kAAmpCCdAQDB"
      },
      "execution_count": null,
      "outputs": []
    }
  ]
}