{
  "cells": [
    {
      "cell_type": "markdown",
      "metadata": {
        "id": "view-in-github",
        "colab_type": "text"
      },
      "source": [
        "<a href=\"https://colab.research.google.com/github/sainiankur63/Master_Modular_project/blob/main/First_Model_Acurracy_87_95_per.ipynb\" target=\"_parent\"><img src=\"https://colab.research.google.com/assets/colab-badge.svg\" alt=\"Open In Colab\"/></a>"
      ]
    },
    {
      "cell_type": "markdown",
      "source": [
        "**Important Steps** <br>\n",
        "**1) Removing Outliers**\n",
        "\n",
        "1.   PRICE : In between ( 100 USD and 60k USD )\n",
        "2.   YEAR : taking year greater than 1994.5\n",
        "3.   ODOMETER : In between ( 100 miles and 200000 miles)\n",
        "\n",
        "**2) Drop Columns** <br> \n",
        "[ 'id' , 'url', 'region' , 'region_url ', 'VIN' , 'image_url' , 'description' , 'county' , 'state' , 'model' , 'lat' , 'long' ,  'posting_date' ]\n",
        "\n",
        "**3) Null Values**\n",
        "\n",
        "\n",
        "1. df['transmission'] = df['transmission'].fillna(df.transmission.mode()[0])\n",
        "2. df['fuel'] = df['fuel'].fillna(df.fuel.mode()[0]) \n",
        "3. df['title_status'] = df['title_status'].fillna(df['title_status'].mode()[0])\n",
        "4. df['manufacturer'] = df['manufacturer'].fillna(df['manufacturer'].mode()[0])\n",
        "5. df['condition'] = df['condition'].fillna(df['condition'].mode()[0])\n",
        "6. df['cylinders'] = df['cylinders'].fillna(df['cylinders'].mode()[0])\n",
        "7. df['drive'] = df['drive'].fillna(df['drive'].mode()[0])\n",
        "8. df['type'] = df['type'].fillna(df['type'].mode()[0])\n",
        "9. df['paint_color'] = df['paint_color'].fillna(df['paint_color'].mode()[0])\n",
        "\n",
        "**4) Normalizaton**\n",
        "1.   Standard Scalar\n",
        "2.   Min Max Scalar\n",
        "\n",
        "**5) Model Outcome**\n",
        "\n",
        "1.   Random Forest :\n",
        "                    n_estimators : 300\n",
        "                    Model Score: 0.8795253332237268\n",
        "                    Mean Absolute Error: 2102.0\n",
        "                    Mean Squared Error: 20169880.59\n",
        "                    Root Mean Squared Error: 4491.09\n",
        "2.   Multi Linear Regression :\n",
        "                    Model Score: 0.5369479343200012  \n",
        "                    Mean Absolute Error: 6489.38\n",
        "                    Mean Squared Error: 77524222.51\n",
        "                    Root Mean Squared Error: 8804.78  \n",
        "  \n",
        "\n",
        "\n"
      ],
      "metadata": {
        "id": "f1gxe_Cl4e3h"
      }
    },
    {
      "cell_type": "code",
      "execution_count": 1,
      "metadata": {
        "id": "iI2rr89FzFTZ"
      },
      "outputs": [],
      "source": [
        "!pip install pandas numpy pandas matplotlib seaborn opendatasets --quiet"
      ]
    },
    {
      "cell_type": "code",
      "source": [
        ""
      ],
      "metadata": {
        "id": "qnlAyC_26dhE"
      },
      "execution_count": null,
      "outputs": []
    },
    {
      "cell_type": "code",
      "execution_count": 2,
      "metadata": {
        "colab": {
          "base_uri": "https://localhost:8080/"
        },
        "id": "ry150PZVmhRK",
        "outputId": "6d4ec1c1-afe4-4f4c-e375-440817286608"
      },
      "outputs": [
        {
          "output_type": "stream",
          "name": "stdout",
          "text": [
            "Requirement already satisfied: imbalanced-learn in /usr/local/lib/python3.7/dist-packages (0.8.1)\n",
            "Requirement already satisfied: numpy>=1.13.3 in /usr/local/lib/python3.7/dist-packages (from imbalanced-learn) (1.21.5)\n",
            "Requirement already satisfied: scipy>=0.19.1 in /usr/local/lib/python3.7/dist-packages (from imbalanced-learn) (1.4.1)\n",
            "Requirement already satisfied: joblib>=0.11 in /usr/local/lib/python3.7/dist-packages (from imbalanced-learn) (1.1.0)\n",
            "Requirement already satisfied: scikit-learn>=0.24 in /usr/local/lib/python3.7/dist-packages (from imbalanced-learn) (1.0.2)\n",
            "Requirement already satisfied: threadpoolctl>=2.0.0 in /usr/local/lib/python3.7/dist-packages (from scikit-learn>=0.24->imbalanced-learn) (3.1.0)\n"
          ]
        }
      ],
      "source": [
        "!pip install imbalanced-learn"
      ]
    },
    {
      "cell_type": "code",
      "execution_count": 3,
      "metadata": {
        "id": "uM4nK_f1n9zA"
      },
      "outputs": [],
      "source": [
        "# To show all columns' names on a large pandas dataframe\n",
        "import pandas as pd\n",
        "pd.set_option('display.max_columns', None)"
      ]
    },
    {
      "cell_type": "code",
      "execution_count": 4,
      "metadata": {
        "id": "jC_GjB6VzPHO"
      },
      "outputs": [],
      "source": [
        "import pandas as pd\n",
        "import matplotlib\n",
        "import seaborn as sns\n",
        "from matplotlib import pyplot as plt\n",
        "%matplotlib inline\n",
        "matplotlib.rcParams['figure.figsize'] = (8,4)"
      ]
    },
    {
      "cell_type": "code",
      "execution_count": 5,
      "metadata": {
        "colab": {
          "base_uri": "https://localhost:8080/"
        },
        "id": "TMhPoH4QzRW1",
        "outputId": "ccc1044e-a522-46b1-eccb-10a8196b0c8c"
      },
      "outputs": [
        {
          "output_type": "stream",
          "name": "stdout",
          "text": [
            "Skipping, found downloaded files in \"./craigslist-carstrucks-data\" (use force=True to force download)\n"
          ]
        }
      ],
      "source": [
        "import opendatasets as od\n",
        "dataset_url = 'https://www.kaggle.com/austinreese/craigslist-carstrucks-data'\n",
        "\n",
        "\n",
        "od.download(dataset_url)\n",
        "\n",
        "data_dir = './craigslist-carstrucks-data'"
      ]
    },
    {
      "cell_type": "code",
      "execution_count": 6,
      "metadata": {
        "id": "l7KZIphhzZeN"
      },
      "outputs": [],
      "source": [
        "df = pd.read_csv(data_dir+\"/vehicles.csv\")"
      ]
    },
    {
      "cell_type": "markdown",
      "metadata": {
        "id": "fQmf_HGoz1x1"
      },
      "source": [
        "### **Checking outliers for each labels Outlier Detection**"
      ]
    },
    {
      "cell_type": "code",
      "execution_count": 7,
      "metadata": {
        "colab": {
          "base_uri": "https://localhost:8080/"
        },
        "id": "myMEV4SBQQoj",
        "outputId": "93097ff6-2b3f-4c36-8c3c-e32a28fcf5ff"
      },
      "outputs": [
        {
          "output_type": "stream",
          "name": "stdout",
          "text": [
            "<class 'pandas.core.frame.DataFrame'>\n",
            "RangeIndex: 426880 entries, 0 to 426879\n",
            "Data columns (total 26 columns):\n",
            " #   Column        Non-Null Count   Dtype  \n",
            "---  ------        --------------   -----  \n",
            " 0   id            426880 non-null  int64  \n",
            " 1   url           426880 non-null  object \n",
            " 2   region        426880 non-null  object \n",
            " 3   region_url    426880 non-null  object \n",
            " 4   price         426880 non-null  int64  \n",
            " 5   year          425675 non-null  float64\n",
            " 6   manufacturer  409234 non-null  object \n",
            " 7   model         421603 non-null  object \n",
            " 8   condition     252776 non-null  object \n",
            " 9   cylinders     249202 non-null  object \n",
            " 10  fuel          423867 non-null  object \n",
            " 11  odometer      422480 non-null  float64\n",
            " 12  title_status  418638 non-null  object \n",
            " 13  transmission  424324 non-null  object \n",
            " 14  VIN           265838 non-null  object \n",
            " 15  drive         296313 non-null  object \n",
            " 16  size          120519 non-null  object \n",
            " 17  type          334022 non-null  object \n",
            " 18  paint_color   296677 non-null  object \n",
            " 19  image_url     426812 non-null  object \n",
            " 20  description   426810 non-null  object \n",
            " 21  county        0 non-null       float64\n",
            " 22  state         426880 non-null  object \n",
            " 23  lat           420331 non-null  float64\n",
            " 24  long          420331 non-null  float64\n",
            " 25  posting_date  426812 non-null  object \n",
            "dtypes: float64(5), int64(2), object(19)\n",
            "memory usage: 84.7+ MB\n"
          ]
        }
      ],
      "source": [
        "df.info()"
      ]
    },
    {
      "cell_type": "markdown",
      "metadata": {
        "id": "f5dW1yuyOCym"
      },
      "source": [
        "### **First Checking Outliers for Numeric data columns** <br>\n",
        "Numeric columns : [ price ,year , odometer , lat , long ] <br>\n",
        "\n",
        "\n"
      ]
    },
    {
      "cell_type": "code",
      "execution_count": 8,
      "metadata": {
        "colab": {
          "base_uri": "https://localhost:8080/",
          "height": 300
        },
        "id": "FFYyLHtSgRZg",
        "outputId": "e9c2cee2-7c55-4843-8a42-a6f5e68281f9"
      },
      "outputs": [
        {
          "output_type": "execute_result",
          "data": {
            "text/plain": [
              "                   id           price        year      odometer county  \\\n",
              "count      426880.000      426880.000  425675.000    422480.000  0.000   \n",
              "mean   7311486634.224       75199.033    2011.235     98043.331    nan   \n",
              "std       4473170.413    12182282.174       9.452    213881.501    nan   \n",
              "min    7207408119.000           0.000    1900.000         0.000    nan   \n",
              "25%    7308143339.250        5900.000    2008.000     37704.000    nan   \n",
              "50%    7312620821.000       13950.000    2013.000     85548.000    nan   \n",
              "75%    7315253543.500       26485.750    2017.000    133542.500    nan   \n",
              "max    7317101084.000  3736928711.000    2022.000  10000000.000    nan   \n",
              "\n",
              "              lat        long  \n",
              "count  420331.000  420331.000  \n",
              "mean       38.494     -94.749  \n",
              "std         5.842      18.365  \n",
              "min       -84.122    -159.828  \n",
              "25%        34.602    -111.940  \n",
              "50%        39.150     -88.433  \n",
              "75%        42.399     -80.832  \n",
              "max        82.391     173.886  "
            ],
            "text/html": [
              "\n",
              "  <div id=\"df-bf61fa2b-d13f-4c73-a981-85e6fc6bddb6\">\n",
              "    <div class=\"colab-df-container\">\n",
              "      <div>\n",
              "<style scoped>\n",
              "    .dataframe tbody tr th:only-of-type {\n",
              "        vertical-align: middle;\n",
              "    }\n",
              "\n",
              "    .dataframe tbody tr th {\n",
              "        vertical-align: top;\n",
              "    }\n",
              "\n",
              "    .dataframe thead th {\n",
              "        text-align: right;\n",
              "    }\n",
              "</style>\n",
              "<table border=\"1\" class=\"dataframe\">\n",
              "  <thead>\n",
              "    <tr style=\"text-align: right;\">\n",
              "      <th></th>\n",
              "      <th>id</th>\n",
              "      <th>price</th>\n",
              "      <th>year</th>\n",
              "      <th>odometer</th>\n",
              "      <th>county</th>\n",
              "      <th>lat</th>\n",
              "      <th>long</th>\n",
              "    </tr>\n",
              "  </thead>\n",
              "  <tbody>\n",
              "    <tr>\n",
              "      <th>count</th>\n",
              "      <td>426880.000</td>\n",
              "      <td>426880.000</td>\n",
              "      <td>425675.000</td>\n",
              "      <td>422480.000</td>\n",
              "      <td>0.000</td>\n",
              "      <td>420331.000</td>\n",
              "      <td>420331.000</td>\n",
              "    </tr>\n",
              "    <tr>\n",
              "      <th>mean</th>\n",
              "      <td>7311486634.224</td>\n",
              "      <td>75199.033</td>\n",
              "      <td>2011.235</td>\n",
              "      <td>98043.331</td>\n",
              "      <td>nan</td>\n",
              "      <td>38.494</td>\n",
              "      <td>-94.749</td>\n",
              "    </tr>\n",
              "    <tr>\n",
              "      <th>std</th>\n",
              "      <td>4473170.413</td>\n",
              "      <td>12182282.174</td>\n",
              "      <td>9.452</td>\n",
              "      <td>213881.501</td>\n",
              "      <td>nan</td>\n",
              "      <td>5.842</td>\n",
              "      <td>18.365</td>\n",
              "    </tr>\n",
              "    <tr>\n",
              "      <th>min</th>\n",
              "      <td>7207408119.000</td>\n",
              "      <td>0.000</td>\n",
              "      <td>1900.000</td>\n",
              "      <td>0.000</td>\n",
              "      <td>nan</td>\n",
              "      <td>-84.122</td>\n",
              "      <td>-159.828</td>\n",
              "    </tr>\n",
              "    <tr>\n",
              "      <th>25%</th>\n",
              "      <td>7308143339.250</td>\n",
              "      <td>5900.000</td>\n",
              "      <td>2008.000</td>\n",
              "      <td>37704.000</td>\n",
              "      <td>nan</td>\n",
              "      <td>34.602</td>\n",
              "      <td>-111.940</td>\n",
              "    </tr>\n",
              "    <tr>\n",
              "      <th>50%</th>\n",
              "      <td>7312620821.000</td>\n",
              "      <td>13950.000</td>\n",
              "      <td>2013.000</td>\n",
              "      <td>85548.000</td>\n",
              "      <td>nan</td>\n",
              "      <td>39.150</td>\n",
              "      <td>-88.433</td>\n",
              "    </tr>\n",
              "    <tr>\n",
              "      <th>75%</th>\n",
              "      <td>7315253543.500</td>\n",
              "      <td>26485.750</td>\n",
              "      <td>2017.000</td>\n",
              "      <td>133542.500</td>\n",
              "      <td>nan</td>\n",
              "      <td>42.399</td>\n",
              "      <td>-80.832</td>\n",
              "    </tr>\n",
              "    <tr>\n",
              "      <th>max</th>\n",
              "      <td>7317101084.000</td>\n",
              "      <td>3736928711.000</td>\n",
              "      <td>2022.000</td>\n",
              "      <td>10000000.000</td>\n",
              "      <td>nan</td>\n",
              "      <td>82.391</td>\n",
              "      <td>173.886</td>\n",
              "    </tr>\n",
              "  </tbody>\n",
              "</table>\n",
              "</div>\n",
              "      <button class=\"colab-df-convert\" onclick=\"convertToInteractive('df-bf61fa2b-d13f-4c73-a981-85e6fc6bddb6')\"\n",
              "              title=\"Convert this dataframe to an interactive table.\"\n",
              "              style=\"display:none;\">\n",
              "        \n",
              "  <svg xmlns=\"http://www.w3.org/2000/svg\" height=\"24px\"viewBox=\"0 0 24 24\"\n",
              "       width=\"24px\">\n",
              "    <path d=\"M0 0h24v24H0V0z\" fill=\"none\"/>\n",
              "    <path d=\"M18.56 5.44l.94 2.06.94-2.06 2.06-.94-2.06-.94-.94-2.06-.94 2.06-2.06.94zm-11 1L8.5 8.5l.94-2.06 2.06-.94-2.06-.94L8.5 2.5l-.94 2.06-2.06.94zm10 10l.94 2.06.94-2.06 2.06-.94-2.06-.94-.94-2.06-.94 2.06-2.06.94z\"/><path d=\"M17.41 7.96l-1.37-1.37c-.4-.4-.92-.59-1.43-.59-.52 0-1.04.2-1.43.59L10.3 9.45l-7.72 7.72c-.78.78-.78 2.05 0 2.83L4 21.41c.39.39.9.59 1.41.59.51 0 1.02-.2 1.41-.59l7.78-7.78 2.81-2.81c.8-.78.8-2.07 0-2.86zM5.41 20L4 18.59l7.72-7.72 1.47 1.35L5.41 20z\"/>\n",
              "  </svg>\n",
              "      </button>\n",
              "      \n",
              "  <style>\n",
              "    .colab-df-container {\n",
              "      display:flex;\n",
              "      flex-wrap:wrap;\n",
              "      gap: 12px;\n",
              "    }\n",
              "\n",
              "    .colab-df-convert {\n",
              "      background-color: #E8F0FE;\n",
              "      border: none;\n",
              "      border-radius: 50%;\n",
              "      cursor: pointer;\n",
              "      display: none;\n",
              "      fill: #1967D2;\n",
              "      height: 32px;\n",
              "      padding: 0 0 0 0;\n",
              "      width: 32px;\n",
              "    }\n",
              "\n",
              "    .colab-df-convert:hover {\n",
              "      background-color: #E2EBFA;\n",
              "      box-shadow: 0px 1px 2px rgba(60, 64, 67, 0.3), 0px 1px 3px 1px rgba(60, 64, 67, 0.15);\n",
              "      fill: #174EA6;\n",
              "    }\n",
              "\n",
              "    [theme=dark] .colab-df-convert {\n",
              "      background-color: #3B4455;\n",
              "      fill: #D2E3FC;\n",
              "    }\n",
              "\n",
              "    [theme=dark] .colab-df-convert:hover {\n",
              "      background-color: #434B5C;\n",
              "      box-shadow: 0px 1px 3px 1px rgba(0, 0, 0, 0.15);\n",
              "      filter: drop-shadow(0px 1px 2px rgba(0, 0, 0, 0.3));\n",
              "      fill: #FFFFFF;\n",
              "    }\n",
              "  </style>\n",
              "\n",
              "      <script>\n",
              "        const buttonEl =\n",
              "          document.querySelector('#df-bf61fa2b-d13f-4c73-a981-85e6fc6bddb6 button.colab-df-convert');\n",
              "        buttonEl.style.display =\n",
              "          google.colab.kernel.accessAllowed ? 'block' : 'none';\n",
              "\n",
              "        async function convertToInteractive(key) {\n",
              "          const element = document.querySelector('#df-bf61fa2b-d13f-4c73-a981-85e6fc6bddb6');\n",
              "          const dataTable =\n",
              "            await google.colab.kernel.invokeFunction('convertToInteractive',\n",
              "                                                     [key], {});\n",
              "          if (!dataTable) return;\n",
              "\n",
              "          const docLinkHtml = 'Like what you see? Visit the ' +\n",
              "            '<a target=\"_blank\" href=https://colab.research.google.com/notebooks/data_table.ipynb>data table notebook</a>'\n",
              "            + ' to learn more about interactive tables.';\n",
              "          element.innerHTML = '';\n",
              "          dataTable['output_type'] = 'display_data';\n",
              "          await google.colab.output.renderOutput(dataTable, element);\n",
              "          const docLink = document.createElement('div');\n",
              "          docLink.innerHTML = docLinkHtml;\n",
              "          element.appendChild(docLink);\n",
              "        }\n",
              "      </script>\n",
              "    </div>\n",
              "  </div>\n",
              "  "
            ]
          },
          "metadata": {},
          "execution_count": 8
        }
      ],
      "source": [
        "df.describe().applymap(lambda x: f\"{x:0.3f}\")"
      ]
    },
    {
      "cell_type": "code",
      "execution_count": 9,
      "metadata": {
        "colab": {
          "base_uri": "https://localhost:8080/",
          "height": 365
        },
        "id": "72uo6KjUhqpn",
        "outputId": "ef74dc15-f631-4d6a-d337-4722a45031bd"
      },
      "outputs": [
        {
          "output_type": "stream",
          "name": "stderr",
          "text": [
            "/usr/local/lib/python3.7/dist-packages/seaborn/distributions.py:2619: FutureWarning: `distplot` is a deprecated function and will be removed in a future version. Please adapt your code to use either `displot` (a figure-level function with similar flexibility) or `histplot` (an axes-level function for histograms).\n",
            "  warnings.warn(msg, FutureWarning)\n"
          ]
        },
        {
          "output_type": "execute_result",
          "data": {
            "text/plain": [
              "<matplotlib.axes._subplots.AxesSubplot at 0x7f6291d571d0>"
            ]
          },
          "metadata": {},
          "execution_count": 9
        },
        {
          "output_type": "display_data",
          "data": {
            "text/plain": [
              "<Figure size 576x288 with 1 Axes>"
            ],
            "image/png": "[encoded data removed]"
          },
          "metadata": {
            "needs_background": "light"
          }
        }
      ],
      "source": [
        "sns.distplot(df[(df.price >=  100) & (df.price <= 60000)].price)"
      ]
    },
    {
      "cell_type": "code",
      "execution_count": 10,
      "metadata": {
        "colab": {
          "base_uri": "https://localhost:8080/"
        },
        "id": "bPR0cHd-iFsN",
        "outputId": "87f9c21f-86f0-4c2a-f224-bc16dd5516fb"
      },
      "outputs": [
        {
          "output_type": "execute_result",
          "data": {
            "text/plain": [
              "(6320, 26)"
            ]
          },
          "metadata": {},
          "execution_count": 10
        }
      ],
      "source": [
        "df[(df.price >= 60000)].shape"
      ]
    },
    {
      "cell_type": "code",
      "execution_count": 11,
      "metadata": {
        "colab": {
          "base_uri": "https://localhost:8080/"
        },
        "id": "EigHMJJXf9VO",
        "outputId": "ea808a3d-d0c7-4e8d-c2b7-814c19d21d7e"
      },
      "outputs": [
        {
          "output_type": "stream",
          "name": "stdout",
          "text": [
            "-55857.25\n",
            "88243.0\n"
          ]
        },
        {
          "output_type": "execute_result",
          "data": {
            "text/plain": [
              "(None, None)"
            ]
          },
          "metadata": {},
          "execution_count": 11
        }
      ],
      "source": [
        "# Outlier removal in price column\n",
        "\n",
        "#### Lets compute the Interquantile range to calculate the boundaries\n",
        "IQR=df.price.quantile(0.75)-df.price.quantile(0.25)\n",
        "\n",
        "#### Extreme outliers\n",
        "lower_lim_price = df['price'].quantile(0.25)-(IQR*3)\n",
        "upper_lim_price = df['price'].quantile(0.75)+(IQR*3)\n",
        "print(lower_lim_price), print(upper_lim_price)"
      ]
    },
    {
      "cell_type": "code",
      "execution_count": 12,
      "metadata": {
        "colab": {
          "base_uri": "https://localhost:8080/"
        },
        "id": "oIWpfMRVhOCM",
        "outputId": "6e8a3c41-ee3e-4f50-b72d-2d01cc4cd80a"
      },
      "outputs": [
        {
          "output_type": "stream",
          "name": "stdout",
          "text": [
            "-24978.625\n",
            "57364.375\n"
          ]
        },
        {
          "output_type": "execute_result",
          "data": {
            "text/plain": [
              "(None, None)"
            ]
          },
          "metadata": {},
          "execution_count": 12
        }
      ],
      "source": [
        "lower_lim = df['price'].quantile(0.25)-(IQR*1.5)\n",
        "upper_lim = df['price'].quantile(0.75)+(IQR*1.5)\n",
        "print(lower_lim), print(upper_lim)"
      ]
    },
    {
      "cell_type": "code",
      "execution_count": 13,
      "metadata": {
        "id": "N0BxJlPfiYBG"
      },
      "outputs": [],
      "source": [
        "# Taking 100 dollars as min and 60k dollars max value for price\n",
        "\n",
        "df = df[(df.price >=  100) & (df.price <= 60000)]"
      ]
    },
    {
      "cell_type": "code",
      "execution_count": 14,
      "metadata": {
        "colab": {
          "base_uri": "https://localhost:8080/"
        },
        "id": "o98dXAGWjTqy",
        "outputId": "2b891dd5-b9d6-4757-dc15-95896c690840"
      },
      "outputs": [
        {
          "output_type": "execute_result",
          "data": {
            "text/plain": [
              "(384392, 26)"
            ]
          },
          "metadata": {},
          "execution_count": 14
        }
      ],
      "source": [
        "df.shape"
      ]
    },
    {
      "cell_type": "code",
      "execution_count": 15,
      "metadata": {
        "colab": {
          "base_uri": "https://localhost:8080/"
        },
        "id": "S9x0paSDzvx1",
        "outputId": "ec11c942-5ff0-42f3-eb02-58d4f75cb7fc"
      },
      "outputs": [
        {
          "output_type": "execute_result",
          "data": {
            "text/plain": [
              "1018"
            ]
          },
          "metadata": {},
          "execution_count": 15
        }
      ],
      "source": [
        "# Outlier removal in year column\n",
        "\n",
        "df['year'].isnull().sum()"
      ]
    },
    {
      "cell_type": "code",
      "execution_count": 16,
      "metadata": {
        "colab": {
          "base_uri": "https://localhost:8080/",
          "height": 353
        },
        "id": "PLthtpAYz_vF",
        "outputId": "701be54e-1a34-40ec-e06c-1b7cecba6bc2"
      },
      "outputs": [
        {
          "output_type": "stream",
          "name": "stderr",
          "text": [
            "/usr/local/lib/python3.7/dist-packages/seaborn/distributions.py:2619: FutureWarning: `distplot` is a deprecated function and will be removed in a future version. Please adapt your code to use either `displot` (a figure-level function with similar flexibility) or `histplot` (an axes-level function for histograms).\n",
            "  warnings.warn(msg, FutureWarning)\n"
          ]
        },
        {
          "output_type": "execute_result",
          "data": {
            "text/plain": [
              "<matplotlib.axes._subplots.AxesSubplot at 0x7f629b415f90>"
            ]
          },
          "metadata": {},
          "execution_count": 16
        },
        {
          "output_type": "display_data",
          "data": {
            "text/plain": [
              "<Figure size 576x288 with 1 Axes>"
            ],
            "image/png": "[encoded data removed]"
          },
          "metadata": {
            "needs_background": "light"
          }
        }
      ],
      "source": [
        "# checking the distribution of year column\n",
        "import seaborn as sns\n",
        "\n",
        "sns.distplot(df['year'].dropna())"
      ]
    },
    {
      "cell_type": "markdown",
      "metadata": {
        "id": "eLq4Fc8ZS7pn"
      },
      "source": [
        "**Observation:**\n",
        "1. Data is left Skewed"
      ]
    },
    {
      "cell_type": "code",
      "execution_count": 17,
      "metadata": {
        "id": "cLbYr0237sGr"
      },
      "outputs": [],
      "source": [
        "#import seaborn as sns\n",
        "#sns.boxplot(df['year'])"
      ]
    },
    {
      "cell_type": "code",
      "execution_count": 18,
      "metadata": {
        "colab": {
          "base_uri": "https://localhost:8080/",
          "height": 265
        },
        "id": "E9EouBLsPUQI",
        "outputId": "3faf3a13-c85d-417b-d2aa-d0adb90264f7"
      },
      "outputs": [
        {
          "output_type": "display_data",
          "data": {
            "text/plain": [
              "<Figure size 576x288 with 1 Axes>"
            ],
            "image/png": "[encoded data removed]"
          },
          "metadata": {
            "needs_background": "light"
          }
        }
      ],
      "source": [
        "import seaborn as sns\n",
        "figure=df.boxplot(column=\"year\")"
      ]
    },
    {
      "cell_type": "code",
      "execution_count": 19,
      "metadata": {
        "colab": {
          "base_uri": "https://localhost:8080/",
          "height": 279
        },
        "id": "ts7Wnuhc0JVN",
        "outputId": "22e7c559-3b03-4b44-b143-5d4798a6ed9b"
      },
      "outputs": [
        {
          "output_type": "display_data",
          "data": {
            "text/plain": [
              "<Figure size 576x288 with 1 Axes>"
            ],
            "image/png": "[encoded data removed]"
          },
          "metadata": {
            "needs_background": "light"
          }
        }
      ],
      "source": [
        "# Histogram for year column\n",
        "\n",
        "plt.hist(df.year, bins=20, rwidth=0.8)\n",
        "plt.xlabel('year')\n",
        "plt.ylabel('Count')\n",
        "plt.show()"
      ]
    },
    {
      "cell_type": "code",
      "execution_count": 20,
      "metadata": {
        "colab": {
          "base_uri": "https://localhost:8080/"
        },
        "id": "YL9mBJuMR6Cf",
        "outputId": "f73d30c0-e67d-4458-819b-7ef130ef492d"
      },
      "outputs": [
        {
          "output_type": "execute_result",
          "data": {
            "text/plain": [
              "count    383374.000000\n",
              "mean       2010.955506\n",
              "std           9.504683\n",
              "min        1900.000000\n",
              "25%        2008.000000\n",
              "50%        2013.000000\n",
              "75%        2017.000000\n",
              "max        2022.000000\n",
              "Name: year, dtype: float64"
            ]
          },
          "metadata": {},
          "execution_count": 20
        }
      ],
      "source": [
        "df['year'].describe()"
      ]
    },
    {
      "cell_type": "markdown",
      "metadata": {
        "id": "R1Ccuiph03F_"
      },
      "source": [
        "As per the above graphs it is clearly shows that data of year is left skewed. \n",
        "For skewed Data , IQR techniqie is implement to remove outliers"
      ]
    },
    {
      "cell_type": "code",
      "execution_count": 21,
      "metadata": {
        "id": "bMlmvUHRVIsV"
      },
      "outputs": [],
      "source": [
        "#### Lets compute the Interquantile range to calculate the boundaries\n",
        "IQR=df.year.quantile(0.75)-df.year.quantile(0.25)"
      ]
    },
    {
      "cell_type": "code",
      "execution_count": 22,
      "metadata": {
        "colab": {
          "base_uri": "https://localhost:8080/"
        },
        "id": "REg-qnGEVJ-n",
        "outputId": "75c53235-7df6-4dba-e2ec-38f560b1082d"
      },
      "outputs": [
        {
          "output_type": "stream",
          "name": "stdout",
          "text": [
            "1994.5\n",
            "2030.5\n"
          ]
        },
        {
          "output_type": "execute_result",
          "data": {
            "text/plain": [
              "(None, None)"
            ]
          },
          "metadata": {},
          "execution_count": 22
        }
      ],
      "source": [
        "lower_lim_year = df['year'].quantile(0.25)-(IQR*1.5)\n",
        "upper_lim_year = df['year'].quantile(0.75)+(IQR*1.5)\n",
        "print(lower_lim_year), print(upper_lim_year)"
      ]
    },
    {
      "cell_type": "code",
      "execution_count": 23,
      "metadata": {
        "colab": {
          "base_uri": "https://localhost:8080/",
          "height": 300
        },
        "id": "Swuo0clTV6F3",
        "outputId": "b6e8307e-a899-4e6e-dbcc-3aa49c503b6a"
      },
      "outputs": [
        {
          "output_type": "execute_result",
          "data": {
            "text/plain": [
              "                   id       price        year      odometer county  \\\n",
              "count      384392.000  384392.000  383374.000    382171.000  0.000   \n",
              "mean   7311481807.202   18095.776    2010.956     99475.075    nan   \n",
              "std       4475633.430   13008.848       9.505    199702.266    nan   \n",
              "min    7207408119.000     100.000    1900.000         0.000    nan   \n",
              "25%    7308130373.250    7295.000    2008.000     39348.000    nan   \n",
              "50%    7312630621.500   14999.000    2013.000     88706.000    nan   \n",
              "75%    7315251517.000   26990.000    2017.000    136462.000    nan   \n",
              "max    7317101084.000   60000.000    2022.000  10000000.000    nan   \n",
              "\n",
              "              lat        long  \n",
              "count  380930.000  380930.000  \n",
              "mean       38.529     -94.354  \n",
              "std         5.837      18.137  \n",
              "min       -84.122    -159.720  \n",
              "25%        34.736    -110.962  \n",
              "50%        39.260     -88.001  \n",
              "75%        42.364     -80.830  \n",
              "max        82.391     167.630  "
            ],
            "text/html": [
              "\n",
              "  <div id=\"df-8c214c06-6f63-4440-aa9d-5b59a65436c2\">\n",
              "    <div class=\"colab-df-container\">\n",
              "      <div>\n",
              "<style scoped>\n",
              "    .dataframe tbody tr th:only-of-type {\n",
              "        vertical-align: middle;\n",
              "    }\n",
              "\n",
              "    .dataframe tbody tr th {\n",
              "        vertical-align: top;\n",
              "    }\n",
              "\n",
              "    .dataframe thead th {\n",
              "        text-align: right;\n",
              "    }\n",
              "</style>\n",
              "<table border=\"1\" class=\"dataframe\">\n",
              "  <thead>\n",
              "    <tr style=\"text-align: right;\">\n",
              "      <th></th>\n",
              "      <th>id</th>\n",
              "      <th>price</th>\n",
              "      <th>year</th>\n",
              "      <th>odometer</th>\n",
              "      <th>county</th>\n",
              "      <th>lat</th>\n",
              "      <th>long</th>\n",
              "    </tr>\n",
              "  </thead>\n",
              "  <tbody>\n",
              "    <tr>\n",
              "      <th>count</th>\n",
              "      <td>384392.000</td>\n",
              "      <td>384392.000</td>\n",
              "      <td>383374.000</td>\n",
              "      <td>382171.000</td>\n",
              "      <td>0.000</td>\n",
              "      <td>380930.000</td>\n",
              "      <td>380930.000</td>\n",
              "    </tr>\n",
              "    <tr>\n",
              "      <th>mean</th>\n",
              "      <td>7311481807.202</td>\n",
              "      <td>18095.776</td>\n",
              "      <td>2010.956</td>\n",
              "      <td>99475.075</td>\n",
              "      <td>nan</td>\n",
              "      <td>38.529</td>\n",
              "      <td>-94.354</td>\n",
              "    </tr>\n",
              "    <tr>\n",
              "      <th>std</th>\n",
              "      <td>4475633.430</td>\n",
              "      <td>13008.848</td>\n",
              "      <td>9.505</td>\n",
              "      <td>199702.266</td>\n",
              "      <td>nan</td>\n",
              "      <td>5.837</td>\n",
              "      <td>18.137</td>\n",
              "    </tr>\n",
              "    <tr>\n",
              "      <th>min</th>\n",
              "      <td>7207408119.000</td>\n",
              "      <td>100.000</td>\n",
              "      <td>1900.000</td>\n",
              "      <td>0.000</td>\n",
              "      <td>nan</td>\n",
              "      <td>-84.122</td>\n",
              "      <td>-159.720</td>\n",
              "    </tr>\n",
              "    <tr>\n",
              "      <th>25%</th>\n",
              "      <td>7308130373.250</td>\n",
              "      <td>7295.000</td>\n",
              "      <td>2008.000</td>\n",
              "      <td>39348.000</td>\n",
              "      <td>nan</td>\n",
              "      <td>34.736</td>\n",
              "      <td>-110.962</td>\n",
              "    </tr>\n",
              "    <tr>\n",
              "      <th>50%</th>\n",
              "      <td>7312630621.500</td>\n",
              "      <td>14999.000</td>\n",
              "      <td>2013.000</td>\n",
              "      <td>88706.000</td>\n",
              "      <td>nan</td>\n",
              "      <td>39.260</td>\n",
              "      <td>-88.001</td>\n",
              "    </tr>\n",
              "    <tr>\n",
              "      <th>75%</th>\n",
              "      <td>7315251517.000</td>\n",
              "      <td>26990.000</td>\n",
              "      <td>2017.000</td>\n",
              "      <td>136462.000</td>\n",
              "      <td>nan</td>\n",
              "      <td>42.364</td>\n",
              "      <td>-80.830</td>\n",
              "    </tr>\n",
              "    <tr>\n",
              "      <th>max</th>\n",
              "      <td>7317101084.000</td>\n",
              "      <td>60000.000</td>\n",
              "      <td>2022.000</td>\n",
              "      <td>10000000.000</td>\n",
              "      <td>nan</td>\n",
              "      <td>82.391</td>\n",
              "      <td>167.630</td>\n",
              "    </tr>\n",
              "  </tbody>\n",
              "</table>\n",
              "</div>\n",
              "      <button class=\"colab-df-convert\" onclick=\"convertToInteractive('df-8c214c06-6f63-4440-aa9d-5b59a65436c2')\"\n",
              "              title=\"Convert this dataframe to an interactive table.\"\n",
              "              style=\"display:none;\">\n",
              "        \n",
              "  <svg xmlns=\"http://www.w3.org/2000/svg\" height=\"24px\"viewBox=\"0 0 24 24\"\n",
              "       width=\"24px\">\n",
              "    <path d=\"M0 0h24v24H0V0z\" fill=\"none\"/>\n",
              "    <path d=\"M18.56 5.44l.94 2.06.94-2.06 2.06-.94-2.06-.94-.94-2.06-.94 2.06-2.06.94zm-11 1L8.5 8.5l.94-2.06 2.06-.94-2.06-.94L8.5 2.5l-.94 2.06-2.06.94zm10 10l.94 2.06.94-2.06 2.06-.94-2.06-.94-.94-2.06-.94 2.06-2.06.94z\"/><path d=\"M17.41 7.96l-1.37-1.37c-.4-.4-.92-.59-1.43-.59-.52 0-1.04.2-1.43.59L10.3 9.45l-7.72 7.72c-.78.78-.78 2.05 0 2.83L4 21.41c.39.39.9.59 1.41.59.51 0 1.02-.2 1.41-.59l7.78-7.78 2.81-2.81c.8-.78.8-2.07 0-2.86zM5.41 20L4 18.59l7.72-7.72 1.47 1.35L5.41 20z\"/>\n",
              "  </svg>\n",
              "      </button>\n",
              "      \n",
              "  <style>\n",
              "    .colab-df-container {\n",
              "      display:flex;\n",
              "      flex-wrap:wrap;\n",
              "      gap: 12px;\n",
              "    }\n",
              "\n",
              "    .colab-df-convert {\n",
              "      background-color: #E8F0FE;\n",
              "      border: none;\n",
              "      border-radius: 50%;\n",
              "      cursor: pointer;\n",
              "      display: none;\n",
              "      fill: #1967D2;\n",
              "      height: 32px;\n",
              "      padding: 0 0 0 0;\n",
              "      width: 32px;\n",
              "    }\n",
              "\n",
              "    .colab-df-convert:hover {\n",
              "      background-color: #E2EBFA;\n",
              "      box-shadow: 0px 1px 2px rgba(60, 64, 67, 0.3), 0px 1px 3px 1px rgba(60, 64, 67, 0.15);\n",
              "      fill: #174EA6;\n",
              "    }\n",
              "\n",
              "    [theme=dark] .colab-df-convert {\n",
              "      background-color: #3B4455;\n",
              "      fill: #D2E3FC;\n",
              "    }\n",
              "\n",
              "    [theme=dark] .colab-df-convert:hover {\n",
              "      background-color: #434B5C;\n",
              "      box-shadow: 0px 1px 3px 1px rgba(0, 0, 0, 0.15);\n",
              "      filter: drop-shadow(0px 1px 2px rgba(0, 0, 0, 0.3));\n",
              "      fill: #FFFFFF;\n",
              "    }\n",
              "  </style>\n",
              "\n",
              "      <script>\n",
              "        const buttonEl =\n",
              "          document.querySelector('#df-8c214c06-6f63-4440-aa9d-5b59a65436c2 button.colab-df-convert');\n",
              "        buttonEl.style.display =\n",
              "          google.colab.kernel.accessAllowed ? 'block' : 'none';\n",
              "\n",
              "        async function convertToInteractive(key) {\n",
              "          const element = document.querySelector('#df-8c214c06-6f63-4440-aa9d-5b59a65436c2');\n",
              "          const dataTable =\n",
              "            await google.colab.kernel.invokeFunction('convertToInteractive',\n",
              "                                                     [key], {});\n",
              "          if (!dataTable) return;\n",
              "\n",
              "          const docLinkHtml = 'Like what you see? Visit the ' +\n",
              "            '<a target=\"_blank\" href=https://colab.research.google.com/notebooks/data_table.ipynb>data table notebook</a>'\n",
              "            + ' to learn more about interactive tables.';\n",
              "          element.innerHTML = '';\n",
              "          dataTable['output_type'] = 'display_data';\n",
              "          await google.colab.output.renderOutput(dataTable, element);\n",
              "          const docLink = document.createElement('div');\n",
              "          docLink.innerHTML = docLinkHtml;\n",
              "          element.appendChild(docLink);\n",
              "        }\n",
              "      </script>\n",
              "    </div>\n",
              "  </div>\n",
              "  "
            ]
          },
          "metadata": {},
          "execution_count": 23
        }
      ],
      "source": [
        "#### Extreme outliers\n",
        "#lower_bridge=df['year'].quantile(0.25)-(IQR*3)\n",
        "#upper_bridge=df['year'].quantile(0.75)+(IQR*3)\n",
        "#print(lower_bridge), print(upper_bridge)\n",
        "\n",
        "df.describe().applymap(lambda x: f\"{x:0.3f}\")"
      ]
    },
    {
      "cell_type": "code",
      "execution_count": 24,
      "metadata": {
        "id": "CAloWRq10QVd"
      },
      "outputs": [],
      "source": [
        "#Q1 = df.year.quantile(0.25)\n",
        "#Q3 = df.year.quantile(0.75)\n",
        "#Q1, Q3"
      ]
    },
    {
      "cell_type": "code",
      "execution_count": 25,
      "metadata": {
        "id": "aLuw3V-_05eP"
      },
      "outputs": [],
      "source": [
        "#IQR = Q3 - Q1\n",
        "#IQR"
      ]
    },
    {
      "cell_type": "code",
      "execution_count": 26,
      "metadata": {
        "id": "Hio3EYxI1Jt6"
      },
      "outputs": [],
      "source": [
        "#lower_limit = Q1 - 1.5*IQR\n",
        "#upper_limit = Q3 + 1.5*IQR\n",
        "#lower_limit, upper_limit"
      ]
    },
    {
      "cell_type": "code",
      "execution_count": 27,
      "metadata": {
        "colab": {
          "base_uri": "https://localhost:8080/"
        },
        "id": "SYVOAjaCUBcK",
        "outputId": "7bf469ab-9e41-4d0a-c05c-8af33383b625"
      },
      "outputs": [
        {
          "output_type": "execute_result",
          "data": {
            "text/plain": [
              "(384392, 26)"
            ]
          },
          "metadata": {},
          "execution_count": 27
        }
      ],
      "source": [
        "df.shape"
      ]
    },
    {
      "cell_type": "code",
      "execution_count": 28,
      "metadata": {
        "id": "yky5TGvw1SoB"
      },
      "outputs": [],
      "source": [
        "# Removing Outliers in year c\n",
        "\n",
        "df = df[(df['year'] >= lower_lim_year)]"
      ]
    },
    {
      "cell_type": "code",
      "execution_count": 29,
      "metadata": {
        "colab": {
          "base_uri": "https://localhost:8080/"
        },
        "id": "BM4RdVav1aGZ",
        "outputId": "dbd8ed2e-5eed-4fa8-db62-c19407910118"
      },
      "outputs": [
        {
          "output_type": "stream",
          "name": "stdout",
          "text": [
            "Shape of dataset after Outliers removal in YEAR column :  368395\n"
          ]
        }
      ],
      "source": [
        "print(\"Shape of dataset after Outliers removal in YEAR column : \",len(df))"
      ]
    },
    {
      "cell_type": "markdown",
      "metadata": {
        "id": "n7Xj1Hb6X3zc"
      },
      "source": [
        "**Outlier removal for odometer column**"
      ]
    },
    {
      "cell_type": "code",
      "execution_count": 30,
      "metadata": {
        "colab": {
          "base_uri": "https://localhost:8080/",
          "height": 365
        },
        "id": "5QVpaaOf8Rzx",
        "outputId": "a8889dc6-3a3d-4988-8bb8-159809641e09"
      },
      "outputs": [
        {
          "output_type": "stream",
          "name": "stderr",
          "text": [
            "/usr/local/lib/python3.7/dist-packages/seaborn/distributions.py:2619: FutureWarning: `distplot` is a deprecated function and will be removed in a future version. Please adapt your code to use either `displot` (a figure-level function with similar flexibility) or `histplot` (an axes-level function for histograms).\n",
            "  warnings.warn(msg, FutureWarning)\n"
          ]
        },
        {
          "output_type": "execute_result",
          "data": {
            "text/plain": [
              "<matplotlib.axes._subplots.AxesSubplot at 0x7f629335abd0>"
            ]
          },
          "metadata": {},
          "execution_count": 30
        },
        {
          "output_type": "display_data",
          "data": {
            "text/plain": [
              "<Figure size 576x288 with 1 Axes>"
            ],
            "image/png": "[encoded data removed]"
          },
          "metadata": {
            "needs_background": "light"
          }
        }
      ],
      "source": [
        "# checking the distribution of odometer column\n",
        "\n",
        "import seaborn as sns\n",
        "\n",
        "sns.distplot(df['odometer'].dropna())"
      ]
    },
    {
      "cell_type": "code",
      "execution_count": 31,
      "metadata": {
        "colab": {
          "base_uri": "https://localhost:8080/",
          "height": 279
        },
        "id": "k_IGMFk98cfX",
        "outputId": "2175f67a-b23f-4e26-bda6-7ef26cb9d3bc"
      },
      "outputs": [
        {
          "output_type": "display_data",
          "data": {
            "text/plain": [
              "<Figure size 576x288 with 1 Axes>"
            ],
            "image/png": "[encoded data removed]"
          },
          "metadata": {
            "needs_background": "light"
          }
        }
      ],
      "source": [
        "# creating boxplot for odometer column\n",
        "\n",
        "plt.hist(df.odometer, bins=20, rwidth=0.8)      \n",
        "plt.xlabel('odometer')\n",
        "plt.ylabel('Count')\n",
        "plt.show()"
      ]
    },
    {
      "cell_type": "code",
      "execution_count": 32,
      "metadata": {
        "colab": {
          "base_uri": "https://localhost:8080/",
          "height": 300
        },
        "id": "KpnEro87EBWV",
        "outputId": "4b4873ba-1f2e-4f8a-8d8b-9da632952e27"
      },
      "outputs": [
        {
          "output_type": "execute_result",
          "data": {
            "text/plain": [
              "                   id       price        year      odometer county  \\\n",
              "count      368395.000  368395.000  368395.000    366261.000  0.000   \n",
              "mean   7311472143.653   18261.588    2012.395     97375.126    nan   \n",
              "std       4388921.829   12999.855       5.516    140460.904    nan   \n",
              "min    7301583321.000     100.000    1995.000         0.000    nan   \n",
              "25%    7308081190.000    7499.000    2009.000     39664.000    nan   \n",
              "50%    7312585273.000   15500.000    2013.000     89364.000    nan   \n",
              "75%    7315240234.000   26999.000    2017.000    137000.000    nan   \n",
              "max    7317101084.000   60000.000    2022.000  10000000.000    nan   \n",
              "\n",
              "              lat        long  \n",
              "count  365028.000  365028.000  \n",
              "mean       38.533     -94.252  \n",
              "std         5.841      18.133  \n",
              "min       -84.122    -159.720  \n",
              "25%        34.756    -110.960  \n",
              "50%        39.262     -87.923  \n",
              "75%        42.370     -80.790  \n",
              "max        82.253     167.630  "
            ],
            "text/html": [
              "\n",
              "  <div id=\"df-75256c1f-d994-4998-958e-325bc283aea2\">\n",
              "    <div class=\"colab-df-container\">\n",
              "      <div>\n",
              "<style scoped>\n",
              "    .dataframe tbody tr th:only-of-type {\n",
              "        vertical-align: middle;\n",
              "    }\n",
              "\n",
              "    .dataframe tbody tr th {\n",
              "        vertical-align: top;\n",
              "    }\n",
              "\n",
              "    .dataframe thead th {\n",
              "        text-align: right;\n",
              "    }\n",
              "</style>\n",
              "<table border=\"1\" class=\"dataframe\">\n",
              "  <thead>\n",
              "    <tr style=\"text-align: right;\">\n",
              "      <th></th>\n",
              "      <th>id</th>\n",
              "      <th>price</th>\n",
              "      <th>year</th>\n",
              "      <th>odometer</th>\n",
              "      <th>county</th>\n",
              "      <th>lat</th>\n",
              "      <th>long</th>\n",
              "    </tr>\n",
              "  </thead>\n",
              "  <tbody>\n",
              "    <tr>\n",
              "      <th>count</th>\n",
              "      <td>368395.000</td>\n",
              "      <td>368395.000</td>\n",
              "      <td>368395.000</td>\n",
              "      <td>366261.000</td>\n",
              "      <td>0.000</td>\n",
              "      <td>365028.000</td>\n",
              "      <td>365028.000</td>\n",
              "    </tr>\n",
              "    <tr>\n",
              "      <th>mean</th>\n",
              "      <td>7311472143.653</td>\n",
              "      <td>18261.588</td>\n",
              "      <td>2012.395</td>\n",
              "      <td>97375.126</td>\n",
              "      <td>nan</td>\n",
              "      <td>38.533</td>\n",
              "      <td>-94.252</td>\n",
              "    </tr>\n",
              "    <tr>\n",
              "      <th>std</th>\n",
              "      <td>4388921.829</td>\n",
              "      <td>12999.855</td>\n",
              "      <td>5.516</td>\n",
              "      <td>140460.904</td>\n",
              "      <td>nan</td>\n",
              "      <td>5.841</td>\n",
              "      <td>18.133</td>\n",
              "    </tr>\n",
              "    <tr>\n",
              "      <th>min</th>\n",
              "      <td>7301583321.000</td>\n",
              "      <td>100.000</td>\n",
              "      <td>1995.000</td>\n",
              "      <td>0.000</td>\n",
              "      <td>nan</td>\n",
              "      <td>-84.122</td>\n",
              "      <td>-159.720</td>\n",
              "    </tr>\n",
              "    <tr>\n",
              "      <th>25%</th>\n",
              "      <td>7308081190.000</td>\n",
              "      <td>7499.000</td>\n",
              "      <td>2009.000</td>\n",
              "      <td>39664.000</td>\n",
              "      <td>nan</td>\n",
              "      <td>34.756</td>\n",
              "      <td>-110.960</td>\n",
              "    </tr>\n",
              "    <tr>\n",
              "      <th>50%</th>\n",
              "      <td>7312585273.000</td>\n",
              "      <td>15500.000</td>\n",
              "      <td>2013.000</td>\n",
              "      <td>89364.000</td>\n",
              "      <td>nan</td>\n",
              "      <td>39.262</td>\n",
              "      <td>-87.923</td>\n",
              "    </tr>\n",
              "    <tr>\n",
              "      <th>75%</th>\n",
              "      <td>7315240234.000</td>\n",
              "      <td>26999.000</td>\n",
              "      <td>2017.000</td>\n",
              "      <td>137000.000</td>\n",
              "      <td>nan</td>\n",
              "      <td>42.370</td>\n",
              "      <td>-80.790</td>\n",
              "    </tr>\n",
              "    <tr>\n",
              "      <th>max</th>\n",
              "      <td>7317101084.000</td>\n",
              "      <td>60000.000</td>\n",
              "      <td>2022.000</td>\n",
              "      <td>10000000.000</td>\n",
              "      <td>nan</td>\n",
              "      <td>82.253</td>\n",
              "      <td>167.630</td>\n",
              "    </tr>\n",
              "  </tbody>\n",
              "</table>\n",
              "</div>\n",
              "      <button class=\"colab-df-convert\" onclick=\"convertToInteractive('df-75256c1f-d994-4998-958e-325bc283aea2')\"\n",
              "              title=\"Convert this dataframe to an interactive table.\"\n",
              "              style=\"display:none;\">\n",
              "        \n",
              "  <svg xmlns=\"http://www.w3.org/2000/svg\" height=\"24px\"viewBox=\"0 0 24 24\"\n",
              "       width=\"24px\">\n",
              "    <path d=\"M0 0h24v24H0V0z\" fill=\"none\"/>\n",
              "    <path d=\"M18.56 5.44l.94 2.06.94-2.06 2.06-.94-2.06-.94-.94-2.06-.94 2.06-2.06.94zm-11 1L8.5 8.5l.94-2.06 2.06-.94-2.06-.94L8.5 2.5l-.94 2.06-2.06.94zm10 10l.94 2.06.94-2.06 2.06-.94-2.06-.94-.94-2.06-.94 2.06-2.06.94z\"/><path d=\"M17.41 7.96l-1.37-1.37c-.4-.4-.92-.59-1.43-.59-.52 0-1.04.2-1.43.59L10.3 9.45l-7.72 7.72c-.78.78-.78 2.05 0 2.83L4 21.41c.39.39.9.59 1.41.59.51 0 1.02-.2 1.41-.59l7.78-7.78 2.81-2.81c.8-.78.8-2.07 0-2.86zM5.41 20L4 18.59l7.72-7.72 1.47 1.35L5.41 20z\"/>\n",
              "  </svg>\n",
              "      </button>\n",
              "      \n",
              "  <style>\n",
              "    .colab-df-container {\n",
              "      display:flex;\n",
              "      flex-wrap:wrap;\n",
              "      gap: 12px;\n",
              "    }\n",
              "\n",
              "    .colab-df-convert {\n",
              "      background-color: #E8F0FE;\n",
              "      border: none;\n",
              "      border-radius: 50%;\n",
              "      cursor: pointer;\n",
              "      display: none;\n",
              "      fill: #1967D2;\n",
              "      height: 32px;\n",
              "      padding: 0 0 0 0;\n",
              "      width: 32px;\n",
              "    }\n",
              "\n",
              "    .colab-df-convert:hover {\n",
              "      background-color: #E2EBFA;\n",
              "      box-shadow: 0px 1px 2px rgba(60, 64, 67, 0.3), 0px 1px 3px 1px rgba(60, 64, 67, 0.15);\n",
              "      fill: #174EA6;\n",
              "    }\n",
              "\n",
              "    [theme=dark] .colab-df-convert {\n",
              "      background-color: #3B4455;\n",
              "      fill: #D2E3FC;\n",
              "    }\n",
              "\n",
              "    [theme=dark] .colab-df-convert:hover {\n",
              "      background-color: #434B5C;\n",
              "      box-shadow: 0px 1px 3px 1px rgba(0, 0, 0, 0.15);\n",
              "      filter: drop-shadow(0px 1px 2px rgba(0, 0, 0, 0.3));\n",
              "      fill: #FFFFFF;\n",
              "    }\n",
              "  </style>\n",
              "\n",
              "      <script>\n",
              "        const buttonEl =\n",
              "          document.querySelector('#df-75256c1f-d994-4998-958e-325bc283aea2 button.colab-df-convert');\n",
              "        buttonEl.style.display =\n",
              "          google.colab.kernel.accessAllowed ? 'block' : 'none';\n",
              "\n",
              "        async function convertToInteractive(key) {\n",
              "          const element = document.querySelector('#df-75256c1f-d994-4998-958e-325bc283aea2');\n",
              "          const dataTable =\n",
              "            await google.colab.kernel.invokeFunction('convertToInteractive',\n",
              "                                                     [key], {});\n",
              "          if (!dataTable) return;\n",
              "\n",
              "          const docLinkHtml = 'Like what you see? Visit the ' +\n",
              "            '<a target=\"_blank\" href=https://colab.research.google.com/notebooks/data_table.ipynb>data table notebook</a>'\n",
              "            + ' to learn more about interactive tables.';\n",
              "          element.innerHTML = '';\n",
              "          dataTable['output_type'] = 'display_data';\n",
              "          await google.colab.output.renderOutput(dataTable, element);\n",
              "          const docLink = document.createElement('div');\n",
              "          docLink.innerHTML = docLinkHtml;\n",
              "          element.appendChild(docLink);\n",
              "        }\n",
              "      </script>\n",
              "    </div>\n",
              "  </div>\n",
              "  "
            ]
          },
          "metadata": {},
          "execution_count": 32
        }
      ],
      "source": [
        "df.describe().applymap(lambda x: f\"{x:0.3f}\")"
      ]
    },
    {
      "cell_type": "code",
      "execution_count": 33,
      "metadata": {
        "colab": {
          "base_uri": "https://localhost:8080/",
          "height": 276
        },
        "id": "-8EpjGuGX9op",
        "outputId": "19891368-7e90-492e-88ef-978c8f98656e"
      },
      "outputs": [
        {
          "output_type": "display_data",
          "data": {
            "text/plain": [
              "<Figure size 576x288 with 1 Axes>"
            ],
            "image/png": "[encoded data removed]"
          },
          "metadata": {
            "needs_background": "light"
          }
        }
      ],
      "source": [
        "figure=df.boxplot(column=\"odometer\")"
      ]
    },
    {
      "cell_type": "code",
      "execution_count": 34,
      "metadata": {
        "colab": {
          "base_uri": "https://localhost:8080/",
          "height": 353
        },
        "id": "vNgsP-eoYRWi",
        "outputId": "54bd158f-ec7f-4d38-d35b-f74efe538b43"
      },
      "outputs": [
        {
          "output_type": "stream",
          "name": "stderr",
          "text": [
            "/usr/local/lib/python3.7/dist-packages/seaborn/_decorators.py:43: FutureWarning: Pass the following variable as a keyword arg: x. From version 0.12, the only valid positional argument will be `data`, and passing other arguments without an explicit keyword will result in an error or misinterpretation.\n",
            "  FutureWarning\n"
          ]
        },
        {
          "output_type": "execute_result",
          "data": {
            "text/plain": [
              "<matplotlib.axes._subplots.AxesSubplot at 0x7f6298d45690>"
            ]
          },
          "metadata": {},
          "execution_count": 34
        },
        {
          "output_type": "display_data",
          "data": {
            "text/plain": [
              "<Figure size 576x288 with 1 Axes>"
            ],
            "image/png": "[encoded data removed]"
          },
          "metadata": {
            "needs_background": "light"
          }
        }
      ],
      "source": [
        "sns.boxplot(df['odometer'])"
      ]
    },
    {
      "cell_type": "code",
      "execution_count": 35,
      "metadata": {
        "colab": {
          "base_uri": "https://localhost:8080/",
          "height": 365
        },
        "id": "NAE1NyUJj0Gf",
        "outputId": "37627524-c0b5-42a0-bb0d-56f814e65fb5"
      },
      "outputs": [
        {
          "output_type": "stream",
          "name": "stderr",
          "text": [
            "/usr/local/lib/python3.7/dist-packages/seaborn/distributions.py:2619: FutureWarning: `distplot` is a deprecated function and will be removed in a future version. Please adapt your code to use either `displot` (a figure-level function with similar flexibility) or `histplot` (an axes-level function for histograms).\n",
            "  warnings.warn(msg, FutureWarning)\n"
          ]
        },
        {
          "output_type": "execute_result",
          "data": {
            "text/plain": [
              "<matplotlib.axes._subplots.AxesSubplot at 0x7f629b470190>"
            ]
          },
          "metadata": {},
          "execution_count": 35
        },
        {
          "output_type": "display_data",
          "data": {
            "text/plain": [
              "<Figure size 576x288 with 1 Axes>"
            ],
            "image/png": "[encoded data removed]"
          },
          "metadata": {
            "needs_background": "light"
          }
        }
      ],
      "source": [
        "sns.distplot(df[(df.odometer >= 100) & (df.odometer <= 200000)].odometer)"
      ]
    },
    {
      "cell_type": "code",
      "execution_count": 36,
      "metadata": {
        "colab": {
          "base_uri": "https://localhost:8080/"
        },
        "id": "eB4S2WDlkYIb",
        "outputId": "cb84e07e-86d5-467e-8088-888fcf913f93"
      },
      "outputs": [
        {
          "output_type": "execute_result",
          "data": {
            "text/plain": [
              "(6148, 26)"
            ]
          },
          "metadata": {},
          "execution_count": 36
        }
      ],
      "source": [
        "df[df.odometer >= 250000].shape"
      ]
    },
    {
      "cell_type": "markdown",
      "metadata": {
        "id": "qm7e6hlWY4fC"
      },
      "source": [
        "Odometer data is right skewed as per the above graphs. To tackle this data , IQR techinique is implemented"
      ]
    },
    {
      "cell_type": "code",
      "execution_count": 37,
      "metadata": {
        "colab": {
          "base_uri": "https://localhost:8080/"
        },
        "id": "ZaMtsSkzYYDp",
        "outputId": "30ee3fc7-0024-453c-f017-2c00e66a98b6"
      },
      "outputs": [
        {
          "output_type": "stream",
          "name": "stdout",
          "text": [
            "39650.5\n",
            "137013.5\n"
          ]
        },
        {
          "output_type": "execute_result",
          "data": {
            "text/plain": [
              "(None, None)"
            ]
          },
          "metadata": {},
          "execution_count": 37
        }
      ],
      "source": [
        "lower_lim_odometer = df['odometer'].quantile(0.25)-(IQR*1.5)\n",
        "upper_lim_odometer = df['odometer'].quantile(0.75)+(IQR*1.5)\n",
        "print(lower_lim_odometer), print(upper_lim_odometer)"
      ]
    },
    {
      "cell_type": "code",
      "execution_count": 38,
      "metadata": {
        "colab": {
          "base_uri": "https://localhost:8080/"
        },
        "id": "ote1F3UtlQku",
        "outputId": "7e6d5dd4-ec5e-4486-a432-7cda0d585730"
      },
      "outputs": [
        {
          "output_type": "stream",
          "name": "stdout",
          "text": [
            "39637.0\n",
            "137027.0\n"
          ]
        },
        {
          "output_type": "execute_result",
          "data": {
            "text/plain": [
              "(None, None)"
            ]
          },
          "metadata": {},
          "execution_count": 38
        }
      ],
      "source": [
        "lower_lim_odometer = df['odometer'].quantile(0.25)-(IQR*3)\n",
        "upper_lim_odometer = df['odometer'].quantile(0.75)+(IQR*3)\n",
        "print(lower_lim_odometer), print(upper_lim_odometer)"
      ]
    },
    {
      "cell_type": "code",
      "execution_count": 39,
      "metadata": {
        "id": "d0mVmpjgZWlB"
      },
      "outputs": [],
      "source": [
        "# Removing Outliers in odometer\n",
        "\n",
        "df = df[(df.odometer >= 100) & (df.odometer <= 200000)]"
      ]
    },
    {
      "cell_type": "code",
      "execution_count": 40,
      "metadata": {
        "colab": {
          "base_uri": "https://localhost:8080/"
        },
        "id": "ki9ILMG5mbk0",
        "outputId": "6a808a44-9724-4dec-829a-4ee918ef0769"
      },
      "outputs": [
        {
          "output_type": "execute_result",
          "data": {
            "text/plain": [
              "(341611, 26)"
            ]
          },
          "metadata": {},
          "execution_count": 40
        }
      ],
      "source": [
        "df.shape"
      ]
    },
    {
      "cell_type": "code",
      "execution_count": 41,
      "metadata": {
        "id": "Si6kwb2dZaqn"
      },
      "outputs": [],
      "source": [
        "# Removing Outliers in year c\n",
        "\n",
        "#df = df[(df['odometer'] >= lower_lim_odometer) & (df['odometer'] <= upper_lim_odometer)]"
      ]
    },
    {
      "cell_type": "code",
      "execution_count": 42,
      "metadata": {
        "colab": {
          "base_uri": "https://localhost:8080/"
        },
        "id": "RIu2Pty6baQQ",
        "outputId": "a8187c97-5df5-43db-b070-fb74e217b3aa"
      },
      "outputs": [
        {
          "output_type": "execute_result",
          "data": {
            "text/plain": [
              "200000.0"
            ]
          },
          "metadata": {},
          "execution_count": 42
        }
      ],
      "source": [
        "df.odometer.max()"
      ]
    },
    {
      "cell_type": "code",
      "execution_count": 43,
      "metadata": {
        "colab": {
          "base_uri": "https://localhost:8080/"
        },
        "id": "LtHXDgnVZhtd",
        "outputId": "6b70f93c-faea-4211-805a-e124c277b249"
      },
      "outputs": [
        {
          "output_type": "stream",
          "name": "stdout",
          "text": [
            "Shape of dataset after Outliers removal in odometer column :  341611\n"
          ]
        }
      ],
      "source": [
        "print(\"Shape of dataset after Outliers removal in odometer column : \",len(df))"
      ]
    },
    {
      "cell_type": "code",
      "execution_count": 44,
      "metadata": {
        "colab": {
          "base_uri": "https://localhost:8080/",
          "height": 300
        },
        "id": "L_LSSz9UZvHB",
        "outputId": "08eb8f9c-c7de-4505-b795-f4d622cd268b"
      },
      "outputs": [
        {
          "output_type": "execute_result",
          "data": {
            "text/plain": [
              "                   id       price        year    odometer county         lat  \\\n",
              "count      341611.000  341611.000  341611.000  341611.000  0.000  338441.000   \n",
              "mean   7311450966.426   18853.202    2012.780   86555.824    nan      38.543   \n",
              "std       4392101.721   12941.901       5.277   53354.199    nan       5.854   \n",
              "min    7301583321.000     100.000    1995.000     100.000    nan     -81.838   \n",
              "25%    7308050543.500    7995.000    2010.000   38685.500    nan      34.758   \n",
              "50%    7312519244.000   15999.000    2014.000   84837.000    nan      39.300   \n",
              "75%    7315227342.000   27990.000    2017.000  128572.000    nan      42.379   \n",
              "max    7317101084.000   60000.000    2022.000  200000.000    nan      80.680   \n",
              "\n",
              "             long  \n",
              "count  338441.000  \n",
              "mean      -94.159  \n",
              "std        18.191  \n",
              "min      -159.720  \n",
              "25%      -110.879  \n",
              "50%       -87.846  \n",
              "75%       -80.673  \n",
              "max       167.630  "
            ],
            "text/html": [
              "\n",
              "  <div id=\"df-ff05f1fe-eaf7-4e41-8716-4e09468f7b3a\">\n",
              "    <div class=\"colab-df-container\">\n",
              "      <div>\n",
              "<style scoped>\n",
              "    .dataframe tbody tr th:only-of-type {\n",
              "        vertical-align: middle;\n",
              "    }\n",
              "\n",
              "    .dataframe tbody tr th {\n",
              "        vertical-align: top;\n",
              "    }\n",
              "\n",
              "    .dataframe thead th {\n",
              "        text-align: right;\n",
              "    }\n",
              "</style>\n",
              "<table border=\"1\" class=\"dataframe\">\n",
              "  <thead>\n",
              "    <tr style=\"text-align: right;\">\n",
              "      <th></th>\n",
              "      <th>id</th>\n",
              "      <th>price</th>\n",
              "      <th>year</th>\n",
              "      <th>odometer</th>\n",
              "      <th>county</th>\n",
              "      <th>lat</th>\n",
              "      <th>long</th>\n",
              "    </tr>\n",
              "  </thead>\n",
              "  <tbody>\n",
              "    <tr>\n",
              "      <th>count</th>\n",
              "      <td>341611.000</td>\n",
              "      <td>341611.000</td>\n",
              "      <td>341611.000</td>\n",
              "      <td>341611.000</td>\n",
              "      <td>0.000</td>\n",
              "      <td>338441.000</td>\n",
              "      <td>338441.000</td>\n",
              "    </tr>\n",
              "    <tr>\n",
              "      <th>mean</th>\n",
              "      <td>7311450966.426</td>\n",
              "      <td>18853.202</td>\n",
              "      <td>2012.780</td>\n",
              "      <td>86555.824</td>\n",
              "      <td>nan</td>\n",
              "      <td>38.543</td>\n",
              "      <td>-94.159</td>\n",
              "    </tr>\n",
              "    <tr>\n",
              "      <th>std</th>\n",
              "      <td>4392101.721</td>\n",
              "      <td>12941.901</td>\n",
              "      <td>5.277</td>\n",
              "      <td>53354.199</td>\n",
              "      <td>nan</td>\n",
              "      <td>5.854</td>\n",
              "      <td>18.191</td>\n",
              "    </tr>\n",
              "    <tr>\n",
              "      <th>min</th>\n",
              "      <td>7301583321.000</td>\n",
              "      <td>100.000</td>\n",
              "      <td>1995.000</td>\n",
              "      <td>100.000</td>\n",
              "      <td>nan</td>\n",
              "      <td>-81.838</td>\n",
              "      <td>-159.720</td>\n",
              "    </tr>\n",
              "    <tr>\n",
              "      <th>25%</th>\n",
              "      <td>7308050543.500</td>\n",
              "      <td>7995.000</td>\n",
              "      <td>2010.000</td>\n",
              "      <td>38685.500</td>\n",
              "      <td>nan</td>\n",
              "      <td>34.758</td>\n",
              "      <td>-110.879</td>\n",
              "    </tr>\n",
              "    <tr>\n",
              "      <th>50%</th>\n",
              "      <td>7312519244.000</td>\n",
              "      <td>15999.000</td>\n",
              "      <td>2014.000</td>\n",
              "      <td>84837.000</td>\n",
              "      <td>nan</td>\n",
              "      <td>39.300</td>\n",
              "      <td>-87.846</td>\n",
              "    </tr>\n",
              "    <tr>\n",
              "      <th>75%</th>\n",
              "      <td>7315227342.000</td>\n",
              "      <td>27990.000</td>\n",
              "      <td>2017.000</td>\n",
              "      <td>128572.000</td>\n",
              "      <td>nan</td>\n",
              "      <td>42.379</td>\n",
              "      <td>-80.673</td>\n",
              "    </tr>\n",
              "    <tr>\n",
              "      <th>max</th>\n",
              "      <td>7317101084.000</td>\n",
              "      <td>60000.000</td>\n",
              "      <td>2022.000</td>\n",
              "      <td>200000.000</td>\n",
              "      <td>nan</td>\n",
              "      <td>80.680</td>\n",
              "      <td>167.630</td>\n",
              "    </tr>\n",
              "  </tbody>\n",
              "</table>\n",
              "</div>\n",
              "      <button class=\"colab-df-convert\" onclick=\"convertToInteractive('df-ff05f1fe-eaf7-4e41-8716-4e09468f7b3a')\"\n",
              "              title=\"Convert this dataframe to an interactive table.\"\n",
              "              style=\"display:none;\">\n",
              "        \n",
              "  <svg xmlns=\"http://www.w3.org/2000/svg\" height=\"24px\"viewBox=\"0 0 24 24\"\n",
              "       width=\"24px\">\n",
              "    <path d=\"M0 0h24v24H0V0z\" fill=\"none\"/>\n",
              "    <path d=\"M18.56 5.44l.94 2.06.94-2.06 2.06-.94-2.06-.94-.94-2.06-.94 2.06-2.06.94zm-11 1L8.5 8.5l.94-2.06 2.06-.94-2.06-.94L8.5 2.5l-.94 2.06-2.06.94zm10 10l.94 2.06.94-2.06 2.06-.94-2.06-.94-.94-2.06-.94 2.06-2.06.94z\"/><path d=\"M17.41 7.96l-1.37-1.37c-.4-.4-.92-.59-1.43-.59-.52 0-1.04.2-1.43.59L10.3 9.45l-7.72 7.72c-.78.78-.78 2.05 0 2.83L4 21.41c.39.39.9.59 1.41.59.51 0 1.02-.2 1.41-.59l7.78-7.78 2.81-2.81c.8-.78.8-2.07 0-2.86zM5.41 20L4 18.59l7.72-7.72 1.47 1.35L5.41 20z\"/>\n",
              "  </svg>\n",
              "      </button>\n",
              "      \n",
              "  <style>\n",
              "    .colab-df-container {\n",
              "      display:flex;\n",
              "      flex-wrap:wrap;\n",
              "      gap: 12px;\n",
              "    }\n",
              "\n",
              "    .colab-df-convert {\n",
              "      background-color: #E8F0FE;\n",
              "      border: none;\n",
              "      border-radius: 50%;\n",
              "      cursor: pointer;\n",
              "      display: none;\n",
              "      fill: #1967D2;\n",
              "      height: 32px;\n",
              "      padding: 0 0 0 0;\n",
              "      width: 32px;\n",
              "    }\n",
              "\n",
              "    .colab-df-convert:hover {\n",
              "      background-color: #E2EBFA;\n",
              "      box-shadow: 0px 1px 2px rgba(60, 64, 67, 0.3), 0px 1px 3px 1px rgba(60, 64, 67, 0.15);\n",
              "      fill: #174EA6;\n",
              "    }\n",
              "\n",
              "    [theme=dark] .colab-df-convert {\n",
              "      background-color: #3B4455;\n",
              "      fill: #D2E3FC;\n",
              "    }\n",
              "\n",
              "    [theme=dark] .colab-df-convert:hover {\n",
              "      background-color: #434B5C;\n",
              "      box-shadow: 0px 1px 3px 1px rgba(0, 0, 0, 0.15);\n",
              "      filter: drop-shadow(0px 1px 2px rgba(0, 0, 0, 0.3));\n",
              "      fill: #FFFFFF;\n",
              "    }\n",
              "  </style>\n",
              "\n",
              "      <script>\n",
              "        const buttonEl =\n",
              "          document.querySelector('#df-ff05f1fe-eaf7-4e41-8716-4e09468f7b3a button.colab-df-convert');\n",
              "        buttonEl.style.display =\n",
              "          google.colab.kernel.accessAllowed ? 'block' : 'none';\n",
              "\n",
              "        async function convertToInteractive(key) {\n",
              "          const element = document.querySelector('#df-ff05f1fe-eaf7-4e41-8716-4e09468f7b3a');\n",
              "          const dataTable =\n",
              "            await google.colab.kernel.invokeFunction('convertToInteractive',\n",
              "                                                     [key], {});\n",
              "          if (!dataTable) return;\n",
              "\n",
              "          const docLinkHtml = 'Like what you see? Visit the ' +\n",
              "            '<a target=\"_blank\" href=https://colab.research.google.com/notebooks/data_table.ipynb>data table notebook</a>'\n",
              "            + ' to learn more about interactive tables.';\n",
              "          element.innerHTML = '';\n",
              "          dataTable['output_type'] = 'display_data';\n",
              "          await google.colab.output.renderOutput(dataTable, element);\n",
              "          const docLink = document.createElement('div');\n",
              "          docLink.innerHTML = docLinkHtml;\n",
              "          element.appendChild(docLink);\n",
              "        }\n",
              "      </script>\n",
              "    </div>\n",
              "  </div>\n",
              "  "
            ]
          },
          "metadata": {},
          "execution_count": 44
        }
      ],
      "source": [
        "df.describe().applymap(lambda x: f\"{x:0.3f}\")"
      ]
    },
    {
      "cell_type": "code",
      "execution_count": 45,
      "metadata": {
        "colab": {
          "base_uri": "https://localhost:8080/"
        },
        "id": "bZNaXRwVZxbm",
        "outputId": "6131db6e-992b-488a-a1ec-14c515eb39ae"
      },
      "outputs": [
        {
          "output_type": "stream",
          "name": "stdout",
          "text": [
            "<class 'pandas.core.frame.DataFrame'>\n",
            "Int64Index: 341611 entries, 27 to 426879\n",
            "Data columns (total 26 columns):\n",
            " #   Column        Non-Null Count   Dtype  \n",
            "---  ------        --------------   -----  \n",
            " 0   id            341611 non-null  int64  \n",
            " 1   url           341611 non-null  object \n",
            " 2   region        341611 non-null  object \n",
            " 3   region_url    341611 non-null  object \n",
            " 4   price         341611 non-null  int64  \n",
            " 5   year          341611 non-null  float64\n",
            " 6   manufacturer  331811 non-null  object \n",
            " 7   model         338906 non-null  object \n",
            " 8   condition     211094 non-null  object \n",
            " 9   cylinders     200574 non-null  object \n",
            " 10  fuel          339626 non-null  object \n",
            " 11  odometer      341611 non-null  float64\n",
            " 12  title_status  335258 non-null  object \n",
            " 13  transmission  340290 non-null  object \n",
            " 14  VIN           221655 non-null  object \n",
            " 15  drive         237956 non-null  object \n",
            " 16  size          92122 non-null   object \n",
            " 17  type          273333 non-null  object \n",
            " 18  paint_color   243237 non-null  object \n",
            " 19  image_url     341611 non-null  object \n",
            " 20  description   341609 non-null  object \n",
            " 21  county        0 non-null       float64\n",
            " 22  state         341611 non-null  object \n",
            " 23  lat           338441 non-null  float64\n",
            " 24  long          338441 non-null  float64\n",
            " 25  posting_date  341611 non-null  object \n",
            "dtypes: float64(5), int64(2), object(19)\n",
            "memory usage: 70.4+ MB\n"
          ]
        }
      ],
      "source": [
        "df.info()"
      ]
    },
    {
      "cell_type": "markdown",
      "metadata": {
        "id": "fKSHyX9mjKlL"
      },
      "source": [
        "**Exploratory Data Analysis (EDA)**\n",
        "\n",
        "In Data Analysis What All Things We Do\n",
        "1. Missing Values\n",
        "2. Explore About the Numerical Variables\n",
        "3. Explore About categorical Variables\n",
        "4. Finding Relationship between features"
      ]
    },
    {
      "cell_type": "code",
      "execution_count": 46,
      "metadata": {
        "colab": {
          "base_uri": "https://localhost:8080/"
        },
        "id": "Bt3R_N45aIXo",
        "outputId": "442e60b6-f9a4-40e7-9f35-24013b522087"
      },
      "outputs": [
        {
          "output_type": "execute_result",
          "data": {
            "text/plain": [
              "(341611, 26)"
            ]
          },
          "metadata": {},
          "execution_count": 46
        }
      ],
      "source": [
        "df.shape"
      ]
    },
    {
      "cell_type": "code",
      "execution_count": 47,
      "metadata": {
        "colab": {
          "base_uri": "https://localhost:8080/"
        },
        "id": "92rv_tZ3jbVF",
        "outputId": "2368ad6e-c3c6-4fde-b0d9-aea2ca3fe4d0"
      },
      "outputs": [
        {
          "output_type": "execute_result",
          "data": {
            "text/plain": [
              "['manufacturer',\n",
              " 'model',\n",
              " 'condition',\n",
              " 'cylinders',\n",
              " 'fuel',\n",
              " 'title_status',\n",
              " 'transmission',\n",
              " 'VIN',\n",
              " 'drive',\n",
              " 'size',\n",
              " 'type',\n",
              " 'paint_color',\n",
              " 'description',\n",
              " 'county',\n",
              " 'lat',\n",
              " 'long']"
            ]
          },
          "metadata": {},
          "execution_count": 47
        }
      ],
      "source": [
        "# features with null values\n",
        "\n",
        "[features for features in df.columns if df[features].isnull().sum()>0]"
      ]
    },
    {
      "cell_type": "code",
      "execution_count": 48,
      "metadata": {
        "colab": {
          "base_uri": "https://localhost:8080/",
          "height": 559
        },
        "id": "B5E_B8CPjd5A",
        "outputId": "de2990ff-aed9-4dd0-d124-658799147853"
      },
      "outputs": [
        {
          "output_type": "execute_result",
          "data": {
            "text/plain": [
              "<matplotlib.axes._subplots.AxesSubplot at 0x7f6291c2d790>"
            ]
          },
          "metadata": {},
          "execution_count": 48
        },
        {
          "output_type": "display_data",
          "data": {
            "text/plain": [
              "<Figure size 864x576 with 1 Axes>"
            ],
            "image/png": "[encoded data removed]"
          },
          "metadata": {
            "needs_background": "light"
          }
        }
      ],
      "source": [
        "# creating a graph to check null values\n",
        "\n",
        "plt.figure(figsize=(12,8))\n",
        "sns.heatmap(df.isnull(),yticklabels=False,cbar=False,cmap='viridis')"
      ]
    },
    {
      "cell_type": "markdown",
      "metadata": {
        "id": "5NqrbBWJkTKM"
      },
      "source": [
        "Country column contains all null values , Drop the column\n",
        "\n"
      ]
    },
    {
      "cell_type": "code",
      "execution_count": 49,
      "metadata": {
        "colab": {
          "base_uri": "https://localhost:8080/"
        },
        "id": "_52qVflxj1k6",
        "outputId": "76137615-044b-4b9b-bd6b-55ede9c0561f"
      },
      "outputs": [
        {
          "output_type": "execute_result",
          "data": {
            "text/plain": [
              "341611"
            ]
          },
          "metadata": {},
          "execution_count": 49
        }
      ],
      "source": [
        "df['county'].isnull().sum()"
      ]
    },
    {
      "cell_type": "code",
      "execution_count": 50,
      "metadata": {
        "id": "KTJVwz9rkas_"
      },
      "outputs": [],
      "source": [
        "df.drop('county',axis =1 , inplace = True)"
      ]
    },
    {
      "cell_type": "code",
      "execution_count": 51,
      "metadata": {
        "colab": {
          "base_uri": "https://localhost:8080/"
        },
        "id": "6IWkJRdxmkVz",
        "outputId": "112308c8-95a6-4a48-e837-f3cfa777e741"
      },
      "outputs": [
        {
          "output_type": "execute_result",
          "data": {
            "text/plain": [
              "size            0.730331\n",
              "cylinders       0.412858\n",
              "condition       0.382063\n",
              "VIN             0.351148\n",
              "drive           0.303430\n",
              "paint_color     0.287971\n",
              "type            0.199871\n",
              "manufacturer    0.028688\n",
              "title_status    0.018597\n",
              "lat             0.009280\n",
              "long            0.009280\n",
              "model           0.007918\n",
              "fuel            0.005811\n",
              "transmission    0.003867\n",
              "description     0.000006\n",
              "dtype: float64"
            ]
          },
          "metadata": {},
          "execution_count": 51
        }
      ],
      "source": [
        "# Removing the missing percentages greater than zero.\n",
        "missing_percentages =df.isna().sum().sort_values(ascending=False)/len(df) \n",
        "missing_percentages[missing_percentages!=0]"
      ]
    },
    {
      "cell_type": "code",
      "execution_count": 52,
      "metadata": {
        "colab": {
          "base_uri": "https://localhost:8080/",
          "height": 422
        },
        "id": "hXFVAgMmm3vD",
        "outputId": "a8d07208-49a3-496b-d7c4-26c63b0afd94"
      },
      "outputs": [
        {
          "output_type": "execute_result",
          "data": {
            "text/plain": [
              "Text(0, 0.5, 'Features')"
            ]
          },
          "metadata": {},
          "execution_count": 52
        },
        {
          "output_type": "display_data",
          "data": {
            "text/plain": [
              "<Figure size 720x432 with 1 Axes>"
            ],
            "image/png": "[encoded data removed]"
          },
          "metadata": {
            "needs_background": "light"
          }
        }
      ],
      "source": [
        "# Plot a graph to check missing percentages \n",
        "plt.figure(figsize=(10,6))\n",
        "missing_percentages[missing_percentages!=0].plot(kind='barh')\n",
        "plt.title(\"Graph for NULL data in percentage \")\n",
        "plt.xlabel(\"% of missing values\")\n",
        "plt.ylabel(\"Features\")"
      ]
    },
    {
      "cell_type": "markdown",
      "metadata": {
        "id": "hMtASvqs9cxx"
      },
      "source": [
        "**TRANSMISSION**"
      ]
    },
    {
      "cell_type": "code",
      "execution_count": 53,
      "metadata": {
        "colab": {
          "base_uri": "https://localhost:8080/"
        },
        "id": "mpqeqd6lm4Vd",
        "outputId": "6df21564-d424-4565-91da-34d04fea5929"
      },
      "outputs": [
        {
          "output_type": "execute_result",
          "data": {
            "text/plain": [
              "1321"
            ]
          },
          "metadata": {},
          "execution_count": 53
        }
      ],
      "source": [
        "# transmission column\n",
        "\n",
        "df['transmission'].isnull().sum()"
      ]
    },
    {
      "cell_type": "code",
      "execution_count": 54,
      "metadata": {
        "colab": {
          "base_uri": "https://localhost:8080/"
        },
        "id": "wODKQzmInHmM",
        "outputId": "1267a191-d9be-4c3c-ca77-219558dda2d1"
      },
      "outputs": [
        {
          "output_type": "execute_result",
          "data": {
            "text/plain": [
              "automatic    265045\n",
              "other         59841\n",
              "manual        15404\n",
              "Name: transmission, dtype: int64"
            ]
          },
          "metadata": {},
          "execution_count": 54
        }
      ],
      "source": [
        "df['transmission'].value_counts()"
      ]
    },
    {
      "cell_type": "code",
      "execution_count": 55,
      "metadata": {
        "colab": {
          "base_uri": "https://localhost:8080/",
          "height": 520
        },
        "id": "IizQWukznIoH",
        "outputId": "81eadd1f-604d-45a8-88e1-475dbd414672"
      },
      "outputs": [
        {
          "output_type": "execute_result",
          "data": {
            "text/plain": [
              "   transmission      fuel         price\n",
              "0     automatic    diesel  33134.186041\n",
              "1     automatic  electric  21486.991416\n",
              "2     automatic       gas  15621.177856\n",
              "3     automatic    hybrid  14079.988844\n",
              "4     automatic     other  23142.589316\n",
              "5        manual    diesel  24113.886831\n",
              "6        manual  electric   9241.800000\n",
              "7        manual       gas  13406.921083\n",
              "8        manual    hybrid  17362.721311\n",
              "9        manual     other  26301.443966\n",
              "10        other    diesel  27588.531328\n",
              "11        other  electric  27455.895408\n",
              "12        other       gas  28276.368963\n",
              "13        other    hybrid  21844.455232\n",
              "14        other     other  28991.184236"
            ],
            "text/html": [
              "\n",
              "  <div id=\"df-5516cdbb-3ebb-405d-993c-5ea04ecafe62\">\n",
              "    <div class=\"colab-df-container\">\n",
              "      <div>\n",
              "<style scoped>\n",
              "    .dataframe tbody tr th:only-of-type {\n",
              "        vertical-align: middle;\n",
              "    }\n",
              "\n",
              "    .dataframe tbody tr th {\n",
              "        vertical-align: top;\n",
              "    }\n",
              "\n",
              "    .dataframe thead th {\n",
              "        text-align: right;\n",
              "    }\n",
              "</style>\n",
              "<table border=\"1\" class=\"dataframe\">\n",
              "  <thead>\n",
              "    <tr style=\"text-align: right;\">\n",
              "      <th></th>\n",
              "      <th>transmission</th>\n",
              "      <th>fuel</th>\n",
              "      <th>price</th>\n",
              "    </tr>\n",
              "  </thead>\n",
              "  <tbody>\n",
              "    <tr>\n",
              "      <th>0</th>\n",
              "      <td>automatic</td>\n",
              "      <td>diesel</td>\n",
              "      <td>33134.186041</td>\n",
              "    </tr>\n",
              "    <tr>\n",
              "      <th>1</th>\n",
              "      <td>automatic</td>\n",
              "      <td>electric</td>\n",
              "      <td>21486.991416</td>\n",
              "    </tr>\n",
              "    <tr>\n",
              "      <th>2</th>\n",
              "      <td>automatic</td>\n",
              "      <td>gas</td>\n",
              "      <td>15621.177856</td>\n",
              "    </tr>\n",
              "    <tr>\n",
              "      <th>3</th>\n",
              "      <td>automatic</td>\n",
              "      <td>hybrid</td>\n",
              "      <td>14079.988844</td>\n",
              "    </tr>\n",
              "    <tr>\n",
              "      <th>4</th>\n",
              "      <td>automatic</td>\n",
              "      <td>other</td>\n",
              "      <td>23142.589316</td>\n",
              "    </tr>\n",
              "    <tr>\n",
              "      <th>5</th>\n",
              "      <td>manual</td>\n",
              "      <td>diesel</td>\n",
              "      <td>24113.886831</td>\n",
              "    </tr>\n",
              "    <tr>\n",
              "      <th>6</th>\n",
              "      <td>manual</td>\n",
              "      <td>electric</td>\n",
              "      <td>9241.800000</td>\n",
              "    </tr>\n",
              "    <tr>\n",
              "      <th>7</th>\n",
              "      <td>manual</td>\n",
              "      <td>gas</td>\n",
              "      <td>13406.921083</td>\n",
              "    </tr>\n",
              "    <tr>\n",
              "      <th>8</th>\n",
              "      <td>manual</td>\n",
              "      <td>hybrid</td>\n",
              "      <td>17362.721311</td>\n",
              "    </tr>\n",
              "    <tr>\n",
              "      <th>9</th>\n",
              "      <td>manual</td>\n",
              "      <td>other</td>\n",
              "      <td>26301.443966</td>\n",
              "    </tr>\n",
              "    <tr>\n",
              "      <th>10</th>\n",
              "      <td>other</td>\n",
              "      <td>diesel</td>\n",
              "      <td>27588.531328</td>\n",
              "    </tr>\n",
              "    <tr>\n",
              "      <th>11</th>\n",
              "      <td>other</td>\n",
              "      <td>electric</td>\n",
              "      <td>27455.895408</td>\n",
              "    </tr>\n",
              "    <tr>\n",
              "      <th>12</th>\n",
              "      <td>other</td>\n",
              "      <td>gas</td>\n",
              "      <td>28276.368963</td>\n",
              "    </tr>\n",
              "    <tr>\n",
              "      <th>13</th>\n",
              "      <td>other</td>\n",
              "      <td>hybrid</td>\n",
              "      <td>21844.455232</td>\n",
              "    </tr>\n",
              "    <tr>\n",
              "      <th>14</th>\n",
              "      <td>other</td>\n",
              "      <td>other</td>\n",
              "      <td>28991.184236</td>\n",
              "    </tr>\n",
              "  </tbody>\n",
              "</table>\n",
              "</div>\n",
              "      <button class=\"colab-df-convert\" onclick=\"convertToInteractive('df-5516cdbb-3ebb-405d-993c-5ea04ecafe62')\"\n",
              "              title=\"Convert this dataframe to an interactive table.\"\n",
              "              style=\"display:none;\">\n",
              "        \n",
              "  <svg xmlns=\"http://www.w3.org/2000/svg\" height=\"24px\"viewBox=\"0 0 24 24\"\n",
              "       width=\"24px\">\n",
              "    <path d=\"M0 0h24v24H0V0z\" fill=\"none\"/>\n",
              "    <path d=\"M18.56 5.44l.94 2.06.94-2.06 2.06-.94-2.06-.94-.94-2.06-.94 2.06-2.06.94zm-11 1L8.5 8.5l.94-2.06 2.06-.94-2.06-.94L8.5 2.5l-.94 2.06-2.06.94zm10 10l.94 2.06.94-2.06 2.06-.94-2.06-.94-.94-2.06-.94 2.06-2.06.94z\"/><path d=\"M17.41 7.96l-1.37-1.37c-.4-.4-.92-.59-1.43-.59-.52 0-1.04.2-1.43.59L10.3 9.45l-7.72 7.72c-.78.78-.78 2.05 0 2.83L4 21.41c.39.39.9.59 1.41.59.51 0 1.02-.2 1.41-.59l7.78-7.78 2.81-2.81c.8-.78.8-2.07 0-2.86zM5.41 20L4 18.59l7.72-7.72 1.47 1.35L5.41 20z\"/>\n",
              "  </svg>\n",
              "      </button>\n",
              "      \n",
              "  <style>\n",
              "    .colab-df-container {\n",
              "      display:flex;\n",
              "      flex-wrap:wrap;\n",
              "      gap: 12px;\n",
              "    }\n",
              "\n",
              "    .colab-df-convert {\n",
              "      background-color: #E8F0FE;\n",
              "      border: none;\n",
              "      border-radius: 50%;\n",
              "      cursor: pointer;\n",
              "      display: none;\n",
              "      fill: #1967D2;\n",
              "      height: 32px;\n",
              "      padding: 0 0 0 0;\n",
              "      width: 32px;\n",
              "    }\n",
              "\n",
              "    .colab-df-convert:hover {\n",
              "      background-color: #E2EBFA;\n",
              "      box-shadow: 0px 1px 2px rgba(60, 64, 67, 0.3), 0px 1px 3px 1px rgba(60, 64, 67, 0.15);\n",
              "      fill: #174EA6;\n",
              "    }\n",
              "\n",
              "    [theme=dark] .colab-df-convert {\n",
              "      background-color: #3B4455;\n",
              "      fill: #D2E3FC;\n",
              "    }\n",
              "\n",
              "    [theme=dark] .colab-df-convert:hover {\n",
              "      background-color: #434B5C;\n",
              "      box-shadow: 0px 1px 3px 1px rgba(0, 0, 0, 0.15);\n",
              "      filter: drop-shadow(0px 1px 2px rgba(0, 0, 0, 0.3));\n",
              "      fill: #FFFFFF;\n",
              "    }\n",
              "  </style>\n",
              "\n",
              "      <script>\n",
              "        const buttonEl =\n",
              "          document.querySelector('#df-5516cdbb-3ebb-405d-993c-5ea04ecafe62 button.colab-df-convert');\n",
              "        buttonEl.style.display =\n",
              "          google.colab.kernel.accessAllowed ? 'block' : 'none';\n",
              "\n",
              "        async function convertToInteractive(key) {\n",
              "          const element = document.querySelector('#df-5516cdbb-3ebb-405d-993c-5ea04ecafe62');\n",
              "          const dataTable =\n",
              "            await google.colab.kernel.invokeFunction('convertToInteractive',\n",
              "                                                     [key], {});\n",
              "          if (!dataTable) return;\n",
              "\n",
              "          const docLinkHtml = 'Like what you see? Visit the ' +\n",
              "            '<a target=\"_blank\" href=https://colab.research.google.com/notebooks/data_table.ipynb>data table notebook</a>'\n",
              "            + ' to learn more about interactive tables.';\n",
              "          element.innerHTML = '';\n",
              "          dataTable['output_type'] = 'display_data';\n",
              "          await google.colab.output.renderOutput(dataTable, element);\n",
              "          const docLink = document.createElement('div');\n",
              "          docLink.innerHTML = docLinkHtml;\n",
              "          element.appendChild(docLink);\n",
              "        }\n",
              "      </script>\n",
              "    </div>\n",
              "  </div>\n",
              "  "
            ]
          },
          "metadata": {},
          "execution_count": 55
        }
      ],
      "source": [
        "df_group_one = df[['transmission','fuel','price']]\n",
        "df_group_one = df_group_one.groupby(['transmission','fuel'],as_index=False).mean()\n",
        "df_group_one"
      ]
    },
    {
      "cell_type": "code",
      "execution_count": 56,
      "metadata": {
        "id": "emudYvKdnNqT"
      },
      "outputs": [],
      "source": [
        "# Replacing null values in transmission column\n",
        "\n",
        "df['transmission'] = df['transmission'].fillna(df.transmission.mode()[0])"
      ]
    },
    {
      "cell_type": "code",
      "execution_count": 57,
      "metadata": {
        "colab": {
          "base_uri": "https://localhost:8080/"
        },
        "id": "ZUKUvJc1n02r",
        "outputId": "68ddd4be-22be-42e0-da74-5681471690e2"
      },
      "outputs": [
        {
          "output_type": "stream",
          "name": "stdout",
          "text": [
            "Number of null values : 0\n",
            "automatic    266366\n",
            "other         59841\n",
            "manual        15404\n",
            "Name: transmission, dtype: int64\n"
          ]
        }
      ],
      "source": [
        "print(\"Number of null values :\" ,df.transmission.isnull().sum())\n",
        "print(df.transmission.value_counts())"
      ]
    },
    {
      "cell_type": "code",
      "execution_count": 58,
      "metadata": {
        "colab": {
          "base_uri": "https://localhost:8080/",
          "height": 357
        },
        "id": "v9GB3rcHDPLt",
        "outputId": "0ec02a8f-1c35-4454-cc7f-e29214e06dc3"
      },
      "outputs": [
        {
          "output_type": "display_data",
          "data": {
            "text/plain": [
              "<Figure size 720x432 with 1 Axes>"
            ],
            "image/png": "[encoded data removed]"
          },
          "metadata": {}
        }
      ],
      "source": [
        "## Pie Chart for transmission column\n",
        "\n",
        "plt.figure(figsize=(10,6))\n",
        "plt.pie(df.transmission.value_counts().values,labels=df.transmission.value_counts().index,autopct='%1.2f%%')\n",
        "plt.show()"
      ]
    },
    {
      "cell_type": "code",
      "execution_count": 59,
      "metadata": {
        "id": "uY4bzkBo1qsT"
      },
      "outputs": [],
      "source": [
        "# Transmission looks like an Ordinal data . Here will use Label Encoding\n",
        "\n",
        "from sklearn import preprocessing\n",
        "\n",
        "LabelEncoding = preprocessing.LabelEncoder()\n",
        "\n",
        "df['transmission'] = LabelEncoding.fit_transform(df['transmission'])"
      ]
    },
    {
      "cell_type": "code",
      "execution_count": 60,
      "metadata": {
        "colab": {
          "base_uri": "https://localhost:8080/"
        },
        "id": "T5DYjYDI58Tl",
        "outputId": "4ab19a7a-eb5b-4483-dd14-767499b1f8d0"
      },
      "outputs": [
        {
          "output_type": "execute_result",
          "data": {
            "text/plain": [
              "0    266366\n",
              "2     59841\n",
              "1     15404\n",
              "Name: transmission, dtype: int64"
            ]
          },
          "metadata": {},
          "execution_count": 60
        }
      ],
      "source": [
        "df['transmission'].value_counts()"
      ]
    },
    {
      "cell_type": "code",
      "execution_count": 61,
      "metadata": {
        "colab": {
          "base_uri": "https://localhost:8080/",
          "height": 422
        },
        "id": "cvUms7_n6viI",
        "outputId": "fbbae720-cf2d-4b4c-f646-f8f8a14fdb7f"
      },
      "outputs": [
        {
          "output_type": "execute_result",
          "data": {
            "text/plain": [
              "Text(0, 0.5, 'Features')"
            ]
          },
          "metadata": {},
          "execution_count": 61
        },
        {
          "output_type": "display_data",
          "data": {
            "text/plain": [
              "<Figure size 720x432 with 1 Axes>"
            ],
            "image/png": "[encoded data removed]"
          },
          "metadata": {
            "needs_background": "light"
          }
        }
      ],
      "source": [
        "# Removing the missing percentages greater than zero.\n",
        "missing_percentages =df.isna().sum().sort_values(ascending=False)/len(df) \n",
        "missing_percentages[missing_percentages!=0]\n",
        "\n",
        "# Plot a graph to check missing percentages \n",
        "plt.figure(figsize=(10,6))\n",
        "missing_percentages[missing_percentages!=0].plot(kind='barh')\n",
        "plt.title(\"Graph for NULL data in percentage \")\n",
        "plt.xlabel(\"% of missing values\")\n",
        "plt.ylabel(\"Features\")"
      ]
    },
    {
      "cell_type": "markdown",
      "metadata": {
        "id": "UfCa7q5Y9g_t"
      },
      "source": [
        "**FUEL**"
      ]
    },
    {
      "cell_type": "code",
      "execution_count": 62,
      "metadata": {
        "colab": {
          "base_uri": "https://localhost:8080/"
        },
        "id": "dWgDd7iT6y_W",
        "outputId": "0d0588b6-b0b8-4d32-8a3e-1acddb73d3e9"
      },
      "outputs": [
        {
          "output_type": "execute_result",
          "data": {
            "text/plain": [
              "1985"
            ]
          },
          "metadata": {},
          "execution_count": 62
        }
      ],
      "source": [
        "df['fuel'].isnull().sum()"
      ]
    },
    {
      "cell_type": "code",
      "execution_count": 63,
      "metadata": {
        "colab": {
          "base_uri": "https://localhost:8080/"
        },
        "id": "IzDfNH8a9lUZ",
        "outputId": "d22d2be6-f2c2-439f-b0d8-bc0410e02b4c"
      },
      "outputs": [
        {
          "output_type": "execute_result",
          "data": {
            "text/plain": [
              "gas         289181\n",
              "other        26368\n",
              "diesel       18010\n",
              "hybrid        4562\n",
              "electric      1505\n",
              "Name: fuel, dtype: int64"
            ]
          },
          "metadata": {},
          "execution_count": 63
        }
      ],
      "source": [
        "df['fuel'].value_counts()"
      ]
    },
    {
      "cell_type": "code",
      "execution_count": 64,
      "metadata": {
        "colab": {
          "base_uri": "https://localhost:8080/"
        },
        "id": "Uld8TezW_y5c",
        "outputId": "5bf895dc-fc91-47ea-fa15-3ccd4449905c"
      },
      "outputs": [
        {
          "output_type": "execute_result",
          "data": {
            "text/plain": [
              "1985"
            ]
          },
          "metadata": {},
          "execution_count": 64
        }
      ],
      "source": [
        "len (df[~ ((df['fuel'] == 'other') | (df['fuel'] == 'gas') | (df['fuel'] == 'diesel') | (df['fuel'] == 'hybrid') | (df['fuel'] == 'electric')) ])"
      ]
    },
    {
      "cell_type": "code",
      "execution_count": 65,
      "metadata": {
        "id": "FLkM1Hrz9saX"
      },
      "outputs": [],
      "source": [
        "# Replacing null values in fuel column\n",
        "\n",
        "df['fuel'] = df['fuel'].fillna(df.fuel.mode()[0])"
      ]
    },
    {
      "cell_type": "code",
      "execution_count": 66,
      "metadata": {
        "colab": {
          "base_uri": "https://localhost:8080/"
        },
        "id": "0kmJmxGE9-xt",
        "outputId": "84cc86ac-1f37-4b99-bc3e-716d5caeddf8"
      },
      "outputs": [
        {
          "output_type": "stream",
          "name": "stdout",
          "text": [
            "Number of null values : 0\n",
            "gas         291166\n",
            "other        26368\n",
            "diesel       18010\n",
            "hybrid        4562\n",
            "electric      1505\n",
            "Name: fuel, dtype: int64\n"
          ]
        }
      ],
      "source": [
        "print(\"Number of null values :\" ,df.fuel.isnull().sum())\n",
        "print(df.fuel.value_counts())"
      ]
    },
    {
      "cell_type": "code",
      "execution_count": 67,
      "metadata": {
        "colab": {
          "base_uri": "https://localhost:8080/",
          "height": 357
        },
        "id": "T0wXWZU0D_kF",
        "outputId": "d80dcf7c-4b56-46df-eb80-de6f54a31202"
      },
      "outputs": [
        {
          "output_type": "display_data",
          "data": {
            "text/plain": [
              "<Figure size 720x432 with 1 Axes>"
            ],
            "image/png": "[encoded data removed]"
          },
          "metadata": {}
        }
      ],
      "source": [
        "## Pie Chart for fuel column\n",
        "\n",
        "plt.figure(figsize=(10,6))\n",
        "plt.pie(df.fuel.value_counts().values,labels=df.fuel.value_counts().index,autopct='%1.2f%%')\n",
        "plt.show()"
      ]
    },
    {
      "cell_type": "code",
      "execution_count": 68,
      "metadata": {
        "id": "ihunPup8-BF1"
      },
      "outputs": [],
      "source": [
        "# fuel looks like an Ordinal data . Here will use Label Encoding\n",
        "\n",
        "from sklearn import preprocessing\n",
        "\n",
        "LabelEncoding = preprocessing.LabelEncoder()\n",
        "\n",
        "df['fuel'] = LabelEncoding.fit_transform(df['fuel'])"
      ]
    },
    {
      "cell_type": "code",
      "execution_count": 69,
      "metadata": {
        "colab": {
          "base_uri": "https://localhost:8080/"
        },
        "id": "3nhmEGCY-KmG",
        "outputId": "9d191cce-63cd-4356-f821-0cdeefae88c0"
      },
      "outputs": [
        {
          "output_type": "execute_result",
          "data": {
            "text/plain": [
              "2    291166\n",
              "4     26368\n",
              "0     18010\n",
              "3      4562\n",
              "1      1505\n",
              "Name: fuel, dtype: int64"
            ]
          },
          "metadata": {},
          "execution_count": 69
        }
      ],
      "source": [
        "df['fuel'].value_counts()"
      ]
    },
    {
      "cell_type": "code",
      "execution_count": 70,
      "metadata": {
        "colab": {
          "base_uri": "https://localhost:8080/",
          "height": 422
        },
        "id": "ATQXnpvR_V0G",
        "outputId": "5ae1da47-b742-4887-9b4a-f8322def1a2f"
      },
      "outputs": [
        {
          "output_type": "execute_result",
          "data": {
            "text/plain": [
              "Text(0, 0.5, 'Features')"
            ]
          },
          "metadata": {},
          "execution_count": 70
        },
        {
          "output_type": "display_data",
          "data": {
            "text/plain": [
              "<Figure size 720x432 with 1 Axes>"
            ],
            "image/png": "[encoded data removed]"
          },
          "metadata": {
            "needs_background": "light"
          }
        }
      ],
      "source": [
        "# Removing the missing percentages greater than zero.\n",
        "missing_percentages =df.isna().sum().sort_values(ascending=False)/len(df) \n",
        "\n",
        "\n",
        "# Plot a graph to check missing percentages \n",
        "plt.figure(figsize=(10,6))\n",
        "missing_percentages[missing_percentages!=0].plot(kind='barh')\n",
        "plt.title(\"Graph for NULL data in percentage \")\n",
        "plt.xlabel(\"% of missing values\")\n",
        "plt.ylabel(\"Features\")"
      ]
    },
    {
      "cell_type": "markdown",
      "metadata": {
        "id": "wvK1gtubB4Gp"
      },
      "source": [
        "MODEL"
      ]
    },
    {
      "cell_type": "code",
      "execution_count": 71,
      "metadata": {
        "colab": {
          "base_uri": "https://localhost:8080/"
        },
        "id": "3MVyi9kHBvFX",
        "outputId": "0239283a-6667-46f2-b772-f5f21f62255e"
      },
      "outputs": [
        {
          "output_type": "execute_result",
          "data": {
            "text/plain": [
              "2705"
            ]
          },
          "metadata": {},
          "execution_count": 71
        }
      ],
      "source": [
        "df['model'].isnull().sum()"
      ]
    },
    {
      "cell_type": "code",
      "execution_count": 72,
      "metadata": {
        "colab": {
          "base_uri": "https://localhost:8080/"
        },
        "id": "_Rqe20n0B85C",
        "outputId": "380f354f-a8ee-4eaf-aebf-57fabc3cbf8a"
      },
      "outputs": [
        {
          "output_type": "execute_result",
          "data": {
            "text/plain": [
              "22166"
            ]
          },
          "metadata": {},
          "execution_count": 72
        }
      ],
      "source": [
        "len(df['model'].unique())"
      ]
    },
    {
      "cell_type": "markdown",
      "metadata": {
        "id": "snb4sRhHCaXe"
      },
      "source": [
        "Model column contains 15663 unique values , will drop this column for now"
      ]
    },
    {
      "cell_type": "code",
      "execution_count": 73,
      "metadata": {
        "id": "_FfhFmCbCL4Z"
      },
      "outputs": [],
      "source": [
        "df.drop('model', axis=1 , inplace=True)"
      ]
    },
    {
      "cell_type": "code",
      "execution_count": 74,
      "metadata": {
        "colab": {
          "base_uri": "https://localhost:8080/",
          "height": 422
        },
        "id": "UHnfn7-WCnSW",
        "outputId": "f0f8cc78-54d3-4ffa-ca13-f1cb93ca3e74"
      },
      "outputs": [
        {
          "output_type": "execute_result",
          "data": {
            "text/plain": [
              "Text(0, 0.5, 'Features')"
            ]
          },
          "metadata": {},
          "execution_count": 74
        },
        {
          "output_type": "display_data",
          "data": {
            "text/plain": [
              "<Figure size 720x432 with 1 Axes>"
            ],
            "image/png": "[encoded data removed]"
          },
          "metadata": {
            "needs_background": "light"
          }
        }
      ],
      "source": [
        "# Removing the missing percentages greater than zero.\n",
        "missing_percentages =df.isna().sum().sort_values(ascending=False)/len(df) \n",
        "\n",
        "\n",
        "# Plot a graph to check missing percentages \n",
        "plt.figure(figsize=(10,6))\n",
        "missing_percentages[missing_percentages!=0].plot(kind='barh')\n",
        "plt.title(\"Graph for NULL data in percentage \")\n",
        "plt.xlabel(\"% of missing values\")\n",
        "plt.ylabel(\"Features\")"
      ]
    },
    {
      "cell_type": "markdown",
      "metadata": {
        "id": "9f7u8u6cEtTT"
      },
      "source": [
        "**Drop Unnecessary columns for now**\n",
        "1. id\n",
        "2. url\n",
        "3. region\n",
        "4. region_url\n",
        "5. VIN\n",
        "6. image_url\n",
        "7. description\n",
        "8. state\n",
        "9. lat\n",
        "10. long\n",
        "11. posting_date\n"
      ]
    },
    {
      "cell_type": "code",
      "execution_count": 75,
      "metadata": {
        "id": "buS6dibACpZu"
      },
      "outputs": [],
      "source": [
        "df.drop(['id','url','region','region_url','VIN','image_url','description','state','lat','long','posting_date'], axis =1 , inplace = True)"
      ]
    },
    {
      "cell_type": "code",
      "execution_count": 76,
      "metadata": {
        "colab": {
          "base_uri": "https://localhost:8080/"
        },
        "id": "AtwUEh9EE2c9",
        "outputId": "e49e0b3a-def7-4798-e3ae-daa6392a0723"
      },
      "outputs": [
        {
          "output_type": "stream",
          "name": "stdout",
          "text": [
            "<class 'pandas.core.frame.DataFrame'>\n",
            "Int64Index: 341611 entries, 27 to 426879\n",
            "Data columns (total 13 columns):\n",
            " #   Column        Non-Null Count   Dtype  \n",
            "---  ------        --------------   -----  \n",
            " 0   price         341611 non-null  int64  \n",
            " 1   year          341611 non-null  float64\n",
            " 2   manufacturer  331811 non-null  object \n",
            " 3   condition     211094 non-null  object \n",
            " 4   cylinders     200574 non-null  object \n",
            " 5   fuel          341611 non-null  int64  \n",
            " 6   odometer      341611 non-null  float64\n",
            " 7   title_status  335258 non-null  object \n",
            " 8   transmission  341611 non-null  int64  \n",
            " 9   drive         237956 non-null  object \n",
            " 10  size          92122 non-null   object \n",
            " 11  type          273333 non-null  object \n",
            " 12  paint_color   243237 non-null  object \n",
            "dtypes: float64(2), int64(3), object(8)\n",
            "memory usage: 36.5+ MB\n"
          ]
        }
      ],
      "source": [
        "df.info()"
      ]
    },
    {
      "cell_type": "code",
      "execution_count": 77,
      "metadata": {
        "colab": {
          "base_uri": "https://localhost:8080/",
          "height": 422
        },
        "id": "3TYuPUUaFDaq",
        "outputId": "2b0ef06b-5c09-4e3e-fdfd-b60f6ecf2634"
      },
      "outputs": [
        {
          "output_type": "execute_result",
          "data": {
            "text/plain": [
              "Text(0, 0.5, 'Features')"
            ]
          },
          "metadata": {},
          "execution_count": 77
        },
        {
          "output_type": "display_data",
          "data": {
            "text/plain": [
              "<Figure size 720x432 with 1 Axes>"
            ],
            "image/png": "[encoded data removed]"
          },
          "metadata": {
            "needs_background": "light"
          }
        }
      ],
      "source": [
        "# Removing the missing percentages greater than zero.\n",
        "missing_percentages =df.isna().sum().sort_values(ascending=False)/len(df) \n",
        "\n",
        "\n",
        "# Plot a graph to check missing percentages \n",
        "plt.figure(figsize=(10,6))\n",
        "missing_percentages[missing_percentages!=0].plot(kind='barh')\n",
        "plt.title(\"Graph for NULL data in percentage \")\n",
        "plt.xlabel(\"% of missing values\")\n",
        "plt.ylabel(\"Features\")"
      ]
    },
    {
      "cell_type": "markdown",
      "metadata": {
        "id": "DbuHtseUHXSp"
      },
      "source": [
        "**title_status**"
      ]
    },
    {
      "cell_type": "code",
      "execution_count": 78,
      "metadata": {
        "colab": {
          "base_uri": "https://localhost:8080/"
        },
        "id": "60DGqlIKFh--",
        "outputId": "759bb74c-75e2-4366-9e24-45665cde38a7"
      },
      "outputs": [
        {
          "output_type": "execute_result",
          "data": {
            "text/plain": [
              "6353"
            ]
          },
          "metadata": {},
          "execution_count": 78
        }
      ],
      "source": [
        "df['title_status'].isnull().sum()"
      ]
    },
    {
      "cell_type": "code",
      "execution_count": 79,
      "metadata": {
        "colab": {
          "base_uri": "https://localhost:8080/"
        },
        "id": "unPo2e0ZHGpb",
        "outputId": "367ea612-fbcd-4605-e9b9-8a67bbd5ba29"
      },
      "outputs": [
        {
          "output_type": "execute_result",
          "data": {
            "text/plain": [
              "clean         323809\n",
              "rebuilt         6598\n",
              "salvage         3317\n",
              "lien            1255\n",
              "missing          194\n",
              "parts only        85\n",
              "Name: title_status, dtype: int64"
            ]
          },
          "metadata": {},
          "execution_count": 79
        }
      ],
      "source": [
        "df['title_status'].value_counts()"
      ]
    },
    {
      "cell_type": "code",
      "execution_count": 80,
      "metadata": {
        "id": "-Ff8SnFTHKvW"
      },
      "outputs": [],
      "source": [
        "df['title_status'] = df['title_status'].fillna(df['title_status'].mode()[0])"
      ]
    },
    {
      "cell_type": "code",
      "execution_count": 81,
      "metadata": {
        "colab": {
          "base_uri": "https://localhost:8080/",
          "height": 357
        },
        "id": "Ly5vYnqkHSdH",
        "outputId": "b7611a44-23fa-4f3e-d9d3-fc62118306a4"
      },
      "outputs": [
        {
          "output_type": "display_data",
          "data": {
            "text/plain": [
              "<Figure size 720x432 with 1 Axes>"
            ],
            "image/png": "[encoded data removed]"
          },
          "metadata": {}
        }
      ],
      "source": [
        "## Pie Chart for title_status column\n",
        "\n",
        "plt.figure(figsize=(10,6))\n",
        "plt.pie(df.title_status.value_counts().values,labels=df.title_status.value_counts().index,autopct='%1.2f%%')\n",
        "plt.show()"
      ]
    },
    {
      "cell_type": "code",
      "execution_count": 82,
      "metadata": {
        "id": "UBjVgratHg3C"
      },
      "outputs": [],
      "source": [
        "# title_status looks like an Ordinal data . Here will use Label Encoding\n",
        "\n",
        "from sklearn import preprocessing\n",
        "\n",
        "LabelEncoding = preprocessing.LabelEncoder()\n",
        "\n",
        "df['title_status'] = LabelEncoding.fit_transform(df['title_status'])"
      ]
    },
    {
      "cell_type": "code",
      "execution_count": 83,
      "metadata": {
        "colab": {
          "base_uri": "https://localhost:8080/"
        },
        "id": "nRmGnAOOIB6k",
        "outputId": "51a95a70-2551-458e-d848-ef80e675bb15"
      },
      "outputs": [
        {
          "output_type": "execute_result",
          "data": {
            "text/plain": [
              "0    330162\n",
              "4      6598\n",
              "5      3317\n",
              "1      1255\n",
              "2       194\n",
              "3        85\n",
              "Name: title_status, dtype: int64"
            ]
          },
          "metadata": {},
          "execution_count": 83
        }
      ],
      "source": [
        "df['title_status'].value_counts()"
      ]
    },
    {
      "cell_type": "code",
      "execution_count": 84,
      "metadata": {
        "colab": {
          "base_uri": "https://localhost:8080/",
          "height": 422
        },
        "id": "KuJ-ZReWIEnS",
        "outputId": "16d17ef9-0a7e-4268-dd22-607602af587f"
      },
      "outputs": [
        {
          "output_type": "execute_result",
          "data": {
            "text/plain": [
              "Text(0, 0.5, 'Features')"
            ]
          },
          "metadata": {},
          "execution_count": 84
        },
        {
          "output_type": "display_data",
          "data": {
            "text/plain": [
              "<Figure size 720x432 with 1 Axes>"
            ],
            "image/png": "[encoded data removed]"
          },
          "metadata": {
            "needs_background": "light"
          }
        }
      ],
      "source": [
        "# Removing the missing percentages greater than zero.\n",
        "missing_percentages =df.isna().sum().sort_values(ascending=False)/len(df) \n",
        "\n",
        "\n",
        "# Plot a graph to check missing percentages \n",
        "plt.figure(figsize=(10,6))\n",
        "missing_percentages[missing_percentages!=0].plot(kind='barh')\n",
        "plt.title(\"Graph for NULL data in percentage \")\n",
        "plt.xlabel(\"% of missing values\")\n",
        "plt.ylabel(\"Features\")"
      ]
    },
    {
      "cell_type": "markdown",
      "metadata": {
        "id": "LpyjA5LrILCA"
      },
      "source": [
        "**manufacturer**"
      ]
    },
    {
      "cell_type": "code",
      "execution_count": 85,
      "metadata": {
        "colab": {
          "base_uri": "https://localhost:8080/"
        },
        "id": "9rdyF3j3IHv1",
        "outputId": "42617dd0-441d-4286-a6a3-babc0b022d9d"
      },
      "outputs": [
        {
          "output_type": "execute_result",
          "data": {
            "text/plain": [
              "9800"
            ]
          },
          "metadata": {},
          "execution_count": 85
        }
      ],
      "source": [
        "df['manufacturer'].isnull().sum()"
      ]
    },
    {
      "cell_type": "code",
      "execution_count": 86,
      "metadata": {
        "colab": {
          "base_uri": "https://localhost:8080/"
        },
        "id": "RxHAXDRtLHyb",
        "outputId": "b29df19e-738c-47a8-b914-bfd3ab433fe5"
      },
      "outputs": [
        {
          "output_type": "execute_result",
          "data": {
            "text/plain": [
              "ford               54458\n",
              "chevrolet          41451\n",
              "toyota             27435\n",
              "honda              17606\n",
              "nissan             16290\n",
              "jeep               15734\n",
              "ram                14181\n",
              "bmw                13146\n",
              "gmc                12908\n",
              "dodge              10878\n",
              "mercedes-benz       9190\n",
              "hyundai             8987\n",
              "subaru              8374\n",
              "volkswagen          7948\n",
              "kia                 7258\n",
              "lexus               7203\n",
              "audi                6822\n",
              "cadillac            5808\n",
              "acura               5353\n",
              "chrysler            5212\n",
              "mazda               4685\n",
              "buick               4628\n",
              "infiniti            4290\n",
              "lincoln             3685\n",
              "volvo               2836\n",
              "mitsubishi          2785\n",
              "mini                2209\n",
              "rover               1766\n",
              "jaguar              1702\n",
              "pontiac             1606\n",
              "porsche             1061\n",
              "saturn               990\n",
              "mercury              888\n",
              "alfa-romeo           802\n",
              "tesla                766\n",
              "fiat                 729\n",
              "harley-davidson      114\n",
              "aston-martin          11\n",
              "land rover            10\n",
              "ferrari                4\n",
              "morgan                 2\n",
              "Name: manufacturer, dtype: int64"
            ]
          },
          "metadata": {},
          "execution_count": 86
        }
      ],
      "source": [
        "df['manufacturer'].value_counts()"
      ]
    },
    {
      "cell_type": "code",
      "execution_count": 87,
      "metadata": {
        "id": "g0IDrcbSLH3u"
      },
      "outputs": [],
      "source": [
        "df['manufacturer'] = df['manufacturer'].fillna(df['manufacturer'].mode()[0])"
      ]
    },
    {
      "cell_type": "code",
      "execution_count": 88,
      "metadata": {
        "colab": {
          "base_uri": "https://localhost:8080/"
        },
        "id": "H3NY0mOBMUAi",
        "outputId": "5ed83735-20c8-4978-d7c3-7e650ef6ee5d"
      },
      "outputs": [
        {
          "output_type": "execute_result",
          "data": {
            "text/plain": [
              "array(['gmc', 'chevrolet', 'toyota', 'ford', 'jeep', 'nissan', 'ram',\n",
              "       'mazda', 'cadillac', 'honda', 'dodge', 'lexus', 'jaguar',\n",
              "       'chrysler', 'volvo', 'audi', 'infiniti', 'lincoln', 'alfa-romeo',\n",
              "       'subaru', 'acura', 'hyundai', 'buick', 'mercedes-benz', 'bmw',\n",
              "       'mitsubishi', 'volkswagen', 'porsche', 'kia', 'rover', 'mini',\n",
              "       'pontiac', 'fiat', 'tesla', 'saturn', 'mercury', 'harley-davidson',\n",
              "       'aston-martin', 'land rover', 'morgan', 'ferrari'], dtype=object)"
            ]
          },
          "metadata": {},
          "execution_count": 88
        }
      ],
      "source": [
        "df['manufacturer'].unique()"
      ]
    },
    {
      "cell_type": "code",
      "execution_count": 89,
      "metadata": {
        "colab": {
          "base_uri": "https://localhost:8080/",
          "height": 357
        },
        "id": "oJq3E9jvLQye",
        "outputId": "126fe3ba-627d-4257-a645-5a4f36079173"
      },
      "outputs": [
        {
          "output_type": "display_data",
          "data": {
            "text/plain": [
              "<Figure size 720x432 with 1 Axes>"
            ],
            "image/png": "[encoded data removed]"
          },
          "metadata": {}
        }
      ],
      "source": [
        "## Pie Chart for TOP 10 manufacturer column\n",
        "\n",
        "plt.figure(figsize=(10,6))\n",
        "plt.pie(df.manufacturer.value_counts()[:10].values,labels=df.manufacturer.value_counts()[:10].index,autopct='%1.2f%%')\n",
        "plt.show()"
      ]
    },
    {
      "cell_type": "markdown",
      "metadata": {
        "id": "if994e3UI0J6"
      },
      "source": [
        "### \" **manufacturer** \" is a **Nominal data**, 3 techniques to solve this:\n",
        "1. ONE HOT ENCODING\n",
        "2. ONE HOT ENCODING WITH MULTIPLE CATEGORIES\n",
        "3. MEAN ENCODING"
      ]
    },
    {
      "cell_type": "code",
      "execution_count": 89,
      "metadata": {
        "id": "Cj4e703TIc2d"
      },
      "outputs": [],
      "source": [
        "\n"
      ]
    },
    {
      "cell_type": "code",
      "execution_count": 90,
      "metadata": {
        "colab": {
          "base_uri": "https://localhost:8080/"
        },
        "id": "z9Kerg5VGbuK",
        "outputId": "ed3759b9-42f9-47d4-80a0-dcef263ce0d7"
      },
      "outputs": [
        {
          "output_type": "stream",
          "name": "stdout",
          "text": [
            "\u001b[?25l\r\u001b[K     |███▉                            | 10 kB 20.5 MB/s eta 0:00:01\r\u001b[K     |███████▋                        | 20 kB 25.1 MB/s eta 0:00:01\r\u001b[K     |███████████▍                    | 30 kB 11.3 MB/s eta 0:00:01\r\u001b[K     |███████████████▏                | 40 kB 8.8 MB/s eta 0:00:01\r\u001b[K     |███████████████████             | 51 kB 4.6 MB/s eta 0:00:01\r\u001b[K     |██████████████████████▊         | 61 kB 5.4 MB/s eta 0:00:01\r\u001b[K     |██████████████████████████▌     | 71 kB 5.5 MB/s eta 0:00:01\r\u001b[K     |██████████████████████████████▎ | 81 kB 6.1 MB/s eta 0:00:01\r\u001b[K     |████████████████████████████████| 86 kB 3.1 MB/s \n",
            "\u001b[?25h"
          ]
        }
      ],
      "source": [
        "!pip install category_encoders --quiet"
      ]
    },
    {
      "cell_type": "code",
      "execution_count": 91,
      "metadata": {
        "id": "5bE_7Cs-GV6t"
      },
      "outputs": [],
      "source": [
        "# title_status looks like an Ordinal data . Here will use Label Encoding\n",
        "\n",
        "from sklearn import preprocessing\n",
        "\n",
        "LabelEncoding = preprocessing.LabelEncoder()\n",
        "\n",
        "df['manufacturer'] = LabelEncoding.fit_transform(df['manufacturer'])\n"
      ]
    },
    {
      "cell_type": "code",
      "execution_count": 92,
      "metadata": {
        "colab": {
          "base_uri": "https://localhost:8080/",
          "height": 423
        },
        "id": "wFJOTzYdOBWM",
        "outputId": "ac3aed9a-7f33-4b10-ed99-c98651e547d5"
      },
      "outputs": [
        {
          "output_type": "execute_result",
          "data": {
            "text/plain": [
              "        price    year  manufacturer  condition    cylinders  fuel  odometer  \\\n",
              "27      33590  2014.0            13       good  8 cylinders     2   57923.0   \n",
              "28      22590  2010.0             7       good  8 cylinders     2   71229.0   \n",
              "29      39590  2020.0             7       good  8 cylinders     2   19160.0   \n",
              "30      30990  2017.0            38       good  8 cylinders     2   41124.0   \n",
              "31      15000  2013.0            12  excellent  6 cylinders     2  128000.0   \n",
              "...       ...     ...           ...        ...          ...   ...       ...   \n",
              "426875  23590  2019.0            30       good  6 cylinders     2   32226.0   \n",
              "426876  30590  2020.0            40       good          NaN     2   12029.0   \n",
              "426877  34990  2020.0             6       good          NaN     0    4174.0   \n",
              "426878  28990  2018.0            22       good  6 cylinders     2   30112.0   \n",
              "426879  30590  2019.0             4       good          NaN     2   22716.0   \n",
              "\n",
              "        title_status  transmission drive       size       type paint_color  \n",
              "27                 0             2   NaN        NaN     pickup       white  \n",
              "28                 0             2   NaN        NaN     pickup        blue  \n",
              "29                 0             2   NaN        NaN     pickup         red  \n",
              "30                 0             2   NaN        NaN     pickup         red  \n",
              "31                 0             0   rwd  full-size      truck       black  \n",
              "...              ...           ...   ...        ...        ...         ...  \n",
              "426875             0             2   fwd        NaN      sedan         NaN  \n",
              "426876             0             2   fwd        NaN      sedan         red  \n",
              "426877             0             2   NaN        NaN  hatchback       white  \n",
              "426878             0             2   fwd        NaN      sedan      silver  \n",
              "426879             0             2   rwd        NaN      coupe         NaN  \n",
              "\n",
              "[341611 rows x 13 columns]"
            ],
            "text/html": [
              "\n",
              "  <div id=\"df-e4d231d6-2fab-466a-b558-77e4e04ce06b\">\n",
              "    <div class=\"colab-df-container\">\n",
              "      <div>\n",
              "<style scoped>\n",
              "    .dataframe tbody tr th:only-of-type {\n",
              "        vertical-align: middle;\n",
              "    }\n",
              "\n",
              "    .dataframe tbody tr th {\n",
              "        vertical-align: top;\n",
              "    }\n",
              "\n",
              "    .dataframe thead th {\n",
              "        text-align: right;\n",
              "    }\n",
              "</style>\n",
              "<table border=\"1\" class=\"dataframe\">\n",
              "  <thead>\n",
              "    <tr style=\"text-align: right;\">\n",
              "      <th></th>\n",
              "      <th>price</th>\n",
              "      <th>year</th>\n",
              "      <th>manufacturer</th>\n",
              "      <th>condition</th>\n",
              "      <th>cylinders</th>\n",
              "      <th>fuel</th>\n",
              "      <th>odometer</th>\n",
              "      <th>title_status</th>\n",
              "      <th>transmission</th>\n",
              "      <th>drive</th>\n",
              "      <th>size</th>\n",
              "      <th>type</th>\n",
              "      <th>paint_color</th>\n",
              "    </tr>\n",
              "  </thead>\n",
              "  <tbody>\n",
              "    <tr>\n",
              "      <th>27</th>\n",
              "      <td>33590</td>\n",
              "      <td>2014.0</td>\n",
              "      <td>13</td>\n",
              "      <td>good</td>\n",
              "      <td>8 cylinders</td>\n",
              "      <td>2</td>\n",
              "      <td>57923.0</td>\n",
              "      <td>0</td>\n",
              "      <td>2</td>\n",
              "      <td>NaN</td>\n",
              "      <td>NaN</td>\n",
              "      <td>pickup</td>\n",
              "      <td>white</td>\n",
              "    </tr>\n",
              "    <tr>\n",
              "      <th>28</th>\n",
              "      <td>22590</td>\n",
              "      <td>2010.0</td>\n",
              "      <td>7</td>\n",
              "      <td>good</td>\n",
              "      <td>8 cylinders</td>\n",
              "      <td>2</td>\n",
              "      <td>71229.0</td>\n",
              "      <td>0</td>\n",
              "      <td>2</td>\n",
              "      <td>NaN</td>\n",
              "      <td>NaN</td>\n",
              "      <td>pickup</td>\n",
              "      <td>blue</td>\n",
              "    </tr>\n",
              "    <tr>\n",
              "      <th>29</th>\n",
              "      <td>39590</td>\n",
              "      <td>2020.0</td>\n",
              "      <td>7</td>\n",
              "      <td>good</td>\n",
              "      <td>8 cylinders</td>\n",
              "      <td>2</td>\n",
              "      <td>19160.0</td>\n",
              "      <td>0</td>\n",
              "      <td>2</td>\n",
              "      <td>NaN</td>\n",
              "      <td>NaN</td>\n",
              "      <td>pickup</td>\n",
              "      <td>red</td>\n",
              "    </tr>\n",
              "    <tr>\n",
              "      <th>30</th>\n",
              "      <td>30990</td>\n",
              "      <td>2017.0</td>\n",
              "      <td>38</td>\n",
              "      <td>good</td>\n",
              "      <td>8 cylinders</td>\n",
              "      <td>2</td>\n",
              "      <td>41124.0</td>\n",
              "      <td>0</td>\n",
              "      <td>2</td>\n",
              "      <td>NaN</td>\n",
              "      <td>NaN</td>\n",
              "      <td>pickup</td>\n",
              "      <td>red</td>\n",
              "    </tr>\n",
              "    <tr>\n",
              "      <th>31</th>\n",
              "      <td>15000</td>\n",
              "      <td>2013.0</td>\n",
              "      <td>12</td>\n",
              "      <td>excellent</td>\n",
              "      <td>6 cylinders</td>\n",
              "      <td>2</td>\n",
              "      <td>128000.0</td>\n",
              "      <td>0</td>\n",
              "      <td>0</td>\n",
              "      <td>rwd</td>\n",
              "      <td>full-size</td>\n",
              "      <td>truck</td>\n",
              "      <td>black</td>\n",
              "    </tr>\n",
              "    <tr>\n",
              "      <th>...</th>\n",
              "      <td>...</td>\n",
              "      <td>...</td>\n",
              "      <td>...</td>\n",
              "      <td>...</td>\n",
              "      <td>...</td>\n",
              "      <td>...</td>\n",
              "      <td>...</td>\n",
              "      <td>...</td>\n",
              "      <td>...</td>\n",
              "      <td>...</td>\n",
              "      <td>...</td>\n",
              "      <td>...</td>\n",
              "      <td>...</td>\n",
              "    </tr>\n",
              "    <tr>\n",
              "      <th>426875</th>\n",
              "      <td>23590</td>\n",
              "      <td>2019.0</td>\n",
              "      <td>30</td>\n",
              "      <td>good</td>\n",
              "      <td>6 cylinders</td>\n",
              "      <td>2</td>\n",
              "      <td>32226.0</td>\n",
              "      <td>0</td>\n",
              "      <td>2</td>\n",
              "      <td>fwd</td>\n",
              "      <td>NaN</td>\n",
              "      <td>sedan</td>\n",
              "      <td>NaN</td>\n",
              "    </tr>\n",
              "    <tr>\n",
              "      <th>426876</th>\n",
              "      <td>30590</td>\n",
              "      <td>2020.0</td>\n",
              "      <td>40</td>\n",
              "      <td>good</td>\n",
              "      <td>NaN</td>\n",
              "      <td>2</td>\n",
              "      <td>12029.0</td>\n",
              "      <td>0</td>\n",
              "      <td>2</td>\n",
              "      <td>fwd</td>\n",
              "      <td>NaN</td>\n",
              "      <td>sedan</td>\n",
              "      <td>red</td>\n",
              "    </tr>\n",
              "    <tr>\n",
              "      <th>426877</th>\n",
              "      <td>34990</td>\n",
              "      <td>2020.0</td>\n",
              "      <td>6</td>\n",
              "      <td>good</td>\n",
              "      <td>NaN</td>\n",
              "      <td>0</td>\n",
              "      <td>4174.0</td>\n",
              "      <td>0</td>\n",
              "      <td>2</td>\n",
              "      <td>NaN</td>\n",
              "      <td>NaN</td>\n",
              "      <td>hatchback</td>\n",
              "      <td>white</td>\n",
              "    </tr>\n",
              "    <tr>\n",
              "      <th>426878</th>\n",
              "      <td>28990</td>\n",
              "      <td>2018.0</td>\n",
              "      <td>22</td>\n",
              "      <td>good</td>\n",
              "      <td>6 cylinders</td>\n",
              "      <td>2</td>\n",
              "      <td>30112.0</td>\n",
              "      <td>0</td>\n",
              "      <td>2</td>\n",
              "      <td>fwd</td>\n",
              "      <td>NaN</td>\n",
              "      <td>sedan</td>\n",
              "      <td>silver</td>\n",
              "    </tr>\n",
              "    <tr>\n",
              "      <th>426879</th>\n",
              "      <td>30590</td>\n",
              "      <td>2019.0</td>\n",
              "      <td>4</td>\n",
              "      <td>good</td>\n",
              "      <td>NaN</td>\n",
              "      <td>2</td>\n",
              "      <td>22716.0</td>\n",
              "      <td>0</td>\n",
              "      <td>2</td>\n",
              "      <td>rwd</td>\n",
              "      <td>NaN</td>\n",
              "      <td>coupe</td>\n",
              "      <td>NaN</td>\n",
              "    </tr>\n",
              "  </tbody>\n",
              "</table>\n",
              "<p>341611 rows × 13 columns</p>\n",
              "</div>\n",
              "      <button class=\"colab-df-convert\" onclick=\"convertToInteractive('df-e4d231d6-2fab-466a-b558-77e4e04ce06b')\"\n",
              "              title=\"Convert this dataframe to an interactive table.\"\n",
              "              style=\"display:none;\">\n",
              "        \n",
              "  <svg xmlns=\"http://www.w3.org/2000/svg\" height=\"24px\"viewBox=\"0 0 24 24\"\n",
              "       width=\"24px\">\n",
              "    <path d=\"M0 0h24v24H0V0z\" fill=\"none\"/>\n",
              "    <path d=\"M18.56 5.44l.94 2.06.94-2.06 2.06-.94-2.06-.94-.94-2.06-.94 2.06-2.06.94zm-11 1L8.5 8.5l.94-2.06 2.06-.94-2.06-.94L8.5 2.5l-.94 2.06-2.06.94zm10 10l.94 2.06.94-2.06 2.06-.94-2.06-.94-.94-2.06-.94 2.06-2.06.94z\"/><path d=\"M17.41 7.96l-1.37-1.37c-.4-.4-.92-.59-1.43-.59-.52 0-1.04.2-1.43.59L10.3 9.45l-7.72 7.72c-.78.78-.78 2.05 0 2.83L4 21.41c.39.39.9.59 1.41.59.51 0 1.02-.2 1.41-.59l7.78-7.78 2.81-2.81c.8-.78.8-2.07 0-2.86zM5.41 20L4 18.59l7.72-7.72 1.47 1.35L5.41 20z\"/>\n",
              "  </svg>\n",
              "      </button>\n",
              "      \n",
              "  <style>\n",
              "    .colab-df-container {\n",
              "      display:flex;\n",
              "      flex-wrap:wrap;\n",
              "      gap: 12px;\n",
              "    }\n",
              "\n",
              "    .colab-df-convert {\n",
              "      background-color: #E8F0FE;\n",
              "      border: none;\n",
              "      border-radius: 50%;\n",
              "      cursor: pointer;\n",
              "      display: none;\n",
              "      fill: #1967D2;\n",
              "      height: 32px;\n",
              "      padding: 0 0 0 0;\n",
              "      width: 32px;\n",
              "    }\n",
              "\n",
              "    .colab-df-convert:hover {\n",
              "      background-color: #E2EBFA;\n",
              "      box-shadow: 0px 1px 2px rgba(60, 64, 67, 0.3), 0px 1px 3px 1px rgba(60, 64, 67, 0.15);\n",
              "      fill: #174EA6;\n",
              "    }\n",
              "\n",
              "    [theme=dark] .colab-df-convert {\n",
              "      background-color: #3B4455;\n",
              "      fill: #D2E3FC;\n",
              "    }\n",
              "\n",
              "    [theme=dark] .colab-df-convert:hover {\n",
              "      background-color: #434B5C;\n",
              "      box-shadow: 0px 1px 3px 1px rgba(0, 0, 0, 0.15);\n",
              "      filter: drop-shadow(0px 1px 2px rgba(0, 0, 0, 0.3));\n",
              "      fill: #FFFFFF;\n",
              "    }\n",
              "  </style>\n",
              "\n",
              "      <script>\n",
              "        const buttonEl =\n",
              "          document.querySelector('#df-e4d231d6-2fab-466a-b558-77e4e04ce06b button.colab-df-convert');\n",
              "        buttonEl.style.display =\n",
              "          google.colab.kernel.accessAllowed ? 'block' : 'none';\n",
              "\n",
              "        async function convertToInteractive(key) {\n",
              "          const element = document.querySelector('#df-e4d231d6-2fab-466a-b558-77e4e04ce06b');\n",
              "          const dataTable =\n",
              "            await google.colab.kernel.invokeFunction('convertToInteractive',\n",
              "                                                     [key], {});\n",
              "          if (!dataTable) return;\n",
              "\n",
              "          const docLinkHtml = 'Like what you see? Visit the ' +\n",
              "            '<a target=\"_blank\" href=https://colab.research.google.com/notebooks/data_table.ipynb>data table notebook</a>'\n",
              "            + ' to learn more about interactive tables.';\n",
              "          element.innerHTML = '';\n",
              "          dataTable['output_type'] = 'display_data';\n",
              "          await google.colab.output.renderOutput(dataTable, element);\n",
              "          const docLink = document.createElement('div');\n",
              "          docLink.innerHTML = docLinkHtml;\n",
              "          element.appendChild(docLink);\n",
              "        }\n",
              "      </script>\n",
              "    </div>\n",
              "  </div>\n",
              "  "
            ]
          },
          "metadata": {},
          "execution_count": 92
        }
      ],
      "source": [
        "df"
      ]
    },
    {
      "cell_type": "code",
      "execution_count": 93,
      "metadata": {
        "colab": {
          "base_uri": "https://localhost:8080/"
        },
        "id": "mhRvi3evHBim",
        "outputId": "4891c99f-71cd-4dfd-84f4-64b4f904bb4f"
      },
      "outputs": [
        {
          "output_type": "execute_result",
          "data": {
            "text/plain": [
              "Index(['price', 'year', 'manufacturer', 'condition', 'cylinders', 'fuel',\n",
              "       'odometer', 'title_status', 'transmission', 'drive', 'size', 'type',\n",
              "       'paint_color'],\n",
              "      dtype='object')"
            ]
          },
          "metadata": {},
          "execution_count": 93
        }
      ],
      "source": [
        "df.columns"
      ]
    },
    {
      "cell_type": "code",
      "execution_count": 94,
      "metadata": {
        "id": "qdmn6JD0PaY8"
      },
      "outputs": [],
      "source": [
        "# Reset Index\n",
        "\n",
        "df.reset_index(inplace = True)\n",
        "df.drop('index',axis =1, inplace= True)"
      ]
    },
    {
      "cell_type": "code",
      "execution_count": 95,
      "metadata": {
        "colab": {
          "base_uri": "https://localhost:8080/",
          "height": 423
        },
        "id": "vmvRGlbaTx1s",
        "outputId": "8c88c75b-9020-469e-d3f9-9316b163f470"
      },
      "outputs": [
        {
          "output_type": "execute_result",
          "data": {
            "text/plain": [
              "        price    year  manufacturer  condition    cylinders  fuel  odometer  \\\n",
              "0       33590  2014.0            13       good  8 cylinders     2   57923.0   \n",
              "1       22590  2010.0             7       good  8 cylinders     2   71229.0   \n",
              "2       39590  2020.0             7       good  8 cylinders     2   19160.0   \n",
              "3       30990  2017.0            38       good  8 cylinders     2   41124.0   \n",
              "4       15000  2013.0            12  excellent  6 cylinders     2  128000.0   \n",
              "...       ...     ...           ...        ...          ...   ...       ...   \n",
              "341606  23590  2019.0            30       good  6 cylinders     2   32226.0   \n",
              "341607  30590  2020.0            40       good          NaN     2   12029.0   \n",
              "341608  34990  2020.0             6       good          NaN     0    4174.0   \n",
              "341609  28990  2018.0            22       good  6 cylinders     2   30112.0   \n",
              "341610  30590  2019.0             4       good          NaN     2   22716.0   \n",
              "\n",
              "        title_status  transmission drive       size       type paint_color  \n",
              "0                  0             2   NaN        NaN     pickup       white  \n",
              "1                  0             2   NaN        NaN     pickup        blue  \n",
              "2                  0             2   NaN        NaN     pickup         red  \n",
              "3                  0             2   NaN        NaN     pickup         red  \n",
              "4                  0             0   rwd  full-size      truck       black  \n",
              "...              ...           ...   ...        ...        ...         ...  \n",
              "341606             0             2   fwd        NaN      sedan         NaN  \n",
              "341607             0             2   fwd        NaN      sedan         red  \n",
              "341608             0             2   NaN        NaN  hatchback       white  \n",
              "341609             0             2   fwd        NaN      sedan      silver  \n",
              "341610             0             2   rwd        NaN      coupe         NaN  \n",
              "\n",
              "[341611 rows x 13 columns]"
            ],
            "text/html": [
              "\n",
              "  <div id=\"df-2986cc0a-4552-41e9-a0ed-18a865aa2870\">\n",
              "    <div class=\"colab-df-container\">\n",
              "      <div>\n",
              "<style scoped>\n",
              "    .dataframe tbody tr th:only-of-type {\n",
              "        vertical-align: middle;\n",
              "    }\n",
              "\n",
              "    .dataframe tbody tr th {\n",
              "        vertical-align: top;\n",
              "    }\n",
              "\n",
              "    .dataframe thead th {\n",
              "        text-align: right;\n",
              "    }\n",
              "</style>\n",
              "<table border=\"1\" class=\"dataframe\">\n",
              "  <thead>\n",
              "    <tr style=\"text-align: right;\">\n",
              "      <th></th>\n",
              "      <th>price</th>\n",
              "      <th>year</th>\n",
              "      <th>manufacturer</th>\n",
              "      <th>condition</th>\n",
              "      <th>cylinders</th>\n",
              "      <th>fuel</th>\n",
              "      <th>odometer</th>\n",
              "      <th>title_status</th>\n",
              "      <th>transmission</th>\n",
              "      <th>drive</th>\n",
              "      <th>size</th>\n",
              "      <th>type</th>\n",
              "      <th>paint_color</th>\n",
              "    </tr>\n",
              "  </thead>\n",
              "  <tbody>\n",
              "    <tr>\n",
              "      <th>0</th>\n",
              "      <td>33590</td>\n",
              "      <td>2014.0</td>\n",
              "      <td>13</td>\n",
              "      <td>good</td>\n",
              "      <td>8 cylinders</td>\n",
              "      <td>2</td>\n",
              "      <td>57923.0</td>\n",
              "      <td>0</td>\n",
              "      <td>2</td>\n",
              "      <td>NaN</td>\n",
              "      <td>NaN</td>\n",
              "      <td>pickup</td>\n",
              "      <td>white</td>\n",
              "    </tr>\n",
              "    <tr>\n",
              "      <th>1</th>\n",
              "      <td>22590</td>\n",
              "      <td>2010.0</td>\n",
              "      <td>7</td>\n",
              "      <td>good</td>\n",
              "      <td>8 cylinders</td>\n",
              "      <td>2</td>\n",
              "      <td>71229.0</td>\n",
              "      <td>0</td>\n",
              "      <td>2</td>\n",
              "      <td>NaN</td>\n",
              "      <td>NaN</td>\n",
              "      <td>pickup</td>\n",
              "      <td>blue</td>\n",
              "    </tr>\n",
              "    <tr>\n",
              "      <th>2</th>\n",
              "      <td>39590</td>\n",
              "      <td>2020.0</td>\n",
              "      <td>7</td>\n",
              "      <td>good</td>\n",
              "      <td>8 cylinders</td>\n",
              "      <td>2</td>\n",
              "      <td>19160.0</td>\n",
              "      <td>0</td>\n",
              "      <td>2</td>\n",
              "      <td>NaN</td>\n",
              "      <td>NaN</td>\n",
              "      <td>pickup</td>\n",
              "      <td>red</td>\n",
              "    </tr>\n",
              "    <tr>\n",
              "      <th>3</th>\n",
              "      <td>30990</td>\n",
              "      <td>2017.0</td>\n",
              "      <td>38</td>\n",
              "      <td>good</td>\n",
              "      <td>8 cylinders</td>\n",
              "      <td>2</td>\n",
              "      <td>41124.0</td>\n",
              "      <td>0</td>\n",
              "      <td>2</td>\n",
              "      <td>NaN</td>\n",
              "      <td>NaN</td>\n",
              "      <td>pickup</td>\n",
              "      <td>red</td>\n",
              "    </tr>\n",
              "    <tr>\n",
              "      <th>4</th>\n",
              "      <td>15000</td>\n",
              "      <td>2013.0</td>\n",
              "      <td>12</td>\n",
              "      <td>excellent</td>\n",
              "      <td>6 cylinders</td>\n",
              "      <td>2</td>\n",
              "      <td>128000.0</td>\n",
              "      <td>0</td>\n",
              "      <td>0</td>\n",
              "      <td>rwd</td>\n",
              "      <td>full-size</td>\n",
              "      <td>truck</td>\n",
              "      <td>black</td>\n",
              "    </tr>\n",
              "    <tr>\n",
              "      <th>...</th>\n",
              "      <td>...</td>\n",
              "      <td>...</td>\n",
              "      <td>...</td>\n",
              "      <td>...</td>\n",
              "      <td>...</td>\n",
              "      <td>...</td>\n",
              "      <td>...</td>\n",
              "      <td>...</td>\n",
              "      <td>...</td>\n",
              "      <td>...</td>\n",
              "      <td>...</td>\n",
              "      <td>...</td>\n",
              "      <td>...</td>\n",
              "    </tr>\n",
              "    <tr>\n",
              "      <th>341606</th>\n",
              "      <td>23590</td>\n",
              "      <td>2019.0</td>\n",
              "      <td>30</td>\n",
              "      <td>good</td>\n",
              "      <td>6 cylinders</td>\n",
              "      <td>2</td>\n",
              "      <td>32226.0</td>\n",
              "      <td>0</td>\n",
              "      <td>2</td>\n",
              "      <td>fwd</td>\n",
              "      <td>NaN</td>\n",
              "      <td>sedan</td>\n",
              "      <td>NaN</td>\n",
              "    </tr>\n",
              "    <tr>\n",
              "      <th>341607</th>\n",
              "      <td>30590</td>\n",
              "      <td>2020.0</td>\n",
              "      <td>40</td>\n",
              "      <td>good</td>\n",
              "      <td>NaN</td>\n",
              "      <td>2</td>\n",
              "      <td>12029.0</td>\n",
              "      <td>0</td>\n",
              "      <td>2</td>\n",
              "      <td>fwd</td>\n",
              "      <td>NaN</td>\n",
              "      <td>sedan</td>\n",
              "      <td>red</td>\n",
              "    </tr>\n",
              "    <tr>\n",
              "      <th>341608</th>\n",
              "      <td>34990</td>\n",
              "      <td>2020.0</td>\n",
              "      <td>6</td>\n",
              "      <td>good</td>\n",
              "      <td>NaN</td>\n",
              "      <td>0</td>\n",
              "      <td>4174.0</td>\n",
              "      <td>0</td>\n",
              "      <td>2</td>\n",
              "      <td>NaN</td>\n",
              "      <td>NaN</td>\n",
              "      <td>hatchback</td>\n",
              "      <td>white</td>\n",
              "    </tr>\n",
              "    <tr>\n",
              "      <th>341609</th>\n",
              "      <td>28990</td>\n",
              "      <td>2018.0</td>\n",
              "      <td>22</td>\n",
              "      <td>good</td>\n",
              "      <td>6 cylinders</td>\n",
              "      <td>2</td>\n",
              "      <td>30112.0</td>\n",
              "      <td>0</td>\n",
              "      <td>2</td>\n",
              "      <td>fwd</td>\n",
              "      <td>NaN</td>\n",
              "      <td>sedan</td>\n",
              "      <td>silver</td>\n",
              "    </tr>\n",
              "    <tr>\n",
              "      <th>341610</th>\n",
              "      <td>30590</td>\n",
              "      <td>2019.0</td>\n",
              "      <td>4</td>\n",
              "      <td>good</td>\n",
              "      <td>NaN</td>\n",
              "      <td>2</td>\n",
              "      <td>22716.0</td>\n",
              "      <td>0</td>\n",
              "      <td>2</td>\n",
              "      <td>rwd</td>\n",
              "      <td>NaN</td>\n",
              "      <td>coupe</td>\n",
              "      <td>NaN</td>\n",
              "    </tr>\n",
              "  </tbody>\n",
              "</table>\n",
              "<p>341611 rows × 13 columns</p>\n",
              "</div>\n",
              "      <button class=\"colab-df-convert\" onclick=\"convertToInteractive('df-2986cc0a-4552-41e9-a0ed-18a865aa2870')\"\n",
              "              title=\"Convert this dataframe to an interactive table.\"\n",
              "              style=\"display:none;\">\n",
              "        \n",
              "  <svg xmlns=\"http://www.w3.org/2000/svg\" height=\"24px\"viewBox=\"0 0 24 24\"\n",
              "       width=\"24px\">\n",
              "    <path d=\"M0 0h24v24H0V0z\" fill=\"none\"/>\n",
              "    <path d=\"M18.56 5.44l.94 2.06.94-2.06 2.06-.94-2.06-.94-.94-2.06-.94 2.06-2.06.94zm-11 1L8.5 8.5l.94-2.06 2.06-.94-2.06-.94L8.5 2.5l-.94 2.06-2.06.94zm10 10l.94 2.06.94-2.06 2.06-.94-2.06-.94-.94-2.06-.94 2.06-2.06.94z\"/><path d=\"M17.41 7.96l-1.37-1.37c-.4-.4-.92-.59-1.43-.59-.52 0-1.04.2-1.43.59L10.3 9.45l-7.72 7.72c-.78.78-.78 2.05 0 2.83L4 21.41c.39.39.9.59 1.41.59.51 0 1.02-.2 1.41-.59l7.78-7.78 2.81-2.81c.8-.78.8-2.07 0-2.86zM5.41 20L4 18.59l7.72-7.72 1.47 1.35L5.41 20z\"/>\n",
              "  </svg>\n",
              "      </button>\n",
              "      \n",
              "  <style>\n",
              "    .colab-df-container {\n",
              "      display:flex;\n",
              "      flex-wrap:wrap;\n",
              "      gap: 12px;\n",
              "    }\n",
              "\n",
              "    .colab-df-convert {\n",
              "      background-color: #E8F0FE;\n",
              "      border: none;\n",
              "      border-radius: 50%;\n",
              "      cursor: pointer;\n",
              "      display: none;\n",
              "      fill: #1967D2;\n",
              "      height: 32px;\n",
              "      padding: 0 0 0 0;\n",
              "      width: 32px;\n",
              "    }\n",
              "\n",
              "    .colab-df-convert:hover {\n",
              "      background-color: #E2EBFA;\n",
              "      box-shadow: 0px 1px 2px rgba(60, 64, 67, 0.3), 0px 1px 3px 1px rgba(60, 64, 67, 0.15);\n",
              "      fill: #174EA6;\n",
              "    }\n",
              "\n",
              "    [theme=dark] .colab-df-convert {\n",
              "      background-color: #3B4455;\n",
              "      fill: #D2E3FC;\n",
              "    }\n",
              "\n",
              "    [theme=dark] .colab-df-convert:hover {\n",
              "      background-color: #434B5C;\n",
              "      box-shadow: 0px 1px 3px 1px rgba(0, 0, 0, 0.15);\n",
              "      filter: drop-shadow(0px 1px 2px rgba(0, 0, 0, 0.3));\n",
              "      fill: #FFFFFF;\n",
              "    }\n",
              "  </style>\n",
              "\n",
              "      <script>\n",
              "        const buttonEl =\n",
              "          document.querySelector('#df-2986cc0a-4552-41e9-a0ed-18a865aa2870 button.colab-df-convert');\n",
              "        buttonEl.style.display =\n",
              "          google.colab.kernel.accessAllowed ? 'block' : 'none';\n",
              "\n",
              "        async function convertToInteractive(key) {\n",
              "          const element = document.querySelector('#df-2986cc0a-4552-41e9-a0ed-18a865aa2870');\n",
              "          const dataTable =\n",
              "            await google.colab.kernel.invokeFunction('convertToInteractive',\n",
              "                                                     [key], {});\n",
              "          if (!dataTable) return;\n",
              "\n",
              "          const docLinkHtml = 'Like what you see? Visit the ' +\n",
              "            '<a target=\"_blank\" href=https://colab.research.google.com/notebooks/data_table.ipynb>data table notebook</a>'\n",
              "            + ' to learn more about interactive tables.';\n",
              "          element.innerHTML = '';\n",
              "          dataTable['output_type'] = 'display_data';\n",
              "          await google.colab.output.renderOutput(dataTable, element);\n",
              "          const docLink = document.createElement('div');\n",
              "          docLink.innerHTML = docLinkHtml;\n",
              "          element.appendChild(docLink);\n",
              "        }\n",
              "      </script>\n",
              "    </div>\n",
              "  </div>\n",
              "  "
            ]
          },
          "metadata": {},
          "execution_count": 95
        }
      ],
      "source": [
        "df"
      ]
    },
    {
      "cell_type": "markdown",
      "metadata": {
        "id": "tVwmV1pbVxB5"
      },
      "source": [
        "**condition**\n",
        "\n"
      ]
    },
    {
      "cell_type": "code",
      "execution_count": 96,
      "metadata": {
        "colab": {
          "base_uri": "https://localhost:8080/"
        },
        "id": "luxnet1jU48C",
        "outputId": "b62e2be6-f37b-49e5-bb2e-aa5b14141e2f"
      },
      "outputs": [
        {
          "output_type": "execute_result",
          "data": {
            "text/plain": [
              "130517"
            ]
          },
          "metadata": {},
          "execution_count": 96
        }
      ],
      "source": [
        "df['condition'].isnull().sum()"
      ]
    },
    {
      "cell_type": "code",
      "execution_count": 97,
      "metadata": {
        "colab": {
          "base_uri": "https://localhost:8080/"
        },
        "id": "c7-alPG7WCyN",
        "outputId": "fc695680-ede3-4eba-b211-d73194b72dfb"
      },
      "outputs": [
        {
          "output_type": "execute_result",
          "data": {
            "text/plain": [
              "good         106297\n",
              "excellent     82311\n",
              "like new      18085\n",
              "fair           3373\n",
              "new             657\n",
              "salvage         371\n",
              "Name: condition, dtype: int64"
            ]
          },
          "metadata": {},
          "execution_count": 97
        }
      ],
      "source": [
        "df['condition'].value_counts()"
      ]
    },
    {
      "cell_type": "code",
      "execution_count": 98,
      "metadata": {
        "colab": {
          "base_uri": "https://localhost:8080/",
          "height": 423
        },
        "id": "yJh4iPX4pjvw",
        "outputId": "72a6518e-2569-441e-d71e-f9788a0f9546"
      },
      "outputs": [
        {
          "output_type": "execute_result",
          "data": {
            "text/plain": [
              "     condition    year\n",
              "0    excellent  1995.0\n",
              "1    excellent  1996.0\n",
              "2    excellent  1997.0\n",
              "3    excellent  1998.0\n",
              "4    excellent  1999.0\n",
              "..         ...     ...\n",
              "161    salvage  2017.0\n",
              "162    salvage  2018.0\n",
              "163    salvage  2019.0\n",
              "164    salvage  2020.0\n",
              "165    salvage  2021.0\n",
              "\n",
              "[166 rows x 2 columns]"
            ],
            "text/html": [
              "\n",
              "  <div id=\"df-46cbac91-1cb4-40be-a6b5-7796e46448c0\">\n",
              "    <div class=\"colab-df-container\">\n",
              "      <div>\n",
              "<style scoped>\n",
              "    .dataframe tbody tr th:only-of-type {\n",
              "        vertical-align: middle;\n",
              "    }\n",
              "\n",
              "    .dataframe tbody tr th {\n",
              "        vertical-align: top;\n",
              "    }\n",
              "\n",
              "    .dataframe thead th {\n",
              "        text-align: right;\n",
              "    }\n",
              "</style>\n",
              "<table border=\"1\" class=\"dataframe\">\n",
              "  <thead>\n",
              "    <tr style=\"text-align: right;\">\n",
              "      <th></th>\n",
              "      <th>condition</th>\n",
              "      <th>year</th>\n",
              "    </tr>\n",
              "  </thead>\n",
              "  <tbody>\n",
              "    <tr>\n",
              "      <th>0</th>\n",
              "      <td>excellent</td>\n",
              "      <td>1995.0</td>\n",
              "    </tr>\n",
              "    <tr>\n",
              "      <th>1</th>\n",
              "      <td>excellent</td>\n",
              "      <td>1996.0</td>\n",
              "    </tr>\n",
              "    <tr>\n",
              "      <th>2</th>\n",
              "      <td>excellent</td>\n",
              "      <td>1997.0</td>\n",
              "    </tr>\n",
              "    <tr>\n",
              "      <th>3</th>\n",
              "      <td>excellent</td>\n",
              "      <td>1998.0</td>\n",
              "    </tr>\n",
              "    <tr>\n",
              "      <th>4</th>\n",
              "      <td>excellent</td>\n",
              "      <td>1999.0</td>\n",
              "    </tr>\n",
              "    <tr>\n",
              "      <th>...</th>\n",
              "      <td>...</td>\n",
              "      <td>...</td>\n",
              "    </tr>\n",
              "    <tr>\n",
              "      <th>161</th>\n",
              "      <td>salvage</td>\n",
              "      <td>2017.0</td>\n",
              "    </tr>\n",
              "    <tr>\n",
              "      <th>162</th>\n",
              "      <td>salvage</td>\n",
              "      <td>2018.0</td>\n",
              "    </tr>\n",
              "    <tr>\n",
              "      <th>163</th>\n",
              "      <td>salvage</td>\n",
              "      <td>2019.0</td>\n",
              "    </tr>\n",
              "    <tr>\n",
              "      <th>164</th>\n",
              "      <td>salvage</td>\n",
              "      <td>2020.0</td>\n",
              "    </tr>\n",
              "    <tr>\n",
              "      <th>165</th>\n",
              "      <td>salvage</td>\n",
              "      <td>2021.0</td>\n",
              "    </tr>\n",
              "  </tbody>\n",
              "</table>\n",
              "<p>166 rows × 2 columns</p>\n",
              "</div>\n",
              "      <button class=\"colab-df-convert\" onclick=\"convertToInteractive('df-46cbac91-1cb4-40be-a6b5-7796e46448c0')\"\n",
              "              title=\"Convert this dataframe to an interactive table.\"\n",
              "              style=\"display:none;\">\n",
              "        \n",
              "  <svg xmlns=\"http://www.w3.org/2000/svg\" height=\"24px\"viewBox=\"0 0 24 24\"\n",
              "       width=\"24px\">\n",
              "    <path d=\"M0 0h24v24H0V0z\" fill=\"none\"/>\n",
              "    <path d=\"M18.56 5.44l.94 2.06.94-2.06 2.06-.94-2.06-.94-.94-2.06-.94 2.06-2.06.94zm-11 1L8.5 8.5l.94-2.06 2.06-.94-2.06-.94L8.5 2.5l-.94 2.06-2.06.94zm10 10l.94 2.06.94-2.06 2.06-.94-2.06-.94-.94-2.06-.94 2.06-2.06.94z\"/><path d=\"M17.41 7.96l-1.37-1.37c-.4-.4-.92-.59-1.43-.59-.52 0-1.04.2-1.43.59L10.3 9.45l-7.72 7.72c-.78.78-.78 2.05 0 2.83L4 21.41c.39.39.9.59 1.41.59.51 0 1.02-.2 1.41-.59l7.78-7.78 2.81-2.81c.8-.78.8-2.07 0-2.86zM5.41 20L4 18.59l7.72-7.72 1.47 1.35L5.41 20z\"/>\n",
              "  </svg>\n",
              "      </button>\n",
              "      \n",
              "  <style>\n",
              "    .colab-df-container {\n",
              "      display:flex;\n",
              "      flex-wrap:wrap;\n",
              "      gap: 12px;\n",
              "    }\n",
              "\n",
              "    .colab-df-convert {\n",
              "      background-color: #E8F0FE;\n",
              "      border: none;\n",
              "      border-radius: 50%;\n",
              "      cursor: pointer;\n",
              "      display: none;\n",
              "      fill: #1967D2;\n",
              "      height: 32px;\n",
              "      padding: 0 0 0 0;\n",
              "      width: 32px;\n",
              "    }\n",
              "\n",
              "    .colab-df-convert:hover {\n",
              "      background-color: #E2EBFA;\n",
              "      box-shadow: 0px 1px 2px rgba(60, 64, 67, 0.3), 0px 1px 3px 1px rgba(60, 64, 67, 0.15);\n",
              "      fill: #174EA6;\n",
              "    }\n",
              "\n",
              "    [theme=dark] .colab-df-convert {\n",
              "      background-color: #3B4455;\n",
              "      fill: #D2E3FC;\n",
              "    }\n",
              "\n",
              "    [theme=dark] .colab-df-convert:hover {\n",
              "      background-color: #434B5C;\n",
              "      box-shadow: 0px 1px 3px 1px rgba(0, 0, 0, 0.15);\n",
              "      filter: drop-shadow(0px 1px 2px rgba(0, 0, 0, 0.3));\n",
              "      fill: #FFFFFF;\n",
              "    }\n",
              "  </style>\n",
              "\n",
              "      <script>\n",
              "        const buttonEl =\n",
              "          document.querySelector('#df-46cbac91-1cb4-40be-a6b5-7796e46448c0 button.colab-df-convert');\n",
              "        buttonEl.style.display =\n",
              "          google.colab.kernel.accessAllowed ? 'block' : 'none';\n",
              "\n",
              "        async function convertToInteractive(key) {\n",
              "          const element = document.querySelector('#df-46cbac91-1cb4-40be-a6b5-7796e46448c0');\n",
              "          const dataTable =\n",
              "            await google.colab.kernel.invokeFunction('convertToInteractive',\n",
              "                                                     [key], {});\n",
              "          if (!dataTable) return;\n",
              "\n",
              "          const docLinkHtml = 'Like what you see? Visit the ' +\n",
              "            '<a target=\"_blank\" href=https://colab.research.google.com/notebooks/data_table.ipynb>data table notebook</a>'\n",
              "            + ' to learn more about interactive tables.';\n",
              "          element.innerHTML = '';\n",
              "          dataTable['output_type'] = 'display_data';\n",
              "          await google.colab.output.renderOutput(dataTable, element);\n",
              "          const docLink = document.createElement('div');\n",
              "          docLink.innerHTML = docLinkHtml;\n",
              "          element.appendChild(docLink);\n",
              "        }\n",
              "      </script>\n",
              "    </div>\n",
              "  </div>\n",
              "  "
            ]
          },
          "metadata": {},
          "execution_count": 98
        }
      ],
      "source": [
        "df_group_one = df[['condition','year']]\n",
        "df_group_one = df_group_one.groupby(['condition','year'],as_index=False).count()\n",
        "df_group_one"
      ]
    },
    {
      "cell_type": "code",
      "execution_count": 99,
      "metadata": {
        "colab": {
          "base_uri": "https://localhost:8080/"
        },
        "id": "bHjTrP-zqAVu",
        "outputId": "cf4a1b93-2f4f-4b60-d4d2-e34975f3f6e7"
      },
      "outputs": [
        {
          "output_type": "execute_result",
          "data": {
            "text/plain": [
              "2018.0    13986\n",
              "2017.0    11298\n",
              "2019.0    10123\n",
              "2020.0     9738\n",
              "2016.0     7853\n",
              "2013.0     7106\n",
              "2014.0     6369\n",
              "2015.0     6269\n",
              "2012.0     4921\n",
              "2011.0     3929\n",
              "2008.0     3214\n",
              "2010.0     3114\n",
              "2007.0     2747\n",
              "2006.0     2593\n",
              "2009.0     2486\n",
              "2005.0     2072\n",
              "2004.0     1844\n",
              "2003.0     1494\n",
              "2002.0     1203\n",
              "2001.0      958\n",
              "2000.0      752\n",
              "1999.0      642\n",
              "1998.0      481\n",
              "1997.0      402\n",
              "1995.0      292\n",
              "1996.0      270\n",
              "2021.0      139\n",
              "2022.0        2\n",
              "Name: year, dtype: int64"
            ]
          },
          "metadata": {},
          "execution_count": 99
        }
      ],
      "source": [
        "df[df.condition == 'good'].year.value_counts()"
      ]
    },
    {
      "cell_type": "code",
      "execution_count": 100,
      "metadata": {
        "id": "AeqnUgluWHaB"
      },
      "outputs": [],
      "source": [
        "df['condition'] = df['condition'].fillna(df['condition'].mode()[0])"
      ]
    },
    {
      "cell_type": "code",
      "execution_count": 101,
      "metadata": {
        "colab": {
          "base_uri": "https://localhost:8080/",
          "height": 357
        },
        "id": "eJ7uryB0WNqQ",
        "outputId": "1feb301e-83cc-45c5-c460-4e0bd4c01f49"
      },
      "outputs": [
        {
          "output_type": "display_data",
          "data": {
            "text/plain": [
              "<Figure size 720x432 with 1 Axes>"
            ],
            "image/png": "[encoded data removed]"
          },
          "metadata": {}
        }
      ],
      "source": [
        "## Pie Chart for condition column\n",
        "\n",
        "plt.figure(figsize=(10,6))\n",
        "plt.pie(df.condition.value_counts().values,labels=df.condition.value_counts().index,autopct='%1.2f%%')\n",
        "plt.show()"
      ]
    },
    {
      "cell_type": "code",
      "execution_count": 102,
      "metadata": {
        "id": "h68mcAP_WPD1"
      },
      "outputs": [],
      "source": [
        "# title_status looks like an Ordinal data . Here will use Label Encoding\n",
        "\n",
        "from sklearn import preprocessing\n",
        "\n",
        "LabelEncoding = preprocessing.LabelEncoder()\n",
        "\n",
        "df['condition'] = LabelEncoding.fit_transform(df['condition'])"
      ]
    },
    {
      "cell_type": "markdown",
      "metadata": {
        "id": "uHpv2YZQWxKy"
      },
      "source": [
        "**cylinder**"
      ]
    },
    {
      "cell_type": "code",
      "execution_count": 103,
      "metadata": {
        "colab": {
          "base_uri": "https://localhost:8080/"
        },
        "id": "Nn8oVFS8Wvr-",
        "outputId": "15e1eb22-eb99-40db-93e6-74cdf673bada"
      },
      "outputs": [
        {
          "output_type": "execute_result",
          "data": {
            "text/plain": [
              "141037"
            ]
          },
          "metadata": {},
          "execution_count": 103
        }
      ],
      "source": [
        "df['cylinders'].isnull().sum()"
      ]
    },
    {
      "cell_type": "code",
      "execution_count": 104,
      "metadata": {
        "colab": {
          "base_uri": "https://localhost:8080/"
        },
        "id": "C_s6jw9HWivM",
        "outputId": "b068af33-3d56-4f78-9c13-4704cdb6a389"
      },
      "outputs": [
        {
          "output_type": "execute_result",
          "data": {
            "text/plain": [
              "6 cylinders     78942\n",
              "4 cylinders     66429\n",
              "8 cylinders     51496\n",
              "5 cylinders      1432\n",
              "10 cylinders      960\n",
              "other             751\n",
              "3 cylinders       458\n",
              "12 cylinders      106\n",
              "Name: cylinders, dtype: int64"
            ]
          },
          "metadata": {},
          "execution_count": 104
        }
      ],
      "source": [
        "df['cylinders'].value_counts()"
      ]
    },
    {
      "cell_type": "code",
      "execution_count": 105,
      "metadata": {
        "id": "k9frvUdJWkcg"
      },
      "outputs": [],
      "source": [
        "# splitting the cylinder column\n",
        "\n",
        "df['cylinders'] = df['cylinders'].str.split(' ').str[0]"
      ]
    },
    {
      "cell_type": "code",
      "execution_count": 106,
      "metadata": {
        "id": "LN43pceVXUTr"
      },
      "outputs": [],
      "source": [
        "# filling null values\n",
        "\n",
        "df['cylinders'] = df['cylinders'].fillna(df['cylinders'].mode()[0])"
      ]
    },
    {
      "cell_type": "code",
      "execution_count": 107,
      "metadata": {
        "id": "K72V8_LLXbgZ"
      },
      "outputs": [],
      "source": [
        "# replacing others value in cylinder column with 0\n",
        "df['cylinders'] = df['cylinders'].replace(['other'],'0')\n"
      ]
    },
    {
      "cell_type": "code",
      "execution_count": 108,
      "metadata": {
        "id": "pB7T3g3IXx-c"
      },
      "outputs": [],
      "source": [
        "# changing into integer column\n",
        "\n",
        "df['cylinders'] = df['cylinders'].astype('int')"
      ]
    },
    {
      "cell_type": "code",
      "execution_count": 109,
      "metadata": {
        "colab": {
          "base_uri": "https://localhost:8080/",
          "height": 559
        },
        "id": "BX-9bRCTY0H2",
        "outputId": "a7d9f3e1-9222-4bcf-b3d2-c52daf8b635f"
      },
      "outputs": [
        {
          "output_type": "execute_result",
          "data": {
            "text/plain": [
              "<matplotlib.axes._subplots.AxesSubplot at 0x7f6297c71b90>"
            ]
          },
          "metadata": {},
          "execution_count": 109
        },
        {
          "output_type": "display_data",
          "data": {
            "text/plain": [
              "<Figure size 864x576 with 1 Axes>"
            ],
            "image/png": "[encoded data removed]"
          },
          "metadata": {
            "needs_background": "light"
          }
        }
      ],
      "source": [
        "# creating a graph to check null values\n",
        "\n",
        "plt.figure(figsize=(12,8))\n",
        "sns.heatmap(df.isnull(),yticklabels=False,cbar=False,cmap='viridis')"
      ]
    },
    {
      "cell_type": "code",
      "execution_count": 110,
      "metadata": {
        "colab": {
          "base_uri": "https://localhost:8080/",
          "height": 422
        },
        "id": "vh3chrqFZRLa",
        "outputId": "b9458dda-8ada-4f01-e4dd-c4cff28d547b"
      },
      "outputs": [
        {
          "output_type": "execute_result",
          "data": {
            "text/plain": [
              "Text(0, 0.5, 'Features')"
            ]
          },
          "metadata": {},
          "execution_count": 110
        },
        {
          "output_type": "display_data",
          "data": {
            "text/plain": [
              "<Figure size 720x432 with 1 Axes>"
            ],
            "image/png": "[encoded data removed]"
          },
          "metadata": {
            "needs_background": "light"
          }
        }
      ],
      "source": [
        "# Removing the missing percentages greater than zero.\n",
        "missing_percentages =df.isna().sum().sort_values(ascending=False)/len(df) \n",
        "\n",
        "# Plot a graph to check missing percentages \n",
        "plt.figure(figsize=(10,6))\n",
        "missing_percentages[missing_percentages!=0].plot(kind='barh')\n",
        "plt.title(\"Graph for NULL data in percentage \")\n",
        "plt.xlabel(\"% of missing values\")\n",
        "plt.ylabel(\"Features\")"
      ]
    },
    {
      "cell_type": "markdown",
      "metadata": {
        "id": "huE1rAs9YyCR"
      },
      "source": [
        "**drive** "
      ]
    },
    {
      "cell_type": "code",
      "execution_count": 111,
      "metadata": {
        "colab": {
          "base_uri": "https://localhost:8080/"
        },
        "id": "DvItNoJeYt70",
        "outputId": "794fb0b2-4c1d-4a87-d644-9fc42e737253"
      },
      "outputs": [
        {
          "output_type": "execute_result",
          "data": {
            "text/plain": [
              "103655"
            ]
          },
          "metadata": {},
          "execution_count": 111
        }
      ],
      "source": [
        "df['drive'].isnull().sum()"
      ]
    },
    {
      "cell_type": "code",
      "execution_count": 112,
      "metadata": {
        "colab": {
          "base_uri": "https://localhost:8080/"
        },
        "id": "GfU2pNmMYvGj",
        "outputId": "3ea92077-a618-46bf-eb55-ddde942aee41"
      },
      "outputs": [
        {
          "output_type": "execute_result",
          "data": {
            "text/plain": [
              "4wd    103971\n",
              "fwd     90490\n",
              "rwd     43495\n",
              "Name: drive, dtype: int64"
            ]
          },
          "metadata": {},
          "execution_count": 112
        }
      ],
      "source": [
        "df['drive'].value_counts()"
      ]
    },
    {
      "cell_type": "code",
      "execution_count": 113,
      "metadata": {
        "id": "z2GtVxmDZLqR"
      },
      "outputs": [],
      "source": [
        "df['drive'] = df['drive'].fillna(df['drive'].mode()[0])"
      ]
    },
    {
      "cell_type": "code",
      "execution_count": 114,
      "metadata": {
        "colab": {
          "base_uri": "https://localhost:8080/",
          "height": 352
        },
        "id": "BauVXA6wrTLx",
        "outputId": "e9e3f97f-24a2-4040-a018-79e571c8284f"
      },
      "outputs": [
        {
          "output_type": "execute_result",
          "data": {
            "text/plain": [
              "<matplotlib.axes._subplots.AxesSubplot at 0x7f62922d8e10>"
            ]
          },
          "metadata": {},
          "execution_count": 114
        },
        {
          "output_type": "display_data",
          "data": {
            "text/plain": [
              "<Figure size 720x360 with 1 Axes>"
            ],
            "image/png": "[encoded data removed]"
          },
          "metadata": {
            "needs_background": "light"
          }
        }
      ],
      "source": [
        "plt.figure(figsize=(10,5))\n",
        "sns.boxplot(x=\"drive\", y=\"price\", data=df)"
      ]
    },
    {
      "cell_type": "code",
      "execution_count": 114,
      "metadata": {
        "id": "fmM7fQBhrzj_"
      },
      "outputs": [],
      "source": [
        ""
      ]
    },
    {
      "cell_type": "code",
      "execution_count": 115,
      "metadata": {
        "colab": {
          "base_uri": "https://localhost:8080/",
          "height": 357
        },
        "id": "yilHCJhVZxjP",
        "outputId": "83fd1f0e-16c6-4866-aa37-a86a479d3bf4"
      },
      "outputs": [
        {
          "output_type": "display_data",
          "data": {
            "text/plain": [
              "<Figure size 720x432 with 1 Axes>"
            ],
            "image/png": "[encoded data removed]"
          },
          "metadata": {}
        }
      ],
      "source": [
        "## Pie Chart for drive column\n",
        "\n",
        "plt.figure(figsize=(10,6))\n",
        "plt.pie(df.drive.value_counts().values,labels=df.drive.value_counts().index,autopct='%1.2f%%')\n",
        "plt.show()"
      ]
    },
    {
      "cell_type": "code",
      "execution_count": 116,
      "metadata": {
        "id": "4CQTzs3bZ0x4"
      },
      "outputs": [],
      "source": [
        "# title_status looks like an Ordinal data . Here will use Label Encoding\n",
        "\n",
        "from sklearn import preprocessing\n",
        "\n",
        "LabelEncoding = preprocessing.LabelEncoder()\n",
        "\n",
        "df['drive'] = LabelEncoding.fit_transform(df['drive'])"
      ]
    },
    {
      "cell_type": "markdown",
      "metadata": {
        "id": "ZRjjyTATaI4M"
      },
      "source": [
        "**type**"
      ]
    },
    {
      "cell_type": "code",
      "execution_count": 117,
      "metadata": {
        "colab": {
          "base_uri": "https://localhost:8080/"
        },
        "id": "eZt7-PGlZ9BO",
        "outputId": "643e0a62-d3ae-4252-cd63-9ee3c43a5363"
      },
      "outputs": [
        {
          "output_type": "execute_result",
          "data": {
            "text/plain": [
              "68278"
            ]
          },
          "metadata": {},
          "execution_count": 117
        }
      ],
      "source": [
        "df['type'].isnull().sum()"
      ]
    },
    {
      "cell_type": "code",
      "execution_count": 118,
      "metadata": {
        "colab": {
          "base_uri": "https://localhost:8080/"
        },
        "id": "vplYJkdRZ-IR",
        "outputId": "e8686586-41c2-4b3b-8a7d-eba30aacbae7"
      },
      "outputs": [
        {
          "output_type": "execute_result",
          "data": {
            "text/plain": [
              "sedan          74668\n",
              "SUV            63888\n",
              "pickup         35661\n",
              "truck          24287\n",
              "other          18294\n",
              "hatchback      15131\n",
              "coupe          14949\n",
              "wagon           9222\n",
              "van             6826\n",
              "convertible     5706\n",
              "mini-van        3980\n",
              "bus              365\n",
              "offroad          356\n",
              "Name: type, dtype: int64"
            ]
          },
          "metadata": {},
          "execution_count": 118
        }
      ],
      "source": [
        "df['type'].value_counts()"
      ]
    },
    {
      "cell_type": "code",
      "execution_count": 119,
      "metadata": {
        "id": "CY1ru2nJaSrt"
      },
      "outputs": [],
      "source": [
        "df['type'] = df['type'].fillna(df['type'].mode()[0])"
      ]
    },
    {
      "cell_type": "code",
      "execution_count": 120,
      "metadata": {
        "colab": {
          "base_uri": "https://localhost:8080/",
          "height": 357
        },
        "id": "G09ux-gpbHEv",
        "outputId": "9b6d882a-cca5-4bb5-86c0-34cdb8ed4077"
      },
      "outputs": [
        {
          "output_type": "display_data",
          "data": {
            "text/plain": [
              "<Figure size 720x432 with 1 Axes>"
            ],
            "image/png": "[encoded data removed]"
          },
          "metadata": {}
        }
      ],
      "source": [
        "## Pie Chart for top 6 type column\n",
        "\n",
        "plt.figure(figsize=(10,6))\n",
        "plt.pie(df['type'].value_counts().values[:6],labels=df['type'].value_counts().index[:6],autopct='%1.2f%%')\n",
        "plt.show()"
      ]
    },
    {
      "cell_type": "code",
      "execution_count": 121,
      "metadata": {
        "id": "m2iTxdSc12W0"
      },
      "outputs": [],
      "source": [
        "\n",
        "# title_status looks like an Ordinal data . Here will use Label Encoding\n",
        "\n",
        "from sklearn import preprocessing\n",
        "\n",
        "LabelEncoding = preprocessing.LabelEncoder()\n",
        "\n",
        "df['type'] = LabelEncoding.fit_transform(df['type'])"
      ]
    },
    {
      "cell_type": "code",
      "execution_count": 122,
      "metadata": {
        "colab": {
          "base_uri": "https://localhost:8080/",
          "height": 422
        },
        "id": "WKp8CYap3stL",
        "outputId": "6594fc97-4d52-4bcc-c6a0-6cd7f4894b4f"
      },
      "outputs": [
        {
          "output_type": "execute_result",
          "data": {
            "text/plain": [
              "Text(0, 0.5, 'Features')"
            ]
          },
          "metadata": {},
          "execution_count": 122
        },
        {
          "output_type": "display_data",
          "data": {
            "text/plain": [
              "<Figure size 720x432 with 1 Axes>"
            ],
            "image/png": "[encoded data removed]"
          },
          "metadata": {
            "needs_background": "light"
          }
        }
      ],
      "source": [
        "# Removing the missing percentages greater than zero.\n",
        "missing_percentages =df.isna().sum().sort_values(ascending=False)/len(df) \n",
        "\n",
        "# Plot a graph to check missing percentages \n",
        "plt.figure(figsize=(10,6))\n",
        "missing_percentages[missing_percentages!=0].plot(kind='barh')\n",
        "plt.title(\"Graph for NULL data in percentage \")\n",
        "plt.xlabel(\"% of missing values\")\n",
        "plt.ylabel(\"Features\")"
      ]
    },
    {
      "cell_type": "markdown",
      "metadata": {
        "id": "hqeERHxB35sH"
      },
      "source": [
        "Size column contains about 70 percent of the Null values, dropping this column for now"
      ]
    },
    {
      "cell_type": "code",
      "execution_count": 123,
      "metadata": {
        "id": "xHubRc-f35Oi"
      },
      "outputs": [],
      "source": [
        "# size column drop\n",
        "\n",
        "df.drop('size' , axis =1 , inplace = True)"
      ]
    },
    {
      "cell_type": "markdown",
      "metadata": {
        "id": "s3sAkSmH4v1A"
      },
      "source": [
        "**paint_color**         "
      ]
    },
    {
      "cell_type": "code",
      "execution_count": 124,
      "metadata": {
        "colab": {
          "base_uri": "https://localhost:8080/"
        },
        "id": "he5vcn3L3tha",
        "outputId": "2bd5861e-1c12-49c8-86ba-4c1f26df20ca"
      },
      "outputs": [
        {
          "output_type": "execute_result",
          "data": {
            "text/plain": [
              "98374"
            ]
          },
          "metadata": {},
          "execution_count": 124
        }
      ],
      "source": [
        "df['paint_color'].isnull().sum()"
      ]
    },
    {
      "cell_type": "code",
      "execution_count": 125,
      "metadata": {
        "colab": {
          "base_uri": "https://localhost:8080/"
        },
        "id": "AMVNI7Ma4Poe",
        "outputId": "04e07832-38c1-4b21-e866-b1e93a433153"
      },
      "outputs": [
        {
          "output_type": "execute_result",
          "data": {
            "text/plain": [
              "white     63586\n",
              "black     53033\n",
              "silver    36666\n",
              "blue      25594\n",
              "red       24748\n",
              "grey      20356\n",
              "green      5297\n",
              "custom     5268\n",
              "brown      5245\n",
              "orange     1510\n",
              "yellow     1420\n",
              "purple      514\n",
              "Name: paint_color, dtype: int64"
            ]
          },
          "metadata": {},
          "execution_count": 125
        }
      ],
      "source": [
        "df['paint_color'].value_counts()"
      ]
    },
    {
      "cell_type": "code",
      "execution_count": 126,
      "metadata": {
        "id": "5iqN-KL44_zx"
      },
      "outputs": [],
      "source": [
        "df['paint_color'] = df['paint_color'].fillna(df['paint_color'].mode()[0])"
      ]
    },
    {
      "cell_type": "code",
      "execution_count": 127,
      "metadata": {
        "colab": {
          "base_uri": "https://localhost:8080/",
          "height": 357
        },
        "id": "aYMIJg615Mxu",
        "outputId": "d30d898b-e0bb-49c0-e581-510709fa73b0"
      },
      "outputs": [
        {
          "output_type": "display_data",
          "data": {
            "text/plain": [
              "<Figure size 720x432 with 1 Axes>"
            ],
            "image/png": "[encoded data removed]"
          },
          "metadata": {}
        }
      ],
      "source": [
        "## Pie Chart for top 6 paint_color column\n",
        "\n",
        "plt.figure(figsize=(10,6))\n",
        "plt.pie(df['paint_color'].value_counts().values[:6],labels=df['paint_color'].value_counts().index[:6],autopct='%1.2f%%')\n",
        "plt.show()"
      ]
    },
    {
      "cell_type": "code",
      "execution_count": 128,
      "metadata": {
        "id": "JIuhgcaa5i48"
      },
      "outputs": [],
      "source": [
        "# title_status looks like an Ordinal data . Here will use Label Encoding\n",
        "\n",
        "from sklearn import preprocessing\n",
        "\n",
        "LabelEncoding = preprocessing.LabelEncoder()\n",
        "\n",
        "df['paint_color'] = LabelEncoding.fit_transform(df['paint_color'])"
      ]
    },
    {
      "cell_type": "code",
      "execution_count": 129,
      "metadata": {
        "colab": {
          "base_uri": "https://localhost:8080/"
        },
        "id": "DBw8pJFl6Deh",
        "outputId": "80cf831e-55f3-4da2-dbc8-0204346e9a63"
      },
      "outputs": [
        {
          "output_type": "execute_result",
          "data": {
            "text/plain": [
              "price           0.0\n",
              "year            0.0\n",
              "manufacturer    0.0\n",
              "condition       0.0\n",
              "cylinders       0.0\n",
              "fuel            0.0\n",
              "odometer        0.0\n",
              "title_status    0.0\n",
              "transmission    0.0\n",
              "drive           0.0\n",
              "type            0.0\n",
              "paint_color     0.0\n",
              "dtype: float64"
            ]
          },
          "metadata": {},
          "execution_count": 129
        }
      ],
      "source": [
        "# Removing the missing percentages greater than zero.\n",
        "missing_percentages =df.isna().sum().sort_values(ascending=False)/len(df)\n",
        "missing_percentages"
      ]
    },
    {
      "cell_type": "code",
      "execution_count": 130,
      "metadata": {
        "id": "fECdnOpg8LcU"
      },
      "outputs": [],
      "source": [
        "X_data = df.drop('price',axis =1 )\n",
        "y_data = df['price']"
      ]
    },
    {
      "cell_type": "code",
      "execution_count": 131,
      "metadata": {
        "id": "d6JSFab36URU"
      },
      "outputs": [],
      "source": [
        "from sklearn.model_selection import train_test_split\n",
        "\n",
        "X_train, X_test, y_train, y_test = train_test_split(X_data, y_data, test_size=0.2, random_state=42)"
      ]
    },
    {
      "cell_type": "code",
      "execution_count": 132,
      "metadata": {
        "colab": {
          "base_uri": "https://localhost:8080/"
        },
        "id": "dhUxZ9Ru7LmF",
        "outputId": "9893e819-25af-4daf-f672-e57246e8ba9d"
      },
      "outputs": [
        {
          "output_type": "stream",
          "name": "stdout",
          "text": [
            "(273288, 11) (273288,)\n",
            "(68323, 11) (68323,)\n"
          ]
        }
      ],
      "source": [
        "print (X_train.shape, y_train.shape)\n",
        "print (X_test.shape, y_test.shape)"
      ]
    },
    {
      "cell_type": "code",
      "execution_count": 133,
      "metadata": {
        "id": "km1f6mOB88sx"
      },
      "outputs": [],
      "source": [
        "# Feature Scaling\n",
        "from sklearn.preprocessing import StandardScaler\n",
        "\n",
        "sc = StandardScaler()\n",
        "X_train= sc.fit_transform(X_train)\n",
        "X_test= sc.transform(X_test)"
      ]
    },
    {
      "cell_type": "code",
      "execution_count": 134,
      "metadata": {
        "id": "58GTYSCgs5Jt"
      },
      "outputs": [],
      "source": [
        "from sklearn.preprocessing import MinMaxScaler\n",
        "sc = MinMaxScaler()   \n",
        "X_train= sc.fit_transform(X_train)\n",
        "X_test= sc.transform(X_test)"
      ]
    },
    {
      "cell_type": "code",
      "execution_count": 135,
      "metadata": {
        "colab": {
          "base_uri": "https://localhost:8080/"
        },
        "id": "_mE40lgC9ASC",
        "outputId": "9188107f-d8f3-4ec3-b855-ef7a0becc32a"
      },
      "outputs": [
        {
          "output_type": "stream",
          "name": "stdout",
          "text": [
            "n_estimators: 10\n",
            "Mean Absolute Error: 2224.09\n",
            "Mean Squared Error: 22119386.99\n",
            "Root Mean Squared Error: 4703.13\n",
            "n_estimators: 20\n",
            "Mean Absolute Error: 2167.46\n",
            "Mean Squared Error: 21184423.98\n",
            "Root Mean Squared Error: 4602.65\n",
            "n_estimators: 30\n",
            "Mean Absolute Error: 2145.86\n",
            "Mean Squared Error: 20852630.19\n",
            "Root Mean Squared Error: 4566.47\n",
            "n_estimators: 40\n",
            "Mean Absolute Error: 2134.15\n",
            "Mean Squared Error: 20690348.82\n",
            "Root Mean Squared Error: 4548.66\n",
            "n_estimators: 50\n",
            "Mean Absolute Error: 2128.42\n",
            "Mean Squared Error: 20605717.52\n",
            "Root Mean Squared Error: 4539.35\n",
            "n_estimators: 60\n",
            "Mean Absolute Error: 2124.07\n",
            "Mean Squared Error: 20532643.12\n",
            "Root Mean Squared Error: 4531.3\n",
            "n_estimators: 70\n",
            "Mean Absolute Error: 2119.98\n",
            "Mean Squared Error: 20452215.4\n",
            "Root Mean Squared Error: 4522.41\n",
            "n_estimators: 80\n",
            "Mean Absolute Error: 2116.97\n",
            "Mean Squared Error: 20395593.12\n",
            "Root Mean Squared Error: 4516.15\n",
            "n_estimators: 90\n",
            "Mean Absolute Error: 2115.67\n",
            "Mean Squared Error: 20374036.45\n",
            "Root Mean Squared Error: 4513.76\n",
            "n_estimators: 100\n",
            "Mean Absolute Error: 2113.56\n",
            "Mean Squared Error: 20347414.55\n",
            "Root Mean Squared Error: 4510.81\n"
          ]
        }
      ],
      "source": [
        "# Random Forest\n",
        "\n",
        "from sklearn.ensemble import RandomForestRegressor\n",
        "from sklearn import metrics\n",
        "from sklearn.metrics import mean_squared_error as MSE\n",
        "import numpy as np\n",
        "\n",
        "n_est = [10,20,30,40,50,60,70,80,90,100]\n",
        "for i in n_est:\n",
        "  regressor = RandomForestRegressor(n_estimators=i, random_state=42)\n",
        "  regressor.fit(X_train, y_train)\n",
        "  y_pred = regressor.predict(X_test)\n",
        "  print('n_estimators:',i)\n",
        "  print('Mean Absolute Error:', round(metrics.mean_absolute_error(y_test, y_pred),2))\n",
        "  print('Mean Squared Error:', round(metrics.mean_squared_error(y_test, y_pred),2))\n",
        "  print('Root Mean Squared Error:' , round(np.sqrt(metrics.mean_squared_error(y_test, y_pred)),2))"
      ]
    },
    {
      "cell_type": "code",
      "execution_count": 136,
      "metadata": {
        "colab": {
          "base_uri": "https://localhost:8080/"
        },
        "id": "fZ7eg_hZ_PJX",
        "outputId": "ec4af7ad-7ab2-4c8a-80b3-a2ba3714dedb"
      },
      "outputs": [
        {
          "output_type": "execute_result",
          "data": {
            "text/plain": [
              "0.8784649231893581"
            ]
          },
          "metadata": {},
          "execution_count": 136
        }
      ],
      "source": [
        "regressor.score(X_test,y_test)"
      ]
    },
    {
      "cell_type": "code",
      "execution_count": 137,
      "metadata": {
        "id": "mHk1bPrV9NQI"
      },
      "outputs": [],
      "source": [
        "# Multiple Linear Regression\n",
        "\n",
        "from sklearn.linear_model import LinearRegression\n",
        "\n",
        "Multi_Linear_model = LinearRegression()\n",
        "Multi_Linear_model.fit(X_train, y_train)\n",
        "y_pred = Multi_Linear_model.predict(X_test)\n"
      ]
    },
    {
      "cell_type": "code",
      "execution_count": 138,
      "metadata": {
        "colab": {
          "base_uri": "https://localhost:8080/"
        },
        "id": "0A09z3hs-INt",
        "outputId": "41b4fa03-fdfe-4981-ab99-0aca1659a375"
      },
      "outputs": [
        {
          "output_type": "execute_result",
          "data": {
            "text/plain": [
              "0.5369479343200012"
            ]
          },
          "metadata": {},
          "execution_count": 138
        }
      ],
      "source": [
        "from sklearn.metrics import accuracy_score\n",
        "#accuracy_score(y_test,y_pred)\n",
        "Multi_Linear_model.score(X_test,y_test)"
      ]
    },
    {
      "cell_type": "code",
      "execution_count": 139,
      "metadata": {
        "colab": {
          "base_uri": "https://localhost:8080/"
        },
        "id": "4KiM3YMU9uB1",
        "outputId": "866c725b-c236-42d1-bc8d-15704c51d632"
      },
      "outputs": [
        {
          "output_type": "stream",
          "name": "stdout",
          "text": [
            "Mean Absolute Error: 6489.38\n",
            "Mean Squared Error: 77524222.51\n",
            "Root Mean Squared Error: 8804.78\n"
          ]
        }
      ],
      "source": [
        "print('Mean Absolute Error:', round(metrics.mean_absolute_error(y_test, y_pred),2))\n",
        "print('Mean Squared Error:', round(metrics.mean_squared_error(y_test, y_pred),2))\n",
        "print('Root Mean Squared Error:', round(np.sqrt(metrics.mean_squared_error(y_test, y_pred)),2))"
      ]
    },
    {
      "cell_type": "code",
      "execution_count": 140,
      "metadata": {
        "colab": {
          "base_uri": "https://localhost:8080/"
        },
        "id": "NdLl6Q-Cs6-E",
        "outputId": "356a2982-4a3e-469d-8969-50b1cbf70b6a"
      },
      "outputs": [
        {
          "output_type": "stream",
          "name": "stdout",
          "text": [
            "n_estimators: 100\n",
            "Mean Absolute Error: 2102.0\n",
            "Mean Squared Error: 20169880.59\n",
            "Root Mean Squared Error: 4491.09\n"
          ]
        }
      ],
      "source": [
        "  regressor = RandomForestRegressor(n_estimators=300, random_state=42)\n",
        "  regressor.fit(X_train, y_train)\n",
        "  y_pred = regressor.predict(X_test)\n",
        "  print('n_estimators:',i)\n",
        "  print('Mean Absolute Error:', round(metrics.mean_absolute_error(y_test, y_pred),2))\n",
        "  print('Mean Squared Error:', round(metrics.mean_squared_error(y_test, y_pred),2))\n",
        "  print('Root Mean Squared Error:' , round(np.sqrt(metrics.mean_squared_error(y_test, y_pred)),2))"
      ]
    },
    {
      "cell_type": "code",
      "execution_count": 141,
      "metadata": {
        "id": "BjX7g-1kvqi4",
        "colab": {
          "base_uri": "https://localhost:8080/"
        },
        "outputId": "e553991d-e2c8-4fc8-c07f-83e019cfd091"
      },
      "outputs": [
        {
          "output_type": "execute_result",
          "data": {
            "text/plain": [
              "0.8795253332237268"
            ]
          },
          "metadata": {},
          "execution_count": 141
        }
      ],
      "source": [
        "regressor.score(X_test,y_test)"
      ]
    },
    {
      "cell_type": "code",
      "source": [
        ""
      ],
      "metadata": {
        "id": "MBrFkjBz_Sdp"
      },
      "execution_count": null,
      "outputs": []
    }
  ],
  "metadata": {
    "colab": {
      "name": "First_Model_Acurracy_87.95_per.ipynb",
      "provenance": [],
      "include_colab_link": true
    },
    "kernelspec": {
      "display_name": "Python 3",
      "name": "python3"
    },
    "language_info": {
      "name": "python"
    }
  },
  "nbformat": 4,
  "nbformat_minor": 0
}